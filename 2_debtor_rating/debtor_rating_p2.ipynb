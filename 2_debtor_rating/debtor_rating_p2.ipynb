{
 "cells": [
  {
   "cell_type": "markdown",
   "id": "a489f868",
   "metadata": {
    "deletable": false,
    "editable": false,
    "id": "c81daeeb"
   },
   "source": [
    "# Исследование надежности заемщиков\n"
   ]
  },
  {
   "cell_type": "markdown",
   "id": "5515c4c9",
   "metadata": {
    "deletable": false,
    "editable": false,
    "id": "827c20bf"
   },
   "source": [
    "Во второй части проекта вы выполните шаги 3 и 4. Их вручную проверит ревьюер.\n",
    "Чтобы вам не пришлось писать код заново для шагов 1 и 2, мы добавили авторские решения в ячейки с кодом. \n",
    "\n"
   ]
  },
  {
   "cell_type": "markdown",
   "id": "8432d1fc",
   "metadata": {
    "deletable": false,
    "editable": false,
    "id": "744d7639"
   },
   "source": [
    "## Откройте таблицу и изучите общую информацию о данных"
   ]
  },
  {
   "cell_type": "markdown",
   "id": "8d1d6f86",
   "metadata": {
    "deletable": false,
    "editable": false,
    "id": "e7a14c31"
   },
   "source": [
    "**Задание 1. Импортируйте библиотеку pandas. Считайте данные из csv-файла в датафрейм и сохраните в переменную `data`. Путь к файлу:**\n",
    "\n",
    "`/datasets/data.csv`"
   ]
  },
  {
   "cell_type": "code",
   "execution_count": 76,
   "id": "9bd90e69",
   "metadata": {
    "deletable": false,
    "id": "7bcf75c9"
   },
   "outputs": [],
   "source": [
    "import pandas as pd\n",
    "\n",
    "try:\n",
    "    data = pd.read_csv('/datasets/data.csv')\n",
    "except:\n",
    "    data = pd.read_csv('https://code.s3.yandex.net/datasets/data.csv')"
   ]
  },
  {
   "cell_type": "markdown",
   "id": "3c314ba6",
   "metadata": {
    "deletable": false,
    "editable": false,
    "id": "b8038fe3"
   },
   "source": [
    "**Задание 2. Выведите первые 20 строчек датафрейма `data` на экран.**"
   ]
  },
  {
   "cell_type": "code",
   "execution_count": 77,
   "id": "a27a3a72",
   "metadata": {
    "deletable": false,
    "id": "2a7cab99",
    "outputId": "1a8f3ef2-d323-4ec2-ddf7-89670b5944c4"
   },
   "outputs": [
    {
     "data": {
      "text/html": [
       "<div>\n",
       "<style scoped>\n",
       "    .dataframe tbody tr th:only-of-type {\n",
       "        vertical-align: middle;\n",
       "    }\n",
       "\n",
       "    .dataframe tbody tr th {\n",
       "        vertical-align: top;\n",
       "    }\n",
       "\n",
       "    .dataframe thead th {\n",
       "        text-align: right;\n",
       "    }\n",
       "</style>\n",
       "<table border=\"1\" class=\"dataframe\">\n",
       "  <thead>\n",
       "    <tr style=\"text-align: right;\">\n",
       "      <th></th>\n",
       "      <th>children</th>\n",
       "      <th>days_employed</th>\n",
       "      <th>dob_years</th>\n",
       "      <th>education</th>\n",
       "      <th>education_id</th>\n",
       "      <th>family_status</th>\n",
       "      <th>family_status_id</th>\n",
       "      <th>gender</th>\n",
       "      <th>income_type</th>\n",
       "      <th>debt</th>\n",
       "      <th>total_income</th>\n",
       "      <th>purpose</th>\n",
       "    </tr>\n",
       "  </thead>\n",
       "  <tbody>\n",
       "    <tr>\n",
       "      <th>0</th>\n",
       "      <td>1</td>\n",
       "      <td>-8437.673028</td>\n",
       "      <td>42</td>\n",
       "      <td>высшее</td>\n",
       "      <td>0</td>\n",
       "      <td>женат / замужем</td>\n",
       "      <td>0</td>\n",
       "      <td>F</td>\n",
       "      <td>сотрудник</td>\n",
       "      <td>0</td>\n",
       "      <td>253875.639453</td>\n",
       "      <td>покупка жилья</td>\n",
       "    </tr>\n",
       "    <tr>\n",
       "      <th>1</th>\n",
       "      <td>1</td>\n",
       "      <td>-4024.803754</td>\n",
       "      <td>36</td>\n",
       "      <td>среднее</td>\n",
       "      <td>1</td>\n",
       "      <td>женат / замужем</td>\n",
       "      <td>0</td>\n",
       "      <td>F</td>\n",
       "      <td>сотрудник</td>\n",
       "      <td>0</td>\n",
       "      <td>112080.014102</td>\n",
       "      <td>приобретение автомобиля</td>\n",
       "    </tr>\n",
       "    <tr>\n",
       "      <th>2</th>\n",
       "      <td>0</td>\n",
       "      <td>-5623.422610</td>\n",
       "      <td>33</td>\n",
       "      <td>Среднее</td>\n",
       "      <td>1</td>\n",
       "      <td>женат / замужем</td>\n",
       "      <td>0</td>\n",
       "      <td>M</td>\n",
       "      <td>сотрудник</td>\n",
       "      <td>0</td>\n",
       "      <td>145885.952297</td>\n",
       "      <td>покупка жилья</td>\n",
       "    </tr>\n",
       "    <tr>\n",
       "      <th>3</th>\n",
       "      <td>3</td>\n",
       "      <td>-4124.747207</td>\n",
       "      <td>32</td>\n",
       "      <td>среднее</td>\n",
       "      <td>1</td>\n",
       "      <td>женат / замужем</td>\n",
       "      <td>0</td>\n",
       "      <td>M</td>\n",
       "      <td>сотрудник</td>\n",
       "      <td>0</td>\n",
       "      <td>267628.550329</td>\n",
       "      <td>дополнительное образование</td>\n",
       "    </tr>\n",
       "    <tr>\n",
       "      <th>4</th>\n",
       "      <td>0</td>\n",
       "      <td>340266.072047</td>\n",
       "      <td>53</td>\n",
       "      <td>среднее</td>\n",
       "      <td>1</td>\n",
       "      <td>гражданский брак</td>\n",
       "      <td>1</td>\n",
       "      <td>F</td>\n",
       "      <td>пенсионер</td>\n",
       "      <td>0</td>\n",
       "      <td>158616.077870</td>\n",
       "      <td>сыграть свадьбу</td>\n",
       "    </tr>\n",
       "    <tr>\n",
       "      <th>5</th>\n",
       "      <td>0</td>\n",
       "      <td>-926.185831</td>\n",
       "      <td>27</td>\n",
       "      <td>высшее</td>\n",
       "      <td>0</td>\n",
       "      <td>гражданский брак</td>\n",
       "      <td>1</td>\n",
       "      <td>M</td>\n",
       "      <td>компаньон</td>\n",
       "      <td>0</td>\n",
       "      <td>255763.565419</td>\n",
       "      <td>покупка жилья</td>\n",
       "    </tr>\n",
       "    <tr>\n",
       "      <th>6</th>\n",
       "      <td>0</td>\n",
       "      <td>-2879.202052</td>\n",
       "      <td>43</td>\n",
       "      <td>высшее</td>\n",
       "      <td>0</td>\n",
       "      <td>женат / замужем</td>\n",
       "      <td>0</td>\n",
       "      <td>F</td>\n",
       "      <td>компаньон</td>\n",
       "      <td>0</td>\n",
       "      <td>240525.971920</td>\n",
       "      <td>операции с жильем</td>\n",
       "    </tr>\n",
       "    <tr>\n",
       "      <th>7</th>\n",
       "      <td>0</td>\n",
       "      <td>-152.779569</td>\n",
       "      <td>50</td>\n",
       "      <td>СРЕДНЕЕ</td>\n",
       "      <td>1</td>\n",
       "      <td>женат / замужем</td>\n",
       "      <td>0</td>\n",
       "      <td>M</td>\n",
       "      <td>сотрудник</td>\n",
       "      <td>0</td>\n",
       "      <td>135823.934197</td>\n",
       "      <td>образование</td>\n",
       "    </tr>\n",
       "    <tr>\n",
       "      <th>8</th>\n",
       "      <td>2</td>\n",
       "      <td>-6929.865299</td>\n",
       "      <td>35</td>\n",
       "      <td>ВЫСШЕЕ</td>\n",
       "      <td>0</td>\n",
       "      <td>гражданский брак</td>\n",
       "      <td>1</td>\n",
       "      <td>F</td>\n",
       "      <td>сотрудник</td>\n",
       "      <td>0</td>\n",
       "      <td>95856.832424</td>\n",
       "      <td>на проведение свадьбы</td>\n",
       "    </tr>\n",
       "    <tr>\n",
       "      <th>9</th>\n",
       "      <td>0</td>\n",
       "      <td>-2188.756445</td>\n",
       "      <td>41</td>\n",
       "      <td>среднее</td>\n",
       "      <td>1</td>\n",
       "      <td>женат / замужем</td>\n",
       "      <td>0</td>\n",
       "      <td>M</td>\n",
       "      <td>сотрудник</td>\n",
       "      <td>0</td>\n",
       "      <td>144425.938277</td>\n",
       "      <td>покупка жилья для семьи</td>\n",
       "    </tr>\n",
       "    <tr>\n",
       "      <th>10</th>\n",
       "      <td>2</td>\n",
       "      <td>-4171.483647</td>\n",
       "      <td>36</td>\n",
       "      <td>высшее</td>\n",
       "      <td>0</td>\n",
       "      <td>женат / замужем</td>\n",
       "      <td>0</td>\n",
       "      <td>M</td>\n",
       "      <td>компаньон</td>\n",
       "      <td>0</td>\n",
       "      <td>113943.491460</td>\n",
       "      <td>покупка недвижимости</td>\n",
       "    </tr>\n",
       "    <tr>\n",
       "      <th>11</th>\n",
       "      <td>0</td>\n",
       "      <td>-792.701887</td>\n",
       "      <td>40</td>\n",
       "      <td>среднее</td>\n",
       "      <td>1</td>\n",
       "      <td>женат / замужем</td>\n",
       "      <td>0</td>\n",
       "      <td>F</td>\n",
       "      <td>сотрудник</td>\n",
       "      <td>0</td>\n",
       "      <td>77069.234271</td>\n",
       "      <td>покупка коммерческой недвижимости</td>\n",
       "    </tr>\n",
       "    <tr>\n",
       "      <th>12</th>\n",
       "      <td>0</td>\n",
       "      <td>NaN</td>\n",
       "      <td>65</td>\n",
       "      <td>среднее</td>\n",
       "      <td>1</td>\n",
       "      <td>гражданский брак</td>\n",
       "      <td>1</td>\n",
       "      <td>M</td>\n",
       "      <td>пенсионер</td>\n",
       "      <td>0</td>\n",
       "      <td>NaN</td>\n",
       "      <td>сыграть свадьбу</td>\n",
       "    </tr>\n",
       "    <tr>\n",
       "      <th>13</th>\n",
       "      <td>0</td>\n",
       "      <td>-1846.641941</td>\n",
       "      <td>54</td>\n",
       "      <td>неоконченное высшее</td>\n",
       "      <td>2</td>\n",
       "      <td>женат / замужем</td>\n",
       "      <td>0</td>\n",
       "      <td>F</td>\n",
       "      <td>сотрудник</td>\n",
       "      <td>0</td>\n",
       "      <td>130458.228857</td>\n",
       "      <td>приобретение автомобиля</td>\n",
       "    </tr>\n",
       "    <tr>\n",
       "      <th>14</th>\n",
       "      <td>0</td>\n",
       "      <td>-1844.956182</td>\n",
       "      <td>56</td>\n",
       "      <td>высшее</td>\n",
       "      <td>0</td>\n",
       "      <td>гражданский брак</td>\n",
       "      <td>1</td>\n",
       "      <td>F</td>\n",
       "      <td>компаньон</td>\n",
       "      <td>1</td>\n",
       "      <td>165127.911772</td>\n",
       "      <td>покупка жилой недвижимости</td>\n",
       "    </tr>\n",
       "    <tr>\n",
       "      <th>15</th>\n",
       "      <td>1</td>\n",
       "      <td>-972.364419</td>\n",
       "      <td>26</td>\n",
       "      <td>среднее</td>\n",
       "      <td>1</td>\n",
       "      <td>женат / замужем</td>\n",
       "      <td>0</td>\n",
       "      <td>F</td>\n",
       "      <td>сотрудник</td>\n",
       "      <td>0</td>\n",
       "      <td>116820.904450</td>\n",
       "      <td>строительство собственной недвижимости</td>\n",
       "    </tr>\n",
       "    <tr>\n",
       "      <th>16</th>\n",
       "      <td>0</td>\n",
       "      <td>-1719.934226</td>\n",
       "      <td>35</td>\n",
       "      <td>среднее</td>\n",
       "      <td>1</td>\n",
       "      <td>женат / замужем</td>\n",
       "      <td>0</td>\n",
       "      <td>F</td>\n",
       "      <td>сотрудник</td>\n",
       "      <td>0</td>\n",
       "      <td>289202.704229</td>\n",
       "      <td>недвижимость</td>\n",
       "    </tr>\n",
       "    <tr>\n",
       "      <th>17</th>\n",
       "      <td>0</td>\n",
       "      <td>-2369.999720</td>\n",
       "      <td>33</td>\n",
       "      <td>высшее</td>\n",
       "      <td>0</td>\n",
       "      <td>гражданский брак</td>\n",
       "      <td>1</td>\n",
       "      <td>M</td>\n",
       "      <td>сотрудник</td>\n",
       "      <td>0</td>\n",
       "      <td>90410.586745</td>\n",
       "      <td>строительство недвижимости</td>\n",
       "    </tr>\n",
       "    <tr>\n",
       "      <th>18</th>\n",
       "      <td>0</td>\n",
       "      <td>400281.136913</td>\n",
       "      <td>53</td>\n",
       "      <td>среднее</td>\n",
       "      <td>1</td>\n",
       "      <td>вдовец / вдова</td>\n",
       "      <td>2</td>\n",
       "      <td>F</td>\n",
       "      <td>пенсионер</td>\n",
       "      <td>0</td>\n",
       "      <td>56823.777243</td>\n",
       "      <td>на покупку подержанного автомобиля</td>\n",
       "    </tr>\n",
       "    <tr>\n",
       "      <th>19</th>\n",
       "      <td>0</td>\n",
       "      <td>-10038.818549</td>\n",
       "      <td>48</td>\n",
       "      <td>СРЕДНЕЕ</td>\n",
       "      <td>1</td>\n",
       "      <td>в разводе</td>\n",
       "      <td>3</td>\n",
       "      <td>F</td>\n",
       "      <td>сотрудник</td>\n",
       "      <td>0</td>\n",
       "      <td>242831.107982</td>\n",
       "      <td>на покупку своего автомобиля</td>\n",
       "    </tr>\n",
       "  </tbody>\n",
       "</table>\n",
       "</div>"
      ],
      "text/plain": [
       "    children  days_employed  dob_years            education  education_id  \\\n",
       "0          1   -8437.673028         42               высшее             0   \n",
       "1          1   -4024.803754         36              среднее             1   \n",
       "2          0   -5623.422610         33              Среднее             1   \n",
       "3          3   -4124.747207         32              среднее             1   \n",
       "4          0  340266.072047         53              среднее             1   \n",
       "5          0    -926.185831         27               высшее             0   \n",
       "6          0   -2879.202052         43               высшее             0   \n",
       "7          0    -152.779569         50              СРЕДНЕЕ             1   \n",
       "8          2   -6929.865299         35               ВЫСШЕЕ             0   \n",
       "9          0   -2188.756445         41              среднее             1   \n",
       "10         2   -4171.483647         36               высшее             0   \n",
       "11         0    -792.701887         40              среднее             1   \n",
       "12         0            NaN         65              среднее             1   \n",
       "13         0   -1846.641941         54  неоконченное высшее             2   \n",
       "14         0   -1844.956182         56               высшее             0   \n",
       "15         1    -972.364419         26              среднее             1   \n",
       "16         0   -1719.934226         35              среднее             1   \n",
       "17         0   -2369.999720         33               высшее             0   \n",
       "18         0  400281.136913         53              среднее             1   \n",
       "19         0  -10038.818549         48              СРЕДНЕЕ             1   \n",
       "\n",
       "       family_status  family_status_id gender income_type  debt  \\\n",
       "0    женат / замужем                 0      F   сотрудник     0   \n",
       "1    женат / замужем                 0      F   сотрудник     0   \n",
       "2    женат / замужем                 0      M   сотрудник     0   \n",
       "3    женат / замужем                 0      M   сотрудник     0   \n",
       "4   гражданский брак                 1      F   пенсионер     0   \n",
       "5   гражданский брак                 1      M   компаньон     0   \n",
       "6    женат / замужем                 0      F   компаньон     0   \n",
       "7    женат / замужем                 0      M   сотрудник     0   \n",
       "8   гражданский брак                 1      F   сотрудник     0   \n",
       "9    женат / замужем                 0      M   сотрудник     0   \n",
       "10   женат / замужем                 0      M   компаньон     0   \n",
       "11   женат / замужем                 0      F   сотрудник     0   \n",
       "12  гражданский брак                 1      M   пенсионер     0   \n",
       "13   женат / замужем                 0      F   сотрудник     0   \n",
       "14  гражданский брак                 1      F   компаньон     1   \n",
       "15   женат / замужем                 0      F   сотрудник     0   \n",
       "16   женат / замужем                 0      F   сотрудник     0   \n",
       "17  гражданский брак                 1      M   сотрудник     0   \n",
       "18    вдовец / вдова                 2      F   пенсионер     0   \n",
       "19         в разводе                 3      F   сотрудник     0   \n",
       "\n",
       "     total_income                                 purpose  \n",
       "0   253875.639453                           покупка жилья  \n",
       "1   112080.014102                 приобретение автомобиля  \n",
       "2   145885.952297                           покупка жилья  \n",
       "3   267628.550329              дополнительное образование  \n",
       "4   158616.077870                         сыграть свадьбу  \n",
       "5   255763.565419                           покупка жилья  \n",
       "6   240525.971920                       операции с жильем  \n",
       "7   135823.934197                             образование  \n",
       "8    95856.832424                   на проведение свадьбы  \n",
       "9   144425.938277                 покупка жилья для семьи  \n",
       "10  113943.491460                    покупка недвижимости  \n",
       "11   77069.234271       покупка коммерческой недвижимости  \n",
       "12            NaN                         сыграть свадьбу  \n",
       "13  130458.228857                 приобретение автомобиля  \n",
       "14  165127.911772              покупка жилой недвижимости  \n",
       "15  116820.904450  строительство собственной недвижимости  \n",
       "16  289202.704229                            недвижимость  \n",
       "17   90410.586745              строительство недвижимости  \n",
       "18   56823.777243      на покупку подержанного автомобиля  \n",
       "19  242831.107982            на покупку своего автомобиля  "
      ]
     },
     "execution_count": 77,
     "metadata": {},
     "output_type": "execute_result"
    }
   ],
   "source": [
    "data.head(20)"
   ]
  },
  {
   "cell_type": "markdown",
   "id": "f3684e97",
   "metadata": {
    "deletable": false,
    "editable": false,
    "id": "1c12e233"
   },
   "source": [
    "**Задание 3. Выведите основную информацию о датафрейме с помощью метода `info()`.**"
   ]
  },
  {
   "cell_type": "code",
   "execution_count": 78,
   "id": "8f94ae42",
   "metadata": {
    "deletable": false,
    "id": "2b757bca",
    "outputId": "15376089-8dad-46c9-b520-c05248d43158"
   },
   "outputs": [
    {
     "name": "stdout",
     "output_type": "stream",
     "text": [
      "<class 'pandas.core.frame.DataFrame'>\n",
      "RangeIndex: 21525 entries, 0 to 21524\n",
      "Data columns (total 12 columns):\n",
      " #   Column            Non-Null Count  Dtype  \n",
      "---  ------            --------------  -----  \n",
      " 0   children          21525 non-null  int64  \n",
      " 1   days_employed     19351 non-null  float64\n",
      " 2   dob_years         21525 non-null  int64  \n",
      " 3   education         21525 non-null  object \n",
      " 4   education_id      21525 non-null  int64  \n",
      " 5   family_status     21525 non-null  object \n",
      " 6   family_status_id  21525 non-null  int64  \n",
      " 7   gender            21525 non-null  object \n",
      " 8   income_type       21525 non-null  object \n",
      " 9   debt              21525 non-null  int64  \n",
      " 10  total_income      19351 non-null  float64\n",
      " 11  purpose           21525 non-null  object \n",
      "dtypes: float64(2), int64(5), object(5)\n",
      "memory usage: 2.0+ MB\n"
     ]
    }
   ],
   "source": [
    "data.info()"
   ]
  },
  {
   "cell_type": "markdown",
   "id": "9e863de4",
   "metadata": {
    "deletable": false,
    "editable": false,
    "id": "333ec665"
   },
   "source": [
    "## Предобработка данных"
   ]
  },
  {
   "cell_type": "markdown",
   "id": "96e68d7d",
   "metadata": {
    "deletable": false,
    "editable": false,
    "id": "02d92d53"
   },
   "source": [
    "### Удаление пропусков"
   ]
  },
  {
   "cell_type": "markdown",
   "id": "13b19537",
   "metadata": {
    "deletable": false,
    "editable": false,
    "id": "cd84967c"
   },
   "source": [
    "**Задание 4. Выведите количество пропущенных значений для каждого столбца. Используйте комбинацию двух методов.**"
   ]
  },
  {
   "cell_type": "code",
   "execution_count": 79,
   "id": "a84c61dd",
   "metadata": {
    "deletable": false,
    "id": "7f9b2309",
    "outputId": "81f4d817-781c-465c-ed15-91ce4446810d"
   },
   "outputs": [
    {
     "data": {
      "text/plain": [
       "children               0\n",
       "days_employed       2174\n",
       "dob_years              0\n",
       "education              0\n",
       "education_id           0\n",
       "family_status          0\n",
       "family_status_id       0\n",
       "gender                 0\n",
       "income_type            0\n",
       "debt                   0\n",
       "total_income        2174\n",
       "purpose                0\n",
       "dtype: int64"
      ]
     },
     "execution_count": 79,
     "metadata": {},
     "output_type": "execute_result"
    }
   ],
   "source": [
    "data.isna().sum()"
   ]
  },
  {
   "cell_type": "markdown",
   "id": "d98cb546",
   "metadata": {
    "deletable": false,
    "editable": false,
    "id": "db86e27b"
   },
   "source": [
    "**Задание 5. В двух столбцах есть пропущенные значения. Один из них — `days_employed`. Пропуски в этом столбце вы обработаете на следующем этапе. Другой столбец с пропущенными значениями — `total_income` — хранит данные о доходах. На сумму дохода сильнее всего влияет тип занятости, поэтому заполнить пропуски в этом столбце нужно медианным значением по каждому типу из столбца `income_type`. Например, у человека с типом занятости `сотрудник` пропуск в столбце `total_income` должен быть заполнен медианным доходом среди всех записей с тем же типом.**"
   ]
  },
  {
   "cell_type": "code",
   "execution_count": 80,
   "id": "17fbffb6",
   "metadata": {
    "deletable": false,
    "id": "42006a93"
   },
   "outputs": [],
   "source": [
    "for t in data['income_type'].unique():\n",
    "    data.loc[(data['income_type'] == t) & (data['total_income'].isna()), 'total_income'] = \\\n",
    "    data.loc[(data['income_type'] == t), 'total_income'].median()"
   ]
  },
  {
   "cell_type": "markdown",
   "id": "410848a2",
   "metadata": {
    "deletable": false,
    "editable": false,
    "id": "89da5ece"
   },
   "source": [
    "### Обработка аномальных значений"
   ]
  },
  {
   "cell_type": "markdown",
   "id": "e78a6bd2",
   "metadata": {
    "deletable": false,
    "editable": false,
    "id": "57964554"
   },
   "source": [
    "**Задание 6. В данных могут встречаться артефакты (аномалии) — значения, которые не отражают действительность и появились по какой-то ошибке. таким артефактом будет отрицательное количество дней трудового стажа в столбце `days_employed`. Для реальных данных это нормально. Обработайте значения в этом столбце: замените все отрицательные значения положительными с помощью метода `abs()`.**"
   ]
  },
  {
   "cell_type": "code",
   "execution_count": 81,
   "id": "333a59fa",
   "metadata": {
    "deletable": false,
    "id": "f6f055bf"
   },
   "outputs": [],
   "source": [
    "data['days_employed'] = data['days_employed'].abs()"
   ]
  },
  {
   "cell_type": "markdown",
   "id": "a11eeccb",
   "metadata": {
    "deletable": false,
    "editable": false,
    "id": "6107dd2f"
   },
   "source": [
    "**Задание 7. Для каждого типа занятости выведите медианное значение трудового стажа `days_employed` в днях.**"
   ]
  },
  {
   "cell_type": "code",
   "execution_count": 82,
   "id": "e1a025ec",
   "metadata": {
    "deletable": false,
    "id": "85a5faf6",
    "outputId": "801ef80e-522b-4668-f34e-565af7432bcf"
   },
   "outputs": [
    {
     "data": {
      "text/plain": [
       "income_type\n",
       "безработный        366413.652744\n",
       "в декрете            3296.759962\n",
       "госслужащий          2689.368353\n",
       "компаньон            1547.382223\n",
       "пенсионер          365213.306266\n",
       "предприниматель       520.848083\n",
       "сотрудник            1574.202821\n",
       "студент               578.751554\n",
       "Name: days_employed, dtype: float64"
      ]
     },
     "execution_count": 82,
     "metadata": {},
     "output_type": "execute_result"
    }
   ],
   "source": [
    "data.groupby('income_type')['days_employed'].agg('median')"
   ]
  },
  {
   "cell_type": "markdown",
   "id": "81279857",
   "metadata": {
    "deletable": false,
    "editable": false,
    "id": "38d1a030"
   },
   "source": [
    "У двух типов (безработные и пенсионеры) получатся аномально большие значения. Исправить такие значения сложно, поэтому оставьте их как есть. Тем более этот столбец не понадобится вам для исследования."
   ]
  },
  {
   "cell_type": "markdown",
   "id": "f94466af",
   "metadata": {
    "deletable": false,
    "editable": false,
    "id": "d8a9f147"
   },
   "source": [
    "**Задание 8. Выведите перечень уникальных значений столбца `children`.**"
   ]
  },
  {
   "cell_type": "code",
   "execution_count": 83,
   "id": "20bc9b57",
   "metadata": {
    "deletable": false,
    "id": "ef5056eb",
    "outputId": "6975b15c-7f95-4697-d16d-a0c79b657b03"
   },
   "outputs": [
    {
     "data": {
      "text/plain": [
       "array([ 1,  0,  3,  2, -1,  4, 20,  5])"
      ]
     },
     "execution_count": 83,
     "metadata": {},
     "output_type": "execute_result"
    }
   ],
   "source": [
    "data['children'].unique()"
   ]
  },
  {
   "cell_type": "markdown",
   "id": "f583a020",
   "metadata": {
    "deletable": false,
    "editable": false,
    "id": "40b9ebf2"
   },
   "source": [
    "**Задание 9. В столбце `children` есть два аномальных значения. Удалите строки, в которых встречаются такие аномальные значения из датафрейма `data`.**"
   ]
  },
  {
   "cell_type": "code",
   "execution_count": 84,
   "id": "f6cb0021",
   "metadata": {
    "deletable": false,
    "id": "3ff9801d"
   },
   "outputs": [],
   "source": [
    "data = data[(data['children'] != -1) & (data['children'] != 20)]"
   ]
  },
  {
   "cell_type": "markdown",
   "id": "d4ff036c",
   "metadata": {
    "deletable": false,
    "editable": false,
    "id": "bbc4d0ce"
   },
   "source": [
    "**Задание 10. Ещё раз выведите перечень уникальных значений столбца `children`, чтобы убедиться, что артефакты удалены.**"
   ]
  },
  {
   "cell_type": "code",
   "execution_count": 85,
   "id": "cd8cefb0",
   "metadata": {
    "deletable": false,
    "id": "ad4fa8b7",
    "outputId": "b2097101-d49d-44d9-901b-32a65c9463d1"
   },
   "outputs": [
    {
     "data": {
      "text/plain": [
       "array([1, 0, 3, 2, 4, 5])"
      ]
     },
     "execution_count": 85,
     "metadata": {},
     "output_type": "execute_result"
    }
   ],
   "source": [
    "data['children'].unique()"
   ]
  },
  {
   "cell_type": "markdown",
   "id": "794f04b1",
   "metadata": {
    "deletable": false,
    "editable": false,
    "id": "75440b63"
   },
   "source": [
    "### Удаление пропусков (продолжение)"
   ]
  },
  {
   "cell_type": "markdown",
   "id": "85156718",
   "metadata": {
    "deletable": false,
    "editable": false,
    "id": "f4ea573f"
   },
   "source": [
    "**Задание 11. Заполните пропуски в столбце `days_employed` медианными значениями по каждого типа занятости `income_type`.**"
   ]
  },
  {
   "cell_type": "code",
   "execution_count": 86,
   "id": "15fbe651",
   "metadata": {
    "deletable": false,
    "id": "af6b1a7e"
   },
   "outputs": [],
   "source": [
    "for t in data['income_type'].unique():\n",
    "    data.loc[(data['income_type'] == t) & (data['days_employed'].isna()), 'days_employed'] = \\\n",
    "    data.loc[(data['income_type'] == t), 'days_employed'].median()"
   ]
  },
  {
   "cell_type": "markdown",
   "id": "3b8bcbd3",
   "metadata": {
    "deletable": false,
    "editable": false,
    "id": "2753f40d"
   },
   "source": [
    "**Задание 12. Убедитесь, что все пропуски заполнены. Проверьте себя и ещё раз выведите количество пропущенных значений для каждого столбца с помощью двух методов.**"
   ]
  },
  {
   "cell_type": "code",
   "execution_count": 87,
   "id": "0d8ec003",
   "metadata": {
    "deletable": false,
    "id": "55f78bc2",
    "outputId": "8da1e4e1-358e-4e87-98c9-f261bce0a7b2"
   },
   "outputs": [
    {
     "data": {
      "text/plain": [
       "children            0\n",
       "days_employed       0\n",
       "dob_years           0\n",
       "education           0\n",
       "education_id        0\n",
       "family_status       0\n",
       "family_status_id    0\n",
       "gender              0\n",
       "income_type         0\n",
       "debt                0\n",
       "total_income        0\n",
       "purpose             0\n",
       "dtype: int64"
      ]
     },
     "execution_count": 87,
     "metadata": {},
     "output_type": "execute_result"
    }
   ],
   "source": [
    "data.isna().sum()"
   ]
  },
  {
   "cell_type": "markdown",
   "id": "fd4bb825",
   "metadata": {
    "deletable": false,
    "editable": false,
    "id": "ddc81e43"
   },
   "source": [
    "### Изменение типов данных"
   ]
  },
  {
   "cell_type": "markdown",
   "id": "2fca3bdf",
   "metadata": {
    "deletable": false,
    "editable": false,
    "id": "42d19d24"
   },
   "source": [
    "**Задание 13. Замените вещественный тип данных в столбце `total_income` на целочисленный с помощью метода `astype()`.**"
   ]
  },
  {
   "cell_type": "code",
   "execution_count": 88,
   "id": "40e16ccb",
   "metadata": {
    "deletable": false,
    "id": "920b65ad"
   },
   "outputs": [],
   "source": [
    "data['total_income'] = data['total_income'].astype(int)"
   ]
  },
  {
   "cell_type": "markdown",
   "id": "26846b6a",
   "metadata": {
    "deletable": false,
    "editable": false,
    "id": "80c420ba"
   },
   "source": [
    "### Обработка дубликатов"
   ]
  },
  {
   "cell_type": "markdown",
   "id": "6cb0635e",
   "metadata": {
    "deletable": false,
    "editable": false
   },
   "source": [
    "**Задание 14. Обработайте неявные дубликаты в столбце `education`. В этом столбце есть одни и те же значения, но записанные по-разному: с использованием заглавных и строчных букв. Приведите их к нижнему регистру. Проверьте остальные столбцы.**"
   ]
  },
  {
   "cell_type": "code",
   "execution_count": 89,
   "id": "b9a06eed",
   "metadata": {
    "deletable": false
   },
   "outputs": [],
   "source": [
    "data['education'] = data['education'].str.lower()"
   ]
  },
  {
   "cell_type": "markdown",
   "id": "c60f58fd",
   "metadata": {
    "deletable": false,
    "editable": false,
    "id": "dc587695"
   },
   "source": [
    "**Задание 15. Выведите на экран количество строк-дубликатов в данных. Если такие строки присутствуют, удалите их.**"
   ]
  },
  {
   "cell_type": "code",
   "execution_count": 90,
   "id": "03fcd32b",
   "metadata": {
    "deletable": false,
    "id": "3ee445e4",
    "outputId": "9684deba-1934-42d1-99e1-cda61740f822"
   },
   "outputs": [
    {
     "data": {
      "text/plain": [
       "71"
      ]
     },
     "execution_count": 90,
     "metadata": {},
     "output_type": "execute_result"
    }
   ],
   "source": [
    "data.duplicated().sum()"
   ]
  },
  {
   "cell_type": "code",
   "execution_count": 91,
   "id": "ab161107",
   "metadata": {
    "deletable": false,
    "id": "8575fe05"
   },
   "outputs": [],
   "source": [
    "data = data.drop_duplicates()"
   ]
  },
  {
   "cell_type": "markdown",
   "id": "ff1166a2",
   "metadata": {
    "deletable": false,
    "editable": false,
    "id": "9904cf55"
   },
   "source": [
    "### Категоризация данных"
   ]
  },
  {
   "cell_type": "markdown",
   "id": "77c2f976",
   "metadata": {
    "deletable": false,
    "editable": false,
    "id": "72fcc8a2"
   },
   "source": [
    "**Задание 16. На основании диапазонов, указанных ниже, создайте в датафрейме `data` столбец `total_income_category` с категориями:**\n",
    "\n",
    "- 0–30000 — `'E'`;\n",
    "- 30001–50000 — `'D'`;\n",
    "- 50001–200000 — `'C'`;\n",
    "- 200001–1000000 — `'B'`;\n",
    "- 1000001 и выше — `'A'`.\n",
    "\n",
    "\n",
    "**Например, кредитополучателю с доходом 25000 нужно назначить категорию `'E'`, а клиенту, получающему 235000, — `'B'`. Используйте собственную функцию с именем `categorize_income()` и метод `apply()`.**"
   ]
  },
  {
   "cell_type": "code",
   "execution_count": 92,
   "id": "80933903",
   "metadata": {
    "deletable": false,
    "id": "e1771346"
   },
   "outputs": [],
   "source": [
    "def categorize_income(income):\n",
    "    try:\n",
    "        if 0 <= income <= 30000:\n",
    "            return 'E'\n",
    "        elif 30001 <= income <= 50000:\n",
    "            return 'D'\n",
    "        elif 50001 <= income <= 200000:\n",
    "            return 'C'\n",
    "        elif 200001 <= income <= 1000000:\n",
    "            return 'B'\n",
    "        elif income >= 1000001:\n",
    "            return 'A'\n",
    "    except:\n",
    "        pass"
   ]
  },
  {
   "cell_type": "code",
   "execution_count": 93,
   "id": "f9a9a461",
   "metadata": {
    "deletable": false,
    "id": "d5f3586d"
   },
   "outputs": [],
   "source": [
    "data['total_income_category'] = data['total_income'].apply(categorize_income)"
   ]
  },
  {
   "cell_type": "markdown",
   "id": "1b2a43c4",
   "metadata": {
    "deletable": false,
    "editable": false,
    "id": "dde49b5c"
   },
   "source": [
    "**Задание 17. Выведите на экран перечень уникальных целей взятия кредита из столбца `purpose`.**"
   ]
  },
  {
   "cell_type": "code",
   "execution_count": 94,
   "id": "5f7cc932",
   "metadata": {
    "deletable": false,
    "id": "f67ce9b3",
    "outputId": "673c12d9-7d7e-4ae0-9812-c622c89dd244"
   },
   "outputs": [
    {
     "data": {
      "text/plain": [
       "array(['покупка жилья', 'приобретение автомобиля',\n",
       "       'дополнительное образование', 'сыграть свадьбу',\n",
       "       'операции с жильем', 'образование', 'на проведение свадьбы',\n",
       "       'покупка жилья для семьи', 'покупка недвижимости',\n",
       "       'покупка коммерческой недвижимости', 'покупка жилой недвижимости',\n",
       "       'строительство собственной недвижимости', 'недвижимость',\n",
       "       'строительство недвижимости', 'на покупку подержанного автомобиля',\n",
       "       'на покупку своего автомобиля',\n",
       "       'операции с коммерческой недвижимостью',\n",
       "       'строительство жилой недвижимости', 'жилье',\n",
       "       'операции со своей недвижимостью', 'автомобили',\n",
       "       'заняться образованием', 'сделка с подержанным автомобилем',\n",
       "       'получение образования', 'автомобиль', 'свадьба',\n",
       "       'получение дополнительного образования', 'покупка своего жилья',\n",
       "       'операции с недвижимостью', 'получение высшего образования',\n",
       "       'свой автомобиль', 'сделка с автомобилем',\n",
       "       'профильное образование', 'высшее образование',\n",
       "       'покупка жилья для сдачи', 'на покупку автомобиля', 'ремонт жилью',\n",
       "       'заняться высшим образованием'], dtype=object)"
      ]
     },
     "execution_count": 94,
     "metadata": {},
     "output_type": "execute_result"
    }
   ],
   "source": [
    "data['purpose'].unique()"
   ]
  },
  {
   "cell_type": "markdown",
   "id": "242d1437",
   "metadata": {
    "deletable": false,
    "editable": false,
    "id": "85d0aef0"
   },
   "source": [
    "**Задание 18. Создайте функцию, которая на основании данных из столбца `purpose` сформирует новый столбец `purpose_category`, в который войдут следующие категории:**\n",
    "\n",
    "- `'операции с автомобилем'`,\n",
    "- `'операции с недвижимостью'`,\n",
    "- `'проведение свадьбы'`,\n",
    "- `'получение образования'`.\n",
    "\n",
    "**Например, если в столбце `purpose` находится подстрока `'на покупку автомобиля'`, то в столбце `purpose_category` должна появиться строка `'операции с автомобилем'`.**\n",
    "\n",
    "**Используйте собственную функцию с именем `categorize_purpose()` и метод `apply()`. Изучите данные в столбце `purpose` и определите, какие подстроки помогут вам правильно определить категорию.**"
   ]
  },
  {
   "cell_type": "code",
   "execution_count": 95,
   "id": "3f5f8b42",
   "metadata": {
    "deletable": false,
    "id": "e149fab4"
   },
   "outputs": [],
   "source": [
    "def categorize_purpose(row):\n",
    "    try:\n",
    "        if 'автом' in row:\n",
    "            return 'операции с автомобилем'\n",
    "        elif 'жил' in row or 'недвиж' in row:\n",
    "            return 'операции с недвижимостью'\n",
    "        elif 'свад' in row:\n",
    "            return 'проведение свадьбы'\n",
    "        elif 'образов' in row:\n",
    "            return 'получение образования'\n",
    "    except:\n",
    "        return 'нет категории'"
   ]
  },
  {
   "cell_type": "code",
   "execution_count": 96,
   "id": "5d71373c",
   "metadata": {
    "deletable": false,
    "id": "bf36e69b"
   },
   "outputs": [],
   "source": [
    "data['purpose_category'] = data['purpose'].apply(categorize_purpose)"
   ]
  },
  {
   "cell_type": "markdown",
   "id": "ce36d8af",
   "metadata": {
    "deletable": false,
    "editable": false,
    "id": "09b242bf"
   },
   "source": [
    "### Шаг 3. Исследуйте данные и ответьте на вопросы"
   ]
  },
  {
   "cell_type": "markdown",
   "id": "01bb3d84",
   "metadata": {
    "deletable": false,
    "editable": false,
    "id": "c5d66278"
   },
   "source": [
    "#### 3.1 Есть ли зависимость между количеством детей и возвратом кредита в срок?"
   ]
  },
  {
   "cell_type": "code",
   "execution_count": 97,
   "id": "dd55ba7a",
   "metadata": {
    "deletable": false,
    "id": "2cacfc4a"
   },
   "outputs": [
    {
     "name": "stdout",
     "output_type": "stream",
     "text": [
      "Доля от общего количества должников:\n",
      "Нет детей: 61.37%\n",
      "Один ребенок: 25.64%\n",
      "Два ребенка:  11.20%\n",
      "Три и более:  1.79%\n",
      "\n"
     ]
    },
    {
     "data": {
      "image/png": "[encoded data removed]",
      "text/plain": [
       "<Figure size 432x288 with 1 Axes>"
      ]
     },
     "metadata": {
      "needs_background": "light"
     },
     "output_type": "display_data"
    }
   ],
   "source": [
    "# Ваш код будет здесь. Вы можете создавать новые ячейки.\n",
    "import seaborn as sns\n",
    "children_debt = data.groupby(by='children')['debt'].sum()\n",
    "\n",
    "sns.barplot(x=children_debt.index.tolist(), y=children_debt.tolist())\n",
    "\n",
    "sum_debts = data.groupby(by='children')['debt'].sum().sum()\n",
    "\n",
    "print(f'''Доля от общего количества должников:\n",
    "Нет детей: {children_debt[0] / sum_debts:.2%}\n",
    "Один ребенок: {children_debt[1] / sum_debts:.2%}\n",
    "Два ребенка:  {children_debt[2] / sum_debts:.2%}\n",
    "Три и более:  {children_debt[3:5].sum() / sum_debts:.2%}\n",
    "''')"
   ]
  },
  {
   "cell_type": "code",
   "execution_count": 98,
   "id": "86aa8176",
   "metadata": {
    "deletable": false,
    "id": "3a6b99ec"
   },
   "outputs": [
    {
     "name": "stdout",
     "output_type": "stream",
     "text": [
      "Доля должников по отношению к своей группе:\n",
      "Нет детей: 7.54%\n",
      "Один ребенок: 9.23%\n",
      "Два ребенка:  9.45%\n",
      "Три ребенка:  8.18%\n",
      "Четыре ребенка:  9.76%\n",
      "Пять детей:  0.00%\n",
      "\n"
     ]
    },
    {
     "data": {
      "text/plain": [
       "<AxesSubplot:>"
      ]
     },
     "execution_count": 98,
     "metadata": {},
     "output_type": "execute_result"
    },
    {
     "data": {
      "image/png": "[encoded data removed]",
      "text/plain": [
       "<Figure size 432x288 with 1 Axes>"
      ]
     },
     "metadata": {
      "needs_background": "light"
     },
     "output_type": "display_data"
    }
   ],
   "source": [
    "debt_to_debt = children_debt / data.groupby(by='children')['debt'].count()\n",
    "print(f'''Доля должников по отношению к своей группе:\n",
    "Нет детей: {debt_to_debt[0]:.2%}\n",
    "Один ребенок: {debt_to_debt[1]:.2%}\n",
    "Два ребенка:  {debt_to_debt[2]:.2%}\n",
    "Три ребенка:  {debt_to_debt[3]:.2%}\n",
    "Четыре ребенка:  {debt_to_debt[4]:.2%}\n",
    "Пять детей:  {debt_to_debt[5]:.2%}\n",
    "''')\n",
    "sns.barplot(x=debt_to_debt.index.tolist(), y=debt_to_debt.tolist())\n"
   ]
  },
  {
   "cell_type": "code",
   "execution_count": 135,
   "id": "e8f6fdc0",
   "metadata": {},
   "outputs": [
    {
     "name": "stdout",
     "output_type": "stream",
     "text": [
      "           sum  count   precent\n",
      "children                       \n",
      "0         1063  14091  0.075438\n",
      "1          444   4808  0.092346\n",
      "2          194   2052  0.094542\n",
      "3           27    330  0.081818\n",
      "4            4     41  0.097561\n",
      "5            0      9  0.000000\n"
     ]
    },
    {
     "data": {
      "text/plain": [
       "<AxesSubplot:>"
      ]
     },
     "metadata": {},
     "output_type": "display_data"
    },
    {
     "data": {
      "image/png": "[encoded data removed]",
      "text/plain": [
       "<Figure size 432x288 with 1 Axes>"
      ]
     },
     "metadata": {
      "needs_background": "light"
     },
     "output_type": "display_data"
    }
   ],
   "source": [
    "group_children = data.groupby(by='children')['debt'].agg(['sum', 'count'])\n",
    "group_children['precent'] = group_children['sum'] / group_children['count']\n",
    "print(group_children)\n",
    "sns.barplot(x=group_children.index.tolist(), y=group_children['precent'].tolist())"
   ]
  },
  {
   "cell_type": "markdown",
   "id": "d321fe52",
   "metadata": {},
   "source": [
    "Рисунок 1."
   ]
  },
  {
   "cell_type": "markdown",
   "id": "c52ec68a",
   "metadata": {},
   "source": [
    "**Вывод:** \n",
    "Наибольший процент просроченных кредитов наблюдается среди заёмщиков без детей ввиду высокой численности этой группы, при пересчете по отношению к группе, самая большая доля просроченных платежей наблюдается среди семей с четырьмя, двумя и одним ребенком. Наиболее ответственными кредитополучателями являются заёмщики без детей. Однако выборка не сбалансировна, группы имеют разные размеры."
   ]
  },
  {
   "cell_type": "markdown",
   "id": "d8b1afd3",
   "metadata": {
    "deletable": false,
    "editable": false,
    "id": "97be82ca"
   },
   "source": [
    "#### 3.2 Есть ли зависимость между семейным положением и возвратом кредита в срок?"
   ]
  },
  {
   "cell_type": "code",
   "execution_count": 122,
   "id": "9a023a05",
   "metadata": {
    "deletable": false,
    "id": "dc3f7ee8"
   },
   "outputs": [
    {
     "name": "stdout",
     "output_type": "stream",
     "text": [
      "Доля должников по отношению к группе (%):\n",
      " family_status          family_status_id\n",
      "Не женат / не замужем  4                   9.76\n",
      "гражданский брак       1                   9.31\n",
      "женат / замужем        0                   7.56\n",
      "в разводе              3                   7.06\n",
      "вдовец / вдова         2                   6.62\n",
      "Name: debt, dtype: float64\n"
     ]
    },
    {
     "data": {
      "image/png": "[encoded data removed]",
      "text/plain": [
       "<Figure size 432x288 with 1 Axes>"
      ]
     },
     "metadata": {
      "needs_background": "light"
     },
     "output_type": "display_data"
    }
   ],
   "source": [
    "# Ваш код будет здесь. Вы можете создавать новые ячейки.\n",
    "family_status_debt = data.groupby(['family_status', 'family_status_id'])['debt'].sum()\n",
    "debt_to_debt_family_status = family_status_debt / data.groupby(by='family_status')['debt'].count()\n",
    "\n",
    "family_status_id = []\n",
    "\n",
    "for i in range(len(debt_to_debt_family_status)):\n",
    "    family_status_id.append(debt_to_debt_family_status.index[i][1])\n",
    "\n",
    "sns.barplot(x=family_status_id, y=debt_to_debt_family_status.tolist())\n",
    "\n",
    "\n",
    "print('Доля должников по отношению к группе (%):\\n', (debt_to_debt_family_status.sort_values(ascending=False) // 0.0001).astype('int') * 0.01)\n"
   ]
  },
  {
   "cell_type": "code",
   "execution_count": 123,
   "id": "7de797c9",
   "metadata": {},
   "outputs": [],
   "source": [
    "# группируем должников по семейному положению включая id статуса\n",
    "family_status_debt_new = data.groupby(['family_status', 'family_status_id'])['debt'].agg(['sum', 'count'])"
   ]
  },
  {
   "cell_type": "code",
   "execution_count": 124,
   "id": "05ef462d",
   "metadata": {},
   "outputs": [],
   "source": [
    "# производим рассчёт доли должников по каждой группе\n",
    "family_status_debt_new['percent'] = family_status_debt_new['sum'] / family_status_debt_new['count']"
   ]
  },
  {
   "cell_type": "code",
   "execution_count": 125,
   "id": "f9a8992c",
   "metadata": {},
   "outputs": [],
   "source": [
    "# переносим id статуса из индекса в столбец для формирования диаграммы\n",
    "family_status_debt_new['index'] = family_status_debt_new.index.get_level_values(1)"
   ]
  },
  {
   "cell_type": "code",
   "execution_count": 126,
   "id": "520bf630",
   "metadata": {},
   "outputs": [
    {
     "name": "stdout",
     "output_type": "stream",
     "text": [
      "                       sum  count   percent  index\n",
      "family_status                                     \n",
      "Не женат / не замужем  273   2796  0.097639      4\n",
      "в разводе               84   1189  0.070648      3\n",
      "вдовец / вдова          63    951  0.066246      2\n",
      "гражданский брак       385   4134  0.093130      1\n",
      "женат / замужем        927  12261  0.075606      0\n"
     ]
    },
    {
     "data": {
      "text/plain": [
       "<AxesSubplot:>"
      ]
     },
     "execution_count": 126,
     "metadata": {},
     "output_type": "execute_result"
    },
    {
     "data": {
      "image/png": "[encoded data removed]",
      "text/plain": [
       "<Figure size 432x288 with 1 Axes>"
      ]
     },
     "metadata": {
      "needs_background": "light"
     },
     "output_type": "display_data"
    }
   ],
   "source": [
    "# избавляемся от лишнего индекса и выводим данные\n",
    "family_status_debt_new = family_status_debt_new.droplevel(level=1)\n",
    "print(family_status_debt_new)\n",
    "sns.barplot(x=family_status_debt_new['index'].tolist(), y=family_status_debt_new['percent'].tolist())"
   ]
  },
  {
   "cell_type": "markdown",
   "id": "079f39b3",
   "metadata": {},
   "source": [
    "Рисунок 2."
   ]
  },
  {
   "cell_type": "markdown",
   "id": "4ab04547",
   "metadata": {
    "deletable": false,
    "id": "1cef7837"
   },
   "source": [
    "**Вывод:** Наибольшая доля должников в категории \"Не женат / не замужем\" и \"гражданский брак\". Женатые/замужние или бывшие в браке проявляют большую ответственность при взврате средств."
   ]
  },
  {
   "cell_type": "markdown",
   "id": "160ea29a",
   "metadata": {},
   "source": [
    "<div class=\"alert alert-success\">\n",
    "<b>ОТЛИЧНО! 👍</b>\n",
    "\n",
    "Здесь также верно. Кредитному отделу следует с осторожностью относиться к клиентам, которые не состоят или не состояли в браке. Согласно данным такие клиенты менее ответственные. Получается, что узаконенные отношения ведут к более ответственному отношению к своим обязательствам. Ну вроде как совпадает со здравым смыслом - семейные люди более скрупулёзно берегут свой семейное спокойствие и несут за него ответственность.\n",
    "</div>\n"
   ]
  },
  {
   "cell_type": "markdown",
   "id": "d2210020",
   "metadata": {
    "deletable": false,
    "editable": false,
    "id": "1e8b2fca"
   },
   "source": [
    "#### 3.3 Есть ли зависимость между уровнем дохода и возвратом кредита в срок?"
   ]
  },
  {
   "cell_type": "code",
   "execution_count": 140,
   "id": "23874880",
   "metadata": {
    "deletable": false,
    "id": "cd7e3720"
   },
   "outputs": [
    {
     "name": "stdout",
     "output_type": "stream",
     "text": [
      "                        sum  count\n",
      "total_income_category             \n",
      "A                         2     25\n",
      "B                       354   5014\n",
      "C                      1353  15921\n",
      "D                        21    349\n",
      "E                         2     22\n",
      "Доля должников по отношению к группе (%):\n",
      " total_income_category\n",
      "E    9.09\n",
      "C    8.49\n",
      "A    7.99\n",
      "B    7.06\n",
      "D    6.01\n",
      "Name: debt, dtype: float64\n",
      "Сумма дохода:\n",
      "до 30000 — 'E'\n",
      "до 50000 — 'D'\n",
      "до 200000 — 'C'\n",
      "до 1000000 — 'B'\n",
      "свыше 1000000 — 'A'\n"
     ]
    },
    {
     "data": {
      "image/png": "[encoded data removed]",
      "text/plain": [
       "<Figure size 432x288 with 1 Axes>"
      ]
     },
     "metadata": {
      "needs_background": "light"
     },
     "output_type": "display_data"
    }
   ],
   "source": [
    "# Ваш код будет здесь. Вы можете создавать новые ячейки.\n",
    "total_income_debt = data.groupby(['total_income_category'])['debt'].sum()\n",
    "#Новый вариант с mean()\n",
    "debt_to_debt_total_income = data.groupby(by='total_income_category')['debt'].mean()\n",
    "\n",
    "print(data.groupby(by='total_income_category')['debt'].agg(['sum', 'count']))\n",
    "\n",
    "#закомментировал старый вариант\n",
    "#debt_to_debt_total_income = total_income_debt / data.groupby(by='total_income_category')['debt'].count()\n",
    "\n",
    "sns.barplot(x=total_income_debt.index.tolist(), y=debt_to_debt_total_income.tolist())\n",
    "\n",
    "print('Доля должников по отношению к группе (%):\\n', (debt_to_debt_total_income.sort_values(ascending=False) // 0.0001).astype('int') * 0.01)\n",
    "print('''Сумма дохода:\n",
    "до 30000 — 'E'\n",
    "до 50000 — 'D'\n",
    "до 200000 — 'C'\n",
    "до 1000000 — 'B'\n",
    "свыше 1000000 — \\'A\\'''')"
   ]
  },
  {
   "cell_type": "markdown",
   "id": "23896dee",
   "metadata": {},
   "source": [
    "Рисунок 3."
   ]
  },
  {
   "cell_type": "markdown",
   "id": "af60dff4",
   "metadata": {
    "deletable": false,
    "id": "e8593def"
   },
   "source": [
    "**Вывод:** Прямой зависиости между уровнем дохода и возвратом кредита в срок не наблюдается. Но общая тенденция говорит о том, что с повышением уровня дохода, вероятность возвращения кредита в срок выше."
   ]
  },
  {
   "cell_type": "markdown",
   "id": "87a1d6d7",
   "metadata": {
    "deletable": false,
    "editable": false,
    "id": "99ecbd1f"
   },
   "source": [
    "#### 3.4 Как разные цели кредита влияют на его возврат в срок?"
   ]
  },
  {
   "cell_type": "code",
   "execution_count": 26,
   "id": "b100f8bb",
   "metadata": {
    "deletable": false,
    "id": "2b687290"
   },
   "outputs": [
    {
     "name": "stdout",
     "output_type": "stream",
     "text": [
      "Доля должников по отношению к группе:\n",
      "                    category   percent\n",
      "1    операции с автомобилем  0.093480\n",
      "2     получение образования  0.092528\n",
      "3        проведение свадьбы  0.079118\n",
      "4  операции с недвижимостью  0.072551\n"
     ]
    },
    {
     "data": {
      "text/plain": [
       "<AxesSubplot:>"
      ]
     },
     "execution_count": 26,
     "metadata": {},
     "output_type": "execute_result"
    },
    {
     "data": {
      "image/png": "[encoded data removed]",
      "text/plain": [
       "<Figure size 432x288 with 1 Axes>"
      ]
     },
     "metadata": {
      "needs_background": "light"
     },
     "output_type": "display_data"
    }
   ],
   "source": [
    "# Ваш код будет здесь. Вы можете создавать новые ячейки.\n",
    "purpose_debt = data.groupby(['purpose_category'])['debt'].sum()\n",
    "debt_to_debt_purpose = purpose_debt / data.groupby(by='purpose_category')['debt'].count()\n",
    "debt_to_debt_purpose_nums = pd.DataFrame(data = debt_to_debt_purpose.sort_values(ascending=False).index.tolist(), index=[1,2,3,4])\n",
    "debt_to_debt_purpose_nums['percent'] = debt_to_debt_purpose.sort_values(ascending=False).tolist()\n",
    "\n",
    "debt_to_debt_purpose_nums = debt_to_debt_purpose_nums.rename(columns={0: \"category\"})\n",
    "\n",
    "print('Доля должников по отношению к группе:\\n', debt_to_debt_purpose_nums)\n",
    "print(data.groupby(by='purpose_category')['debt'].agg(['sum'])\n",
    "\n",
    "sns.barplot(x=debt_to_debt_purpose_nums.index.tolist(), y=debt_to_debt_purpose_nums['percent'].tolist())"
   ]
  },
  {
   "cell_type": "markdown",
   "id": "054f2c1a",
   "metadata": {},
   "source": [
    "Рисунок 4."
   ]
  },
  {
   "cell_type": "markdown",
   "id": "898fceda",
   "metadata": {
    "deletable": false,
    "id": "b4bb2ce6"
   },
   "source": [
    "**Вывод:** Наиболее высокий риск просрочки в категориях \"операции с автомобилем\" и \"получение образования\". Наибольшую надежность среди выплат имеют кредиты на недвижимость."
   ]
  },
  {
   "cell_type": "markdown",
   "id": "702aa9cf",
   "metadata": {
    "deletable": false,
    "editable": false,
    "id": "09c3ac4c"
   },
   "source": [
    "#### 3.5 Приведите возможные причины появления пропусков в исходных данных."
   ]
  },
  {
   "cell_type": "markdown",
   "id": "14614b63",
   "metadata": {
    "deletable": false,
    "id": "9da2ceda"
   },
   "source": [
    "*Ответ:* Пропуски наблюдались в столбцах содержацих информацию о доходе и трудовом стаже. Учитывая, что пропуски наблюдались у клиентов имеющих работу, то возможна техническая ошибка."
   ]
  },
  {
   "cell_type": "markdown",
   "id": "9bdd3736",
   "metadata": {
    "deletable": false,
    "editable": false,
    "id": "7b0487d6"
   },
   "source": [
    "#### 3.6 Объясните, почему заполнить пропуски медианным значением — лучшее решение для количественных переменных."
   ]
  },
  {
   "cell_type": "markdown",
   "id": "f8f9628f",
   "metadata": {
    "deletable": false,
    "id": "7ecf2b8e"
   },
   "source": [
    "*Ответ:* Заполнение пропусков медианным значением позволит избежать критических искажений в расчётах. Среднее значение некорректно характеризует данные, когда некоторые значения сильно выделяются среди большинства.  Также это позволит избежать чрезмерного удаления строк и более качественно собрать статистику по другим столбцам. Если в пропущенных значениях проставить ноль, то изменится медиана и среднее значение в меньшую сторону, данные станут недостоверными."
   ]
  },
  {
   "cell_type": "markdown",
   "id": "1afb337c",
   "metadata": {
    "deletable": false,
    "editable": false,
    "id": "6db5255a"
   },
   "source": [
    "### Шаг 4: общий вывод."
   ]
  },
  {
   "cell_type": "markdown",
   "id": "8f932377",
   "metadata": {
    "deletable": false,
    "id": "bad65432"
   },
   "source": [
    "**В ходе анализа статистики о платежеспособности клиентов были выявлены факторы, влияющие на своевременное погашение кредитов заёмщиками. В связи с чем было выдвинуто несколько гипотез:**\n",
    "\n",
    "- Гипотеза 1: существует зависимость между количеством детей и возвратом кредита в срок;\n",
    "- Гипотеза 2: существует зависимость между семейным положением и возвратом кредита в срок;\n",
    "- Гипотеза 3: существует зависимость между уровнем дохода и возвратом кредита в срок;\n",
    "- Гипотеза 4: существует зависимость между целью кредита влияют на его возврат в срок.\n",
    "\n",
    "**Гипотеза 1 подтверждает зависимость между своевременным возвратом и наличием детей. Однако для определения надежности заемщика необходимо больше данных из групп имеющих 3 и более детей.** (Рисунок 1)\n",
    "\n",
    "Таким образом, доля просроченных кредитов:\n",
    "\n",
    "- 7.5% без детей;\n",
    "- 9.2% один ребенок;\n",
    "- 9.4% два ребенка.\n",
    "\n",
    "Рекомендация: провести анализ большей выборки данных.\n",
    "\n",
    "**Гипотеза 2 подтвердена. Существует прямая зависимость между семейным положением и надежностью клиента. Как правило, люди состоящие или состоявшие в браке чаще возвращают кредиты в срок.** (Рисунок 2)\n",
    "\n",
    "Разница между двумя группами более 18%, что говорит о бысоком влиянии фактора на платежеспособность.\n",
    "\n",
    "Рекомендация: есть смысл сократить количество категорий до двух состоящие/состоявшие и не состощие/не состоявщие в браке.\n",
    "\n",
    "**Гипотеза 3 не подтверждена. Для определения влияния уровня дохода на платежеспособность, клинеты были поделены на категории в зависимости от заработка.** (Рисунок 3)\n",
    "до 30000 — 'E', \n",
    "до 50000 — 'D', \n",
    "до 200000 — 'C', \n",
    "до 1000000 — 'B', \n",
    "свыше 1000000 — 'A'. \n",
    "\n",
    "Наибольшая доля просроченных кредитов наблюдается в категории Е - 9%, однако в данной категории предсталено недостоточно клиентов для формирования конечного вывода. Если объединить эту категорию клиентов с группой D, то получится, что наибольший процент невыплат приходится на категорию С - 8.49% т.е. клиентов с доходом от 50 до 200 тыс. руб.\n",
    "\n",
    "Рекомендация: для определение зависимости между заработком клиента и надежностью, необходима информация о размере займа.\n",
    "\n",
    "**Гипотеза 4 подтверждена. Статистика в данной категории следующая:** (Рисунок 4)\n",
    "\n",
    "- 9,3% операции с автомобилем;\n",
    "- 9,2% получение образования;\n",
    "- 7,9% проведение свадьбы;\n",
    "- 7,2% операции с недвижимостью.\n",
    "\n",
    "Наиболее высокий риск просрочки в категориях операции с автомобилем и получение образования. Наибольшую надежность среди выплат имеют кредиты на недвижимость и проведение свадьбы.\n",
    "\n",
    "Рекомендация: собрать информацию по большему количеству целей. Например туризм, бизнес и т.д.\n",
    "\n",
    "**Общие рекомендации:**\n",
    "- При построении модели кредитного скоринга, можно использовать зависимости из первой (с корретировками), второй и четвертой гипотез (количество детей, семейное положение, цель кредита)\n",
    "\n",
    "- Необходимо дополнить выборку для уточнения первой и проверки третьей гипотез."
   ]
  }
 ],
 "metadata": {
  "ExecuteTimeLog": [
   {
    "duration": 78,
    "start_time": "2022-09-04T12:02:45.923Z"
   },
   {
    "duration": 646,
    "start_time": "2022-09-04T12:02:59.183Z"
   },
   {
    "duration": 23,
    "start_time": "2022-09-04T12:02:59.831Z"
   },
   {
    "duration": 45,
    "start_time": "2022-09-04T12:02:59.856Z"
   },
   {
    "duration": 52,
    "start_time": "2022-09-04T12:02:59.903Z"
   },
   {
    "duration": 81,
    "start_time": "2022-09-04T12:02:59.958Z"
   },
   {
    "duration": 4,
    "start_time": "2022-09-04T12:03:00.040Z"
   },
   {
    "duration": 15,
    "start_time": "2022-09-04T12:03:00.045Z"
   },
   {
    "duration": 20,
    "start_time": "2022-09-04T12:03:00.062Z"
   },
   {
    "duration": 187,
    "start_time": "2022-09-04T12:03:00.084Z"
   },
   {
    "duration": 60,
    "start_time": "2022-09-04T12:03:00.273Z"
   },
   {
    "duration": 76,
    "start_time": "2022-09-04T12:03:00.336Z"
   },
   {
    "duration": 23,
    "start_time": "2022-09-04T12:03:00.415Z"
   },
   {
    "duration": 28,
    "start_time": "2022-09-04T12:03:00.440Z"
   },
   {
    "duration": 34,
    "start_time": "2022-09-04T12:03:00.472Z"
   },
   {
    "duration": 46,
    "start_time": "2022-09-04T12:03:00.509Z"
   },
   {
    "duration": 18,
    "start_time": "2022-09-04T12:03:00.558Z"
   },
   {
    "duration": 15,
    "start_time": "2022-09-04T12:03:00.578Z"
   },
   {
    "duration": 62,
    "start_time": "2022-09-04T12:03:00.595Z"
   },
   {
    "duration": 21,
    "start_time": "2022-09-04T12:03:00.659Z"
   },
   {
    "duration": 46,
    "start_time": "2022-09-04T12:03:00.682Z"
   },
   {
    "duration": 39,
    "start_time": "2022-09-04T12:03:00.730Z"
   },
   {
    "duration": 5,
    "start_time": "2022-09-04T12:03:02.819Z"
   },
   {
    "duration": 9,
    "start_time": "2022-09-04T12:03:09.418Z"
   },
   {
    "duration": 113,
    "start_time": "2022-09-04T12:17:26.927Z"
   },
   {
    "duration": 1405,
    "start_time": "2022-09-04T12:17:41.370Z"
   },
   {
    "duration": 9,
    "start_time": "2022-09-04T12:17:57.636Z"
   },
   {
    "duration": 10,
    "start_time": "2022-09-04T12:17:59.926Z"
   },
   {
    "duration": 16,
    "start_time": "2022-09-04T12:18:06.488Z"
   },
   {
    "duration": 8,
    "start_time": "2022-09-04T12:18:15.254Z"
   },
   {
    "duration": 8,
    "start_time": "2022-09-04T12:18:33.755Z"
   },
   {
    "duration": 151,
    "start_time": "2022-09-04T12:18:42.627Z"
   },
   {
    "duration": 147,
    "start_time": "2022-09-04T12:19:02.635Z"
   },
   {
    "duration": 167,
    "start_time": "2022-09-04T12:19:07.315Z"
   },
   {
    "duration": 126,
    "start_time": "2022-09-04T12:21:12.418Z"
   },
   {
    "duration": 142,
    "start_time": "2022-09-04T12:21:19.959Z"
   },
   {
    "duration": 146,
    "start_time": "2022-09-04T12:21:32.452Z"
   },
   {
    "duration": 138,
    "start_time": "2022-09-04T12:22:43.644Z"
   },
   {
    "duration": 110,
    "start_time": "2022-09-04T12:25:47.961Z"
   },
   {
    "duration": 164,
    "start_time": "2022-09-04T12:25:55.594Z"
   },
   {
    "duration": 216,
    "start_time": "2022-09-04T12:26:07.720Z"
   },
   {
    "duration": 152,
    "start_time": "2022-09-04T12:26:34.084Z"
   },
   {
    "duration": 141,
    "start_time": "2022-09-04T12:26:40.806Z"
   },
   {
    "duration": 145,
    "start_time": "2022-09-04T12:27:10.723Z"
   },
   {
    "duration": 153,
    "start_time": "2022-09-04T12:27:22.214Z"
   },
   {
    "duration": 138,
    "start_time": "2022-09-04T12:27:45.417Z"
   },
   {
    "duration": 140,
    "start_time": "2022-09-04T12:29:28.747Z"
   },
   {
    "duration": 141,
    "start_time": "2022-09-04T12:29:38.918Z"
   },
   {
    "duration": 156,
    "start_time": "2022-09-04T12:29:44.962Z"
   },
   {
    "duration": 140,
    "start_time": "2022-09-04T12:30:37.531Z"
   },
   {
    "duration": 103,
    "start_time": "2022-09-04T12:31:08.280Z"
   },
   {
    "duration": 152,
    "start_time": "2022-09-04T12:31:16.984Z"
   },
   {
    "duration": 175,
    "start_time": "2022-09-04T12:31:31.720Z"
   },
   {
    "duration": 229,
    "start_time": "2022-09-04T12:31:52.834Z"
   },
   {
    "duration": 138,
    "start_time": "2022-09-04T12:31:59.738Z"
   },
   {
    "duration": 155,
    "start_time": "2022-09-04T12:32:08.482Z"
   },
   {
    "duration": 148,
    "start_time": "2022-09-04T12:32:18.459Z"
   },
   {
    "duration": 131,
    "start_time": "2022-09-04T12:32:32.718Z"
   },
   {
    "duration": 140,
    "start_time": "2022-09-04T12:34:46.517Z"
   },
   {
    "duration": 156,
    "start_time": "2022-09-04T12:35:09.370Z"
   },
   {
    "duration": 141,
    "start_time": "2022-09-04T12:37:45.891Z"
   },
   {
    "duration": 130,
    "start_time": "2022-09-04T12:38:19.651Z"
   },
   {
    "duration": 155,
    "start_time": "2022-09-04T12:38:34.310Z"
   },
   {
    "duration": 134,
    "start_time": "2022-09-04T12:42:23.206Z"
   },
   {
    "duration": 234,
    "start_time": "2022-09-04T12:42:36.584Z"
   },
   {
    "duration": 145,
    "start_time": "2022-09-04T12:42:54.726Z"
   },
   {
    "duration": 168,
    "start_time": "2022-09-04T12:43:07.950Z"
   },
   {
    "duration": 130,
    "start_time": "2022-09-04T12:44:02.746Z"
   },
   {
    "duration": 148,
    "start_time": "2022-09-04T12:45:07.935Z"
   },
   {
    "duration": 131,
    "start_time": "2022-09-04T12:45:33.210Z"
   },
   {
    "duration": 140,
    "start_time": "2022-09-04T12:45:40.809Z"
   },
   {
    "duration": 151,
    "start_time": "2022-09-04T12:46:01.261Z"
   },
   {
    "duration": 1361,
    "start_time": "2022-09-04T12:46:23.666Z"
   },
   {
    "duration": 133,
    "start_time": "2022-09-04T12:46:29.616Z"
   },
   {
    "duration": 99,
    "start_time": "2022-09-04T12:47:26.630Z"
   },
   {
    "duration": 1180,
    "start_time": "2022-09-04T12:47:31.014Z"
   },
   {
    "duration": 946,
    "start_time": "2022-09-04T12:47:53.819Z"
   },
   {
    "duration": 153,
    "start_time": "2022-09-04T12:48:24.277Z"
   },
   {
    "duration": 135,
    "start_time": "2022-09-04T12:49:08.838Z"
   },
   {
    "duration": 131,
    "start_time": "2022-09-04T12:49:29.443Z"
   },
   {
    "duration": 168,
    "start_time": "2022-09-04T12:50:29.466Z"
   },
   {
    "duration": 174,
    "start_time": "2022-09-04T12:50:49.217Z"
   },
   {
    "duration": 175,
    "start_time": "2022-09-04T12:51:59.149Z"
   },
   {
    "duration": 133,
    "start_time": "2022-09-04T12:52:47.330Z"
   },
   {
    "duration": 141,
    "start_time": "2022-09-04T12:54:23.319Z"
   },
   {
    "duration": 161,
    "start_time": "2022-09-04T12:54:52.176Z"
   },
   {
    "duration": 156,
    "start_time": "2022-09-04T12:55:38.120Z"
   },
   {
    "duration": 247,
    "start_time": "2022-09-04T12:57:15.682Z"
   },
   {
    "duration": 144,
    "start_time": "2022-09-04T12:59:25.618Z"
   },
   {
    "duration": 203,
    "start_time": "2022-09-04T13:00:10.385Z"
   },
   {
    "duration": 149,
    "start_time": "2022-09-04T13:00:23.988Z"
   },
   {
    "duration": 102,
    "start_time": "2022-09-04T13:01:17.535Z"
   },
   {
    "duration": 173,
    "start_time": "2022-09-04T13:01:27.652Z"
   },
   {
    "duration": 9,
    "start_time": "2022-09-04T13:02:43.770Z"
   },
   {
    "duration": 18,
    "start_time": "2022-09-04T13:03:12.528Z"
   },
   {
    "duration": 23,
    "start_time": "2022-09-04T13:03:37.083Z"
   },
   {
    "duration": 18,
    "start_time": "2022-09-04T13:04:43.520Z"
   },
   {
    "duration": 23,
    "start_time": "2022-09-04T13:05:07.346Z"
   },
   {
    "duration": 133,
    "start_time": "2022-09-04T13:05:17.363Z"
   },
   {
    "duration": 12,
    "start_time": "2022-09-04T13:10:03.442Z"
   },
   {
    "duration": 12,
    "start_time": "2022-09-04T13:11:47.531Z"
   },
   {
    "duration": 139,
    "start_time": "2022-09-04T13:12:20.415Z"
   },
   {
    "duration": 25,
    "start_time": "2022-09-04T13:13:21.208Z"
   },
   {
    "duration": 17,
    "start_time": "2022-09-04T13:14:59.059Z"
   },
   {
    "duration": 14,
    "start_time": "2022-09-04T13:16:07.675Z"
   },
   {
    "duration": 9,
    "start_time": "2022-09-04T13:16:42.147Z"
   },
   {
    "duration": 17,
    "start_time": "2022-09-04T13:16:47.893Z"
   },
   {
    "duration": 7,
    "start_time": "2022-09-04T13:17:20.864Z"
   },
   {
    "duration": 8,
    "start_time": "2022-09-04T13:18:10.761Z"
   },
   {
    "duration": 28,
    "start_time": "2022-09-04T13:19:01.062Z"
   },
   {
    "duration": 1315,
    "start_time": "2022-09-04T13:19:26.512Z"
   },
   {
    "duration": 649,
    "start_time": "2022-09-04T13:19:47.999Z"
   },
   {
    "duration": 2794,
    "start_time": "2022-09-04T13:20:08.685Z"
   },
   {
    "duration": 10,
    "start_time": "2022-09-04T13:21:12.282Z"
   },
   {
    "duration": 5,
    "start_time": "2022-09-04T13:24:55.496Z"
   },
   {
    "duration": 8,
    "start_time": "2022-09-04T13:25:05.800Z"
   },
   {
    "duration": 12,
    "start_time": "2022-09-04T13:25:39.025Z"
   },
   {
    "duration": 19,
    "start_time": "2022-09-04T13:30:17.616Z"
   },
   {
    "duration": 57,
    "start_time": "2022-09-04T13:30:52.559Z"
   },
   {
    "duration": 685,
    "start_time": "2022-09-04T13:31:16.837Z"
   },
   {
    "duration": 24,
    "start_time": "2022-09-04T13:31:17.524Z"
   },
   {
    "duration": 17,
    "start_time": "2022-09-04T13:31:17.550Z"
   },
   {
    "duration": 11,
    "start_time": "2022-09-04T13:31:17.568Z"
   },
   {
    "duration": 36,
    "start_time": "2022-09-04T13:31:17.591Z"
   },
   {
    "duration": 4,
    "start_time": "2022-09-04T13:31:17.628Z"
   },
   {
    "duration": 15,
    "start_time": "2022-09-04T13:31:17.634Z"
   },
   {
    "duration": 4,
    "start_time": "2022-09-04T13:31:17.651Z"
   },
   {
    "duration": 11,
    "start_time": "2022-09-04T13:31:17.656Z"
   },
   {
    "duration": 5,
    "start_time": "2022-09-04T13:31:17.691Z"
   },
   {
    "duration": 40,
    "start_time": "2022-09-04T13:31:17.698Z"
   },
   {
    "duration": 10,
    "start_time": "2022-09-04T13:31:17.740Z"
   },
   {
    "duration": 10,
    "start_time": "2022-09-04T13:31:17.751Z"
   },
   {
    "duration": 33,
    "start_time": "2022-09-04T13:31:17.764Z"
   },
   {
    "duration": 21,
    "start_time": "2022-09-04T13:31:17.799Z"
   },
   {
    "duration": 20,
    "start_time": "2022-09-04T13:31:17.822Z"
   },
   {
    "duration": 3,
    "start_time": "2022-09-04T13:31:17.844Z"
   },
   {
    "duration": 18,
    "start_time": "2022-09-04T13:31:17.849Z"
   },
   {
    "duration": 28,
    "start_time": "2022-09-04T13:31:17.869Z"
   },
   {
    "duration": 3,
    "start_time": "2022-09-04T13:31:17.899Z"
   },
   {
    "duration": 18,
    "start_time": "2022-09-04T13:31:17.904Z"
   },
   {
    "duration": 1181,
    "start_time": "2022-09-04T13:31:17.923Z"
   },
   {
    "duration": 139,
    "start_time": "2022-09-04T13:31:19.106Z"
   },
   {
    "duration": 55,
    "start_time": "2022-09-04T13:31:43.724Z"
   },
   {
    "duration": 8,
    "start_time": "2022-09-04T13:32:05.596Z"
   },
   {
    "duration": 1715,
    "start_time": "2022-09-04T13:32:27.625Z"
   },
   {
    "duration": 3,
    "start_time": "2022-09-04T13:32:33.729Z"
   },
   {
    "duration": 9,
    "start_time": "2022-09-04T13:32:34.546Z"
   },
   {
    "duration": 139,
    "start_time": "2022-09-04T13:32:40.282Z"
   },
   {
    "duration": 26,
    "start_time": "2022-09-04T13:32:40.423Z"
   },
   {
    "duration": 26,
    "start_time": "2022-09-04T13:32:40.451Z"
   },
   {
    "duration": 17,
    "start_time": "2022-09-04T13:32:40.479Z"
   },
   {
    "duration": 46,
    "start_time": "2022-09-04T13:32:40.499Z"
   },
   {
    "duration": 3,
    "start_time": "2022-09-04T13:32:40.547Z"
   },
   {
    "duration": 11,
    "start_time": "2022-09-04T13:32:40.552Z"
   },
   {
    "duration": 28,
    "start_time": "2022-09-04T13:32:40.565Z"
   },
   {
    "duration": 8,
    "start_time": "2022-09-04T13:32:40.594Z"
   },
   {
    "duration": 9,
    "start_time": "2022-09-04T13:32:40.603Z"
   },
   {
    "duration": 48,
    "start_time": "2022-09-04T13:32:40.614Z"
   },
   {
    "duration": 11,
    "start_time": "2022-09-04T13:32:40.663Z"
   },
   {
    "duration": 5,
    "start_time": "2022-09-04T13:32:40.692Z"
   },
   {
    "duration": 27,
    "start_time": "2022-09-04T13:32:40.700Z"
   },
   {
    "duration": 22,
    "start_time": "2022-09-04T13:32:40.729Z"
   },
   {
    "duration": 41,
    "start_time": "2022-09-04T13:32:40.753Z"
   },
   {
    "duration": 5,
    "start_time": "2022-09-04T13:32:40.796Z"
   },
   {
    "duration": 15,
    "start_time": "2022-09-04T13:32:40.802Z"
   },
   {
    "duration": 6,
    "start_time": "2022-09-04T13:32:40.819Z"
   },
   {
    "duration": 3,
    "start_time": "2022-09-04T13:32:42.915Z"
   },
   {
    "duration": 9,
    "start_time": "2022-09-04T13:32:43.348Z"
   },
   {
    "duration": 130,
    "start_time": "2022-09-04T13:32:45.509Z"
   },
   {
    "duration": 127,
    "start_time": "2022-09-04T13:32:46.495Z"
   },
   {
    "duration": 128,
    "start_time": "2022-09-04T13:32:53.265Z"
   },
   {
    "duration": 60,
    "start_time": "2022-09-04T13:33:11.455Z"
   },
   {
    "duration": 592,
    "start_time": "2022-09-04T13:33:16.731Z"
   },
   {
    "duration": 23,
    "start_time": "2022-09-04T13:33:17.325Z"
   },
   {
    "duration": 16,
    "start_time": "2022-09-04T13:33:17.349Z"
   },
   {
    "duration": 10,
    "start_time": "2022-09-04T13:33:17.367Z"
   },
   {
    "duration": 35,
    "start_time": "2022-09-04T13:33:17.392Z"
   },
   {
    "duration": 3,
    "start_time": "2022-09-04T13:33:17.429Z"
   },
   {
    "duration": 10,
    "start_time": "2022-09-04T13:33:17.434Z"
   },
   {
    "duration": 6,
    "start_time": "2022-09-04T13:33:17.446Z"
   },
   {
    "duration": 9,
    "start_time": "2022-09-04T13:33:17.454Z"
   },
   {
    "duration": 5,
    "start_time": "2022-09-04T13:33:17.492Z"
   },
   {
    "duration": 37,
    "start_time": "2022-09-04T13:33:17.499Z"
   },
   {
    "duration": 11,
    "start_time": "2022-09-04T13:33:17.537Z"
   },
   {
    "duration": 5,
    "start_time": "2022-09-04T13:33:17.550Z"
   },
   {
    "duration": 44,
    "start_time": "2022-09-04T13:33:17.557Z"
   },
   {
    "duration": 23,
    "start_time": "2022-09-04T13:33:17.603Z"
   },
   {
    "duration": 18,
    "start_time": "2022-09-04T13:33:17.628Z"
   },
   {
    "duration": 3,
    "start_time": "2022-09-04T13:33:17.648Z"
   },
   {
    "duration": 13,
    "start_time": "2022-09-04T13:33:17.653Z"
   },
   {
    "duration": 31,
    "start_time": "2022-09-04T13:33:17.668Z"
   },
   {
    "duration": 4,
    "start_time": "2022-09-04T13:33:17.700Z"
   },
   {
    "duration": 11,
    "start_time": "2022-09-04T13:33:17.706Z"
   },
   {
    "duration": 1141,
    "start_time": "2022-09-04T13:33:17.719Z"
   },
   {
    "duration": 144,
    "start_time": "2022-09-04T13:33:18.862Z"
   },
   {
    "duration": 91,
    "start_time": "2022-09-04T13:37:42.542Z"
   },
   {
    "duration": 14,
    "start_time": "2022-09-04T13:38:16.845Z"
   },
   {
    "duration": 8,
    "start_time": "2022-09-04T13:38:30.796Z"
   },
   {
    "duration": 12,
    "start_time": "2022-09-04T13:38:43.005Z"
   },
   {
    "duration": 19,
    "start_time": "2022-09-04T13:38:51.900Z"
   },
   {
    "duration": 15,
    "start_time": "2022-09-04T13:39:01.115Z"
   },
   {
    "duration": 17,
    "start_time": "2022-09-04T13:42:22.731Z"
   },
   {
    "duration": 20,
    "start_time": "2022-09-04T13:42:29.736Z"
   },
   {
    "duration": 17,
    "start_time": "2022-09-04T13:42:37.155Z"
   },
   {
    "duration": 18,
    "start_time": "2022-09-04T13:42:48.963Z"
   },
   {
    "duration": 17,
    "start_time": "2022-09-04T13:43:10.299Z"
   },
   {
    "duration": 13,
    "start_time": "2022-09-04T13:44:58.077Z"
   },
   {
    "duration": 14,
    "start_time": "2022-09-04T13:45:20.120Z"
   },
   {
    "duration": 14,
    "start_time": "2022-09-04T13:47:49.877Z"
   },
   {
    "duration": 17,
    "start_time": "2022-09-04T13:50:28.448Z"
   },
   {
    "duration": 20,
    "start_time": "2022-09-04T13:50:38.198Z"
   },
   {
    "duration": 39,
    "start_time": "2022-09-04T13:51:37.544Z"
   },
   {
    "duration": 35,
    "start_time": "2022-09-04T13:52:08.714Z"
   },
   {
    "duration": 17,
    "start_time": "2022-09-04T13:52:27.097Z"
   },
   {
    "duration": 28,
    "start_time": "2022-09-04T13:52:46.075Z"
   },
   {
    "duration": 16,
    "start_time": "2022-09-04T13:53:37.679Z"
   },
   {
    "duration": 1647,
    "start_time": "2022-09-04T13:53:55.935Z"
   },
   {
    "duration": 23,
    "start_time": "2022-09-04T13:54:04.532Z"
   },
   {
    "duration": 28,
    "start_time": "2022-09-04T13:54:14.251Z"
   },
   {
    "duration": 1415,
    "start_time": "2022-09-04T13:54:23.655Z"
   },
   {
    "duration": 16,
    "start_time": "2022-09-04T13:54:37.538Z"
   },
   {
    "duration": 32,
    "start_time": "2022-09-04T13:55:18.401Z"
   },
   {
    "duration": 20,
    "start_time": "2022-09-04T13:56:39.953Z"
   },
   {
    "duration": 17,
    "start_time": "2022-09-04T13:56:46.514Z"
   },
   {
    "duration": 19,
    "start_time": "2022-09-04T13:57:18.104Z"
   },
   {
    "duration": 16,
    "start_time": "2022-09-04T13:58:04.856Z"
   },
   {
    "duration": 20,
    "start_time": "2022-09-04T13:58:15.617Z"
   },
   {
    "duration": 16,
    "start_time": "2022-09-04T13:58:22.876Z"
   },
   {
    "duration": 80,
    "start_time": "2022-09-04T13:58:31.785Z"
   },
   {
    "duration": 15,
    "start_time": "2022-09-04T13:58:40.203Z"
   },
   {
    "duration": 15,
    "start_time": "2022-09-04T13:59:07.941Z"
   },
   {
    "duration": 17,
    "start_time": "2022-09-04T13:59:14.933Z"
   },
   {
    "duration": 18,
    "start_time": "2022-09-04T14:01:17.764Z"
   },
   {
    "duration": 17,
    "start_time": "2022-09-04T14:01:38.710Z"
   },
   {
    "duration": 134,
    "start_time": "2022-09-04T14:02:09.806Z"
   },
   {
    "duration": 157,
    "start_time": "2022-09-04T14:05:17.153Z"
   },
   {
    "duration": 142,
    "start_time": "2022-09-04T14:05:33.189Z"
   },
   {
    "duration": 131,
    "start_time": "2022-09-04T14:05:36.314Z"
   },
   {
    "duration": 167,
    "start_time": "2022-09-04T14:05:52.090Z"
   },
   {
    "duration": 88,
    "start_time": "2022-09-04T14:07:06.627Z"
   },
   {
    "duration": 159,
    "start_time": "2022-09-04T14:07:12.535Z"
   },
   {
    "duration": 184,
    "start_time": "2022-09-04T14:07:22.065Z"
   },
   {
    "duration": 95,
    "start_time": "2022-09-04T14:08:26.867Z"
   },
   {
    "duration": 142,
    "start_time": "2022-09-04T14:08:43.415Z"
   },
   {
    "duration": 237,
    "start_time": "2022-09-04T14:09:03.635Z"
   },
   {
    "duration": 134,
    "start_time": "2022-09-04T14:09:15.165Z"
   },
   {
    "duration": 148,
    "start_time": "2022-09-04T14:09:19.919Z"
   },
   {
    "duration": 76,
    "start_time": "2022-09-04T14:10:53.970Z"
   },
   {
    "duration": 6,
    "start_time": "2022-09-04T14:11:41.479Z"
   },
   {
    "duration": 156,
    "start_time": "2022-09-04T14:12:11.681Z"
   },
   {
    "duration": 130,
    "start_time": "2022-09-04T14:12:47.099Z"
   },
   {
    "duration": 139,
    "start_time": "2022-09-04T14:12:52.947Z"
   },
   {
    "duration": 178,
    "start_time": "2022-09-04T14:14:54.717Z"
   },
   {
    "duration": 138,
    "start_time": "2022-09-04T14:15:02.700Z"
   },
   {
    "duration": 141,
    "start_time": "2022-09-04T14:15:09.334Z"
   },
   {
    "duration": 150,
    "start_time": "2022-09-04T14:15:59.677Z"
   },
   {
    "duration": 150,
    "start_time": "2022-09-04T14:16:07.315Z"
   },
   {
    "duration": 265,
    "start_time": "2022-09-04T14:16:18.782Z"
   },
   {
    "duration": 178,
    "start_time": "2022-09-04T14:16:21.752Z"
   },
   {
    "duration": 137,
    "start_time": "2022-09-04T14:16:27.610Z"
   },
   {
    "duration": 122,
    "start_time": "2022-09-04T14:16:52.327Z"
   },
   {
    "duration": 130,
    "start_time": "2022-09-04T14:16:57.918Z"
   },
   {
    "duration": 121,
    "start_time": "2022-09-04T14:18:09.672Z"
   },
   {
    "duration": 137,
    "start_time": "2022-09-04T14:18:34.363Z"
   },
   {
    "duration": 127,
    "start_time": "2022-09-04T14:18:45.086Z"
   },
   {
    "duration": 123,
    "start_time": "2022-09-04T14:18:51.294Z"
   },
   {
    "duration": 123,
    "start_time": "2022-09-04T14:19:22.602Z"
   },
   {
    "duration": 121,
    "start_time": "2022-09-04T14:19:28.536Z"
   },
   {
    "duration": 220,
    "start_time": "2022-09-04T14:19:40.536Z"
   },
   {
    "duration": 132,
    "start_time": "2022-09-04T14:19:45.098Z"
   },
   {
    "duration": 124,
    "start_time": "2022-09-04T14:19:55.375Z"
   },
   {
    "duration": 137,
    "start_time": "2022-09-04T14:20:15.200Z"
   },
   {
    "duration": 150,
    "start_time": "2022-09-04T14:20:26.759Z"
   },
   {
    "duration": 118,
    "start_time": "2022-09-04T14:20:49.102Z"
   },
   {
    "duration": 2,
    "start_time": "2022-09-04T14:24:27.682Z"
   },
   {
    "duration": 131,
    "start_time": "2022-09-04T14:25:24.082Z"
   },
   {
    "duration": 30,
    "start_time": "2022-09-04T14:27:33.786Z"
   },
   {
    "duration": 157,
    "start_time": "2022-09-04T14:28:01.762Z"
   },
   {
    "duration": 111,
    "start_time": "2022-09-04T14:29:20.063Z"
   },
   {
    "duration": 121,
    "start_time": "2022-09-04T14:29:30.095Z"
   },
   {
    "duration": 88,
    "start_time": "2022-09-04T14:31:08.126Z"
   },
   {
    "duration": 122,
    "start_time": "2022-09-04T14:31:20.190Z"
   },
   {
    "duration": 122,
    "start_time": "2022-09-04T14:37:36.395Z"
   },
   {
    "duration": 223,
    "start_time": "2022-09-04T14:37:41.609Z"
   },
   {
    "duration": 130,
    "start_time": "2022-09-04T14:41:54.951Z"
   },
   {
    "duration": 129,
    "start_time": "2022-09-04T14:42:06.343Z"
   },
   {
    "duration": 130,
    "start_time": "2022-09-04T14:46:52.534Z"
   },
   {
    "duration": 126,
    "start_time": "2022-09-04T14:47:26.550Z"
   },
   {
    "duration": 30,
    "start_time": "2022-09-04T14:48:37.328Z"
   },
   {
    "duration": 127,
    "start_time": "2022-09-04T14:48:54.512Z"
   },
   {
    "duration": 148,
    "start_time": "2022-09-04T14:49:42.136Z"
   },
   {
    "duration": 134,
    "start_time": "2022-09-04T14:49:58.193Z"
   },
   {
    "duration": 132,
    "start_time": "2022-09-04T14:50:40.736Z"
   },
   {
    "duration": 144,
    "start_time": "2022-09-04T14:51:26.059Z"
   },
   {
    "duration": 126,
    "start_time": "2022-09-04T14:51:52.730Z"
   },
   {
    "duration": 147,
    "start_time": "2022-09-04T14:52:13.620Z"
   },
   {
    "duration": 229,
    "start_time": "2022-09-04T14:53:17.994Z"
   },
   {
    "duration": 133,
    "start_time": "2022-09-04T14:53:48.339Z"
   },
   {
    "duration": 144,
    "start_time": "2022-09-04T14:55:22.330Z"
   },
   {
    "duration": 139,
    "start_time": "2022-09-04T14:55:54.933Z"
   },
   {
    "duration": 194,
    "start_time": "2022-09-04T14:56:13.195Z"
   },
   {
    "duration": 149,
    "start_time": "2022-09-04T14:57:13.556Z"
   },
   {
    "duration": 136,
    "start_time": "2022-09-04T14:57:19.194Z"
   },
   {
    "duration": 130,
    "start_time": "2022-09-04T14:57:55.994Z"
   },
   {
    "duration": 129,
    "start_time": "2022-09-04T14:58:14.091Z"
   },
   {
    "duration": 132,
    "start_time": "2022-09-04T16:04:06.288Z"
   },
   {
    "duration": 481,
    "start_time": "2022-09-04T17:01:17.625Z"
   },
   {
    "duration": 20,
    "start_time": "2022-09-04T17:01:18.107Z"
   },
   {
    "duration": 23,
    "start_time": "2022-09-04T17:01:18.128Z"
   },
   {
    "duration": 9,
    "start_time": "2022-09-04T17:01:18.153Z"
   },
   {
    "duration": 32,
    "start_time": "2022-09-04T17:01:18.164Z"
   },
   {
    "duration": 3,
    "start_time": "2022-09-04T17:01:18.197Z"
   },
   {
    "duration": 8,
    "start_time": "2022-09-04T17:01:18.202Z"
   },
   {
    "duration": 3,
    "start_time": "2022-09-04T17:01:18.212Z"
   },
   {
    "duration": 12,
    "start_time": "2022-09-04T17:01:18.217Z"
   },
   {
    "duration": 4,
    "start_time": "2022-09-04T17:01:18.247Z"
   },
   {
    "duration": 32,
    "start_time": "2022-09-04T17:01:18.253Z"
   },
   {
    "duration": 9,
    "start_time": "2022-09-04T17:01:18.286Z"
   },
   {
    "duration": 5,
    "start_time": "2022-09-04T17:01:18.297Z"
   },
   {
    "duration": 13,
    "start_time": "2022-09-04T17:01:18.303Z"
   },
   {
    "duration": 43,
    "start_time": "2022-09-04T17:01:18.317Z"
   },
   {
    "duration": 15,
    "start_time": "2022-09-04T17:01:18.362Z"
   },
   {
    "duration": 4,
    "start_time": "2022-09-04T17:01:18.378Z"
   },
   {
    "duration": 18,
    "start_time": "2022-09-04T17:01:18.383Z"
   },
   {
    "duration": 9,
    "start_time": "2022-09-04T17:01:18.402Z"
   },
   {
    "duration": 9,
    "start_time": "2022-09-04T17:01:18.412Z"
   },
   {
    "duration": 14,
    "start_time": "2022-09-04T17:01:18.422Z"
   },
   {
    "duration": 848,
    "start_time": "2022-09-04T17:01:18.447Z"
   },
   {
    "duration": 111,
    "start_time": "2022-09-04T17:01:19.297Z"
   },
   {
    "duration": 108,
    "start_time": "2022-09-04T17:01:19.410Z"
   },
   {
    "duration": 109,
    "start_time": "2022-09-04T17:01:19.519Z"
   },
   {
    "duration": 123,
    "start_time": "2022-09-04T17:01:19.630Z"
   },
   {
    "duration": 47,
    "start_time": "2022-09-05T08:44:24.971Z"
   },
   {
    "duration": 528,
    "start_time": "2022-09-05T08:44:38.549Z"
   },
   {
    "duration": 21,
    "start_time": "2022-09-05T08:44:39.080Z"
   },
   {
    "duration": 14,
    "start_time": "2022-09-05T08:44:39.102Z"
   },
   {
    "duration": 9,
    "start_time": "2022-09-05T08:44:39.117Z"
   },
   {
    "duration": 43,
    "start_time": "2022-09-05T08:44:39.128Z"
   },
   {
    "duration": 3,
    "start_time": "2022-09-05T08:44:39.173Z"
   },
   {
    "duration": 11,
    "start_time": "2022-09-05T08:44:39.177Z"
   },
   {
    "duration": 4,
    "start_time": "2022-09-05T08:44:39.189Z"
   },
   {
    "duration": 8,
    "start_time": "2022-09-05T08:44:39.195Z"
   },
   {
    "duration": 4,
    "start_time": "2022-09-05T08:44:39.205Z"
   },
   {
    "duration": 57,
    "start_time": "2022-09-05T08:44:39.210Z"
   },
   {
    "duration": 10,
    "start_time": "2022-09-05T08:44:39.269Z"
   },
   {
    "duration": 5,
    "start_time": "2022-09-05T08:44:39.280Z"
   },
   {
    "duration": 13,
    "start_time": "2022-09-05T08:44:39.287Z"
   },
   {
    "duration": 20,
    "start_time": "2022-09-05T08:44:39.301Z"
   },
   {
    "duration": 16,
    "start_time": "2022-09-05T08:44:39.322Z"
   },
   {
    "duration": 3,
    "start_time": "2022-09-05T08:44:39.340Z"
   },
   {
    "duration": 13,
    "start_time": "2022-09-05T08:44:39.367Z"
   },
   {
    "duration": 9,
    "start_time": "2022-09-05T08:44:39.381Z"
   },
   {
    "duration": 6,
    "start_time": "2022-09-05T08:44:39.392Z"
   },
   {
    "duration": 12,
    "start_time": "2022-09-05T08:44:39.400Z"
   },
   {
    "duration": 1082,
    "start_time": "2022-09-05T08:44:39.414Z"
   },
   {
    "duration": 134,
    "start_time": "2022-09-05T08:44:40.498Z"
   },
   {
    "duration": 8,
    "start_time": "2022-09-05T08:44:45.821Z"
   },
   {
    "duration": 9,
    "start_time": "2022-09-05T08:46:40.825Z"
   },
   {
    "duration": 9,
    "start_time": "2022-09-05T08:46:47.734Z"
   },
   {
    "duration": 10,
    "start_time": "2022-09-05T08:47:28.055Z"
   },
   {
    "duration": 10,
    "start_time": "2022-09-05T08:48:08.303Z"
   },
   {
    "duration": 10,
    "start_time": "2022-09-05T08:48:20.621Z"
   },
   {
    "duration": 10,
    "start_time": "2022-09-05T09:07:35.676Z"
   },
   {
    "duration": 12,
    "start_time": "2022-09-05T09:07:56.778Z"
   },
   {
    "duration": 8,
    "start_time": "2022-09-05T09:08:00.905Z"
   },
   {
    "duration": 3,
    "start_time": "2022-09-05T09:09:55.466Z"
   },
   {
    "duration": 171,
    "start_time": "2022-09-05T09:10:22.986Z"
   },
   {
    "duration": 81,
    "start_time": "2022-09-05T09:11:30.613Z"
   },
   {
    "duration": 5,
    "start_time": "2022-09-05T09:12:02.594Z"
   },
   {
    "duration": 24,
    "start_time": "2022-09-05T09:12:51.507Z"
   },
   {
    "duration": 20,
    "start_time": "2022-09-05T09:16:23.351Z"
   },
   {
    "duration": 93,
    "start_time": "2022-09-05T09:16:48.605Z"
   },
   {
    "duration": 4,
    "start_time": "2022-09-05T09:17:19.914Z"
   },
   {
    "duration": 4,
    "start_time": "2022-09-05T09:17:26.483Z"
   },
   {
    "duration": 7,
    "start_time": "2022-09-05T09:18:50.245Z"
   },
   {
    "duration": 4,
    "start_time": "2022-09-05T09:19:01.502Z"
   },
   {
    "duration": 14,
    "start_time": "2022-09-05T09:19:05.483Z"
   },
   {
    "duration": 13,
    "start_time": "2022-09-05T09:19:20.508Z"
   },
   {
    "duration": 7,
    "start_time": "2022-09-05T09:19:26.200Z"
   },
   {
    "duration": 13,
    "start_time": "2022-09-05T09:20:31.076Z"
   },
   {
    "duration": 13,
    "start_time": "2022-09-05T09:20:49.092Z"
   },
   {
    "duration": 12,
    "start_time": "2022-09-05T09:20:53.356Z"
   },
   {
    "duration": 6,
    "start_time": "2022-09-05T09:20:56.800Z"
   },
   {
    "duration": 8,
    "start_time": "2022-09-05T09:21:37.356Z"
   },
   {
    "duration": 9,
    "start_time": "2022-09-05T09:21:56.164Z"
   },
   {
    "duration": 6,
    "start_time": "2022-09-05T09:23:33.533Z"
   },
   {
    "duration": 3,
    "start_time": "2022-09-05T09:24:59.525Z"
   },
   {
    "duration": 8,
    "start_time": "2022-09-05T09:26:01.204Z"
   },
   {
    "duration": 6,
    "start_time": "2022-09-05T09:27:44.262Z"
   },
   {
    "duration": 6,
    "start_time": "2022-09-05T09:28:37.957Z"
   },
   {
    "duration": 12,
    "start_time": "2022-09-05T09:28:43.604Z"
   },
   {
    "duration": 3,
    "start_time": "2022-09-05T09:29:05.349Z"
   },
   {
    "duration": 7,
    "start_time": "2022-09-05T09:29:56.694Z"
   },
   {
    "duration": 3,
    "start_time": "2022-09-05T09:30:15.373Z"
   },
   {
    "duration": 3,
    "start_time": "2022-09-05T09:30:15.789Z"
   },
   {
    "duration": 8,
    "start_time": "2022-09-05T09:30:16.533Z"
   },
   {
    "duration": 6,
    "start_time": "2022-09-05T09:30:37.878Z"
   },
   {
    "duration": 6,
    "start_time": "2022-09-05T09:30:49.941Z"
   },
   {
    "duration": 18,
    "start_time": "2022-09-05T09:32:00.545Z"
   },
   {
    "duration": 13,
    "start_time": "2022-09-05T09:32:09.310Z"
   },
   {
    "duration": 13,
    "start_time": "2022-09-05T09:32:11.815Z"
   },
   {
    "duration": 10,
    "start_time": "2022-09-05T09:32:31.222Z"
   },
   {
    "duration": 4,
    "start_time": "2022-09-05T09:32:31.589Z"
   },
   {
    "duration": 4,
    "start_time": "2022-09-05T09:32:32.062Z"
   },
   {
    "duration": 6,
    "start_time": "2022-09-05T09:32:39.743Z"
   },
   {
    "duration": 13,
    "start_time": "2022-09-05T09:32:47.046Z"
   },
   {
    "duration": 13,
    "start_time": "2022-09-05T09:33:02.935Z"
   },
   {
    "duration": 77,
    "start_time": "2022-09-05T09:33:08.770Z"
   },
   {
    "duration": 17,
    "start_time": "2022-09-05T09:33:08.849Z"
   },
   {
    "duration": 26,
    "start_time": "2022-09-05T09:33:08.867Z"
   },
   {
    "duration": 10,
    "start_time": "2022-09-05T09:33:08.895Z"
   },
   {
    "duration": 35,
    "start_time": "2022-09-05T09:33:08.907Z"
   },
   {
    "duration": 4,
    "start_time": "2022-09-05T09:33:08.944Z"
   },
   {
    "duration": 10,
    "start_time": "2022-09-05T09:33:08.968Z"
   },
   {
    "duration": 5,
    "start_time": "2022-09-05T09:33:08.980Z"
   },
   {
    "duration": 7,
    "start_time": "2022-09-05T09:33:08.987Z"
   },
   {
    "duration": 5,
    "start_time": "2022-09-05T09:33:08.997Z"
   },
   {
    "duration": 75,
    "start_time": "2022-09-05T09:33:09.004Z"
   },
   {
    "duration": 11,
    "start_time": "2022-09-05T09:33:09.081Z"
   },
   {
    "duration": 5,
    "start_time": "2022-09-05T09:33:09.094Z"
   },
   {
    "duration": 11,
    "start_time": "2022-09-05T09:33:09.101Z"
   },
   {
    "duration": 23,
    "start_time": "2022-09-05T09:33:09.114Z"
   },
   {
    "duration": 43,
    "start_time": "2022-09-05T09:33:09.139Z"
   },
   {
    "duration": 4,
    "start_time": "2022-09-05T09:33:09.185Z"
   },
   {
    "duration": 15,
    "start_time": "2022-09-05T09:33:09.191Z"
   },
   {
    "duration": 6,
    "start_time": "2022-09-05T09:33:09.208Z"
   },
   {
    "duration": 6,
    "start_time": "2022-09-05T09:33:09.216Z"
   },
   {
    "duration": 16,
    "start_time": "2022-09-05T09:33:09.224Z"
   },
   {
    "duration": 162,
    "start_time": "2022-09-05T09:33:09.242Z"
   },
   {
    "duration": 137,
    "start_time": "2022-09-05T09:33:09.406Z"
   },
   {
    "duration": 9,
    "start_time": "2022-09-05T09:33:09.545Z"
   },
   {
    "duration": 129,
    "start_time": "2022-09-05T09:33:09.568Z"
   },
   {
    "duration": 9,
    "start_time": "2022-09-05T09:33:09.698Z"
   },
   {
    "duration": 4,
    "start_time": "2022-09-05T09:33:09.709Z"
   },
   {
    "duration": 4,
    "start_time": "2022-09-05T09:33:09.716Z"
   },
   {
    "duration": 3,
    "start_time": "2022-09-05T09:33:12.581Z"
   },
   {
    "duration": 6,
    "start_time": "2022-09-05T09:33:18.310Z"
   },
   {
    "duration": 13,
    "start_time": "2022-09-05T09:33:33.942Z"
   },
   {
    "duration": 15,
    "start_time": "2022-09-05T09:35:53.687Z"
   },
   {
    "duration": 9,
    "start_time": "2022-09-05T09:36:21.622Z"
   },
   {
    "duration": 4,
    "start_time": "2022-09-05T09:36:22.046Z"
   },
   {
    "duration": 4,
    "start_time": "2022-09-05T09:36:25.046Z"
   },
   {
    "duration": 4,
    "start_time": "2022-09-05T09:36:44.103Z"
   },
   {
    "duration": 9,
    "start_time": "2022-09-05T09:36:52.406Z"
   },
   {
    "duration": 5,
    "start_time": "2022-09-05T09:36:52.743Z"
   },
   {
    "duration": 1932,
    "start_time": "2022-09-05T09:37:05.918Z"
   },
   {
    "duration": 9,
    "start_time": "2022-09-05T09:37:28.119Z"
   },
   {
    "duration": 4,
    "start_time": "2022-09-05T09:37:28.511Z"
   },
   {
    "duration": 4,
    "start_time": "2022-09-05T09:37:30.734Z"
   },
   {
    "duration": 193,
    "start_time": "2022-09-05T09:37:31.576Z"
   },
   {
    "duration": 324,
    "start_time": "2022-09-05T09:40:20.201Z"
   },
   {
    "duration": 345,
    "start_time": "2022-09-05T09:40:33.952Z"
   },
   {
    "duration": 123,
    "start_time": "2022-09-05T09:41:39.972Z"
   },
   {
    "duration": 131,
    "start_time": "2022-09-05T09:41:59.856Z"
   },
   {
    "duration": 17,
    "start_time": "2022-09-05T09:42:03.558Z"
   },
   {
    "duration": 4,
    "start_time": "2022-09-05T09:42:03.927Z"
   },
   {
    "duration": 3,
    "start_time": "2022-09-05T09:42:04.448Z"
   },
   {
    "duration": 135,
    "start_time": "2022-09-05T09:42:05.351Z"
   },
   {
    "duration": 122,
    "start_time": "2022-09-05T09:45:58.578Z"
   },
   {
    "duration": 113,
    "start_time": "2022-09-05T09:47:12.241Z"
   },
   {
    "duration": 93,
    "start_time": "2022-09-05T11:07:55.038Z"
   },
   {
    "duration": 128,
    "start_time": "2022-09-05T11:19:56.931Z"
   },
   {
    "duration": 130,
    "start_time": "2022-09-05T11:20:22.416Z"
   },
   {
    "duration": 117,
    "start_time": "2022-09-05T11:20:37.161Z"
   },
   {
    "duration": 144,
    "start_time": "2022-09-05T11:20:47.448Z"
   },
   {
    "duration": 127,
    "start_time": "2022-09-05T11:21:01.912Z"
   },
   {
    "duration": 130,
    "start_time": "2022-09-05T11:21:28.401Z"
   },
   {
    "duration": 82,
    "start_time": "2022-09-05T11:22:57.464Z"
   },
   {
    "duration": 115,
    "start_time": "2022-09-05T11:23:38.457Z"
   },
   {
    "duration": 127,
    "start_time": "2022-09-05T12:05:24.498Z"
   },
   {
    "duration": 202,
    "start_time": "2022-09-05T12:06:48.151Z"
   },
   {
    "duration": 116,
    "start_time": "2022-09-05T12:14:33.835Z"
   },
   {
    "duration": 87,
    "start_time": "2022-09-05T13:01:02.413Z"
   },
   {
    "duration": 517,
    "start_time": "2023-02-01T12:27:09.327Z"
   },
   {
    "duration": 9,
    "start_time": "2023-02-01T12:28:19.310Z"
   },
   {
    "duration": 964,
    "start_time": "2023-02-01T12:28:23.959Z"
   },
   {
    "duration": 65,
    "start_time": "2023-02-01T12:28:45.901Z"
   },
   {
    "duration": 17,
    "start_time": "2023-02-01T12:29:19.329Z"
   },
   {
    "duration": 14,
    "start_time": "2023-02-01T12:29:23.726Z"
   },
   {
    "duration": 209,
    "start_time": "2023-02-01T12:29:58.414Z"
   },
   {
    "duration": 19,
    "start_time": "2023-02-01T12:30:08.032Z"
   },
   {
    "duration": 381,
    "start_time": "2023-02-01T12:30:25.094Z"
   },
   {
    "duration": 13,
    "start_time": "2023-02-01T12:32:13.457Z"
   },
   {
    "duration": 221,
    "start_time": "2023-02-01T12:32:35.170Z"
   },
   {
    "duration": 9,
    "start_time": "2023-02-01T12:32:36.813Z"
   },
   {
    "duration": 213,
    "start_time": "2023-02-01T12:32:45.817Z"
   },
   {
    "duration": 9,
    "start_time": "2023-02-01T12:34:25.493Z"
   },
   {
    "duration": 120,
    "start_time": "2023-02-01T12:35:00.658Z"
   },
   {
    "duration": 4,
    "start_time": "2023-02-01T12:35:16.027Z"
   },
   {
    "duration": 4,
    "start_time": "2023-02-01T12:36:22.769Z"
   },
   {
    "duration": 8,
    "start_time": "2023-02-01T12:36:22.954Z"
   },
   {
    "duration": 10,
    "start_time": "2023-02-01T12:37:51.097Z"
   },
   {
    "duration": 82,
    "start_time": "2023-02-01T12:38:06.726Z"
   },
   {
    "duration": 4,
    "start_time": "2023-02-01T12:38:41.942Z"
   },
   {
    "duration": 5,
    "start_time": "2023-02-01T12:39:11.737Z"
   },
   {
    "duration": 1302,
    "start_time": "2023-02-01T12:39:37.449Z"
   },
   {
    "duration": 8,
    "start_time": "2023-02-01T12:40:02.620Z"
   },
   {
    "duration": 5,
    "start_time": "2023-02-01T12:41:48.266Z"
   },
   {
    "duration": 4,
    "start_time": "2023-02-01T12:41:48.513Z"
   },
   {
    "duration": 6,
    "start_time": "2023-02-01T12:43:54.709Z"
   },
   {
    "duration": 4,
    "start_time": "2023-02-01T12:45:01.748Z"
   },
   {
    "duration": 10,
    "start_time": "2023-02-01T12:45:08.517Z"
   },
   {
    "duration": 224,
    "start_time": "2023-02-01T12:47:54.659Z"
   },
   {
    "duration": 197,
    "start_time": "2023-02-01T12:48:08.659Z"
   },
   {
    "duration": 158,
    "start_time": "2023-02-01T12:51:21.955Z"
   },
   {
    "duration": 110,
    "start_time": "2023-02-01T12:51:25.601Z"
   },
   {
    "duration": 4,
    "start_time": "2023-02-01T12:53:07.709Z"
   },
   {
    "duration": 1172,
    "start_time": "2023-02-01T13:54:56.292Z"
   },
   {
    "duration": 317,
    "start_time": "2023-02-01T13:54:57.466Z"
   },
   {
    "duration": 6,
    "start_time": "2023-02-01T13:54:57.785Z"
   },
   {
    "duration": 173,
    "start_time": "2023-02-01T13:54:58.343Z"
   },
   {
    "duration": 87,
    "start_time": "2023-02-01T13:54:58.598Z"
   },
   {
    "duration": 12,
    "start_time": "2023-02-01T13:54:59.681Z"
   },
   {
    "duration": 67,
    "start_time": "2023-02-01T13:55:00.630Z"
   },
   {
    "duration": 3,
    "start_time": "2023-02-01T13:55:01.695Z"
   },
   {
    "duration": 3,
    "start_time": "2023-02-01T13:55:01.935Z"
   },
   {
    "duration": 5,
    "start_time": "2023-02-01T13:55:03.393Z"
   },
   {
    "duration": 4,
    "start_time": "2023-02-01T13:55:06.877Z"
   },
   {
    "duration": 8,
    "start_time": "2023-02-01T13:55:08.569Z"
   },
   {
    "duration": 85,
    "start_time": "2023-02-01T13:55:11.223Z"
   },
   {
    "duration": 86,
    "start_time": "2023-02-01T13:55:51.510Z"
   },
   {
    "duration": 119,
    "start_time": "2023-02-01T13:58:47.269Z"
   },
   {
    "duration": 1281,
    "start_time": "2023-02-06T09:53:22.350Z"
   },
   {
    "duration": 225,
    "start_time": "2023-02-06T09:53:23.633Z"
   },
   {
    "duration": 14,
    "start_time": "2023-02-06T09:53:35.372Z"
   },
   {
    "duration": 1387,
    "start_time": "2023-05-11T20:00:38.364Z"
   },
   {
    "duration": 218,
    "start_time": "2023-05-11T20:00:39.753Z"
   },
   {
    "duration": 15,
    "start_time": "2023-05-11T20:00:41.211Z"
   }
  ],
  "colab": {
   "name": "dpp_template_part2.ipynb",
   "provenance": []
  },
  "kernelspec": {
   "display_name": "Python 3 (ipykernel)",
   "language": "python",
   "name": "python3"
  },
  "language_info": {
   "codemirror_mode": {
    "name": "ipython",
    "version": 3
   },
   "file_extension": ".py",
   "mimetype": "text/x-python",
   "name": "python",
   "nbconvert_exporter": "python",
   "pygments_lexer": "ipython3",
   "version": "3.9.5"
  },
  "toc": {
   "base_numbering": 1,
   "nav_menu": {},
   "number_sections": true,
   "sideBar": true,
   "skip_h1_title": true,
   "title_cell": "Table of Contents",
   "title_sidebar": "Contents",
   "toc_cell": false,
   "toc_position": {},
   "toc_section_display": true,
   "toc_window_display": true
  }
 },
 "nbformat": 4,
 "nbformat_minor": 5
}
