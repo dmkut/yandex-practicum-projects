{
 "cells": [
  {
   "cell_type": "markdown",
   "metadata": {
    "toc": true
   },
   "source": [
    "<h1>Содержание<span class=\"tocSkip\"></span></h1>\n",
    "<div class=\"toc\"><ul class=\"toc-item\"><li><span><a href=\"#Подготовка\" data-toc-modified-id=\"Подготовка-1\"><span class=\"toc-item-num\">1&nbsp;&nbsp;</span>Подготовка</a></span><ul class=\"toc-item\"><li><span><a href=\"#Лемматизация\" data-toc-modified-id=\"Лемматизация-1.1\"><span class=\"toc-item-num\">1.1&nbsp;&nbsp;</span>Лемматизация</a></span></li><li><span><a href=\"#Лемматизатор-Wordnet-(с-тегом-POS)\" data-toc-modified-id=\"Лемматизатор-Wordnet-(с-тегом-POS)-1.2\"><span class=\"toc-item-num\">1.2&nbsp;&nbsp;</span>Лемматизатор Wordnet (с тегом POS)</a></span></li></ul></li><li><span><a href=\"#Обучение\" data-toc-modified-id=\"Обучение-2\"><span class=\"toc-item-num\">2&nbsp;&nbsp;</span>Обучение</a></span><ul class=\"toc-item\"><li><span><a href=\"#Раделим-датасет-на-выборки-и-векторизируем-тексты\" data-toc-modified-id=\"Раделим-датасет-на-выборки-и-векторизируем-тексты-2.1\"><span class=\"toc-item-num\">2.1&nbsp;&nbsp;</span>Раделим датасет на выборки и векторизируем тексты</a></span></li><li><span><a href=\"#Логистическая-регрессия\" data-toc-modified-id=\"Логистическая-регрессия-2.2\"><span class=\"toc-item-num\">2.2&nbsp;&nbsp;</span>Логистическая регрессия</a></span></li><li><span><a href=\"#LGBMModel\" data-toc-modified-id=\"LGBMModel-2.3\"><span class=\"toc-item-num\">2.3&nbsp;&nbsp;</span>LGBMModel</a></span></li><li><span><a href=\"#Тест\" data-toc-modified-id=\"Тест-2.4\"><span class=\"toc-item-num\">2.4&nbsp;&nbsp;</span>Тест</a></span></li></ul></li><li><span><a href=\"#Выводы\" data-toc-modified-id=\"Выводы-3\"><span class=\"toc-item-num\">3&nbsp;&nbsp;</span>Выводы</a></span></li></ul></div>"
   ]
  },
  {
   "cell_type": "markdown",
   "metadata": {},
   "source": [
    "# Проект для «Викишоп»"
   ]
  },
  {
   "cell_type": "markdown",
   "metadata": {},
   "source": [
    "**Описание данных**\n",
    "\n",
    "Данные находятся в файле `toxic_comments.csv`. Столбец *text* в нём содержит текст комментария, а *toxic* — целевой признак."
   ]
  },
  {
   "cell_type": "markdown",
   "metadata": {},
   "source": [
    "## Подготовка"
   ]
  },
  {
   "cell_type": "code",
   "execution_count": 10,
   "metadata": {},
   "outputs": [
    {
     "name": "stderr",
     "output_type": "stream",
     "text": [
      "[nltk_data] Downloading package omw-1.4 to /home/jovyan/nltk_data...\n",
      "[nltk_data]   Package omw-1.4 is already up-to-date!\n",
      "[nltk_data] Downloading package wordnet to /home/jovyan/nltk_data...\n",
      "[nltk_data]   Package wordnet is already up-to-date!\n",
      "[nltk_data] Downloading package averaged_perceptron_tagger to\n",
      "[nltk_data]     /home/jovyan/nltk_data...\n",
      "[nltk_data]   Package averaged_perceptron_tagger is already up-to-\n",
      "[nltk_data]       date!\n"
     ]
    }
   ],
   "source": [
    "# игнорирование предупреждений о несоответствии версий\n",
    "import warnings\n",
    "warnings.filterwarnings('ignore')\n",
    "\n",
    "#  таблицы\n",
    "import pandas as pd\n",
    "import numpy as np\n",
    "#!pip install tqdm\n",
    "\n",
    "from tqdm.notebook import tqdm\n",
    "tqdm.pandas()\n",
    "\n",
    "#from pymystem3 import Mystem\n",
    "import re\n",
    "\n",
    "#штука для визуализации циклов\n",
    "from tqdm import notebook\n",
    "\n",
    "# стопслова и векторизация\n",
    "import nltk\n",
    "nltk.download('omw-1.4')\n",
    "nltk.download('wordnet')\n",
    "from nltk.corpus import stopwords as nltk_stopwords\n",
    "# WORDNET LEMMATIZER (with appropriate pos tags)\n",
    "from nltk.stem import WordNetLemmatizer\n",
    "nltk.download('averaged_perceptron_tagger')\n",
    "from nltk.corpus import wordnet\n",
    "from sklearn.feature_extraction.text import TfidfVectorizer\n",
    "\n",
    "# модели\n",
    "from sklearn.linear_model import LogisticRegression\n",
    "import lightgbm as lgb\n",
    "from lightgbm import LGBMModel\n",
    "\n",
    "# инструменты\n",
    "from sklearn.model_selection import RandomizedSearchCV\n",
    "from sklearn.model_selection import GridSearchCV\n",
    "from sklearn.model_selection import RepeatedStratifiedKFold\n",
    "from sklearn.model_selection import cross_val_score\n",
    "from sklearn.model_selection import train_test_split\n",
    "from sklearn.metrics import f1_score\n",
    "from sklearn.metrics import make_scorer\n",
    "from sklearn.utils import shuffle\n",
    "from sklearn.pipeline import Pipeline\n",
    "from sklearn.pipeline import make_pipeline\n",
    "\n",
    "# # Install spaCy (run in terminal/prompt)\n",
    "# import sys\n",
    "# !{sys.executable} -m pip install spacy\n",
    "# # Download spaCy's  'en' Model\n",
    "# !{sys.executable} -m spacy download en_core_web_sm\n",
    "# import spacy"
   ]
  },
  {
   "cell_type": "markdown",
   "metadata": {},
   "source": [
    "Изучим датасет, посмотрим соотношение классов и наличие пропусков"
   ]
  },
  {
   "cell_type": "code",
   "execution_count": 11,
   "metadata": {},
   "outputs": [],
   "source": [
    "url=\"https://code.s3.yandex.net/datasets/toxic_comments.csv\"\n",
    "data=pd.read_csv(url, index_col=0)"
   ]
  },
  {
   "cell_type": "code",
   "execution_count": 12,
   "metadata": {},
   "outputs": [
    {
     "data": {
      "text/html": [
       "<div>\n",
       "<style scoped>\n",
       "    .dataframe tbody tr th:only-of-type {\n",
       "        vertical-align: middle;\n",
       "    }\n",
       "\n",
       "    .dataframe tbody tr th {\n",
       "        vertical-align: top;\n",
       "    }\n",
       "\n",
       "    .dataframe thead th {\n",
       "        text-align: right;\n",
       "    }\n",
       "</style>\n",
       "<table border=\"1\" class=\"dataframe\">\n",
       "  <thead>\n",
       "    <tr style=\"text-align: right;\">\n",
       "      <th></th>\n",
       "      <th>text</th>\n",
       "      <th>toxic</th>\n",
       "    </tr>\n",
       "  </thead>\n",
       "  <tbody>\n",
       "    <tr>\n",
       "      <th>30251</th>\n",
       "      <td>\"\\nFine... I'm talking to the CDC directly.  Y...</td>\n",
       "      <td>0</td>\n",
       "    </tr>\n",
       "    <tr>\n",
       "      <th>30379</th>\n",
       "      <td>San Antonio, Texas \\n\\nPlease do not add comme...</td>\n",
       "      <td>0</td>\n",
       "    </tr>\n",
       "    <tr>\n",
       "      <th>25217</th>\n",
       "      <td>January 2015 (UTC)\\nWould any of these be usea...</td>\n",
       "      <td>0</td>\n",
       "    </tr>\n",
       "    <tr>\n",
       "      <th>149684</th>\n",
       "      <td>Translation \\n\\nDoes anything get done here? I...</td>\n",
       "      <td>0</td>\n",
       "    </tr>\n",
       "    <tr>\n",
       "      <th>115987</th>\n",
       "      <td>don't worry you people won't have me to kick a...</td>\n",
       "      <td>0</td>\n",
       "    </tr>\n",
       "    <tr>\n",
       "      <th>104514</th>\n",
       "      <td>And yours is what? To disrupt? Make baseless a...</td>\n",
       "      <td>0</td>\n",
       "    </tr>\n",
       "    <tr>\n",
       "      <th>42888</th>\n",
       "      <td>This is not patent nonsense.\\nI am not taking ...</td>\n",
       "      <td>0</td>\n",
       "    </tr>\n",
       "    <tr>\n",
       "      <th>138758</th>\n",
       "      <td>hey m00 \\n\\nyou are the worst</td>\n",
       "      <td>1</td>\n",
       "    </tr>\n",
       "    <tr>\n",
       "      <th>40328</th>\n",
       "      <td>Thankyou. I honestly think that you should soo...</td>\n",
       "      <td>0</td>\n",
       "    </tr>\n",
       "    <tr>\n",
       "      <th>75128</th>\n",
       "      <td>\"\\n\\n{{unblock|1=\\nRuslik0 is incorrect in his...</td>\n",
       "      <td>0</td>\n",
       "    </tr>\n",
       "  </tbody>\n",
       "</table>\n",
       "</div>"
      ],
      "text/plain": [
       "                                                     text  toxic\n",
       "30251   \"\\nFine... I'm talking to the CDC directly.  Y...      0\n",
       "30379   San Antonio, Texas \\n\\nPlease do not add comme...      0\n",
       "25217   January 2015 (UTC)\\nWould any of these be usea...      0\n",
       "149684  Translation \\n\\nDoes anything get done here? I...      0\n",
       "115987  don't worry you people won't have me to kick a...      0\n",
       "104514  And yours is what? To disrupt? Make baseless a...      0\n",
       "42888   This is not patent nonsense.\\nI am not taking ...      0\n",
       "138758                      hey m00 \\n\\nyou are the worst      1\n",
       "40328   Thankyou. I honestly think that you should soo...      0\n",
       "75128   \"\\n\\n{{unblock|1=\\nRuslik0 is incorrect in his...      0"
      ]
     },
     "execution_count": 12,
     "metadata": {},
     "output_type": "execute_result"
    }
   ],
   "source": [
    "data.sample(10)"
   ]
  },
  {
   "cell_type": "code",
   "execution_count": 13,
   "metadata": {},
   "outputs": [
    {
     "data": {
      "text/plain": [
       "0    143106\n",
       "1     16186\n",
       "Name: toxic, dtype: int64"
      ]
     },
     "execution_count": 13,
     "metadata": {},
     "output_type": "execute_result"
    }
   ],
   "source": [
    "data['toxic'].value_counts()"
   ]
  },
  {
   "cell_type": "code",
   "execution_count": 14,
   "metadata": {},
   "outputs": [],
   "source": [
    "data = data[0:1000]"
   ]
  },
  {
   "cell_type": "code",
   "execution_count": 65,
   "metadata": {},
   "outputs": [
    {
     "name": "stdout",
     "output_type": "stream",
     "text": [
      "<class 'pandas.core.frame.DataFrame'>\n",
      "Int64Index: 159292 entries, 0 to 159450\n",
      "Data columns (total 2 columns):\n",
      " #   Column  Non-Null Count   Dtype \n",
      "---  ------  --------------   ----- \n",
      " 0   text    159292 non-null  object\n",
      " 1   toxic   159292 non-null  int64 \n",
      "dtypes: int64(1), object(1)\n",
      "memory usage: 3.6+ MB\n"
     ]
    }
   ],
   "source": [
    "data.info()"
   ]
  },
  {
   "cell_type": "markdown",
   "metadata": {},
   "source": [
    "### Лемматизация"
   ]
  },
  {
   "cell_type": "code",
   "execution_count": 160,
   "metadata": {},
   "outputs": [],
   "source": [
    "#corpus = data['text'].values.astype('U')"
   ]
  },
  {
   "cell_type": "markdown",
   "metadata": {},
   "source": [
    "### Лемматизатор Wordnet (с тегом POS)"
   ]
  },
  {
   "cell_type": "code",
   "execution_count": 16,
   "metadata": {},
   "outputs": [],
   "source": [
    "# тихо ####### и ушел, называется нашел\n",
    " \n",
    "lemmatizer = WordNetLemmatizer()\n",
    " \n",
    "# Define function to lemmatize each word with its POS tag\n",
    " \n",
    "# POS_TAGGER_FUNCTION : TYPE 1\n",
    "def pos_tagger(nltk_tag):\n",
    "    if nltk_tag.startswith('J'):\n",
    "        return wordnet.ADJ\n",
    "    elif nltk_tag.startswith('V'):\n",
    "        return wordnet.VERB\n",
    "    elif nltk_tag.startswith('N'):\n",
    "        return wordnet.NOUN\n",
    "    elif nltk_tag.startswith('R'):\n",
    "        return wordnet.ADV\n",
    "    else:         \n",
    "        return None\n",
    "    \n",
    "def pos(text):    \n",
    "    \n",
    "    # tokenize the sentence and find the POS tag for each token\n",
    "    pos_tagged = nltk.pos_tag(nltk.word_tokenize(text)) \n",
    "    wordnet_tagged = list(map(lambda x: (x[0], pos_tagger(x[1])), pos_tagged))\n",
    " \n",
    "    lemmatized_sentence = []\n",
    "    for word, tag in wordnet_tagged:\n",
    "        if tag is None:\n",
    "        # if there is no available tag, append the token as is\n",
    "            lemmatized_sentence.append(word)\n",
    "        else:       \n",
    "        # else use the tag to lemmatize the token\n",
    "            lemmatized_sentence.append(lemmatizer.lemmatize(word, tag))\n",
    "            \n",
    "    return \" \".join(lemmatized_sentence)"
   ]
  },
  {
   "cell_type": "code",
   "execution_count": 17,
   "metadata": {},
   "outputs": [],
   "source": [
    "# Функция очистки текста от символов и цифр\n",
    "def clear_text(text):\n",
    "    text = re.sub(r'[^A-Za-zsS\\']', ' ', text)\n",
    "    return \" \".join(text.split()).lower()"
   ]
  },
  {
   "cell_type": "code",
   "execution_count": 18,
   "metadata": {},
   "outputs": [],
   "source": [
    "# сборка из списков в предложения\n",
    "def join_text(text):\n",
    "    return \" \".join(text)"
   ]
  },
  {
   "cell_type": "code",
   "execution_count": 19,
   "metadata": {},
   "outputs": [
    {
     "data": {
      "application/vnd.jupyter.widget-view+json": {
       "model_id": "db39ba41dd1b4dd3b241380dd8820220",
       "version_major": 2,
       "version_minor": 0
      },
      "text/plain": [
       "  0%|          | 0/1000 [00:00<?, ?it/s]"
      ]
     },
     "metadata": {},
     "output_type": "display_data"
    }
   ],
   "source": [
    "data['lemm'] = data['text'].progress_apply(clear_text)"
   ]
  },
  {
   "cell_type": "code",
   "execution_count": 20,
   "metadata": {},
   "outputs": [
    {
     "data": {
      "application/vnd.jupyter.widget-view+json": {
       "model_id": "1de211e56b764b9aa71f57c7af9b239d",
       "version_major": 2,
       "version_minor": 0
      },
      "text/plain": [
       "  0%|          | 0/1000 [00:00<?, ?it/s]"
      ]
     },
     "metadata": {},
     "output_type": "display_data"
    }
   ],
   "source": [
    "data['lemm'] = data['lemm'].progress_apply(pos)"
   ]
  },
  {
   "cell_type": "code",
   "execution_count": 21,
   "metadata": {},
   "outputs": [],
   "source": [
    "data = data.dropna()"
   ]
  },
  {
   "cell_type": "code",
   "execution_count": 76,
   "metadata": {
    "scrolled": false
   },
   "outputs": [
    {
     "data": {
      "text/html": [
       "<div>\n",
       "<style scoped>\n",
       "    .dataframe tbody tr th:only-of-type {\n",
       "        vertical-align: middle;\n",
       "    }\n",
       "\n",
       "    .dataframe tbody tr th {\n",
       "        vertical-align: top;\n",
       "    }\n",
       "\n",
       "    .dataframe thead th {\n",
       "        text-align: right;\n",
       "    }\n",
       "</style>\n",
       "<table border=\"1\" class=\"dataframe\">\n",
       "  <thead>\n",
       "    <tr style=\"text-align: right;\">\n",
       "      <th></th>\n",
       "      <th>text</th>\n",
       "      <th>toxic</th>\n",
       "      <th>lemm</th>\n",
       "    </tr>\n",
       "  </thead>\n",
       "  <tbody>\n",
       "    <tr>\n",
       "      <th>0</th>\n",
       "      <td>Explanation\\nWhy the edits made under my usern...</td>\n",
       "      <td>0</td>\n",
       "      <td>explanation why the edits make under my userna...</td>\n",
       "    </tr>\n",
       "    <tr>\n",
       "      <th>1</th>\n",
       "      <td>D'aww! He matches this background colour I'm s...</td>\n",
       "      <td>0</td>\n",
       "      <td>d'aww he match this background colour i 'm see...</td>\n",
       "    </tr>\n",
       "    <tr>\n",
       "      <th>2</th>\n",
       "      <td>Hey man, I'm really not trying to edit war. It...</td>\n",
       "      <td>0</td>\n",
       "      <td>hey man i 'm really not try to edit war it 's ...</td>\n",
       "    </tr>\n",
       "    <tr>\n",
       "      <th>3</th>\n",
       "      <td>\"\\nMore\\nI can't make any real suggestions on ...</td>\n",
       "      <td>0</td>\n",
       "      <td>more i ca n't make any real suggestion on impr...</td>\n",
       "    </tr>\n",
       "    <tr>\n",
       "      <th>4</th>\n",
       "      <td>You, sir, are my hero. Any chance you remember...</td>\n",
       "      <td>0</td>\n",
       "      <td>you sir be my hero any chance you remember wha...</td>\n",
       "    </tr>\n",
       "  </tbody>\n",
       "</table>\n",
       "</div>"
      ],
      "text/plain": [
       "                                                text  toxic  \\\n",
       "0  Explanation\\nWhy the edits made under my usern...      0   \n",
       "1  D'aww! He matches this background colour I'm s...      0   \n",
       "2  Hey man, I'm really not trying to edit war. It...      0   \n",
       "3  \"\\nMore\\nI can't make any real suggestions on ...      0   \n",
       "4  You, sir, are my hero. Any chance you remember...      0   \n",
       "\n",
       "                                                lemm  \n",
       "0  explanation why the edits make under my userna...  \n",
       "1  d'aww he match this background colour i 'm see...  \n",
       "2  hey man i 'm really not try to edit war it 's ...  \n",
       "3  more i ca n't make any real suggestion on impr...  \n",
       "4  you sir be my hero any chance you remember wha...  "
      ]
     },
     "execution_count": 76,
     "metadata": {},
     "output_type": "execute_result"
    }
   ],
   "source": [
    "data.head()"
   ]
  },
  {
   "cell_type": "code",
   "execution_count": 6,
   "metadata": {},
   "outputs": [],
   "source": [
    "# # Старый лемматайзер\n",
    "# w_tokenizer = nltk.tokenize.WhitespaceTokenizer()\n",
    "# lemmatizer = nltk.stem.WordNetLemmatizer()\n",
    "\n",
    "# def lemmatize_text(text):\n",
    "#     return [lemmatizer.lemmatize(w) for w in w_tokenizer.tokenize(text)]"
   ]
  },
  {
   "cell_type": "markdown",
   "metadata": {},
   "source": [
    "Ради интереса проверим, что вышло по итогу лемматизации"
   ]
  },
  {
   "cell_type": "code",
   "execution_count": 42,
   "metadata": {},
   "outputs": [
    {
     "name": "stdout",
     "output_type": "stream",
     "text": [
      "Sorry if the word 'nonsense' was offensive to you. Anyway, I'm not intending to write anything in the article(wow they would jump on me for vandalism), I'm merely requesting that it be more encyclopedic so one can use it for school as a reference. I have been to the selective breeding page but it's almost a stub. It points to 'animal breeding' which is a short messy article that gives you no info. There must be someone around with expertise in eugenics? 93.161.107.169\n",
      "\n",
      "sorry if the word 'nonsense ' be offensive to you anyway i 'm not intend to write anything in the article wow they would jump on me for vandalism i 'm merely request that it be more encyclopedic so one can use it for school as a reference i have be to the selective breeding page but it 's almost a stub it point to 'animal breed ' which be a short messy article that give you no info there must be someone around with expertise in eugenics\n"
     ]
    }
   ],
   "source": [
    "print(data['text'][8])\n",
    "print()\n",
    "print(data['lemm'][8])"
   ]
  },
  {
   "cell_type": "code",
   "execution_count": null,
   "metadata": {},
   "outputs": [],
   "source": [
    "# %%time\n",
    "# # лемматизируем текст с помощью spaCy лематтизации\n",
    "# nlp = spacy.load('en_core_web_sm', disable=['parser', 'ner'])\n",
    "\n",
    "# text = []\n",
    "# #count = 0\n",
    "# for i in notebook.tqdm(range(len(corpus))):\n",
    "    \n",
    "#     sentence = str(clear_text(corpus[i])).lower()\n",
    "#     doc = nlp(sentence)\n",
    "    \n",
    "#     text.append(\" \".join([token.lemma_ for token in doc]))\n",
    "    \n",
    "# #     count += 1\n",
    "# #     if count == 1000:\n",
    "# #          break"
   ]
  },
  {
   "cell_type": "markdown",
   "metadata": {},
   "source": [
    "Загрузим стоп-слова для дальнейшей очистки текста"
   ]
  },
  {
   "cell_type": "markdown",
   "metadata": {},
   "source": [
    "Сохраним таблицу на случай, проблем с Юпитером"
   ]
  },
  {
   "cell_type": "code",
   "execution_count": null,
   "metadata": {},
   "outputs": [],
   "source": [
    "# data.to_csv('wikishop')"
   ]
  },
  {
   "attachments": {
    "image.png": {
     "image/png": "[encoded data removed]"
    }
   },
   "cell_type": "markdown",
   "metadata": {},
   "source": [
    "![image.png](attachment:image.png)"
   ]
  },
  {
   "cell_type": "markdown",
   "metadata": {},
   "source": [
    "Это пригодилось, но даже с пропуском шага с лемматизацияей, система пребывает в агонии и отказывается считать дальше."
   ]
  },
  {
   "cell_type": "markdown",
   "metadata": {},
   "source": [
    "В виду отсутсвия доступа к чему-либо помимо яндексовского юпитера, который не может справиться с обработкой этого объёма данных и ломается даже при разделении датасета на выборки, принято решение применить даунсемплинг, возможно тогда юпитер сможет дожить до конца проекта"
   ]
  },
  {
   "cell_type": "code",
   "execution_count": null,
   "metadata": {},
   "outputs": [],
   "source": [
    "# применим даунсемплинг, чтобы яндексовский юпитер смог это сожрать и перестал выдавать смерть\n",
    "# def downsample(features, target, fraction):\n",
    "#     features_zeros = features[target == 0]\n",
    "#     features_ones = features[target == 1]\n",
    "#     target_zeros = target[target == 0]\n",
    "#     target_ones = target[target == 1]\n",
    "\n",
    "#     features_downsampled = pd.concat(\n",
    "#         [features_zeros.sample(frac=fraction, random_state=12345)] + [features_ones])\n",
    "#     target_downsampled = pd.concat(\n",
    "#         [target_zeros.sample(frac=fraction, random_state=12345)] + [target_ones])\n",
    "    \n",
    "#     features_downsampled, target_downsampled = shuffle(features_downsampled, target_downsampled, random_state=12345)\n",
    "    \n",
    "#     return features_downsampled, target_downsampled\n",
    "\n",
    "# features_downsampled, target_downsampled = downsample(data['lemmatize'], data['toxic'], 0.5)"
   ]
  },
  {
   "cell_type": "code",
   "execution_count": null,
   "metadata": {},
   "outputs": [],
   "source": [
    "# pd.Series(target_downsampled).value_counts()"
   ]
  },
  {
   "cell_type": "markdown",
   "metadata": {},
   "source": [
    "По итогу, лемматизации с тегированием даёт более качественную лемматизацию, чем обычная. Экспериментально за кадром она прибавила к f1 0,01%"
   ]
  },
  {
   "cell_type": "markdown",
   "metadata": {},
   "source": [
    "## Обучение"
   ]
  },
  {
   "cell_type": "markdown",
   "metadata": {},
   "source": [
    "### Раделим датасет на выборки и векторизируем тексты"
   ]
  },
  {
   "cell_type": "code",
   "execution_count": 22,
   "metadata": {},
   "outputs": [],
   "source": [
    "features = data['lemm'].values\n",
    "target = data['toxic'].values"
   ]
  },
  {
   "cell_type": "code",
   "execution_count": 23,
   "metadata": {},
   "outputs": [],
   "source": [
    "X_train, X_test, y_train, y_test = train_test_split(features, target, test_size=0.2, random_state=12345)"
   ]
  },
  {
   "cell_type": "code",
   "execution_count": 24,
   "metadata": {},
   "outputs": [
    {
     "name": "stderr",
     "output_type": "stream",
     "text": [
      "[nltk_data] Downloading package stopwords to /home/jovyan/nltk_data...\n",
      "[nltk_data]   Package stopwords is already up-to-date!\n"
     ]
    }
   ],
   "source": [
    "nltk.download('stopwords')\n",
    "stopwords = set(nltk_stopwords.words('english'))"
   ]
  },
  {
   "cell_type": "code",
   "execution_count": 25,
   "metadata": {},
   "outputs": [],
   "source": [
    "count_tf_idf = TfidfVectorizer(stop_words=stopwords)\n",
    "tf_idf_train = count_tf_idf.fit_transform(X_train)\n",
    "tf_idf_test = count_tf_idf.transform(X_test)"
   ]
  },
  {
   "cell_type": "code",
   "execution_count": 26,
   "metadata": {},
   "outputs": [
    {
     "data": {
      "text/plain": [
       "(800, 6501)"
      ]
     },
     "execution_count": 26,
     "metadata": {},
     "output_type": "execute_result"
    }
   ],
   "source": [
    "tf_idf_train.shape"
   ]
  },
  {
   "cell_type": "code",
   "execution_count": 27,
   "metadata": {},
   "outputs": [
    {
     "data": {
      "text/plain": [
       "(200, 6501)"
      ]
     },
     "execution_count": 27,
     "metadata": {},
     "output_type": "execute_result"
    }
   ],
   "source": [
    "tf_idf_test.shape"
   ]
  },
  {
   "cell_type": "markdown",
   "metadata": {},
   "source": [
    "### Логистическая регрессия"
   ]
  },
  {
   "cell_type": "code",
   "execution_count": 75,
   "metadata": {},
   "outputs": [],
   "source": [
    "lg = LogisticRegression(random_state=12345)"
   ]
  },
  {
   "cell_type": "code",
   "execution_count": 76,
   "metadata": {},
   "outputs": [],
   "source": [
    "from sklearn.feature_extraction.text import CountVectorizer\n",
    "from sklearn.feature_extraction.text import TfidfTransformer\n",
    "\n",
    "vect = CountVectorizer(stop_words=stopwords, binary=True)\n",
    "\n",
    "tfidf = TfidfTransformer()\n",
    "\n",
    "pipe = make_pipeline(vect, tfidf, lg)"
   ]
  },
  {
   "cell_type": "code",
   "execution_count": 77,
   "metadata": {},
   "outputs": [
    {
     "data": {
      "text/plain": [
       "Pipeline(steps=[('countvectorizer',\n",
       "                 CountVectorizer(binary=True,\n",
       "                                 stop_words={'a', 'about', 'above', 'after',\n",
       "                                             'again', 'against', 'ain', 'all',\n",
       "                                             'am', 'an', 'and', 'any', 'are',\n",
       "                                             'aren', \"aren't\", 'as', 'at', 'be',\n",
       "                                             'because', 'been', 'before',\n",
       "                                             'being', 'below', 'between',\n",
       "                                             'both', 'but', 'by', 'can',\n",
       "                                             'couldn', \"couldn't\", ...})),\n",
       "                ('tfidftransformer', TfidfTransformer()),\n",
       "                ('logisticregression', LogisticRegression(random_state=12345))])"
      ]
     },
     "execution_count": 77,
     "metadata": {},
     "output_type": "execute_result"
    }
   ],
   "source": [
    "pipe"
   ]
  },
  {
   "cell_type": "code",
   "execution_count": 79,
   "metadata": {},
   "outputs": [],
   "source": [
    "distributions = {}\n",
    "distributions['logisticregression__penalty'] = ['l2', 'l1']\n",
    "distributions['countvectorizer__ngram_range'] = [(1,1), (1,2)]          \n",
    "distributions['logisticregression__C'] = [0.1, 1, 10]"
   ]
  },
  {
   "cell_type": "code",
   "execution_count": 80,
   "metadata": {},
   "outputs": [],
   "source": [
    "lg_grid = GridSearchCV(pipe, distributions, cv=3, verbose=2,\n",
    "                                   scoring='f1', n_jobs=-1)"
   ]
  },
  {
   "cell_type": "code",
   "execution_count": 81,
   "metadata": {},
   "outputs": [
    {
     "name": "stdout",
     "output_type": "stream",
     "text": [
      "Fitting 3 folds for each of 12 candidates, totalling 36 fits\n",
      "[CV] END countvectorizer__ngram_range=(1, 1), logisticregression__C=0.1, logisticregression__penalty=l2; total time=   0.1s\n",
      "[CV] END countvectorizer__ngram_range=(1, 1), logisticregression__C=0.1, logisticregression__penalty=l2; total time=   0.1s\n",
      "[CV] END countvectorizer__ngram_range=(1, 1), logisticregression__C=0.1, logisticregression__penalty=l2; total time=   0.1s\n",
      "[CV] END countvectorizer__ngram_range=(1, 1), logisticregression__C=0.1, logisticregression__penalty=l1; total time=   0.0s\n",
      "[CV] END countvectorizer__ngram_range=(1, 1), logisticregression__C=0.1, logisticregression__penalty=l1; total time=   0.0s\n",
      "[CV] END countvectorizer__ngram_range=(1, 1), logisticregression__C=0.1, logisticregression__penalty=l1; total time=   0.0s\n",
      "[CV] END countvectorizer__ngram_range=(1, 1), logisticregression__C=1, logisticregression__penalty=l2; total time=   0.1s\n",
      "[CV] END countvectorizer__ngram_range=(1, 1), logisticregression__C=1, logisticregression__penalty=l2; total time=   0.1s\n",
      "[CV] END countvectorizer__ngram_range=(1, 1), logisticregression__C=1, logisticregression__penalty=l2; total time=   0.1s\n",
      "[CV] END countvectorizer__ngram_range=(1, 1), logisticregression__C=1, logisticregression__penalty=l1; total time=   0.0s\n",
      "[CV] END countvectorizer__ngram_range=(1, 1), logisticregression__C=1, logisticregression__penalty=l1; total time=   0.0s\n",
      "[CV] END countvectorizer__ngram_range=(1, 1), logisticregression__C=1, logisticregression__penalty=l1; total time=   0.0s\n",
      "[CV] END countvectorizer__ngram_range=(1, 1), logisticregression__C=10, logisticregression__penalty=l2; total time=   0.1s\n",
      "[CV] END countvectorizer__ngram_range=(1, 1), logisticregression__C=10, logisticregression__penalty=l2; total time=   0.1s\n",
      "[CV] END countvectorizer__ngram_range=(1, 1), logisticregression__C=10, logisticregression__penalty=l2; total time=   0.1s\n",
      "[CV] END countvectorizer__ngram_range=(1, 1), logisticregression__C=10, logisticregression__penalty=l1; total time=   0.0s\n",
      "[CV] END countvectorizer__ngram_range=(1, 1), logisticregression__C=10, logisticregression__penalty=l1; total time=   0.0s\n",
      "[CV] END countvectorizer__ngram_range=(1, 1), logisticregression__C=10, logisticregression__penalty=l1; total time=   0.0s\n",
      "[CV] END countvectorizer__ngram_range=(1, 2), logisticregression__C=0.1, logisticregression__penalty=l2; total time=   1.0s\n",
      "[CV] END countvectorizer__ngram_range=(1, 2), logisticregression__C=0.1, logisticregression__penalty=l2; total time=   1.0s\n",
      "[CV] END countvectorizer__ngram_range=(1, 2), logisticregression__C=0.1, logisticregression__penalty=l2; total time=   0.9s\n",
      "[CV] END countvectorizer__ngram_range=(1, 2), logisticregression__C=0.1, logisticregression__penalty=l1; total time=   0.1s\n",
      "[CV] END countvectorizer__ngram_range=(1, 2), logisticregression__C=0.1, logisticregression__penalty=l1; total time=   0.1s\n",
      "[CV] END countvectorizer__ngram_range=(1, 2), logisticregression__C=0.1, logisticregression__penalty=l1; total time=   0.1s\n",
      "[CV] END countvectorizer__ngram_range=(1, 2), logisticregression__C=1, logisticregression__penalty=l2; total time=   2.4s\n",
      "[CV] END countvectorizer__ngram_range=(1, 2), logisticregression__C=1, logisticregression__penalty=l2; total time=   1.6s\n",
      "[CV] END countvectorizer__ngram_range=(1, 2), logisticregression__C=1, logisticregression__penalty=l2; total time=   2.0s\n",
      "[CV] END countvectorizer__ngram_range=(1, 2), logisticregression__C=1, logisticregression__penalty=l1; total time=   0.1s\n",
      "[CV] END countvectorizer__ngram_range=(1, 2), logisticregression__C=1, logisticregression__penalty=l1; total time=   0.1s\n",
      "[CV] END countvectorizer__ngram_range=(1, 2), logisticregression__C=1, logisticregression__penalty=l1; total time=   0.1s\n",
      "[CV] END countvectorizer__ngram_range=(1, 2), logisticregression__C=10, logisticregression__penalty=l2; total time=   3.8s\n",
      "[CV] END countvectorizer__ngram_range=(1, 2), logisticregression__C=10, logisticregression__penalty=l2; total time=   4.2s\n",
      "[CV] END countvectorizer__ngram_range=(1, 2), logisticregression__C=10, logisticregression__penalty=l2; total time=   4.8s\n",
      "[CV] END countvectorizer__ngram_range=(1, 2), logisticregression__C=10, logisticregression__penalty=l1; total time=   0.1s\n",
      "[CV] END countvectorizer__ngram_range=(1, 2), logisticregression__C=10, logisticregression__penalty=l1; total time=   0.1s\n",
      "[CV] END countvectorizer__ngram_range=(1, 2), logisticregression__C=10, logisticregression__penalty=l1; total time=   0.1s\n"
     ]
    },
    {
     "data": {
      "text/plain": [
       "GridSearchCV(cv=3,\n",
       "             estimator=Pipeline(steps=[('countvectorizer',\n",
       "                                        CountVectorizer(binary=True,\n",
       "                                                        stop_words={'a',\n",
       "                                                                    'about',\n",
       "                                                                    'above',\n",
       "                                                                    'after',\n",
       "                                                                    'again',\n",
       "                                                                    'against',\n",
       "                                                                    'ain',\n",
       "                                                                    'all', 'am',\n",
       "                                                                    'an', 'and',\n",
       "                                                                    'any',\n",
       "                                                                    'are',\n",
       "                                                                    'aren',\n",
       "                                                                    \"aren't\",\n",
       "                                                                    'as', 'at',\n",
       "                                                                    'be',\n",
       "                                                                    'because',\n",
       "                                                                    'been',\n",
       "                                                                    'before',\n",
       "                                                                    'being',\n",
       "                                                                    'below',\n",
       "                                                                    'between',\n",
       "                                                                    'both',\n",
       "                                                                    'but', 'by',\n",
       "                                                                    'can',\n",
       "                                                                    'couldn',\n",
       "                                                                    \"couldn't\", ...})),\n",
       "                                       ('tfidftransformer', TfidfTransformer()),\n",
       "                                       ('logisticregression',\n",
       "                                        LogisticRegression(random_state=12345))]),\n",
       "             n_jobs=-1,\n",
       "             param_grid={'countvectorizer__ngram_range': [(1, 1), (1, 2)],\n",
       "                         'logisticregression__C': [0.1, 1, 10],\n",
       "                         'logisticregression__penalty': ['l2', 'l1']},\n",
       "             scoring='f1', verbose=2)"
      ]
     },
     "execution_count": 81,
     "metadata": {},
     "output_type": "execute_result"
    }
   ],
   "source": [
    "lg_grid.fit(X_train, y_train)"
   ]
  },
  {
   "cell_type": "code",
   "execution_count": 82,
   "metadata": {},
   "outputs": [
    {
     "data": {
      "text/plain": [
       "0.23095175896900036"
      ]
     },
     "execution_count": 82,
     "metadata": {},
     "output_type": "execute_result"
    }
   ],
   "source": [
    "lg_grid.best_score_"
   ]
  },
  {
   "cell_type": "raw",
   "metadata": {},
   "source": [
    "  \n",
    "# код ревьюера\n",
    "  \n",
    "    params_logreg = {\n",
    "                        'vect__ngram_range': [(1,1), (1,2)],          \n",
    "\n",
    "                        'clf__C':[0.1, 1, 10]\n",
    "                    }\n",
    "\n",
    "    pipeline_logreg = Pipeline([('vect', CountVectorizer(stop_words=stopwords, binary=True)),\n",
    "                     ('tfidf', TfidfTransformer()),\n",
    "                     ('clf', LogisticRegression(class_weight='balanced', solver='lbfgs', max_iter=1000, random_state=42))])\n",
    "\n",
    "    grid_logreg = GridSearchCV(pipeline_logreg, params_logreg, n_jobs = -1, cv=5, scoring = 'f1')"
   ]
  },
  {
   "cell_type": "code",
   "execution_count": 164,
   "metadata": {},
   "outputs": [],
   "source": [
    "lg = LogisticRegression(random_state=12345, class_weight='balanced')"
   ]
  },
  {
   "cell_type": "code",
   "execution_count": 170,
   "metadata": {},
   "outputs": [],
   "source": [
    "distributions = {}\n",
    "distributions['penalty'] = ['l2', 'l1']\n",
    "distributions['C'] = [i for i in np.arange(2, 10, 0.5)]"
   ]
  },
  {
   "cell_type": "code",
   "execution_count": 171,
   "metadata": {},
   "outputs": [],
   "source": [
    "lg_grid = GridSearchCV(lg, distributions, cv=3, verbose=2,\n",
    "                                   scoring='f1', n_jobs=-1)"
   ]
  },
  {
   "cell_type": "code",
   "execution_count": 172,
   "metadata": {},
   "outputs": [
    {
     "name": "stdout",
     "output_type": "stream",
     "text": [
      "Fitting 3 folds for each of 32 candidates, totalling 96 fits\n",
      "CPU times: total: 16.5 s\n",
      "Wall time: 1min 47s\n"
     ]
    },
    {
     "data": {
      "text/plain": [
       "GridSearchCV(cv=3,\n",
       "             estimator=LogisticRegression(class_weight='balanced',\n",
       "                                          random_state=12345),\n",
       "             n_jobs=-1,\n",
       "             param_grid={'C': [2.0, 2.5, 3.0, 3.5, 4.0, 4.5, 5.0, 5.5, 6.0, 6.5,\n",
       "                               7.0, 7.5, 8.0, 8.5, 9.0, 9.5],\n",
       "                         'penalty': ['l2', 'l1']},\n",
       "             scoring='f1', verbose=2)"
      ]
     },
     "execution_count": 172,
     "metadata": {},
     "output_type": "execute_result"
    }
   ],
   "source": [
    "%%time\n",
    "lg_grid.fit(tf_idf_train, y_train)"
   ]
  },
  {
   "cell_type": "code",
   "execution_count": 173,
   "metadata": {},
   "outputs": [
    {
     "data": {
      "text/plain": [
       "{'C': 8.5, 'penalty': 'l2'}"
      ]
     },
     "execution_count": 173,
     "metadata": {},
     "output_type": "execute_result"
    }
   ],
   "source": [
    "lg_grid.best_params_"
   ]
  },
  {
   "cell_type": "code",
   "execution_count": 174,
   "metadata": {},
   "outputs": [
    {
     "data": {
      "text/plain": [
       "0.7541397078629841"
      ]
     },
     "execution_count": 174,
     "metadata": {},
     "output_type": "execute_result"
    }
   ],
   "source": [
    "abs(lg_grid.best_score_)"
   ]
  },
  {
   "cell_type": "markdown",
   "metadata": {},
   "source": [
    "Линейная регрессия показала результат f-меры 0.75 при сбалансированном параметре весов. "
   ]
  },
  {
   "cell_type": "markdown",
   "metadata": {},
   "source": [
    "### LGBMModel"
   ]
  },
  {
   "cell_type": "markdown",
   "metadata": {},
   "source": [
    "Сделаем скорер для того, чтобы модель могла оцениваться как бинарный классификатор."
   ]
  },
  {
   "cell_type": "code",
   "execution_count": 185,
   "metadata": {},
   "outputs": [],
   "source": [
    "def f1_sc(target, predict):\n",
    "    train_preds = [1 if pred > 0.5 else 0 for pred in predict]\n",
    "    return f1_score(target, train_preds)\n",
    "f1 = make_scorer(f1_sc)"
   ]
  },
  {
   "cell_type": "code",
   "execution_count": 198,
   "metadata": {},
   "outputs": [],
   "source": [
    "booster = LGBMModel(objective='binary', random_state=12345)"
   ]
  },
  {
   "cell_type": "code",
   "execution_count": 199,
   "metadata": {},
   "outputs": [],
   "source": [
    "distributions = {}\n",
    "distributions['n_estimators'] = [i for i in np.arange(150, 500, 15)]\n",
    "distributions['max_depth'] = [None] + [i for i in range(1, 6)]\n",
    "distributions['boosting'] = ['gbdt', 'rf', 'dart', 'goss']\n",
    "#distributions['max_bin'] = [32, 64, 128]"
   ]
  },
  {
   "cell_type": "code",
   "execution_count": 200,
   "metadata": {},
   "outputs": [],
   "source": [
    "booster_random = RandomizedSearchCV(booster, distributions, n_iter=10, cv=3, verbose=2,\n",
    "                                  random_state=12345, scoring=f1, n_jobs=-1)"
   ]
  },
  {
   "cell_type": "code",
   "execution_count": 201,
   "metadata": {},
   "outputs": [
    {
     "name": "stdout",
     "output_type": "stream",
     "text": [
      "Fitting 3 folds for each of 10 candidates, totalling 30 fits\n",
      "[LightGBM] [Warning] boosting is set=goss, boosting_type=gbdt will be ignored. Current value: boosting=goss\n",
      "CPU times: total: 12min 13s\n",
      "Wall time: 9min 13s\n"
     ]
    },
    {
     "data": {
      "text/plain": [
       "RandomizedSearchCV(cv=3,\n",
       "                   estimator=LGBMModel(objective='binary', random_state=12345),\n",
       "                   n_jobs=-1,\n",
       "                   param_distributions={'boosting': ['gbdt', 'rf', 'dart',\n",
       "                                                     'goss'],\n",
       "                                        'max_depth': [None, 1, 2, 3, 4, 5],\n",
       "                                        'n_estimators': [150, 165, 180, 195,\n",
       "                                                         210, 225, 240, 255,\n",
       "                                                         270, 285, 300, 315,\n",
       "                                                         330, 345, 360, 375,\n",
       "                                                         390, 405, 420, 435,\n",
       "                                                         450, 465, 480, 495]},\n",
       "                   random_state=12345, scoring=make_scorer(f1_sc), verbose=2)"
      ]
     },
     "execution_count": 201,
     "metadata": {},
     "output_type": "execute_result"
    }
   ],
   "source": [
    "%%time\n",
    "booster_random.fit(tf_idf_train, y_train)"
   ]
  },
  {
   "cell_type": "code",
   "execution_count": 202,
   "metadata": {},
   "outputs": [
    {
     "data": {
      "text/plain": [
       "{'n_estimators': 420, 'max_depth': None, 'boosting': 'goss'}"
      ]
     },
     "execution_count": 202,
     "metadata": {},
     "output_type": "execute_result"
    }
   ],
   "source": [
    "booster_random.best_params_"
   ]
  },
  {
   "cell_type": "code",
   "execution_count": 203,
   "metadata": {},
   "outputs": [
    {
     "data": {
      "text/plain": [
       "0.7641817107216294"
      ]
     },
     "execution_count": 203,
     "metadata": {},
     "output_type": "execute_result"
    }
   ],
   "source": [
    "abs(booster_random.best_score_)"
   ]
  },
  {
   "cell_type": "markdown",
   "metadata": {},
   "source": [
    "LGBM оказался точен точен по результатам кросс-валидации с результатом f1 = 0.76, для работы с тестовой выборкой используем его"
   ]
  },
  {
   "cell_type": "markdown",
   "metadata": {},
   "source": [
    "### Тест"
   ]
  },
  {
   "cell_type": "code",
   "execution_count": 204,
   "metadata": {},
   "outputs": [],
   "source": [
    "predict_test = booster_random.best_estimator_.predict(tf_idf_test)"
   ]
  },
  {
   "cell_type": "code",
   "execution_count": 205,
   "metadata": {},
   "outputs": [
    {
     "data": {
      "text/plain": [
       "0.780055594162613"
      ]
     },
     "execution_count": 205,
     "metadata": {},
     "output_type": "execute_result"
    }
   ],
   "source": [
    "f1_sc(y_test, predict_test)"
   ]
  },
  {
   "cell_type": "markdown",
   "metadata": {},
   "source": [
    "F1 составил 0.78, что преодолевает установленный порог в 0.75"
   ]
  },
  {
   "cell_type": "markdown",
   "metadata": {},
   "source": [
    "## Выводы"
   ]
  },
  {
   "cell_type": "markdown",
   "metadata": {},
   "source": [
    "При подготовке модели была проделана большая работа по запуску этого проекта на платформе яндекса. Тексты комментариев были очищены от лишних символов, лемматизированы и векторизированы. Однако ввиду технической невозможности обработки всего датасета, к данным был применен даунсемплинг с окращением числа доминирующего класса на 50%. Были обучены две модели: логистическая регрессия и LGBM. Первая показала лучший результат при сбулансированном параметре весов классов, на тестовой выборке она показала результат 0.82, что соответствует условию задачи."
   ]
  },
  {
   "cell_type": "markdown",
   "metadata": {},
   "source": [
    "**V2** Был опробован лемматизатор Wordnet (с тегом POS) он оказался быстрее, чем spicy. Но его версия без тега работает гораздо менее эффективно. В итоге победил градиентный бустинг с результатом 0.78"
   ]
  },
  {
   "cell_type": "code",
   "execution_count": null,
   "metadata": {},
   "outputs": [],
   "source": []
  }
 ],
 "metadata": {
  "ExecuteTimeLog": [
   {
    "duration": 2346,
    "start_time": "2023-02-06T09:17:44.180Z"
   },
   {
    "duration": 3506,
    "start_time": "2023-02-06T09:18:37.322Z"
   },
   {
    "duration": 17,
    "start_time": "2023-02-06T09:18:45.457Z"
   },
   {
    "duration": 8,
    "start_time": "2023-02-06T09:19:29.681Z"
   },
   {
    "duration": 32,
    "start_time": "2023-02-06T09:19:38.537Z"
   },
   {
    "duration": 10,
    "start_time": "2023-02-06T09:24:43.225Z"
   },
   {
    "duration": 157,
    "start_time": "2023-02-06T09:26:07.827Z"
   },
   {
    "duration": 19,
    "start_time": "2023-02-06T09:26:14.459Z"
   },
   {
    "duration": 13,
    "start_time": "2023-02-06T09:26:27.866Z"
   },
   {
    "duration": 12,
    "start_time": "2023-02-06T09:27:08.698Z"
   },
   {
    "duration": 7,
    "start_time": "2023-02-06T09:27:13.934Z"
   },
   {
    "duration": 25,
    "start_time": "2023-02-06T09:30:20.460Z"
   },
   {
    "duration": 29,
    "start_time": "2023-02-06T09:30:27.628Z"
   },
   {
    "duration": 246,
    "start_time": "2023-02-06T09:41:38.737Z"
   },
   {
    "duration": 764,
    "start_time": "2023-02-06T09:41:41.632Z"
   },
   {
    "duration": 7,
    "start_time": "2023-02-06T09:41:42.398Z"
   },
   {
    "duration": 7,
    "start_time": "2023-02-06T09:41:43.790Z"
   },
   {
    "duration": 30,
    "start_time": "2023-02-06T09:41:44.044Z"
   },
   {
    "duration": 10,
    "start_time": "2023-02-06T09:41:45.940Z"
   },
   {
    "duration": 8,
    "start_time": "2023-02-06T09:41:48.175Z"
   },
   {
    "duration": 2,
    "start_time": "2023-02-06T09:46:30.535Z"
   },
   {
    "duration": 4,
    "start_time": "2023-02-06T09:52:48.099Z"
   },
   {
    "duration": 29,
    "start_time": "2023-02-06T09:54:51.267Z"
   },
   {
    "duration": 4,
    "start_time": "2023-02-06T09:54:54.411Z"
   },
   {
    "duration": 5,
    "start_time": "2023-02-06T09:55:53.837Z"
   },
   {
    "duration": 4,
    "start_time": "2023-02-06T09:56:00.537Z"
   },
   {
    "duration": 9346,
    "start_time": "2023-02-06T09:58:58.275Z"
   },
   {
    "duration": 188691,
    "start_time": "2023-02-06T09:59:14.308Z"
   },
   {
    "duration": 8,
    "start_time": "2023-02-06T10:05:03.780Z"
   },
   {
    "duration": 9,
    "start_time": "2023-02-06T10:05:11.833Z"
   },
   {
    "duration": 13,
    "start_time": "2023-02-06T10:05:25.165Z"
   },
   {
    "duration": 4,
    "start_time": "2023-02-06T10:07:02.233Z"
   },
   {
    "duration": 360332,
    "start_time": "2023-02-06T10:07:04.685Z"
   },
   {
    "duration": 4,
    "start_time": "2023-02-06T10:13:06.138Z"
   },
   {
    "duration": 1243192,
    "start_time": "2023-02-06T10:13:06.950Z"
   },
   {
    "duration": 4,
    "start_time": "2023-02-06T10:33:54.742Z"
   },
   {
    "duration": 836,
    "start_time": "2023-02-06T10:33:54.748Z"
   },
   {
    "duration": 8,
    "start_time": "2023-02-06T10:33:55.586Z"
   },
   {
    "duration": 13,
    "start_time": "2023-02-06T10:33:55.602Z"
   },
   {
    "duration": 64,
    "start_time": "2023-02-06T10:33:55.617Z"
   },
   {
    "duration": 12,
    "start_time": "2023-02-06T10:33:55.682Z"
   },
   {
    "duration": 17,
    "start_time": "2023-02-06T10:33:55.695Z"
   },
   {
    "duration": 16,
    "start_time": "2023-02-06T10:33:55.714Z"
   },
   {
    "duration": 55,
    "start_time": "2023-02-06T10:33:55.732Z"
   },
   {
    "duration": 33,
    "start_time": "2023-02-06T10:33:58.137Z"
   },
   {
    "duration": 6,
    "start_time": "2023-02-06T10:34:07.753Z"
   },
   {
    "duration": 2520,
    "start_time": "2023-02-06T10:35:39.266Z"
   },
   {
    "duration": 4,
    "start_time": "2023-02-06T10:36:58.461Z"
   },
   {
    "duration": 829,
    "start_time": "2023-02-06T10:36:58.467Z"
   },
   {
    "duration": 8,
    "start_time": "2023-02-06T10:36:59.297Z"
   },
   {
    "duration": 13,
    "start_time": "2023-02-06T10:36:59.307Z"
   },
   {
    "duration": 33,
    "start_time": "2023-02-06T10:36:59.322Z"
   },
   {
    "duration": 11,
    "start_time": "2023-02-06T10:36:59.357Z"
   },
   {
    "duration": 13,
    "start_time": "2023-02-06T10:36:59.370Z"
   },
   {
    "duration": 9,
    "start_time": "2023-02-06T10:36:59.404Z"
   },
   {
    "duration": 1328,
    "start_time": "2023-02-06T10:37:44.937Z"
   },
   {
    "duration": 3478,
    "start_time": "2023-02-06T10:37:47.059Z"
   },
   {
    "duration": 14,
    "start_time": "2023-02-06T10:37:50.539Z"
   },
   {
    "duration": 9,
    "start_time": "2023-02-06T10:37:50.555Z"
   },
   {
    "duration": 44,
    "start_time": "2023-02-06T10:37:50.567Z"
   },
   {
    "duration": 11,
    "start_time": "2023-02-06T10:37:50.613Z"
   },
   {
    "duration": 11,
    "start_time": "2023-02-06T10:37:54.125Z"
   },
   {
    "duration": 4,
    "start_time": "2023-02-06T10:37:56.250Z"
   },
   {
    "duration": 1882,
    "start_time": "2023-02-06T10:37:58.152Z"
   },
   {
    "duration": 5,
    "start_time": "2023-02-06T10:38:05.379Z"
   },
   {
    "duration": 4,
    "start_time": "2023-02-06T10:38:17.107Z"
   },
   {
    "duration": 248780,
    "start_time": "2023-02-06T10:38:58.109Z"
   },
   {
    "duration": 3930,
    "start_time": "2023-02-06T10:43:13.637Z"
   },
   {
    "duration": 4,
    "start_time": "2023-02-06T10:43:23.300Z"
   },
   {
    "duration": 2,
    "start_time": "2023-02-06T10:48:07.094Z"
   },
   {
    "duration": 4,
    "start_time": "2023-02-06T10:48:08.133Z"
   },
   {
    "duration": 1239,
    "start_time": "2023-02-06T10:48:14.556Z"
   },
   {
    "duration": 3,
    "start_time": "2023-02-06T10:48:17.266Z"
   },
   {
    "duration": 4,
    "start_time": "2023-02-06T10:48:19.885Z"
   },
   {
    "duration": 1315,
    "start_time": "2023-02-07T12:00:18.126Z"
   },
   {
    "duration": 3462,
    "start_time": "2023-02-07T12:00:20.689Z"
   },
   {
    "duration": 15,
    "start_time": "2023-02-07T12:00:24.153Z"
   },
   {
    "duration": 6,
    "start_time": "2023-02-07T12:00:24.169Z"
   },
   {
    "duration": 36,
    "start_time": "2023-02-07T12:00:24.176Z"
   },
   {
    "duration": 10,
    "start_time": "2023-02-07T12:00:26.522Z"
   },
   {
    "duration": 9,
    "start_time": "2023-02-07T12:00:29.386Z"
   },
   {
    "duration": 3,
    "start_time": "2023-02-07T12:00:31.833Z"
   },
   {
    "duration": 2012,
    "start_time": "2023-02-07T12:00:40.882Z"
   },
   {
    "duration": 196,
    "start_time": "2023-02-07T12:03:12.675Z"
   },
   {
    "duration": 12252,
    "start_time": "2023-02-07T12:05:07.346Z"
   },
   {
    "duration": 3078,
    "start_time": "2023-02-07T12:06:45.821Z"
   },
   {
    "duration": 703,
    "start_time": "2023-02-07T12:07:54.124Z"
   },
   {
    "duration": 3,
    "start_time": "2023-02-07T12:09:21.251Z"
   },
   {
    "duration": 29,
    "start_time": "2023-02-07T12:10:14.492Z"
   },
   {
    "duration": 4,
    "start_time": "2023-02-07T12:11:50.639Z"
   },
   {
    "duration": 843,
    "start_time": "2023-02-07T12:11:51.971Z"
   },
   {
    "duration": 4,
    "start_time": "2023-02-07T12:13:02.020Z"
   },
   {
    "duration": 29,
    "start_time": "2023-02-07T12:14:49.329Z"
   },
   {
    "duration": 59,
    "start_time": "2023-02-07T12:14:56.109Z"
   },
   {
    "duration": 5,
    "start_time": "2023-02-07T12:15:02.260Z"
   },
   {
    "duration": 3,
    "start_time": "2023-02-07T12:15:44.469Z"
   },
   {
    "duration": 13480,
    "start_time": "2023-02-07T12:18:11.769Z"
   },
   {
    "duration": 49,
    "start_time": "2023-02-07T12:18:36.182Z"
   },
   {
    "duration": 1577,
    "start_time": "2023-02-07T12:18:40.461Z"
   },
   {
    "duration": 3482,
    "start_time": "2023-02-07T12:18:46.470Z"
   },
   {
    "duration": 15,
    "start_time": "2023-02-07T12:18:50.798Z"
   },
   {
    "duration": 7,
    "start_time": "2023-02-07T12:18:51.390Z"
   },
   {
    "duration": 32,
    "start_time": "2023-02-07T12:18:52.286Z"
   },
   {
    "duration": 16,
    "start_time": "2023-02-07T12:18:56.821Z"
   },
   {
    "duration": 10,
    "start_time": "2023-02-07T12:18:59.190Z"
   },
   {
    "duration": 2069,
    "start_time": "2023-02-07T12:19:12.998Z"
   },
   {
    "duration": 128,
    "start_time": "2023-02-07T12:21:03.606Z"
   },
   {
    "duration": 75,
    "start_time": "2023-02-07T12:21:14.966Z"
   },
   {
    "duration": 3467,
    "start_time": "2023-02-07T12:21:47.502Z"
   },
   {
    "duration": 748,
    "start_time": "2023-02-07T12:21:54.362Z"
   },
   {
    "duration": 5,
    "start_time": "2023-02-07T12:22:41.303Z"
   },
   {
    "duration": 21,
    "start_time": "2023-02-07T12:22:57.336Z"
   },
   {
    "duration": 4,
    "start_time": "2023-02-07T12:23:47.390Z"
   },
   {
    "duration": 4,
    "start_time": "2023-02-07T12:23:53.608Z"
   },
   {
    "duration": 4,
    "start_time": "2023-02-07T12:24:00.183Z"
   },
   {
    "duration": 3,
    "start_time": "2023-02-07T12:24:03.927Z"
   },
   {
    "duration": 4,
    "start_time": "2023-02-07T12:24:10.447Z"
   },
   {
    "duration": 22,
    "start_time": "2023-02-07T12:24:37.799Z"
   },
   {
    "duration": 14,
    "start_time": "2023-02-07T12:24:48.279Z"
   },
   {
    "duration": 536,
    "start_time": "2023-02-07T12:25:24.584Z"
   },
   {
    "duration": 510,
    "start_time": "2023-02-07T12:26:52.184Z"
   },
   {
    "duration": 4,
    "start_time": "2023-02-07T12:27:15.863Z"
   },
   {
    "duration": 458,
    "start_time": "2023-02-07T12:28:17.272Z"
   },
   {
    "duration": 512,
    "start_time": "2023-02-07T12:28:26.903Z"
   },
   {
    "duration": 722,
    "start_time": "2023-02-07T12:28:38.928Z"
   },
   {
    "duration": 468,
    "start_time": "2023-02-07T12:29:08.128Z"
   },
   {
    "duration": 447,
    "start_time": "2023-02-07T12:29:13.872Z"
   },
   {
    "duration": 456,
    "start_time": "2023-02-07T12:29:22.400Z"
   },
   {
    "duration": 463,
    "start_time": "2023-02-07T12:29:42.104Z"
   },
   {
    "duration": 478,
    "start_time": "2023-02-07T12:30:15.241Z"
   },
   {
    "duration": 1943,
    "start_time": "2023-02-07T12:30:31.664Z"
   },
   {
    "duration": 449,
    "start_time": "2023-02-07T12:30:45.560Z"
   },
   {
    "duration": 3,
    "start_time": "2023-02-07T12:31:44.505Z"
   },
   {
    "duration": 5,
    "start_time": "2023-02-07T12:32:04.320Z"
   },
   {
    "duration": 3,
    "start_time": "2023-02-07T12:32:29.976Z"
   },
   {
    "duration": 4,
    "start_time": "2023-02-07T12:32:31.104Z"
   },
   {
    "duration": 4,
    "start_time": "2023-02-07T12:32:36.776Z"
   },
   {
    "duration": 4,
    "start_time": "2023-02-07T12:33:24.496Z"
   },
   {
    "duration": 1521,
    "start_time": "2023-02-07T12:33:55.544Z"
   },
   {
    "duration": 14519,
    "start_time": "2023-02-07T12:34:01.304Z"
   },
   {
    "duration": 3413,
    "start_time": "2023-02-07T12:34:30.424Z"
   },
   {
    "duration": 15,
    "start_time": "2023-02-07T12:34:33.839Z"
   },
   {
    "duration": 7,
    "start_time": "2023-02-07T12:34:33.856Z"
   },
   {
    "duration": 33,
    "start_time": "2023-02-07T12:34:36.298Z"
   },
   {
    "duration": 10,
    "start_time": "2023-02-07T12:34:37.480Z"
   },
   {
    "duration": 10,
    "start_time": "2023-02-07T12:34:38.152Z"
   },
   {
    "duration": 4,
    "start_time": "2023-02-07T12:34:44.073Z"
   },
   {
    "duration": 2036,
    "start_time": "2023-02-07T12:34:45.736Z"
   },
   {
    "duration": 1132,
    "start_time": "2023-02-07T12:35:28.864Z"
   },
   {
    "duration": 561,
    "start_time": "2023-02-07T12:35:50.554Z"
   },
   {
    "duration": 4,
    "start_time": "2023-02-07T12:36:00.112Z"
   },
   {
    "duration": 20,
    "start_time": "2023-02-07T12:36:46.200Z"
   },
   {
    "duration": 5,
    "start_time": "2023-02-07T12:37:06.322Z"
   },
   {
    "duration": 1042001,
    "start_time": "2023-02-07T12:38:07.401Z"
   },
   {
    "duration": 48,
    "start_time": "2023-02-07T13:02:46.422Z"
   },
   {
    "duration": 9,
    "start_time": "2023-02-07T13:02:56.189Z"
   },
   {
    "duration": 10,
    "start_time": "2023-02-07T13:03:25.286Z"
   },
   {
    "duration": 53,
    "start_time": "2023-02-07T13:05:12.406Z"
   },
   {
    "duration": 21,
    "start_time": "2023-02-07T13:05:16.733Z"
   },
   {
    "duration": 20,
    "start_time": "2023-02-07T13:05:31.934Z"
   },
   {
    "duration": 56,
    "start_time": "2023-02-07T13:05:44.037Z"
   },
   {
    "duration": 4,
    "start_time": "2023-02-07T13:05:54.605Z"
   },
   {
    "duration": 4,
    "start_time": "2023-02-07T13:06:02.422Z"
   },
   {
    "duration": 5,
    "start_time": "2023-02-07T13:06:10.334Z"
   },
   {
    "duration": 4,
    "start_time": "2023-02-07T13:06:17.134Z"
   },
   {
    "duration": 69,
    "start_time": "2023-02-07T13:33:03.043Z"
   },
   {
    "duration": 5,
    "start_time": "2023-02-07T13:33:20.242Z"
   },
   {
    "duration": 79,
    "start_time": "2023-02-07T13:33:31.731Z"
   },
   {
    "duration": 4,
    "start_time": "2023-02-07T13:33:33.218Z"
   },
   {
    "duration": 122,
    "start_time": "2023-02-07T13:34:04.620Z"
   },
   {
    "duration": 4,
    "start_time": "2023-02-07T13:34:20.548Z"
   },
   {
    "duration": 59,
    "start_time": "2023-02-07T13:34:28.122Z"
   },
   {
    "duration": 10,
    "start_time": "2023-02-07T13:34:32.643Z"
   },
   {
    "duration": 8,
    "start_time": "2023-02-07T13:35:05.052Z"
   },
   {
    "duration": 156,
    "start_time": "2023-02-07T13:38:25.678Z"
   },
   {
    "duration": 26,
    "start_time": "2023-02-07T13:48:31.439Z"
   },
   {
    "duration": 33,
    "start_time": "2023-02-07T13:51:26.423Z"
   },
   {
    "duration": 41,
    "start_time": "2023-02-07T13:52:44.094Z"
   },
   {
    "duration": 6101,
    "start_time": "2023-02-07T13:53:02.608Z"
   },
   {
    "duration": 50,
    "start_time": "2023-02-07T13:54:05.447Z"
   },
   {
    "duration": 7,
    "start_time": "2023-02-07T13:54:23.815Z"
   },
   {
    "duration": 1528,
    "start_time": "2023-02-07T13:54:27.095Z"
   },
   {
    "duration": 3678,
    "start_time": "2023-02-07T13:54:31.735Z"
   },
   {
    "duration": 19,
    "start_time": "2023-02-07T13:54:39.235Z"
   },
   {
    "duration": 10,
    "start_time": "2023-02-07T13:54:50.119Z"
   },
   {
    "duration": 7,
    "start_time": "2023-02-07T13:55:24.959Z"
   },
   {
    "duration": 6,
    "start_time": "2023-02-07T13:55:26.400Z"
   },
   {
    "duration": 35,
    "start_time": "2023-02-07T13:55:26.807Z"
   },
   {
    "duration": 11,
    "start_time": "2023-02-07T13:55:28.551Z"
   },
   {
    "duration": 11,
    "start_time": "2023-02-07T13:55:35.247Z"
   },
   {
    "duration": 3,
    "start_time": "2023-02-07T13:57:33.751Z"
   },
   {
    "duration": 15001,
    "start_time": "2023-02-07T13:58:16.984Z"
   },
   {
    "duration": 5,
    "start_time": "2023-02-07T13:58:59.417Z"
   },
   {
    "duration": 357,
    "start_time": "2023-02-07T13:59:03.207Z"
   },
   {
    "duration": 708,
    "start_time": "2023-02-07T13:59:20.193Z"
   },
   {
    "duration": 480,
    "start_time": "2023-02-07T13:59:52.920Z"
   },
   {
    "duration": 451,
    "start_time": "2023-02-07T14:00:11.264Z"
   },
   {
    "duration": 25,
    "start_time": "2023-02-07T14:00:19.241Z"
   },
   {
    "duration": 21,
    "start_time": "2023-02-07T14:00:24.456Z"
   },
   {
    "duration": 6,
    "start_time": "2023-02-07T14:00:28.680Z"
   },
   {
    "duration": 25,
    "start_time": "2023-02-07T14:00:31.376Z"
   },
   {
    "duration": 1561,
    "start_time": "2023-02-08T12:59:49.920Z"
   },
   {
    "duration": 13236,
    "start_time": "2023-02-08T12:59:53.283Z"
   },
   {
    "duration": 9180,
    "start_time": "2023-02-08T13:00:31.059Z"
   },
   {
    "duration": 2332,
    "start_time": "2023-02-08T13:00:50.420Z"
   },
   {
    "duration": 16,
    "start_time": "2023-02-08T13:00:54.340Z"
   },
   {
    "duration": 7,
    "start_time": "2023-02-08T13:00:55.700Z"
   },
   {
    "duration": 32,
    "start_time": "2023-02-08T13:00:56.725Z"
   },
   {
    "duration": 11,
    "start_time": "2023-02-08T13:00:59.923Z"
   },
   {
    "duration": 9,
    "start_time": "2023-02-08T13:01:01.780Z"
   },
   {
    "duration": 3,
    "start_time": "2023-02-08T13:01:07.739Z"
   },
   {
    "duration": 2051,
    "start_time": "2023-02-08T13:01:13.875Z"
   },
   {
    "duration": 6,
    "start_time": "2023-02-08T13:01:20.642Z"
   },
   {
    "duration": 666,
    "start_time": "2023-02-08T13:01:36.947Z"
   },
   {
    "duration": 456,
    "start_time": "2023-02-08T13:01:43.684Z"
   },
   {
    "duration": 436,
    "start_time": "2023-02-08T13:01:53.364Z"
   },
   {
    "duration": 464,
    "start_time": "2023-02-08T13:02:12.884Z"
   },
   {
    "duration": 4,
    "start_time": "2023-02-08T13:02:36.786Z"
   },
   {
    "duration": 3,
    "start_time": "2023-02-08T13:03:09.795Z"
   },
   {
    "duration": 10,
    "start_time": "2023-02-08T13:03:23.636Z"
   },
   {
    "duration": 4,
    "start_time": "2023-02-08T13:04:13.155Z"
   },
   {
    "duration": 5,
    "start_time": "2023-02-08T13:04:18.472Z"
   },
   {
    "duration": 21,
    "start_time": "2023-02-08T13:05:22.404Z"
   },
   {
    "duration": 4,
    "start_time": "2023-02-08T13:05:36.795Z"
   },
   {
    "duration": 6,
    "start_time": "2023-02-08T13:05:54.500Z"
   },
   {
    "duration": 4,
    "start_time": "2023-02-08T13:06:01.780Z"
   },
   {
    "duration": 786,
    "start_time": "2023-02-08T13:06:44.964Z"
   },
   {
    "duration": 8,
    "start_time": "2023-02-08T13:06:45.883Z"
   },
   {
    "duration": 7,
    "start_time": "2023-02-08T13:06:47.508Z"
   },
   {
    "duration": 36,
    "start_time": "2023-02-08T13:06:48.819Z"
   },
   {
    "duration": 11,
    "start_time": "2023-02-08T13:06:50.811Z"
   },
   {
    "duration": 9,
    "start_time": "2023-02-08T13:06:51.995Z"
   },
   {
    "duration": 3,
    "start_time": "2023-02-08T13:06:53.843Z"
   },
   {
    "duration": 48,
    "start_time": "2023-02-08T13:07:11.645Z"
   },
   {
    "duration": 1694,
    "start_time": "2023-02-08T13:07:30.821Z"
   },
   {
    "duration": 15348,
    "start_time": "2023-02-08T13:07:36.300Z"
   },
   {
    "duration": 2440,
    "start_time": "2023-02-08T13:07:56.828Z"
   },
   {
    "duration": 14,
    "start_time": "2023-02-08T13:07:59.270Z"
   },
   {
    "duration": 10,
    "start_time": "2023-02-08T13:07:59.286Z"
   },
   {
    "duration": 42,
    "start_time": "2023-02-08T13:07:59.298Z"
   },
   {
    "duration": 12,
    "start_time": "2023-02-08T13:08:00.716Z"
   },
   {
    "duration": 9,
    "start_time": "2023-02-08T13:08:01.700Z"
   },
   {
    "duration": 3,
    "start_time": "2023-02-08T13:08:02.836Z"
   },
   {
    "duration": 1916,
    "start_time": "2023-02-08T13:08:05.292Z"
   },
   {
    "duration": 286120,
    "start_time": "2023-02-08T13:08:34.699Z"
   },
   {
    "duration": 3,
    "start_time": "2023-02-08T13:13:24.669Z"
   },
   {
    "duration": 597,
    "start_time": "2023-02-08T13:14:22.599Z"
   },
   {
    "duration": 506,
    "start_time": "2023-02-08T13:14:42.377Z"
   },
   {
    "duration": 48,
    "start_time": "2023-02-08T13:15:07.213Z"
   },
   {
    "duration": 83,
    "start_time": "2023-02-08T13:16:36.431Z"
   },
   {
    "duration": 39,
    "start_time": "2023-02-08T13:17:08.517Z"
   },
   {
    "duration": 45,
    "start_time": "2023-02-08T13:17:27.797Z"
   },
   {
    "duration": 745,
    "start_time": "2023-02-08T13:17:38.813Z"
   },
   {
    "duration": 503,
    "start_time": "2023-02-08T13:17:43.709Z"
   },
   {
    "duration": 498,
    "start_time": "2023-02-08T13:18:02.613Z"
   },
   {
    "duration": 4,
    "start_time": "2023-02-08T13:18:15.173Z"
   },
   {
    "duration": 948618,
    "start_time": "2023-02-08T13:19:00.030Z"
   },
   {
    "duration": 56,
    "start_time": "2023-02-08T13:56:57.322Z"
   },
   {
    "duration": 7,
    "start_time": "2023-02-08T13:57:25.284Z"
   },
   {
    "duration": 27,
    "start_time": "2023-02-08T13:57:28.006Z"
   },
   {
    "duration": 8,
    "start_time": "2023-02-08T13:57:36.058Z"
   },
   {
    "duration": 8,
    "start_time": "2023-02-08T13:57:37.586Z"
   },
   {
    "duration": 9,
    "start_time": "2023-02-08T13:57:41.170Z"
   },
   {
    "duration": 3,
    "start_time": "2023-02-08T13:58:49.824Z"
   },
   {
    "duration": 31,
    "start_time": "2023-02-08T13:58:58.865Z"
   },
   {
    "duration": 2,
    "start_time": "2023-02-08T13:59:01.394Z"
   },
   {
    "duration": 35,
    "start_time": "2023-02-08T13:59:02.759Z"
   },
   {
    "duration": 5,
    "start_time": "2023-02-08T13:59:10.212Z"
   },
   {
    "duration": 34,
    "start_time": "2023-02-08T13:59:46.075Z"
   },
   {
    "duration": 8,
    "start_time": "2023-02-08T13:59:47.347Z"
   },
   {
    "duration": 6646,
    "start_time": "2023-02-08T14:00:02.823Z"
   },
   {
    "duration": 57874,
    "start_time": "2023-02-08T14:02:52.771Z"
   },
   {
    "duration": 19,
    "start_time": "2023-02-08T14:04:54.300Z"
   },
   {
    "duration": 13,
    "start_time": "2023-02-08T14:04:56.370Z"
   },
   {
    "duration": 6,
    "start_time": "2023-02-08T14:05:39.427Z"
   },
   {
    "duration": 7,
    "start_time": "2023-02-08T14:05:44.756Z"
   },
   {
    "duration": 3,
    "start_time": "2023-02-08T14:07:22.770Z"
   },
   {
    "duration": 42,
    "start_time": "2023-02-08T14:07:49.988Z"
   },
   {
    "duration": 13,
    "start_time": "2023-02-08T14:08:14.332Z"
   },
   {
    "duration": 298,
    "start_time": "2023-02-08T14:10:47.660Z"
   },
   {
    "duration": 44,
    "start_time": "2023-02-08T14:15:20.869Z"
   },
   {
    "duration": 103,
    "start_time": "2023-02-08T14:20:38.756Z"
   },
   {
    "duration": 23,
    "start_time": "2023-02-08T14:20:39.628Z"
   },
   {
    "duration": 3,
    "start_time": "2023-02-08T14:22:46.733Z"
   },
   {
    "duration": 2,
    "start_time": "2023-02-08T14:22:48.133Z"
   },
   {
    "duration": 3,
    "start_time": "2023-02-08T14:23:09.252Z"
   },
   {
    "duration": 2,
    "start_time": "2023-02-08T14:23:10.157Z"
   },
   {
    "duration": 16,
    "start_time": "2023-02-08T14:23:41.493Z"
   },
   {
    "duration": 3,
    "start_time": "2023-02-08T14:23:51.397Z"
   },
   {
    "duration": 2,
    "start_time": "2023-02-08T14:23:52.085Z"
   },
   {
    "duration": 816,
    "start_time": "2023-02-08T14:23:52.949Z"
   },
   {
    "duration": 29,
    "start_time": "2023-02-08T14:24:35.816Z"
   },
   {
    "duration": 65,
    "start_time": "2023-02-08T14:26:15.582Z"
   },
   {
    "duration": 1196,
    "start_time": "2023-02-08T19:00:30.591Z"
   },
   {
    "duration": 444,
    "start_time": "2023-02-08T19:00:46.021Z"
   },
   {
    "duration": 14098,
    "start_time": "2023-02-08T19:00:51.830Z"
   },
   {
    "duration": 2632,
    "start_time": "2023-02-08T19:01:06.326Z"
   },
   {
    "duration": 16,
    "start_time": "2023-02-08T19:01:08.961Z"
   },
   {
    "duration": 8,
    "start_time": "2023-02-08T19:01:19.335Z"
   },
   {
    "duration": 30,
    "start_time": "2023-02-08T19:01:19.836Z"
   },
   {
    "duration": 10,
    "start_time": "2023-02-08T19:01:21.022Z"
   },
   {
    "duration": 8,
    "start_time": "2023-02-08T19:01:22.218Z"
   },
   {
    "duration": 3,
    "start_time": "2023-02-08T19:01:22.713Z"
   },
   {
    "duration": 1797,
    "start_time": "2023-02-08T19:01:23.120Z"
   },
   {
    "duration": 12,
    "start_time": "2023-02-08T19:01:24.919Z"
   },
   {
    "duration": 5,
    "start_time": "2023-02-08T19:01:40.682Z"
   },
   {
    "duration": 1031277,
    "start_time": "2023-02-08T19:01:54.182Z"
   },
   {
    "duration": 36,
    "start_time": "2023-02-08T19:22:48.949Z"
   },
   {
    "duration": 6,
    "start_time": "2023-02-08T19:22:49.812Z"
   },
   {
    "duration": 9,
    "start_time": "2023-02-08T19:22:50.735Z"
   },
   {
    "duration": 6,
    "start_time": "2023-02-08T19:22:53.822Z"
   },
   {
    "duration": 3,
    "start_time": "2023-02-08T19:23:02.890Z"
   },
   {
    "duration": 31,
    "start_time": "2023-02-08T19:23:05.390Z"
   },
   {
    "duration": 6471,
    "start_time": "2023-02-08T19:23:06.886Z"
   },
   {
    "duration": 57202,
    "start_time": "2023-02-08T19:27:15.408Z"
   },
   {
    "duration": 22,
    "start_time": "2023-02-08T19:31:07.726Z"
   },
   {
    "duration": 5,
    "start_time": "2023-02-08T19:31:08.383Z"
   },
   {
    "duration": 38,
    "start_time": "2023-02-08T19:31:11.051Z"
   },
   {
    "duration": 58490,
    "start_time": "2023-02-08T19:32:22.604Z"
   },
   {
    "duration": 19,
    "start_time": "2023-02-08T19:36:01.560Z"
   },
   {
    "duration": 5,
    "start_time": "2023-02-08T19:36:02.618Z"
   },
   {
    "duration": 39,
    "start_time": "2023-02-08T19:36:04.058Z"
   },
   {
    "duration": 2,
    "start_time": "2023-02-08T19:39:05.879Z"
   },
   {
    "duration": 4,
    "start_time": "2023-02-08T19:39:08.193Z"
   },
   {
    "duration": 4,
    "start_time": "2023-02-08T19:41:39.810Z"
   },
   {
    "duration": 352,
    "start_time": "2023-02-08T19:41:40.723Z"
   },
   {
    "duration": 4,
    "start_time": "2023-02-08T19:41:57.326Z"
   },
   {
    "duration": 19,
    "start_time": "2023-02-08T19:42:17.569Z"
   },
   {
    "duration": 95,
    "start_time": "2023-02-08T19:43:26.695Z"
   },
   {
    "duration": 4,
    "start_time": "2023-02-08T19:43:38.937Z"
   },
   {
    "duration": 390,
    "start_time": "2023-02-08T19:43:40.460Z"
   },
   {
    "duration": 85,
    "start_time": "2023-02-08T19:44:16.278Z"
   },
   {
    "duration": 1712,
    "start_time": "2023-02-08T19:46:23.358Z"
   },
   {
    "duration": 15803,
    "start_time": "2023-02-08T19:46:25.072Z"
   },
   {
    "duration": 2297,
    "start_time": "2023-02-08T19:46:40.877Z"
   },
   {
    "duration": 14,
    "start_time": "2023-02-08T19:46:43.176Z"
   },
   {
    "duration": 8,
    "start_time": "2023-02-08T19:46:43.191Z"
   },
   {
    "duration": 41,
    "start_time": "2023-02-08T19:46:43.201Z"
   },
   {
    "duration": 35,
    "start_time": "2023-02-08T19:46:43.244Z"
   },
   {
    "duration": 15,
    "start_time": "2023-02-08T19:46:43.282Z"
   },
   {
    "duration": 8,
    "start_time": "2023-02-08T19:46:43.299Z"
   },
   {
    "duration": 1835,
    "start_time": "2023-02-08T19:46:43.311Z"
   },
   {
    "duration": 1041729,
    "start_time": "2023-02-08T19:46:45.149Z"
   },
   {
    "duration": 48,
    "start_time": "2023-02-08T20:04:06.879Z"
   },
   {
    "duration": 34,
    "start_time": "2023-02-08T20:04:06.929Z"
   },
   {
    "duration": 32,
    "start_time": "2023-02-08T20:04:06.965Z"
   },
   {
    "duration": 27,
    "start_time": "2023-02-08T20:04:06.999Z"
   },
   {
    "duration": 8,
    "start_time": "2023-02-08T20:04:07.028Z"
   },
   {
    "duration": 33,
    "start_time": "2023-02-08T20:04:07.038Z"
   },
   {
    "duration": 6648,
    "start_time": "2023-02-08T20:04:07.073Z"
   },
   {
    "duration": 53072,
    "start_time": "2023-02-08T20:04:13.722Z"
   },
   {
    "duration": 102,
    "start_time": "2023-02-08T20:05:06.797Z"
   },
   {
    "duration": 38,
    "start_time": "2023-02-08T20:05:06.901Z"
   },
   {
    "duration": 2,
    "start_time": "2023-02-08T20:05:06.941Z"
   },
   {
    "duration": 6,
    "start_time": "2023-02-08T20:05:06.945Z"
   },
   {
    "duration": 6,
    "start_time": "2023-02-08T20:05:06.953Z"
   },
   {
    "duration": 5359,
    "start_time": "2023-02-08T20:05:06.962Z"
   },
   {
    "duration": 4,
    "start_time": "2023-02-08T20:07:19.966Z"
   },
   {
    "duration": 3,
    "start_time": "2023-02-08T20:07:23.243Z"
   },
   {
    "duration": 35,
    "start_time": "2023-02-08T20:07:23.558Z"
   },
   {
    "duration": 2269,
    "start_time": "2023-02-08T20:08:13.826Z"
   },
   {
    "duration": 14607,
    "start_time": "2023-02-08T20:08:16.098Z"
   },
   {
    "duration": 2175,
    "start_time": "2023-02-08T20:09:58.311Z"
   },
   {
    "duration": 14,
    "start_time": "2023-02-08T20:10:06.538Z"
   },
   {
    "duration": 12,
    "start_time": "2023-02-08T20:10:43.047Z"
   },
   {
    "duration": 3,
    "start_time": "2023-02-08T20:10:47.545Z"
   },
   {
    "duration": 3,
    "start_time": "2023-02-08T20:12:19.634Z"
   },
   {
    "duration": 31,
    "start_time": "2023-02-08T20:12:32.375Z"
   },
   {
    "duration": 324,
    "start_time": "2023-02-08T20:12:35.683Z"
   },
   {
    "duration": 7,
    "start_time": "2023-02-08T20:12:42.471Z"
   },
   {
    "duration": 415,
    "start_time": "2023-02-08T20:12:46.942Z"
   },
   {
    "duration": 23,
    "start_time": "2023-02-08T20:13:13.899Z"
   },
   {
    "duration": 404,
    "start_time": "2023-02-08T20:13:16.394Z"
   },
   {
    "duration": 23,
    "start_time": "2023-02-08T20:13:35.484Z"
   },
   {
    "duration": 368,
    "start_time": "2023-02-08T20:13:37.852Z"
   },
   {
    "duration": 32,
    "start_time": "2023-02-08T20:13:56.472Z"
   },
   {
    "duration": 9968,
    "start_time": "2023-02-08T20:13:56.506Z"
   },
   {
    "duration": 2157,
    "start_time": "2023-02-08T20:14:06.477Z"
   },
   {
    "duration": 8,
    "start_time": "2023-02-08T20:14:08.636Z"
   },
   {
    "duration": 9,
    "start_time": "2023-02-08T20:14:08.645Z"
   },
   {
    "duration": 42,
    "start_time": "2023-02-08T20:14:08.656Z"
   },
   {
    "duration": 10,
    "start_time": "2023-02-08T20:14:08.700Z"
   },
   {
    "duration": 15,
    "start_time": "2023-02-08T20:14:08.712Z"
   },
   {
    "duration": 3038,
    "start_time": "2023-02-08T20:14:19.428Z"
   },
   {
    "duration": 4,
    "start_time": "2023-02-08T20:14:28.772Z"
   },
   {
    "duration": 1234,
    "start_time": "2023-02-08T20:14:31.100Z"
   },
   {
    "duration": 9,
    "start_time": "2023-02-08T20:14:35.343Z"
   },
   {
    "duration": 4,
    "start_time": "2023-02-08T20:15:18.365Z"
   },
   {
    "duration": 9038,
    "start_time": "2023-02-08T20:15:18.371Z"
   },
   {
    "duration": 2870,
    "start_time": "2023-02-08T20:18:52.883Z"
   },
   {
    "duration": 15291,
    "start_time": "2023-02-08T20:18:57.535Z"
   },
   {
    "duration": 2187,
    "start_time": "2023-02-08T20:19:12.828Z"
   },
   {
    "duration": 17,
    "start_time": "2023-02-08T20:19:15.016Z"
   },
   {
    "duration": 15,
    "start_time": "2023-02-08T20:19:15.035Z"
   },
   {
    "duration": 36,
    "start_time": "2023-02-08T20:19:15.052Z"
   },
   {
    "duration": 17,
    "start_time": "2023-02-08T20:19:15.093Z"
   },
   {
    "duration": 20,
    "start_time": "2023-02-08T20:19:15.113Z"
   },
   {
    "duration": 10,
    "start_time": "2023-02-08T20:19:15.136Z"
   },
   {
    "duration": 1857,
    "start_time": "2023-02-08T20:19:15.148Z"
   },
   {
    "duration": 1036434,
    "start_time": "2023-02-08T20:19:17.007Z"
   },
   {
    "duration": 38,
    "start_time": "2023-02-08T20:37:16.874Z"
   },
   {
    "duration": 7,
    "start_time": "2023-02-08T20:37:17.637Z"
   },
   {
    "duration": 5370,
    "start_time": "2023-02-08T20:37:22.352Z"
   },
   {
    "duration": 7,
    "start_time": "2023-02-08T20:37:33.237Z"
   },
   {
    "duration": 3,
    "start_time": "2023-02-08T20:37:52.046Z"
   },
   {
    "duration": 21,
    "start_time": "2023-02-08T20:37:53.007Z"
   },
   {
    "duration": 6274,
    "start_time": "2023-02-08T20:37:54.896Z"
   },
   {
    "duration": 51471,
    "start_time": "2023-02-08T20:38:03.830Z"
   },
   {
    "duration": 19,
    "start_time": "2023-02-08T20:39:11.235Z"
   },
   {
    "duration": 35,
    "start_time": "2023-02-08T20:39:12.138Z"
   },
   {
    "duration": 336,
    "start_time": "2023-02-08T20:40:41.967Z"
   },
   {
    "duration": 22,
    "start_time": "2023-02-08T20:40:56.037Z"
   },
   {
    "duration": 20,
    "start_time": "2023-02-08T20:42:53.100Z"
   },
   {
    "duration": 7,
    "start_time": "2023-02-08T20:43:33.222Z"
   },
   {
    "duration": 3,
    "start_time": "2023-02-08T20:43:40.589Z"
   },
   {
    "duration": 53,
    "start_time": "2023-02-08T20:43:47.624Z"
   },
   {
    "duration": 37,
    "start_time": "2023-02-08T20:44:06.362Z"
   },
   {
    "duration": 3,
    "start_time": "2023-02-08T20:44:17.022Z"
   },
   {
    "duration": 80,
    "start_time": "2023-02-08T20:44:23.722Z"
   },
   {
    "duration": 2320,
    "start_time": "2023-02-08T20:45:13.329Z"
   },
   {
    "duration": 15374,
    "start_time": "2023-02-08T20:45:20.046Z"
   },
   {
    "duration": 10,
    "start_time": "2023-02-08T20:45:35.422Z"
   },
   {
    "duration": 2106,
    "start_time": "2023-02-08T20:45:50.729Z"
   },
   {
    "duration": 16,
    "start_time": "2023-02-08T20:45:53.158Z"
   },
   {
    "duration": 12,
    "start_time": "2023-02-08T20:46:00.021Z"
   },
   {
    "duration": 3,
    "start_time": "2023-02-08T20:46:03.795Z"
   },
   {
    "duration": 19,
    "start_time": "2023-02-08T20:46:04.829Z"
   },
   {
    "duration": 767,
    "start_time": "2023-02-08T20:46:05.974Z"
   },
   {
    "duration": 382,
    "start_time": "2023-02-08T20:46:22.191Z"
   },
   {
    "duration": 12,
    "start_time": "2023-02-08T20:47:22.731Z"
   },
   {
    "duration": 9121,
    "start_time": "2023-02-08T20:47:23.857Z"
   },
   {
    "duration": 4,
    "start_time": "2023-02-08T20:47:40.653Z"
   },
   {
    "duration": 2026,
    "start_time": "2023-02-08T20:47:42.993Z"
   },
   {
    "duration": 9,
    "start_time": "2023-02-08T20:47:45.737Z"
   },
   {
    "duration": 12,
    "start_time": "2023-02-08T20:47:47.792Z"
   },
   {
    "duration": 43,
    "start_time": "2023-02-08T20:47:56.126Z"
   },
   {
    "duration": 19,
    "start_time": "2023-02-08T20:47:56.855Z"
   },
   {
    "duration": 393,
    "start_time": "2023-02-08T20:47:58.064Z"
   },
   {
    "duration": 1829,
    "start_time": "2023-02-08T20:49:13.265Z"
   },
   {
    "duration": 3,
    "start_time": "2023-02-08T20:49:16.855Z"
   },
   {
    "duration": 49,
    "start_time": "2023-02-08T20:49:30.960Z"
   },
   {
    "duration": 7,
    "start_time": "2023-02-08T20:49:38.673Z"
   },
   {
    "duration": 1972,
    "start_time": "2023-02-08T20:49:44.993Z"
   },
   {
    "duration": 14772,
    "start_time": "2023-02-08T20:49:46.966Z"
   },
   {
    "duration": 7,
    "start_time": "2023-02-08T20:50:07.887Z"
   },
   {
    "duration": 2237,
    "start_time": "2023-02-08T20:50:09.150Z"
   },
   {
    "duration": 16,
    "start_time": "2023-02-08T20:50:11.388Z"
   },
   {
    "duration": 13,
    "start_time": "2023-02-08T20:50:14.326Z"
   },
   {
    "duration": 1798,
    "start_time": "2023-02-08T20:50:15.709Z"
   },
   {
    "duration": 3,
    "start_time": "2023-02-08T20:50:27.656Z"
   },
   {
    "duration": 49,
    "start_time": "2023-02-08T20:50:33.160Z"
   },
   {
    "duration": 1951,
    "start_time": "2023-02-08T20:50:52.840Z"
   },
   {
    "duration": 15349,
    "start_time": "2023-02-08T20:50:56.134Z"
   },
   {
    "duration": 304,
    "start_time": "2023-02-08T20:51:11.485Z"
   },
   {
    "duration": 8,
    "start_time": "2023-02-08T20:51:30.979Z"
   },
   {
    "duration": 9318,
    "start_time": "2023-02-08T20:51:31.883Z"
   },
   {
    "duration": 2116,
    "start_time": "2023-02-08T20:51:50.755Z"
   },
   {
    "duration": 17,
    "start_time": "2023-02-08T20:52:07.526Z"
   },
   {
    "duration": 13,
    "start_time": "2023-02-08T20:52:09.122Z"
   },
   {
    "duration": 1880,
    "start_time": "2023-02-08T20:52:45.123Z"
   },
   {
    "duration": 14998,
    "start_time": "2023-02-08T20:52:47.005Z"
   },
   {
    "duration": 8,
    "start_time": "2023-02-08T20:53:02.005Z"
   },
   {
    "duration": 2073,
    "start_time": "2023-02-08T20:53:03.063Z"
   },
   {
    "duration": 17,
    "start_time": "2023-02-08T20:53:05.138Z"
   },
   {
    "duration": 13,
    "start_time": "2023-02-08T20:53:05.156Z"
   },
   {
    "duration": 1785,
    "start_time": "2023-02-08T20:53:13.036Z"
   },
   {
    "duration": 3,
    "start_time": "2023-02-08T20:53:29.349Z"
   },
   {
    "duration": 51,
    "start_time": "2023-02-08T20:53:59.969Z"
   },
   {
    "duration": 1870,
    "start_time": "2023-02-08T20:54:21.230Z"
   },
   {
    "duration": 14883,
    "start_time": "2023-02-08T20:54:23.103Z"
   },
   {
    "duration": 2087,
    "start_time": "2023-02-08T20:54:39.295Z"
   },
   {
    "duration": 8,
    "start_time": "2023-02-08T20:54:43.385Z"
   },
   {
    "duration": 53,
    "start_time": "2023-02-08T20:54:46.230Z"
   },
   {
    "duration": 17,
    "start_time": "2023-02-08T20:55:02.041Z"
   },
   {
    "duration": 1808,
    "start_time": "2023-02-08T20:55:13.338Z"
   },
   {
    "duration": 3,
    "start_time": "2023-02-08T20:55:20.656Z"
   },
   {
    "duration": 78,
    "start_time": "2023-02-08T20:57:15.320Z"
   },
   {
    "duration": 100331,
    "start_time": "2023-02-08T20:57:21.038Z"
   },
   {
    "duration": 331,
    "start_time": "2023-02-08T21:00:01.564Z"
   },
   {
    "duration": 2468,
    "start_time": "2023-02-08T21:00:07.216Z"
   },
   {
    "duration": 8,
    "start_time": "2023-02-08T21:00:15.457Z"
   },
   {
    "duration": 3275,
    "start_time": "2023-02-08T21:00:17.635Z"
   },
   {
    "duration": 52,
    "start_time": "2023-02-08T21:00:20.912Z"
   },
   {
    "duration": 20,
    "start_time": "2023-02-08T21:00:25.706Z"
   },
   {
    "duration": 2119,
    "start_time": "2023-02-08T21:00:26.046Z"
   },
   {
    "duration": 3,
    "start_time": "2023-02-08T21:00:30.159Z"
   },
   {
    "duration": 56,
    "start_time": "2023-02-08T21:00:39.855Z"
   },
   {
    "duration": 2356,
    "start_time": "2023-02-08T21:03:31.927Z"
   },
   {
    "duration": 207193,
    "start_time": "2023-02-08T21:03:34.285Z"
   },
   {
    "duration": 232,
    "start_time": "2023-02-08T22:17:42.717Z"
   },
   {
    "duration": 23290,
    "start_time": "2023-02-08T22:17:43.538Z"
   },
   {
    "duration": 12897,
    "start_time": "2023-02-08T22:18:08.898Z"
   },
   {
    "duration": 15,
    "start_time": "2023-02-08T22:18:37.381Z"
   },
   {
    "duration": 2969,
    "start_time": "2023-02-08T22:18:40.881Z"
   },
   {
    "duration": 67,
    "start_time": "2023-02-08T22:18:43.852Z"
   },
   {
    "duration": 18,
    "start_time": "2023-02-08T22:18:47.518Z"
   },
   {
    "duration": 3974,
    "start_time": "2023-02-08T22:18:48.655Z"
   },
   {
    "duration": 4,
    "start_time": "2023-02-08T22:18:56.395Z"
   },
   {
    "duration": 4883,
    "start_time": "2023-02-08T22:19:14.329Z"
   },
   {
    "duration": 28129,
    "start_time": "2023-02-08T22:19:19.215Z"
   },
   {
    "duration": 2619,
    "start_time": "2023-02-08T22:19:54.030Z"
   },
   {
    "duration": 63,
    "start_time": "2023-02-08T22:19:58.482Z"
   },
   {
    "duration": 19,
    "start_time": "2023-02-08T22:20:00.237Z"
   },
   {
    "duration": 65,
    "start_time": "2023-02-08T22:20:11.597Z"
   },
   {
    "duration": 5335,
    "start_time": "2023-02-08T22:20:28.426Z"
   },
   {
    "duration": 28298,
    "start_time": "2023-02-08T22:20:33.763Z"
   },
   {
    "duration": 29,
    "start_time": "2023-02-08T22:21:02.063Z"
   },
   {
    "duration": 2502,
    "start_time": "2023-02-08T22:21:03.516Z"
   },
   {
    "duration": 72,
    "start_time": "2023-02-08T22:21:06.021Z"
   },
   {
    "duration": 21,
    "start_time": "2023-02-08T22:21:12.818Z"
   },
   {
    "duration": 2246,
    "start_time": "2023-02-08T22:21:45.791Z"
   },
   {
    "duration": 879,
    "start_time": "2023-02-08T22:22:21.674Z"
   },
   {
    "duration": 4,
    "start_time": "2023-02-08T22:22:26.767Z"
   },
   {
    "duration": 1546,
    "start_time": "2023-02-09T05:56:09.802Z"
   },
   {
    "duration": 12129,
    "start_time": "2023-02-09T05:56:19.866Z"
   },
   {
    "duration": 3620,
    "start_time": "2023-02-09T05:57:13.514Z"
   },
   {
    "duration": 13,
    "start_time": "2023-02-09T05:57:19.827Z"
   },
   {
    "duration": 6,
    "start_time": "2023-02-09T05:57:21.283Z"
   },
   {
    "duration": 31,
    "start_time": "2023-02-09T05:57:22.067Z"
   },
   {
    "duration": 11,
    "start_time": "2023-02-09T05:57:24.169Z"
   },
   {
    "duration": 9,
    "start_time": "2023-02-09T05:57:25.826Z"
   },
   {
    "duration": 3,
    "start_time": "2023-02-09T05:57:28.266Z"
   },
   {
    "duration": 1778,
    "start_time": "2023-02-09T05:57:28.619Z"
   },
   {
    "duration": 804,
    "start_time": "2023-02-09T05:57:47.530Z"
   },
   {
    "duration": 5,
    "start_time": "2023-02-09T05:58:29.355Z"
   },
   {
    "duration": 3,
    "start_time": "2023-02-09T05:58:34.034Z"
   },
   {
    "duration": 1498,
    "start_time": "2023-02-09T05:59:00.228Z"
   },
   {
    "duration": 12308,
    "start_time": "2023-02-09T05:59:01.727Z"
   },
   {
    "duration": 3582,
    "start_time": "2023-02-09T05:59:15.027Z"
   },
   {
    "duration": 14,
    "start_time": "2023-02-09T05:59:18.611Z"
   },
   {
    "duration": 7,
    "start_time": "2023-02-09T05:59:18.627Z"
   },
   {
    "duration": 31,
    "start_time": "2023-02-09T05:59:18.638Z"
   },
   {
    "duration": 11,
    "start_time": "2023-02-09T05:59:18.671Z"
   },
   {
    "duration": 10,
    "start_time": "2023-02-09T05:59:18.684Z"
   },
   {
    "duration": 3,
    "start_time": "2023-02-09T05:59:18.772Z"
   },
   {
    "duration": 1856,
    "start_time": "2023-02-09T05:59:21.947Z"
   },
   {
    "duration": 945384,
    "start_time": "2023-02-09T05:59:26.371Z"
   },
   {
    "duration": 37,
    "start_time": "2023-02-09T06:19:38.271Z"
   },
   {
    "duration": 7,
    "start_time": "2023-02-09T06:19:40.869Z"
   },
   {
    "duration": 5344,
    "start_time": "2023-02-09T06:19:45.725Z"
   },
   {
    "duration": 4,
    "start_time": "2023-02-09T06:19:53.974Z"
   },
   {
    "duration": 4,
    "start_time": "2023-02-09T06:20:14.526Z"
   },
   {
    "duration": 3,
    "start_time": "2023-02-09T06:20:34.030Z"
   },
   {
    "duration": 30,
    "start_time": "2023-02-09T06:20:40.911Z"
   },
   {
    "duration": 6130,
    "start_time": "2023-02-09T06:20:47.573Z"
   },
   {
    "duration": 305,
    "start_time": "2023-02-09T06:22:15.397Z"
   },
   {
    "duration": 48059,
    "start_time": "2023-02-09T06:22:26.280Z"
   },
   {
    "duration": 16,
    "start_time": "2023-02-09T06:23:26.231Z"
   },
   {
    "duration": 37,
    "start_time": "2023-02-09T06:23:27.486Z"
   },
   {
    "duration": 2,
    "start_time": "2023-02-09T06:24:39.327Z"
   },
   {
    "duration": 1390,
    "start_time": "2023-02-09T06:36:28.507Z"
   },
   {
    "duration": 12205,
    "start_time": "2023-02-09T06:36:30.132Z"
   },
   {
    "duration": 6,
    "start_time": "2023-02-09T06:39:22.038Z"
   },
   {
    "duration": 2430,
    "start_time": "2023-02-09T06:39:27.256Z"
   },
   {
    "duration": 1819,
    "start_time": "2023-02-09T06:39:59.577Z"
   },
   {
    "duration": 297,
    "start_time": "2023-02-09T06:40:14.926Z"
   },
   {
    "duration": 20,
    "start_time": "2023-02-09T06:40:22.471Z"
   },
   {
    "duration": 3,
    "start_time": "2023-02-09T06:40:34.640Z"
   },
   {
    "duration": 43,
    "start_time": "2023-02-09T06:42:11.384Z"
   },
   {
    "duration": 1522,
    "start_time": "2023-02-09T06:42:33.217Z"
   },
   {
    "duration": 11620,
    "start_time": "2023-02-09T06:42:36.000Z"
   },
   {
    "duration": 3351,
    "start_time": "2023-02-09T06:42:53.001Z"
   },
   {
    "duration": 14,
    "start_time": "2023-02-09T06:43:07.817Z"
   },
   {
    "duration": 6,
    "start_time": "2023-02-09T06:43:08.841Z"
   },
   {
    "duration": 3,
    "start_time": "2023-02-09T06:43:09.872Z"
   },
   {
    "duration": 11,
    "start_time": "2023-02-09T06:43:12.217Z"
   },
   {
    "duration": 3,
    "start_time": "2023-02-09T06:43:14.657Z"
   },
   {
    "duration": 3,
    "start_time": "2023-02-09T06:43:15.657Z"
   },
   {
    "duration": 3,
    "start_time": "2023-02-09T06:43:17.161Z"
   },
   {
    "duration": 854,
    "start_time": "2023-02-09T06:43:33.465Z"
   },
   {
    "duration": 3,
    "start_time": "2023-02-09T06:43:37.921Z"
   },
   {
    "duration": 16,
    "start_time": "2023-02-09T06:43:38.746Z"
   },
   {
    "duration": 7434,
    "start_time": "2023-02-09T06:43:40.442Z"
   },
   {
    "duration": 3,
    "start_time": "2023-02-09T06:43:49.233Z"
   },
   {
    "duration": 3,
    "start_time": "2023-02-09T06:43:49.977Z"
   },
   {
    "duration": 3,
    "start_time": "2023-02-09T06:44:32.545Z"
   },
   {
    "duration": 5,
    "start_time": "2023-02-09T06:44:37.074Z"
   },
   {
    "duration": 19,
    "start_time": "2023-02-09T06:44:38.353Z"
   },
   {
    "duration": 5,
    "start_time": "2023-02-09T06:44:42.714Z"
   },
   {
    "duration": 3,
    "start_time": "2023-02-09T06:44:50.176Z"
   },
   {
    "duration": 5,
    "start_time": "2023-02-09T06:44:51.256Z"
   },
   {
    "duration": 48,
    "start_time": "2023-02-09T06:44:52.193Z"
   },
   {
    "duration": 31,
    "start_time": "2023-02-09T06:44:54.969Z"
   },
   {
    "duration": 3,
    "start_time": "2023-02-09T06:44:57.057Z"
   },
   {
    "duration": 5,
    "start_time": "2023-02-09T06:44:58.441Z"
   },
   {
    "duration": 3,
    "start_time": "2023-02-09T06:45:07.872Z"
   },
   {
    "duration": 289,
    "start_time": "2023-02-09T06:45:09.649Z"
   },
   {
    "duration": 3,
    "start_time": "2023-02-09T06:45:11.857Z"
   },
   {
    "duration": 6,
    "start_time": "2023-02-09T06:45:13.401Z"
   },
   {
    "duration": 129,
    "start_time": "2023-02-09T06:52:41.019Z"
   },
   {
    "duration": 52,
    "start_time": "2023-02-09T06:52:48.467Z"
   },
   {
    "duration": 15,
    "start_time": "2023-02-09T06:52:54.202Z"
   },
   {
    "duration": 7,
    "start_time": "2023-02-09T06:52:55.298Z"
   },
   {
    "duration": 3,
    "start_time": "2023-02-09T06:52:59.474Z"
   },
   {
    "duration": 15,
    "start_time": "2023-02-09T06:53:04.634Z"
   },
   {
    "duration": 59,
    "start_time": "2023-02-09T06:53:06.154Z"
   },
   {
    "duration": 30,
    "start_time": "2023-02-09T06:53:07.818Z"
   },
   {
    "duration": 3,
    "start_time": "2023-02-09T06:53:08.642Z"
   },
   {
    "duration": 6,
    "start_time": "2023-02-09T06:53:09.322Z"
   },
   {
    "duration": 5,
    "start_time": "2023-02-09T06:55:27.011Z"
   },
   {
    "duration": 9342,
    "start_time": "2023-02-09T06:55:29.186Z"
   },
   {
    "duration": 720,
    "start_time": "2023-02-09T06:56:46.868Z"
   },
   {
    "duration": 8,
    "start_time": "2023-02-09T06:56:49.028Z"
   },
   {
    "duration": 7,
    "start_time": "2023-02-09T06:56:50.659Z"
   },
   {
    "duration": 18,
    "start_time": "2023-02-09T06:58:20.516Z"
   },
   {
    "duration": 26,
    "start_time": "2023-02-09T06:58:22.132Z"
   },
   {
    "duration": 11,
    "start_time": "2023-02-09T06:58:29.691Z"
   },
   {
    "duration": 8,
    "start_time": "2023-02-09T06:58:30.685Z"
   },
   {
    "duration": 3,
    "start_time": "2023-02-09T06:58:32.267Z"
   },
   {
    "duration": 1336,
    "start_time": "2023-02-09T06:58:34.355Z"
   },
   {
    "duration": 709800,
    "start_time": "2023-02-09T06:58:36.431Z"
   },
   {
    "duration": 7,
    "start_time": "2023-02-09T07:19:31.447Z"
   },
   {
    "duration": 29,
    "start_time": "2023-02-09T07:19:41.335Z"
   },
   {
    "duration": 6,
    "start_time": "2023-02-09T07:19:41.719Z"
   },
   {
    "duration": 4,
    "start_time": "2023-02-09T07:19:42.095Z"
   },
   {
    "duration": 3,
    "start_time": "2023-02-09T07:19:44.526Z"
   },
   {
    "duration": 1598,
    "start_time": "2023-02-09T07:26:19.377Z"
   },
   {
    "duration": 12863,
    "start_time": "2023-02-09T07:26:22.968Z"
   },
   {
    "duration": 2387,
    "start_time": "2023-02-09T07:26:52.440Z"
   },
   {
    "duration": 19,
    "start_time": "2023-02-09T07:26:56.039Z"
   },
   {
    "duration": 53,
    "start_time": "2023-02-09T07:27:04.808Z"
   },
   {
    "duration": 72,
    "start_time": "2023-02-09T07:27:28.680Z"
   },
   {
    "duration": 51,
    "start_time": "2023-02-09T07:27:44.216Z"
   },
   {
    "duration": 26,
    "start_time": "2023-02-09T07:28:39.641Z"
   },
   {
    "duration": 7,
    "start_time": "2023-02-09T07:29:15.481Z"
   },
   {
    "duration": 325,
    "start_time": "2023-02-09T07:43:43.777Z"
   },
   {
    "duration": 54,
    "start_time": "2023-02-09T07:44:33.868Z"
   },
   {
    "duration": 69,
    "start_time": "2023-02-09T07:47:01.892Z"
   },
   {
    "duration": 2,
    "start_time": "2023-02-09T07:47:59.789Z"
   },
   {
    "duration": 37,
    "start_time": "2023-02-09T07:48:02.159Z"
   },
   {
    "duration": 5,
    "start_time": "2023-02-09T07:48:22.379Z"
   },
   {
    "duration": 6,
    "start_time": "2023-02-09T07:50:14.484Z"
   },
   {
    "duration": 8,
    "start_time": "2023-02-09T07:50:47.773Z"
   },
   {
    "duration": 25,
    "start_time": "2023-02-09T07:50:49.132Z"
   },
   {
    "duration": 5,
    "start_time": "2023-02-09T07:50:56.228Z"
   },
   {
    "duration": 1242,
    "start_time": "2023-02-09T07:50:58.795Z"
   },
   {
    "duration": 10708,
    "start_time": "2023-02-09T07:51:01.629Z"
   },
   {
    "duration": 5,
    "start_time": "2023-02-09T07:51:13.699Z"
   },
   {
    "duration": 12,
    "start_time": "2023-02-09T07:51:15.085Z"
   },
   {
    "duration": 14,
    "start_time": "2023-02-09T07:51:46.661Z"
   },
   {
    "duration": 1234,
    "start_time": "2023-02-09T07:51:47.564Z"
   },
   {
    "duration": 14622,
    "start_time": "2023-02-09T07:51:50.540Z"
   },
   {
    "duration": 5,
    "start_time": "2023-02-09T07:52:06.860Z"
   },
   {
    "duration": 12,
    "start_time": "2023-02-09T07:52:08.316Z"
   },
   {
    "duration": 4,
    "start_time": "2023-02-09T07:52:16.820Z"
   },
   {
    "duration": 25,
    "start_time": "2023-02-09T07:52:23.404Z"
   },
   {
    "duration": 7,
    "start_time": "2023-02-09T07:52:35.396Z"
   },
   {
    "duration": 54,
    "start_time": "2023-02-09T08:08:09.965Z"
   },
   {
    "duration": 5,
    "start_time": "2023-02-09T08:08:13.288Z"
   },
   {
    "duration": 15,
    "start_time": "2023-02-09T08:08:28.757Z"
   },
   {
    "duration": 1914,
    "start_time": "2023-02-09T08:08:29.768Z"
   },
   {
    "duration": 27139,
    "start_time": "2023-02-09T08:08:31.817Z"
   },
   {
    "duration": 6,
    "start_time": "2023-02-09T08:09:00.864Z"
   },
   {
    "duration": 20,
    "start_time": "2023-02-09T08:09:02.031Z"
   },
   {
    "duration": 5,
    "start_time": "2023-02-09T08:09:04.368Z"
   },
   {
    "duration": 10,
    "start_time": "2023-02-09T08:09:04.631Z"
   },
   {
    "duration": 6,
    "start_time": "2023-02-09T08:09:42.558Z"
   },
   {
    "duration": 93627,
    "start_time": "2023-02-09T08:09:44.976Z"
   },
   {
    "duration": 6,
    "start_time": "2023-02-09T08:11:23.968Z"
   },
   {
    "duration": 17,
    "start_time": "2023-02-09T08:11:25.232Z"
   },
   {
    "duration": 61,
    "start_time": "2023-02-09T08:13:42.065Z"
   },
   {
    "duration": 6,
    "start_time": "2023-02-09T08:13:43.267Z"
   },
   {
    "duration": 33,
    "start_time": "2023-02-09T08:14:38.774Z"
   },
   {
    "duration": 3755,
    "start_time": "2023-02-09T08:14:42.586Z"
   },
   {
    "duration": 38381,
    "start_time": "2023-02-09T08:14:48.260Z"
   },
   {
    "duration": 9,
    "start_time": "2023-02-09T08:15:29.274Z"
   },
   {
    "duration": 25,
    "start_time": "2023-02-09T08:15:31.097Z"
   },
   {
    "duration": 5,
    "start_time": "2023-02-09T08:15:32.167Z"
   },
   {
    "duration": 12,
    "start_time": "2023-02-09T08:15:32.576Z"
   },
   {
    "duration": 6,
    "start_time": "2023-02-09T08:16:52.620Z"
   },
   {
    "duration": 3,
    "start_time": "2023-02-09T08:17:02.889Z"
   },
   {
    "duration": 243601,
    "start_time": "2023-02-09T08:17:04.570Z"
   },
   {
    "duration": 9,
    "start_time": "2023-02-09T08:30:20.501Z"
   },
   {
    "duration": 22,
    "start_time": "2023-02-09T08:30:22.084Z"
   },
   {
    "duration": 262,
    "start_time": "2023-02-09T08:32:35.301Z"
   },
   {
    "duration": 6,
    "start_time": "2023-02-09T08:33:59.597Z"
   },
   {
    "duration": 89977,
    "start_time": "2023-02-09T08:34:37.174Z"
   },
   {
    "duration": 857,
    "start_time": "2023-02-09T08:37:24.382Z"
   },
   {
    "duration": 27,
    "start_time": "2023-02-09T08:37:32.263Z"
   },
   {
    "duration": 820,
    "start_time": "2023-02-09T08:38:21.222Z"
   },
   {
    "duration": 27,
    "start_time": "2023-02-09T08:38:34.615Z"
   },
   {
    "duration": 12,
    "start_time": "2023-02-09T08:39:45.198Z"
   },
   {
    "duration": 44,
    "start_time": "2023-02-09T08:39:51.296Z"
   },
   {
    "duration": 5,
    "start_time": "2023-02-09T08:42:23.592Z"
   },
   {
    "duration": 24,
    "start_time": "2023-02-09T08:45:10.175Z"
   },
   {
    "duration": 5,
    "start_time": "2023-02-09T08:52:05.464Z"
   },
   {
    "duration": 23,
    "start_time": "2023-02-09T08:54:23.321Z"
   },
   {
    "duration": 3,
    "start_time": "2023-02-09T08:54:33.674Z"
   },
   {
    "duration": 21,
    "start_time": "2023-02-09T08:59:50.914Z"
   },
   {
    "duration": 20,
    "start_time": "2023-02-09T09:00:08.585Z"
   },
   {
    "duration": 2,
    "start_time": "2023-02-09T09:00:17.578Z"
   },
   {
    "duration": 18,
    "start_time": "2023-02-09T09:00:41.801Z"
   },
   {
    "duration": 17606,
    "start_time": "2023-02-09T09:01:20.627Z"
   },
   {
    "duration": 4,
    "start_time": "2023-02-09T09:01:54.458Z"
   },
   {
    "duration": 3,
    "start_time": "2023-02-09T09:01:54.970Z"
   },
   {
    "duration": 577968,
    "start_time": "2023-02-09T09:01:55.596Z"
   },
   {
    "duration": 4,
    "start_time": "2023-02-09T09:11:37.412Z"
   },
   {
    "duration": 4,
    "start_time": "2023-02-09T09:12:26.188Z"
   },
   {
    "duration": 4,
    "start_time": "2023-02-09T09:14:23.585Z"
   },
   {
    "duration": 3,
    "start_time": "2023-02-09T09:14:58.474Z"
   },
   {
    "duration": 4,
    "start_time": "2023-02-09T09:15:45.118Z"
   },
   {
    "duration": 3,
    "start_time": "2023-02-09T09:15:46.772Z"
   },
   {
    "duration": 683215,
    "start_time": "2023-02-09T09:16:05.980Z"
   },
   {
    "duration": 4,
    "start_time": "2023-02-09T09:33:45.824Z"
   },
   {
    "duration": 4,
    "start_time": "2023-02-09T09:33:50.232Z"
   },
   {
    "duration": 252,
    "start_time": "2023-02-09T09:34:35.793Z"
   },
   {
    "duration": 3,
    "start_time": "2023-02-09T09:40:01.025Z"
   },
   {
    "duration": 4,
    "start_time": "2023-02-09T09:40:03.465Z"
   },
   {
    "duration": 3,
    "start_time": "2023-02-09T09:40:11.032Z"
   },
   {
    "duration": 670078,
    "start_time": "2023-02-09T09:40:20.273Z"
   },
   {
    "duration": 5,
    "start_time": "2023-02-09T09:51:40.035Z"
   },
   {
    "duration": 3,
    "start_time": "2023-02-09T09:51:43.065Z"
   },
   {
    "duration": 4,
    "start_time": "2023-02-09T10:11:23.693Z"
   },
   {
    "duration": 4,
    "start_time": "2023-02-09T10:13:28.765Z"
   },
   {
    "duration": 11,
    "start_time": "2023-02-09T10:13:32.753Z"
   },
   {
    "duration": 24,
    "start_time": "2023-02-09T10:13:35.620Z"
   },
   {
    "duration": 12,
    "start_time": "2023-02-09T10:13:41.266Z"
   },
   {
    "duration": 15809,
    "start_time": "2023-02-09T12:20:27.487Z"
   },
   {
    "duration": 56,
    "start_time": "2023-02-09T12:21:31.264Z"
   },
   {
    "duration": 3383,
    "start_time": "2023-02-09T12:22:18.766Z"
   },
   {
    "duration": 13,
    "start_time": "2023-02-09T12:23:13.039Z"
   },
   {
    "duration": 7,
    "start_time": "2023-02-09T12:23:30.463Z"
   },
   {
    "duration": 7,
    "start_time": "2023-02-09T12:24:19.864Z"
   },
   {
    "duration": 33,
    "start_time": "2023-02-09T12:24:21.865Z"
   },
   {
    "duration": 108,
    "start_time": "2023-02-09T12:25:02.879Z"
   },
   {
    "duration": 2,
    "start_time": "2023-02-09T12:25:22.768Z"
   },
   {
    "duration": 1294,
    "start_time": "2023-02-09T12:27:39.343Z"
   },
   {
    "duration": 6,
    "start_time": "2023-02-09T12:27:52.448Z"
   },
   {
    "duration": 6,
    "start_time": "2023-02-09T12:30:39.817Z"
   },
   {
    "duration": 7,
    "start_time": "2023-02-09T12:30:45.768Z"
   },
   {
    "duration": 329,
    "start_time": "2023-02-09T12:31:22.354Z"
   },
   {
    "duration": 19,
    "start_time": "2023-02-09T12:31:39.057Z"
   },
   {
    "duration": 31,
    "start_time": "2023-02-09T12:31:51.024Z"
   },
   {
    "duration": 7,
    "start_time": "2023-02-09T12:32:55.098Z"
   },
   {
    "duration": 7,
    "start_time": "2023-02-09T12:32:57.000Z"
   },
   {
    "duration": 6,
    "start_time": "2023-02-09T12:33:03.392Z"
   },
   {
    "duration": 8,
    "start_time": "2023-02-09T12:33:13.059Z"
   },
   {
    "duration": 5,
    "start_time": "2023-02-09T12:33:28.104Z"
   },
   {
    "duration": 33,
    "start_time": "2023-02-09T12:35:15.763Z"
   },
   {
    "duration": 7,
    "start_time": "2023-02-09T12:35:20.398Z"
   },
   {
    "duration": 5,
    "start_time": "2023-02-09T12:36:46.418Z"
   },
   {
    "duration": 6,
    "start_time": "2023-02-09T12:36:54.210Z"
   },
   {
    "duration": 7,
    "start_time": "2023-02-09T12:37:02.963Z"
   },
   {
    "duration": 28,
    "start_time": "2023-02-09T12:37:50.881Z"
   },
   {
    "duration": 4,
    "start_time": "2023-02-09T12:38:37.907Z"
   },
   {
    "duration": 7,
    "start_time": "2023-02-09T12:38:42.826Z"
   },
   {
    "duration": 3,
    "start_time": "2023-02-09T12:40:05.538Z"
   },
   {
    "duration": 8,
    "start_time": "2023-02-09T12:40:20.372Z"
   },
   {
    "duration": 8,
    "start_time": "2023-02-09T12:40:48.730Z"
   },
   {
    "duration": 13,
    "start_time": "2023-02-09T12:40:52.515Z"
   },
   {
    "duration": 6,
    "start_time": "2023-02-09T12:42:11.431Z"
   },
   {
    "duration": 7,
    "start_time": "2023-02-09T12:42:32.669Z"
   },
   {
    "duration": 6,
    "start_time": "2023-02-09T12:42:45.331Z"
   },
   {
    "duration": 3,
    "start_time": "2023-02-09T12:43:34.163Z"
   },
   {
    "duration": 2,
    "start_time": "2023-02-09T12:43:43.747Z"
   },
   {
    "duration": 4,
    "start_time": "2023-02-09T12:43:45.763Z"
   },
   {
    "duration": 7,
    "start_time": "2023-02-09T12:43:47.355Z"
   },
   {
    "duration": 3,
    "start_time": "2023-02-09T12:43:57.803Z"
   },
   {
    "duration": 2,
    "start_time": "2023-02-09T12:43:58.955Z"
   },
   {
    "duration": 3,
    "start_time": "2023-02-09T12:43:59.802Z"
   },
   {
    "duration": 5,
    "start_time": "2023-02-09T12:44:00.651Z"
   },
   {
    "duration": 9,
    "start_time": "2023-02-09T12:44:02.091Z"
   },
   {
    "duration": 13,
    "start_time": "2023-02-09T12:44:03.099Z"
   },
   {
    "duration": 2,
    "start_time": "2023-02-09T12:44:19.482Z"
   },
   {
    "duration": 9,
    "start_time": "2023-02-09T12:44:20.795Z"
   },
   {
    "duration": 3,
    "start_time": "2023-02-09T12:46:34.628Z"
   },
   {
    "duration": 4,
    "start_time": "2023-02-09T12:46:38.853Z"
   },
   {
    "duration": 22,
    "start_time": "2023-02-09T12:47:20.434Z"
   },
   {
    "duration": 8,
    "start_time": "2023-02-09T12:47:51.828Z"
   },
   {
    "duration": 14,
    "start_time": "2023-02-09T12:47:53.428Z"
   },
   {
    "duration": 3,
    "start_time": "2023-02-09T12:49:43.852Z"
   },
   {
    "duration": 3,
    "start_time": "2023-02-09T12:49:44.268Z"
   },
   {
    "duration": 4,
    "start_time": "2023-02-09T12:49:44.877Z"
   },
   {
    "duration": 7,
    "start_time": "2023-02-09T12:49:58.085Z"
   },
   {
    "duration": 14,
    "start_time": "2023-02-09T12:49:59.254Z"
   },
   {
    "duration": 781,
    "start_time": "2023-02-09T12:51:24.636Z"
   },
   {
    "duration": 3,
    "start_time": "2023-02-09T12:51:33.725Z"
   },
   {
    "duration": 3,
    "start_time": "2023-02-09T12:51:41.181Z"
   },
   {
    "duration": 3920,
    "start_time": "2023-02-09T12:52:08.067Z"
   },
   {
    "duration": 34061,
    "start_time": "2023-02-09T12:52:16.570Z"
   },
   {
    "duration": 10,
    "start_time": "2023-02-09T12:56:29.870Z"
   },
   {
    "duration": 10,
    "start_time": "2023-02-09T12:56:51.165Z"
   },
   {
    "duration": 21,
    "start_time": "2023-02-09T12:58:08.686Z"
   },
   {
    "duration": 19,
    "start_time": "2023-02-09T13:00:40.733Z"
   },
   {
    "duration": 3,
    "start_time": "2023-02-09T13:03:44.239Z"
   },
   {
    "duration": 9914,
    "start_time": "2023-02-09T13:03:54.455Z"
   },
   {
    "duration": 7959,
    "start_time": "2023-02-09T13:04:09.022Z"
   },
   {
    "duration": 3,
    "start_time": "2023-02-09T13:04:18.983Z"
   },
   {
    "duration": 3,
    "start_time": "2023-02-09T13:05:16.257Z"
   },
   {
    "duration": 11848,
    "start_time": "2023-02-09T13:05:17.431Z"
   },
   {
    "duration": 36240,
    "start_time": "2023-02-09T13:05:45.415Z"
   },
   {
    "duration": 11,
    "start_time": "2023-02-09T13:06:24.732Z"
   },
   {
    "duration": 50,
    "start_time": "2023-02-09T13:06:58.851Z"
   },
   {
    "duration": 47,
    "start_time": "2023-02-09T13:07:07.948Z"
   },
   {
    "duration": 5,
    "start_time": "2023-02-09T13:08:09.782Z"
   },
   {
    "duration": 3,
    "start_time": "2023-02-09T13:11:23.452Z"
   },
   {
    "duration": 51,
    "start_time": "2023-02-09T13:11:25.460Z"
   },
   {
    "duration": 22,
    "start_time": "2023-02-09T13:12:16.230Z"
   },
   {
    "duration": 6,
    "start_time": "2023-02-09T13:12:38.455Z"
   },
   {
    "duration": 3,
    "start_time": "2023-02-09T13:17:11.511Z"
   },
   {
    "duration": 46,
    "start_time": "2023-02-09T13:17:12.625Z"
   },
   {
    "duration": 25,
    "start_time": "2023-02-09T13:17:16.167Z"
   },
   {
    "duration": 211,
    "start_time": "2023-02-09T13:18:26.184Z"
   },
   {
    "duration": 35793,
    "start_time": "2023-02-09T13:18:41.757Z"
   },
   {
    "duration": 12,
    "start_time": "2023-02-09T13:20:56.409Z"
   },
   {
    "duration": 1110,
    "start_time": "2023-02-09T13:22:14.673Z"
   },
   {
    "duration": 8,
    "start_time": "2023-02-09T13:22:23.468Z"
   },
   {
    "duration": 2,
    "start_time": "2023-02-09T13:23:00.234Z"
   },
   {
    "duration": 140,
    "start_time": "2023-02-09T13:23:01.536Z"
   },
   {
    "duration": 172,
    "start_time": "2023-02-09T13:23:03.817Z"
   },
   {
    "duration": 6,
    "start_time": "2023-02-09T13:23:52.522Z"
   },
   {
    "duration": 4022,
    "start_time": "2023-02-09T13:24:19.961Z"
   },
   {
    "duration": 36454,
    "start_time": "2023-02-09T13:24:25.217Z"
   },
   {
    "duration": 5,
    "start_time": "2023-02-09T13:25:56.121Z"
   },
   {
    "duration": 4,
    "start_time": "2023-02-09T13:26:15.234Z"
   },
   {
    "duration": 3,
    "start_time": "2023-02-09T13:28:29.987Z"
   },
   {
    "duration": 4,
    "start_time": "2023-02-09T13:28:32.105Z"
   },
   {
    "duration": 3902,
    "start_time": "2023-02-09T13:28:32.586Z"
   },
   {
    "duration": 37465,
    "start_time": "2023-02-09T13:28:36.493Z"
   },
   {
    "duration": 4,
    "start_time": "2023-02-09T13:29:23.610Z"
   },
   {
    "duration": 4,
    "start_time": "2023-02-09T13:29:26.578Z"
   },
   {
    "duration": 291,
    "start_time": "2023-02-09T13:30:08.012Z"
   },
   {
    "duration": 4,
    "start_time": "2023-02-09T13:30:37.594Z"
   },
   {
    "duration": 71,
    "start_time": "2023-02-09T13:31:00.491Z"
   },
   {
    "duration": 48,
    "start_time": "2023-02-09T13:32:28.315Z"
   },
   {
    "duration": 22,
    "start_time": "2023-02-09T13:32:34.759Z"
   },
   {
    "duration": 825,
    "start_time": "2023-02-09T13:32:40.386Z"
   },
   {
    "duration": 704,
    "start_time": "2023-02-09T13:34:10.290Z"
   },
   {
    "duration": 3,
    "start_time": "2023-02-09T13:35:25.011Z"
   },
   {
    "duration": 284,
    "start_time": "2023-02-09T13:36:13.500Z"
   },
   {
    "duration": 4,
    "start_time": "2023-02-09T13:36:37.146Z"
   },
   {
    "duration": 5,
    "start_time": "2023-02-09T13:36:49.243Z"
   },
   {
    "duration": 802,
    "start_time": "2023-02-09T13:37:31.131Z"
   },
   {
    "duration": 5,
    "start_time": "2023-02-09T13:37:41.626Z"
   },
   {
    "duration": 4,
    "start_time": "2023-02-09T13:37:52.947Z"
   },
   {
    "duration": 4,
    "start_time": "2023-02-09T13:38:05.194Z"
   },
   {
    "duration": 870,
    "start_time": "2023-02-09T13:38:24.106Z"
   },
   {
    "duration": 2,
    "start_time": "2023-02-09T13:38:49.491Z"
   },
   {
    "duration": 839,
    "start_time": "2023-02-09T13:39:00.467Z"
   },
   {
    "duration": 5,
    "start_time": "2023-02-09T13:39:11.659Z"
   },
   {
    "duration": 693,
    "start_time": "2023-02-09T13:39:15.411Z"
   },
   {
    "duration": 5,
    "start_time": "2023-02-09T13:39:32.179Z"
   },
   {
    "duration": 59,
    "start_time": "2023-02-09T13:40:41.377Z"
   },
   {
    "duration": 97,
    "start_time": "2023-02-09T13:40:55.291Z"
   },
   {
    "duration": 834,
    "start_time": "2023-02-09T13:41:02.491Z"
   },
   {
    "duration": 46,
    "start_time": "2023-02-09T13:42:01.468Z"
   },
   {
    "duration": 264,
    "start_time": "2023-02-09T13:42:06.460Z"
   },
   {
    "duration": 46,
    "start_time": "2023-02-09T13:42:15.557Z"
   },
   {
    "duration": 41,
    "start_time": "2023-02-09T13:42:43.374Z"
   },
   {
    "duration": 8,
    "start_time": "2023-02-09T13:42:51.684Z"
   },
   {
    "duration": 3,
    "start_time": "2023-02-09T13:43:01.795Z"
   },
   {
    "duration": 55,
    "start_time": "2023-02-09T13:43:02.504Z"
   },
   {
    "duration": 6964,
    "start_time": "2023-02-09T13:43:04.996Z"
   },
   {
    "duration": 4,
    "start_time": "2023-02-09T13:54:15.406Z"
   },
   {
    "duration": 4,
    "start_time": "2023-02-09T13:54:20.805Z"
   },
   {
    "duration": 15344,
    "start_time": "2023-02-09T14:06:39.695Z"
   },
   {
    "duration": 8995,
    "start_time": "2023-02-09T14:07:18.985Z"
   },
   {
    "duration": 754,
    "start_time": "2023-02-09T14:07:27.982Z"
   },
   {
    "duration": 9,
    "start_time": "2023-02-09T14:07:28.737Z"
   },
   {
    "duration": 11,
    "start_time": "2023-02-09T14:07:28.748Z"
   },
   {
    "duration": 37,
    "start_time": "2023-02-09T14:07:28.761Z"
   },
   {
    "duration": 3,
    "start_time": "2023-02-09T14:07:28.800Z"
   },
   {
    "duration": 23,
    "start_time": "2023-02-09T14:07:28.805Z"
   },
   {
    "duration": 5,
    "start_time": "2023-02-09T14:07:28.830Z"
   },
   {
    "duration": 4092,
    "start_time": "2023-02-09T14:07:28.837Z"
   },
   {
    "duration": 28,
    "start_time": "2023-02-09T14:07:32.931Z"
   },
   {
    "duration": 0,
    "start_time": "2023-02-09T14:07:32.960Z"
   },
   {
    "duration": 0,
    "start_time": "2023-02-09T14:07:32.961Z"
   },
   {
    "duration": 0,
    "start_time": "2023-02-09T14:07:32.962Z"
   },
   {
    "duration": 0,
    "start_time": "2023-02-09T14:07:32.963Z"
   },
   {
    "duration": 0,
    "start_time": "2023-02-09T14:07:32.964Z"
   },
   {
    "duration": 0,
    "start_time": "2023-02-09T14:07:32.965Z"
   },
   {
    "duration": 0,
    "start_time": "2023-02-09T14:07:32.966Z"
   },
   {
    "duration": 0,
    "start_time": "2023-02-09T14:07:32.967Z"
   },
   {
    "duration": 0,
    "start_time": "2023-02-09T14:07:32.975Z"
   },
   {
    "duration": 0,
    "start_time": "2023-02-09T14:07:32.976Z"
   },
   {
    "duration": 5,
    "start_time": "2023-02-09T14:08:11.120Z"
   },
   {
    "duration": 3,
    "start_time": "2023-02-09T14:08:14.745Z"
   },
   {
    "duration": 3989,
    "start_time": "2023-02-09T14:08:15.544Z"
   },
   {
    "duration": 18,
    "start_time": "2023-02-09T14:08:29.239Z"
   },
   {
    "duration": 10745,
    "start_time": "2023-02-09T14:09:11.657Z"
   },
   {
    "duration": 752,
    "start_time": "2023-02-09T14:09:22.404Z"
   },
   {
    "duration": 7,
    "start_time": "2023-02-09T14:09:23.158Z"
   },
   {
    "duration": 19,
    "start_time": "2023-02-09T14:09:23.167Z"
   },
   {
    "duration": 34,
    "start_time": "2023-02-09T14:09:23.188Z"
   },
   {
    "duration": 4,
    "start_time": "2023-02-09T14:09:23.226Z"
   },
   {
    "duration": 5,
    "start_time": "2023-02-09T14:09:23.231Z"
   },
   {
    "duration": 5,
    "start_time": "2023-02-09T14:09:23.237Z"
   },
   {
    "duration": 29,
    "start_time": "2023-02-09T14:09:25.087Z"
   },
   {
    "duration": 3,
    "start_time": "2023-02-09T14:09:26.880Z"
   },
   {
    "duration": 18,
    "start_time": "2023-02-09T14:09:27.670Z"
   },
   {
    "duration": 10374,
    "start_time": "2023-02-09T14:10:04.209Z"
   },
   {
    "duration": 762,
    "start_time": "2023-02-09T14:10:14.585Z"
   },
   {
    "duration": 7,
    "start_time": "2023-02-09T14:10:19.904Z"
   },
   {
    "duration": 8,
    "start_time": "2023-02-09T14:10:20.712Z"
   },
   {
    "duration": 35,
    "start_time": "2023-02-09T14:10:20.999Z"
   },
   {
    "duration": 3,
    "start_time": "2023-02-09T14:10:23.712Z"
   },
   {
    "duration": 4,
    "start_time": "2023-02-09T14:10:35.967Z"
   },
   {
    "duration": 3913,
    "start_time": "2023-02-09T14:10:37.599Z"
   },
   {
    "duration": 28,
    "start_time": "2023-02-09T14:10:49.865Z"
   },
   {
    "duration": 22,
    "start_time": "2023-02-09T14:11:10.355Z"
   },
   {
    "duration": 2013,
    "start_time": "2023-02-09T14:12:36.255Z"
   },
   {
    "duration": 11928,
    "start_time": "2023-02-09T14:12:48.689Z"
   },
   {
    "duration": 768,
    "start_time": "2023-02-09T14:13:04.232Z"
   },
   {
    "duration": 3,
    "start_time": "2023-02-09T14:13:10.868Z"
   },
   {
    "duration": 3,
    "start_time": "2023-02-09T14:13:11.866Z"
   },
   {
    "duration": 3923,
    "start_time": "2023-02-09T14:13:12.751Z"
   },
   {
    "duration": 29,
    "start_time": "2023-02-09T14:13:16.677Z"
   },
   {
    "duration": 11046,
    "start_time": "2023-02-09T14:14:07.241Z"
   },
   {
    "duration": 755,
    "start_time": "2023-02-09T14:14:25.107Z"
   },
   {
    "duration": 3,
    "start_time": "2023-02-09T14:14:33.770Z"
   },
   {
    "duration": 3924,
    "start_time": "2023-02-09T14:14:34.855Z"
   },
   {
    "duration": 39081,
    "start_time": "2023-02-09T14:14:44.159Z"
   },
   {
    "duration": 112,
    "start_time": "2023-02-09T14:15:28.577Z"
   },
   {
    "duration": 284,
    "start_time": "2023-02-09T14:15:31.240Z"
   },
   {
    "duration": 295,
    "start_time": "2023-02-09T14:15:35.177Z"
   },
   {
    "duration": 9,
    "start_time": "2023-02-09T14:15:36.601Z"
   },
   {
    "duration": 6,
    "start_time": "2023-02-09T14:15:40.225Z"
   },
   {
    "duration": 3,
    "start_time": "2023-02-09T14:15:45.050Z"
   },
   {
    "duration": 46,
    "start_time": "2023-02-09T14:15:47.072Z"
   },
   {
    "duration": 6676,
    "start_time": "2023-02-09T14:15:49.888Z"
   },
   {
    "duration": 4,
    "start_time": "2023-02-09T14:16:11.555Z"
   },
   {
    "duration": 3759,
    "start_time": "2023-02-10T08:10:10.683Z"
   },
   {
    "duration": 2253,
    "start_time": "2023-02-10T08:15:27.641Z"
   },
   {
    "duration": 17,
    "start_time": "2023-02-10T08:15:36.592Z"
   },
   {
    "duration": 81,
    "start_time": "2023-02-10T08:17:03.312Z"
   },
   {
    "duration": 5,
    "start_time": "2023-02-10T08:17:39.627Z"
   },
   {
    "duration": 3,
    "start_time": "2023-02-10T08:17:40.497Z"
   },
   {
    "duration": 3,
    "start_time": "2023-02-10T08:17:40.760Z"
   },
   {
    "duration": 4478,
    "start_time": "2023-02-10T08:17:42.024Z"
   },
   {
    "duration": 7123,
    "start_time": "2023-02-10T08:17:48.263Z"
   },
   {
    "duration": 73,
    "start_time": "2023-02-10T08:18:00.817Z"
   },
   {
    "duration": 1555,
    "start_time": "2023-02-10T08:18:15.866Z"
   },
   {
    "duration": 11,
    "start_time": "2023-02-10T08:18:21.282Z"
   },
   {
    "duration": 7,
    "start_time": "2023-02-10T08:18:24.161Z"
   },
   {
    "duration": 3,
    "start_time": "2023-02-10T08:18:27.569Z"
   },
   {
    "duration": 4,
    "start_time": "2023-02-10T08:18:35.328Z"
   },
   {
    "duration": 6,
    "start_time": "2023-02-10T08:18:54.026Z"
   },
   {
    "duration": 3,
    "start_time": "2023-02-10T08:19:01.001Z"
   },
   {
    "duration": 3,
    "start_time": "2023-02-10T08:19:02.632Z"
   },
   {
    "duration": 53,
    "start_time": "2023-02-10T08:19:05.804Z"
   },
   {
    "duration": 3657,
    "start_time": "2023-02-10T08:20:17.004Z"
   },
   {
    "duration": 28,
    "start_time": "2023-02-10T08:20:21.296Z"
   },
   {
    "duration": 3,
    "start_time": "2023-02-10T08:20:31.753Z"
   },
   {
    "duration": 5,
    "start_time": "2023-02-10T08:20:32.073Z"
   },
   {
    "duration": 4,
    "start_time": "2023-02-10T08:20:34.497Z"
   },
   {
    "duration": 62,
    "start_time": "2023-02-10T08:20:35.865Z"
   },
   {
    "duration": 4,
    "start_time": "2023-02-10T08:20:37.057Z"
   },
   {
    "duration": 4,
    "start_time": "2023-02-10T08:20:41.737Z"
   },
   {
    "duration": 3,
    "start_time": "2023-02-10T08:20:48.306Z"
   },
   {
    "duration": 6,
    "start_time": "2023-02-10T08:20:51.018Z"
   },
   {
    "duration": 3,
    "start_time": "2023-02-10T08:22:17.058Z"
   },
   {
    "duration": 3,
    "start_time": "2023-02-10T08:22:26.362Z"
   },
   {
    "duration": 31,
    "start_time": "2023-02-10T08:22:29.859Z"
   },
   {
    "duration": 11,
    "start_time": "2023-02-10T08:23:54.242Z"
   },
   {
    "duration": 12,
    "start_time": "2023-02-10T08:24:27.490Z"
   },
   {
    "duration": 4,
    "start_time": "2023-02-10T08:26:24.540Z"
   },
   {
    "duration": 10,
    "start_time": "2023-02-10T08:26:25.794Z"
   },
   {
    "duration": 3,
    "start_time": "2023-02-10T08:26:33.101Z"
   },
   {
    "duration": 3,
    "start_time": "2023-02-10T08:26:34.579Z"
   },
   {
    "duration": 31,
    "start_time": "2023-02-10T08:26:35.755Z"
   },
   {
    "duration": 30,
    "start_time": "2023-02-10T08:27:11.884Z"
   },
   {
    "duration": 3,
    "start_time": "2023-02-10T08:28:09.252Z"
   },
   {
    "duration": 4,
    "start_time": "2023-02-10T08:28:09.620Z"
   },
   {
    "duration": 7,
    "start_time": "2023-02-10T08:28:10.453Z"
   },
   {
    "duration": 3,
    "start_time": "2023-02-10T08:28:11.962Z"
   },
   {
    "duration": 3,
    "start_time": "2023-02-10T08:28:12.868Z"
   },
   {
    "duration": 33,
    "start_time": "2023-02-10T08:28:14.060Z"
   },
   {
    "duration": 4,
    "start_time": "2023-02-10T08:28:22.436Z"
   },
   {
    "duration": 4,
    "start_time": "2023-02-10T08:28:22.843Z"
   },
   {
    "duration": 62,
    "start_time": "2023-02-10T08:28:23.428Z"
   },
   {
    "duration": 66,
    "start_time": "2023-02-10T08:29:09.821Z"
   },
   {
    "duration": 4,
    "start_time": "2023-02-10T08:31:42.325Z"
   },
   {
    "duration": 9,
    "start_time": "2023-02-10T08:31:52.493Z"
   },
   {
    "duration": 6,
    "start_time": "2023-02-10T08:33:27.453Z"
   },
   {
    "duration": 29640,
    "start_time": "2023-02-10T08:34:11.350Z"
   },
   {
    "duration": 3,
    "start_time": "2023-02-10T08:34:54.718Z"
   },
   {
    "duration": 4,
    "start_time": "2023-02-10T08:36:00.415Z"
   },
   {
    "duration": 5,
    "start_time": "2023-02-10T08:36:06.740Z"
   },
   {
    "duration": 4,
    "start_time": "2023-02-10T08:37:23.942Z"
   },
   {
    "duration": 3,
    "start_time": "2023-02-10T08:37:30.998Z"
   },
   {
    "duration": 4,
    "start_time": "2023-02-10T08:37:36.775Z"
   },
   {
    "duration": 4,
    "start_time": "2023-02-10T08:37:37.949Z"
   },
   {
    "duration": 3,
    "start_time": "2023-02-10T09:34:36.217Z"
   },
   {
    "duration": 3,
    "start_time": "2023-02-10T09:34:38.553Z"
   },
   {
    "duration": 5,
    "start_time": "2023-02-10T09:34:40.072Z"
   },
   {
    "duration": 3,
    "start_time": "2023-02-10T09:34:46.073Z"
   },
   {
    "duration": 3,
    "start_time": "2023-02-10T09:34:46.330Z"
   },
   {
    "duration": 5,
    "start_time": "2023-02-10T09:34:47.697Z"
   },
   {
    "duration": 3,
    "start_time": "2023-02-10T09:35:14.689Z"
   },
   {
    "duration": 5,
    "start_time": "2023-02-10T09:35:17.001Z"
   },
   {
    "duration": 3,
    "start_time": "2023-02-10T09:35:27.553Z"
   },
   {
    "duration": 3,
    "start_time": "2023-02-10T09:35:28.657Z"
   },
   {
    "duration": 4,
    "start_time": "2023-02-10T09:35:30.392Z"
   },
   {
    "duration": 3,
    "start_time": "2023-02-10T09:35:47.563Z"
   },
   {
    "duration": 22937,
    "start_time": "2023-02-10T09:35:48.947Z"
   },
   {
    "duration": 3,
    "start_time": "2023-02-10T09:36:36.113Z"
   },
   {
    "duration": 3,
    "start_time": "2023-02-10T09:36:36.633Z"
   },
   {
    "duration": 9,
    "start_time": "2023-02-10T09:36:40.058Z"
   },
   {
    "duration": 5,
    "start_time": "2023-02-10T09:36:41.297Z"
   },
   {
    "duration": 4,
    "start_time": "2023-02-10T09:36:48.754Z"
   },
   {
    "duration": 3,
    "start_time": "2023-02-10T09:36:49.177Z"
   },
   {
    "duration": 23476,
    "start_time": "2023-02-10T09:36:50.352Z"
   },
   {
    "duration": 4,
    "start_time": "2023-02-10T09:37:36.058Z"
   },
   {
    "duration": 166,
    "start_time": "2023-02-10T09:40:04.105Z"
   },
   {
    "duration": 67,
    "start_time": "2023-02-10T09:42:21.557Z"
   }
  ],
  "kernelspec": {
   "display_name": "Python 3 (ipykernel)",
   "language": "python",
   "name": "python3"
  },
  "language_info": {
   "codemirror_mode": {
    "name": "ipython",
    "version": 3
   },
   "file_extension": ".py",
   "mimetype": "text/x-python",
   "name": "python",
   "nbconvert_exporter": "python",
   "pygments_lexer": "ipython3",
   "version": "3.9.5"
  },
  "toc": {
   "base_numbering": 1,
   "nav_menu": {},
   "number_sections": true,
   "sideBar": true,
   "skip_h1_title": true,
   "title_cell": "Содержание",
   "title_sidebar": "Contents",
   "toc_cell": true,
   "toc_position": {
    "height": "calc(100% - 180px)",
    "left": "10px",
    "top": "150px",
    "width": "302.391px"
   },
   "toc_section_display": true,
   "toc_window_display": false
  }
 },
 "nbformat": 4,
 "nbformat_minor": 2
}
