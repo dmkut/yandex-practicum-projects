{
 "cells": [
  {
   "cell_type": "markdown",
   "metadata": {},
   "source": [
    "# Выбор локации для скважины"
   ]
  },
  {
   "cell_type": "markdown",
   "metadata": {},
   "source": [
    "Добывающей компании «ГлавРосГосНефть» нужно решить, где бурить новую скважину.\n",
    "\n",
    "Нам предоставлены пробы нефти в трёх регионах: в каждом 10 000 месторождений, где измерили качество нефти и объём её запасов. Постройте модель машинного обучения, которая поможет определить регион, где добыча принесёт наибольшую прибыль. Мы хотим проанализировать возможную прибыль и риски техникой *Bootstrap.*\n",
    "\n",
    "Шаги для выбора локации:\n",
    "\n",
    "- В избранном регионе ищут месторождения, для каждого определяют значения признаков;\n",
    "- Строят модель и оценивают объём запасов;\n",
    "- Выбирают месторождения с самым высокими оценками значений. Количество месторождений зависит от бюджета компании и стоимости разработки одной скважины;\n",
    "- Прибыль равна суммарной прибыли отобранных месторождений."
   ]
  },
  {
   "cell_type": "markdown",
   "metadata": {},
   "source": [
    "## Загрузка и подготовка данных"
   ]
  },
  {
   "cell_type": "markdown",
   "metadata": {},
   "source": [
    "### Изучение данных"
   ]
  },
  {
   "cell_type": "code",
   "execution_count": 1,
   "metadata": {},
   "outputs": [
    {
     "name": "stdout",
     "output_type": "stream",
     "text": [
      "Collecting phik\n",
      "  Downloading phik-0.12.3-cp39-cp39-win_amd64.whl (663 kB)\n",
      "     -------------------------------------- 663.5/663.5 kB 3.2 MB/s eta 0:00:00\n",
      "Requirement already satisfied: numpy>=1.18.0 in c:\\users\\dm_ku\\anaconda3\\lib\\site-packages (from phik) (1.21.5)\n",
      "Requirement already satisfied: scipy>=1.5.2 in c:\\users\\dm_ku\\anaconda3\\lib\\site-packages (from phik) (1.7.3)\n",
      "Requirement already satisfied: pandas>=0.25.1 in c:\\users\\dm_ku\\anaconda3\\lib\\site-packages (from phik) (2.0.0)\n",
      "Requirement already satisfied: matplotlib>=2.2.3 in c:\\users\\dm_ku\\anaconda3\\lib\\site-packages (from phik) (3.5.1)\n",
      "Requirement already satisfied: joblib>=0.14.1 in c:\\users\\dm_ku\\anaconda3\\lib\\site-packages (from phik) (1.1.0)\n",
      "Requirement already satisfied: python-dateutil>=2.7 in c:\\users\\dm_ku\\anaconda3\\lib\\site-packages (from matplotlib>=2.2.3->phik) (2.8.2)\n",
      "Requirement already satisfied: fonttools>=4.22.0 in c:\\users\\dm_ku\\anaconda3\\lib\\site-packages (from matplotlib>=2.2.3->phik) (4.25.0)\n",
      "Requirement already satisfied: pyparsing>=2.2.1 in c:\\users\\dm_ku\\anaconda3\\lib\\site-packages (from matplotlib>=2.2.3->phik) (3.0.4)\n",
      "Requirement already satisfied: pillow>=6.2.0 in c:\\users\\dm_ku\\anaconda3\\lib\\site-packages (from matplotlib>=2.2.3->phik) (9.0.1)\n",
      "Requirement already satisfied: kiwisolver>=1.0.1 in c:\\users\\dm_ku\\anaconda3\\lib\\site-packages (from matplotlib>=2.2.3->phik) (1.3.2)\n",
      "Requirement already satisfied: cycler>=0.10 in c:\\users\\dm_ku\\anaconda3\\lib\\site-packages (from matplotlib>=2.2.3->phik) (0.11.0)\n",
      "Requirement already satisfied: packaging>=20.0 in c:\\users\\dm_ku\\anaconda3\\lib\\site-packages (from matplotlib>=2.2.3->phik) (21.3)\n",
      "Requirement already satisfied: tzdata>=2022.1 in c:\\users\\dm_ku\\anaconda3\\lib\\site-packages (from pandas>=0.25.1->phik) (2023.3)\n",
      "Requirement already satisfied: pytz>=2020.1 in c:\\users\\dm_ku\\anaconda3\\lib\\site-packages (from pandas>=0.25.1->phik) (2021.3)\n",
      "Requirement already satisfied: six>=1.5 in c:\\users\\dm_ku\\anaconda3\\lib\\site-packages (from python-dateutil>=2.7->matplotlib>=2.2.3->phik) (1.16.0)\n",
      "Installing collected packages: phik\n",
      "Successfully installed phik-0.12.3\n"
     ]
    },
    {
     "name": "stderr",
     "output_type": "stream",
     "text": [
      "\n",
      "[notice] A new release of pip is available: 23.0.1 -> 23.1.2\n",
      "[notice] To update, run: python.exe -m pip install --upgrade pip\n"
     ]
    }
   ],
   "source": [
    "# Библиотека для работы с таблицами\n",
    "import pandas as pd\n",
    "\n",
    "# инструменты визуализации\n",
    "import seaborn as sns\n",
    "import matplotlib.pyplot as plt\n",
    "\n",
    "# Инструменты моделирования\n",
    "from sklearn.preprocessing import StandardScaler\n",
    "from sklearn.model_selection import train_test_split\n",
    "from sklearn.linear_model import LinearRegression\n",
    "from sklearn.metrics import mean_squared_error\n",
    "\n",
    "# Для бутстрепа\n",
    "import numpy as np\n",
    "\n",
    "# Проверим признаки на корреляцию\n",
    "! pip install phik\n",
    "import phik\n",
    "from phik import resources, report"
   ]
  },
  {
   "cell_type": "code",
   "execution_count": 2,
   "metadata": {},
   "outputs": [],
   "source": [
    "df1 = pd.read_csv('~/oil_production/geo_data_0.csv')\n",
    "df2 = pd.read_csv('~/oil_production/geo_data_1.csv')\n",
    "df3 = pd.read_csv('~/oil_production/geo_data_2.csv')"
   ]
  },
  {
   "cell_type": "code",
   "execution_count": 3,
   "metadata": {},
   "outputs": [
    {
     "data": {
      "text/html": [
       "<div>\n",
       "<style scoped>\n",
       "    .dataframe tbody tr th:only-of-type {\n",
       "        vertical-align: middle;\n",
       "    }\n",
       "\n",
       "    .dataframe tbody tr th {\n",
       "        vertical-align: top;\n",
       "    }\n",
       "\n",
       "    .dataframe thead th {\n",
       "        text-align: right;\n",
       "    }\n",
       "</style>\n",
       "<table border=\"1\" class=\"dataframe\">\n",
       "  <thead>\n",
       "    <tr style=\"text-align: right;\">\n",
       "      <th></th>\n",
       "      <th>id</th>\n",
       "      <th>f0</th>\n",
       "      <th>f1</th>\n",
       "      <th>f2</th>\n",
       "      <th>product</th>\n",
       "    </tr>\n",
       "  </thead>\n",
       "  <tbody>\n",
       "    <tr>\n",
       "      <th>0</th>\n",
       "      <td>txEyH</td>\n",
       "      <td>0.705745</td>\n",
       "      <td>-0.497823</td>\n",
       "      <td>1.221170</td>\n",
       "      <td>105.280062</td>\n",
       "    </tr>\n",
       "    <tr>\n",
       "      <th>1</th>\n",
       "      <td>2acmU</td>\n",
       "      <td>1.334711</td>\n",
       "      <td>-0.340164</td>\n",
       "      <td>4.365080</td>\n",
       "      <td>73.037750</td>\n",
       "    </tr>\n",
       "    <tr>\n",
       "      <th>2</th>\n",
       "      <td>409Wp</td>\n",
       "      <td>1.022732</td>\n",
       "      <td>0.151990</td>\n",
       "      <td>1.419926</td>\n",
       "      <td>85.265647</td>\n",
       "    </tr>\n",
       "    <tr>\n",
       "      <th>3</th>\n",
       "      <td>iJLyR</td>\n",
       "      <td>-0.032172</td>\n",
       "      <td>0.139033</td>\n",
       "      <td>2.978566</td>\n",
       "      <td>168.620776</td>\n",
       "    </tr>\n",
       "    <tr>\n",
       "      <th>4</th>\n",
       "      <td>Xdl7t</td>\n",
       "      <td>1.988431</td>\n",
       "      <td>0.155413</td>\n",
       "      <td>4.751769</td>\n",
       "      <td>154.036647</td>\n",
       "    </tr>\n",
       "  </tbody>\n",
       "</table>\n",
       "</div>"
      ],
      "text/plain": [
       "      id        f0        f1        f2     product\n",
       "0  txEyH  0.705745 -0.497823  1.221170  105.280062\n",
       "1  2acmU  1.334711 -0.340164  4.365080   73.037750\n",
       "2  409Wp  1.022732  0.151990  1.419926   85.265647\n",
       "3  iJLyR -0.032172  0.139033  2.978566  168.620776\n",
       "4  Xdl7t  1.988431  0.155413  4.751769  154.036647"
      ]
     },
     "metadata": {},
     "output_type": "display_data"
    },
    {
     "name": "stdout",
     "output_type": "stream",
     "text": [
      "<class 'pandas.core.frame.DataFrame'>\n",
      "RangeIndex: 100000 entries, 0 to 99999\n",
      "Data columns (total 5 columns):\n",
      " #   Column   Non-Null Count   Dtype  \n",
      "---  ------   --------------   -----  \n",
      " 0   id       100000 non-null  object \n",
      " 1   f0       100000 non-null  float64\n",
      " 2   f1       100000 non-null  float64\n",
      " 3   f2       100000 non-null  float64\n",
      " 4   product  100000 non-null  float64\n",
      "dtypes: float64(4), object(1)\n",
      "memory usage: 3.8+ MB\n",
      "None\n"
     ]
    },
    {
     "data": {
      "image/png": "[encoded data removed]",
      "text/plain": [
       "<Figure size 1440x360 with 1 Axes>"
      ]
     },
     "metadata": {
      "needs_background": "light"
     },
     "output_type": "display_data"
    },
    {
     "data": {
      "text/html": [
       "<div>\n",
       "<style scoped>\n",
       "    .dataframe tbody tr th:only-of-type {\n",
       "        vertical-align: middle;\n",
       "    }\n",
       "\n",
       "    .dataframe tbody tr th {\n",
       "        vertical-align: top;\n",
       "    }\n",
       "\n",
       "    .dataframe thead th {\n",
       "        text-align: right;\n",
       "    }\n",
       "</style>\n",
       "<table border=\"1\" class=\"dataframe\">\n",
       "  <thead>\n",
       "    <tr style=\"text-align: right;\">\n",
       "      <th></th>\n",
       "      <th>f0</th>\n",
       "      <th>f1</th>\n",
       "      <th>f2</th>\n",
       "      <th>product</th>\n",
       "    </tr>\n",
       "  </thead>\n",
       "  <tbody>\n",
       "    <tr>\n",
       "      <th>count</th>\n",
       "      <td>100000.000000</td>\n",
       "      <td>100000.000000</td>\n",
       "      <td>100000.000000</td>\n",
       "      <td>100000.000000</td>\n",
       "    </tr>\n",
       "    <tr>\n",
       "      <th>mean</th>\n",
       "      <td>0.500419</td>\n",
       "      <td>0.250143</td>\n",
       "      <td>2.502647</td>\n",
       "      <td>92.500000</td>\n",
       "    </tr>\n",
       "    <tr>\n",
       "      <th>std</th>\n",
       "      <td>0.871832</td>\n",
       "      <td>0.504433</td>\n",
       "      <td>3.248248</td>\n",
       "      <td>44.288691</td>\n",
       "    </tr>\n",
       "    <tr>\n",
       "      <th>min</th>\n",
       "      <td>-1.408605</td>\n",
       "      <td>-0.848218</td>\n",
       "      <td>-12.088328</td>\n",
       "      <td>0.000000</td>\n",
       "    </tr>\n",
       "    <tr>\n",
       "      <th>25%</th>\n",
       "      <td>-0.072580</td>\n",
       "      <td>-0.200881</td>\n",
       "      <td>0.287748</td>\n",
       "      <td>56.497507</td>\n",
       "    </tr>\n",
       "    <tr>\n",
       "      <th>50%</th>\n",
       "      <td>0.502360</td>\n",
       "      <td>0.250252</td>\n",
       "      <td>2.515969</td>\n",
       "      <td>91.849972</td>\n",
       "    </tr>\n",
       "    <tr>\n",
       "      <th>75%</th>\n",
       "      <td>1.073581</td>\n",
       "      <td>0.700646</td>\n",
       "      <td>4.715088</td>\n",
       "      <td>128.564089</td>\n",
       "    </tr>\n",
       "    <tr>\n",
       "      <th>max</th>\n",
       "      <td>2.362331</td>\n",
       "      <td>1.343769</td>\n",
       "      <td>16.003790</td>\n",
       "      <td>185.364347</td>\n",
       "    </tr>\n",
       "  </tbody>\n",
       "</table>\n",
       "</div>"
      ],
      "text/plain": [
       "                  f0             f1             f2        product\n",
       "count  100000.000000  100000.000000  100000.000000  100000.000000\n",
       "mean        0.500419       0.250143       2.502647      92.500000\n",
       "std         0.871832       0.504433       3.248248      44.288691\n",
       "min        -1.408605      -0.848218     -12.088328       0.000000\n",
       "25%        -0.072580      -0.200881       0.287748      56.497507\n",
       "50%         0.502360       0.250252       2.515969      91.849972\n",
       "75%         1.073581       0.700646       4.715088     128.564089\n",
       "max         2.362331       1.343769      16.003790     185.364347"
      ]
     },
     "execution_count": 3,
     "metadata": {},
     "output_type": "execute_result"
    }
   ],
   "source": [
    "display(df1.head())\n",
    "print(df1.info())\n",
    "df1['product'].hist(figsize=(20, 5), bins=300, grid=True)\n",
    "plt.show()\n",
    "df1.describe()"
   ]
  },
  {
   "cell_type": "code",
   "execution_count": 5,
   "metadata": {},
   "outputs": [
    {
     "data": {
      "text/html": [
       "<div>\n",
       "<style scoped>\n",
       "    .dataframe tbody tr th:only-of-type {\n",
       "        vertical-align: middle;\n",
       "    }\n",
       "\n",
       "    .dataframe tbody tr th {\n",
       "        vertical-align: top;\n",
       "    }\n",
       "\n",
       "    .dataframe thead th {\n",
       "        text-align: right;\n",
       "    }\n",
       "</style>\n",
       "<table border=\"1\" class=\"dataframe\">\n",
       "  <thead>\n",
       "    <tr style=\"text-align: right;\">\n",
       "      <th></th>\n",
       "      <th>id</th>\n",
       "      <th>f0</th>\n",
       "      <th>f1</th>\n",
       "      <th>f2</th>\n",
       "      <th>product</th>\n",
       "    </tr>\n",
       "  </thead>\n",
       "  <tbody>\n",
       "    <tr>\n",
       "      <th>0</th>\n",
       "      <td>kBEdx</td>\n",
       "      <td>-15.001348</td>\n",
       "      <td>-8.276000</td>\n",
       "      <td>-0.005876</td>\n",
       "      <td>3.179103</td>\n",
       "    </tr>\n",
       "    <tr>\n",
       "      <th>1</th>\n",
       "      <td>62mP7</td>\n",
       "      <td>14.272088</td>\n",
       "      <td>-3.475083</td>\n",
       "      <td>0.999183</td>\n",
       "      <td>26.953261</td>\n",
       "    </tr>\n",
       "    <tr>\n",
       "      <th>2</th>\n",
       "      <td>vyE1P</td>\n",
       "      <td>6.263187</td>\n",
       "      <td>-5.948386</td>\n",
       "      <td>5.001160</td>\n",
       "      <td>134.766305</td>\n",
       "    </tr>\n",
       "    <tr>\n",
       "      <th>3</th>\n",
       "      <td>KcrkZ</td>\n",
       "      <td>-13.081196</td>\n",
       "      <td>-11.506057</td>\n",
       "      <td>4.999415</td>\n",
       "      <td>137.945408</td>\n",
       "    </tr>\n",
       "    <tr>\n",
       "      <th>4</th>\n",
       "      <td>AHL4O</td>\n",
       "      <td>12.702195</td>\n",
       "      <td>-8.147433</td>\n",
       "      <td>5.004363</td>\n",
       "      <td>134.766305</td>\n",
       "    </tr>\n",
       "  </tbody>\n",
       "</table>\n",
       "</div>"
      ],
      "text/plain": [
       "      id         f0         f1        f2     product\n",
       "0  kBEdx -15.001348  -8.276000 -0.005876    3.179103\n",
       "1  62mP7  14.272088  -3.475083  0.999183   26.953261\n",
       "2  vyE1P   6.263187  -5.948386  5.001160  134.766305\n",
       "3  KcrkZ -13.081196 -11.506057  4.999415  137.945408\n",
       "4  AHL4O  12.702195  -8.147433  5.004363  134.766305"
      ]
     },
     "metadata": {},
     "output_type": "display_data"
    },
    {
     "name": "stdout",
     "output_type": "stream",
     "text": [
      "<class 'pandas.core.frame.DataFrame'>\n",
      "RangeIndex: 100000 entries, 0 to 99999\n",
      "Data columns (total 5 columns):\n",
      " #   Column   Non-Null Count   Dtype  \n",
      "---  ------   --------------   -----  \n",
      " 0   id       100000 non-null  object \n",
      " 1   f0       100000 non-null  float64\n",
      " 2   f1       100000 non-null  float64\n",
      " 3   f2       100000 non-null  float64\n",
      " 4   product  100000 non-null  float64\n",
      "dtypes: float64(4), object(1)\n",
      "memory usage: 3.8+ MB\n",
      "None\n"
     ]
    },
    {
     "data": {
      "image/png": "[encoded data removed]",
      "text/plain": [
       "<Figure size 1440x360 with 1 Axes>"
      ]
     },
     "metadata": {
      "needs_background": "light"
     },
     "output_type": "display_data"
    },
    {
     "data": {
      "text/html": [
       "<div>\n",
       "<style scoped>\n",
       "    .dataframe tbody tr th:only-of-type {\n",
       "        vertical-align: middle;\n",
       "    }\n",
       "\n",
       "    .dataframe tbody tr th {\n",
       "        vertical-align: top;\n",
       "    }\n",
       "\n",
       "    .dataframe thead th {\n",
       "        text-align: right;\n",
       "    }\n",
       "</style>\n",
       "<table border=\"1\" class=\"dataframe\">\n",
       "  <thead>\n",
       "    <tr style=\"text-align: right;\">\n",
       "      <th></th>\n",
       "      <th>f0</th>\n",
       "      <th>f1</th>\n",
       "      <th>f2</th>\n",
       "      <th>product</th>\n",
       "    </tr>\n",
       "  </thead>\n",
       "  <tbody>\n",
       "    <tr>\n",
       "      <th>count</th>\n",
       "      <td>100000.000000</td>\n",
       "      <td>100000.000000</td>\n",
       "      <td>100000.000000</td>\n",
       "      <td>100000.000000</td>\n",
       "    </tr>\n",
       "    <tr>\n",
       "      <th>mean</th>\n",
       "      <td>1.141296</td>\n",
       "      <td>-4.796579</td>\n",
       "      <td>2.494541</td>\n",
       "      <td>68.825000</td>\n",
       "    </tr>\n",
       "    <tr>\n",
       "      <th>std</th>\n",
       "      <td>8.965932</td>\n",
       "      <td>5.119872</td>\n",
       "      <td>1.703572</td>\n",
       "      <td>45.944423</td>\n",
       "    </tr>\n",
       "    <tr>\n",
       "      <th>min</th>\n",
       "      <td>-31.609576</td>\n",
       "      <td>-26.358598</td>\n",
       "      <td>-0.018144</td>\n",
       "      <td>0.000000</td>\n",
       "    </tr>\n",
       "    <tr>\n",
       "      <th>25%</th>\n",
       "      <td>-6.298551</td>\n",
       "      <td>-8.267985</td>\n",
       "      <td>1.000021</td>\n",
       "      <td>26.953261</td>\n",
       "    </tr>\n",
       "    <tr>\n",
       "      <th>50%</th>\n",
       "      <td>1.153055</td>\n",
       "      <td>-4.813172</td>\n",
       "      <td>2.011479</td>\n",
       "      <td>57.085625</td>\n",
       "    </tr>\n",
       "    <tr>\n",
       "      <th>75%</th>\n",
       "      <td>8.621015</td>\n",
       "      <td>-1.332816</td>\n",
       "      <td>3.999904</td>\n",
       "      <td>107.813044</td>\n",
       "    </tr>\n",
       "    <tr>\n",
       "      <th>max</th>\n",
       "      <td>29.421755</td>\n",
       "      <td>18.734063</td>\n",
       "      <td>5.019721</td>\n",
       "      <td>137.945408</td>\n",
       "    </tr>\n",
       "  </tbody>\n",
       "</table>\n",
       "</div>"
      ],
      "text/plain": [
       "                  f0             f1             f2        product\n",
       "count  100000.000000  100000.000000  100000.000000  100000.000000\n",
       "mean        1.141296      -4.796579       2.494541      68.825000\n",
       "std         8.965932       5.119872       1.703572      45.944423\n",
       "min       -31.609576     -26.358598      -0.018144       0.000000\n",
       "25%        -6.298551      -8.267985       1.000021      26.953261\n",
       "50%         1.153055      -4.813172       2.011479      57.085625\n",
       "75%         8.621015      -1.332816       3.999904     107.813044\n",
       "max        29.421755      18.734063       5.019721     137.945408"
      ]
     },
     "execution_count": 5,
     "metadata": {},
     "output_type": "execute_result"
    }
   ],
   "source": [
    "display(df2.head())\n",
    "print(df2.info())\n",
    "df2['product'].hist(figsize=(20, 5), bins=300, grid=True)\n",
    "plt.show()\n",
    "df2.describe()"
   ]
  },
  {
   "cell_type": "code",
   "execution_count": 6,
   "metadata": {},
   "outputs": [
    {
     "data": {
      "text/html": [
       "<div>\n",
       "<style scoped>\n",
       "    .dataframe tbody tr th:only-of-type {\n",
       "        vertical-align: middle;\n",
       "    }\n",
       "\n",
       "    .dataframe tbody tr th {\n",
       "        vertical-align: top;\n",
       "    }\n",
       "\n",
       "    .dataframe thead th {\n",
       "        text-align: right;\n",
       "    }\n",
       "</style>\n",
       "<table border=\"1\" class=\"dataframe\">\n",
       "  <thead>\n",
       "    <tr style=\"text-align: right;\">\n",
       "      <th></th>\n",
       "      <th>id</th>\n",
       "      <th>f0</th>\n",
       "      <th>f1</th>\n",
       "      <th>f2</th>\n",
       "      <th>product</th>\n",
       "    </tr>\n",
       "  </thead>\n",
       "  <tbody>\n",
       "    <tr>\n",
       "      <th>0</th>\n",
       "      <td>fwXo0</td>\n",
       "      <td>-1.146987</td>\n",
       "      <td>0.963328</td>\n",
       "      <td>-0.828965</td>\n",
       "      <td>27.758673</td>\n",
       "    </tr>\n",
       "    <tr>\n",
       "      <th>1</th>\n",
       "      <td>WJtFt</td>\n",
       "      <td>0.262778</td>\n",
       "      <td>0.269839</td>\n",
       "      <td>-2.530187</td>\n",
       "      <td>56.069697</td>\n",
       "    </tr>\n",
       "    <tr>\n",
       "      <th>2</th>\n",
       "      <td>ovLUW</td>\n",
       "      <td>0.194587</td>\n",
       "      <td>0.289035</td>\n",
       "      <td>-5.586433</td>\n",
       "      <td>62.871910</td>\n",
       "    </tr>\n",
       "    <tr>\n",
       "      <th>3</th>\n",
       "      <td>q6cA6</td>\n",
       "      <td>2.236060</td>\n",
       "      <td>-0.553760</td>\n",
       "      <td>0.930038</td>\n",
       "      <td>114.572842</td>\n",
       "    </tr>\n",
       "    <tr>\n",
       "      <th>4</th>\n",
       "      <td>WPMUX</td>\n",
       "      <td>-0.515993</td>\n",
       "      <td>1.716266</td>\n",
       "      <td>5.899011</td>\n",
       "      <td>149.600746</td>\n",
       "    </tr>\n",
       "  </tbody>\n",
       "</table>\n",
       "</div>"
      ],
      "text/plain": [
       "      id        f0        f1        f2     product\n",
       "0  fwXo0 -1.146987  0.963328 -0.828965   27.758673\n",
       "1  WJtFt  0.262778  0.269839 -2.530187   56.069697\n",
       "2  ovLUW  0.194587  0.289035 -5.586433   62.871910\n",
       "3  q6cA6  2.236060 -0.553760  0.930038  114.572842\n",
       "4  WPMUX -0.515993  1.716266  5.899011  149.600746"
      ]
     },
     "metadata": {},
     "output_type": "display_data"
    },
    {
     "name": "stdout",
     "output_type": "stream",
     "text": [
      "<class 'pandas.core.frame.DataFrame'>\n",
      "RangeIndex: 100000 entries, 0 to 99999\n",
      "Data columns (total 5 columns):\n",
      " #   Column   Non-Null Count   Dtype  \n",
      "---  ------   --------------   -----  \n",
      " 0   id       100000 non-null  object \n",
      " 1   f0       100000 non-null  float64\n",
      " 2   f1       100000 non-null  float64\n",
      " 3   f2       100000 non-null  float64\n",
      " 4   product  100000 non-null  float64\n",
      "dtypes: float64(4), object(1)\n",
      "memory usage: 3.8+ MB\n",
      "None\n"
     ]
    },
    {
     "data": {
      "image/png": "[encoded data removed]",
      "text/plain": [
       "<Figure size 1440x360 with 1 Axes>"
      ]
     },
     "metadata": {
      "needs_background": "light"
     },
     "output_type": "display_data"
    },
    {
     "data": {
      "text/html": [
       "<div>\n",
       "<style scoped>\n",
       "    .dataframe tbody tr th:only-of-type {\n",
       "        vertical-align: middle;\n",
       "    }\n",
       "\n",
       "    .dataframe tbody tr th {\n",
       "        vertical-align: top;\n",
       "    }\n",
       "\n",
       "    .dataframe thead th {\n",
       "        text-align: right;\n",
       "    }\n",
       "</style>\n",
       "<table border=\"1\" class=\"dataframe\">\n",
       "  <thead>\n",
       "    <tr style=\"text-align: right;\">\n",
       "      <th></th>\n",
       "      <th>f0</th>\n",
       "      <th>f1</th>\n",
       "      <th>f2</th>\n",
       "      <th>product</th>\n",
       "    </tr>\n",
       "  </thead>\n",
       "  <tbody>\n",
       "    <tr>\n",
       "      <th>count</th>\n",
       "      <td>100000.000000</td>\n",
       "      <td>100000.000000</td>\n",
       "      <td>100000.000000</td>\n",
       "      <td>100000.000000</td>\n",
       "    </tr>\n",
       "    <tr>\n",
       "      <th>mean</th>\n",
       "      <td>0.002023</td>\n",
       "      <td>-0.002081</td>\n",
       "      <td>2.495128</td>\n",
       "      <td>95.000000</td>\n",
       "    </tr>\n",
       "    <tr>\n",
       "      <th>std</th>\n",
       "      <td>1.732045</td>\n",
       "      <td>1.730417</td>\n",
       "      <td>3.473445</td>\n",
       "      <td>44.749921</td>\n",
       "    </tr>\n",
       "    <tr>\n",
       "      <th>min</th>\n",
       "      <td>-8.760004</td>\n",
       "      <td>-7.084020</td>\n",
       "      <td>-11.970335</td>\n",
       "      <td>0.000000</td>\n",
       "    </tr>\n",
       "    <tr>\n",
       "      <th>25%</th>\n",
       "      <td>-1.162288</td>\n",
       "      <td>-1.174820</td>\n",
       "      <td>0.130359</td>\n",
       "      <td>59.450441</td>\n",
       "    </tr>\n",
       "    <tr>\n",
       "      <th>50%</th>\n",
       "      <td>0.009424</td>\n",
       "      <td>-0.009482</td>\n",
       "      <td>2.484236</td>\n",
       "      <td>94.925613</td>\n",
       "    </tr>\n",
       "    <tr>\n",
       "      <th>75%</th>\n",
       "      <td>1.158535</td>\n",
       "      <td>1.163678</td>\n",
       "      <td>4.858794</td>\n",
       "      <td>130.595027</td>\n",
       "    </tr>\n",
       "    <tr>\n",
       "      <th>max</th>\n",
       "      <td>7.238262</td>\n",
       "      <td>7.844801</td>\n",
       "      <td>16.739402</td>\n",
       "      <td>190.029838</td>\n",
       "    </tr>\n",
       "  </tbody>\n",
       "</table>\n",
       "</div>"
      ],
      "text/plain": [
       "                  f0             f1             f2        product\n",
       "count  100000.000000  100000.000000  100000.000000  100000.000000\n",
       "mean        0.002023      -0.002081       2.495128      95.000000\n",
       "std         1.732045       1.730417       3.473445      44.749921\n",
       "min        -8.760004      -7.084020     -11.970335       0.000000\n",
       "25%        -1.162288      -1.174820       0.130359      59.450441\n",
       "50%         0.009424      -0.009482       2.484236      94.925613\n",
       "75%         1.158535       1.163678       4.858794     130.595027\n",
       "max         7.238262       7.844801      16.739402     190.029838"
      ]
     },
     "execution_count": 6,
     "metadata": {},
     "output_type": "execute_result"
    }
   ],
   "source": [
    "display(df3.head())\n",
    "print(df3.info())\n",
    "df3['product'].hist(figsize=(20, 5), bins=300, grid=True)\n",
    "plt.show()\n",
    "df3.describe()"
   ]
  },
  {
   "cell_type": "markdown",
   "metadata": {},
   "source": [
    "Данные выглядят странно, есть предположение, что их объем сгенерирован с помощью семплирования, особенно это отражается на данных df2."
   ]
  },
  {
   "cell_type": "markdown",
   "metadata": {},
   "source": [
    "### Корреляция признаков"
   ]
  },
  {
   "cell_type": "markdown",
   "metadata": {},
   "source": [
    "Посмотрим корреляционную матрицу датасетов на момент корреляции признаков и целевого значения."
   ]
  },
  {
   "cell_type": "markdown",
   "metadata": {},
   "source": [
    "Регион 1 - df1"
   ]
  },
  {
   "cell_type": "code",
   "execution_count": 7,
   "metadata": {},
   "outputs": [
    {
     "data": {
      "text/html": [
       "<div>\n",
       "<style scoped>\n",
       "    .dataframe tbody tr th:only-of-type {\n",
       "        vertical-align: middle;\n",
       "    }\n",
       "\n",
       "    .dataframe tbody tr th {\n",
       "        vertical-align: top;\n",
       "    }\n",
       "\n",
       "    .dataframe thead th {\n",
       "        text-align: right;\n",
       "    }\n",
       "</style>\n",
       "<table border=\"1\" class=\"dataframe\">\n",
       "  <thead>\n",
       "    <tr style=\"text-align: right;\">\n",
       "      <th></th>\n",
       "      <th>f0</th>\n",
       "      <th>f1</th>\n",
       "      <th>f2</th>\n",
       "      <th>product</th>\n",
       "    </tr>\n",
       "  </thead>\n",
       "  <tbody>\n",
       "    <tr>\n",
       "      <th>f0</th>\n",
       "      <td>1.00</td>\n",
       "      <td>0.76</td>\n",
       "      <td>0.00</td>\n",
       "      <td>0.22</td>\n",
       "    </tr>\n",
       "    <tr>\n",
       "      <th>f1</th>\n",
       "      <td>0.76</td>\n",
       "      <td>1.00</td>\n",
       "      <td>0.00</td>\n",
       "      <td>0.25</td>\n",
       "    </tr>\n",
       "    <tr>\n",
       "      <th>f2</th>\n",
       "      <td>0.00</td>\n",
       "      <td>0.00</td>\n",
       "      <td>1.00</td>\n",
       "      <td>0.48</td>\n",
       "    </tr>\n",
       "    <tr>\n",
       "      <th>product</th>\n",
       "      <td>0.22</td>\n",
       "      <td>0.25</td>\n",
       "      <td>0.48</td>\n",
       "      <td>1.00</td>\n",
       "    </tr>\n",
       "  </tbody>\n",
       "</table>\n",
       "</div>"
      ],
      "text/plain": [
       "           f0    f1    f2  product\n",
       "f0       1.00  0.76  0.00     0.22\n",
       "f1       0.76  1.00  0.00     0.25\n",
       "f2       0.00  0.00  1.00     0.48\n",
       "product  0.22  0.25  0.48     1.00"
      ]
     },
     "execution_count": 7,
     "metadata": {},
     "output_type": "execute_result"
    }
   ],
   "source": [
    "# Выделим признаки для расчета\n",
    "interval_cols = ['f0' ,'f1' ,'f2' ,'product']\n",
    "phik_overview = df1.drop(['id'], axis=1).phik_matrix(interval_cols=interval_cols)\n",
    "phik_overview.round(2)"
   ]
  },
  {
   "cell_type": "code",
   "execution_count": 8,
   "metadata": {},
   "outputs": [
    {
     "data": {
      "image/png": "[encoded data removed]",
      "text/plain": [
       "<Figure size 432x288 with 2 Axes>"
      ]
     },
     "metadata": {
      "needs_background": "light"
     },
     "output_type": "display_data"
    }
   ],
   "source": [
    "# Строим матрицу корреляции\n",
    "plot_correlation_matrix = sns.heatmap(phik_overview, annot = True)\n",
    "plot_correlation_matrix.set(xlabel='\\nПризнаки', ylabel='Признаки',\n",
    "                            title = \"Correlation matrix df1\\n\")\n",
    "plt.yticks(rotation=0)\n",
    "plt.show()"
   ]
  },
  {
   "cell_type": "markdown",
   "metadata": {},
   "source": [
    "Регион 2 - df2"
   ]
  },
  {
   "cell_type": "code",
   "execution_count": 9,
   "metadata": {},
   "outputs": [
    {
     "data": {
      "text/html": [
       "<div>\n",
       "<style scoped>\n",
       "    .dataframe tbody tr th:only-of-type {\n",
       "        vertical-align: middle;\n",
       "    }\n",
       "\n",
       "    .dataframe tbody tr th {\n",
       "        vertical-align: top;\n",
       "    }\n",
       "\n",
       "    .dataframe thead th {\n",
       "        text-align: right;\n",
       "    }\n",
       "</style>\n",
       "<table border=\"1\" class=\"dataframe\">\n",
       "  <thead>\n",
       "    <tr style=\"text-align: right;\">\n",
       "      <th></th>\n",
       "      <th>f0</th>\n",
       "      <th>f1</th>\n",
       "      <th>f2</th>\n",
       "      <th>product</th>\n",
       "    </tr>\n",
       "  </thead>\n",
       "  <tbody>\n",
       "    <tr>\n",
       "      <th>f0</th>\n",
       "      <td>1.00</td>\n",
       "      <td>0.20</td>\n",
       "      <td>0.00</td>\n",
       "      <td>0.63</td>\n",
       "    </tr>\n",
       "    <tr>\n",
       "      <th>f1</th>\n",
       "      <td>0.20</td>\n",
       "      <td>1.00</td>\n",
       "      <td>0.00</td>\n",
       "      <td>0.19</td>\n",
       "    </tr>\n",
       "    <tr>\n",
       "      <th>f2</th>\n",
       "      <td>0.00</td>\n",
       "      <td>0.00</td>\n",
       "      <td>1.00</td>\n",
       "      <td>0.98</td>\n",
       "    </tr>\n",
       "    <tr>\n",
       "      <th>product</th>\n",
       "      <td>0.63</td>\n",
       "      <td>0.19</td>\n",
       "      <td>0.98</td>\n",
       "      <td>1.00</td>\n",
       "    </tr>\n",
       "  </tbody>\n",
       "</table>\n",
       "</div>"
      ],
      "text/plain": [
       "           f0    f1    f2  product\n",
       "f0       1.00  0.20  0.00     0.63\n",
       "f1       0.20  1.00  0.00     0.19\n",
       "f2       0.00  0.00  1.00     0.98\n",
       "product  0.63  0.19  0.98     1.00"
      ]
     },
     "execution_count": 9,
     "metadata": {},
     "output_type": "execute_result"
    }
   ],
   "source": [
    "interval_cols = ['f0' ,'f1' ,'f2' ,'product']\n",
    "phik_overview = df2.drop(['id'], axis=1).phik_matrix(interval_cols=interval_cols)\n",
    "phik_overview.round(2)"
   ]
  },
  {
   "cell_type": "code",
   "execution_count": 10,
   "metadata": {},
   "outputs": [
    {
     "data": {
      "image/png": "[encoded data removed]",
      "text/plain": [
       "<Figure size 432x288 with 2 Axes>"
      ]
     },
     "metadata": {
      "needs_background": "light"
     },
     "output_type": "display_data"
    }
   ],
   "source": [
    "plot_correlation_matrix = sns.heatmap(phik_overview, annot = True)\n",
    "plot_correlation_matrix.set(xlabel='\\nПризнаки', ylabel='Признаки',\n",
    "                            title = \"Correlation matrix df2\\n\")\n",
    "plt.yticks(rotation=0)\n",
    "plt.show()"
   ]
  },
  {
   "cell_type": "markdown",
   "metadata": {},
   "source": [
    "Регион 3 - df3"
   ]
  },
  {
   "cell_type": "code",
   "execution_count": 11,
   "metadata": {},
   "outputs": [
    {
     "data": {
      "text/html": [
       "<div>\n",
       "<style scoped>\n",
       "    .dataframe tbody tr th:only-of-type {\n",
       "        vertical-align: middle;\n",
       "    }\n",
       "\n",
       "    .dataframe tbody tr th {\n",
       "        vertical-align: top;\n",
       "    }\n",
       "\n",
       "    .dataframe thead th {\n",
       "        text-align: right;\n",
       "    }\n",
       "</style>\n",
       "<table border=\"1\" class=\"dataframe\">\n",
       "  <thead>\n",
       "    <tr style=\"text-align: right;\">\n",
       "      <th></th>\n",
       "      <th>f0</th>\n",
       "      <th>f1</th>\n",
       "      <th>f2</th>\n",
       "      <th>product</th>\n",
       "    </tr>\n",
       "  </thead>\n",
       "  <tbody>\n",
       "    <tr>\n",
       "      <th>f0</th>\n",
       "      <td>1.0</td>\n",
       "      <td>0.00</td>\n",
       "      <td>0.00</td>\n",
       "      <td>0.20</td>\n",
       "    </tr>\n",
       "    <tr>\n",
       "      <th>f1</th>\n",
       "      <td>0.0</td>\n",
       "      <td>1.00</td>\n",
       "      <td>0.00</td>\n",
       "      <td>0.22</td>\n",
       "    </tr>\n",
       "    <tr>\n",
       "      <th>f2</th>\n",
       "      <td>0.0</td>\n",
       "      <td>0.00</td>\n",
       "      <td>1.00</td>\n",
       "      <td>0.44</td>\n",
       "    </tr>\n",
       "    <tr>\n",
       "      <th>product</th>\n",
       "      <td>0.2</td>\n",
       "      <td>0.22</td>\n",
       "      <td>0.44</td>\n",
       "      <td>1.00</td>\n",
       "    </tr>\n",
       "  </tbody>\n",
       "</table>\n",
       "</div>"
      ],
      "text/plain": [
       "          f0    f1    f2  product\n",
       "f0       1.0  0.00  0.00     0.20\n",
       "f1       0.0  1.00  0.00     0.22\n",
       "f2       0.0  0.00  1.00     0.44\n",
       "product  0.2  0.22  0.44     1.00"
      ]
     },
     "execution_count": 11,
     "metadata": {},
     "output_type": "execute_result"
    }
   ],
   "source": [
    "interval_cols = ['f0' ,'f1' ,'f2' ,'product']\n",
    "phik_overview = df3.drop(['id'], axis=1).phik_matrix(interval_cols=interval_cols)\n",
    "phik_overview.round(2)"
   ]
  },
  {
   "cell_type": "code",
   "execution_count": 12,
   "metadata": {},
   "outputs": [
    {
     "data": {
      "image/png": "[encoded data removed]",
      "text/plain": [
       "<Figure size 432x288 with 2 Axes>"
      ]
     },
     "metadata": {
      "needs_background": "light"
     },
     "output_type": "display_data"
    }
   ],
   "source": [
    "plot_correlation_matrix = sns.heatmap(phik_overview, annot = True)\n",
    "plot_correlation_matrix.set(xlabel='\\nПризнаки', ylabel='Признаки',\n",
    "                            title = \"Correlation matrix df3\\n\")\n",
    "plt.yticks(rotation=0)\n",
    "plt.show()"
   ]
  },
  {
   "cell_type": "markdown",
   "metadata": {},
   "source": [
    "Наиболее высокую корреляцию с целевым признаков во всех датасетах показывает признак f2, модель в своих выводах будет оприраться прежде всего на него, но в связи с отсутствием информации о признаке, мы не можем его удалить."
   ]
  },
  {
   "cell_type": "markdown",
   "metadata": {},
   "source": [
    "### Масштабирование и деление на выборки"
   ]
  },
  {
   "cell_type": "markdown",
   "metadata": {},
   "source": [
    "Разброс у данных небольшой, но их всё рабно рекомендуется масштабировать"
   ]
  },
  {
   "cell_type": "code",
   "execution_count": 13,
   "metadata": {},
   "outputs": [],
   "source": [
    "# разделим датасеты на обучающую и валидационную выборки\n",
    "# сохраним их в списки\n",
    "targets_train_list = []\n",
    "features_train_list = []\n",
    "targets_valid_list = []\n",
    "features_valid_list = []\n",
    "\n",
    "# распределять будем посредством цикла\n",
    "for i in [df1, df2, df3]:\n",
    "    features = i.drop(['id', 'product'], axis=1)\n",
    "    target = i['product']\n",
    "    \n",
    "    # Разделим данные на выборки\n",
    "    features_train, features_valid, target_train, target_valid = train_test_split(features, target, test_size=0.25,\n",
    "                                                                               random_state=12345)\n",
    "    \n",
    "    # попутно масштабируем признаки\n",
    "    scaler = StandardScaler()\n",
    "    features_scaled_train = scaler.fit_transform(features_train)    \n",
    "    features_scaled_valid = scaler.transform(features_valid)\n",
    "\n",
    "    targets_train_list.append(target_train)\n",
    "    features_train_list.append(features_scaled_train)\n",
    "    targets_valid_list.append(target_valid)\n",
    "    features_valid_list.append(features_scaled_valid)"
   ]
  },
  {
   "cell_type": "markdown",
   "metadata": {},
   "source": [
    "## Обучение и проверка модели"
   ]
  },
  {
   "cell_type": "markdown",
   "metadata": {},
   "source": [
    "По условию задачи используем линейную регрессию"
   ]
  },
  {
   "cell_type": "code",
   "execution_count": 14,
   "metadata": {},
   "outputs": [],
   "source": [
    "# Для удобного хранения моделей прогнозов и оценок используем списки\n",
    "models_list = []\n",
    "predict_list = []\n",
    "rmse_list = []\n",
    "mean_crude = []\n",
    "mean_crude_target=[]\n",
    "# Циклом переберём датафреймы\n",
    "for i in range(len(features_train_list)):\n",
    "    model = LinearRegression()\n",
    "        \n",
    "    model.fit(features_train_list[i], targets_train_list[i])\n",
    "     \n",
    "    prediction = model.predict(features_valid_list[i])\n",
    "    mse = mean_squared_error(targets_valid_list[i], prediction)\n",
    "    # Запись в списки\n",
    "    predict_list.append(prediction)\n",
    "    rmse_list.append(mse**0.5)\n",
    "    mean_crude.append(pd.Series(prediction).mean()) \n",
    "    mean_crude_target.append(pd.Series(targets_valid_list[i]).mean())"
   ]
  },
  {
   "cell_type": "code",
   "execution_count": 15,
   "metadata": {},
   "outputs": [
    {
     "data": {
      "text/html": [
       "<div>\n",
       "<style scoped>\n",
       "    .dataframe tbody tr th:only-of-type {\n",
       "        vertical-align: middle;\n",
       "    }\n",
       "\n",
       "    .dataframe tbody tr th {\n",
       "        vertical-align: top;\n",
       "    }\n",
       "\n",
       "    .dataframe thead th {\n",
       "        text-align: right;\n",
       "    }\n",
       "</style>\n",
       "<table border=\"1\" class=\"dataframe\">\n",
       "  <thead>\n",
       "    <tr style=\"text-align: right;\">\n",
       "      <th></th>\n",
       "      <th>df1</th>\n",
       "      <th>df2</th>\n",
       "      <th>df3</th>\n",
       "    </tr>\n",
       "  </thead>\n",
       "  <tbody>\n",
       "    <tr>\n",
       "      <th>rmse</th>\n",
       "      <td>NaN</td>\n",
       "      <td>NaN</td>\n",
       "      <td>NaN</td>\n",
       "    </tr>\n",
       "    <tr>\n",
       "      <th>mean_pred</th>\n",
       "      <td>NaN</td>\n",
       "      <td>NaN</td>\n",
       "      <td>NaN</td>\n",
       "    </tr>\n",
       "    <tr>\n",
       "      <th>mean_target</th>\n",
       "      <td>NaN</td>\n",
       "      <td>NaN</td>\n",
       "      <td>NaN</td>\n",
       "    </tr>\n",
       "  </tbody>\n",
       "</table>\n",
       "</div>"
      ],
      "text/plain": [
       "             df1  df2  df3\n",
       "rmse         NaN  NaN  NaN\n",
       "mean_pred    NaN  NaN  NaN\n",
       "mean_target  NaN  NaN  NaN"
      ]
     },
     "execution_count": 15,
     "metadata": {},
     "output_type": "execute_result"
    }
   ],
   "source": [
    "table_results = pd.DataFrame(pd.concat([pd.Series(rmse_list), pd.Series(mean_crude), pd.Series(mean_crude_target)], axis=1).T, \n",
    "                            index=['rmse', 'mean_pred', 'mean_target'], columns=['df1', 'df2', 'df3'])\n",
    "table_results"
   ]
  },
  {
   "cell_type": "markdown",
   "metadata": {},
   "source": [
    "Странная ошибка при построении таблицы, причина мне неизвестна, поэтому сделаем так:"
   ]
  },
  {
   "cell_type": "code",
   "execution_count": 16,
   "metadata": {},
   "outputs": [
    {
     "data": {
      "text/html": [
       "<div>\n",
       "<style scoped>\n",
       "    .dataframe tbody tr th:only-of-type {\n",
       "        vertical-align: middle;\n",
       "    }\n",
       "\n",
       "    .dataframe tbody tr th {\n",
       "        vertical-align: top;\n",
       "    }\n",
       "\n",
       "    .dataframe thead th {\n",
       "        text-align: right;\n",
       "    }\n",
       "</style>\n",
       "<table border=\"1\" class=\"dataframe\">\n",
       "  <thead>\n",
       "    <tr style=\"text-align: right;\">\n",
       "      <th></th>\n",
       "      <th>df1</th>\n",
       "      <th>df2</th>\n",
       "      <th>df3</th>\n",
       "    </tr>\n",
       "  </thead>\n",
       "  <tbody>\n",
       "    <tr>\n",
       "      <th>rmse</th>\n",
       "      <td>37.579422</td>\n",
       "      <td>0.893099</td>\n",
       "      <td>40.029709</td>\n",
       "    </tr>\n",
       "    <tr>\n",
       "      <th>mean_pred</th>\n",
       "      <td>92.592568</td>\n",
       "      <td>68.728547</td>\n",
       "      <td>94.965046</td>\n",
       "    </tr>\n",
       "    <tr>\n",
       "      <th>mean_target</th>\n",
       "      <td>92.078597</td>\n",
       "      <td>68.723136</td>\n",
       "      <td>94.884233</td>\n",
       "    </tr>\n",
       "  </tbody>\n",
       "</table>\n",
       "</div>"
      ],
      "text/plain": [
       "                   df1        df2        df3\n",
       "rmse         37.579422   0.893099  40.029709\n",
       "mean_pred    92.592568  68.728547  94.965046\n",
       "mean_target  92.078597  68.723136  94.884233"
      ]
     },
     "execution_count": 16,
     "metadata": {},
     "output_type": "execute_result"
    }
   ],
   "source": [
    "# строим датафрейм с обобщенными результатами работы\n",
    "table_results = pd.DataFrame(pd.concat([pd.Series(rmse_list), pd.Series(mean_crude), pd.Series(mean_crude_target)], axis=1).T)\n",
    "table_results.index = ['rmse', 'mean_pred', 'mean_target']\n",
    "table_results.columns = ['df1', 'df2', 'df3']\n",
    "table_results"
   ]
  },
  {
   "cell_type": "markdown",
   "metadata": {},
   "source": [
    "В среднем модель линейной регрессии ошибается:\n",
    "- В первом регионе на 37 тыс. баррелей\n",
    "- Во втором регионе на 893 барреля\n",
    "- В регионе три на 40 тыс баррелей\n",
    "\n",
    "Наиболее богатым регионом является регион №1, следом идут №3 и №2. Для разработки предлагается регион №3, как в среднем наиболее богатый недрами, что подбверждает предсказание модели."
   ]
  },
  {
   "cell_type": "markdown",
   "metadata": {},
   "source": [
    "## Подготовка к расчёту прибыли"
   ]
  },
  {
   "cell_type": "markdown",
   "metadata": {},
   "source": [
    "Расчитаем достаточный объем сырья для безубыточной разработки скважины."
   ]
  },
  {
   "cell_type": "code",
   "execution_count": 17,
   "metadata": {},
   "outputs": [
    {
     "data": {
      "text/plain": [
       "111.11111111111111"
      ]
     },
     "execution_count": 17,
     "metadata": {},
     "output_type": "execute_result"
    }
   ],
   "source": [
    "value_crude = 10000000 / 200 / 450\n",
    "value_crude"
   ]
  },
  {
   "cell_type": "markdown",
   "metadata": {},
   "source": [
    "Для безубыточной добычи необходимо разрабатывать скважины объемом свыше 111 тыс. баррелей. Однако данные по составу затрат недоступны, сюда входит содержание персонала, аммортизация, логистика и тд. Не ясно, 10 млрд. на 200 скважин это траты на разработку или разработку и последующую эксплуатацию."
   ]
  },
  {
   "cell_type": "markdown",
   "metadata": {},
   "source": [
    "Посчитаем средний объем скважин в регионе исходя из прогноза."
   ]
  },
  {
   "cell_type": "code",
   "execution_count": 18,
   "metadata": {},
   "outputs": [
    {
     "name": "stdout",
     "output_type": "stream",
     "text": [
      "92.59256778438035\n",
      "68.728546895446\n",
      "94.96504596800489\n"
     ]
    }
   ],
   "source": [
    "print(pd.Series(predict_list[0]).mean())\n",
    "print(pd.Series(predict_list[1]).mean())\n",
    "print(pd.Series(predict_list[2]).mean())"
   ]
  },
  {
   "cell_type": "markdown",
   "metadata": {},
   "source": [
    "Средний показатель по регионам ниже точнки безубыточности, разработка некоторых скважин нерентабельна, в связи с этим принято решение разрабатывать 200 наиболее богатых месторождений."
   ]
  },
  {
   "cell_type": "markdown",
   "metadata": {},
   "source": [
    "Переменные для функции расчета прибыли"
   ]
  },
  {
   "cell_type": "code",
   "execution_count": 19,
   "metadata": {},
   "outputs": [],
   "source": [
    "# тыс. рублей\n",
    "COSTS = 10000000\n",
    "QUANTITY = 200\n",
    "BARREL = 450"
   ]
  },
  {
   "cell_type": "markdown",
   "metadata": {},
   "source": [
    "## Расчёт прибыли и рисков "
   ]
  },
  {
   "cell_type": "code",
   "execution_count": 20,
   "metadata": {},
   "outputs": [],
   "source": [
    "# переведу результаты в сериесы для использования методов pandas\n",
    "for i in range(len(targets_valid_list)):\n",
    "    targets_valid_list[i] = pd.Series(targets_valid_list[i])\n",
    "    predict_list[i] = pd.Series(predict_list[i])"
   ]
  },
  {
   "cell_type": "code",
   "execution_count": 21,
   "metadata": {},
   "outputs": [],
   "source": [
    "# топ 200 из 500 случайных\n",
    "def top_200 (target, predict):\n",
    "    \n",
    "    top_predict = predict.sort_values(ascending=False).head(200)\n",
    "    top_target = target.iloc[top_predict.index]\n",
    "    \n",
    "    return top_predict, top_target"
   ]
  },
  {
   "cell_type": "code",
   "execution_count": 22,
   "metadata": {},
   "outputs": [],
   "source": [
    "# подсчёт общей прибыли из случйно выбоки\n",
    "def mid_profit (target, costs, barrel):\n",
    "    return (target * barrel - costs / len(target)).sum()"
   ]
  },
  {
   "cell_type": "code",
   "execution_count": 23,
   "metadata": {},
   "outputs": [],
   "source": [
    "# Рандом для рандомстейта\n",
    "state = np.random.RandomState(12345)\n",
    "\n",
    "values_table = []\n",
    "# Бутстреп на 1000 выборок\n",
    "for i in range(len(predict_list)):\n",
    "    values = []\n",
    "    for j in range(1000):\n",
    "        subsample_predict = predict_list[i].sample(n=500, replace=True, random_state=state)\n",
    "                \n",
    "        predict_200, target_200 = top_200(targets_valid_list[i], subsample_predict)\n",
    "        \n",
    "        mid_region_profit = mid_profit(target_200, COSTS, BARREL)\n",
    "        \n",
    "        # Сохраняем данные в промежуточный список\n",
    "        values.append(mid_region_profit)\n",
    "# Сохраняем итог\n",
    "    values_table.append(values)\n",
    "        \n",
    "\n",
    "bootstrap = pd.DataFrame(values_table, index=['df1', 'df2', 'df3']).T"
   ]
  },
  {
   "cell_type": "code",
   "execution_count": 24,
   "metadata": {},
   "outputs": [
    {
     "data": {
      "text/html": [
       "<div>\n",
       "<style scoped>\n",
       "    .dataframe tbody tr th:only-of-type {\n",
       "        vertical-align: middle;\n",
       "    }\n",
       "\n",
       "    .dataframe tbody tr th {\n",
       "        vertical-align: top;\n",
       "    }\n",
       "\n",
       "    .dataframe thead th {\n",
       "        text-align: right;\n",
       "    }\n",
       "</style>\n",
       "<table border=\"1\" class=\"dataframe\">\n",
       "  <thead>\n",
       "    <tr style=\"text-align: right;\">\n",
       "      <th></th>\n",
       "      <th>df1</th>\n",
       "      <th>df2</th>\n",
       "      <th>df3</th>\n",
       "    </tr>\n",
       "  </thead>\n",
       "  <tbody>\n",
       "    <tr>\n",
       "      <th>Средняя прибыль</th>\n",
       "      <td>396164.984802</td>\n",
       "      <td>461155.817277</td>\n",
       "      <td>392950.475171</td>\n",
       "    </tr>\n",
       "    <tr>\n",
       "      <th>0.975</th>\n",
       "      <td>909766.941553</td>\n",
       "      <td>862952.060264</td>\n",
       "      <td>934562.914551</td>\n",
       "    </tr>\n",
       "    <tr>\n",
       "      <th>0.025</th>\n",
       "      <td>-111215.545890</td>\n",
       "      <td>78050.810752</td>\n",
       "      <td>-112227.625379</td>\n",
       "    </tr>\n",
       "    <tr>\n",
       "      <th>Доля убыточных кейсов</th>\n",
       "      <td>0.069000</td>\n",
       "      <td>0.007000</td>\n",
       "      <td>0.065000</td>\n",
       "    </tr>\n",
       "  </tbody>\n",
       "</table>\n",
       "</div>"
      ],
      "text/plain": [
       "                                 df1            df2            df3\n",
       "Средняя прибыль        396164.984802  461155.817277  392950.475171\n",
       "0.975                  909766.941553  862952.060264  934562.914551\n",
       "0.025                 -111215.545890   78050.810752 -112227.625379\n",
       "Доля убыточных кейсов       0.069000       0.007000       0.065000"
      ]
     },
     "execution_count": 24,
     "metadata": {},
     "output_type": "execute_result"
    }
   ],
   "source": [
    "# Итоговый датафрейм\n",
    "bootstrap = pd.DataFrame([bootstrap.mean(), bootstrap.quantile(0.975), bootstrap.quantile(0.025), \\\n",
    "                         bootstrap[bootstrap < 0].count() / bootstrap.shape[0]],\n",
    "                         index=['Средняя прибыль', '0.975', '0.025', 'Доля убыточных кейсов'])\n",
    "bootstrap"
   ]
  },
  {
   "cell_type": "markdown",
   "metadata": {},
   "source": [
    "По прогнозу модели, самым прибыльным окажется регион №3. При этом он имеет 6,5% убыточных кейсов."
   ]
  },
  {
   "cell_type": "markdown",
   "metadata": {},
   "source": [
    "Исходя из предсказания модели, для разработки наиболее предпочтителен регион №3. С вероятностью 95% при реализации проекта мы получим до 934 млн. рублей, но при этом есть риск убытков при составлении неправильного кейса скважин, вероятность этого 6,5%. Наименьший риск имеет регион №2, при этом в худшем случае мы получим 78 млн. рублей, рекомендуется диверсифицировать проекты и часть скважин оствоить в регионе №1."
   ]
  },
  {
   "cell_type": "markdown",
   "metadata": {},
   "source": [
    "Исходя из условий задачи выбираем регион №2 с показателем риска убытков ниже 2.5%"
   ]
  }
 ],
 "metadata": {
  "ExecuteTimeLog": [
   {
    "duration": 49,
    "start_time": "2022-11-20T19:59:30.889Z"
   },
   {
    "duration": 352,
    "start_time": "2022-11-20T19:59:34.741Z"
   },
   {
    "duration": 775,
    "start_time": "2022-11-20T19:59:35.125Z"
   },
   {
    "duration": 2,
    "start_time": "2022-11-20T20:00:19.733Z"
   },
   {
    "duration": 393,
    "start_time": "2022-11-20T20:00:20.050Z"
   },
   {
    "duration": 15,
    "start_time": "2022-11-20T20:00:20.847Z"
   },
   {
    "duration": 9,
    "start_time": "2022-11-20T20:00:21.670Z"
   },
   {
    "duration": 8,
    "start_time": "2022-11-20T20:00:23.561Z"
   },
   {
    "duration": 19,
    "start_time": "2022-11-20T20:02:06.295Z"
   },
   {
    "duration": 19,
    "start_time": "2022-11-20T20:02:18.802Z"
   },
   {
    "duration": 22,
    "start_time": "2022-11-20T20:02:26.427Z"
   },
   {
    "duration": 378,
    "start_time": "2022-11-20T20:22:14.223Z"
   },
   {
    "duration": 3,
    "start_time": "2022-11-20T20:22:17.655Z"
   },
   {
    "duration": 36,
    "start_time": "2022-11-20T20:22:52.670Z"
   },
   {
    "duration": 7,
    "start_time": "2022-11-20T20:24:59.522Z"
   },
   {
    "duration": 428,
    "start_time": "2022-11-20T20:25:04.672Z"
   },
   {
    "duration": 388,
    "start_time": "2022-11-20T20:25:22.825Z"
   },
   {
    "duration": 362,
    "start_time": "2022-11-20T20:26:07.586Z"
   },
   {
    "duration": 336,
    "start_time": "2022-11-20T20:27:21.793Z"
   },
   {
    "duration": 327,
    "start_time": "2022-11-20T20:28:24.170Z"
   },
   {
    "duration": 442,
    "start_time": "2022-11-20T20:28:30.510Z"
   },
   {
    "duration": 391,
    "start_time": "2022-11-20T20:28:49.028Z"
   },
   {
    "duration": 305,
    "start_time": "2022-11-20T20:29:29.441Z"
   },
   {
    "duration": 538,
    "start_time": "2022-11-20T20:31:29.678Z"
   },
   {
    "duration": 1283,
    "start_time": "2022-11-20T20:31:43.169Z"
   },
   {
    "duration": 122,
    "start_time": "2022-11-20T20:33:19.707Z"
   },
   {
    "duration": 9,
    "start_time": "2022-11-20T20:33:53.817Z"
   },
   {
    "duration": 120,
    "start_time": "2022-11-20T20:34:17.826Z"
   },
   {
    "duration": 148,
    "start_time": "2022-11-20T20:40:19.471Z"
   },
   {
    "duration": 440,
    "start_time": "2022-11-20T20:40:25.592Z"
   },
   {
    "duration": 12,
    "start_time": "2022-11-20T20:41:30.149Z"
   },
   {
    "duration": 583,
    "start_time": "2022-11-20T20:41:42.115Z"
   },
   {
    "duration": 428,
    "start_time": "2022-11-20T20:41:55.872Z"
   },
   {
    "duration": 12,
    "start_time": "2022-11-20T20:41:58.779Z"
   },
   {
    "duration": 389,
    "start_time": "2022-11-20T20:42:37.782Z"
   },
   {
    "duration": 727,
    "start_time": "2022-11-21T13:50:31.103Z"
   },
   {
    "duration": 212,
    "start_time": "2022-11-21T13:50:45.259Z"
   },
   {
    "duration": 1771,
    "start_time": "2022-11-21T13:50:45.579Z"
   },
   {
    "duration": 30,
    "start_time": "2022-11-21T13:50:47.353Z"
   },
   {
    "duration": 31,
    "start_time": "2022-11-21T13:50:47.386Z"
   },
   {
    "duration": 28,
    "start_time": "2022-11-21T13:50:47.439Z"
   },
   {
    "duration": 491,
    "start_time": "2022-11-21T13:50:51.227Z"
   },
   {
    "duration": 603,
    "start_time": "2022-11-21T13:50:57.699Z"
   },
   {
    "duration": 26,
    "start_time": "2022-11-21T13:51:24.459Z"
   },
   {
    "duration": 29,
    "start_time": "2022-11-21T13:51:25.670Z"
   },
   {
    "duration": 21,
    "start_time": "2022-11-21T13:51:34.179Z"
   },
   {
    "duration": 558,
    "start_time": "2022-11-21T13:51:49.752Z"
   },
   {
    "duration": 601,
    "start_time": "2022-11-21T13:52:01.371Z"
   },
   {
    "duration": 523,
    "start_time": "2022-11-21T13:52:11.588Z"
   },
   {
    "duration": 518,
    "start_time": "2022-11-21T13:53:12.372Z"
   },
   {
    "duration": 641,
    "start_time": "2022-11-21T13:53:17.676Z"
   },
   {
    "duration": 530,
    "start_time": "2022-11-21T13:55:37.364Z"
   },
   {
    "duration": 505,
    "start_time": "2022-11-21T13:55:44.773Z"
   },
   {
    "duration": 622,
    "start_time": "2022-11-21T13:55:51.961Z"
   },
   {
    "duration": 532,
    "start_time": "2022-11-21T13:55:59.455Z"
   },
   {
    "duration": 8,
    "start_time": "2022-11-21T13:56:29.820Z"
   },
   {
    "duration": 514,
    "start_time": "2022-11-21T13:57:05.890Z"
   },
   {
    "duration": 5853,
    "start_time": "2022-11-21T13:57:13.857Z"
   },
   {
    "duration": 1194,
    "start_time": "2022-11-21T13:57:28.724Z"
   },
   {
    "duration": 1457,
    "start_time": "2022-11-21T13:57:50.727Z"
   },
   {
    "duration": 1543,
    "start_time": "2022-11-21T13:59:30.684Z"
   },
   {
    "duration": 648,
    "start_time": "2022-11-21T13:59:40.853Z"
   },
   {
    "duration": 584,
    "start_time": "2022-11-21T13:59:57.422Z"
   },
   {
    "duration": 579,
    "start_time": "2022-11-21T14:00:07.711Z"
   },
   {
    "duration": 6,
    "start_time": "2022-11-21T14:03:20.695Z"
   },
   {
    "duration": 745,
    "start_time": "2022-11-21T14:05:37.326Z"
   },
   {
    "duration": 598,
    "start_time": "2022-11-21T14:05:53.782Z"
   },
   {
    "duration": 578,
    "start_time": "2022-11-21T14:10:04.043Z"
   },
   {
    "duration": 560,
    "start_time": "2022-11-21T14:12:38.118Z"
   },
   {
    "duration": 55,
    "start_time": "2022-11-21T14:17:23.407Z"
   },
   {
    "duration": 8,
    "start_time": "2022-11-21T14:17:39.215Z"
   },
   {
    "duration": 102,
    "start_time": "2022-11-21T14:17:50.747Z"
   },
   {
    "duration": 72,
    "start_time": "2022-11-21T14:17:54.791Z"
   },
   {
    "duration": 101,
    "start_time": "2022-11-21T14:18:05.378Z"
   },
   {
    "duration": 74,
    "start_time": "2022-11-21T14:18:10.316Z"
   },
   {
    "duration": 9,
    "start_time": "2022-11-21T14:18:19.547Z"
   },
   {
    "duration": 3453,
    "start_time": "2022-11-21T14:22:41.931Z"
   },
   {
    "duration": 2165,
    "start_time": "2022-11-21T14:23:04.408Z"
   },
   {
    "duration": 20,
    "start_time": "2022-11-21T14:30:34.554Z"
   },
   {
    "duration": 41381,
    "start_time": "2022-11-21T14:30:41.481Z"
   },
   {
    "duration": 338,
    "start_time": "2022-11-21T14:33:18.859Z"
   },
   {
    "duration": 3,
    "start_time": "2022-11-21T14:34:09.574Z"
   },
   {
    "duration": 266,
    "start_time": "2022-11-21T14:34:15.994Z"
   },
   {
    "duration": 279,
    "start_time": "2022-11-21T14:34:27.530Z"
   },
   {
    "duration": 253,
    "start_time": "2022-11-21T14:35:09.523Z"
   },
   {
    "duration": 258,
    "start_time": "2022-11-21T14:36:03.204Z"
   },
   {
    "duration": 265,
    "start_time": "2022-11-21T14:36:14.988Z"
   },
   {
    "duration": 282,
    "start_time": "2022-11-21T14:36:20.350Z"
   },
   {
    "duration": 376,
    "start_time": "2022-11-21T14:37:28.772Z"
   },
   {
    "duration": 2079,
    "start_time": "2022-11-21T14:40:09.716Z"
   },
   {
    "duration": 293,
    "start_time": "2022-11-21T14:40:17.525Z"
   },
   {
    "duration": 971,
    "start_time": "2022-11-21T14:40:18.811Z"
   },
   {
    "duration": 11,
    "start_time": "2022-11-21T14:40:36.180Z"
   },
   {
    "duration": 358,
    "start_time": "2022-11-21T14:42:47.835Z"
   },
   {
    "duration": 9,
    "start_time": "2022-11-21T14:42:51.294Z"
   },
   {
    "duration": 9,
    "start_time": "2022-11-21T14:43:27.759Z"
   },
   {
    "duration": 31,
    "start_time": "2022-11-21T14:43:46.693Z"
   },
   {
    "duration": 304,
    "start_time": "2022-11-21T14:43:51.054Z"
   },
   {
    "duration": 340,
    "start_time": "2022-11-21T14:45:00.241Z"
   },
   {
    "duration": 319,
    "start_time": "2022-11-21T14:46:37.173Z"
   },
   {
    "duration": 294,
    "start_time": "2022-11-21T14:48:39.054Z"
   },
   {
    "duration": 320,
    "start_time": "2022-11-21T14:48:44.151Z"
   },
   {
    "duration": 295,
    "start_time": "2022-11-21T14:49:30.565Z"
   },
   {
    "duration": 324,
    "start_time": "2022-11-21T14:49:31.556Z"
   },
   {
    "duration": 275,
    "start_time": "2022-11-21T14:49:58.469Z"
   },
   {
    "duration": 357,
    "start_time": "2022-11-21T14:49:58.885Z"
   },
   {
    "duration": 297,
    "start_time": "2022-11-21T14:50:08.877Z"
   },
   {
    "duration": 314,
    "start_time": "2022-11-21T14:50:10.126Z"
   },
   {
    "duration": 283,
    "start_time": "2022-11-21T14:50:12.686Z"
   },
   {
    "duration": 299,
    "start_time": "2022-11-21T14:50:20.085Z"
   },
   {
    "duration": 293,
    "start_time": "2022-11-21T14:50:34.286Z"
   },
   {
    "duration": 297,
    "start_time": "2022-11-21T14:50:35.271Z"
   },
   {
    "duration": 74,
    "start_time": "2022-11-21T14:55:28.534Z"
   },
   {
    "duration": 119,
    "start_time": "2022-11-21T14:55:31.870Z"
   },
   {
    "duration": 16,
    "start_time": "2022-11-21T14:55:49.300Z"
   },
   {
    "duration": 16,
    "start_time": "2022-11-21T14:55:57.366Z"
   },
   {
    "duration": 31,
    "start_time": "2022-11-21T14:57:55.843Z"
   },
   {
    "duration": 29,
    "start_time": "2022-11-21T14:58:15.679Z"
   },
   {
    "duration": 29,
    "start_time": "2022-11-21T14:58:23.054Z"
   },
   {
    "duration": 19,
    "start_time": "2022-11-21T14:59:15.584Z"
   },
   {
    "duration": 74,
    "start_time": "2022-11-21T15:00:37.096Z"
   },
   {
    "duration": 18,
    "start_time": "2022-11-21T15:01:30.511Z"
   },
   {
    "duration": 10,
    "start_time": "2022-11-21T15:01:41.750Z"
   },
   {
    "duration": 273,
    "start_time": "2022-11-21T15:02:24.288Z"
   },
   {
    "duration": 314,
    "start_time": "2022-11-21T15:02:26.255Z"
   },
   {
    "duration": 4612,
    "start_time": "2022-11-21T20:29:41.672Z"
   },
   {
    "duration": 1580,
    "start_time": "2022-11-21T20:29:48.218Z"
   },
   {
    "duration": 583,
    "start_time": "2022-11-21T20:29:49.800Z"
   },
   {
    "duration": 706,
    "start_time": "2022-11-21T20:29:52.589Z"
   },
   {
    "duration": 566,
    "start_time": "2022-11-21T20:29:55.155Z"
   },
   {
    "duration": 281,
    "start_time": "2022-11-21T20:30:10.167Z"
   },
   {
    "duration": 383,
    "start_time": "2022-11-21T20:30:11.658Z"
   },
   {
    "duration": 263,
    "start_time": "2022-11-21T20:30:14.926Z"
   },
   {
    "duration": 305,
    "start_time": "2022-11-21T20:30:16.434Z"
   },
   {
    "duration": 265,
    "start_time": "2022-11-21T20:30:17.920Z"
   },
   {
    "duration": 282,
    "start_time": "2022-11-21T20:30:20.024Z"
   },
   {
    "duration": 19,
    "start_time": "2022-11-21T20:36:55.443Z"
   },
   {
    "duration": 17,
    "start_time": "2022-11-21T20:39:30.190Z"
   },
   {
    "duration": 37,
    "start_time": "2022-11-21T20:54:14.217Z"
   },
   {
    "duration": 5,
    "start_time": "2022-11-21T20:54:26.365Z"
   },
   {
    "duration": 12,
    "start_time": "2022-11-21T20:54:42.345Z"
   },
   {
    "duration": 108,
    "start_time": "2022-11-21T21:00:42.548Z"
   },
   {
    "duration": 13,
    "start_time": "2022-11-21T21:01:09.840Z"
   },
   {
    "duration": 56,
    "start_time": "2022-11-21T21:01:39.184Z"
   },
   {
    "duration": 5,
    "start_time": "2022-11-21T21:02:04.694Z"
   },
   {
    "duration": 4763,
    "start_time": "2022-11-22T07:04:56.874Z"
   },
   {
    "duration": 31,
    "start_time": "2022-11-22T07:05:01.639Z"
   },
   {
    "duration": 851,
    "start_time": "2022-11-22T07:05:01.672Z"
   },
   {
    "duration": 635,
    "start_time": "2022-11-22T07:05:02.527Z"
   },
   {
    "duration": 664,
    "start_time": "2022-11-22T07:05:03.163Z"
   },
   {
    "duration": 535,
    "start_time": "2022-11-22T07:05:03.829Z"
   },
   {
    "duration": 305,
    "start_time": "2022-11-22T07:05:04.366Z"
   },
   {
    "duration": 387,
    "start_time": "2022-11-22T07:05:04.673Z"
   },
   {
    "duration": 274,
    "start_time": "2022-11-22T07:05:05.062Z"
   },
   {
    "duration": 312,
    "start_time": "2022-11-22T07:05:05.339Z"
   },
   {
    "duration": 306,
    "start_time": "2022-11-22T07:05:05.653Z"
   },
   {
    "duration": 287,
    "start_time": "2022-11-22T07:05:05.961Z"
   },
   {
    "duration": 53,
    "start_time": "2022-11-22T07:05:13.028Z"
   },
   {
    "duration": 21,
    "start_time": "2022-11-22T07:06:58.900Z"
   },
   {
    "duration": 3,
    "start_time": "2022-11-22T07:16:33.887Z"
   },
   {
    "duration": 404,
    "start_time": "2022-11-22T07:25:57.233Z"
   },
   {
    "duration": 173,
    "start_time": "2022-11-22T07:29:45.924Z"
   },
   {
    "duration": 28,
    "start_time": "2022-11-22T07:30:35.974Z"
   },
   {
    "duration": 5,
    "start_time": "2022-11-22T07:30:55.178Z"
   },
   {
    "duration": 9,
    "start_time": "2022-11-22T07:31:00.329Z"
   },
   {
    "duration": 87,
    "start_time": "2022-11-22T07:31:27.481Z"
   },
   {
    "duration": 9,
    "start_time": "2022-11-22T07:32:01.968Z"
   },
   {
    "duration": 16,
    "start_time": "2022-11-22T07:32:20.737Z"
   },
   {
    "duration": 14,
    "start_time": "2022-11-22T07:32:25.550Z"
   },
   {
    "duration": 4,
    "start_time": "2022-11-22T07:32:44.928Z"
   },
   {
    "duration": 11,
    "start_time": "2022-11-22T07:34:43.475Z"
   },
   {
    "duration": 11,
    "start_time": "2022-11-22T07:35:10.382Z"
   },
   {
    "duration": 11,
    "start_time": "2022-11-22T07:35:55.601Z"
   },
   {
    "duration": 11,
    "start_time": "2022-11-22T07:38:08.249Z"
   },
   {
    "duration": 14,
    "start_time": "2022-11-22T07:49:43.939Z"
   },
   {
    "duration": 12,
    "start_time": "2022-11-22T07:49:58.209Z"
   },
   {
    "duration": 11,
    "start_time": "2022-11-22T07:50:05.752Z"
   },
   {
    "duration": 11,
    "start_time": "2022-11-22T07:50:16.981Z"
   },
   {
    "duration": 11,
    "start_time": "2022-11-22T07:51:34.182Z"
   },
   {
    "duration": 10,
    "start_time": "2022-11-22T07:51:36.378Z"
   },
   {
    "duration": 11,
    "start_time": "2022-11-22T07:54:31.650Z"
   },
   {
    "duration": 115,
    "start_time": "2022-11-22T07:54:35.435Z"
   },
   {
    "duration": 15,
    "start_time": "2022-11-22T07:54:36.785Z"
   },
   {
    "duration": 11,
    "start_time": "2022-11-22T07:55:10.778Z"
   },
   {
    "duration": 16,
    "start_time": "2022-11-22T07:55:36.699Z"
   },
   {
    "duration": 14,
    "start_time": "2022-11-22T08:49:20.044Z"
   },
   {
    "duration": 50,
    "start_time": "2022-11-22T08:50:25.437Z"
   },
   {
    "duration": 61,
    "start_time": "2022-11-22T08:50:28.388Z"
   },
   {
    "duration": 12,
    "start_time": "2022-11-22T08:50:30.613Z"
   },
   {
    "duration": 11,
    "start_time": "2022-11-22T08:50:31.588Z"
   },
   {
    "duration": 10,
    "start_time": "2022-11-22T10:16:09.893Z"
   },
   {
    "duration": 1363,
    "start_time": "2022-11-22T10:16:19.602Z"
   },
   {
    "duration": 286,
    "start_time": "2022-11-22T10:19:14.349Z"
   },
   {
    "duration": 16,
    "start_time": "2022-11-22T10:19:17.131Z"
   },
   {
    "duration": 15,
    "start_time": "2022-11-22T10:19:19.105Z"
   },
   {
    "duration": 641,
    "start_time": "2022-11-22T10:24:01.534Z"
   },
   {
    "duration": 19,
    "start_time": "2022-11-22T10:35:28.319Z"
   },
   {
    "duration": 23,
    "start_time": "2022-11-22T10:35:35.783Z"
   },
   {
    "duration": 40,
    "start_time": "2022-11-22T10:36:22.814Z"
   },
   {
    "duration": 5,
    "start_time": "2022-11-22T10:42:27.456Z"
   },
   {
    "duration": 34,
    "start_time": "2022-11-22T10:42:56.792Z"
   },
   {
    "duration": 6,
    "start_time": "2022-11-22T10:42:58.872Z"
   },
   {
    "duration": 4,
    "start_time": "2022-11-22T10:52:51.170Z"
   },
   {
    "duration": 2,
    "start_time": "2022-11-22T10:54:52.922Z"
   },
   {
    "duration": 5,
    "start_time": "2022-11-22T10:55:21.348Z"
   },
   {
    "duration": 5,
    "start_time": "2022-11-22T11:00:09.006Z"
   },
   {
    "duration": 15,
    "start_time": "2022-11-22T11:02:12.629Z"
   },
   {
    "duration": 12,
    "start_time": "2022-11-22T11:02:28.316Z"
   },
   {
    "duration": 5,
    "start_time": "2022-11-22T11:02:34.956Z"
   },
   {
    "duration": 11,
    "start_time": "2022-11-22T11:03:12.342Z"
   },
   {
    "duration": 6,
    "start_time": "2022-11-22T11:03:17.780Z"
   },
   {
    "duration": 4,
    "start_time": "2022-11-22T11:03:31.444Z"
   },
   {
    "duration": 4,
    "start_time": "2022-11-22T11:03:52.093Z"
   },
   {
    "duration": 7,
    "start_time": "2022-11-22T11:04:32.260Z"
   },
   {
    "duration": 94,
    "start_time": "2022-11-22T11:07:53.973Z"
   },
   {
    "duration": 4,
    "start_time": "2022-11-22T11:11:47.997Z"
   },
   {
    "duration": 66,
    "start_time": "2022-11-22T11:23:17.736Z"
   },
   {
    "duration": 5,
    "start_time": "2022-11-22T11:23:25.295Z"
   },
   {
    "duration": 14,
    "start_time": "2022-11-22T11:24:58.695Z"
   },
   {
    "duration": 3,
    "start_time": "2022-11-22T11:25:04.448Z"
   },
   {
    "duration": 4,
    "start_time": "2022-11-22T11:25:06.312Z"
   },
   {
    "duration": 8,
    "start_time": "2022-11-22T11:25:07.425Z"
   },
   {
    "duration": 47,
    "start_time": "2022-11-22T11:27:11.234Z"
   },
   {
    "duration": 14,
    "start_time": "2022-11-22T11:27:25.008Z"
   },
   {
    "duration": 54,
    "start_time": "2022-11-22T11:28:20.802Z"
   },
   {
    "duration": 49,
    "start_time": "2022-11-22T11:28:32.481Z"
   },
   {
    "duration": 12,
    "start_time": "2022-11-22T11:28:37.444Z"
   },
   {
    "duration": 13,
    "start_time": "2022-11-22T11:28:46.401Z"
   },
   {
    "duration": 13,
    "start_time": "2022-11-22T11:30:08.425Z"
   },
   {
    "duration": 4,
    "start_time": "2022-11-22T11:33:01.314Z"
   },
   {
    "duration": 13,
    "start_time": "2022-11-22T11:33:01.930Z"
   },
   {
    "duration": 44,
    "start_time": "2022-11-22T11:33:15.850Z"
   },
   {
    "duration": 4,
    "start_time": "2022-11-22T11:33:24.009Z"
   },
   {
    "duration": 14,
    "start_time": "2022-11-22T11:33:24.345Z"
   },
   {
    "duration": 5,
    "start_time": "2022-11-22T11:33:41.763Z"
   },
   {
    "duration": 4,
    "start_time": "2022-11-22T11:33:45.026Z"
   },
   {
    "duration": 12,
    "start_time": "2022-11-22T11:33:45.314Z"
   },
   {
    "duration": 4,
    "start_time": "2022-11-22T11:34:27.634Z"
   },
   {
    "duration": 14,
    "start_time": "2022-11-22T11:34:28.369Z"
   },
   {
    "duration": 4,
    "start_time": "2022-11-22T11:34:46.514Z"
   },
   {
    "duration": 13,
    "start_time": "2022-11-22T11:34:47.419Z"
   },
   {
    "duration": 4,
    "start_time": "2022-11-22T11:35:22.258Z"
   },
   {
    "duration": 13,
    "start_time": "2022-11-22T11:35:22.681Z"
   },
   {
    "duration": 5,
    "start_time": "2022-11-22T11:36:13.901Z"
   },
   {
    "duration": 14,
    "start_time": "2022-11-22T11:36:15.859Z"
   },
   {
    "duration": 14,
    "start_time": "2022-11-22T13:46:51.928Z"
   },
   {
    "duration": 6,
    "start_time": "2022-11-22T13:47:01.792Z"
   },
   {
    "duration": 12,
    "start_time": "2022-11-22T13:49:19.096Z"
   },
   {
    "duration": 11,
    "start_time": "2022-11-22T13:49:51.185Z"
   },
   {
    "duration": 10,
    "start_time": "2022-11-22T13:51:18.505Z"
   },
   {
    "duration": 77,
    "start_time": "2022-11-22T13:51:59.497Z"
   },
   {
    "duration": 14,
    "start_time": "2022-11-22T13:52:36.944Z"
   },
   {
    "duration": 8,
    "start_time": "2022-11-22T13:53:09.185Z"
   },
   {
    "duration": 6,
    "start_time": "2022-11-22T13:53:14.328Z"
   },
   {
    "duration": 13,
    "start_time": "2022-11-22T13:53:47.617Z"
   },
   {
    "duration": 7,
    "start_time": "2022-11-22T13:53:54.945Z"
   },
   {
    "duration": 7,
    "start_time": "2022-11-22T13:54:05.786Z"
   },
   {
    "duration": 4,
    "start_time": "2022-11-22T13:56:56.994Z"
   },
   {
    "duration": 4,
    "start_time": "2022-11-22T13:57:04.977Z"
   },
   {
    "duration": 4,
    "start_time": "2022-11-22T13:57:09.745Z"
   },
   {
    "duration": 18,
    "start_time": "2022-11-22T13:57:19.979Z"
   },
   {
    "duration": 47,
    "start_time": "2022-11-22T13:57:58.643Z"
   },
   {
    "duration": 1469,
    "start_time": "2022-11-22T13:58:06.025Z"
   },
   {
    "duration": 1495,
    "start_time": "2022-11-22T13:58:17.498Z"
   },
   {
    "duration": 1482,
    "start_time": "2022-11-22T14:09:43.188Z"
   },
   {
    "duration": 1602,
    "start_time": "2022-11-22T14:10:51.188Z"
   },
   {
    "duration": 11,
    "start_time": "2022-11-22T14:11:00.076Z"
   },
   {
    "duration": 7,
    "start_time": "2022-11-22T14:11:48.772Z"
   },
   {
    "duration": 6,
    "start_time": "2022-11-22T14:11:53.251Z"
   },
   {
    "duration": 6,
    "start_time": "2022-11-22T14:11:57.955Z"
   },
   {
    "duration": 7,
    "start_time": "2022-11-22T14:17:13.933Z"
   },
   {
    "duration": 11,
    "start_time": "2022-11-22T14:17:20.366Z"
   },
   {
    "duration": 11,
    "start_time": "2022-11-22T14:17:29.901Z"
   },
   {
    "duration": 11,
    "start_time": "2022-11-22T14:23:02.838Z"
   },
   {
    "duration": 4,
    "start_time": "2022-11-22T14:26:56.687Z"
   },
   {
    "duration": 4,
    "start_time": "2022-11-22T14:27:03.318Z"
   },
   {
    "duration": 11,
    "start_time": "2022-11-22T14:29:03.767Z"
   },
   {
    "duration": 1511,
    "start_time": "2022-11-22T14:29:06.359Z"
   },
   {
    "duration": 11,
    "start_time": "2022-11-22T14:29:09.063Z"
   },
   {
    "duration": 13,
    "start_time": "2022-11-22T14:34:00.242Z"
   },
   {
    "duration": 21,
    "start_time": "2022-11-22T14:34:12.776Z"
   },
   {
    "duration": 33,
    "start_time": "2022-11-22T14:34:20.050Z"
   },
   {
    "duration": 22,
    "start_time": "2022-11-22T14:34:25.665Z"
   },
   {
    "duration": 13,
    "start_time": "2022-11-22T14:36:21.050Z"
   },
   {
    "duration": 22,
    "start_time": "2022-11-22T14:36:22.008Z"
   },
   {
    "duration": 4,
    "start_time": "2022-11-22T14:36:24.376Z"
   },
   {
    "duration": 13,
    "start_time": "2022-11-22T14:36:25.152Z"
   },
   {
    "duration": 14,
    "start_time": "2022-11-22T14:36:25.992Z"
   },
   {
    "duration": 23,
    "start_time": "2022-11-22T14:36:26.457Z"
   },
   {
    "duration": 716,
    "start_time": "2022-11-22T14:38:43.105Z"
   },
   {
    "duration": 1892,
    "start_time": "2022-11-22T14:38:56.154Z"
   },
   {
    "duration": 705,
    "start_time": "2022-11-22T14:39:44.305Z"
   },
   {
    "duration": 5,
    "start_time": "2022-11-22T14:41:23.618Z"
   },
   {
    "duration": 8,
    "start_time": "2022-11-22T14:42:01.090Z"
   },
   {
    "duration": 9,
    "start_time": "2022-11-22T14:42:28.889Z"
   },
   {
    "duration": 9,
    "start_time": "2022-11-22T14:42:51.074Z"
   },
   {
    "duration": 21,
    "start_time": "2022-11-22T14:43:34.570Z"
   },
   {
    "duration": 4,
    "start_time": "2022-11-22T14:44:20.154Z"
   },
   {
    "duration": 14,
    "start_time": "2022-11-22T14:44:20.730Z"
   },
   {
    "duration": 14,
    "start_time": "2022-11-22T14:44:23.681Z"
   },
   {
    "duration": 22,
    "start_time": "2022-11-22T14:44:24.899Z"
   },
   {
    "duration": 4,
    "start_time": "2022-11-22T14:44:29.979Z"
   },
   {
    "duration": 12,
    "start_time": "2022-11-22T14:44:49.034Z"
   },
   {
    "duration": 9,
    "start_time": "2022-11-22T14:45:07.922Z"
   },
   {
    "duration": 8,
    "start_time": "2022-11-22T14:45:09.825Z"
   },
   {
    "duration": 14,
    "start_time": "2022-11-22T14:45:50.674Z"
   },
   {
    "duration": 33,
    "start_time": "2022-11-22T14:45:51.482Z"
   },
   {
    "duration": 5,
    "start_time": "2022-11-22T14:47:11.218Z"
   },
   {
    "duration": 17,
    "start_time": "2022-11-22T14:47:12.587Z"
   },
   {
    "duration": 13,
    "start_time": "2022-11-22T14:47:15.114Z"
   },
   {
    "duration": 28,
    "start_time": "2022-11-22T14:47:16.174Z"
   },
   {
    "duration": 12,
    "start_time": "2022-11-22T14:47:40.787Z"
   },
   {
    "duration": 1545,
    "start_time": "2022-11-22T14:47:42.314Z"
   },
   {
    "duration": 11,
    "start_time": "2022-11-22T14:47:45.434Z"
   },
   {
    "duration": 13,
    "start_time": "2022-11-22T14:48:29.418Z"
   },
   {
    "duration": 12,
    "start_time": "2022-11-22T14:52:33.539Z"
   },
   {
    "duration": 8,
    "start_time": "2022-11-22T14:56:48.219Z"
   },
   {
    "duration": 1487,
    "start_time": "2022-11-22T14:56:49.845Z"
   },
   {
    "duration": 10,
    "start_time": "2022-11-22T14:56:52.341Z"
   },
   {
    "duration": 18,
    "start_time": "2022-11-22T14:57:05.613Z"
   },
   {
    "duration": 13,
    "start_time": "2022-11-22T14:57:22.660Z"
   },
   {
    "duration": 2167,
    "start_time": "2022-11-22T15:01:04.173Z"
   },
   {
    "duration": 284,
    "start_time": "2022-11-22T15:02:07.886Z"
   },
   {
    "duration": 390,
    "start_time": "2022-11-22T15:02:26.412Z"
   },
   {
    "duration": 257,
    "start_time": "2022-11-22T15:02:47.557Z"
   },
   {
    "duration": 318,
    "start_time": "2022-11-22T15:02:49.085Z"
   },
   {
    "duration": 287,
    "start_time": "2022-11-22T15:02:49.941Z"
   },
   {
    "duration": 299,
    "start_time": "2022-11-22T15:02:50.349Z"
   },
   {
    "duration": 12,
    "start_time": "2022-11-22T15:10:31.599Z"
   },
   {
    "duration": 52,
    "start_time": "2022-11-24T07:26:18.279Z"
   },
   {
    "duration": 4712,
    "start_time": "2022-11-24T07:26:25.316Z"
   },
   {
    "duration": 787,
    "start_time": "2022-11-24T07:26:30.031Z"
   },
   {
    "duration": 645,
    "start_time": "2022-11-24T07:26:30.820Z"
   },
   {
    "duration": 690,
    "start_time": "2022-11-24T07:26:31.468Z"
   },
   {
    "duration": 574,
    "start_time": "2022-11-24T07:26:32.159Z"
   },
   {
    "duration": 278,
    "start_time": "2022-11-24T07:26:34.287Z"
   },
   {
    "duration": 2109,
    "start_time": "2022-11-24T07:26:40.419Z"
   },
   {
    "duration": 456,
    "start_time": "2022-11-24T07:26:42.531Z"
   },
   {
    "duration": 699,
    "start_time": "2022-11-24T07:26:42.988Z"
   },
   {
    "duration": 838,
    "start_time": "2022-11-24T07:26:43.689Z"
   },
   {
    "duration": 659,
    "start_time": "2022-11-24T07:26:44.530Z"
   },
   {
    "duration": 305,
    "start_time": "2022-11-24T07:26:45.191Z"
   },
   {
    "duration": 366,
    "start_time": "2022-11-24T07:26:45.497Z"
   },
   {
    "duration": 283,
    "start_time": "2022-11-24T07:26:45.865Z"
   },
   {
    "duration": 403,
    "start_time": "2022-11-24T07:26:46.149Z"
   },
   {
    "duration": 323,
    "start_time": "2022-11-24T07:26:46.556Z"
   },
   {
    "duration": 360,
    "start_time": "2022-11-24T07:26:46.881Z"
   },
   {
    "duration": 172,
    "start_time": "2022-11-24T07:26:50.594Z"
   },
   {
    "duration": 321,
    "start_time": "2022-11-24T07:26:59.311Z"
   },
   {
    "duration": 18,
    "start_time": "2022-11-24T07:26:59.716Z"
   },
   {
    "duration": 10,
    "start_time": "2022-11-24T07:27:04.479Z"
   },
   {
    "duration": 36,
    "start_time": "2022-11-24T07:27:09.071Z"
   },
   {
    "duration": 8,
    "start_time": "2022-11-24T07:27:11.278Z"
   },
   {
    "duration": 9,
    "start_time": "2022-11-24T07:27:14.680Z"
   },
   {
    "duration": 11,
    "start_time": "2022-11-24T07:28:29.912Z"
   },
   {
    "duration": 7,
    "start_time": "2022-11-24T07:28:40.032Z"
   },
   {
    "duration": 10,
    "start_time": "2022-11-24T07:30:23.372Z"
   },
   {
    "duration": 7,
    "start_time": "2022-11-24T07:32:25.169Z"
   },
   {
    "duration": 5,
    "start_time": "2022-11-24T07:38:56.241Z"
   },
   {
    "duration": 89,
    "start_time": "2022-11-24T09:03:26.593Z"
   },
   {
    "duration": 5,
    "start_time": "2022-11-24T09:03:31.793Z"
   },
   {
    "duration": 128,
    "start_time": "2022-11-24T09:04:36.345Z"
   },
   {
    "duration": 11,
    "start_time": "2022-11-24T09:05:15.120Z"
   },
   {
    "duration": 14,
    "start_time": "2022-11-24T09:05:39.193Z"
   },
   {
    "duration": 5,
    "start_time": "2022-11-24T09:06:25.720Z"
   },
   {
    "duration": 17,
    "start_time": "2022-11-24T09:06:26.771Z"
   },
   {
    "duration": 4,
    "start_time": "2022-11-24T09:06:54.113Z"
   },
   {
    "duration": 973,
    "start_time": "2022-11-24T09:06:55.633Z"
   },
   {
    "duration": 4,
    "start_time": "2022-11-24T09:11:06.289Z"
   },
   {
    "duration": 10,
    "start_time": "2022-11-24T09:20:15.779Z"
   },
   {
    "duration": 6,
    "start_time": "2022-11-24T09:20:25.278Z"
   },
   {
    "duration": 15,
    "start_time": "2022-11-24T09:20:47.844Z"
   },
   {
    "duration": 3,
    "start_time": "2022-11-24T09:21:26.952Z"
   },
   {
    "duration": 5,
    "start_time": "2022-11-24T09:21:36.715Z"
   },
   {
    "duration": 7,
    "start_time": "2022-11-24T09:23:14.867Z"
   },
   {
    "duration": 6,
    "start_time": "2022-11-24T09:23:30.780Z"
   },
   {
    "duration": 13,
    "start_time": "2022-11-24T09:24:10.307Z"
   },
   {
    "duration": 7,
    "start_time": "2022-11-24T09:24:34.221Z"
   },
   {
    "duration": 3,
    "start_time": "2022-11-24T09:28:47.396Z"
   },
   {
    "duration": 6,
    "start_time": "2022-11-24T09:28:54.661Z"
   },
   {
    "duration": 6,
    "start_time": "2022-11-24T10:19:26.670Z"
   },
   {
    "duration": 7,
    "start_time": "2022-11-24T10:19:41.789Z"
   },
   {
    "duration": 5,
    "start_time": "2022-11-24T10:20:13.220Z"
   },
   {
    "duration": 8,
    "start_time": "2022-11-24T10:20:14.709Z"
   },
   {
    "duration": 4,
    "start_time": "2022-11-24T10:20:35.036Z"
   },
   {
    "duration": 6,
    "start_time": "2022-11-24T10:20:35.453Z"
   },
   {
    "duration": 7,
    "start_time": "2022-11-24T10:20:45.180Z"
   },
   {
    "duration": 4,
    "start_time": "2022-11-24T10:20:46.053Z"
   },
   {
    "duration": 6,
    "start_time": "2022-11-24T10:20:47.284Z"
   },
   {
    "duration": 7,
    "start_time": "2022-11-24T10:21:08.885Z"
   },
   {
    "duration": 6,
    "start_time": "2022-11-24T10:21:10.716Z"
   },
   {
    "duration": 6,
    "start_time": "2022-11-24T10:21:12.517Z"
   },
   {
    "duration": 3,
    "start_time": "2022-11-24T10:24:11.630Z"
   },
   {
    "duration": 6,
    "start_time": "2022-11-24T10:24:13.382Z"
   },
   {
    "duration": 6,
    "start_time": "2022-11-24T10:25:11.373Z"
   },
   {
    "duration": 770,
    "start_time": "2022-11-24T10:25:17.095Z"
   },
   {
    "duration": 4,
    "start_time": "2022-11-24T10:25:39.294Z"
   },
   {
    "duration": 11,
    "start_time": "2022-11-24T10:25:50.901Z"
   },
   {
    "duration": 6,
    "start_time": "2022-11-24T10:26:00.677Z"
   },
   {
    "duration": 4,
    "start_time": "2022-11-24T10:46:04.281Z"
   },
   {
    "duration": 7,
    "start_time": "2022-11-24T10:46:24.521Z"
   },
   {
    "duration": 3,
    "start_time": "2022-11-24T10:46:26.417Z"
   },
   {
    "duration": 8,
    "start_time": "2022-11-24T10:46:30.849Z"
   },
   {
    "duration": 10,
    "start_time": "2022-11-24T10:47:25.321Z"
   },
   {
    "duration": 12,
    "start_time": "2022-11-24T10:47:34.507Z"
   },
   {
    "duration": 3,
    "start_time": "2022-11-24T10:47:40.017Z"
   },
   {
    "duration": 763,
    "start_time": "2022-11-24T10:47:44.314Z"
   },
   {
    "duration": 4,
    "start_time": "2022-11-24T10:48:05.649Z"
   },
   {
    "duration": 3,
    "start_time": "2022-11-24T10:48:08.705Z"
   },
   {
    "duration": 12,
    "start_time": "2022-11-24T10:48:09.097Z"
   },
   {
    "duration": 1242,
    "start_time": "2022-11-24T10:48:14.179Z"
   },
   {
    "duration": 6,
    "start_time": "2022-11-24T10:48:32.529Z"
   },
   {
    "duration": 4,
    "start_time": "2022-11-24T10:50:16.643Z"
   },
   {
    "duration": 12,
    "start_time": "2022-11-24T10:50:17.721Z"
   },
   {
    "duration": 877,
    "start_time": "2022-11-24T10:50:18.530Z"
   },
   {
    "duration": 4,
    "start_time": "2022-11-24T10:50:42.586Z"
   },
   {
    "duration": 12,
    "start_time": "2022-11-24T10:50:43.490Z"
   },
   {
    "duration": 7,
    "start_time": "2022-11-24T10:50:45.346Z"
   },
   {
    "duration": 3,
    "start_time": "2022-11-24T10:54:39.604Z"
   },
   {
    "duration": 12,
    "start_time": "2022-11-24T10:54:41.043Z"
   },
   {
    "duration": 6,
    "start_time": "2022-11-24T10:54:42.435Z"
   },
   {
    "duration": 14,
    "start_time": "2022-11-24T11:05:06.004Z"
   },
   {
    "duration": 5,
    "start_time": "2022-11-24T11:05:33.382Z"
   },
   {
    "duration": 4,
    "start_time": "2022-11-24T11:05:34.172Z"
   },
   {
    "duration": 12,
    "start_time": "2022-11-24T11:05:35.589Z"
   },
   {
    "duration": 920,
    "start_time": "2022-11-24T11:05:55.796Z"
   },
   {
    "duration": 1004,
    "start_time": "2022-11-24T11:08:46.278Z"
   },
   {
    "duration": 900,
    "start_time": "2022-11-24T11:09:46.935Z"
   },
   {
    "duration": 4,
    "start_time": "2022-11-24T11:12:29.126Z"
   },
   {
    "duration": 4,
    "start_time": "2022-11-24T11:15:50.038Z"
   },
   {
    "duration": 4,
    "start_time": "2022-11-24T11:15:50.781Z"
   },
   {
    "duration": 23,
    "start_time": "2022-11-24T11:15:54.518Z"
   },
   {
    "duration": 13,
    "start_time": "2022-11-24T11:17:07.151Z"
   },
   {
    "duration": 4,
    "start_time": "2022-11-24T11:18:11.935Z"
   },
   {
    "duration": 4,
    "start_time": "2022-11-24T11:18:12.815Z"
   },
   {
    "duration": 33,
    "start_time": "2022-11-24T11:18:24.744Z"
   },
   {
    "duration": 24,
    "start_time": "2022-11-24T11:18:35.296Z"
   },
   {
    "duration": 46,
    "start_time": "2022-11-24T11:19:33.985Z"
   },
   {
    "duration": 24,
    "start_time": "2022-11-24T11:19:41.703Z"
   },
   {
    "duration": 25,
    "start_time": "2022-11-24T11:20:56.528Z"
   },
   {
    "duration": 15,
    "start_time": "2022-11-24T11:22:06.800Z"
   },
   {
    "duration": 16,
    "start_time": "2022-11-24T11:22:27.032Z"
   },
   {
    "duration": 4,
    "start_time": "2022-11-24T11:23:25.391Z"
   },
   {
    "duration": 3,
    "start_time": "2022-11-24T11:23:25.705Z"
   },
   {
    "duration": 24,
    "start_time": "2022-11-24T11:23:26.407Z"
   },
   {
    "duration": 7,
    "start_time": "2022-11-24T11:24:49.088Z"
   },
   {
    "duration": 9,
    "start_time": "2022-11-24T11:25:05.896Z"
   },
   {
    "duration": 4,
    "start_time": "2022-11-24T11:25:41.712Z"
   },
   {
    "duration": 4,
    "start_time": "2022-11-24T11:25:42.047Z"
   },
   {
    "duration": 23,
    "start_time": "2022-11-24T11:25:43.489Z"
   },
   {
    "duration": 2594,
    "start_time": "2022-11-24T11:26:06.928Z"
   },
   {
    "duration": 76,
    "start_time": "2022-11-24T11:26:24.080Z"
   },
   {
    "duration": 12,
    "start_time": "2022-11-24T11:26:52.920Z"
   },
   {
    "duration": 5,
    "start_time": "2022-11-24T11:27:00.888Z"
   },
   {
    "duration": 6,
    "start_time": "2022-11-24T12:05:00.185Z"
   },
   {
    "duration": 5,
    "start_time": "2022-11-24T12:06:08.463Z"
   },
   {
    "duration": 4,
    "start_time": "2022-11-24T12:06:08.767Z"
   },
   {
    "duration": 3,
    "start_time": "2022-11-24T12:06:09.071Z"
   },
   {
    "duration": 2647,
    "start_time": "2022-11-24T12:06:11.074Z"
   },
   {
    "duration": 2701,
    "start_time": "2022-11-24T12:07:00.616Z"
   },
   {
    "duration": 13,
    "start_time": "2022-11-24T12:07:03.319Z"
   },
   {
    "duration": 8,
    "start_time": "2022-11-24T12:11:38.176Z"
   },
   {
    "duration": 10,
    "start_time": "2022-11-24T12:12:30.240Z"
   },
   {
    "duration": 2717,
    "start_time": "2022-11-24T12:12:37.912Z"
   },
   {
    "duration": 14,
    "start_time": "2022-11-24T12:12:40.633Z"
   },
   {
    "duration": 10,
    "start_time": "2022-11-24T12:13:26.313Z"
   },
   {
    "duration": 9,
    "start_time": "2022-11-24T12:13:34.482Z"
   },
   {
    "duration": 14,
    "start_time": "2022-11-24T12:14:41.865Z"
   },
   {
    "duration": 9,
    "start_time": "2022-11-24T12:14:54.184Z"
   },
   {
    "duration": 9,
    "start_time": "2022-11-24T12:15:07.584Z"
   },
   {
    "duration": 15,
    "start_time": "2022-11-24T12:15:54.753Z"
   },
   {
    "duration": 20,
    "start_time": "2022-11-24T12:16:59.249Z"
   },
   {
    "duration": 5,
    "start_time": "2022-11-24T12:20:36.201Z"
   },
   {
    "duration": 4,
    "start_time": "2022-11-24T12:20:36.634Z"
   },
   {
    "duration": 3,
    "start_time": "2022-11-24T12:20:37.689Z"
   },
   {
    "duration": 2556,
    "start_time": "2022-11-24T12:20:39.419Z"
   },
   {
    "duration": 18,
    "start_time": "2022-11-24T12:20:44.458Z"
   },
   {
    "duration": 15,
    "start_time": "2022-11-24T12:22:25.633Z"
   },
   {
    "duration": 8271,
    "start_time": "2022-11-25T05:16:09.536Z"
   },
   {
    "duration": 1511,
    "start_time": "2022-11-25T05:16:17.809Z"
   },
   {
    "duration": 543,
    "start_time": "2022-11-25T05:16:19.321Z"
   },
   {
    "duration": 620,
    "start_time": "2022-11-25T05:16:19.866Z"
   },
   {
    "duration": 542,
    "start_time": "2022-11-25T05:16:20.488Z"
   },
   {
    "duration": 262,
    "start_time": "2022-11-25T05:16:21.032Z"
   },
   {
    "duration": 379,
    "start_time": "2022-11-25T05:16:21.296Z"
   },
   {
    "duration": 267,
    "start_time": "2022-11-25T05:16:21.676Z"
   },
   {
    "duration": 290,
    "start_time": "2022-11-25T05:16:21.944Z"
   },
   {
    "duration": 253,
    "start_time": "2022-11-25T05:16:22.236Z"
   },
   {
    "duration": 315,
    "start_time": "2022-11-25T05:16:22.491Z"
   },
   {
    "duration": 63,
    "start_time": "2022-11-25T05:16:22.808Z"
   },
   {
    "duration": 153,
    "start_time": "2022-11-25T05:16:22.872Z"
   },
   {
    "duration": 204,
    "start_time": "2022-11-25T05:16:23.027Z"
   },
   {
    "duration": 45,
    "start_time": "2022-11-25T05:16:23.234Z"
   },
   {
    "duration": 17,
    "start_time": "2022-11-25T05:16:23.280Z"
   },
   {
    "duration": 22,
    "start_time": "2022-11-25T05:16:23.298Z"
   },
   {
    "duration": 25,
    "start_time": "2022-11-25T05:16:23.321Z"
   },
   {
    "duration": 3,
    "start_time": "2022-11-25T05:16:26.392Z"
   },
   {
    "duration": 4,
    "start_time": "2022-11-25T05:16:27.256Z"
   },
   {
    "duration": 3,
    "start_time": "2022-11-25T05:16:27.900Z"
   },
   {
    "duration": 6,
    "start_time": "2022-11-25T05:16:36.080Z"
   },
   {
    "duration": 5,
    "start_time": "2022-11-25T05:16:44.384Z"
   },
   {
    "duration": 3,
    "start_time": "2022-11-25T05:17:44.456Z"
   },
   {
    "duration": 2212,
    "start_time": "2022-11-25T05:17:45.177Z"
   },
   {
    "duration": 443,
    "start_time": "2022-11-25T05:17:47.390Z"
   },
   {
    "duration": 3,
    "start_time": "2022-11-25T05:18:01.683Z"
   },
   {
    "duration": 2426,
    "start_time": "2022-11-25T05:18:02.020Z"
   },
   {
    "duration": 14,
    "start_time": "2022-11-25T05:18:04.448Z"
   },
   {
    "duration": 3,
    "start_time": "2022-11-25T05:18:21.872Z"
   },
   {
    "duration": 1927,
    "start_time": "2022-11-25T05:18:22.156Z"
   },
   {
    "duration": 17,
    "start_time": "2022-11-25T05:18:24.086Z"
   },
   {
    "duration": 2,
    "start_time": "2022-11-25T05:18:52.126Z"
   },
   {
    "duration": 2357,
    "start_time": "2022-11-25T05:18:54.616Z"
   },
   {
    "duration": 14,
    "start_time": "2022-11-25T05:18:56.975Z"
   },
   {
    "duration": 3,
    "start_time": "2022-11-25T05:19:02.525Z"
   },
   {
    "duration": 2407,
    "start_time": "2022-11-25T05:19:04.115Z"
   },
   {
    "duration": 12,
    "start_time": "2022-11-25T05:19:06.524Z"
   },
   {
    "duration": 52,
    "start_time": "2022-11-25T06:09:10.413Z"
   },
   {
    "duration": 4607,
    "start_time": "2022-11-25T06:10:00.429Z"
   },
   {
    "duration": 758,
    "start_time": "2022-11-25T06:10:05.039Z"
   },
   {
    "duration": 585,
    "start_time": "2022-11-25T06:10:05.799Z"
   },
   {
    "duration": 680,
    "start_time": "2022-11-25T06:10:06.386Z"
   },
   {
    "duration": 543,
    "start_time": "2022-11-25T06:10:07.068Z"
   },
   {
    "duration": 285,
    "start_time": "2022-11-25T06:10:07.613Z"
   },
   {
    "duration": 383,
    "start_time": "2022-11-25T06:10:07.900Z"
   },
   {
    "duration": 285,
    "start_time": "2022-11-25T06:10:08.285Z"
   },
   {
    "duration": 305,
    "start_time": "2022-11-25T06:10:08.572Z"
   },
   {
    "duration": 297,
    "start_time": "2022-11-25T06:10:08.880Z"
   },
   {
    "duration": 307,
    "start_time": "2022-11-25T06:10:09.179Z"
   },
   {
    "duration": 71,
    "start_time": "2022-11-25T06:10:09.488Z"
   },
   {
    "duration": 178,
    "start_time": "2022-11-25T06:10:09.561Z"
   },
   {
    "duration": 201,
    "start_time": "2022-11-25T06:10:09.743Z"
   },
   {
    "duration": 13,
    "start_time": "2022-11-25T06:10:09.945Z"
   },
   {
    "duration": 29,
    "start_time": "2022-11-25T06:10:09.960Z"
   },
   {
    "duration": 16,
    "start_time": "2022-11-25T06:10:09.991Z"
   },
   {
    "duration": 17,
    "start_time": "2022-11-25T06:10:10.009Z"
   },
   {
    "duration": 3,
    "start_time": "2022-11-25T06:10:39.048Z"
   },
   {
    "duration": 3,
    "start_time": "2022-11-25T06:10:40.328Z"
   },
   {
    "duration": 3,
    "start_time": "2022-11-25T06:10:41.584Z"
   },
   {
    "duration": 2144,
    "start_time": "2022-11-25T06:10:43.751Z"
   },
   {
    "duration": 12,
    "start_time": "2022-11-25T06:10:45.897Z"
   }
  ],
  "kernelspec": {
   "display_name": "Python 3 (ipykernel)",
   "language": "python",
   "name": "python3"
  },
  "language_info": {
   "codemirror_mode": {
    "name": "ipython",
    "version": 3
   },
   "file_extension": ".py",
   "mimetype": "text/x-python",
   "name": "python",
   "nbconvert_exporter": "python",
   "pygments_lexer": "ipython3",
   "version": "3.9.12"
  },
  "toc": {
   "base_numbering": 1,
   "nav_menu": {},
   "number_sections": true,
   "sideBar": true,
   "skip_h1_title": true,
   "title_cell": "Table of Contents",
   "title_sidebar": "Contents",
   "toc_cell": false,
   "toc_position": {},
   "toc_section_display": true,
   "toc_window_display": false
  }
 },
 "nbformat": 4,
 "nbformat_minor": 2
}
