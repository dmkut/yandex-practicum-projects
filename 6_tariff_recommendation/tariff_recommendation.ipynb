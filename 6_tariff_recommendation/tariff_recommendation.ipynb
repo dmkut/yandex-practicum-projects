{
 "cells": [
  {
   "cell_type": "markdown",
   "metadata": {},
   "source": [
    "# Рекомендация тарифов"
   ]
  },
  {
   "cell_type": "markdown",
   "metadata": {},
   "source": [
    "В нашем распоряжении данные о поведении клиентов, которые приобрели у оператора связи тот или иной пакет услуг. Мы хотим построить модель для задачи классификации, которая выберет подходящий тариф.\n",
    "\n",
    "Задача:\n",
    "\n",
    "Построить модель с максимально большим значением *accuracy*. Проект является обучающим, поэтому установим порог точности 0.75."
   ]
  },
  {
   "cell_type": "markdown",
   "metadata": {},
   "source": [
    "## Знакомство с данными"
   ]
  },
  {
   "cell_type": "code",
   "execution_count": 1,
   "metadata": {},
   "outputs": [],
   "source": [
    "# игнорирование предупреждений о несоответствии версий\n",
    "import warnings\n",
    "warnings.filterwarnings('ignore')\n",
    "\n",
    "# импортируем механизм масштабирования\n",
    "from sklearn.preprocessing import StandardScaler\n",
    "\n",
    "# импортируем библиотеку для работы с таблицами\n",
    "import pandas as pd\n",
    "\n",
    "# импортируем модели для обучения\n",
    "from sklearn.tree import DecisionTreeClassifier\n",
    "from sklearn.ensemble import RandomForestClassifier\n",
    "from sklearn.linear_model import LogisticRegression\n",
    "\n",
    "# импортируем инструменты для работы с моделями\n",
    "from sklearn.model_selection import train_test_split\n",
    "from sklearn.metrics import accuracy_score\n",
    "\n",
    "# Библиотеки для работы с графиками\n",
    "import seaborn as sns\n",
    "import matplotlib.pyplot as plt"
   ]
  },
  {
   "cell_type": "code",
   "execution_count": 2,
   "metadata": {},
   "outputs": [],
   "source": [
    "data = pd.read_csv('~/Telecom/users_behavior.csv')"
   ]
  },
  {
   "cell_type": "code",
   "execution_count": 3,
   "metadata": {},
   "outputs": [
    {
     "data": {
      "text/html": [
       "<div>\n",
       "<style scoped>\n",
       "    .dataframe tbody tr th:only-of-type {\n",
       "        vertical-align: middle;\n",
       "    }\n",
       "\n",
       "    .dataframe tbody tr th {\n",
       "        vertical-align: top;\n",
       "    }\n",
       "\n",
       "    .dataframe thead th {\n",
       "        text-align: right;\n",
       "    }\n",
       "</style>\n",
       "<table border=\"1\" class=\"dataframe\">\n",
       "  <thead>\n",
       "    <tr style=\"text-align: right;\">\n",
       "      <th></th>\n",
       "      <th>calls</th>\n",
       "      <th>minutes</th>\n",
       "      <th>messages</th>\n",
       "      <th>mb_used</th>\n",
       "      <th>is_ultra</th>\n",
       "    </tr>\n",
       "  </thead>\n",
       "  <tbody>\n",
       "    <tr>\n",
       "      <th>0</th>\n",
       "      <td>40.0</td>\n",
       "      <td>311.90</td>\n",
       "      <td>83.0</td>\n",
       "      <td>19915.42</td>\n",
       "      <td>0</td>\n",
       "    </tr>\n",
       "    <tr>\n",
       "      <th>1</th>\n",
       "      <td>85.0</td>\n",
       "      <td>516.75</td>\n",
       "      <td>56.0</td>\n",
       "      <td>22696.96</td>\n",
       "      <td>0</td>\n",
       "    </tr>\n",
       "    <tr>\n",
       "      <th>2</th>\n",
       "      <td>77.0</td>\n",
       "      <td>467.66</td>\n",
       "      <td>86.0</td>\n",
       "      <td>21060.45</td>\n",
       "      <td>0</td>\n",
       "    </tr>\n",
       "    <tr>\n",
       "      <th>3</th>\n",
       "      <td>106.0</td>\n",
       "      <td>745.53</td>\n",
       "      <td>81.0</td>\n",
       "      <td>8437.39</td>\n",
       "      <td>1</td>\n",
       "    </tr>\n",
       "    <tr>\n",
       "      <th>4</th>\n",
       "      <td>66.0</td>\n",
       "      <td>418.74</td>\n",
       "      <td>1.0</td>\n",
       "      <td>14502.75</td>\n",
       "      <td>0</td>\n",
       "    </tr>\n",
       "  </tbody>\n",
       "</table>\n",
       "</div>"
      ],
      "text/plain": [
       "   calls  minutes  messages   mb_used  is_ultra\n",
       "0   40.0   311.90      83.0  19915.42         0\n",
       "1   85.0   516.75      56.0  22696.96         0\n",
       "2   77.0   467.66      86.0  21060.45         0\n",
       "3  106.0   745.53      81.0   8437.39         1\n",
       "4   66.0   418.74       1.0  14502.75         0"
      ]
     },
     "execution_count": 3,
     "metadata": {},
     "output_type": "execute_result"
    }
   ],
   "source": [
    "data.head()"
   ]
  },
  {
   "cell_type": "code",
   "execution_count": 4,
   "metadata": {},
   "outputs": [
    {
     "name": "stdout",
     "output_type": "stream",
     "text": [
      "<class 'pandas.core.frame.DataFrame'>\n",
      "RangeIndex: 3214 entries, 0 to 3213\n",
      "Data columns (total 5 columns):\n",
      " #   Column    Non-Null Count  Dtype  \n",
      "---  ------    --------------  -----  \n",
      " 0   calls     3214 non-null   float64\n",
      " 1   minutes   3214 non-null   float64\n",
      " 2   messages  3214 non-null   float64\n",
      " 3   mb_used   3214 non-null   float64\n",
      " 4   is_ultra  3214 non-null   int64  \n",
      "dtypes: float64(4), int64(1)\n",
      "memory usage: 125.7 KB\n"
     ]
    }
   ],
   "source": [
    "data.info()"
   ]
  },
  {
   "cell_type": "code",
   "execution_count": 5,
   "metadata": {},
   "outputs": [
    {
     "data": {
      "text/html": [
       "<div>\n",
       "<style scoped>\n",
       "    .dataframe tbody tr th:only-of-type {\n",
       "        vertical-align: middle;\n",
       "    }\n",
       "\n",
       "    .dataframe tbody tr th {\n",
       "        vertical-align: top;\n",
       "    }\n",
       "\n",
       "    .dataframe thead th {\n",
       "        text-align: right;\n",
       "    }\n",
       "</style>\n",
       "<table border=\"1\" class=\"dataframe\">\n",
       "  <thead>\n",
       "    <tr style=\"text-align: right;\">\n",
       "      <th></th>\n",
       "      <th>calls</th>\n",
       "      <th>minutes</th>\n",
       "      <th>messages</th>\n",
       "      <th>mb_used</th>\n",
       "      <th>is_ultra</th>\n",
       "    </tr>\n",
       "  </thead>\n",
       "  <tbody>\n",
       "    <tr>\n",
       "      <th>count</th>\n",
       "      <td>3214.000000</td>\n",
       "      <td>3214.000000</td>\n",
       "      <td>3214.000000</td>\n",
       "      <td>3214.000000</td>\n",
       "      <td>3214.000000</td>\n",
       "    </tr>\n",
       "    <tr>\n",
       "      <th>mean</th>\n",
       "      <td>63.038892</td>\n",
       "      <td>438.208787</td>\n",
       "      <td>38.281269</td>\n",
       "      <td>17207.673836</td>\n",
       "      <td>0.306472</td>\n",
       "    </tr>\n",
       "    <tr>\n",
       "      <th>std</th>\n",
       "      <td>33.236368</td>\n",
       "      <td>234.569872</td>\n",
       "      <td>36.148326</td>\n",
       "      <td>7570.968246</td>\n",
       "      <td>0.461100</td>\n",
       "    </tr>\n",
       "    <tr>\n",
       "      <th>min</th>\n",
       "      <td>0.000000</td>\n",
       "      <td>0.000000</td>\n",
       "      <td>0.000000</td>\n",
       "      <td>0.000000</td>\n",
       "      <td>0.000000</td>\n",
       "    </tr>\n",
       "    <tr>\n",
       "      <th>25%</th>\n",
       "      <td>40.000000</td>\n",
       "      <td>274.575000</td>\n",
       "      <td>9.000000</td>\n",
       "      <td>12491.902500</td>\n",
       "      <td>0.000000</td>\n",
       "    </tr>\n",
       "    <tr>\n",
       "      <th>50%</th>\n",
       "      <td>62.000000</td>\n",
       "      <td>430.600000</td>\n",
       "      <td>30.000000</td>\n",
       "      <td>16943.235000</td>\n",
       "      <td>0.000000</td>\n",
       "    </tr>\n",
       "    <tr>\n",
       "      <th>75%</th>\n",
       "      <td>82.000000</td>\n",
       "      <td>571.927500</td>\n",
       "      <td>57.000000</td>\n",
       "      <td>21424.700000</td>\n",
       "      <td>1.000000</td>\n",
       "    </tr>\n",
       "    <tr>\n",
       "      <th>max</th>\n",
       "      <td>244.000000</td>\n",
       "      <td>1632.060000</td>\n",
       "      <td>224.000000</td>\n",
       "      <td>49745.730000</td>\n",
       "      <td>1.000000</td>\n",
       "    </tr>\n",
       "  </tbody>\n",
       "</table>\n",
       "</div>"
      ],
      "text/plain": [
       "             calls      minutes     messages       mb_used     is_ultra\n",
       "count  3214.000000  3214.000000  3214.000000   3214.000000  3214.000000\n",
       "mean     63.038892   438.208787    38.281269  17207.673836     0.306472\n",
       "std      33.236368   234.569872    36.148326   7570.968246     0.461100\n",
       "min       0.000000     0.000000     0.000000      0.000000     0.000000\n",
       "25%      40.000000   274.575000     9.000000  12491.902500     0.000000\n",
       "50%      62.000000   430.600000    30.000000  16943.235000     0.000000\n",
       "75%      82.000000   571.927500    57.000000  21424.700000     1.000000\n",
       "max     244.000000  1632.060000   224.000000  49745.730000     1.000000"
      ]
     },
     "execution_count": 5,
     "metadata": {},
     "output_type": "execute_result"
    }
   ],
   "source": [
    "data.describe()"
   ]
  },
  {
   "cell_type": "markdown",
   "metadata": {},
   "source": [
    "Данные в таблице представлены в числовом формате и подходят для построения модели. Разброс данных достаточно велик, поэтому рекомендуется произвести масштабирование."
   ]
  },
  {
   "cell_type": "markdown",
   "metadata": {},
   "source": [
    "## Разделим данные на выборки"
   ]
  },
  {
   "cell_type": "code",
   "execution_count": 6,
   "metadata": {},
   "outputs": [],
   "source": [
    "# разобьем датасет на выборки в пропорции 3:1:1\n",
    "features = data.drop('is_ultra', axis=1)\n",
    "target = data['is_ultra']\n",
    "\n",
    "# выделим обучающую выборку в размере 60% датасета\n",
    "features_train, features_val_test, target_train, target_val_test = train_test_split(features, target, test_size=0.4,\n",
    "                                                                             random_state=12345)\n",
    "# Оставшиеся данные разделим на валидационную и тестовую выборку\n",
    "features_valid, features_test, target_valid, target_test = train_test_split(features_val_test, target_val_test,\n",
    "                                                                              test_size=0.5, random_state=12345)"
   ]
  },
  {
   "cell_type": "code",
   "execution_count": 7,
   "metadata": {},
   "outputs": [
    {
     "data": {
      "text/plain": [
       "<AxesSubplot:>"
      ]
     },
     "execution_count": 7,
     "metadata": {},
     "output_type": "execute_result"
    },
    {
     "data": {
      "image/png": "[encoded data removed]",
      "text/plain": [
       "<Figure size 432x288 with 2 Axes>"
      ]
     },
     "metadata": {
      "needs_background": "light"
     },
     "output_type": "display_data"
    }
   ],
   "source": [
    "# проверим данные на корреляцию\n",
    "sns.heatmap(data.corr()[['is_ultra']], vmax=1, vmin=-1)"
   ]
  },
  {
   "cell_type": "markdown",
   "metadata": {},
   "source": [
    "## Исследование моделей"
   ]
  },
  {
   "cell_type": "markdown",
   "metadata": {},
   "source": [
    "Проведем исследование эффективности моделей при выполнении поставленной задачи. Для реализации возмем следующие модели:\n",
    "- Дерево решений\n",
    "- Случайный лес\n",
    "- Логистическая регрессия\n",
    "\n",
    "Для хранения и визуализации результатов создадим отдельный датафрейм для каждого исследования."
   ]
  },
  {
   "cell_type": "code",
   "execution_count": 8,
   "metadata": {},
   "outputs": [],
   "source": [
    "# Обучим модель для масштабирования признаков\n",
    "scaler = StandardScaler()\n",
    "scaler = scaler.fit(features_train)\n",
    "features_train = scaler.transform(features_train)\n",
    "features_valid = scaler.transform(features_valid)\n",
    "features_test = scaler.transform(features_test)"
   ]
  },
  {
   "cell_type": "markdown",
   "metadata": {},
   "source": [
    "### Дерево решений"
   ]
  },
  {
   "cell_type": "code",
   "execution_count": 9,
   "metadata": {},
   "outputs": [],
   "source": [
    "# Датафрейм в размере равном гиперпараметрам depth и min_samples_split\n",
    "tree_df = pd.DataFrame(index=range(1, 11), columns=range(10, 26))"
   ]
  },
  {
   "cell_type": "code",
   "execution_count": 10,
   "metadata": {},
   "outputs": [
    {
     "name": "stdout",
     "output_type": "stream",
     "text": [
      "Лучшее соотношение гиперпараметров:\n",
      "      depth - 6\n",
      "      min_samples_split - 17\n",
      "      accuracy равен: 0.7869362363919129\n",
      "CPU times: user 738 ms, sys: 107 µs, total: 738 ms\n",
      "Wall time: 741 ms\n"
     ]
    }
   ],
   "source": [
    "%%time\n",
    "# С помощью цикла определим лучшие значения гиперпараметров модели\n",
    "best_depth = 0\n",
    "best_samples_split = 0\n",
    "best_accuracy = 0\n",
    "best_tree = None\n",
    "for depth in range(1, 11):\n",
    "    for samples_split in range(10, 26):\n",
    "        model_tree = DecisionTreeClassifier(random_state=12345, max_depth=depth, min_samples_split=samples_split)\n",
    "        model_tree.fit(features_train, target_train)\n",
    "        prediction_valid = model_tree.predict(features_valid)\n",
    "        accuracy_tree = accuracy_score(target_valid, prediction_valid)\n",
    "        tree_df.loc[depth, samples_split] = accuracy_tree\n",
    "        if accuracy_tree > best_accuracy:\n",
    "            best_accuracy = accuracy_tree\n",
    "            best_samples_split = samples_split\n",
    "            best_depth = depth\n",
    "            best_tree = model_tree\n",
    "print(f'''Лучшее соотношение гиперпараметров:\n",
    "      depth - {best_depth}\n",
    "      min_samples_split - {best_samples_split}\n",
    "      accuracy равен: {best_accuracy}''')"
   ]
  },
  {
   "cell_type": "markdown",
   "metadata": {},
   "source": [
    "Проиллюстрируем результаты работы модели"
   ]
  },
  {
   "cell_type": "code",
   "execution_count": 11,
   "metadata": {
    "scrolled": false
   },
   "outputs": [
    {
     "data": {
      "image/png": "[encoded data removed]",
      "text/plain": [
       "<Figure size 1080x504 with 2 Axes>"
      ]
     },
     "metadata": {
      "needs_background": "light"
     },
     "output_type": "display_data"
    }
   ],
   "source": [
    "# Перевод данных в численный формат\n",
    "tree_df = tree_df.astype('float')\n",
    "# Строим heatmap\n",
    "plt.figure(figsize=(15, 7))\n",
    "sns.heatmap(tree_df, annot = True, fmt='.4f')\n",
    "plt.xlabel('Минимальное количество выборок для внутреннего узла min_samples_split')\n",
    "plt.ylabel('Глубина дерева max_depth')\n",
    "plt.title('Результат обучения модели')\n",
    "plt.show()"
   ]
  },
  {
   "cell_type": "markdown",
   "metadata": {},
   "source": [
    "Наилучший результат достигается при значениях:\n",
    "- depth - 6, min_samples_split - 17\n",
    "- depth - 6, min_samples_split - 20\n",
    "- depth - 6, min_samples_split - 21"
   ]
  },
  {
   "cell_type": "markdown",
   "metadata": {},
   "source": [
    "### Визуализируем дерево решений"
   ]
  },
  {
   "cell_type": "code",
   "execution_count": 12,
   "metadata": {},
   "outputs": [
    {
     "data": {
      "image/png": "[encoded data removed]",
      "text/plain": [
       "<Figure size 1800x1440 with 1 Axes>"
      ]
     },
     "metadata": {
      "needs_background": "light"
     },
     "output_type": "display_data"
    }
   ],
   "source": [
    "from sklearn.tree import plot_tree\n",
    "\n",
    "plt.figure(figsize=(25,20))\n",
    "plot_tree(model_tree, \n",
    "                   feature_names=features.columns,  \n",
    "                   class_names='is_ultra',\n",
    "                   filled=True, max_depth=3, fontsize=12)\n",
    "plt.show()"
   ]
  },
  {
   "cell_type": "markdown",
   "metadata": {},
   "source": [
    "### Случайный лес"
   ]
  },
  {
   "cell_type": "code",
   "execution_count": 13,
   "metadata": {},
   "outputs": [],
   "source": [
    "# Датафрейм в размере равном гиперпараметрам depth и n_estimators\n",
    "forest_df = pd.DataFrame(index=range(1, 11), columns=range(100, 501, 20))"
   ]
  },
  {
   "cell_type": "code",
   "execution_count": 15,
   "metadata": {},
   "outputs": [
    {
     "name": "stdout",
     "output_type": "stream",
     "text": [
      "Лучшее соотношение гиперпараметров:\n",
      "      depth - 7\n",
      "      n_estimators - 320\n",
      "      accuracy равен: 0.8055987558320373\n",
      "CPU times: user 2min 38s, sys: 1.13 s, total: 2min 39s\n",
      "Wall time: 2min 39s\n"
     ]
    }
   ],
   "source": [
    "%%time\n",
    "# С помощью цикла определим лучшие значения гиперпараметров модели\n",
    "best_depth_f = 0\n",
    "best_est_f = 0\n",
    "best_accuracy_f = 0\n",
    "best_forest = None\n",
    "for depth in range(1, 11):\n",
    "    for est in range(100, 501, 20):\n",
    "        model_forest = RandomForestClassifier(random_state=12345, max_depth=depth, n_estimators=est)\n",
    "        model_forest.fit(features_train, target_train)\n",
    "        prediction_valid_f = model_forest.predict(features_valid)\n",
    "        accuracy_forest = accuracy_score(target_valid, prediction_valid_f)\n",
    "        forest_df.loc[depth, est] = accuracy_forest\n",
    "        if accuracy_forest > best_accuracy_f:\n",
    "            best_accuracy_f = accuracy_forest\n",
    "            best_est_f = est\n",
    "            best_depth_f = depth\n",
    "            best_forest = model_forest\n",
    "print(f'''Лучшее соотношение гиперпараметров:\n",
    "      depth - {best_depth_f}\n",
    "      n_estimators - {best_est_f}\n",
    "      accuracy равен: {best_accuracy_f}''')"
   ]
  },
  {
   "cell_type": "code",
   "execution_count": 16,
   "metadata": {
    "scrolled": false
   },
   "outputs": [
    {
     "data": {
      "image/png": "[encoded data removed]",
      "text/plain": [
       "<Figure size 1080x504 with 2 Axes>"
      ]
     },
     "metadata": {
      "needs_background": "light"
     },
     "output_type": "display_data"
    }
   ],
   "source": [
    "# Перевод данных в численный формат\n",
    "forest_df = forest_df.astype('float')\n",
    "# Строим heatmap\n",
    "plt.figure(figsize=(15, 7))\n",
    "sns.heatmap(forest_df, annot = True, fmt='.3f')\n",
    "plt.xlabel('Количество деревьев n_estimators')\n",
    "plt.ylabel('Глубина дерева max_depth')\n",
    "plt.title('Результат обучения модели RandomForestClassifier')\n",
    "plt.show()"
   ]
  },
  {
   "cell_type": "markdown",
   "metadata": {},
   "source": [
    "### Логистическая регрессия"
   ]
  },
  {
   "cell_type": "code",
   "execution_count": 17,
   "metadata": {},
   "outputs": [],
   "source": [
    "logreg_df = pd.DataFrame(index=['newton-cg', 'lbfgs', 'liblinear', 'sag', 'saga'], columns=range(500, 1501, 100))"
   ]
  },
  {
   "cell_type": "code",
   "execution_count": 18,
   "metadata": {},
   "outputs": [
    {
     "name": "stdout",
     "output_type": "stream",
     "text": [
      "Лучшее соотношение гиперпараметров:\n",
      "      solver - newton-cg\n",
      "      max_iter - 500\n",
      "      accuracy равен: 0.7558320373250389\n",
      "CPU times: user 361 ms, sys: 0 ns, total: 361 ms\n",
      "Wall time: 368 ms\n"
     ]
    }
   ],
   "source": [
    "%%time\n",
    "# С помощью цикла определим лучшие значения гиперпараметров модели solver и max_iter\n",
    "best_solver = 0\n",
    "best_max_iter = 0\n",
    "best_accuracy_logreg = 0\n",
    "best_logreg = None\n",
    "for solver_lr in logreg_df.index:\n",
    "    for max_iter_lr in range(500, 1501, 100):\n",
    "        model_logreg = LogisticRegression(solver=solver_lr, max_iter=max_iter_lr)\n",
    "        model_logreg.fit(features_train, target_train)\n",
    "        prediction_valid_logreg = model_logreg.predict(features_valid)\n",
    "        accuracy_logreg = accuracy_score(target_valid, prediction_valid_logreg)\n",
    "        logreg_df.loc[solver_lr, max_iter_lr] = accuracy_logreg\n",
    "        if accuracy_logreg > best_accuracy_logreg:\n",
    "            best_accuracy_logreg = accuracy_logreg\n",
    "            best_max_iter = max_iter_lr\n",
    "            best_solver = solver_lr\n",
    "            best_logreg = model_logreg\n",
    "print(f'''Лучшее соотношение гиперпараметров:\n",
    "      solver - {best_solver}\n",
    "      max_iter - {best_max_iter}\n",
    "      accuracy равен: {best_accuracy_logreg}''')"
   ]
  },
  {
   "cell_type": "code",
   "execution_count": 19,
   "metadata": {},
   "outputs": [
    {
     "data": {
      "image/png": "[encoded data removed]",
      "text/plain": [
       "<Figure size 1080x504 with 2 Axes>"
      ]
     },
     "metadata": {
      "needs_background": "light"
     },
     "output_type": "display_data"
    }
   ],
   "source": [
    "# Перевод данных в численный формат\n",
    "logreg_df = logreg_df.astype('float')\n",
    "# Строим heatmap\n",
    "plt.figure(figsize=(15, 7))\n",
    "sns.heatmap(logreg_df, annot = True, fmt='.3f')\n",
    "plt.xlabel('Количество итераций max_iter')\n",
    "plt.ylabel('Алгоритм solver')\n",
    "plt.title('Результат обучения модели LogisticRegression')\n",
    "plt.show()"
   ]
  },
  {
   "cell_type": "markdown",
   "metadata": {},
   "source": [
    "По результатом исследования, наибольшая эффективность достигнута моделью \"Случайный лес\". При работе с тестовыми данными будем использовать эту модель."
   ]
  },
  {
   "cell_type": "markdown",
   "metadata": {},
   "source": [
    "## Проверка модели на тестовой выборке"
   ]
  },
  {
   "cell_type": "code",
   "execution_count": 20,
   "metadata": {},
   "outputs": [],
   "source": [
    "# Проверим модель на тестовых данных\n",
    "prediction_test = model_forest.predict(features_test)\n",
    "accuracy_test = accuracy_score(target_test, prediction_test)"
   ]
  },
  {
   "cell_type": "code",
   "execution_count": 21,
   "metadata": {},
   "outputs": [
    {
     "data": {
      "text/plain": [
       "0.7993779160186625"
      ]
     },
     "execution_count": 21,
     "metadata": {},
     "output_type": "execute_result"
    }
   ],
   "source": [
    "accuracy_test"
   ]
  },
  {
   "cell_type": "markdown",
   "metadata": {},
   "source": [
    "Получен удовлетворительный результат accuracy превышает значение 0.75"
   ]
  },
  {
   "cell_type": "code",
   "execution_count": 22,
   "metadata": {},
   "outputs": [],
   "source": [
    "big_train_feat = pd.concat([pd.DataFrame(features_train), pd.DataFrame(features_valid)])\n",
    "big_train_target = pd.concat([pd.DataFrame(target_train), pd.DataFrame(target_valid)])"
   ]
  },
  {
   "cell_type": "code",
   "execution_count": 23,
   "metadata": {},
   "outputs": [
    {
     "name": "stdout",
     "output_type": "stream",
     "text": [
      "При max_depth = 7\n",
      "      n_estimators = 320\n",
      "      accuracy равен: 0.7978227060653188\n"
     ]
    }
   ],
   "source": [
    "model_forest_2 = RandomForestClassifier(random_state=12345, max_depth=7, n_estimators=320)\n",
    "model_forest_2.fit(big_train_feat, big_train_target)\n",
    "prediction_valid_f_2 = model_forest_2.predict(features_test)\n",
    "accuracy_2 = accuracy_score(target_test, prediction_valid_f_2)\n",
    "        \n",
    "print(f'''При max_depth = 7\n",
    "      n_estimators = 320\n",
    "      accuracy равен: {accuracy_2}''')"
   ]
  },
  {
   "cell_type": "markdown",
   "metadata": {},
   "source": [
    "### Время взглянуть на целевую метрику"
   ]
  },
  {
   "cell_type": "code",
   "execution_count": 29,
   "metadata": {},
   "outputs": [
    {
     "name": "stdout",
     "output_type": "stream",
     "text": [
      "              precision    recall  f1-score   support\n",
      "\n",
      "       Smart       0.80      0.93      0.86       440\n",
      "       Ultra       0.77      0.51      0.61       203\n",
      "\n",
      "    accuracy                           0.80       643\n",
      "   macro avg       0.79      0.72      0.74       643\n",
      "weighted avg       0.79      0.80      0.78       643\n",
      "\n"
     ]
    }
   ],
   "source": [
    "from sklearn.metrics import classification_report\n",
    "#from sklearn.metrics import precision_recall_curve, classification_report\n",
    "\n",
    "report = classification_report(target_test, prediction_valid_f_2, target_names=['Smart', 'Ultra'])\n",
    "print(report)"
   ]
  },
  {
   "cell_type": "markdown",
   "metadata": {},
   "source": [
    "### Проверим значимость признаков"
   ]
  },
  {
   "cell_type": "code",
   "execution_count": 30,
   "metadata": {},
   "outputs": [],
   "source": [
    "# Функция визуализации значимости признаков\n",
    "def show_coef(names, coef, positive=False):\n",
    "    if positive:\n",
    "        sns.barplot(y=names,x=abs(coef), orient='h')\n",
    "    else:\n",
    "        sns.barplot(y=names,x=coef, orient='h')\n",
    "    plt.tight_layout\n",
    "    plt.xlabel('Значимость')\n",
    "    plt.ylabel('Признак')\n",
    "    plt.title('Значимость признаков в построенной модели')\n",
    "    plt.show()"
   ]
  },
  {
   "cell_type": "code",
   "execution_count": 25,
   "metadata": {},
   "outputs": [
    {
     "data": {
      "image/png": "[encoded data removed]",
      "text/plain": [
       "<Figure size 432x288 with 1 Axes>"
      ]
     },
     "metadata": {
      "needs_background": "light"
     },
     "output_type": "display_data"
    }
   ],
   "source": [
    "# Определим значимость признаков обученной модели\n",
    "show_coef(features.columns.to_list(), model_forest.feature_importances_)"
   ]
  },
  {
   "cell_type": "markdown",
   "metadata": {},
   "source": [
    "mb_used это самый влиятельный признак."
   ]
  },
  {
   "cell_type": "markdown",
   "metadata": {},
   "source": [
    "## Проверка модели на адекватность"
   ]
  },
  {
   "cell_type": "code",
   "execution_count": 31,
   "metadata": {},
   "outputs": [
    {
     "data": {
      "text/plain": [
       "0.6842923794712286"
      ]
     },
     "execution_count": 31,
     "metadata": {},
     "output_type": "execute_result"
    }
   ],
   "source": [
    "from sklearn.dummy import DummyClassifier\n",
    "\n",
    "clf = DummyClassifier(strategy='most_frequent', random_state=0)\n",
    "clf.fit(big_train_feat, big_train_target)\n",
    "DummyClassifier(random_state=12345, strategy='most_frequent')\n",
    "clf.score(features_test, target_test)\n"
   ]
  },
  {
   "cell_type": "markdown",
   "metadata": {},
   "source": [
    "Я так понял, она просто сделала это"
   ]
  },
  {
   "cell_type": "code",
   "execution_count": 43,
   "metadata": {},
   "outputs": [
    {
     "data": {
      "text/plain": [
       "0.6842923794712286"
      ]
     },
     "execution_count": 43,
     "metadata": {},
     "output_type": "execute_result"
    }
   ],
   "source": [
    "target_test[target_test == 0].count() / target_test.shape[0]"
   ]
  },
  {
   "cell_type": "markdown",
   "metadata": {},
   "source": [
    "Модель эффективнее константной модели."
   ]
  },
  {
   "cell_type": "markdown",
   "metadata": {},
   "source": [
    "## Вывод\n",
    "В ходе работы были построены и исследованы три модели, выполняющих задачи классификации для определения тарифа. Предварительно было произведено масштабирование признаков для повышения достоверности исследования. В результате, моделями были продемонстрированы следующие результаты: \n",
    "\n",
    "- Дерево решений\n",
    "      depth - 6\n",
    "      min_samples_split - 17\n",
    "      accuracy равен: 0.7869362363919129\n",
    "- Случайный лес\n",
    "      depth - 7\n",
    "      n_estimators - 320\n",
    "      accuracy равен: 0.8055987558320373\n",
    "- Логистическая регрессия\n",
    "      solver - newton-cg\n",
    "      max_iter - 500\n",
    "      accuracy равен: 0.7558320373250389\n",
    "\n",
    "Показатель random_state для всех моделей установлен одинаковый, равный 12345.\n",
    "\n",
    "Для работы с тестовой выборкой была выбрана модель \"Случайный лес\" как наиболее точная в прогнозах.\n",
    "После обработки данных модель показала удовлетворительный результат accuracy = 0.7993, что соответствует порору 0.75. "
   ]
  }
 ],
 "metadata": {
  "ExecuteTimeLog": [
   {
    "duration": 1034,
    "start_time": "2022-10-25T13:29:40.521Z"
   },
   {
    "duration": 66,
    "start_time": "2022-10-25T13:30:22.908Z"
   },
   {
    "duration": 15,
    "start_time": "2022-10-25T13:30:43.979Z"
   },
   {
    "duration": 11,
    "start_time": "2022-10-25T13:30:52.374Z"
   },
   {
    "duration": 89,
    "start_time": "2022-10-25T13:39:06.444Z"
   },
   {
    "duration": 14,
    "start_time": "2022-10-25T13:39:38.973Z"
   },
   {
    "duration": 7,
    "start_time": "2022-10-25T13:39:48.215Z"
   },
   {
    "duration": 6,
    "start_time": "2022-10-25T13:39:55.213Z"
   },
   {
    "duration": 1201,
    "start_time": "2022-10-27T07:57:25.406Z"
   },
   {
    "duration": 116,
    "start_time": "2022-10-27T07:57:26.609Z"
   },
   {
    "duration": 17,
    "start_time": "2022-10-27T07:57:26.727Z"
   },
   {
    "duration": 11,
    "start_time": "2022-10-27T07:57:26.746Z"
   },
   {
    "duration": 13,
    "start_time": "2022-10-27T07:57:26.759Z"
   },
   {
    "duration": 10,
    "start_time": "2022-10-27T07:57:26.773Z"
   },
   {
    "duration": 8,
    "start_time": "2022-10-27T07:59:10.105Z"
   },
   {
    "duration": 8,
    "start_time": "2022-10-27T07:59:53.491Z"
   },
   {
    "duration": 101,
    "start_time": "2022-10-27T08:02:16.785Z"
   },
   {
    "duration": 8,
    "start_time": "2022-10-27T08:02:49.169Z"
   },
   {
    "duration": 3,
    "start_time": "2022-10-27T08:02:50.088Z"
   },
   {
    "duration": 78,
    "start_time": "2022-10-27T08:02:50.921Z"
   },
   {
    "duration": 7,
    "start_time": "2022-10-27T08:03:03.657Z"
   },
   {
    "duration": 8,
    "start_time": "2022-10-27T08:04:21.978Z"
   },
   {
    "duration": 2,
    "start_time": "2022-10-27T08:04:25.241Z"
   },
   {
    "duration": 177,
    "start_time": "2022-10-27T08:04:25.817Z"
   },
   {
    "duration": 7,
    "start_time": "2022-10-27T08:04:30.265Z"
   },
   {
    "duration": 9,
    "start_time": "2022-10-27T08:05:36.073Z"
   },
   {
    "duration": 213,
    "start_time": "2022-10-27T08:06:43.570Z"
   },
   {
    "duration": 8,
    "start_time": "2022-10-27T08:06:49.514Z"
   },
   {
    "duration": 9,
    "start_time": "2022-10-27T08:07:07.370Z"
   },
   {
    "duration": 2,
    "start_time": "2022-10-27T08:07:07.897Z"
   },
   {
    "duration": 176,
    "start_time": "2022-10-27T08:07:08.378Z"
   },
   {
    "duration": 7,
    "start_time": "2022-10-27T08:07:09.491Z"
   },
   {
    "duration": 8,
    "start_time": "2022-10-27T08:07:11.858Z"
   },
   {
    "duration": 202,
    "start_time": "2022-10-27T08:07:13.321Z"
   },
   {
    "duration": 8,
    "start_time": "2022-10-27T08:07:16.121Z"
   },
   {
    "duration": 8,
    "start_time": "2022-10-27T08:08:27.059Z"
   },
   {
    "duration": 14,
    "start_time": "2022-10-27T08:08:28.626Z"
   },
   {
    "duration": 3,
    "start_time": "2022-10-27T08:12:13.556Z"
   },
   {
    "duration": 11,
    "start_time": "2022-10-27T08:12:14.406Z"
   },
   {
    "duration": 18,
    "start_time": "2022-10-27T08:12:18.963Z"
   },
   {
    "duration": 2,
    "start_time": "2022-10-27T08:12:20.779Z"
   },
   {
    "duration": 548,
    "start_time": "2022-10-27T08:12:21.147Z"
   },
   {
    "duration": 11,
    "start_time": "2022-10-27T08:12:24.533Z"
   },
   {
    "duration": 535,
    "start_time": "2022-10-27T08:35:54.880Z"
   },
   {
    "duration": 10,
    "start_time": "2022-10-27T08:35:56.664Z"
   },
   {
    "duration": 8,
    "start_time": "2022-10-27T08:37:29.776Z"
   },
   {
    "duration": 12,
    "start_time": "2022-10-27T08:37:34.888Z"
   },
   {
    "duration": 2,
    "start_time": "2022-10-27T08:37:37.193Z"
   },
   {
    "duration": 15,
    "start_time": "2022-10-27T08:37:48.433Z"
   },
   {
    "duration": 3,
    "start_time": "2022-10-27T08:37:50.247Z"
   },
   {
    "duration": 682,
    "start_time": "2022-10-27T08:38:17.832Z"
   },
   {
    "duration": 12,
    "start_time": "2022-10-27T08:38:20.336Z"
   },
   {
    "duration": 11,
    "start_time": "2022-10-27T08:40:15.945Z"
   },
   {
    "duration": 556,
    "start_time": "2022-10-27T08:42:15.929Z"
   },
   {
    "duration": 9,
    "start_time": "2022-10-27T08:42:51.945Z"
   },
   {
    "duration": 671,
    "start_time": "2022-10-27T08:42:57.961Z"
   },
   {
    "duration": 11,
    "start_time": "2022-10-27T08:42:59.256Z"
   },
   {
    "duration": 6,
    "start_time": "2022-10-27T08:43:47.361Z"
   },
   {
    "duration": 5,
    "start_time": "2022-10-27T08:44:06.017Z"
   },
   {
    "duration": 11,
    "start_time": "2022-10-27T08:44:43.401Z"
   },
   {
    "duration": 78,
    "start_time": "2022-10-27T08:46:20.474Z"
   },
   {
    "duration": 431,
    "start_time": "2022-10-27T08:46:28.481Z"
   },
   {
    "duration": 312,
    "start_time": "2022-10-27T08:46:49.042Z"
   },
   {
    "duration": 11,
    "start_time": "2022-10-27T08:47:02.666Z"
   },
   {
    "duration": 96,
    "start_time": "2022-10-27T08:47:37.026Z"
   },
   {
    "duration": 312,
    "start_time": "2022-10-27T08:49:02.051Z"
   },
   {
    "duration": 146,
    "start_time": "2022-10-27T08:49:56.240Z"
   },
   {
    "duration": 335,
    "start_time": "2022-10-27T08:52:45.763Z"
   },
   {
    "duration": 386,
    "start_time": "2022-10-27T08:52:53.427Z"
   },
   {
    "duration": 12,
    "start_time": "2022-10-27T08:55:11.654Z"
   },
   {
    "duration": 10,
    "start_time": "2022-10-27T08:59:57.404Z"
   },
   {
    "duration": 13,
    "start_time": "2022-10-27T09:01:06.085Z"
   },
   {
    "duration": 20,
    "start_time": "2022-10-27T09:01:10.917Z"
   },
   {
    "duration": 13,
    "start_time": "2022-10-27T09:01:23.693Z"
   },
   {
    "duration": 316,
    "start_time": "2022-10-27T09:01:42.756Z"
   },
   {
    "duration": 26,
    "start_time": "2022-10-27T09:04:51.269Z"
   },
   {
    "duration": 2,
    "start_time": "2022-10-27T09:04:54.429Z"
   },
   {
    "duration": 5216,
    "start_time": "2022-10-27T09:04:55.508Z"
   },
   {
    "duration": 5185,
    "start_time": "2022-10-27T09:05:05.062Z"
   },
   {
    "duration": 22,
    "start_time": "2022-10-27T09:05:10.249Z"
   },
   {
    "duration": 404,
    "start_time": "2022-10-27T09:05:11.973Z"
   },
   {
    "duration": 6,
    "start_time": "2022-10-27T09:05:33.181Z"
   },
   {
    "duration": 12,
    "start_time": "2022-10-27T09:06:11.173Z"
   },
   {
    "duration": 7,
    "start_time": "2022-10-27T09:06:18.606Z"
   },
   {
    "duration": 17,
    "start_time": "2022-10-27T09:18:08.417Z"
   },
   {
    "duration": 14,
    "start_time": "2022-10-27T09:18:20.912Z"
   },
   {
    "duration": 18,
    "start_time": "2022-10-27T09:18:36.600Z"
   },
   {
    "duration": 2,
    "start_time": "2022-10-27T09:18:43.440Z"
   },
   {
    "duration": 1184,
    "start_time": "2022-10-27T09:18:45.360Z"
   },
   {
    "duration": 15,
    "start_time": "2022-10-27T09:18:48.865Z"
   },
   {
    "duration": 353,
    "start_time": "2022-10-27T09:18:53.784Z"
   },
   {
    "duration": 8,
    "start_time": "2022-10-27T09:18:59.272Z"
   },
   {
    "duration": 14,
    "start_time": "2022-10-27T09:19:53.280Z"
   },
   {
    "duration": 3,
    "start_time": "2022-10-27T09:19:54.919Z"
   },
   {
    "duration": 725,
    "start_time": "2022-10-27T09:19:55.625Z"
   },
   {
    "duration": 12,
    "start_time": "2022-10-27T09:19:57.345Z"
   },
   {
    "duration": 345,
    "start_time": "2022-10-27T09:19:59.103Z"
   },
   {
    "duration": 7,
    "start_time": "2022-10-27T09:20:02.134Z"
   },
   {
    "duration": 25,
    "start_time": "2022-10-27T09:20:21.728Z"
   },
   {
    "duration": 2,
    "start_time": "2022-10-27T09:20:22.591Z"
   },
   {
    "duration": 947,
    "start_time": "2022-10-27T09:20:24.217Z"
   },
   {
    "duration": 15,
    "start_time": "2022-10-27T09:20:25.904Z"
   },
   {
    "duration": 343,
    "start_time": "2022-10-27T09:20:27.335Z"
   },
   {
    "duration": 7,
    "start_time": "2022-10-27T09:20:34.472Z"
   },
   {
    "duration": 16,
    "start_time": "2022-10-27T09:37:25.492Z"
   },
   {
    "duration": 5,
    "start_time": "2022-10-27T09:37:31.219Z"
   },
   {
    "duration": 3,
    "start_time": "2022-10-27T09:37:34.194Z"
   },
   {
    "duration": 955,
    "start_time": "2022-10-27T09:37:34.746Z"
   },
   {
    "duration": 18,
    "start_time": "2022-10-27T09:37:37.905Z"
   },
   {
    "duration": 354,
    "start_time": "2022-10-27T09:37:41.956Z"
   },
   {
    "duration": 1260,
    "start_time": "2022-10-27T09:38:25.835Z"
   },
   {
    "duration": 35,
    "start_time": "2022-10-27T09:40:07.652Z"
   },
   {
    "duration": 1143,
    "start_time": "2022-10-27T11:19:26.594Z"
   },
   {
    "duration": 1232,
    "start_time": "2022-10-27T11:19:35.963Z"
   },
   {
    "duration": 13,
    "start_time": "2022-10-27T11:22:39.563Z"
   },
   {
    "duration": 1214,
    "start_time": "2022-10-27T11:22:45.312Z"
   },
   {
    "duration": 10,
    "start_time": "2022-10-27T11:23:19.578Z"
   },
   {
    "duration": 1177,
    "start_time": "2022-10-27T11:24:02.234Z"
   },
   {
    "duration": 1193,
    "start_time": "2022-10-27T11:24:15.732Z"
   },
   {
    "duration": 1106,
    "start_time": "2022-10-27T11:24:30.627Z"
   },
   {
    "duration": 1066,
    "start_time": "2022-10-27T11:25:39.538Z"
   },
   {
    "duration": 1168,
    "start_time": "2022-10-27T11:25:50.834Z"
   },
   {
    "duration": 1135,
    "start_time": "2022-10-27T11:28:18.596Z"
   },
   {
    "duration": 12,
    "start_time": "2022-10-27T11:28:42.835Z"
   },
   {
    "duration": 17,
    "start_time": "2022-10-27T11:28:54.178Z"
   },
   {
    "duration": 1197,
    "start_time": "2022-10-27T11:32:29.578Z"
   },
   {
    "duration": 1221,
    "start_time": "2022-10-27T11:32:41.011Z"
   },
   {
    "duration": 1018,
    "start_time": "2022-10-27T11:46:21.982Z"
   },
   {
    "duration": 4,
    "start_time": "2022-10-27T11:47:12.047Z"
   },
   {
    "duration": 36,
    "start_time": "2022-10-27T11:47:13.918Z"
   },
   {
    "duration": 13,
    "start_time": "2022-10-27T11:47:14.213Z"
   },
   {
    "duration": 14,
    "start_time": "2022-10-27T11:47:14.685Z"
   },
   {
    "duration": 11,
    "start_time": "2022-10-27T11:47:16.301Z"
   },
   {
    "duration": 3,
    "start_time": "2022-10-27T11:47:17.709Z"
   },
   {
    "duration": 5,
    "start_time": "2022-10-27T11:47:19.150Z"
   },
   {
    "duration": 1017,
    "start_time": "2022-10-27T11:47:20.653Z"
   },
   {
    "duration": 1351,
    "start_time": "2022-10-27T11:57:18.645Z"
   },
   {
    "duration": 1227,
    "start_time": "2022-10-27T11:57:27.957Z"
   },
   {
    "duration": 1196,
    "start_time": "2022-10-27T11:57:39.950Z"
   },
   {
    "duration": 1274,
    "start_time": "2022-10-27T12:00:00.460Z"
   },
   {
    "duration": 1286,
    "start_time": "2022-10-27T12:00:11.153Z"
   },
   {
    "duration": 1421,
    "start_time": "2022-10-27T12:00:27.775Z"
   },
   {
    "duration": 5,
    "start_time": "2022-10-27T12:16:22.385Z"
   },
   {
    "duration": 1444,
    "start_time": "2022-10-27T12:16:23.209Z"
   },
   {
    "duration": 1657,
    "start_time": "2022-10-27T12:16:28.513Z"
   },
   {
    "duration": 5,
    "start_time": "2022-10-27T12:17:16.817Z"
   },
   {
    "duration": 970,
    "start_time": "2022-10-27T12:17:17.313Z"
   },
   {
    "duration": 1212,
    "start_time": "2022-10-27T12:17:20.576Z"
   },
   {
    "duration": 6,
    "start_time": "2022-10-27T12:58:03.065Z"
   },
   {
    "duration": 1023,
    "start_time": "2022-10-27T12:58:04.415Z"
   },
   {
    "duration": 1491,
    "start_time": "2022-10-27T12:58:07.295Z"
   },
   {
    "duration": 4,
    "start_time": "2022-10-27T13:02:33.161Z"
   },
   {
    "duration": 13,
    "start_time": "2022-10-27T13:02:41.185Z"
   },
   {
    "duration": 11,
    "start_time": "2022-10-27T13:03:12.706Z"
   },
   {
    "duration": 12,
    "start_time": "2022-10-27T13:03:21.354Z"
   },
   {
    "duration": 20500,
    "start_time": "2022-10-27T13:13:24.778Z"
   },
   {
    "duration": 4,
    "start_time": "2022-10-27T13:14:16.260Z"
   },
   {
    "duration": 20618,
    "start_time": "2022-10-27T13:14:59.627Z"
   },
   {
    "duration": 951,
    "start_time": "2022-10-27T13:16:09.907Z"
   },
   {
    "duration": 4,
    "start_time": "2022-10-27T13:21:09.100Z"
   },
   {
    "duration": 14,
    "start_time": "2022-10-27T13:21:14.315Z"
   },
   {
    "duration": 45089,
    "start_time": "2022-10-27T13:22:31.916Z"
   },
   {
    "duration": 910,
    "start_time": "2022-10-27T13:23:41.980Z"
   },
   {
    "duration": 285570,
    "start_time": "2022-10-27T13:24:56.933Z"
   },
   {
    "duration": 19,
    "start_time": "2022-10-27T13:29:42.505Z"
   },
   {
    "duration": 18,
    "start_time": "2022-10-27T13:33:55.535Z"
   },
   {
    "duration": 22,
    "start_time": "2022-10-27T13:34:06.583Z"
   },
   {
    "duration": 148902,
    "start_time": "2022-10-27T13:34:35.334Z"
   },
   {
    "duration": 1431,
    "start_time": "2022-10-27T13:37:29.454Z"
   },
   {
    "duration": 1482,
    "start_time": "2022-10-27T13:37:43.198Z"
   },
   {
    "duration": 17498,
    "start_time": "2022-10-27T13:44:12.048Z"
   },
   {
    "duration": 5,
    "start_time": "2022-10-27T13:45:35.746Z"
   },
   {
    "duration": 154470,
    "start_time": "2022-10-27T13:45:43.176Z"
   },
   {
    "duration": 1456,
    "start_time": "2022-10-27T13:48:26.897Z"
   },
   {
    "duration": 1539,
    "start_time": "2022-10-29T20:15:10.566Z"
   },
   {
    "duration": 128,
    "start_time": "2022-10-29T20:15:12.107Z"
   },
   {
    "duration": 13,
    "start_time": "2022-10-29T20:15:12.236Z"
   },
   {
    "duration": 26,
    "start_time": "2022-10-29T20:15:12.250Z"
   },
   {
    "duration": 18,
    "start_time": "2022-10-29T20:15:12.278Z"
   },
   {
    "duration": 19,
    "start_time": "2022-10-29T20:15:12.298Z"
   },
   {
    "duration": 27,
    "start_time": "2022-10-29T20:15:12.318Z"
   },
   {
    "duration": 918,
    "start_time": "2022-10-29T20:15:12.346Z"
   },
   {
    "duration": 1292,
    "start_time": "2022-10-29T20:15:13.265Z"
   },
   {
    "duration": 6,
    "start_time": "2022-10-29T20:15:14.560Z"
   },
   {
    "duration": 144117,
    "start_time": "2022-10-29T20:15:14.567Z"
   },
   {
    "duration": 1345,
    "start_time": "2022-10-29T20:17:52.481Z"
   },
   {
    "duration": 12,
    "start_time": "2022-10-29T20:22:41.233Z"
   },
   {
    "duration": 3978,
    "start_time": "2022-10-29T20:28:50.636Z"
   },
   {
    "duration": 11,
    "start_time": "2022-10-29T20:29:33.865Z"
   },
   {
    "duration": 4380,
    "start_time": "2022-10-29T20:31:29.863Z"
   },
   {
    "duration": 256,
    "start_time": "2022-10-29T20:36:23.370Z"
   },
   {
    "duration": 173,
    "start_time": "2022-10-29T20:36:37.162Z"
   },
   {
    "duration": 3879,
    "start_time": "2022-10-29T20:37:52.423Z"
   },
   {
    "duration": 13,
    "start_time": "2022-10-29T20:38:06.961Z"
   },
   {
    "duration": 5,
    "start_time": "2022-10-29T20:41:24.499Z"
   },
   {
    "duration": 5,
    "start_time": "2022-10-29T20:41:44.880Z"
   },
   {
    "duration": 9,
    "start_time": "2022-10-29T20:42:05.980Z"
   },
   {
    "duration": 1056,
    "start_time": "2022-10-29T20:47:34.364Z"
   },
   {
    "duration": 11,
    "start_time": "2022-10-29T20:47:48.297Z"
   },
   {
    "duration": 11,
    "start_time": "2022-10-29T20:47:51.652Z"
   },
   {
    "duration": 176,
    "start_time": "2022-10-29T20:48:13.749Z"
   },
   {
    "duration": 11,
    "start_time": "2022-10-29T20:48:17.257Z"
   },
   {
    "duration": 11,
    "start_time": "2022-10-29T20:48:19.270Z"
   },
   {
    "duration": 12,
    "start_time": "2022-10-29T20:48:21.544Z"
   },
   {
    "duration": 193,
    "start_time": "2022-10-29T20:48:24.754Z"
   },
   {
    "duration": 10,
    "start_time": "2022-10-29T20:48:25.931Z"
   },
   {
    "duration": 1553,
    "start_time": "2022-10-29T20:51:28.705Z"
   },
   {
    "duration": 13,
    "start_time": "2022-10-29T20:51:37.828Z"
   },
   {
    "duration": 73,
    "start_time": "2022-10-29T20:51:57.953Z"
   },
   {
    "duration": 10,
    "start_time": "2022-10-29T20:52:00.280Z"
   },
   {
    "duration": 13,
    "start_time": "2022-10-29T20:52:23.352Z"
   },
   {
    "duration": 86,
    "start_time": "2022-10-29T20:52:26.728Z"
   },
   {
    "duration": 12,
    "start_time": "2022-10-29T20:52:31.005Z"
   },
   {
    "duration": 1791,
    "start_time": "2022-10-29T20:52:46.728Z"
   },
   {
    "duration": 16,
    "start_time": "2022-10-29T20:52:52.562Z"
   },
   {
    "duration": 2053,
    "start_time": "2022-10-29T20:53:19.881Z"
   },
   {
    "duration": 10,
    "start_time": "2022-10-29T20:53:24.352Z"
   },
   {
    "duration": 11,
    "start_time": "2022-10-29T20:54:35.688Z"
   },
   {
    "duration": 5831,
    "start_time": "2022-10-29T21:16:33.448Z"
   },
   {
    "duration": 11,
    "start_time": "2022-10-29T21:16:44.653Z"
   },
   {
    "duration": 574,
    "start_time": "2022-10-29T21:17:45.624Z"
   },
   {
    "duration": 1581,
    "start_time": "2022-10-30T08:49:40.689Z"
   },
   {
    "duration": 152,
    "start_time": "2022-10-30T08:49:42.273Z"
   },
   {
    "duration": 15,
    "start_time": "2022-10-30T08:49:42.426Z"
   },
   {
    "duration": 11,
    "start_time": "2022-10-30T08:49:42.442Z"
   },
   {
    "duration": 30,
    "start_time": "2022-10-30T08:49:42.456Z"
   },
   {
    "duration": 4,
    "start_time": "2022-10-30T08:49:42.488Z"
   },
   {
    "duration": 7,
    "start_time": "2022-10-30T08:49:42.494Z"
   },
   {
    "duration": 1138,
    "start_time": "2022-10-30T08:49:42.503Z"
   },
   {
    "duration": 1222,
    "start_time": "2022-10-30T08:49:43.643Z"
   },
   {
    "duration": 4,
    "start_time": "2022-10-30T08:49:44.867Z"
   },
   {
    "duration": 154194,
    "start_time": "2022-10-30T08:49:44.873Z"
   },
   {
    "duration": 1278,
    "start_time": "2022-10-30T08:52:19.069Z"
   },
   {
    "duration": 5,
    "start_time": "2022-10-30T08:52:20.349Z"
   },
   {
    "duration": 5633,
    "start_time": "2022-10-30T08:52:20.356Z"
   },
   {
    "duration": 596,
    "start_time": "2022-10-30T08:52:25.990Z"
   },
   {
    "duration": 151853,
    "start_time": "2022-10-30T08:52:34.352Z"
   },
   {
    "duration": 1286,
    "start_time": "2022-10-30T08:55:06.208Z"
   },
   {
    "duration": 5,
    "start_time": "2022-10-30T08:55:07.495Z"
   },
   {
    "duration": 5619,
    "start_time": "2022-10-30T08:55:07.502Z"
   },
   {
    "duration": 576,
    "start_time": "2022-10-30T08:55:13.122Z"
   },
   {
    "duration": 69,
    "start_time": "2022-10-30T08:55:23.482Z"
   },
   {
    "duration": 4,
    "start_time": "2022-10-30T08:55:25.673Z"
   },
   {
    "duration": 4,
    "start_time": "2022-11-02T10:23:18.870Z"
   },
   {
    "duration": 28,
    "start_time": "2022-11-02T10:23:19.556Z"
   },
   {
    "duration": 11,
    "start_time": "2022-11-02T10:23:19.804Z"
   },
   {
    "duration": 12,
    "start_time": "2022-11-02T10:23:20.541Z"
   },
   {
    "duration": 11,
    "start_time": "2022-11-02T10:23:21.997Z"
   },
   {
    "duration": 657,
    "start_time": "2022-11-02T10:23:23.212Z"
   },
   {
    "duration": 3,
    "start_time": "2022-11-02T10:23:26.652Z"
   },
   {
    "duration": 5,
    "start_time": "2022-11-02T10:23:27.796Z"
   },
   {
    "duration": 1139,
    "start_time": "2022-11-02T10:23:28.405Z"
   },
   {
    "duration": 2838,
    "start_time": "2022-11-02T10:23:36.828Z"
   },
   {
    "duration": 13,
    "start_time": "2022-11-02T10:25:39.051Z"
   },
   {
    "duration": 25,
    "start_time": "2022-11-02T10:25:42.349Z"
   },
   {
    "duration": 9,
    "start_time": "2022-11-02T10:26:01.549Z"
   },
   {
    "duration": 697,
    "start_time": "2022-11-02T10:26:02.718Z"
   },
   {
    "duration": 672,
    "start_time": "2022-11-02T12:01:05.593Z"
   },
   {
    "duration": 2,
    "start_time": "2022-11-02T12:01:08.838Z"
   },
   {
    "duration": 5,
    "start_time": "2022-11-02T12:05:10.784Z"
   },
   {
    "duration": 47,
    "start_time": "2022-11-02T12:05:10.791Z"
   },
   {
    "duration": 11,
    "start_time": "2022-11-02T12:05:10.840Z"
   },
   {
    "duration": 27,
    "start_time": "2022-11-02T12:05:10.853Z"
   },
   {
    "duration": 30,
    "start_time": "2022-11-02T12:05:10.882Z"
   },
   {
    "duration": 8,
    "start_time": "2022-11-02T12:05:10.914Z"
   },
   {
    "duration": 671,
    "start_time": "2022-11-02T12:05:10.924Z"
   },
   {
    "duration": 3,
    "start_time": "2022-11-02T12:05:11.596Z"
   },
   {
    "duration": 10,
    "start_time": "2022-11-02T12:05:17.519Z"
   },
   {
    "duration": 10,
    "start_time": "2022-11-02T12:05:26.188Z"
   },
   {
    "duration": 6,
    "start_time": "2022-11-02T12:05:33.324Z"
   },
   {
    "duration": 8,
    "start_time": "2022-11-02T12:06:10.245Z"
   },
   {
    "duration": 6,
    "start_time": "2022-11-02T12:06:11.692Z"
   },
   {
    "duration": 5,
    "start_time": "2022-11-02T12:06:22.744Z"
   },
   {
    "duration": 35,
    "start_time": "2022-11-02T12:06:22.752Z"
   },
   {
    "duration": 27,
    "start_time": "2022-11-02T12:06:22.789Z"
   },
   {
    "duration": 34,
    "start_time": "2022-11-02T12:06:22.818Z"
   },
   {
    "duration": 40,
    "start_time": "2022-11-02T12:06:22.855Z"
   },
   {
    "duration": 9,
    "start_time": "2022-11-02T12:06:22.897Z"
   },
   {
    "duration": 683,
    "start_time": "2022-11-02T12:06:22.908Z"
   },
   {
    "duration": 3,
    "start_time": "2022-11-02T12:06:23.593Z"
   },
   {
    "duration": 10,
    "start_time": "2022-11-02T12:06:33.115Z"
   },
   {
    "duration": 5,
    "start_time": "2022-11-02T12:06:33.772Z"
   },
   {
    "duration": 5,
    "start_time": "2022-11-02T12:06:51.099Z"
   },
   {
    "duration": 749,
    "start_time": "2022-11-02T12:06:52.834Z"
   },
   {
    "duration": 2574,
    "start_time": "2022-11-02T12:07:04.402Z"
   },
   {
    "duration": 6,
    "start_time": "2022-11-02T12:07:19.899Z"
   },
   {
    "duration": 160260,
    "start_time": "2022-11-02T12:07:22.204Z"
   },
   {
    "duration": 2843,
    "start_time": "2022-11-02T12:10:57.639Z"
   },
   {
    "duration": 5,
    "start_time": "2022-11-02T12:11:24.349Z"
   },
   {
    "duration": 393,
    "start_time": "2022-11-02T12:11:25.837Z"
   },
   {
    "duration": 1973,
    "start_time": "2022-11-02T12:11:30.486Z"
   },
   {
    "duration": 353,
    "start_time": "2022-11-02T12:15:37.878Z"
   },
   {
    "duration": 1962,
    "start_time": "2022-11-02T12:15:40.915Z"
   },
   {
    "duration": 204,
    "start_time": "2022-11-02T12:17:18.375Z"
   },
   {
    "duration": 355,
    "start_time": "2022-11-02T12:17:58.457Z"
   },
   {
    "duration": 1918,
    "start_time": "2022-11-02T12:17:59.507Z"
   },
   {
    "duration": 94,
    "start_time": "2022-11-02T12:19:11.303Z"
   },
   {
    "duration": 4,
    "start_time": "2022-11-02T12:19:12.273Z"
   },
   {
    "duration": 78,
    "start_time": "2022-11-02T12:20:17.415Z"
   },
   {
    "duration": 4888,
    "start_time": "2022-11-02T12:20:58.839Z"
   },
   {
    "duration": 4546,
    "start_time": "2022-11-02T12:21:32.126Z"
   },
   {
    "duration": 44,
    "start_time": "2022-11-02T12:44:39.019Z"
   },
   {
    "duration": 9,
    "start_time": "2022-11-02T12:44:41.300Z"
   },
   {
    "duration": 55,
    "start_time": "2022-11-02T12:44:44.211Z"
   },
   {
    "duration": 12,
    "start_time": "2022-11-02T12:45:29.986Z"
   },
   {
    "duration": 446,
    "start_time": "2022-11-02T12:46:52.716Z"
   },
   {
    "duration": 4,
    "start_time": "2022-11-02T13:00:48.661Z"
   },
   {
    "duration": 70,
    "start_time": "2022-11-02T13:00:55.333Z"
   },
   {
    "duration": 4,
    "start_time": "2022-11-02T13:01:06.541Z"
   },
   {
    "duration": 371,
    "start_time": "2022-11-02T13:01:07.341Z"
   },
   {
    "duration": 70,
    "start_time": "2022-11-02T13:03:46.583Z"
   },
   {
    "duration": 78,
    "start_time": "2022-11-02T13:04:45.438Z"
   },
   {
    "duration": 93,
    "start_time": "2022-11-02T13:06:30.599Z"
   },
   {
    "duration": 11,
    "start_time": "2022-11-02T13:06:35.557Z"
   },
   {
    "duration": 14,
    "start_time": "2022-11-02T13:06:39.829Z"
   },
   {
    "duration": 12,
    "start_time": "2022-11-02T13:06:42.349Z"
   },
   {
    "duration": 34,
    "start_time": "2022-11-02T13:06:57.893Z"
   },
   {
    "duration": 13,
    "start_time": "2022-11-02T13:07:07.941Z"
   },
   {
    "duration": 11,
    "start_time": "2022-11-02T13:07:14.486Z"
   },
   {
    "duration": 6,
    "start_time": "2022-11-02T13:07:25.798Z"
   },
   {
    "duration": 14,
    "start_time": "2022-11-02T13:07:40.175Z"
   },
   {
    "duration": 10,
    "start_time": "2022-11-02T13:07:43.110Z"
   },
   {
    "duration": 10,
    "start_time": "2022-11-02T13:08:36.093Z"
   },
   {
    "duration": 4,
    "start_time": "2022-11-02T13:08:59.590Z"
   },
   {
    "duration": 11,
    "start_time": "2022-11-02T13:10:03.110Z"
   },
   {
    "duration": 156,
    "start_time": "2022-11-02T13:11:05.279Z"
   },
   {
    "duration": 256,
    "start_time": "2022-11-02T13:16:54.538Z"
   },
   {
    "duration": 4,
    "start_time": "2022-11-02T13:17:19.200Z"
   },
   {
    "duration": 4,
    "start_time": "2022-11-02T13:17:19.583Z"
   },
   {
    "duration": 170,
    "start_time": "2022-11-02T13:17:21.027Z"
   },
   {
    "duration": 4,
    "start_time": "2022-11-02T13:18:17.776Z"
   },
   {
    "duration": 4,
    "start_time": "2022-11-02T13:18:18.183Z"
   },
   {
    "duration": 159,
    "start_time": "2022-11-02T13:18:18.593Z"
   },
   {
    "duration": 1958,
    "start_time": "2022-11-02T13:35:19.630Z"
   },
   {
    "duration": 2060,
    "start_time": "2022-11-02T13:35:42.357Z"
   },
   {
    "duration": 2829,
    "start_time": "2022-11-02T13:36:11.169Z"
   },
   {
    "duration": 1982,
    "start_time": "2022-11-02T14:10:23.679Z"
   },
   {
    "duration": 29,
    "start_time": "2022-11-02T14:10:25.663Z"
   },
   {
    "duration": 13,
    "start_time": "2022-11-02T14:10:25.694Z"
   },
   {
    "duration": 14,
    "start_time": "2022-11-02T14:10:25.709Z"
   },
   {
    "duration": 30,
    "start_time": "2022-11-02T14:10:25.724Z"
   },
   {
    "duration": 8,
    "start_time": "2022-11-02T14:10:25.756Z"
   },
   {
    "duration": 359,
    "start_time": "2022-11-02T14:10:25.765Z"
   },
   {
    "duration": 10,
    "start_time": "2022-11-02T14:10:26.125Z"
   },
   {
    "duration": 4,
    "start_time": "2022-11-02T14:10:26.136Z"
   },
   {
    "duration": 626,
    "start_time": "2022-11-02T14:10:26.142Z"
   },
   {
    "duration": 1180,
    "start_time": "2022-11-02T14:10:26.770Z"
   },
   {
    "duration": 4,
    "start_time": "2022-11-02T14:10:27.952Z"
   },
   {
    "duration": 136630,
    "start_time": "2022-11-02T14:10:27.957Z"
   },
   {
    "duration": 1328,
    "start_time": "2022-11-02T14:12:44.589Z"
   },
   {
    "duration": 5,
    "start_time": "2022-11-02T14:12:45.918Z"
   },
   {
    "duration": 302,
    "start_time": "2022-11-02T14:12:45.924Z"
   },
   {
    "duration": 591,
    "start_time": "2022-11-02T14:12:46.228Z"
   },
   {
    "duration": 79,
    "start_time": "2022-11-02T14:12:46.821Z"
   },
   {
    "duration": 4,
    "start_time": "2022-11-02T14:12:46.901Z"
   },
   {
    "duration": 17,
    "start_time": "2022-11-02T14:12:46.906Z"
   },
   {
    "duration": 151,
    "start_time": "2022-11-02T14:12:46.924Z"
   },
   {
    "duration": 1713,
    "start_time": "2022-11-07T11:18:14.273Z"
   },
   {
    "duration": 83,
    "start_time": "2022-11-07T11:18:15.989Z"
   },
   {
    "duration": 15,
    "start_time": "2022-11-07T11:18:16.074Z"
   },
   {
    "duration": 13,
    "start_time": "2022-11-07T11:18:16.091Z"
   },
   {
    "duration": 27,
    "start_time": "2022-11-07T11:18:16.106Z"
   },
   {
    "duration": 8,
    "start_time": "2022-11-07T11:18:16.134Z"
   },
   {
    "duration": 408,
    "start_time": "2022-11-07T11:18:16.144Z"
   },
   {
    "duration": 14,
    "start_time": "2022-11-07T11:18:16.555Z"
   },
   {
    "duration": 20,
    "start_time": "2022-11-07T11:18:16.572Z"
   },
   {
    "duration": 742,
    "start_time": "2022-11-07T11:18:16.595Z"
   },
   {
    "duration": 1354,
    "start_time": "2022-11-07T11:18:17.339Z"
   },
   {
    "duration": 5,
    "start_time": "2022-11-07T11:18:18.694Z"
   },
   {
    "duration": 147338,
    "start_time": "2022-11-07T11:18:18.702Z"
   },
   {
    "duration": 0,
    "start_time": "2022-11-07T11:20:46.042Z"
   },
   {
    "duration": 0,
    "start_time": "2022-11-07T11:20:46.044Z"
   },
   {
    "duration": 0,
    "start_time": "2022-11-07T11:20:46.046Z"
   },
   {
    "duration": 0,
    "start_time": "2022-11-07T11:20:46.047Z"
   },
   {
    "duration": 0,
    "start_time": "2022-11-07T11:20:46.049Z"
   },
   {
    "duration": 0,
    "start_time": "2022-11-07T11:20:46.050Z"
   },
   {
    "duration": 0,
    "start_time": "2022-11-07T11:20:46.052Z"
   },
   {
    "duration": 0,
    "start_time": "2022-11-07T11:20:46.053Z"
   },
   {
    "duration": 715,
    "start_time": "2022-11-07T11:22:00.041Z"
   },
   {
    "duration": 1254,
    "start_time": "2022-11-07T11:22:04.128Z"
   },
   {
    "duration": 5,
    "start_time": "2022-11-07T11:22:10.655Z"
   },
   {
    "duration": 17355,
    "start_time": "2022-11-07T11:22:34.665Z"
   },
   {
    "duration": 1433,
    "start_time": "2022-11-08T10:11:05.117Z"
   },
   {
    "duration": 124,
    "start_time": "2022-11-08T10:11:06.552Z"
   },
   {
    "duration": 15,
    "start_time": "2022-11-08T10:11:06.677Z"
   },
   {
    "duration": 12,
    "start_time": "2022-11-08T10:11:06.694Z"
   },
   {
    "duration": 24,
    "start_time": "2022-11-08T10:11:06.708Z"
   },
   {
    "duration": 8,
    "start_time": "2022-11-08T10:11:06.734Z"
   },
   {
    "duration": 347,
    "start_time": "2022-11-08T10:11:06.743Z"
   },
   {
    "duration": 9,
    "start_time": "2022-11-08T10:11:07.092Z"
   },
   {
    "duration": 6,
    "start_time": "2022-11-08T10:11:07.103Z"
   },
   {
    "duration": 4,
    "start_time": "2022-11-08T10:11:09.454Z"
   },
   {
    "duration": 611,
    "start_time": "2022-11-08T10:11:11.286Z"
   },
   {
    "duration": 1257,
    "start_time": "2022-11-08T10:11:13.982Z"
   },
   {
    "duration": 1118,
    "start_time": "2022-11-08T10:14:34.104Z"
   },
   {
    "duration": 1368,
    "start_time": "2022-11-08T10:16:54.905Z"
   },
   {
    "duration": 1194,
    "start_time": "2022-11-08T10:17:12.368Z"
   },
   {
    "duration": 1114,
    "start_time": "2022-11-08T10:18:04.185Z"
   },
   {
    "duration": 1158,
    "start_time": "2022-11-08T10:18:19.489Z"
   },
   {
    "duration": 1182,
    "start_time": "2022-11-08T10:18:25.193Z"
   },
   {
    "duration": 1100,
    "start_time": "2022-11-08T10:18:31.018Z"
   },
   {
    "duration": 705,
    "start_time": "2022-11-08T10:18:39.049Z"
   },
   {
    "duration": 4,
    "start_time": "2022-11-08T10:23:49.346Z"
   },
   {
    "duration": 4,
    "start_time": "2022-11-08T10:23:54.234Z"
   },
   {
    "duration": 6,
    "start_time": "2022-11-08T10:23:59.281Z"
   },
   {
    "duration": 81,
    "start_time": "2022-11-08T10:26:00.475Z"
   },
   {
    "duration": 88,
    "start_time": "2022-11-08T10:26:05.650Z"
   },
   {
    "duration": 147,
    "start_time": "2022-11-08T10:26:36.282Z"
   },
   {
    "duration": 43,
    "start_time": "2022-11-08T10:26:48.442Z"
   },
   {
    "duration": 45,
    "start_time": "2022-11-08T10:26:55.666Z"
   },
   {
    "duration": 11,
    "start_time": "2022-11-08T11:36:22.190Z"
   },
   {
    "duration": 11,
    "start_time": "2022-11-08T11:36:34.830Z"
   },
   {
    "duration": 4,
    "start_time": "2022-11-08T11:38:46.269Z"
   },
   {
    "duration": 9,
    "start_time": "2022-11-08T11:39:05.533Z"
   },
   {
    "duration": 13,
    "start_time": "2022-11-08T13:05:47.079Z"
   },
   {
    "duration": 12,
    "start_time": "2022-11-08T13:06:26.136Z"
   },
   {
    "duration": 12,
    "start_time": "2022-11-08T13:06:34.374Z"
   },
   {
    "duration": 202,
    "start_time": "2022-11-08T13:06:45.798Z"
   },
   {
    "duration": 5,
    "start_time": "2022-11-08T13:07:06.670Z"
   },
   {
    "duration": 192,
    "start_time": "2022-11-08T13:07:53.137Z"
   },
   {
    "duration": 4880,
    "start_time": "2022-11-08T13:08:14.089Z"
   },
   {
    "duration": 1518,
    "start_time": "2022-11-08T13:08:44.013Z"
   },
   {
    "duration": 980,
    "start_time": "2022-11-08T13:08:51.494Z"
   },
   {
    "duration": 820,
    "start_time": "2022-11-08T13:09:11.183Z"
   },
   {
    "duration": 882,
    "start_time": "2022-11-08T13:14:24.794Z"
   },
   {
    "duration": 806,
    "start_time": "2022-11-08T13:14:31.639Z"
   },
   {
    "duration": 995,
    "start_time": "2022-11-08T13:14:49.000Z"
   },
   {
    "duration": 1016,
    "start_time": "2022-11-08T13:15:35.185Z"
   },
   {
    "duration": 5,
    "start_time": "2022-11-08T13:17:01.399Z"
   },
   {
    "duration": 146589,
    "start_time": "2022-11-08T13:17:24.441Z"
   },
   {
    "duration": 52,
    "start_time": "2022-11-08T13:39:08.148Z"
   },
   {
    "duration": 65,
    "start_time": "2022-11-08T13:39:16.212Z"
   },
   {
    "duration": 5,
    "start_time": "2022-11-08T13:39:31.370Z"
   },
   {
    "duration": 342,
    "start_time": "2022-11-08T13:39:32.660Z"
   },
   {
    "duration": 744,
    "start_time": "2022-11-08T13:39:35.636Z"
   },
   {
    "duration": 12,
    "start_time": "2022-11-08T14:12:41.362Z"
   },
   {
    "duration": 4,
    "start_time": "2022-11-08T14:14:29.938Z"
   },
   {
    "duration": 10,
    "start_time": "2022-11-08T14:14:54.683Z"
   },
   {
    "duration": 49,
    "start_time": "2022-11-08T14:15:25.204Z"
   },
   {
    "duration": 10,
    "start_time": "2022-11-08T14:15:33.915Z"
   },
   {
    "duration": 12,
    "start_time": "2022-11-08T14:17:50.635Z"
   },
   {
    "duration": 3,
    "start_time": "2022-11-08T14:18:07.187Z"
   },
   {
    "duration": 6,
    "start_time": "2022-11-08T14:18:45.682Z"
   },
   {
    "duration": 8,
    "start_time": "2022-11-08T14:19:04.474Z"
   },
   {
    "duration": 986,
    "start_time": "2022-11-08T14:23:55.124Z"
   },
   {
    "duration": 1427,
    "start_time": "2022-11-08T14:25:44.115Z"
   },
   {
    "duration": 176,
    "start_time": "2022-11-08T14:26:26.723Z"
   },
   {
    "duration": 3,
    "start_time": "2022-11-08T14:26:27.827Z"
   },
   {
    "duration": 1618,
    "start_time": "2022-11-08T19:16:21.042Z"
   },
   {
    "duration": 59,
    "start_time": "2022-11-08T19:16:22.926Z"
   },
   {
    "duration": 16,
    "start_time": "2022-11-08T19:16:23.272Z"
   },
   {
    "duration": 13,
    "start_time": "2022-11-08T19:16:24.017Z"
   },
   {
    "duration": 26,
    "start_time": "2022-11-08T19:16:24.980Z"
   },
   {
    "duration": 8,
    "start_time": "2022-11-08T19:16:28.058Z"
   },
   {
    "duration": 372,
    "start_time": "2022-11-08T19:16:29.988Z"
   },
   {
    "duration": 12,
    "start_time": "2022-11-08T19:16:31.551Z"
   },
   {
    "duration": 5,
    "start_time": "2022-11-08T19:16:33.097Z"
   },
   {
    "duration": 746,
    "start_time": "2022-11-08T19:16:33.910Z"
   },
   {
    "duration": 1403,
    "start_time": "2022-11-08T19:16:38.969Z"
   },
   {
    "duration": 1032,
    "start_time": "2022-11-08T19:16:42.762Z"
   },
   {
    "duration": 5,
    "start_time": "2022-11-08T19:16:47.002Z"
   },
   {
    "duration": 159936,
    "start_time": "2022-11-08T19:16:48.133Z"
   },
   {
    "duration": 159945,
    "start_time": "2022-11-08T19:23:16.163Z"
   },
   {
    "duration": 1539,
    "start_time": "2022-11-08T19:25:56.110Z"
   },
   {
    "duration": 6,
    "start_time": "2022-11-08T19:25:57.650Z"
   },
   {
    "duration": 378,
    "start_time": "2022-11-08T19:25:57.658Z"
   },
   {
    "duration": 769,
    "start_time": "2022-11-08T19:25:58.038Z"
   },
   {
    "duration": 97,
    "start_time": "2022-11-08T19:30:31.803Z"
   },
   {
    "duration": 5,
    "start_time": "2022-11-08T19:30:32.022Z"
   },
   {
    "duration": 6,
    "start_time": "2022-11-08T19:30:34.472Z"
   },
   {
    "duration": 1094,
    "start_time": "2022-11-08T19:30:35.573Z"
   },
   {
    "duration": 4,
    "start_time": "2022-11-08T19:31:37.408Z"
   },
   {
    "duration": 174,
    "start_time": "2022-11-08T19:31:40.575Z"
   },
   {
    "duration": 9,
    "start_time": "2022-11-08T19:35:58.114Z"
   },
   {
    "duration": 10,
    "start_time": "2022-11-08T19:36:06.714Z"
   },
   {
    "duration": 9,
    "start_time": "2022-11-08T19:36:12.079Z"
   },
   {
    "duration": 8,
    "start_time": "2022-11-08T19:36:26.525Z"
   },
   {
    "duration": 4,
    "start_time": "2022-11-08T19:42:41.750Z"
   },
   {
    "duration": 7,
    "start_time": "2022-11-08T19:52:44.003Z"
   },
   {
    "duration": 4,
    "start_time": "2022-11-08T19:54:21.625Z"
   },
   {
    "duration": 5,
    "start_time": "2022-11-08T19:55:21.567Z"
   },
   {
    "duration": 4,
    "start_time": "2022-11-08T19:55:53.689Z"
   },
   {
    "duration": 1045,
    "start_time": "2022-11-08T19:55:59.746Z"
   },
   {
    "duration": 6,
    "start_time": "2022-11-08T19:56:54.515Z"
   },
   {
    "duration": 921,
    "start_time": "2022-11-08T19:57:33.214Z"
   },
   {
    "duration": 819,
    "start_time": "2022-11-08T19:57:47.548Z"
   },
   {
    "duration": 7,
    "start_time": "2022-11-08T19:57:59.861Z"
   },
   {
    "duration": 4,
    "start_time": "2022-11-08T19:58:18.556Z"
   },
   {
    "duration": 7,
    "start_time": "2022-11-08T19:58:21.267Z"
   },
   {
    "duration": 5,
    "start_time": "2022-11-08T19:58:37.593Z"
   },
   {
    "duration": 6,
    "start_time": "2022-11-08T19:58:42.546Z"
   },
   {
    "duration": 1720,
    "start_time": "2023-07-03T09:46:38.870Z"
   },
   {
    "duration": 155,
    "start_time": "2023-07-03T09:46:43.957Z"
   },
   {
    "duration": 21,
    "start_time": "2023-07-03T09:46:44.248Z"
   },
   {
    "duration": 13,
    "start_time": "2023-07-03T09:46:45.734Z"
   },
   {
    "duration": 32,
    "start_time": "2023-07-03T09:46:45.966Z"
   },
   {
    "duration": 12,
    "start_time": "2023-07-03T09:47:05.561Z"
   },
   {
    "duration": 313,
    "start_time": "2023-07-03T09:47:09.486Z"
   }
  ],
  "kernelspec": {
   "display_name": "Python 3 (ipykernel)",
   "language": "python",
   "name": "python3"
  },
  "language_info": {
   "codemirror_mode": {
    "name": "ipython",
    "version": 3
   },
   "file_extension": ".py",
   "mimetype": "text/x-python",
   "name": "python",
   "nbconvert_exporter": "python",
   "pygments_lexer": "ipython3",
   "version": "3.9.12"
  },
  "toc": {
   "base_numbering": 1,
   "nav_menu": {},
   "number_sections": true,
   "sideBar": true,
   "skip_h1_title": true,
   "title_cell": "Table of Contents",
   "title_sidebar": "Contents",
   "toc_cell": false,
   "toc_position": {},
   "toc_section_display": true,
   "toc_window_display": false
  }
 },
 "nbformat": 4,
 "nbformat_minor": 2
}
