{
 "cells": [
  {
   "cell_type": "markdown",
   "metadata": {
    "toc": true
   },
   "source": [
    "<h1>Содержание<span class=\"tocSkip\"></span></h1>\n",
    "<div class=\"toc\"><ul class=\"toc-item\"><li><span><a href=\"#Подготовка-данных\" data-toc-modified-id=\"Подготовка-данных-1\"><span class=\"toc-item-num\">1&nbsp;&nbsp;</span>Подготовка данных</a></span></li><li><span><a href=\"#Исследование-задачи\" data-toc-modified-id=\"Исследование-задачи-2\"><span class=\"toc-item-num\">2&nbsp;&nbsp;</span>Исследование задачи</a></span></li><li><span><a href=\"#Борьба-с-дисбалансом\" data-toc-modified-id=\"Борьба-с-дисбалансом-3\"><span class=\"toc-item-num\">3&nbsp;&nbsp;</span>Борьба с дисбалансом</a></span><ul class=\"toc-item\"><li><span><a href=\"#баласировка-веса-классов\" data-toc-modified-id=\"баласировка-веса-классов-3.1\"><span class=\"toc-item-num\">3.1&nbsp;&nbsp;</span>баласировка веса классов</a></span></li><li><span><a href=\"#Upsampling\" data-toc-modified-id=\"Upsampling-3.2\"><span class=\"toc-item-num\">3.2&nbsp;&nbsp;</span>Upsampling</a></span></li><li><span><a href=\"#Downsampling\" data-toc-modified-id=\"Downsampling-3.3\"><span class=\"toc-item-num\">3.3&nbsp;&nbsp;</span>Downsampling</a></span></li><li><span><a href=\"#Установление-порога\" data-toc-modified-id=\"Установление-порога-3.4\"><span class=\"toc-item-num\">3.4&nbsp;&nbsp;</span>Установление порога</a></span></li><li><span><a href=\"#Выбор-лучшей-модели\" data-toc-modified-id=\"Выбор-лучшей-модели-3.5\"><span class=\"toc-item-num\">3.5&nbsp;&nbsp;</span>Выбор лучшей модели</a></span></li></ul></li><li><span><a href=\"#Тестирование-модели\" data-toc-modified-id=\"Тестирование-модели-4\"><span class=\"toc-item-num\">4&nbsp;&nbsp;</span>Тестирование модели</a></span><ul class=\"toc-item\"><li><span><a href=\"#Визуализируем-соотношение-precision-и-recall.-PR-кривая\" data-toc-modified-id=\"Визуализируем-соотношение-precision-и-recall.-PR-кривая-4.1\"><span class=\"toc-item-num\">4.1&nbsp;&nbsp;</span>Визуализируем соотношение precision и recall. PR-кривая</a></span></li><li><span><a href=\"#Построим-ROC-кривую-и-найдем-AUC-ROC\" data-toc-modified-id=\"Построим-ROC-кривую-и-найдем-AUC-ROC-4.2\"><span class=\"toc-item-num\">4.2&nbsp;&nbsp;</span>Построим ROC-кривую и найдем AUC-ROC</a></span></li></ul></li></ul></div>"
   ]
  },
  {
   "cell_type": "markdown",
   "metadata": {},
   "source": [
    "# Отток клиентов"
   ]
  },
  {
   "cell_type": "markdown",
   "metadata": {},
   "source": [
    "Из «Бета-Банка» стали уходить клиенты. Банковские маркетологи посчитали: сохранять текущих клиентов дешевле, чем привлекать новых.\n",
    "\n",
    "Нужно спрогнозировать, уйдёт клиент из банка в ближайшее время или нет. Вам предоставлены исторические данные о поведении клиентов и расторжении договоров с банком. \n",
    "\n",
    "Необходимо построить модель с предельно большим значением *F1*-меры. Постараемся довести метрику до 0.59. Проверьте *F1*-меру на тестовой выборке самостоятельно.\n",
    "\n",
    "Дополнительно измеряйте *AUC-ROC*, сравнивайте её значение с *F1*-мерой.\n",
    "\n",
    "Источник данных: [https://www.kaggle.com/barelydedicated/bank-customer-churn-modeling](https://www.kaggle.com/barelydedicated/bank-customer-churn-modeling)"
   ]
  },
  {
   "cell_type": "markdown",
   "metadata": {},
   "source": [
    "## Подготовка данных"
   ]
  },
  {
   "cell_type": "code",
   "execution_count": 1,
   "metadata": {},
   "outputs": [],
   "source": [
    "# игнорирование предупреждений о несоответствии версий\n",
    "import warnings\n",
    "warnings.filterwarnings('ignore')\n",
    "\n",
    "# Библиотеки для работы таблицами и визуализации\n",
    "import pandas as pd\n",
    "import matplotlib.pyplot as plt\n",
    "import seaborn as sns\n",
    "\n",
    "# импортируем механизм масштабирования\n",
    "from sklearn.preprocessing import StandardScaler\n",
    "\n",
    "# импортируем модели для обучения\n",
    "from sklearn.tree import DecisionTreeClassifier\n",
    "from sklearn.ensemble import RandomForestClassifier\n",
    "from sklearn.linear_model import LogisticRegression\n",
    "\n",
    "# импортируем инструменты для работы с моделями\n",
    "from sklearn.model_selection import train_test_split\n",
    "from sklearn.metrics import f1_score\n",
    "from sklearn.metrics import roc_auc_score\n",
    "from sklearn.metrics import roc_curve\n",
    "from sklearn.metrics import accuracy_score\n",
    "from sklearn.metrics import balanced_accuracy_score\n",
    "\n",
    "# Библиотеки для работы с графиками\n",
    "import seaborn as sns\n",
    "import matplotlib.pyplot as plt"
   ]
  },
  {
   "cell_type": "markdown",
   "metadata": {},
   "source": [
    "Прогноз ухода клиента относится к задачам классификации, поэтому для обучения используем следующие модели:\n",
    "- Дерево решений\n",
    "- Случайный лес\n",
    "- Логистическая регрессия"
   ]
  },
  {
   "cell_type": "code",
   "execution_count": 2,
   "metadata": {},
   "outputs": [
    {
     "data": {
      "text/html": [
       "<div>\n",
       "<style scoped>\n",
       "    .dataframe tbody tr th:only-of-type {\n",
       "        vertical-align: middle;\n",
       "    }\n",
       "\n",
       "    .dataframe tbody tr th {\n",
       "        vertical-align: top;\n",
       "    }\n",
       "\n",
       "    .dataframe thead th {\n",
       "        text-align: right;\n",
       "    }\n",
       "</style>\n",
       "<table border=\"1\" class=\"dataframe\">\n",
       "  <thead>\n",
       "    <tr style=\"text-align: right;\">\n",
       "      <th></th>\n",
       "      <th>RowNumber</th>\n",
       "      <th>CustomerId</th>\n",
       "      <th>Surname</th>\n",
       "      <th>CreditScore</th>\n",
       "      <th>Geography</th>\n",
       "      <th>Gender</th>\n",
       "      <th>Age</th>\n",
       "      <th>Tenure</th>\n",
       "      <th>Balance</th>\n",
       "      <th>NumOfProducts</th>\n",
       "      <th>HasCrCard</th>\n",
       "      <th>IsActiveMember</th>\n",
       "      <th>EstimatedSalary</th>\n",
       "      <th>Exited</th>\n",
       "    </tr>\n",
       "  </thead>\n",
       "  <tbody>\n",
       "    <tr>\n",
       "      <th>0</th>\n",
       "      <td>1</td>\n",
       "      <td>15634602</td>\n",
       "      <td>Hargrave</td>\n",
       "      <td>619</td>\n",
       "      <td>France</td>\n",
       "      <td>Female</td>\n",
       "      <td>42</td>\n",
       "      <td>2.0</td>\n",
       "      <td>0.00</td>\n",
       "      <td>1</td>\n",
       "      <td>1</td>\n",
       "      <td>1</td>\n",
       "      <td>101348.88</td>\n",
       "      <td>1</td>\n",
       "    </tr>\n",
       "    <tr>\n",
       "      <th>1</th>\n",
       "      <td>2</td>\n",
       "      <td>15647311</td>\n",
       "      <td>Hill</td>\n",
       "      <td>608</td>\n",
       "      <td>Spain</td>\n",
       "      <td>Female</td>\n",
       "      <td>41</td>\n",
       "      <td>1.0</td>\n",
       "      <td>83807.86</td>\n",
       "      <td>1</td>\n",
       "      <td>0</td>\n",
       "      <td>1</td>\n",
       "      <td>112542.58</td>\n",
       "      <td>0</td>\n",
       "    </tr>\n",
       "    <tr>\n",
       "      <th>2</th>\n",
       "      <td>3</td>\n",
       "      <td>15619304</td>\n",
       "      <td>Onio</td>\n",
       "      <td>502</td>\n",
       "      <td>France</td>\n",
       "      <td>Female</td>\n",
       "      <td>42</td>\n",
       "      <td>8.0</td>\n",
       "      <td>159660.80</td>\n",
       "      <td>3</td>\n",
       "      <td>1</td>\n",
       "      <td>0</td>\n",
       "      <td>113931.57</td>\n",
       "      <td>1</td>\n",
       "    </tr>\n",
       "    <tr>\n",
       "      <th>3</th>\n",
       "      <td>4</td>\n",
       "      <td>15701354</td>\n",
       "      <td>Boni</td>\n",
       "      <td>699</td>\n",
       "      <td>France</td>\n",
       "      <td>Female</td>\n",
       "      <td>39</td>\n",
       "      <td>1.0</td>\n",
       "      <td>0.00</td>\n",
       "      <td>2</td>\n",
       "      <td>0</td>\n",
       "      <td>0</td>\n",
       "      <td>93826.63</td>\n",
       "      <td>0</td>\n",
       "    </tr>\n",
       "    <tr>\n",
       "      <th>4</th>\n",
       "      <td>5</td>\n",
       "      <td>15737888</td>\n",
       "      <td>Mitchell</td>\n",
       "      <td>850</td>\n",
       "      <td>Spain</td>\n",
       "      <td>Female</td>\n",
       "      <td>43</td>\n",
       "      <td>2.0</td>\n",
       "      <td>125510.82</td>\n",
       "      <td>1</td>\n",
       "      <td>1</td>\n",
       "      <td>1</td>\n",
       "      <td>79084.10</td>\n",
       "      <td>0</td>\n",
       "    </tr>\n",
       "  </tbody>\n",
       "</table>\n",
       "</div>"
      ],
      "text/plain": [
       "   RowNumber  CustomerId   Surname  CreditScore Geography  Gender  Age   \n",
       "0          1    15634602  Hargrave          619    France  Female   42  \\\n",
       "1          2    15647311      Hill          608     Spain  Female   41   \n",
       "2          3    15619304      Onio          502    France  Female   42   \n",
       "3          4    15701354      Boni          699    France  Female   39   \n",
       "4          5    15737888  Mitchell          850     Spain  Female   43   \n",
       "\n",
       "   Tenure    Balance  NumOfProducts  HasCrCard  IsActiveMember   \n",
       "0     2.0       0.00              1          1               1  \\\n",
       "1     1.0   83807.86              1          0               1   \n",
       "2     8.0  159660.80              3          1               0   \n",
       "3     1.0       0.00              2          0               0   \n",
       "4     2.0  125510.82              1          1               1   \n",
       "\n",
       "   EstimatedSalary  Exited  \n",
       "0        101348.88       1  \n",
       "1        112542.58       0  \n",
       "2        113931.57       1  \n",
       "3         93826.63       0  \n",
       "4         79084.10       0  "
      ]
     },
     "execution_count": 2,
     "metadata": {},
     "output_type": "execute_result"
    }
   ],
   "source": [
    "data = pd.read_csv('~/bank-churn/Churn.csv')\n",
    "data.head()"
   ]
  },
  {
   "cell_type": "code",
   "execution_count": 3,
   "metadata": {},
   "outputs": [
    {
     "name": "stdout",
     "output_type": "stream",
     "text": [
      "<class 'pandas.core.frame.DataFrame'>\n",
      "RangeIndex: 10000 entries, 0 to 9999\n",
      "Data columns (total 14 columns):\n",
      " #   Column           Non-Null Count  Dtype  \n",
      "---  ------           --------------  -----  \n",
      " 0   RowNumber        10000 non-null  int64  \n",
      " 1   CustomerId       10000 non-null  int64  \n",
      " 2   Surname          10000 non-null  object \n",
      " 3   CreditScore      10000 non-null  int64  \n",
      " 4   Geography        10000 non-null  object \n",
      " 5   Gender           10000 non-null  object \n",
      " 6   Age              10000 non-null  int64  \n",
      " 7   Tenure           9091 non-null   float64\n",
      " 8   Balance          10000 non-null  float64\n",
      " 9   NumOfProducts    10000 non-null  int64  \n",
      " 10  HasCrCard        10000 non-null  int64  \n",
      " 11  IsActiveMember   10000 non-null  int64  \n",
      " 12  EstimatedSalary  10000 non-null  float64\n",
      " 13  Exited           10000 non-null  int64  \n",
      "dtypes: float64(3), int64(8), object(3)\n",
      "memory usage: 1.1+ MB\n"
     ]
    }
   ],
   "source": [
    "data.info()"
   ]
  },
  {
   "cell_type": "code",
   "execution_count": 4,
   "metadata": {},
   "outputs": [
    {
     "data": {
      "text/html": [
       "<div>\n",
       "<style scoped>\n",
       "    .dataframe tbody tr th:only-of-type {\n",
       "        vertical-align: middle;\n",
       "    }\n",
       "\n",
       "    .dataframe tbody tr th {\n",
       "        vertical-align: top;\n",
       "    }\n",
       "\n",
       "    .dataframe thead th {\n",
       "        text-align: right;\n",
       "    }\n",
       "</style>\n",
       "<table border=\"1\" class=\"dataframe\">\n",
       "  <thead>\n",
       "    <tr style=\"text-align: right;\">\n",
       "      <th></th>\n",
       "      <th>RowNumber</th>\n",
       "      <th>CustomerId</th>\n",
       "      <th>Surname</th>\n",
       "      <th>CreditScore</th>\n",
       "      <th>Geography</th>\n",
       "      <th>Gender</th>\n",
       "      <th>Age</th>\n",
       "      <th>Tenure</th>\n",
       "      <th>Balance</th>\n",
       "      <th>NumOfProducts</th>\n",
       "      <th>HasCrCard</th>\n",
       "      <th>IsActiveMember</th>\n",
       "      <th>EstimatedSalary</th>\n",
       "      <th>Exited</th>\n",
       "    </tr>\n",
       "  </thead>\n",
       "  <tbody>\n",
       "    <tr>\n",
       "      <th>30</th>\n",
       "      <td>31</td>\n",
       "      <td>15589475</td>\n",
       "      <td>Azikiwe</td>\n",
       "      <td>591</td>\n",
       "      <td>Spain</td>\n",
       "      <td>Female</td>\n",
       "      <td>39</td>\n",
       "      <td>NaN</td>\n",
       "      <td>0.00</td>\n",
       "      <td>3</td>\n",
       "      <td>1</td>\n",
       "      <td>0</td>\n",
       "      <td>140469.38</td>\n",
       "      <td>1</td>\n",
       "    </tr>\n",
       "    <tr>\n",
       "      <th>48</th>\n",
       "      <td>49</td>\n",
       "      <td>15766205</td>\n",
       "      <td>Yin</td>\n",
       "      <td>550</td>\n",
       "      <td>Germany</td>\n",
       "      <td>Male</td>\n",
       "      <td>38</td>\n",
       "      <td>NaN</td>\n",
       "      <td>103391.38</td>\n",
       "      <td>1</td>\n",
       "      <td>0</td>\n",
       "      <td>1</td>\n",
       "      <td>90878.13</td>\n",
       "      <td>0</td>\n",
       "    </tr>\n",
       "    <tr>\n",
       "      <th>51</th>\n",
       "      <td>52</td>\n",
       "      <td>15768193</td>\n",
       "      <td>Trevisani</td>\n",
       "      <td>585</td>\n",
       "      <td>Germany</td>\n",
       "      <td>Male</td>\n",
       "      <td>36</td>\n",
       "      <td>NaN</td>\n",
       "      <td>146050.97</td>\n",
       "      <td>2</td>\n",
       "      <td>0</td>\n",
       "      <td>0</td>\n",
       "      <td>86424.57</td>\n",
       "      <td>0</td>\n",
       "    </tr>\n",
       "    <tr>\n",
       "      <th>53</th>\n",
       "      <td>54</td>\n",
       "      <td>15702298</td>\n",
       "      <td>Parkhill</td>\n",
       "      <td>655</td>\n",
       "      <td>Germany</td>\n",
       "      <td>Male</td>\n",
       "      <td>41</td>\n",
       "      <td>NaN</td>\n",
       "      <td>125561.97</td>\n",
       "      <td>1</td>\n",
       "      <td>0</td>\n",
       "      <td>0</td>\n",
       "      <td>164040.94</td>\n",
       "      <td>1</td>\n",
       "    </tr>\n",
       "    <tr>\n",
       "      <th>60</th>\n",
       "      <td>61</td>\n",
       "      <td>15651280</td>\n",
       "      <td>Hunter</td>\n",
       "      <td>742</td>\n",
       "      <td>Germany</td>\n",
       "      <td>Male</td>\n",
       "      <td>35</td>\n",
       "      <td>NaN</td>\n",
       "      <td>136857.00</td>\n",
       "      <td>1</td>\n",
       "      <td>0</td>\n",
       "      <td>0</td>\n",
       "      <td>84509.57</td>\n",
       "      <td>0</td>\n",
       "    </tr>\n",
       "    <tr>\n",
       "      <th>...</th>\n",
       "      <td>...</td>\n",
       "      <td>...</td>\n",
       "      <td>...</td>\n",
       "      <td>...</td>\n",
       "      <td>...</td>\n",
       "      <td>...</td>\n",
       "      <td>...</td>\n",
       "      <td>...</td>\n",
       "      <td>...</td>\n",
       "      <td>...</td>\n",
       "      <td>...</td>\n",
       "      <td>...</td>\n",
       "      <td>...</td>\n",
       "      <td>...</td>\n",
       "    </tr>\n",
       "    <tr>\n",
       "      <th>9944</th>\n",
       "      <td>9945</td>\n",
       "      <td>15703923</td>\n",
       "      <td>Cameron</td>\n",
       "      <td>744</td>\n",
       "      <td>Germany</td>\n",
       "      <td>Male</td>\n",
       "      <td>41</td>\n",
       "      <td>NaN</td>\n",
       "      <td>190409.34</td>\n",
       "      <td>2</td>\n",
       "      <td>1</td>\n",
       "      <td>1</td>\n",
       "      <td>138361.48</td>\n",
       "      <td>0</td>\n",
       "    </tr>\n",
       "    <tr>\n",
       "      <th>9956</th>\n",
       "      <td>9957</td>\n",
       "      <td>15707861</td>\n",
       "      <td>Nucci</td>\n",
       "      <td>520</td>\n",
       "      <td>France</td>\n",
       "      <td>Female</td>\n",
       "      <td>46</td>\n",
       "      <td>NaN</td>\n",
       "      <td>85216.61</td>\n",
       "      <td>1</td>\n",
       "      <td>1</td>\n",
       "      <td>0</td>\n",
       "      <td>117369.52</td>\n",
       "      <td>1</td>\n",
       "    </tr>\n",
       "    <tr>\n",
       "      <th>9964</th>\n",
       "      <td>9965</td>\n",
       "      <td>15642785</td>\n",
       "      <td>Douglas</td>\n",
       "      <td>479</td>\n",
       "      <td>France</td>\n",
       "      <td>Male</td>\n",
       "      <td>34</td>\n",
       "      <td>NaN</td>\n",
       "      <td>117593.48</td>\n",
       "      <td>2</td>\n",
       "      <td>0</td>\n",
       "      <td>0</td>\n",
       "      <td>113308.29</td>\n",
       "      <td>0</td>\n",
       "    </tr>\n",
       "    <tr>\n",
       "      <th>9985</th>\n",
       "      <td>9986</td>\n",
       "      <td>15586914</td>\n",
       "      <td>Nepean</td>\n",
       "      <td>659</td>\n",
       "      <td>France</td>\n",
       "      <td>Male</td>\n",
       "      <td>36</td>\n",
       "      <td>NaN</td>\n",
       "      <td>123841.49</td>\n",
       "      <td>2</td>\n",
       "      <td>1</td>\n",
       "      <td>0</td>\n",
       "      <td>96833.00</td>\n",
       "      <td>0</td>\n",
       "    </tr>\n",
       "    <tr>\n",
       "      <th>9999</th>\n",
       "      <td>10000</td>\n",
       "      <td>15628319</td>\n",
       "      <td>Walker</td>\n",
       "      <td>792</td>\n",
       "      <td>France</td>\n",
       "      <td>Female</td>\n",
       "      <td>28</td>\n",
       "      <td>NaN</td>\n",
       "      <td>130142.79</td>\n",
       "      <td>1</td>\n",
       "      <td>1</td>\n",
       "      <td>0</td>\n",
       "      <td>38190.78</td>\n",
       "      <td>0</td>\n",
       "    </tr>\n",
       "  </tbody>\n",
       "</table>\n",
       "<p>909 rows × 14 columns</p>\n",
       "</div>"
      ],
      "text/plain": [
       "      RowNumber  CustomerId    Surname  CreditScore Geography  Gender  Age  \\\n",
       "30           31    15589475    Azikiwe          591     Spain  Female   39   \n",
       "48           49    15766205        Yin          550   Germany    Male   38   \n",
       "51           52    15768193  Trevisani          585   Germany    Male   36   \n",
       "53           54    15702298   Parkhill          655   Germany    Male   41   \n",
       "60           61    15651280     Hunter          742   Germany    Male   35   \n",
       "...         ...         ...        ...          ...       ...     ...  ...   \n",
       "9944       9945    15703923    Cameron          744   Germany    Male   41   \n",
       "9956       9957    15707861      Nucci          520    France  Female   46   \n",
       "9964       9965    15642785    Douglas          479    France    Male   34   \n",
       "9985       9986    15586914     Nepean          659    France    Male   36   \n",
       "9999      10000    15628319     Walker          792    France  Female   28   \n",
       "\n",
       "      Tenure    Balance  NumOfProducts  HasCrCard  IsActiveMember  \\\n",
       "30       NaN       0.00              3          1               0   \n",
       "48       NaN  103391.38              1          0               1   \n",
       "51       NaN  146050.97              2          0               0   \n",
       "53       NaN  125561.97              1          0               0   \n",
       "60       NaN  136857.00              1          0               0   \n",
       "...      ...        ...            ...        ...             ...   \n",
       "9944     NaN  190409.34              2          1               1   \n",
       "9956     NaN   85216.61              1          1               0   \n",
       "9964     NaN  117593.48              2          0               0   \n",
       "9985     NaN  123841.49              2          1               0   \n",
       "9999     NaN  130142.79              1          1               0   \n",
       "\n",
       "      EstimatedSalary  Exited  \n",
       "30          140469.38       1  \n",
       "48           90878.13       0  \n",
       "51           86424.57       0  \n",
       "53          164040.94       1  \n",
       "60           84509.57       0  \n",
       "...               ...     ...  \n",
       "9944        138361.48       0  \n",
       "9956        117369.52       1  \n",
       "9964        113308.29       0  \n",
       "9985         96833.00       0  \n",
       "9999         38190.78       0  \n",
       "\n",
       "[909 rows x 14 columns]"
      ]
     },
     "execution_count": 4,
     "metadata": {},
     "output_type": "execute_result"
    }
   ],
   "source": [
    "data[data['Tenure'].isna()]"
   ]
  },
  {
   "cell_type": "markdown",
   "metadata": {},
   "source": [
    "Данные содержат большой разброс значений, соответственно, подлежат масштабированию, также в них имеются нечисловые признаки, в связи с чем применим метод One Hot Encoding. Также пропыски в столбце Tenure скорее всего связаны с техническим недочетом так, как при наличии средств на балансе клиента нет данных о продолжительности сотрудничества клиента с банком, это важные данные, поэтому строки с пропусками уберем."
   ]
  },
  {
   "cell_type": "code",
   "execution_count": 5,
   "metadata": {},
   "outputs": [
    {
     "data": {
      "text/html": [
       "<div>\n",
       "<style scoped>\n",
       "    .dataframe tbody tr th:only-of-type {\n",
       "        vertical-align: middle;\n",
       "    }\n",
       "\n",
       "    .dataframe tbody tr th {\n",
       "        vertical-align: top;\n",
       "    }\n",
       "\n",
       "    .dataframe thead th {\n",
       "        text-align: right;\n",
       "    }\n",
       "</style>\n",
       "<table border=\"1\" class=\"dataframe\">\n",
       "  <thead>\n",
       "    <tr style=\"text-align: right;\">\n",
       "      <th></th>\n",
       "      <th>row_number</th>\n",
       "      <th>customer_id</th>\n",
       "      <th>surname</th>\n",
       "      <th>credit_score</th>\n",
       "      <th>geography</th>\n",
       "      <th>gender</th>\n",
       "      <th>age</th>\n",
       "      <th>tenure</th>\n",
       "      <th>balance</th>\n",
       "      <th>num_of_products</th>\n",
       "      <th>has_cr_card</th>\n",
       "      <th>is_active_member</th>\n",
       "      <th>estimated_salary</th>\n",
       "      <th>exited</th>\n",
       "    </tr>\n",
       "  </thead>\n",
       "  <tbody>\n",
       "    <tr>\n",
       "      <th>0</th>\n",
       "      <td>1</td>\n",
       "      <td>15634602</td>\n",
       "      <td>Hargrave</td>\n",
       "      <td>619</td>\n",
       "      <td>France</td>\n",
       "      <td>Female</td>\n",
       "      <td>42</td>\n",
       "      <td>2.0</td>\n",
       "      <td>0.00</td>\n",
       "      <td>1</td>\n",
       "      <td>1</td>\n",
       "      <td>1</td>\n",
       "      <td>101348.88</td>\n",
       "      <td>1</td>\n",
       "    </tr>\n",
       "    <tr>\n",
       "      <th>1</th>\n",
       "      <td>2</td>\n",
       "      <td>15647311</td>\n",
       "      <td>Hill</td>\n",
       "      <td>608</td>\n",
       "      <td>Spain</td>\n",
       "      <td>Female</td>\n",
       "      <td>41</td>\n",
       "      <td>1.0</td>\n",
       "      <td>83807.86</td>\n",
       "      <td>1</td>\n",
       "      <td>0</td>\n",
       "      <td>1</td>\n",
       "      <td>112542.58</td>\n",
       "      <td>0</td>\n",
       "    </tr>\n",
       "    <tr>\n",
       "      <th>2</th>\n",
       "      <td>3</td>\n",
       "      <td>15619304</td>\n",
       "      <td>Onio</td>\n",
       "      <td>502</td>\n",
       "      <td>France</td>\n",
       "      <td>Female</td>\n",
       "      <td>42</td>\n",
       "      <td>8.0</td>\n",
       "      <td>159660.80</td>\n",
       "      <td>3</td>\n",
       "      <td>1</td>\n",
       "      <td>0</td>\n",
       "      <td>113931.57</td>\n",
       "      <td>1</td>\n",
       "    </tr>\n",
       "    <tr>\n",
       "      <th>3</th>\n",
       "      <td>4</td>\n",
       "      <td>15701354</td>\n",
       "      <td>Boni</td>\n",
       "      <td>699</td>\n",
       "      <td>France</td>\n",
       "      <td>Female</td>\n",
       "      <td>39</td>\n",
       "      <td>1.0</td>\n",
       "      <td>0.00</td>\n",
       "      <td>2</td>\n",
       "      <td>0</td>\n",
       "      <td>0</td>\n",
       "      <td>93826.63</td>\n",
       "      <td>0</td>\n",
       "    </tr>\n",
       "    <tr>\n",
       "      <th>4</th>\n",
       "      <td>5</td>\n",
       "      <td>15737888</td>\n",
       "      <td>Mitchell</td>\n",
       "      <td>850</td>\n",
       "      <td>Spain</td>\n",
       "      <td>Female</td>\n",
       "      <td>43</td>\n",
       "      <td>2.0</td>\n",
       "      <td>125510.82</td>\n",
       "      <td>1</td>\n",
       "      <td>1</td>\n",
       "      <td>1</td>\n",
       "      <td>79084.10</td>\n",
       "      <td>0</td>\n",
       "    </tr>\n",
       "  </tbody>\n",
       "</table>\n",
       "</div>"
      ],
      "text/plain": [
       "   row_number  customer_id   surname  credit_score geography  gender  age  \\\n",
       "0           1     15634602  Hargrave           619    France  Female   42   \n",
       "1           2     15647311      Hill           608     Spain  Female   41   \n",
       "2           3     15619304      Onio           502    France  Female   42   \n",
       "3           4     15701354      Boni           699    France  Female   39   \n",
       "4           5     15737888  Mitchell           850     Spain  Female   43   \n",
       "\n",
       "   tenure    balance  num_of_products  has_cr_card  is_active_member  \\\n",
       "0     2.0       0.00                1            1                 1   \n",
       "1     1.0   83807.86                1            0                 1   \n",
       "2     8.0  159660.80                3            1                 0   \n",
       "3     1.0       0.00                2            0                 0   \n",
       "4     2.0  125510.82                1            1                 1   \n",
       "\n",
       "   estimated_salary  exited  \n",
       "0         101348.88       1  \n",
       "1         112542.58       0  \n",
       "2         113931.57       1  \n",
       "3          93826.63       0  \n",
       "4          79084.10       0  "
      ]
     },
     "execution_count": 5,
     "metadata": {},
     "output_type": "execute_result"
    }
   ],
   "source": [
    "c = []\n",
    "for i in data.columns.to_list():\n",
    "    a = []\n",
    "    for j in i:\n",
    "        if j.isupper() == False or i.index(j) == 0:\n",
    "            a.append(j.lower())\n",
    "        elif j.isupper() == True:\n",
    "            a.append('_')\n",
    "            a.append(j.lower())\n",
    "    c.append(''.join(a))\n",
    "    \n",
    "data.columns = c\n",
    "\n",
    "data.head() "
   ]
  },
  {
   "cell_type": "code",
   "execution_count": 6,
   "metadata": {},
   "outputs": [
    {
     "name": "stdout",
     "output_type": "stream",
     "text": [
      "<class 'pandas.core.frame.DataFrame'>\n",
      "Int64Index: 9091 entries, 0 to 9998\n",
      "Data columns (total 14 columns):\n",
      " #   Column            Non-Null Count  Dtype  \n",
      "---  ------            --------------  -----  \n",
      " 0   row_number        9091 non-null   int64  \n",
      " 1   customer_id       9091 non-null   int64  \n",
      " 2   surname           9091 non-null   object \n",
      " 3   credit_score      9091 non-null   int64  \n",
      " 4   geography         9091 non-null   object \n",
      " 5   gender            9091 non-null   object \n",
      " 6   age               9091 non-null   int64  \n",
      " 7   tenure            9091 non-null   float64\n",
      " 8   balance           9091 non-null   float64\n",
      " 9   num_of_products   9091 non-null   int64  \n",
      " 10  has_cr_card       9091 non-null   int64  \n",
      " 11  is_active_member  9091 non-null   int64  \n",
      " 12  estimated_salary  9091 non-null   float64\n",
      " 13  exited            9091 non-null   int64  \n",
      "dtypes: float64(3), int64(8), object(3)\n",
      "memory usage: 1.0+ MB\n"
     ]
    }
   ],
   "source": [
    "# удалим пропуски\n",
    "data = data.dropna()\n",
    "data.info()"
   ]
  },
  {
   "cell_type": "code",
   "execution_count": 7,
   "metadata": {},
   "outputs": [
    {
     "data": {
      "text/plain": [
       "<AxesSubplot:>"
      ]
     },
     "execution_count": 7,
     "metadata": {},
     "output_type": "execute_result"
    },
    {
     "data": {
      "image/png": "[encoded data removed]",
      "text/plain": [
       "<Figure size 432x288 with 2 Axes>"
      ]
     },
     "metadata": {
      "needs_background": "light"
     },
     "output_type": "display_data"
    }
   ],
   "source": [
    "sns.heatmap(data.corr()[['exited']], vmax=1, vmin=-1, annot = True, fmt='.4f')"
   ]
  },
  {
   "cell_type": "markdown",
   "metadata": {},
   "source": [
    "Присутствует средняя корреляция целевого признака с возрастом клиента, однако возраст - важный фактор. Чтобы он не воспринимался моделью как количественный признак, предлагаю разбить этот столбец на категории:\n",
    "- 18 - 25 A\n",
    "- 26 - 30 B\n",
    "- 31 - 35 C\n",
    "- 36 - 40 D\n",
    "- 41 - 45 E\n",
    "- 46 и выше F"
   ]
  },
  {
   "cell_type": "code",
   "execution_count": 8,
   "metadata": {},
   "outputs": [],
   "source": [
    "# создадим столбец с категориями\n",
    "data['age_c'] = None\n",
    "data['age'] = data['age'].astype('int')"
   ]
  },
  {
   "cell_type": "code",
   "execution_count": 9,
   "metadata": {},
   "outputs": [
    {
     "data": {
      "text/plain": [
       "D    2030\n",
       "C    1979\n",
       "F    1939\n",
       "E    1340\n",
       "B    1233\n",
       "A     570\n",
       "Name: age_c, dtype: int64"
      ]
     },
     "execution_count": 9,
     "metadata": {},
     "output_type": "execute_result"
    }
   ],
   "source": [
    "# заполним категории\n",
    "age = [25, 30, 35, 40, 45, 46]\n",
    "category = ['A', 'B', 'C', 'D', 'E', 'F']\n",
    "\n",
    "for i in range(len(age)):\n",
    "    if age[i] == 25:\n",
    "        data.loc[data['age'] <= age[i], 'age_c'] = category[i]\n",
    "    elif age[i] == 30:\n",
    "        data.loc[(data['age'] <= age[i]) & (data['age'] > age[i-1]), 'age_c'] = category[i]\n",
    "    elif age[i] == 35:\n",
    "        data.loc[(data['age'] <= age[i]) & (data['age'] > age[i-1]), 'age_c'] = category[i]\n",
    "    elif age[i] == 40:\n",
    "        data.loc[(data['age'] <= age[i]) & (data['age'] > age[i-1]), 'age_c'] = category[i]\n",
    "    elif age[i] == 45:\n",
    "        data.loc[(data['age'] <= age[i]) & (data['age'] > age[i-1]), 'age_c'] = category[i]\n",
    "    elif age[i] == 46:\n",
    "        data.loc[(data['age'] >= age[i]), 'age_c'] = category[i]\n",
    "data['age_c'].value_counts()"
   ]
  },
  {
   "cell_type": "markdown",
   "metadata": {},
   "source": [
    "Также разобьем на категории столбец со сроком сотрудничества.\n",
    "- 0 - 2 D\n",
    "- 3 - 5 C\n",
    "- 6 - 8 B\n",
    "- 9 и более A"
   ]
  },
  {
   "cell_type": "code",
   "execution_count": 10,
   "metadata": {},
   "outputs": [],
   "source": [
    "# создадим столбец с категориями\n",
    "data['tenure_с'] = None\n",
    "data['tenure'] = data['tenure'].astype('int')"
   ]
  },
  {
   "cell_type": "code",
   "execution_count": 11,
   "metadata": {},
   "outputs": [
    {
     "data": {
      "text/plain": [
       "C    2740\n",
       "B    2739\n",
       "D    2284\n",
       "A    1328\n",
       "Name: tenure_с, dtype: int64"
      ]
     },
     "execution_count": 11,
     "metadata": {},
     "output_type": "execute_result"
    }
   ],
   "source": [
    "# заполним категории\n",
    "tenure = [2, 5, 8, 9]\n",
    "category = ['D', 'C', 'B', 'A']\n",
    "\n",
    "for i in range(len(tenure)):\n",
    "    if tenure[i] == 2:\n",
    "        data.loc[data['tenure'] <= tenure[i], 'tenure_с'] = category[i]\n",
    "    elif tenure[i] == 5:\n",
    "        data.loc[(data['tenure'] <= tenure[i]) & (data['tenure'] > tenure[i-1]), 'tenure_с'] = category[i]\n",
    "    elif tenure[i] == 8:\n",
    "        data.loc[(data['tenure'] <= tenure[i]) & (data['tenure'] > tenure[i-1]), 'tenure_с'] = category[i]\n",
    "    elif tenure[i] == 9:\n",
    "        data.loc[(data['tenure'] >= tenure[i]), 'tenure_с'] = category[i]\n",
    "\n",
    "data['tenure_с'].value_counts()"
   ]
  },
  {
   "cell_type": "code",
   "execution_count": 12,
   "metadata": {},
   "outputs": [],
   "source": [
    "# уберем лишние столбцы\n",
    "data = data.drop(['age', 'tenure', 'row_number', 'customer_id', 'surname'], axis=1)\n",
    "data = data.reset_index(drop=True)"
   ]
  },
  {
   "cell_type": "code",
   "execution_count": 13,
   "metadata": {},
   "outputs": [
    {
     "data": {
      "text/html": [
       "<div>\n",
       "<style scoped>\n",
       "    .dataframe tbody tr th:only-of-type {\n",
       "        vertical-align: middle;\n",
       "    }\n",
       "\n",
       "    .dataframe tbody tr th {\n",
       "        vertical-align: top;\n",
       "    }\n",
       "\n",
       "    .dataframe thead th {\n",
       "        text-align: right;\n",
       "    }\n",
       "</style>\n",
       "<table border=\"1\" class=\"dataframe\">\n",
       "  <thead>\n",
       "    <tr style=\"text-align: right;\">\n",
       "      <th></th>\n",
       "      <th>credit_score</th>\n",
       "      <th>geography</th>\n",
       "      <th>gender</th>\n",
       "      <th>balance</th>\n",
       "      <th>num_of_products</th>\n",
       "      <th>has_cr_card</th>\n",
       "      <th>is_active_member</th>\n",
       "      <th>estimated_salary</th>\n",
       "      <th>exited</th>\n",
       "      <th>age_c</th>\n",
       "      <th>tenure_с</th>\n",
       "    </tr>\n",
       "  </thead>\n",
       "  <tbody>\n",
       "    <tr>\n",
       "      <th>0</th>\n",
       "      <td>619</td>\n",
       "      <td>France</td>\n",
       "      <td>Female</td>\n",
       "      <td>0.00</td>\n",
       "      <td>1</td>\n",
       "      <td>1</td>\n",
       "      <td>1</td>\n",
       "      <td>101348.88</td>\n",
       "      <td>1</td>\n",
       "      <td>E</td>\n",
       "      <td>D</td>\n",
       "    </tr>\n",
       "    <tr>\n",
       "      <th>1</th>\n",
       "      <td>608</td>\n",
       "      <td>Spain</td>\n",
       "      <td>Female</td>\n",
       "      <td>83807.86</td>\n",
       "      <td>1</td>\n",
       "      <td>0</td>\n",
       "      <td>1</td>\n",
       "      <td>112542.58</td>\n",
       "      <td>0</td>\n",
       "      <td>E</td>\n",
       "      <td>D</td>\n",
       "    </tr>\n",
       "    <tr>\n",
       "      <th>2</th>\n",
       "      <td>502</td>\n",
       "      <td>France</td>\n",
       "      <td>Female</td>\n",
       "      <td>159660.80</td>\n",
       "      <td>3</td>\n",
       "      <td>1</td>\n",
       "      <td>0</td>\n",
       "      <td>113931.57</td>\n",
       "      <td>1</td>\n",
       "      <td>E</td>\n",
       "      <td>B</td>\n",
       "    </tr>\n",
       "    <tr>\n",
       "      <th>3</th>\n",
       "      <td>699</td>\n",
       "      <td>France</td>\n",
       "      <td>Female</td>\n",
       "      <td>0.00</td>\n",
       "      <td>2</td>\n",
       "      <td>0</td>\n",
       "      <td>0</td>\n",
       "      <td>93826.63</td>\n",
       "      <td>0</td>\n",
       "      <td>D</td>\n",
       "      <td>D</td>\n",
       "    </tr>\n",
       "    <tr>\n",
       "      <th>4</th>\n",
       "      <td>850</td>\n",
       "      <td>Spain</td>\n",
       "      <td>Female</td>\n",
       "      <td>125510.82</td>\n",
       "      <td>1</td>\n",
       "      <td>1</td>\n",
       "      <td>1</td>\n",
       "      <td>79084.10</td>\n",
       "      <td>0</td>\n",
       "      <td>E</td>\n",
       "      <td>D</td>\n",
       "    </tr>\n",
       "  </tbody>\n",
       "</table>\n",
       "</div>"
      ],
      "text/plain": [
       "   credit_score geography  gender    balance  num_of_products  has_cr_card  \\\n",
       "0           619    France  Female       0.00                1            1   \n",
       "1           608     Spain  Female   83807.86                1            0   \n",
       "2           502    France  Female  159660.80                3            1   \n",
       "3           699    France  Female       0.00                2            0   \n",
       "4           850     Spain  Female  125510.82                1            1   \n",
       "\n",
       "   is_active_member  estimated_salary  exited age_c tenure_с  \n",
       "0                 1         101348.88       1     E        D  \n",
       "1                 1         112542.58       0     E        D  \n",
       "2                 0         113931.57       1     E        B  \n",
       "3                 0          93826.63       0     D        D  \n",
       "4                 1          79084.10       0     E        D  "
      ]
     },
     "execution_count": 13,
     "metadata": {},
     "output_type": "execute_result"
    }
   ],
   "source": [
    "data.head()"
   ]
  },
  {
   "cell_type": "markdown",
   "metadata": {},
   "source": [
    "Проведем one hot encoding и масштабирование признаков"
   ]
  },
  {
   "cell_type": "code",
   "execution_count": 14,
   "metadata": {},
   "outputs": [],
   "source": [
    "data_ohe = pd.get_dummies(data, drop_first=True)"
   ]
  },
  {
   "cell_type": "code",
   "execution_count": 15,
   "metadata": {},
   "outputs": [],
   "source": [
    "# разобьем датасет на выборки в пропорции 3:1:1\n",
    "features = data_ohe.drop('exited', axis=1)\n",
    "target = data_ohe['exited']\n",
    "\n",
    "# выделим обучающую выборку в размере 60% датасета\n",
    "features_train, features_val_test, target_train, target_val_test = train_test_split(features, target, test_size=0.4,\n",
    "                                                                             random_state=12345)\n",
    "# Оставшиеся данные разделим на валидационную и тестовую выборку\n",
    "features_valid, features_test, target_valid, target_test = train_test_split(features_val_test, target_val_test,\n",
    "                                                                              test_size=0.5, random_state=12345)"
   ]
  },
  {
   "cell_type": "code",
   "execution_count": 16,
   "metadata": {},
   "outputs": [],
   "source": [
    "numeric = ['credit_score', 'balance', 'estimated_salary']\n",
    "scaler = StandardScaler()\n",
    "scaler.fit(features_train[numeric])\n",
    "features_train[numeric] = scaler.transform(features_train[numeric])\n",
    "features_valid[numeric] = scaler.transform(features_valid[numeric])\n",
    "features_test[numeric] = scaler.transform(features_test[numeric])"
   ]
  },
  {
   "cell_type": "code",
   "execution_count": 17,
   "metadata": {},
   "outputs": [
    {
     "data": {
      "text/html": [
       "<div>\n",
       "<style scoped>\n",
       "    .dataframe tbody tr th:only-of-type {\n",
       "        vertical-align: middle;\n",
       "    }\n",
       "\n",
       "    .dataframe tbody tr th {\n",
       "        vertical-align: top;\n",
       "    }\n",
       "\n",
       "    .dataframe thead th {\n",
       "        text-align: right;\n",
       "    }\n",
       "</style>\n",
       "<table border=\"1\" class=\"dataframe\">\n",
       "  <thead>\n",
       "    <tr style=\"text-align: right;\">\n",
       "      <th></th>\n",
       "      <th>credit_score</th>\n",
       "      <th>balance</th>\n",
       "      <th>num_of_products</th>\n",
       "      <th>has_cr_card</th>\n",
       "      <th>is_active_member</th>\n",
       "      <th>estimated_salary</th>\n",
       "      <th>geography_Germany</th>\n",
       "      <th>geography_Spain</th>\n",
       "      <th>gender_Male</th>\n",
       "      <th>age_c_B</th>\n",
       "      <th>age_c_C</th>\n",
       "      <th>age_c_D</th>\n",
       "      <th>age_c_E</th>\n",
       "      <th>age_c_F</th>\n",
       "      <th>tenure_с_B</th>\n",
       "      <th>tenure_с_C</th>\n",
       "      <th>tenure_с_D</th>\n",
       "    </tr>\n",
       "  </thead>\n",
       "  <tbody>\n",
       "    <tr>\n",
       "      <th>8483</th>\n",
       "      <td>0.809075</td>\n",
       "      <td>0.554904</td>\n",
       "      <td>1</td>\n",
       "      <td>1</td>\n",
       "      <td>0</td>\n",
       "      <td>0.019508</td>\n",
       "      <td>0</td>\n",
       "      <td>0</td>\n",
       "      <td>0</td>\n",
       "      <td>1</td>\n",
       "      <td>0</td>\n",
       "      <td>0</td>\n",
       "      <td>0</td>\n",
       "      <td>0</td>\n",
       "      <td>0</td>\n",
       "      <td>0</td>\n",
       "      <td>1</td>\n",
       "    </tr>\n",
       "    <tr>\n",
       "      <th>3431</th>\n",
       "      <td>-1.152518</td>\n",
       "      <td>0.480609</td>\n",
       "      <td>1</td>\n",
       "      <td>0</td>\n",
       "      <td>0</td>\n",
       "      <td>0.056167</td>\n",
       "      <td>0</td>\n",
       "      <td>0</td>\n",
       "      <td>1</td>\n",
       "      <td>1</td>\n",
       "      <td>0</td>\n",
       "      <td>0</td>\n",
       "      <td>0</td>\n",
       "      <td>0</td>\n",
       "      <td>1</td>\n",
       "      <td>0</td>\n",
       "      <td>0</td>\n",
       "    </tr>\n",
       "    <tr>\n",
       "      <th>6770</th>\n",
       "      <td>-0.398853</td>\n",
       "      <td>-1.237830</td>\n",
       "      <td>1</td>\n",
       "      <td>1</td>\n",
       "      <td>1</td>\n",
       "      <td>0.848738</td>\n",
       "      <td>0</td>\n",
       "      <td>0</td>\n",
       "      <td>1</td>\n",
       "      <td>0</td>\n",
       "      <td>0</td>\n",
       "      <td>1</td>\n",
       "      <td>0</td>\n",
       "      <td>0</td>\n",
       "      <td>0</td>\n",
       "      <td>0</td>\n",
       "      <td>0</td>\n",
       "    </tr>\n",
       "    <tr>\n",
       "      <th>1350</th>\n",
       "      <td>-0.749875</td>\n",
       "      <td>-1.237830</td>\n",
       "      <td>2</td>\n",
       "      <td>1</td>\n",
       "      <td>1</td>\n",
       "      <td>-0.894953</td>\n",
       "      <td>0</td>\n",
       "      <td>0</td>\n",
       "      <td>1</td>\n",
       "      <td>0</td>\n",
       "      <td>0</td>\n",
       "      <td>1</td>\n",
       "      <td>0</td>\n",
       "      <td>0</td>\n",
       "      <td>1</td>\n",
       "      <td>0</td>\n",
       "      <td>0</td>\n",
       "    </tr>\n",
       "    <tr>\n",
       "      <th>4047</th>\n",
       "      <td>-1.028628</td>\n",
       "      <td>-1.237830</td>\n",
       "      <td>2</td>\n",
       "      <td>0</td>\n",
       "      <td>1</td>\n",
       "      <td>-1.284516</td>\n",
       "      <td>0</td>\n",
       "      <td>0</td>\n",
       "      <td>1</td>\n",
       "      <td>0</td>\n",
       "      <td>1</td>\n",
       "      <td>0</td>\n",
       "      <td>0</td>\n",
       "      <td>0</td>\n",
       "      <td>0</td>\n",
       "      <td>1</td>\n",
       "      <td>0</td>\n",
       "    </tr>\n",
       "  </tbody>\n",
       "</table>\n",
       "</div>"
      ],
      "text/plain": [
       "      credit_score   balance  num_of_products  has_cr_card  is_active_member  \\\n",
       "8483      0.809075  0.554904                1            1                 0   \n",
       "3431     -1.152518  0.480609                1            0                 0   \n",
       "6770     -0.398853 -1.237830                1            1                 1   \n",
       "1350     -0.749875 -1.237830                2            1                 1   \n",
       "4047     -1.028628 -1.237830                2            0                 1   \n",
       "\n",
       "      estimated_salary  geography_Germany  geography_Spain  gender_Male  \\\n",
       "8483          0.019508                  0                0            0   \n",
       "3431          0.056167                  0                0            1   \n",
       "6770          0.848738                  0                0            1   \n",
       "1350         -0.894953                  0                0            1   \n",
       "4047         -1.284516                  0                0            1   \n",
       "\n",
       "      age_c_B  age_c_C  age_c_D  age_c_E  age_c_F  tenure_с_B  tenure_с_C  \\\n",
       "8483        1        0        0        0        0           0           0   \n",
       "3431        1        0        0        0        0           1           0   \n",
       "6770        0        0        1        0        0           0           0   \n",
       "1350        0        0        1        0        0           1           0   \n",
       "4047        0        1        0        0        0           0           1   \n",
       "\n",
       "      tenure_с_D  \n",
       "8483           1  \n",
       "3431           0  \n",
       "6770           0  \n",
       "1350           0  \n",
       "4047           0  "
      ]
     },
     "execution_count": 17,
     "metadata": {},
     "output_type": "execute_result"
    }
   ],
   "source": [
    "features_train.head()"
   ]
  },
  {
   "cell_type": "markdown",
   "metadata": {},
   "source": [
    "Полученную таблицу допустимо исмользовать для дальнейших исследований моделей."
   ]
  },
  {
   "cell_type": "markdown",
   "metadata": {},
   "source": [
    "## Исследование задачи"
   ]
  },
  {
   "cell_type": "markdown",
   "metadata": {},
   "source": [
    "Определим соотношение классов в тренировочном датасете"
   ]
  },
  {
   "cell_type": "code",
   "execution_count": 18,
   "metadata": {},
   "outputs": [
    {
     "data": {
      "text/plain": [
       "0    4328\n",
       "1    1126\n",
       "Name: exited, dtype: int64"
      ]
     },
     "execution_count": 18,
     "metadata": {},
     "output_type": "execute_result"
    }
   ],
   "source": [
    "target_train.value_counts()"
   ]
  },
  {
   "cell_type": "markdown",
   "metadata": {},
   "source": [
    "Опробуем метод прогноза по константе, дисбаланс сильно влияет на результаты, константаная модель работает в 79% случаев."
   ]
  },
  {
   "cell_type": "code",
   "execution_count": 19,
   "metadata": {},
   "outputs": [
    {
     "data": {
      "text/plain": [
       "0.7935460212687936"
      ]
     },
     "execution_count": 19,
     "metadata": {},
     "output_type": "execute_result"
    }
   ],
   "source": [
    "from sklearn.dummy import DummyClassifier\n",
    "\n",
    "clf = DummyClassifier(strategy='most_frequent', random_state=12345)\n",
    "clf.fit(features_train, target_train)\n",
    "clf.score(features_train, target_train)"
   ]
  },
  {
   "cell_type": "markdown",
   "metadata": {},
   "source": [
    "В целях эксперимента обучим модель, возьмем для этого модель случайного леса."
   ]
  },
  {
   "cell_type": "code",
   "execution_count": 30,
   "metadata": {},
   "outputs": [],
   "source": [
    "# Датафрейм в размере равном гиперпараметрам depth и n_estimators\n",
    "forest_unbalanced = pd.DataFrame(index=range(1, 11), columns=range(100, 501, 20))"
   ]
  },
  {
   "cell_type": "code",
   "execution_count": 31,
   "metadata": {},
   "outputs": [
    {
     "name": "stdout",
     "output_type": "stream",
     "text": [
      "Лучшее соотношение гиперпараметров:\n",
      "      depth - 9\n",
      "      n_estimators - 200\n",
      "      accuracy равен: 0.8641364136413642\n",
      "CPU times: user 3min 19s, sys: 970 ms, total: 3min 20s\n",
      "Wall time: 3min 20s\n"
     ]
    }
   ],
   "source": [
    "%%time\n",
    "# С помощью цикла определим лучшие значения гиперпараметров модели\n",
    "best_depth = 0\n",
    "best_est = 0\n",
    "best_accuracy = 0\n",
    "best_model_unbalanced = None\n",
    "for depth in range(1, 11):\n",
    "    for est in range(100, 501, 20):\n",
    "        model_unbalanced = RandomForestClassifier(random_state=12345, max_depth=depth, n_estimators=est)\n",
    "        model_unbalanced.fit(features_train, target_train)\n",
    "        prediction_unbalanced = model_unbalanced.predict(features_valid)\n",
    "        accuracy_unbalanced = accuracy_score(target_valid, prediction_unbalanced)\n",
    "        forest_unbalanced.loc[depth, est] = accuracy_unbalanced\n",
    "        if accuracy_unbalanced > best_accuracy:\n",
    "            best_accuracy = accuracy_unbalanced\n",
    "            best_est = est\n",
    "            best_depth = depth\n",
    "            best_model_unbalanced = model_unbalanced\n",
    "print(f'''Лучшее соотношение гиперпараметров:\n",
    "      depth - {best_depth}\n",
    "      n_estimators - {best_est}\n",
    "      accuracy равен: {best_accuracy}''')"
   ]
  },
  {
   "cell_type": "code",
   "execution_count": 32,
   "metadata": {},
   "outputs": [
    {
     "data": {
      "image/png": "[encoded data removed]",
      "text/plain": [
       "<Figure size 1080x504 with 2 Axes>"
      ]
     },
     "metadata": {
      "needs_background": "light"
     },
     "output_type": "display_data"
    }
   ],
   "source": [
    "# Строим heatmap\n",
    "plt.figure(figsize=(15, 7))\n",
    "sns.heatmap(forest_unbalanced.astype('float'), annot = True, fmt='.3f')\n",
    "plt.xlabel('Количество деревьев n_estimators')\n",
    "plt.ylabel('Глубина дерева max_depth')\n",
    "plt.title('Результат обучения модели RandomForestClassifier')\n",
    "plt.show()"
   ]
  },
  {
   "cell_type": "markdown",
   "metadata": {},
   "source": [
    "Посмотрим метрики"
   ]
  },
  {
   "cell_type": "code",
   "execution_count": 33,
   "metadata": {},
   "outputs": [
    {
     "name": "stdout",
     "output_type": "stream",
     "text": [
      "              precision    recall  f1-score   support\n",
      "\n",
      "    Остаётся       0.87      0.98      0.92      1441\n",
      "      Уходит       0.82      0.43      0.57       377\n",
      "\n",
      "    accuracy                           0.86      1818\n",
      "   macro avg       0.85      0.70      0.74      1818\n",
      "weighted avg       0.86      0.86      0.85      1818\n",
      "\n"
     ]
    }
   ],
   "source": [
    "from sklearn.metrics import classification_report\n",
    "\n",
    "report = classification_report(target_valid, prediction_unbalanced, target_names=['Остаётся', 'Уходит'])\n",
    "print(report)"
   ]
  },
  {
   "cell_type": "code",
   "execution_count": 34,
   "metadata": {},
   "outputs": [
    {
     "data": {
      "text/plain": [
       "0.5669565217391304"
      ]
     },
     "execution_count": 34,
     "metadata": {},
     "output_type": "execute_result"
    }
   ],
   "source": [
    "# Взглянем подробнее\n",
    "f1_score(target_valid, prediction_unbalanced)"
   ]
  },
  {
   "cell_type": "markdown",
   "metadata": {},
   "source": [
    "Полнота у класса 1 меньше 50%. В большинстве случаев она угадывает, но при этом охватывает всего 43% класса. В дальнейшем рекомендуется изменить размер порога вхождения в класс 1 с целью сбалансировать соотношение точности и полноты."
   ]
  },
  {
   "cell_type": "code",
   "execution_count": 25,
   "metadata": {},
   "outputs": [],
   "source": [
    "#sns.heatmap(c_m, annot = True, fmt='.0f')\n",
    "#plt.xlabel('Количество деревьев n_estimators')\n",
    "#plt.ylabel('Глубина дерева max_depth')\n",
    "#plt.title('Результат обучения модели RandomForestClassifier')\n",
    "#plt.show()"
   ]
  },
  {
   "cell_type": "code",
   "execution_count": 35,
   "metadata": {},
   "outputs": [
    {
     "data": {
      "text/plain": [
       "<Figure size 504x504 with 0 Axes>"
      ]
     },
     "metadata": {},
     "output_type": "display_data"
    },
    {
     "data": {
      "image/png": "[encoded data removed]",
      "text/plain": [
       "<Figure size 432x288 with 2 Axes>"
      ]
     },
     "metadata": {
      "needs_background": "light"
     },
     "output_type": "display_data"
    }
   ],
   "source": [
    "# построим матрицу ошибок\n",
    "from sklearn.metrics import confusion_matrix, ConfusionMatrixDisplay\n",
    "\n",
    "c_m = confusion_matrix(target_valid, prediction_unbalanced, labels=model_unbalanced.classes_)\n",
    "plt.figure(figsize=(7, 7))\n",
    "disp = ConfusionMatrixDisplay(confusion_matrix=c_m,\n",
    "                               display_labels=['Остаётся', 'Уходит'])\n",
    "disp.plot()\n",
    "plt.show()\n"
   ]
  },
  {
   "cell_type": "markdown",
   "metadata": {},
   "source": [
    "На иллюстрации видно, что полнота предсказания составляет всего 43% Попробуем в дальнейшем подобрать показатель Treshhold для нахождения баланса."
   ]
  },
  {
   "cell_type": "code",
   "execution_count": 38,
   "metadata": {},
   "outputs": [
    {
     "data": {
      "image/png": "[encoded data removed]",
      "text/plain": [
       "<Figure size 432x432 with 1 Axes>"
      ]
     },
     "metadata": {
      "needs_background": "light"
     },
     "output_type": "display_data"
    },
    {
     "name": "stdout",
     "output_type": "stream",
     "text": [
      "AUC-ROC равен 0.8621352324958536\n"
     ]
    }
   ],
   "source": [
    "from sklearn.metrics import roc_curve \n",
    "from sklearn.metrics import roc_auc_score\n",
    "# Смотрим отличие модели от рандомного предсказания\n",
    "\n",
    "probabilities_valid = best_model_unbalanced.predict_proba(features_valid)\n",
    "probabilities_one_valid = probabilities_valid[:, 1]\n",
    "\n",
    "fpr, tpr, thresholds = roc_curve(target_valid, probabilities_one_valid) \n",
    "\n",
    "plt.figure(figsize=(6, 6))\n",
    "\n",
    "plt.step(fpr, tpr, where='post')\n",
    "plt.plot([0, 1], [0, 1])\n",
    "\n",
    "plt.xlabel('False-positive rate')\n",
    "plt.ylabel('True-positive rate')\n",
    "plt.ylim([0.0, 1.0])\n",
    "plt.xlim([0.0, 1.0])\n",
    "plt.title('ROC-кривая')\n",
    "plt.show() \n",
    "print('AUC-ROC равен', roc_auc_score(target_valid, probabilities_one_valid))"
   ]
  },
  {
   "cell_type": "markdown",
   "metadata": {},
   "source": [
    "## Борьба с дисбалансом"
   ]
  },
  {
   "cell_type": "markdown",
   "metadata": {},
   "source": [
    "Для борьбы с дисбалансом применим следующие методики:\n",
    "- сбалансируем классы аргументом class_weight\n",
    "- upsampling \n",
    "- downsampling \n",
    "- установление порога классификации"
   ]
  },
  {
   "cell_type": "markdown",
   "metadata": {},
   "source": [
    "### баласировка веса классов"
   ]
  },
  {
   "cell_type": "code",
   "execution_count": 45,
   "metadata": {},
   "outputs": [
    {
     "name": "stdout",
     "output_type": "stream",
     "text": [
      "0.8360836083608361\n",
      "0.6265664160401003\n",
      "CPU times: user 967 ms, sys: 12 ms, total: 978 ms\n",
      "Wall time: 979 ms\n"
     ]
    }
   ],
   "source": [
    "%%time\n",
    "# С помощью цикла определим лучшие значения гиперпараметров модели\n",
    "model = RandomForestClassifier(random_state=12345, max_depth=9, n_estimators=200,\n",
    "                              class_weight='balanced')\n",
    "model.fit(features_train, target_train)\n",
    "prediction = model.predict(features_valid)\n",
    "print(accuracy_score(target_valid, prediction))\n",
    "print(f1_score(target_valid, prediction))"
   ]
  },
  {
   "cell_type": "markdown",
   "metadata": {},
   "source": [
    "При балансировке классов accuracy снизился на 3%, казалось бы, плохой результат, но посмотрим другие метрики."
   ]
  },
  {
   "cell_type": "code",
   "execution_count": 46,
   "metadata": {},
   "outputs": [
    {
     "name": "stdout",
     "output_type": "stream",
     "text": [
      "              precision    recall  f1-score   support\n",
      "\n",
      "    Остаётся       0.91      0.88      0.89      1441\n",
      "      Уходит       0.59      0.66      0.63       377\n",
      "\n",
      "    accuracy                           0.84      1818\n",
      "   macro avg       0.75      0.77      0.76      1818\n",
      "weighted avg       0.84      0.84      0.84      1818\n",
      "\n"
     ]
    }
   ],
   "source": [
    "report = classification_report(target_valid, prediction, target_names=['Остаётся', 'Уходит'])\n",
    "print(report)"
   ]
  },
  {
   "cell_type": "code",
   "execution_count": 47,
   "metadata": {},
   "outputs": [
    {
     "data": {
      "text/plain": [
       "<Figure size 504x504 with 0 Axes>"
      ]
     },
     "metadata": {},
     "output_type": "display_data"
    },
    {
     "data": {
      "image/png": "[encoded data removed]",
      "text/plain": [
       "<Figure size 432x288 with 2 Axes>"
      ]
     },
     "metadata": {
      "needs_background": "light"
     },
     "output_type": "display_data"
    }
   ],
   "source": [
    "cm = confusion_matrix(target_valid, prediction, labels=model.classes_)\n",
    "plt.figure(figsize=(7, 7))\n",
    "disp = ConfusionMatrixDisplay(confusion_matrix=cm,\n",
    "                               display_labels=['Остаётся', 'Уходит'])\n",
    "disp.plot()\n",
    "plt.show()"
   ]
  },
  {
   "cell_type": "markdown",
   "metadata": {},
   "source": [
    "Точность модели снизилась, однако полнота возросла, теперь большую часть уходящих мдель в состоянии предстказать, не исключая ошибок. F1-мера возросла на 6% по классу 1, при падении в классе 0 всего на 3%"
   ]
  },
  {
   "cell_type": "markdown",
   "metadata": {},
   "source": [
    "### Upsampling"
   ]
  },
  {
   "cell_type": "code",
   "execution_count": 48,
   "metadata": {},
   "outputs": [],
   "source": [
    "# напишем функцию для апсемплинга\n",
    "def upsample(features, target, repeat):\n",
    "    features_zeros = features[target == 0]\n",
    "    features_ones = features[target == 1]\n",
    "    target_zeros = target[target == 0]\n",
    "    target_ones = target[target == 1]\n",
    "\n",
    "    features_upsampled = pd.concat([features_zeros] + [features_ones] * repeat)\n",
    "    target_upsampled = pd.concat([target_zeros] + [target_ones] * repeat)\n",
    "    \n",
    "    features_upsampled, target_upsampled = shuffle(\n",
    "        features_upsampled, target_upsampled, random_state=12345)\n",
    "    \n",
    "    return features_upsampled, target_upsampled"
   ]
  },
  {
   "cell_type": "code",
   "execution_count": 49,
   "metadata": {},
   "outputs": [
    {
     "name": "stdout",
     "output_type": "stream",
     "text": [
      "лучший множитель: 4, \n",
      " лучший f1 0.6165919282511211\n"
     ]
    }
   ],
   "source": [
    "from sklearn.utils import shuffle\n",
    "# путем перебора находим лучший множитель\n",
    "best_f1 = 0\n",
    "best_sample = 0\n",
    "for i in range(2, 11, 2):\n",
    "    features_upsampled, target_upsampled = upsample(features_train, target_train, i)\n",
    "    model = RandomForestClassifier(random_state=12345, max_depth=9, n_estimators=200)\n",
    "    model.fit(features_upsampled, target_upsampled)\n",
    "    prediction = model.predict(features_valid)\n",
    "    f1 = f1_score(target_valid, prediction)\n",
    "    if f1 > best_f1:\n",
    "        best_f1 = f1\n",
    "        best_sample = i\n",
    "print(f'лучший множитель: {best_sample}\\nлучший f1 {best_f1}')"
   ]
  },
  {
   "cell_type": "markdown",
   "metadata": {},
   "source": [
    "Сам по себе оверсемплинг поднял показатель F1 на 5% в сравнении с несбалансированной выборкой, самый эффективный множитель 4. Ради интереса сделаем уравновесим классы в самой модели:"
   ]
  },
  {
   "cell_type": "code",
   "execution_count": 50,
   "metadata": {},
   "outputs": [
    {
     "name": "stdout",
     "output_type": "stream",
     "text": [
      "лучший множитель: 2, \n",
      " лучший f1 0.6338028169014085\n"
     ]
    }
   ],
   "source": [
    "best_f1 = 0\n",
    "best_sample = 0\n",
    "# аналогично предыдущему, но с параметром class_weight\n",
    "for i in range(2, 11, 2):\n",
    "    features_upsampled, target_upsampled = upsample(features_train, target_train, i)\n",
    "    model = RandomForestClassifier(random_state=12345, max_depth=9, n_estimators=200,\n",
    "                              class_weight='balanced')\n",
    "    model.fit(features_upsampled, target_upsampled)\n",
    "    prediction = model.predict(features_valid)\n",
    "    f1 = f1_score(target_valid, prediction)\n",
    "    if f1 > best_f1:\n",
    "        best_f1 = f1\n",
    "        best_sample = i\n",
    "print(f'лучший множитель: {best_sample},\\n лучший f1 {best_f1}')"
   ]
  },
  {
   "cell_type": "markdown",
   "metadata": {},
   "source": [
    "Путем комбинации двух методов мерика F1 выросла на 6% в сравнении с несбалансированными классами и на 1% в сравнении с просто сбалансированной моделью."
   ]
  },
  {
   "cell_type": "markdown",
   "metadata": {},
   "source": [
    "### Downsampling"
   ]
  },
  {
   "cell_type": "code",
   "execution_count": 53,
   "metadata": {},
   "outputs": [],
   "source": [
    "# функция для сокращения большего класа и смешивания данных\n",
    "def downsample(features, target, fraction):\n",
    "    features_ones = features[target == 1]\n",
    "    features_zeros = features[target == 0]\n",
    "    target_ones = target[target == 1]\n",
    "    target_zeros = target[target == 0]\n",
    "    \n",
    "    features_downsampled = pd.concat(\n",
    "        [features_zeros.sample(frac=fraction, random_state=12345)] + [features_ones])\n",
    "    target_downsampled = pd.concat(\n",
    "        [target_zeros.sample(frac=fraction, random_state=12345)] + [target_ones])\n",
    "    features_downsampled, target_downsampled = shuffle(\n",
    "        features_downsampled, target_downsampled, random_state=12345)\n",
    "    return features_downsampled, target_downsampled"
   ]
  },
  {
   "cell_type": "code",
   "execution_count": 56,
   "metadata": {},
   "outputs": [
    {
     "name": "stdout",
     "output_type": "stream",
     "text": [
      "лучший множитель: 0.4,\n",
      " лучший f1 0.6355382619974059\n"
     ]
    }
   ],
   "source": [
    "import numpy as np\n",
    "# ищем множитель\n",
    "best_f1 = 0\n",
    "best_frac = 0\n",
    "for frac in np.arange(0.1, 0.9, 0.1):\n",
    "    features_downsampled, target_downsampled = downsample(features_train, target_train, frac)\n",
    "    model = RandomForestClassifier(random_state=12345, max_depth=9, n_estimators=200)\n",
    "    model.fit(features_downsampled, target_downsampled)\n",
    "    prediction = model.predict(features_valid)\n",
    "    f1 = f1_score(target_valid, prediction)\n",
    "    if f1 > best_f1:\n",
    "        best_f1 = f1\n",
    "        best_frac = frac\n",
    "print(f'лучший множитель: {best_frac}\\nлучший f1 {best_f1}')"
   ]
  },
  {
   "cell_type": "markdown",
   "metadata": {},
   "source": [
    "Downsampling улучшил F1 на 2% в сравнении с Upsampling и его комбинацией с аргументом class_weight. Проверим комбинацию и на нем."
   ]
  },
  {
   "cell_type": "code",
   "execution_count": 58,
   "metadata": {},
   "outputs": [
    {
     "name": "stdout",
     "output_type": "stream",
     "text": [
      "лучший множитель: 0.8,\n",
      " лучший f1 0.6310679611650487\n"
     ]
    }
   ],
   "source": [
    "import numpy as np\n",
    "# то же самое с балансом\n",
    "best_f1 = 0\n",
    "best_frac = 0\n",
    "for frac in np.arange(0.1, 0.9, 0.1):\n",
    "    features_downsampled, target_downsampled = downsample(features_train, target_train, frac)\n",
    "    model = RandomForestClassifier(random_state=12345, max_depth=9, n_estimators=200,\n",
    "                              class_weight='balanced')\n",
    "    model.fit(features_downsampled, target_downsampled)\n",
    "    prediction = model.predict(features_valid)\n",
    "    f1 = f1_score(target_valid, prediction)\n",
    "    if f1 > best_f1:\n",
    "        best_f1 = f1\n",
    "        best_frac = frac\n",
    "print(f'лучший множитель: {best_frac}\\nлучший f1 {best_f1}')"
   ]
  },
  {
   "cell_type": "markdown",
   "metadata": {},
   "source": [
    "Изменение аргумента class_weight не привело к росту F1-меры, простой downsampling показал себя эффективнее."
   ]
  },
  {
   "cell_type": "markdown",
   "metadata": {},
   "source": [
    "### Установление порога"
   ]
  },
  {
   "cell_type": "code",
   "execution_count": 62,
   "metadata": {},
   "outputs": [
    {
     "name": "stdout",
     "output_type": "stream",
     "text": [
      "Порог = 0.00 | Точность = 0.2074, Полнота = 1.0000, F1 = 0.3435\n",
      "Порог = 0.02 | Точность = 0.2083, Полнота = 1.0000, F1 = 0.3448\n",
      "Порог = 0.04 | Точность = 0.2248, Полнота = 0.9920, F1 = 0.3665\n",
      "Порог = 0.06 | Точность = 0.2497, Полнота = 0.9788, F1 = 0.3978\n",
      "Порог = 0.08 | Точность = 0.2788, Полнота = 0.9629, F1 = 0.4324\n",
      "Порог = 0.10 | Точность = 0.3152, Полнота = 0.9390, F1 = 0.4720\n",
      "Порог = 0.12 | Точность = 0.3468, Полнота = 0.9098, F1 = 0.5022\n",
      "Порог = 0.14 | Точность = 0.3758, Полнота = 0.8833, F1 = 0.5273\n",
      "Порог = 0.16 | Точность = 0.4030, Полнота = 0.8541, F1 = 0.5476\n",
      "Порог = 0.18 | Точность = 0.4324, Полнота = 0.8143, F1 = 0.5649\n",
      "Порог = 0.20 | Точность = 0.4589, Полнота = 0.7851, F1 = 0.5793\n",
      "Порог = 0.22 | Точность = 0.4878, Полнота = 0.7454, F1 = 0.5897\n",
      "Порог = 0.24 | Точность = 0.5224, Полнота = 0.7109, F1 = 0.6022\n",
      "Порог = 0.26 | Точность = 0.5520, Полнота = 0.6897, F1 = 0.6132\n",
      "Порог = 0.28 | Точность = 0.6111, Полнота = 0.6711, F1 = 0.6397\n",
      "Порог = 0.30 | Точность = 0.6330, Полнота = 0.6313, F1 = 0.6321\n",
      "Порог = 0.32 | Точность = 0.6647, Полнота = 0.5942, F1 = 0.6275\n",
      "Порог = 0.34 | Точность = 0.6984, Полнота = 0.5650, F1 = 0.6246\n",
      "Порог = 0.36 | Точность = 0.7143, Полнота = 0.5438, F1 = 0.6175\n",
      "Порог = 0.38 | Точность = 0.7358, Полнота = 0.5172, F1 = 0.6075\n",
      "лучший порог: 0.8\n",
      "лучший f1 0.6396965865992416\n"
     ]
    }
   ],
   "source": [
    "from sklearn.metrics import precision_score, recall_score\n",
    "# Снова обучим два варианата class_weight\n",
    "model = RandomForestClassifier(random_state=12345, max_depth=9, n_estimators=200)\n",
    "model.fit(features_train, target_train)\n",
    "probabilities_valid = model.predict_proba(features_valid)\n",
    "probabilities_one_valid = probabilities_valid[:, 1]\n",
    "\n",
    "best_treshold = 0\n",
    "best_f1 = 0\n",
    "for threshold in np.arange(0, 0.4, 0.02):\n",
    "    predicted_valid = probabilities_one_valid > threshold \n",
    "    precision = precision_score(target_valid, predicted_valid)\n",
    "    recall = recall_score(target_valid, predicted_valid)\n",
    "    f1 = f1_score(target_valid, predicted_valid)\n",
    "    if f1 > best_f1:\n",
    "        best_f1 = f1\n",
    "        best_treshold = threshold\n",
    "    print(\"Порог = {:.2f} | Точность = {:.4f}, Полнота = {:.4f}, F1 = {:.4f}\".format(\n",
    "        threshold, precision, recall, f1))\n",
    "print(f'лучший порог: {best_frac}\\nлучший f1 {best_f1}')"
   ]
  },
  {
   "cell_type": "code",
   "execution_count": 63,
   "metadata": {},
   "outputs": [
    {
     "name": "stdout",
     "output_type": "stream",
     "text": [
      "Порог = 0.00 | Точность = 0.2074, Полнота = 1.0000, F1 = 0.3435\n",
      "Порог = 0.02 | Точность = 0.2074, Полнота = 1.0000, F1 = 0.3435\n",
      "Порог = 0.04 | Точность = 0.2075, Полнота = 1.0000, F1 = 0.3437\n",
      "Порог = 0.06 | Точность = 0.2104, Полнота = 0.9973, F1 = 0.3475\n",
      "Порог = 0.08 | Точность = 0.2182, Полнота = 0.9947, F1 = 0.3578\n",
      "Порог = 0.10 | Точность = 0.2279, Полнота = 0.9867, F1 = 0.3703\n",
      "Порог = 0.12 | Точность = 0.2347, Полнота = 0.9841, F1 = 0.3790\n",
      "Порог = 0.14 | Точность = 0.2429, Полнота = 0.9814, F1 = 0.3895\n",
      "Порог = 0.16 | Точность = 0.2588, Полнота = 0.9788, F1 = 0.4093\n",
      "Порог = 0.18 | Точность = 0.2696, Полнота = 0.9682, F1 = 0.4217\n",
      "Порог = 0.20 | Точность = 0.2833, Полнота = 0.9523, F1 = 0.4367\n",
      "Порог = 0.22 | Точность = 0.2996, Полнота = 0.9416, F1 = 0.4545\n",
      "Порог = 0.24 | Точность = 0.3146, Полнота = 0.9337, F1 = 0.4706\n",
      "Порог = 0.26 | Точность = 0.3279, Полнота = 0.9125, F1 = 0.4825\n",
      "Порог = 0.28 | Точность = 0.3432, Полнота = 0.8939, F1 = 0.4960\n",
      "Порог = 0.30 | Точность = 0.3568, Полнота = 0.8859, F1 = 0.5088\n",
      "Порог = 0.32 | Точность = 0.3730, Полнота = 0.8727, F1 = 0.5226\n",
      "Порог = 0.34 | Точность = 0.3995, Полнота = 0.8700, F1 = 0.5476\n",
      "Порог = 0.36 | Точность = 0.4204, Полнота = 0.8541, F1 = 0.5634\n",
      "Порог = 0.38 | Точность = 0.4332, Полнота = 0.8170, F1 = 0.5662\n",
      "лучший порог: 0.8\n",
      "лучший f1 0.5661764705882353\n"
     ]
    }
   ],
   "source": [
    "model = RandomForestClassifier(random_state=12345, max_depth=9, n_estimators=200, class_weight='balanced')\n",
    "model.fit(features_train, target_train)\n",
    "probabilities_valid = model.predict_proba(features_valid)\n",
    "probabilities_one_valid = probabilities_valid[:, 1]\n",
    "\n",
    "best_treshold = 0\n",
    "best_f1 = 0\n",
    "for threshold in np.arange(0, 0.4, 0.02):\n",
    "    predicted_valid = probabilities_one_valid > threshold \n",
    "    precision = precision_score(target_valid, predicted_valid)\n",
    "    recall = recall_score(target_valid, predicted_valid)\n",
    "    f1 = f1_score(target_valid, predicted_valid)\n",
    "    if f1 > best_f1:\n",
    "        best_f1 = f1\n",
    "        best_treshold = threshold\n",
    "    print(\"Порог = {:.2f} | Точность = {:.4f}, Полнота = {:.4f}, F1 = {:.4f}\".format(\n",
    "        threshold, precision, recall, f1))\n",
    "print(f'лучший порог: {best_frac}\\nлучший f1 {best_f1}')"
   ]
  },
  {
   "cell_type": "markdown",
   "metadata": {},
   "source": [
    "В сочетании с class_weight изменение порога вызвало рост полноты и падение точности. \n",
    "\n",
    "Данное сочетание отбрасываем."
   ]
  },
  {
   "cell_type": "markdown",
   "metadata": {},
   "source": [
    "### Выбор лучшей модели"
   ]
  },
  {
   "cell_type": "markdown",
   "metadata": {},
   "source": [
    "Для формирования лучшей модели попробуем объединить метод даун-семплинга и изменения порога."
   ]
  },
  {
   "cell_type": "code",
   "execution_count": 91,
   "metadata": {},
   "outputs": [
    {
     "name": "stdout",
     "output_type": "stream",
     "text": [
      "лучший множитель: 0.7000000000000001\n",
      "лучший f1 0.641025641025641\n",
      "лучший treshold 0.36             \n",
      "лучший best_class_weight None\n",
      "\n",
      "CPU times: user 12 s, sys: 88 ms, total: 12.1 s\n",
      "Wall time: 12.1 s\n"
     ]
    }
   ],
   "source": [
    "%%time\n",
    "best_f1 = 0\n",
    "best_frac = 0\n",
    "best_treshold = 0\n",
    "best_f1 = 0\n",
    "best_class_weight = None\n",
    "best_model = None\n",
    "best_predicted_valid = None\n",
    "# перебираем class_weight и множители\n",
    "for class_weight in ['balanced', None]:\n",
    "    for frac in np.arange(0.1, 0.9, 0.1):\n",
    "        features_downsampled, target_downsampled = downsample(features_train, target_train, frac)\n",
    "        model = RandomForestClassifier(random_state=12345, max_depth=9, n_estimators=200,\n",
    "                                      class_weight=class_weight)\n",
    "        model.fit(features_downsampled, target_downsampled)\n",
    "            \n",
    "        probabilities_valid = model.predict_proba(features_valid)\n",
    "        probabilities_one_valid = probabilities_valid[:, 1]\n",
    "        # перебираем порог    \n",
    "        for threshold in np.arange(0, 0.4, 0.02):\n",
    "            predicted_valid = probabilities_one_valid > threshold \n",
    "            precision = precision_score(target_valid, predicted_valid)\n",
    "            recall = recall_score(target_valid, predicted_valid)\n",
    "            f1 = f1_score(target_valid, predicted_valid)\n",
    "        \n",
    "            if f1 > best_f1:\n",
    "                best_f1 = f1\n",
    "                best_frac = frac\n",
    "                best_treshold = threshold\n",
    "                best_class_weight =class_weight\n",
    "                best_model = model\n",
    "                best_predicted_valid = predicted_valid\n",
    "        \n",
    "print(f'лучший множитель: {best_frac}\\nлучший f1 {best_f1}\\nлучший treshold {best_treshold} \\\n",
    "            \\nлучший best_class_weight {class_weight}\\n')"
   ]
  },
  {
   "cell_type": "code",
   "execution_count": 92,
   "metadata": {},
   "outputs": [
    {
     "name": "stdout",
     "output_type": "stream",
     "text": [
      "              precision    recall  f1-score   support\n",
      "\n",
      "    Остаётся       0.91      0.89      0.90      1441\n",
      "      Уходит       0.62      0.66      0.64       377\n",
      "\n",
      "    accuracy                           0.85      1818\n",
      "   macro avg       0.77      0.78      0.77      1818\n",
      "weighted avg       0.85      0.85      0.85      1818\n",
      "\n"
     ]
    }
   ],
   "source": [
    "# посмотрим показатели лучшей модели\n",
    "report = classification_report(target_valid, best_predicted_valid, target_names=['Остаётся', 'Уходит'])\n",
    "print(report)"
   ]
  },
  {
   "cell_type": "code",
   "execution_count": 93,
   "metadata": {},
   "outputs": [
    {
     "data": {
      "text/plain": [
       "<Figure size 504x504 with 0 Axes>"
      ]
     },
     "metadata": {},
     "output_type": "display_data"
    },
    {
     "data": {
      "image/png": "[encoded data removed]",
      "text/plain": [
       "<Figure size 432x288 with 2 Axes>"
      ]
     },
     "metadata": {
      "needs_background": "light"
     },
     "output_type": "display_data"
    }
   ],
   "source": [
    "# посмотрим на соотношение ошибок\n",
    "cm_model = confusion_matrix(target_valid, best_predicted_valid, labels=model.classes_)\n",
    "plt.figure(figsize=(7, 7))\n",
    "disp = ConfusionMatrixDisplay(confusion_matrix=cm_model,\n",
    "                               display_labels=['Остаётся', 'Уходит'])\n",
    "disp.plot()\n",
    "plt.show()"
   ]
  },
  {
   "cell_type": "markdown",
   "metadata": {},
   "source": [
    "В сравнении с обычной балансировкой веса классов картина в классе \"Уходит\" или 1 осталась прежней, однако при этом снизилась доля ошибки в классе \"Остаётся\" или 0.\n",
    "Комбинация двух методов даунсемплинга и регулирование порога дало наилучший результат на валидационной выборке, возьмем эту модель для окончательного тестирования."
   ]
  },
  {
   "cell_type": "markdown",
   "metadata": {},
   "source": [
    "## Тестирование модели"
   ]
  },
  {
   "cell_type": "markdown",
   "metadata": {},
   "source": [
    "Протестируем модель на тестовых данных"
   ]
  },
  {
   "cell_type": "code",
   "execution_count": 95,
   "metadata": {},
   "outputs": [
    {
     "name": "stdout",
     "output_type": "stream",
     "text": [
      "f1 0.6013605442176871\n",
      "recall 0.6296296296296297             \n",
      "precision 0.5755208333333334\n",
      "\n",
      "              precision    recall  f1-score   support\n",
      "\n",
      "    Остаётся       0.91      0.89      0.90      1468\n",
      "      Уходит       0.58      0.63      0.60       351\n",
      "\n",
      "    accuracy                           0.84      1819\n",
      "   macro avg       0.74      0.76      0.75      1819\n",
      "weighted avg       0.84      0.84      0.84      1819\n",
      "\n"
     ]
    }
   ],
   "source": [
    "# определим вероятность прогноза класса 1\n",
    "probabilities_test = best_model.predict_proba(features_test)\n",
    "probabilities_one_test = probabilities_test[:, 1]\n",
    "# установим лучший порог           \n",
    "predicted_test = probabilities_one_test > best_treshold\n",
    "precision = precision_score(target_test, predicted_test)\n",
    "recall = recall_score(target_test, predicted_test)\n",
    "f1 = f1_score(target_test, predicted_test)\n",
    "                \n",
    "print(f'f1 {f1}\\nrecall {recall} \\\n",
    "            \\nprecision {precision}\\n')\n",
    "print(classification_report(target_test, predicted_test, target_names=['Остаётся', 'Уходит']))"
   ]
  },
  {
   "cell_type": "markdown",
   "metadata": {},
   "source": [
    "Для эксперимента, обучим модель с найденными параментрами на более объемных данных, путем объединения обучающей и валидационной выборки."
   ]
  },
  {
   "cell_type": "code",
   "execution_count": 97,
   "metadata": {},
   "outputs": [],
   "source": [
    "# объединим выборки\n",
    "features_train_valid = pd.concat([features_train] + [features_valid])\n",
    "target_train_valid = pd.concat([target_train] + [target_valid])"
   ]
  },
  {
   "cell_type": "code",
   "execution_count": 98,
   "metadata": {},
   "outputs": [
    {
     "name": "stdout",
     "output_type": "stream",
     "text": [
      "f1 0.6002928257686676\n",
      "recall 0.584045584045584             \n",
      "precision 0.6174698795180723\n",
      "\n",
      "              precision    recall  f1-score   support\n",
      "\n",
      "    Остаётся       0.90      0.91      0.91      1468\n",
      "      Уходит       0.62      0.58      0.60       351\n",
      "\n",
      "    accuracy                           0.85      1819\n",
      "   macro avg       0.76      0.75      0.75      1819\n",
      "weighted avg       0.85      0.85      0.85      1819\n",
      "\n",
      "CPU times: user 963 ms, sys: 12 ms, total: 975 ms\n",
      "Wall time: 973 ms\n"
     ]
    }
   ],
   "source": [
    "%%time\n",
    "# даунсемплинг\n",
    "features_downsampled, target_downsampled = downsample(features_train_valid, target_train_valid, best_frac)\n",
    "# обучаем модель аналогично лучшей\n",
    "experimental_model = RandomForestClassifier(random_state=12345, max_depth=9, n_estimators=200)\n",
    "experimental_model.fit(features_downsampled, target_downsampled)\n",
    "\n",
    "probabilities_test_exp = model.predict_proba(features_test)\n",
    "probabilities_one_test_exp = probabilities_test_exp[:, 1]\n",
    "\n",
    "predicted_test_exp = probabilities_one_test_exp > best_treshold\n",
    "precision_test_exp = precision_score(target_test, predicted_test_exp)\n",
    "recall_test_exp = recall_score(target_test, predicted_test_exp)\n",
    "f1_test_exp = f1_score(target_test, predicted_test_exp)\n",
    "\n",
    "print(f'f1 {f1_test_exp}\\nrecall {recall_test_exp} \\\n",
    "            \\nprecision {precision_test_exp}\\n')\n",
    "print(classification_report(target_test, predicted_test_exp, target_names=['Остаётся', 'Уходит']))\n"
   ]
  },
  {
   "cell_type": "markdown",
   "metadata": {},
   "source": [
    "Качество модели незначительно снизилось, поэтому оставляем прежнюю модель с F1 = 0.6013"
   ]
  },
  {
   "cell_type": "markdown",
   "metadata": {},
   "source": [
    "### Визуализируем соотношение precision и recall. PR-кривая"
   ]
  },
  {
   "cell_type": "code",
   "execution_count": 105,
   "metadata": {},
   "outputs": [
    {
     "data": {
      "image/png": "[encoded data removed]",
      "text/plain": [
       "<Figure size 432x432 with 1 Axes>"
      ]
     },
     "metadata": {
      "needs_background": "light"
     },
     "output_type": "display_data"
    }
   ],
   "source": [
    "from sklearn.metrics import precision_recall_curve\n",
    "# Смотрим взаимозависимость показателей\n",
    "precision, recall, thresholds = precision_recall_curve(target_test, probabilities_one_test)\n",
    "\n",
    "plt.figure(figsize=(6, 6))\n",
    "plt.step(recall, precision, where='post')\n",
    "plt.xlabel('Recall')\n",
    "plt.ylabel('Precision')\n",
    "plt.ylim([0.0, 1.05])\n",
    "plt.xlim([0.0, 1.0])\n",
    "plt.title('Кривая Precision-Recall')\n",
    "plt.show() "
   ]
  },
  {
   "cell_type": "markdown",
   "metadata": {},
   "source": [
    "Не самое плохое соотношение точности и полноты"
   ]
  },
  {
   "cell_type": "markdown",
   "metadata": {},
   "source": [
    "### Построим ROC-кривую и найдем AUC-ROC"
   ]
  },
  {
   "cell_type": "code",
   "execution_count": 135,
   "metadata": {},
   "outputs": [
    {
     "data": {
      "image/png": "[encoded data removed]",
      "text/plain": [
       "<Figure size 432x432 with 1 Axes>"
      ]
     },
     "metadata": {
      "needs_background": "light"
     },
     "output_type": "display_data"
    },
    {
     "name": "stdout",
     "output_type": "stream",
     "text": [
      "AUC-ROC равен 0.8508096757415559\n"
     ]
    }
   ],
   "source": [
    "from sklearn.metrics import roc_curve \n",
    "from sklearn.metrics import roc_auc_score\n",
    "# Смотрим отличие модели от рандомного предсказания\n",
    "fpr, tpr, thresholds = roc_curve(target_test, probabilities_one_test) \n",
    "\n",
    "plt.figure(figsize=(6, 6))\n",
    "\n",
    "plt.step(fpr, tpr, where='post')\n",
    "plt.plot([0, 1], [0, 1])\n",
    "\n",
    "plt.xlabel('False-positive rate')\n",
    "plt.ylabel('True-positive rate')\n",
    "plt.ylim([0.0, 1.0])\n",
    "plt.xlim([0.0, 1.0])\n",
    "plt.title('ROC-кривая')\n",
    "plt.show() \n",
    "print('AUC-ROC равен', roc_auc_score(target_test, probabilities_one_test))"
   ]
  },
  {
   "cell_type": "markdown",
   "metadata": {},
   "source": [
    "Модель отличается от случайной на 35%, что делает её применение оправданным."
   ]
  }
 ],
 "metadata": {
  "ExecuteTimeLog": [
   {
    "duration": 47,
    "start_time": "2022-11-14T12:38:00.150Z"
   },
   {
    "duration": 6,
    "start_time": "2022-11-14T12:38:29.193Z"
   },
   {
    "duration": 40,
    "start_time": "2022-11-14T12:38:32.346Z"
   },
   {
    "duration": 7,
    "start_time": "2022-11-14T12:39:03.779Z"
   },
   {
    "duration": 1439,
    "start_time": "2022-11-14T12:39:27.915Z"
   },
   {
    "duration": 105,
    "start_time": "2022-11-14T12:40:11.355Z"
   },
   {
    "duration": 358,
    "start_time": "2022-11-14T12:40:14.882Z"
   },
   {
    "duration": 51,
    "start_time": "2022-11-14T12:40:25.090Z"
   },
   {
    "duration": 12,
    "start_time": "2022-11-14T12:44:02.491Z"
   },
   {
    "duration": 23,
    "start_time": "2022-11-14T12:45:29.003Z"
   },
   {
    "duration": 5,
    "start_time": "2022-11-14T12:55:04.261Z"
   },
   {
    "duration": 5,
    "start_time": "2022-11-14T13:02:23.928Z"
   },
   {
    "duration": 5,
    "start_time": "2022-11-14T13:02:30.646Z"
   },
   {
    "duration": 21,
    "start_time": "2022-11-14T13:03:30.111Z"
   },
   {
    "duration": 9,
    "start_time": "2022-11-14T13:03:48.646Z"
   },
   {
    "duration": 10,
    "start_time": "2022-11-14T13:03:59.535Z"
   },
   {
    "duration": 5,
    "start_time": "2022-11-14T13:05:05.607Z"
   },
   {
    "duration": 4,
    "start_time": "2022-11-14T13:08:29.255Z"
   },
   {
    "duration": 6,
    "start_time": "2022-11-14T13:10:55.330Z"
   },
   {
    "duration": 6,
    "start_time": "2022-11-14T13:11:08.553Z"
   },
   {
    "duration": 4,
    "start_time": "2022-11-14T13:11:13.599Z"
   },
   {
    "duration": 4,
    "start_time": "2022-11-14T13:11:19.696Z"
   },
   {
    "duration": 334,
    "start_time": "2022-11-14T13:14:51.450Z"
   },
   {
    "duration": 9,
    "start_time": "2022-11-14T13:15:10.377Z"
   },
   {
    "duration": 5,
    "start_time": "2022-11-14T13:16:06.185Z"
   },
   {
    "duration": 4,
    "start_time": "2022-11-14T13:19:23.210Z"
   },
   {
    "duration": 5,
    "start_time": "2022-11-14T13:19:33.289Z"
   },
   {
    "duration": 12,
    "start_time": "2022-11-14T13:20:20.866Z"
   },
   {
    "duration": 11,
    "start_time": "2022-11-14T13:20:32.874Z"
   },
   {
    "duration": 10,
    "start_time": "2022-11-14T13:22:09.482Z"
   },
   {
    "duration": 7,
    "start_time": "2022-11-14T13:22:19.249Z"
   },
   {
    "duration": 10,
    "start_time": "2022-11-14T13:26:44.355Z"
   },
   {
    "duration": 11,
    "start_time": "2022-11-14T13:27:06.611Z"
   },
   {
    "duration": 12,
    "start_time": "2022-11-14T13:28:28.859Z"
   },
   {
    "duration": 12,
    "start_time": "2022-11-14T13:28:41.539Z"
   },
   {
    "duration": 9,
    "start_time": "2022-11-14T13:28:56.020Z"
   },
   {
    "duration": 8,
    "start_time": "2022-11-14T13:29:56.587Z"
   },
   {
    "duration": 9,
    "start_time": "2022-11-14T13:30:38.093Z"
   },
   {
    "duration": 4605,
    "start_time": "2022-11-14T13:31:10.964Z"
   },
   {
    "duration": 6151,
    "start_time": "2022-11-14T13:33:15.668Z"
   },
   {
    "duration": 13,
    "start_time": "2022-11-14T13:34:02.517Z"
   },
   {
    "duration": 3,
    "start_time": "2022-11-14T13:43:08.174Z"
   },
   {
    "duration": 4,
    "start_time": "2022-11-14T13:43:18.253Z"
   },
   {
    "duration": 5,
    "start_time": "2022-11-14T13:44:25.525Z"
   },
   {
    "duration": 5,
    "start_time": "2022-11-14T13:45:50.293Z"
   },
   {
    "duration": 5,
    "start_time": "2022-11-14T13:46:35.293Z"
   },
   {
    "duration": 5,
    "start_time": "2022-11-14T13:46:47.972Z"
   },
   {
    "duration": 6,
    "start_time": "2022-11-14T13:47:36.990Z"
   },
   {
    "duration": 9,
    "start_time": "2022-11-14T13:48:23.598Z"
   },
   {
    "duration": 4,
    "start_time": "2022-11-14T13:48:40.661Z"
   },
   {
    "duration": 22,
    "start_time": "2022-11-14T13:49:36.246Z"
   },
   {
    "duration": 1522,
    "start_time": "2022-11-14T18:33:46.371Z"
   },
   {
    "duration": 197,
    "start_time": "2022-11-14T18:33:48.047Z"
   },
   {
    "duration": 14,
    "start_time": "2022-11-14T18:33:49.314Z"
   },
   {
    "duration": 22,
    "start_time": "2022-11-14T18:33:50.615Z"
   },
   {
    "duration": 18,
    "start_time": "2022-11-14T18:33:52.291Z"
   },
   {
    "duration": 4,
    "start_time": "2022-11-14T18:41:48.468Z"
   },
   {
    "duration": 439,
    "start_time": "2022-11-14T18:42:04.169Z"
   },
   {
    "duration": 1570,
    "start_time": "2022-11-15T07:32:54.541Z"
   },
   {
    "duration": 204,
    "start_time": "2022-11-15T07:32:57.615Z"
   },
   {
    "duration": 15,
    "start_time": "2022-11-15T07:32:58.550Z"
   },
   {
    "duration": 24,
    "start_time": "2022-11-15T07:32:59.520Z"
   },
   {
    "duration": 14,
    "start_time": "2022-11-15T07:33:32.056Z"
   },
   {
    "duration": 373,
    "start_time": "2022-11-15T07:33:39.903Z"
   },
   {
    "duration": 376,
    "start_time": "2022-11-15T07:35:59.785Z"
   },
   {
    "duration": 9,
    "start_time": "2022-11-15T07:50:24.997Z"
   },
   {
    "duration": 13,
    "start_time": "2022-11-15T07:50:31.186Z"
   },
   {
    "duration": 320,
    "start_time": "2022-11-15T08:09:15.408Z"
   },
   {
    "duration": 213,
    "start_time": "2022-11-15T08:17:49.160Z"
   },
   {
    "duration": 211,
    "start_time": "2022-11-15T08:18:20.182Z"
   },
   {
    "duration": 222,
    "start_time": "2022-11-15T08:42:30.862Z"
   },
   {
    "duration": 213,
    "start_time": "2022-11-15T08:43:33.156Z"
   },
   {
    "duration": 467,
    "start_time": "2022-11-15T08:44:41.301Z"
   },
   {
    "duration": 84,
    "start_time": "2022-11-15T08:45:03.502Z"
   },
   {
    "duration": 441,
    "start_time": "2022-11-15T08:45:27.518Z"
   },
   {
    "duration": 334,
    "start_time": "2022-11-15T08:46:07.542Z"
   },
   {
    "duration": 193,
    "start_time": "2022-11-15T08:46:58.070Z"
   },
   {
    "duration": 13,
    "start_time": "2022-11-15T08:47:50.340Z"
   },
   {
    "duration": 3,
    "start_time": "2022-11-15T08:48:42.767Z"
   },
   {
    "duration": 465,
    "start_time": "2022-11-15T08:49:18.501Z"
   },
   {
    "duration": 12,
    "start_time": "2022-11-15T08:50:11.638Z"
   },
   {
    "duration": 595,
    "start_time": "2022-11-15T08:50:46.502Z"
   },
   {
    "duration": 13,
    "start_time": "2022-11-15T08:51:04.590Z"
   },
   {
    "duration": 20,
    "start_time": "2022-11-15T08:51:48.214Z"
   },
   {
    "duration": 7,
    "start_time": "2022-11-15T08:52:04.262Z"
   },
   {
    "duration": 5,
    "start_time": "2022-11-15T08:52:19.886Z"
   },
   {
    "duration": 56,
    "start_time": "2022-11-15T08:52:21.930Z"
   },
   {
    "duration": 11,
    "start_time": "2022-11-15T08:52:22.685Z"
   },
   {
    "duration": 26,
    "start_time": "2022-11-15T08:52:24.425Z"
   },
   {
    "duration": 17,
    "start_time": "2022-11-15T08:52:26.336Z"
   },
   {
    "duration": 350,
    "start_time": "2022-11-15T08:52:27.382Z"
   },
   {
    "duration": 4,
    "start_time": "2022-11-15T08:52:48.973Z"
   },
   {
    "duration": 99,
    "start_time": "2022-11-15T08:53:08.206Z"
   },
   {
    "duration": 9,
    "start_time": "2022-11-15T08:56:43.933Z"
   },
   {
    "duration": 17,
    "start_time": "2022-11-15T08:58:33.427Z"
   },
   {
    "duration": 17,
    "start_time": "2022-11-15T08:59:24.309Z"
   },
   {
    "duration": 14,
    "start_time": "2022-11-15T08:59:39.332Z"
   },
   {
    "duration": 14,
    "start_time": "2022-11-15T08:59:51.332Z"
   },
   {
    "duration": 5,
    "start_time": "2022-11-15T09:00:30.110Z"
   },
   {
    "duration": 13,
    "start_time": "2022-11-15T09:00:41.757Z"
   },
   {
    "duration": 7,
    "start_time": "2022-11-15T09:03:37.278Z"
   },
   {
    "duration": 15,
    "start_time": "2022-11-15T09:31:08.257Z"
   },
   {
    "duration": 4,
    "start_time": "2022-11-15T09:32:48.714Z"
   },
   {
    "duration": 58,
    "start_time": "2022-11-15T09:32:49.897Z"
   },
   {
    "duration": 11,
    "start_time": "2022-11-15T09:32:50.882Z"
   },
   {
    "duration": 20,
    "start_time": "2022-11-15T09:32:52.545Z"
   },
   {
    "duration": 9,
    "start_time": "2022-11-15T09:34:48.969Z"
   },
   {
    "duration": 9,
    "start_time": "2022-11-15T09:34:57.564Z"
   },
   {
    "duration": 12,
    "start_time": "2022-11-15T09:35:08.069Z"
   },
   {
    "duration": 9,
    "start_time": "2022-11-15T09:41:09.364Z"
   },
   {
    "duration": 24,
    "start_time": "2022-11-15T09:41:13.267Z"
   },
   {
    "duration": 15,
    "start_time": "2022-11-15T09:41:38.099Z"
   },
   {
    "duration": 15,
    "start_time": "2022-11-15T09:41:56.371Z"
   },
   {
    "duration": 16,
    "start_time": "2022-11-15T09:42:12.483Z"
   },
   {
    "duration": 5,
    "start_time": "2022-11-15T09:42:17.752Z"
   },
   {
    "duration": 47,
    "start_time": "2022-11-15T09:42:18.963Z"
   },
   {
    "duration": 15,
    "start_time": "2022-11-15T09:42:19.700Z"
   },
   {
    "duration": 20,
    "start_time": "2022-11-15T09:42:21.299Z"
   },
   {
    "duration": 18,
    "start_time": "2022-11-15T09:42:27.248Z"
   },
   {
    "duration": 25,
    "start_time": "2022-11-15T09:42:28.707Z"
   },
   {
    "duration": 413,
    "start_time": "2022-11-15T09:42:31.587Z"
   },
   {
    "duration": 6,
    "start_time": "2022-11-15T09:42:42.045Z"
   },
   {
    "duration": 38,
    "start_time": "2022-11-15T09:42:42.819Z"
   },
   {
    "duration": 5,
    "start_time": "2022-11-15T09:42:53.795Z"
   },
   {
    "duration": 17,
    "start_time": "2022-11-15T09:47:54.812Z"
   },
   {
    "duration": 943,
    "start_time": "2022-11-15T09:48:13.844Z"
   },
   {
    "duration": 4,
    "start_time": "2022-11-15T09:48:22.636Z"
   },
   {
    "duration": 50,
    "start_time": "2022-11-15T09:48:23.676Z"
   },
   {
    "duration": 14,
    "start_time": "2022-11-15T09:48:24.172Z"
   },
   {
    "duration": 19,
    "start_time": "2022-11-15T09:48:24.949Z"
   },
   {
    "duration": 14,
    "start_time": "2022-11-15T09:48:26.275Z"
   },
   {
    "duration": 16,
    "start_time": "2022-11-15T09:48:27.251Z"
   },
   {
    "duration": 365,
    "start_time": "2022-11-15T09:48:27.900Z"
   },
   {
    "duration": 4,
    "start_time": "2022-11-15T09:48:29.812Z"
   },
   {
    "duration": 15,
    "start_time": "2022-11-15T09:48:31.300Z"
   },
   {
    "duration": 5,
    "start_time": "2022-11-15T09:48:40.707Z"
   },
   {
    "duration": 10,
    "start_time": "2022-11-15T09:48:51.436Z"
   },
   {
    "duration": 12,
    "start_time": "2022-11-15T09:49:09.540Z"
   },
   {
    "duration": 4,
    "start_time": "2022-11-15T09:50:51.284Z"
   },
   {
    "duration": 12,
    "start_time": "2022-11-15T09:50:57.540Z"
   },
   {
    "duration": 12,
    "start_time": "2022-11-15T09:51:30.045Z"
   },
   {
    "duration": 11,
    "start_time": "2022-11-15T09:51:58.269Z"
   },
   {
    "duration": 15,
    "start_time": "2022-11-15T09:54:46.709Z"
   },
   {
    "duration": 13,
    "start_time": "2022-11-15T09:55:54.752Z"
   },
   {
    "duration": 19,
    "start_time": "2022-11-15T09:56:55.333Z"
   },
   {
    "duration": 4,
    "start_time": "2022-11-15T09:57:08.806Z"
   },
   {
    "duration": 45,
    "start_time": "2022-11-15T09:58:36.453Z"
   },
   {
    "duration": 12,
    "start_time": "2022-11-15T10:02:01.654Z"
   },
   {
    "duration": 12,
    "start_time": "2022-11-15T10:03:08.295Z"
   },
   {
    "duration": 4,
    "start_time": "2022-11-15T10:03:14.681Z"
   },
   {
    "duration": 63,
    "start_time": "2022-11-15T10:03:14.688Z"
   },
   {
    "duration": 12,
    "start_time": "2022-11-15T10:03:14.753Z"
   },
   {
    "duration": 20,
    "start_time": "2022-11-15T10:03:14.767Z"
   },
   {
    "duration": 12,
    "start_time": "2022-11-15T10:03:14.788Z"
   },
   {
    "duration": 49,
    "start_time": "2022-11-15T10:03:14.802Z"
   },
   {
    "duration": 355,
    "start_time": "2022-11-15T10:03:14.853Z"
   },
   {
    "duration": 16,
    "start_time": "2022-11-15T10:03:15.210Z"
   },
   {
    "duration": 48,
    "start_time": "2022-11-15T10:03:15.228Z"
   },
   {
    "duration": 29,
    "start_time": "2022-11-15T10:03:15.278Z"
   },
   {
    "duration": 49,
    "start_time": "2022-11-15T10:03:15.310Z"
   },
   {
    "duration": 18,
    "start_time": "2022-11-15T10:03:17.437Z"
   },
   {
    "duration": 9,
    "start_time": "2022-11-15T10:03:18.824Z"
   },
   {
    "duration": 11,
    "start_time": "2022-11-15T10:03:19.974Z"
   },
   {
    "duration": 9,
    "start_time": "2022-11-15T10:14:44.059Z"
   },
   {
    "duration": 12,
    "start_time": "2022-11-15T10:14:49.491Z"
   },
   {
    "duration": 35,
    "start_time": "2022-11-15T10:14:50.640Z"
   },
   {
    "duration": 20,
    "start_time": "2022-11-15T10:16:45.019Z"
   },
   {
    "duration": 11,
    "start_time": "2022-11-15T10:16:45.803Z"
   },
   {
    "duration": 14,
    "start_time": "2022-11-15T10:16:53.388Z"
   },
   {
    "duration": 5,
    "start_time": "2022-11-15T10:16:56.869Z"
   },
   {
    "duration": 71,
    "start_time": "2022-11-15T10:16:56.875Z"
   },
   {
    "duration": 11,
    "start_time": "2022-11-15T10:16:56.948Z"
   },
   {
    "duration": 17,
    "start_time": "2022-11-15T10:16:56.961Z"
   },
   {
    "duration": 13,
    "start_time": "2022-11-15T10:16:56.979Z"
   },
   {
    "duration": 22,
    "start_time": "2022-11-15T10:16:56.993Z"
   },
   {
    "duration": 361,
    "start_time": "2022-11-15T10:16:57.022Z"
   },
   {
    "duration": 4,
    "start_time": "2022-11-15T10:16:57.385Z"
   },
   {
    "duration": 15,
    "start_time": "2022-11-15T10:16:57.391Z"
   },
   {
    "duration": 6,
    "start_time": "2022-11-15T10:16:57.425Z"
   },
   {
    "duration": 15,
    "start_time": "2022-11-15T10:16:57.432Z"
   },
   {
    "duration": 17,
    "start_time": "2022-11-15T10:16:58.715Z"
   },
   {
    "duration": 7,
    "start_time": "2022-11-15T10:16:59.941Z"
   },
   {
    "duration": 11,
    "start_time": "2022-11-15T10:17:00.964Z"
   },
   {
    "duration": 9,
    "start_time": "2022-11-15T10:17:03.564Z"
   },
   {
    "duration": 32,
    "start_time": "2022-11-15T10:17:05.946Z"
   },
   {
    "duration": 3,
    "start_time": "2022-11-15T10:18:13.796Z"
   },
   {
    "duration": 18,
    "start_time": "2022-11-15T10:18:47.989Z"
   },
   {
    "duration": 20,
    "start_time": "2022-11-15T10:18:55.646Z"
   },
   {
    "duration": 12,
    "start_time": "2022-11-15T10:19:24.947Z"
   },
   {
    "duration": 12,
    "start_time": "2022-11-15T10:19:26.395Z"
   },
   {
    "duration": 11,
    "start_time": "2022-11-15T10:22:18.558Z"
   },
   {
    "duration": 4,
    "start_time": "2022-11-15T10:22:54.088Z"
   },
   {
    "duration": 63,
    "start_time": "2022-11-15T10:22:54.094Z"
   },
   {
    "duration": 12,
    "start_time": "2022-11-15T10:22:54.159Z"
   },
   {
    "duration": 19,
    "start_time": "2022-11-15T10:22:54.173Z"
   },
   {
    "duration": 14,
    "start_time": "2022-11-15T10:22:54.194Z"
   },
   {
    "duration": 21,
    "start_time": "2022-11-15T10:22:54.223Z"
   },
   {
    "duration": 334,
    "start_time": "2022-11-15T10:22:54.246Z"
   },
   {
    "duration": 5,
    "start_time": "2022-11-15T10:22:54.582Z"
   },
   {
    "duration": 17,
    "start_time": "2022-11-15T10:22:54.589Z"
   },
   {
    "duration": 16,
    "start_time": "2022-11-15T10:22:54.608Z"
   },
   {
    "duration": 27,
    "start_time": "2022-11-15T10:22:54.627Z"
   },
   {
    "duration": 6,
    "start_time": "2022-11-15T10:22:54.655Z"
   },
   {
    "duration": 14,
    "start_time": "2022-11-15T10:22:54.663Z"
   },
   {
    "duration": 16,
    "start_time": "2022-11-15T10:23:00.013Z"
   },
   {
    "duration": 18,
    "start_time": "2022-11-15T10:23:16.813Z"
   },
   {
    "duration": 19,
    "start_time": "2022-11-15T10:23:24.348Z"
   },
   {
    "duration": 12,
    "start_time": "2022-11-15T10:23:41.053Z"
   },
   {
    "duration": 16,
    "start_time": "2022-11-15T11:38:38.217Z"
   },
   {
    "duration": 6,
    "start_time": "2022-11-15T11:49:09.045Z"
   },
   {
    "duration": 4,
    "start_time": "2022-11-15T11:56:15.633Z"
   },
   {
    "duration": 16,
    "start_time": "2022-11-15T11:56:19.262Z"
   },
   {
    "duration": 18,
    "start_time": "2022-11-15T11:56:39.534Z"
   },
   {
    "duration": 549,
    "start_time": "2022-11-15T12:02:54.872Z"
   },
   {
    "duration": 4,
    "start_time": "2022-11-15T12:03:32.880Z"
   },
   {
    "duration": 4,
    "start_time": "2022-11-15T12:03:41.298Z"
   },
   {
    "duration": 66,
    "start_time": "2022-11-15T12:03:41.304Z"
   },
   {
    "duration": 12,
    "start_time": "2022-11-15T12:03:41.372Z"
   },
   {
    "duration": 26,
    "start_time": "2022-11-15T12:03:41.387Z"
   },
   {
    "duration": 21,
    "start_time": "2022-11-15T12:03:41.415Z"
   },
   {
    "duration": 23,
    "start_time": "2022-11-15T12:03:41.437Z"
   },
   {
    "duration": 360,
    "start_time": "2022-11-15T12:03:41.461Z"
   },
   {
    "duration": 4,
    "start_time": "2022-11-15T12:03:41.824Z"
   },
   {
    "duration": 27,
    "start_time": "2022-11-15T12:03:41.831Z"
   },
   {
    "duration": 4,
    "start_time": "2022-11-15T12:03:41.860Z"
   },
   {
    "duration": 13,
    "start_time": "2022-11-15T12:03:41.866Z"
   },
   {
    "duration": 7,
    "start_time": "2022-11-15T12:03:41.881Z"
   },
   {
    "duration": 44,
    "start_time": "2022-11-15T12:03:41.890Z"
   },
   {
    "duration": 19,
    "start_time": "2022-11-15T12:03:41.936Z"
   },
   {
    "duration": 8,
    "start_time": "2022-11-15T12:03:41.957Z"
   },
   {
    "duration": 20,
    "start_time": "2022-11-15T12:03:41.967Z"
   },
   {
    "duration": 11,
    "start_time": "2022-11-15T12:03:41.989Z"
   },
   {
    "duration": 9,
    "start_time": "2022-11-15T12:03:42.001Z"
   },
   {
    "duration": 14,
    "start_time": "2022-11-15T12:03:42.012Z"
   },
   {
    "duration": 512,
    "start_time": "2022-11-15T12:03:44.383Z"
   },
   {
    "duration": 521,
    "start_time": "2022-11-15T12:03:50.711Z"
   },
   {
    "duration": 564,
    "start_time": "2022-11-15T12:04:00.603Z"
   },
   {
    "duration": 554,
    "start_time": "2022-11-15T12:04:06.183Z"
   },
   {
    "duration": 560,
    "start_time": "2022-11-15T12:05:03.801Z"
   },
   {
    "duration": 5,
    "start_time": "2022-11-15T12:08:53.096Z"
   },
   {
    "duration": 277,
    "start_time": "2022-11-15T12:08:54.643Z"
   },
   {
    "duration": 135024,
    "start_time": "2022-11-15T12:09:17.688Z"
   },
   {
    "duration": 217643,
    "start_time": "2022-11-15T12:11:46.914Z"
   },
   {
    "duration": 47,
    "start_time": "2022-11-15T13:29:13.174Z"
   },
   {
    "duration": 1502,
    "start_time": "2022-11-15T13:29:47.209Z"
   },
   {
    "duration": 191,
    "start_time": "2022-11-15T13:29:48.713Z"
   },
   {
    "duration": 12,
    "start_time": "2022-11-15T13:29:48.905Z"
   },
   {
    "duration": 21,
    "start_time": "2022-11-15T13:29:48.918Z"
   },
   {
    "duration": 12,
    "start_time": "2022-11-15T13:29:48.940Z"
   },
   {
    "duration": 19,
    "start_time": "2022-11-15T13:29:48.953Z"
   },
   {
    "duration": 405,
    "start_time": "2022-11-15T13:29:48.973Z"
   },
   {
    "duration": 5,
    "start_time": "2022-11-15T13:29:49.380Z"
   },
   {
    "duration": 16,
    "start_time": "2022-11-15T13:29:49.397Z"
   },
   {
    "duration": 4,
    "start_time": "2022-11-15T13:29:49.415Z"
   },
   {
    "duration": 18,
    "start_time": "2022-11-15T13:29:49.420Z"
   },
   {
    "duration": 10,
    "start_time": "2022-11-15T13:29:49.439Z"
   },
   {
    "duration": 23,
    "start_time": "2022-11-15T13:29:49.450Z"
   },
   {
    "duration": 13,
    "start_time": "2022-11-15T13:29:49.475Z"
   },
   {
    "duration": 8,
    "start_time": "2022-11-15T13:29:49.490Z"
   },
   {
    "duration": 19,
    "start_time": "2022-11-15T13:29:49.499Z"
   },
   {
    "duration": 10,
    "start_time": "2022-11-15T13:29:49.519Z"
   },
   {
    "duration": 8,
    "start_time": "2022-11-15T13:29:49.530Z"
   },
   {
    "duration": 7,
    "start_time": "2022-11-15T13:29:49.539Z"
   },
   {
    "duration": 575,
    "start_time": "2022-11-15T13:29:49.547Z"
   },
   {
    "duration": 5,
    "start_time": "2022-11-15T13:29:50.123Z"
   },
   {
    "duration": 202293,
    "start_time": "2022-11-15T13:29:50.129Z"
   },
   {
    "duration": 72,
    "start_time": "2022-11-15T13:33:38.542Z"
   },
   {
    "duration": 1300,
    "start_time": "2022-11-15T13:33:52.223Z"
   },
   {
    "duration": 1419,
    "start_time": "2022-11-15T13:34:04.325Z"
   },
   {
    "duration": 6,
    "start_time": "2022-11-15T13:38:12.663Z"
   },
   {
    "duration": 9,
    "start_time": "2022-11-15T13:42:23.944Z"
   },
   {
    "duration": 9,
    "start_time": "2022-11-15T13:43:40.408Z"
   },
   {
    "duration": 5,
    "start_time": "2022-11-15T13:44:43.584Z"
   },
   {
    "duration": 6,
    "start_time": "2022-11-15T13:52:02.745Z"
   },
   {
    "duration": 351,
    "start_time": "2022-11-15T14:00:22.770Z"
   },
   {
    "duration": 281,
    "start_time": "2022-11-15T14:02:09.058Z"
   },
   {
    "duration": 264,
    "start_time": "2022-11-15T14:02:17.482Z"
   },
   {
    "duration": 288,
    "start_time": "2022-11-15T14:02:20.475Z"
   },
   {
    "duration": 1670,
    "start_time": "2022-11-16T08:36:26.590Z"
   },
   {
    "duration": 211,
    "start_time": "2022-11-16T08:36:28.262Z"
   },
   {
    "duration": 14,
    "start_time": "2022-11-16T08:36:28.474Z"
   },
   {
    "duration": 21,
    "start_time": "2022-11-16T08:36:28.490Z"
   },
   {
    "duration": 23,
    "start_time": "2022-11-16T08:36:28.513Z"
   },
   {
    "duration": 23,
    "start_time": "2022-11-16T08:36:28.538Z"
   },
   {
    "duration": 406,
    "start_time": "2022-11-16T08:36:28.563Z"
   },
   {
    "duration": 4,
    "start_time": "2022-11-16T08:36:28.971Z"
   },
   {
    "duration": 16,
    "start_time": "2022-11-16T08:36:28.976Z"
   },
   {
    "duration": 25,
    "start_time": "2022-11-16T08:36:28.994Z"
   },
   {
    "duration": 51,
    "start_time": "2022-11-16T08:36:29.021Z"
   },
   {
    "duration": 27,
    "start_time": "2022-11-16T08:36:29.073Z"
   },
   {
    "duration": 26,
    "start_time": "2022-11-16T08:36:29.102Z"
   },
   {
    "duration": 54,
    "start_time": "2022-11-16T08:36:29.129Z"
   },
   {
    "duration": 33,
    "start_time": "2022-11-16T08:36:29.185Z"
   },
   {
    "duration": 60,
    "start_time": "2022-11-16T08:36:29.219Z"
   },
   {
    "duration": 27,
    "start_time": "2022-11-16T08:36:29.280Z"
   },
   {
    "duration": 46,
    "start_time": "2022-11-16T08:36:29.309Z"
   },
   {
    "duration": 18,
    "start_time": "2022-11-16T08:36:29.357Z"
   },
   {
    "duration": 36,
    "start_time": "2022-11-16T08:36:29.377Z"
   },
   {
    "duration": 231652,
    "start_time": "2022-11-16T08:36:29.415Z"
   },
   {
    "duration": 1675,
    "start_time": "2022-11-16T08:40:21.069Z"
   },
   {
    "duration": 23,
    "start_time": "2022-11-16T08:40:22.746Z"
   },
   {
    "duration": 21,
    "start_time": "2022-11-16T08:41:55.729Z"
   },
   {
    "duration": 143,
    "start_time": "2022-11-16T08:42:07.560Z"
   },
   {
    "duration": 166,
    "start_time": "2022-11-16T08:45:27.018Z"
   },
   {
    "duration": 15,
    "start_time": "2022-11-16T08:47:21.009Z"
   },
   {
    "duration": 21,
    "start_time": "2022-11-16T08:47:31.657Z"
   },
   {
    "duration": 166,
    "start_time": "2022-11-16T08:47:35.865Z"
   },
   {
    "duration": 17,
    "start_time": "2022-11-16T08:50:38.496Z"
   },
   {
    "duration": 16,
    "start_time": "2022-11-16T08:51:00.154Z"
   },
   {
    "duration": 16,
    "start_time": "2022-11-16T08:51:09.266Z"
   },
   {
    "duration": 67,
    "start_time": "2022-11-16T08:51:30.651Z"
   },
   {
    "duration": 145,
    "start_time": "2022-11-16T08:51:54.081Z"
   },
   {
    "duration": 163,
    "start_time": "2022-11-16T08:52:13.508Z"
   },
   {
    "duration": 1029,
    "start_time": "2022-11-16T09:31:25.256Z"
   },
   {
    "duration": 12,
    "start_time": "2022-11-16T09:34:21.120Z"
   },
   {
    "duration": 163,
    "start_time": "2022-11-16T09:34:28.281Z"
   },
   {
    "duration": 13,
    "start_time": "2022-11-16T09:58:57.164Z"
   },
   {
    "duration": 10,
    "start_time": "2022-11-16T09:59:08.063Z"
   },
   {
    "duration": 24,
    "start_time": "2022-11-16T09:59:15.334Z"
   },
   {
    "duration": 7624,
    "start_time": "2022-11-16T09:59:39.669Z"
   },
   {
    "duration": 7987,
    "start_time": "2022-11-16T10:01:17.310Z"
   },
   {
    "duration": 995,
    "start_time": "2022-11-16T10:03:19.694Z"
   },
   {
    "duration": 987,
    "start_time": "2022-11-16T10:03:34.080Z"
   },
   {
    "duration": 8,
    "start_time": "2022-11-16T10:03:48.190Z"
   },
   {
    "duration": 160,
    "start_time": "2022-11-16T10:03:51.223Z"
   },
   {
    "duration": 4,
    "start_time": "2022-11-16T10:03:54.670Z"
   },
   {
    "duration": 7167,
    "start_time": "2022-11-16T10:03:57.030Z"
   },
   {
    "duration": 7278,
    "start_time": "2022-11-16T10:04:04.199Z"
   },
   {
    "duration": 15,
    "start_time": "2022-11-16T10:05:30.527Z"
   },
   {
    "duration": 6,
    "start_time": "2022-11-16T10:06:01.296Z"
   },
   {
    "duration": 4,
    "start_time": "2022-11-16T10:32:18.396Z"
   },
   {
    "duration": 2514,
    "start_time": "2022-11-16T10:32:20.186Z"
   },
   {
    "duration": 2339,
    "start_time": "2022-11-16T10:34:08.829Z"
   },
   {
    "duration": 5650,
    "start_time": "2022-11-16T10:34:37.764Z"
   },
   {
    "duration": 5520,
    "start_time": "2022-11-16T10:38:18.629Z"
   },
   {
    "duration": 5584,
    "start_time": "2022-11-16T10:38:49.900Z"
   },
   {
    "duration": 972,
    "start_time": "2022-11-16T10:47:11.157Z"
   },
   {
    "duration": 967,
    "start_time": "2022-11-16T10:47:43.597Z"
   },
   {
    "duration": 1099,
    "start_time": "2022-11-16T10:50:55.864Z"
   },
   {
    "duration": 1140,
    "start_time": "2022-11-16T10:51:06.622Z"
   },
   {
    "duration": 1001,
    "start_time": "2022-11-16T11:01:25.928Z"
   },
   {
    "duration": 260,
    "start_time": "2022-11-16T11:47:04.433Z"
   },
   {
    "duration": 48,
    "start_time": "2022-11-16T11:47:17.328Z"
   },
   {
    "duration": 74,
    "start_time": "2022-11-16T11:47:27.040Z"
   },
   {
    "duration": 210447,
    "start_time": "2022-11-16T11:47:47.760Z"
   },
   {
    "duration": 101,
    "start_time": "2022-11-16T12:00:47.522Z"
   },
   {
    "duration": 11523,
    "start_time": "2022-11-16T12:01:22.697Z"
   },
   {
    "duration": 11300,
    "start_time": "2022-11-16T12:33:11.097Z"
   },
   {
    "duration": 8,
    "start_time": "2022-11-16T12:43:29.162Z"
   },
   {
    "duration": 13,
    "start_time": "2022-11-16T12:45:27.986Z"
   },
   {
    "duration": 9,
    "start_time": "2022-11-16T12:45:53.626Z"
   },
   {
    "duration": 11326,
    "start_time": "2022-11-16T12:47:10.762Z"
   },
   {
    "duration": 10,
    "start_time": "2022-11-16T12:47:31.211Z"
   },
   {
    "duration": 235,
    "start_time": "2022-11-16T12:48:48.555Z"
   },
   {
    "duration": 6,
    "start_time": "2022-11-16T12:56:36.956Z"
   },
   {
    "duration": 1024,
    "start_time": "2022-11-16T13:03:13.949Z"
   },
   {
    "duration": 88,
    "start_time": "2022-11-16T13:08:13.966Z"
   },
   {
    "duration": 85,
    "start_time": "2022-11-16T13:08:41.309Z"
   },
   {
    "duration": 85,
    "start_time": "2022-11-16T13:09:50.837Z"
   },
   {
    "duration": 88,
    "start_time": "2022-11-16T13:21:53.407Z"
   },
   {
    "duration": 5,
    "start_time": "2022-11-16T13:24:27.088Z"
   },
   {
    "duration": 901,
    "start_time": "2022-11-16T13:24:28.095Z"
   },
   {
    "duration": 83,
    "start_time": "2022-11-16T13:24:36.416Z"
   },
   {
    "duration": 915,
    "start_time": "2022-11-16T13:28:34.105Z"
   },
   {
    "duration": 85,
    "start_time": "2022-11-16T13:28:54.881Z"
   },
   {
    "duration": 82,
    "start_time": "2022-11-16T13:28:58.849Z"
   },
   {
    "duration": 901,
    "start_time": "2022-11-16T13:33:03.098Z"
   },
   {
    "duration": 85,
    "start_time": "2022-11-16T13:52:41.525Z"
   },
   {
    "duration": 12137,
    "start_time": "2022-11-16T13:53:15.221Z"
   },
   {
    "duration": 9,
    "start_time": "2022-11-16T13:55:00.646Z"
   },
   {
    "duration": 143,
    "start_time": "2022-11-16T13:55:01.661Z"
   },
   {
    "duration": 97,
    "start_time": "2022-11-16T13:55:11.701Z"
   },
   {
    "duration": 86,
    "start_time": "2022-11-16T13:56:04.398Z"
   },
   {
    "duration": 929,
    "start_time": "2022-11-16T14:01:37.991Z"
   },
   {
    "duration": 5,
    "start_time": "2022-11-16T14:01:47.257Z"
   },
   {
    "duration": 978,
    "start_time": "2022-11-16T14:01:48.695Z"
   },
   {
    "duration": 10,
    "start_time": "2022-11-16T14:06:40.640Z"
   },
   {
    "duration": 16,
    "start_time": "2022-11-16T14:07:34.816Z"
   },
   {
    "duration": 121,
    "start_time": "2022-11-16T14:07:46.505Z"
   },
   {
    "duration": 6,
    "start_time": "2022-11-16T14:13:05.633Z"
   },
   {
    "duration": 118,
    "start_time": "2022-11-16T14:17:39.609Z"
   },
   {
    "duration": 108,
    "start_time": "2022-11-16T14:18:18.490Z"
   },
   {
    "duration": 112,
    "start_time": "2022-11-16T14:18:26.554Z"
   },
   {
    "duration": 14,
    "start_time": "2022-11-16T14:23:40.083Z"
   },
   {
    "duration": 15,
    "start_time": "2022-11-16T14:24:34.955Z"
   },
   {
    "duration": 108,
    "start_time": "2022-11-16T14:24:56.091Z"
   },
   {
    "duration": 113,
    "start_time": "2022-11-16T14:27:45.676Z"
   },
   {
    "duration": 119,
    "start_time": "2022-11-16T14:28:36.835Z"
   },
   {
    "duration": 113,
    "start_time": "2022-11-16T14:28:44.604Z"
   },
   {
    "duration": 111,
    "start_time": "2022-11-16T14:29:41.079Z"
   },
   {
    "duration": 127,
    "start_time": "2022-11-16T14:30:01.836Z"
   },
   {
    "duration": 116,
    "start_time": "2022-11-16T14:30:09.411Z"
   },
   {
    "duration": 129,
    "start_time": "2022-11-16T14:30:21.541Z"
   },
   {
    "duration": 250,
    "start_time": "2022-11-16T14:30:38.932Z"
   },
   {
    "duration": 117,
    "start_time": "2022-11-16T14:30:52.885Z"
   },
   {
    "duration": 115,
    "start_time": "2022-11-16T14:32:24.278Z"
   },
   {
    "duration": 124,
    "start_time": "2022-11-16T14:32:31.133Z"
   },
   {
    "duration": 247,
    "start_time": "2022-11-16T14:34:46.894Z"
   },
   {
    "duration": 118,
    "start_time": "2022-11-16T14:34:54.342Z"
   },
   {
    "duration": 122,
    "start_time": "2022-11-16T14:35:05.725Z"
   },
   {
    "duration": 143,
    "start_time": "2022-11-16T14:35:21.134Z"
   },
   {
    "duration": 115,
    "start_time": "2022-11-16T14:35:47.294Z"
   },
   {
    "duration": 116,
    "start_time": "2022-11-16T14:35:59.479Z"
   },
   {
    "duration": 114,
    "start_time": "2022-11-16T14:36:09.663Z"
   },
   {
    "duration": 133,
    "start_time": "2022-11-16T14:36:20.465Z"
   },
   {
    "duration": 119,
    "start_time": "2022-11-16T14:36:33.013Z"
   },
   {
    "duration": 143,
    "start_time": "2022-11-16T14:36:36.813Z"
   },
   {
    "duration": 221,
    "start_time": "2022-11-16T14:36:54.429Z"
   },
   {
    "duration": 116,
    "start_time": "2022-11-16T14:37:13.149Z"
   },
   {
    "duration": 119,
    "start_time": "2022-11-16T14:37:47.037Z"
   },
   {
    "duration": 121,
    "start_time": "2022-11-16T14:37:55.828Z"
   },
   {
    "duration": 121,
    "start_time": "2022-11-16T14:38:19.854Z"
   },
   {
    "duration": 120,
    "start_time": "2022-11-16T14:42:00.838Z"
   },
   {
    "duration": 49,
    "start_time": "2022-11-16T14:45:22.080Z"
   },
   {
    "duration": 58,
    "start_time": "2022-11-17T07:29:37.723Z"
   },
   {
    "duration": 1540,
    "start_time": "2022-11-19T09:00:46.401Z"
   },
   {
    "duration": 165,
    "start_time": "2022-11-19T09:00:47.943Z"
   },
   {
    "duration": 11,
    "start_time": "2022-11-19T09:00:48.110Z"
   },
   {
    "duration": 20,
    "start_time": "2022-11-19T09:00:48.122Z"
   },
   {
    "duration": 13,
    "start_time": "2022-11-19T09:00:48.143Z"
   },
   {
    "duration": 17,
    "start_time": "2022-11-19T09:00:48.157Z"
   },
   {
    "duration": 415,
    "start_time": "2022-11-19T09:00:48.176Z"
   },
   {
    "duration": 4,
    "start_time": "2022-11-19T09:00:48.593Z"
   },
   {
    "duration": 23,
    "start_time": "2022-11-19T09:00:48.598Z"
   },
   {
    "duration": 4,
    "start_time": "2022-11-19T09:00:48.623Z"
   },
   {
    "duration": 12,
    "start_time": "2022-11-19T09:00:48.628Z"
   },
   {
    "duration": 5,
    "start_time": "2022-11-19T09:00:48.642Z"
   },
   {
    "duration": 11,
    "start_time": "2022-11-19T09:00:48.648Z"
   },
   {
    "duration": 13,
    "start_time": "2022-11-19T09:00:48.661Z"
   },
   {
    "duration": 37,
    "start_time": "2022-11-19T09:00:48.676Z"
   },
   {
    "duration": 20,
    "start_time": "2022-11-19T09:00:48.714Z"
   },
   {
    "duration": 11,
    "start_time": "2022-11-19T09:00:48.735Z"
   },
   {
    "duration": 7,
    "start_time": "2022-11-19T09:00:48.747Z"
   },
   {
    "duration": 6,
    "start_time": "2022-11-19T09:00:48.756Z"
   },
   {
    "duration": 4,
    "start_time": "2022-11-19T09:00:48.763Z"
   },
   {
    "duration": 12252,
    "start_time": "2022-11-19T09:00:48.769Z"
   },
   {
    "duration": 541,
    "start_time": "2022-11-19T09:01:01.022Z"
   },
   {
    "duration": 8,
    "start_time": "2022-11-19T09:01:01.565Z"
   },
   {
    "duration": 5,
    "start_time": "2022-11-19T09:01:01.574Z"
   },
   {
    "duration": 2,
    "start_time": "2022-11-19T09:01:01.581Z"
   },
   {
    "duration": 10,
    "start_time": "2022-11-19T09:01:04.921Z"
   },
   {
    "duration": 7,
    "start_time": "2022-11-19T09:01:06.866Z"
   },
   {
    "duration": 6,
    "start_time": "2022-11-19T09:01:07.256Z"
   },
   {
    "duration": 16,
    "start_time": "2022-11-19T09:01:10.225Z"
   },
   {
    "duration": 6,
    "start_time": "2022-11-19T09:01:16.103Z"
   },
   {
    "duration": 200229,
    "start_time": "2022-11-19T09:01:16.839Z"
   },
   {
    "duration": 1326,
    "start_time": "2022-11-19T09:04:44.946Z"
   },
   {
    "duration": 9,
    "start_time": "2022-11-19T09:04:48.801Z"
   },
   {
    "duration": 6,
    "start_time": "2022-11-19T09:04:51.057Z"
   },
   {
    "duration": 142,
    "start_time": "2022-11-19T09:04:52.925Z"
   },
   {
    "duration": 149,
    "start_time": "2022-11-19T09:08:01.979Z"
   },
   {
    "duration": 183,
    "start_time": "2022-11-19T09:08:27.145Z"
   },
   {
    "duration": 180,
    "start_time": "2022-11-19T09:08:51.834Z"
   },
   {
    "duration": 69,
    "start_time": "2022-11-19T09:16:26.729Z"
   }
  ],
  "kernelspec": {
   "display_name": "Python 3 (ipykernel)",
   "language": "python",
   "name": "python3"
  },
  "language_info": {
   "codemirror_mode": {
    "name": "ipython",
    "version": 3
   },
   "file_extension": ".py",
   "mimetype": "text/x-python",
   "name": "python",
   "nbconvert_exporter": "python",
   "pygments_lexer": "ipython3",
   "version": "3.9.12"
  },
  "toc": {
   "base_numbering": 1,
   "nav_menu": {},
   "number_sections": true,
   "sideBar": true,
   "skip_h1_title": true,
   "title_cell": "Содержание",
   "title_sidebar": "Contents",
   "toc_cell": true,
   "toc_position": {
    "height": "calc(100% - 180px)",
    "left": "10px",
    "top": "150px",
    "width": "191.188px"
   },
   "toc_section_display": true,
   "toc_window_display": true
  }
 },
 "nbformat": 4,
 "nbformat_minor": 2
}
