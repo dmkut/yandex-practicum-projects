{
 "cells": [
  {
   "cell_type": "markdown",
   "metadata": {},
   "source": [
    "# Анализ и закономерности факторов влияющих на успешность продаж в игровой индустрии\n",
    "\n",
    "**Мы имеем следующие цели анализа:**\n",
    "\n",
    "- Выявить закономерности, определяющие успешность игры;\n",
    "\n",
    "- Проверить гипотезы:\n",
    "    - a. Средние пользовательские рейтинги платформ Xbox One и PC одинаковые;\n",
    "    - b. Средние пользовательские рейтинги жанров Action (англ. «действие», экшен-игры) и Sports (англ. «спортивные соревнования») разные.\n",
    "    \n",
    "Данные из открытых источников о продажах игр, об оценках пользователей и экспертов, жанры и платформы."
   ]
  },
  {
   "cell_type": "markdown",
   "metadata": {},
   "source": [
    "# Факторы и закономерности влияющие на успешнось тайтла"
   ]
  },
  {
   "cell_type": "markdown",
   "metadata": {},
   "source": [
    "## Ознакомление с данными"
   ]
  },
  {
   "cell_type": "markdown",
   "metadata": {},
   "source": [
    "### Получение информации о датафрейме"
   ]
  },
  {
   "cell_type": "code",
   "execution_count": 1,
   "metadata": {},
   "outputs": [],
   "source": [
    "import pandas as pd\n",
    "import matplotlib.pyplot as plt \n",
    "from matplotlib.ticker import FormatStrFormatter\n",
    "from scipy import stats as st\n",
    "import numpy as np"
   ]
  },
  {
   "cell_type": "code",
   "execution_count": 2,
   "metadata": {},
   "outputs": [],
   "source": [
    "data = pd.read_csv('~/game-analytics/games.csv')"
   ]
  },
  {
   "cell_type": "code",
   "execution_count": 3,
   "metadata": {},
   "outputs": [
    {
     "data": {
      "text/html": [
       "<div>\n",
       "<style scoped>\n",
       "    .dataframe tbody tr th:only-of-type {\n",
       "        vertical-align: middle;\n",
       "    }\n",
       "\n",
       "    .dataframe tbody tr th {\n",
       "        vertical-align: top;\n",
       "    }\n",
       "\n",
       "    .dataframe thead th {\n",
       "        text-align: right;\n",
       "    }\n",
       "</style>\n",
       "<table border=\"1\" class=\"dataframe\">\n",
       "  <thead>\n",
       "    <tr style=\"text-align: right;\">\n",
       "      <th></th>\n",
       "      <th>Name</th>\n",
       "      <th>Platform</th>\n",
       "      <th>Year_of_Release</th>\n",
       "      <th>Genre</th>\n",
       "      <th>NA_sales</th>\n",
       "      <th>EU_sales</th>\n",
       "      <th>JP_sales</th>\n",
       "      <th>Other_sales</th>\n",
       "      <th>Critic_Score</th>\n",
       "      <th>User_Score</th>\n",
       "      <th>Rating</th>\n",
       "    </tr>\n",
       "  </thead>\n",
       "  <tbody>\n",
       "    <tr>\n",
       "      <th>0</th>\n",
       "      <td>Wii Sports</td>\n",
       "      <td>Wii</td>\n",
       "      <td>2006.0</td>\n",
       "      <td>Sports</td>\n",
       "      <td>41.36</td>\n",
       "      <td>28.96</td>\n",
       "      <td>3.77</td>\n",
       "      <td>8.45</td>\n",
       "      <td>76.0</td>\n",
       "      <td>8</td>\n",
       "      <td>E</td>\n",
       "    </tr>\n",
       "    <tr>\n",
       "      <th>1</th>\n",
       "      <td>Super Mario Bros.</td>\n",
       "      <td>NES</td>\n",
       "      <td>1985.0</td>\n",
       "      <td>Platform</td>\n",
       "      <td>29.08</td>\n",
       "      <td>3.58</td>\n",
       "      <td>6.81</td>\n",
       "      <td>0.77</td>\n",
       "      <td>NaN</td>\n",
       "      <td>NaN</td>\n",
       "      <td>NaN</td>\n",
       "    </tr>\n",
       "    <tr>\n",
       "      <th>2</th>\n",
       "      <td>Mario Kart Wii</td>\n",
       "      <td>Wii</td>\n",
       "      <td>2008.0</td>\n",
       "      <td>Racing</td>\n",
       "      <td>15.68</td>\n",
       "      <td>12.76</td>\n",
       "      <td>3.79</td>\n",
       "      <td>3.29</td>\n",
       "      <td>82.0</td>\n",
       "      <td>8.3</td>\n",
       "      <td>E</td>\n",
       "    </tr>\n",
       "    <tr>\n",
       "      <th>3</th>\n",
       "      <td>Wii Sports Resort</td>\n",
       "      <td>Wii</td>\n",
       "      <td>2009.0</td>\n",
       "      <td>Sports</td>\n",
       "      <td>15.61</td>\n",
       "      <td>10.93</td>\n",
       "      <td>3.28</td>\n",
       "      <td>2.95</td>\n",
       "      <td>80.0</td>\n",
       "      <td>8</td>\n",
       "      <td>E</td>\n",
       "    </tr>\n",
       "    <tr>\n",
       "      <th>4</th>\n",
       "      <td>Pokemon Red/Pokemon Blue</td>\n",
       "      <td>GB</td>\n",
       "      <td>1996.0</td>\n",
       "      <td>Role-Playing</td>\n",
       "      <td>11.27</td>\n",
       "      <td>8.89</td>\n",
       "      <td>10.22</td>\n",
       "      <td>1.00</td>\n",
       "      <td>NaN</td>\n",
       "      <td>NaN</td>\n",
       "      <td>NaN</td>\n",
       "    </tr>\n",
       "  </tbody>\n",
       "</table>\n",
       "</div>"
      ],
      "text/plain": [
       "                       Name Platform  Year_of_Release         Genre  NA_sales   \n",
       "0                Wii Sports      Wii           2006.0        Sports     41.36  \\\n",
       "1         Super Mario Bros.      NES           1985.0      Platform     29.08   \n",
       "2            Mario Kart Wii      Wii           2008.0        Racing     15.68   \n",
       "3         Wii Sports Resort      Wii           2009.0        Sports     15.61   \n",
       "4  Pokemon Red/Pokemon Blue       GB           1996.0  Role-Playing     11.27   \n",
       "\n",
       "   EU_sales  JP_sales  Other_sales  Critic_Score User_Score Rating  \n",
       "0     28.96      3.77         8.45          76.0          8      E  \n",
       "1      3.58      6.81         0.77           NaN        NaN    NaN  \n",
       "2     12.76      3.79         3.29          82.0        8.3      E  \n",
       "3     10.93      3.28         2.95          80.0          8      E  \n",
       "4      8.89     10.22         1.00           NaN        NaN    NaN  "
      ]
     },
     "execution_count": 3,
     "metadata": {},
     "output_type": "execute_result"
    }
   ],
   "source": [
    "data.head()"
   ]
  },
  {
   "cell_type": "code",
   "execution_count": 8,
   "metadata": {},
   "outputs": [
    {
     "name": "stdout",
     "output_type": "stream",
     "text": [
      "<class 'pandas.core.frame.DataFrame'>\n",
      "RangeIndex: 16715 entries, 0 to 16714\n",
      "Data columns (total 11 columns):\n",
      " #   Column           Non-Null Count  Dtype  \n",
      "---  ------           --------------  -----  \n",
      " 0   Name             16713 non-null  object \n",
      " 1   Platform         16715 non-null  object \n",
      " 2   Year_of_Release  16446 non-null  float64\n",
      " 3   Genre            16713 non-null  object \n",
      " 4   NA_sales         16715 non-null  float64\n",
      " 5   EU_sales         16715 non-null  float64\n",
      " 6   JP_sales         16715 non-null  float64\n",
      " 7   Other_sales      16715 non-null  float64\n",
      " 8   Critic_Score     8137 non-null   float64\n",
      " 9   User_Score       10014 non-null  object \n",
      " 10  Rating           9949 non-null   object \n",
      "dtypes: float64(6), object(5)\n",
      "memory usage: 1.4+ MB\n"
     ]
    }
   ],
   "source": [
    "data.info()"
   ]
  },
  {
   "cell_type": "markdown",
   "metadata": {},
   "source": [
    "## Подготовка данных"
   ]
  },
  {
   "cell_type": "markdown",
   "metadata": {},
   "source": [
    "### Определим количество пропусков"
   ]
  },
  {
   "cell_type": "code",
   "execution_count": 9,
   "metadata": {},
   "outputs": [
    {
     "data": {
      "text/html": [
       "<style  type=\"text/css\" >\n",
       "#T_6b49d_row0_col0{\n",
       "            background-color:  #b40426;\n",
       "            color:  #f1f1f1;\n",
       "        }#T_6b49d_row1_col0{\n",
       "            background-color:  #f08a6c;\n",
       "            color:  #000000;\n",
       "        }#T_6b49d_row2_col0{\n",
       "            background-color:  #f18d6f;\n",
       "            color:  #000000;\n",
       "        }#T_6b49d_row3_col0{\n",
       "            background-color:  #445acc;\n",
       "            color:  #f1f1f1;\n",
       "        }#T_6b49d_row4_col0,#T_6b49d_row5_col0,#T_6b49d_row6_col0,#T_6b49d_row7_col0,#T_6b49d_row8_col0,#T_6b49d_row9_col0,#T_6b49d_row10_col0{\n",
       "            background-color:  #3b4cc0;\n",
       "            color:  #f1f1f1;\n",
       "        }</style><table id=\"T_6b49d_\" ><thead>    <tr>        <th class=\"blank level0\" ></th>        <th class=\"col_heading level0 col0\" >0</th>    </tr></thead><tbody>\n",
       "                <tr>\n",
       "                        <th id=\"T_6b49d_level0_row0\" class=\"row_heading level0 row0\" >Critic_Score</th>\n",
       "                        <td id=\"T_6b49d_row0_col0\" class=\"data row0 col0\" >8578</td>\n",
       "            </tr>\n",
       "            <tr>\n",
       "                        <th id=\"T_6b49d_level0_row1\" class=\"row_heading level0 row1\" >Rating</th>\n",
       "                        <td id=\"T_6b49d_row1_col0\" class=\"data row1 col0\" >6766</td>\n",
       "            </tr>\n",
       "            <tr>\n",
       "                        <th id=\"T_6b49d_level0_row2\" class=\"row_heading level0 row2\" >User_Score</th>\n",
       "                        <td id=\"T_6b49d_row2_col0\" class=\"data row2 col0\" >6701</td>\n",
       "            </tr>\n",
       "            <tr>\n",
       "                        <th id=\"T_6b49d_level0_row3\" class=\"row_heading level0 row3\" >Year_of_Release</th>\n",
       "                        <td id=\"T_6b49d_row3_col0\" class=\"data row3 col0\" >269</td>\n",
       "            </tr>\n",
       "            <tr>\n",
       "                        <th id=\"T_6b49d_level0_row4\" class=\"row_heading level0 row4\" >Name</th>\n",
       "                        <td id=\"T_6b49d_row4_col0\" class=\"data row4 col0\" >2</td>\n",
       "            </tr>\n",
       "            <tr>\n",
       "                        <th id=\"T_6b49d_level0_row5\" class=\"row_heading level0 row5\" >Genre</th>\n",
       "                        <td id=\"T_6b49d_row5_col0\" class=\"data row5 col0\" >2</td>\n",
       "            </tr>\n",
       "            <tr>\n",
       "                        <th id=\"T_6b49d_level0_row6\" class=\"row_heading level0 row6\" >Platform</th>\n",
       "                        <td id=\"T_6b49d_row6_col0\" class=\"data row6 col0\" >0</td>\n",
       "            </tr>\n",
       "            <tr>\n",
       "                        <th id=\"T_6b49d_level0_row7\" class=\"row_heading level0 row7\" >NA_sales</th>\n",
       "                        <td id=\"T_6b49d_row7_col0\" class=\"data row7 col0\" >0</td>\n",
       "            </tr>\n",
       "            <tr>\n",
       "                        <th id=\"T_6b49d_level0_row8\" class=\"row_heading level0 row8\" >EU_sales</th>\n",
       "                        <td id=\"T_6b49d_row8_col0\" class=\"data row8 col0\" >0</td>\n",
       "            </tr>\n",
       "            <tr>\n",
       "                        <th id=\"T_6b49d_level0_row9\" class=\"row_heading level0 row9\" >JP_sales</th>\n",
       "                        <td id=\"T_6b49d_row9_col0\" class=\"data row9 col0\" >0</td>\n",
       "            </tr>\n",
       "            <tr>\n",
       "                        <th id=\"T_6b49d_level0_row10\" class=\"row_heading level0 row10\" >Other_sales</th>\n",
       "                        <td id=\"T_6b49d_row10_col0\" class=\"data row10 col0\" >0</td>\n",
       "            </tr>\n",
       "    </tbody></table>"
      ],
      "text/plain": [
       "<pandas.io.formats.style.Styler at 0x7f632b5fa0d0>"
      ]
     },
     "execution_count": 9,
     "metadata": {},
     "output_type": "execute_result"
    }
   ],
   "source": [
    "# Определим количество пропусков\n",
    "empty_columns = pd.DataFrame(data.isna().sum().sort_values(ascending=False)).style.background_gradient('coolwarm')\n",
    "empty_columns"
   ]
  },
  {
   "cell_type": "markdown",
   "metadata": {},
   "source": [
    "Предварительная оценка покзала наибольшее количество пропусков наблюдается в столбцах:\n",
    "- Critic_Score — оценка критиков - 8578\n",
    "- User_Score — оценка пользователей - 6766\n",
    "- Rating — рейтинг от организации ESRB - 6701\n",
    "- Year_of_Release - 269\n",
    "- Name - 2\n",
    "- Genre - 2\n",
    "\n",
    "Предложения по предобработке данных:\n",
    "\n",
    "Для изучения закономерностей при которых не учитываются оценки игры, предлагается не удалять строки с пропусками оценок:\n",
    "\n",
    "- Critic_Score — оставить пропуски\n",
    "- User_Score — оставить пропуски\n",
    "- Rating — оставить пропуски\n",
    "- Year_of_Release - удалить строку\n",
    "- Name - удалить строку\n",
    "- Genre - удалить строку\n",
    "\n",
    "Для изучения показателей связанных с рейтингами, предлагается вести работу только со строками, где имеются все необходимые оценки."
   ]
  },
  {
   "cell_type": "markdown",
   "metadata": {},
   "source": [
    "### Приведем названия столбцов к нижнему регистру"
   ]
  },
  {
   "cell_type": "code",
   "execution_count": 10,
   "metadata": {},
   "outputs": [],
   "source": [
    "data.columns = data.columns.str.lower()"
   ]
  },
  {
   "cell_type": "markdown",
   "metadata": {},
   "source": [
    "**Сразу удалим лишние строки**"
   ]
  },
  {
   "cell_type": "code",
   "execution_count": 11,
   "metadata": {},
   "outputs": [],
   "source": [
    "# Имя\n",
    "data = data.dropna(subset=['name'])\n",
    "# Жанр\n",
    "data = data.dropna(subset=['genre'])\n",
    "# Год релиза\n",
    "data = data.dropna(subset=['year_of_release'])"
   ]
  },
  {
   "cell_type": "code",
   "execution_count": 12,
   "metadata": {},
   "outputs": [],
   "source": [
    "# Удалим явные дубликаты и обновим индексы\n",
    "data = data.drop_duplicates().reset_index(drop=True) "
   ]
  },
  {
   "cell_type": "code",
   "execution_count": 13,
   "metadata": {
    "scrolled": true
   },
   "outputs": [
    {
     "name": "stdout",
     "output_type": "stream",
     "text": [
      "<class 'pandas.core.frame.DataFrame'>\n",
      "RangeIndex: 16444 entries, 0 to 16443\n",
      "Data columns (total 11 columns):\n",
      " #   Column           Non-Null Count  Dtype  \n",
      "---  ------           --------------  -----  \n",
      " 0   name             16444 non-null  object \n",
      " 1   platform         16444 non-null  object \n",
      " 2   year_of_release  16444 non-null  float64\n",
      " 3   genre            16444 non-null  object \n",
      " 4   na_sales         16444 non-null  float64\n",
      " 5   eu_sales         16444 non-null  float64\n",
      " 6   jp_sales         16444 non-null  float64\n",
      " 7   other_sales      16444 non-null  float64\n",
      " 8   critic_score     7983 non-null   float64\n",
      " 9   user_score       9839 non-null   object \n",
      " 10  rating           9768 non-null   object \n",
      "dtypes: float64(6), object(5)\n",
      "memory usage: 1.4+ MB\n"
     ]
    }
   ],
   "source": [
    "data.info()"
   ]
  },
  {
   "cell_type": "markdown",
   "metadata": {},
   "source": [
    "### Перобразуем данные в подходящий тип"
   ]
  },
  {
   "cell_type": "code",
   "execution_count": 14,
   "metadata": {},
   "outputs": [],
   "source": [
    "# преобразуем год выпуска в тип int\n",
    "data['year_of_release'] = data['year_of_release'].astype('int')"
   ]
  },
  {
   "cell_type": "markdown",
   "metadata": {},
   "source": [
    "Аббревиатура \"tbd\" расшифровывается как как To Be Determined, следовательно не текущий момент оценки нет. На его место ставим пропуск"
   ]
  },
  {
   "cell_type": "code",
   "execution_count": 15,
   "metadata": {},
   "outputs": [],
   "source": [
    "data['user_score'] = data['user_score'].replace('tbd', np.NaN)"
   ]
  },
  {
   "cell_type": "code",
   "execution_count": 16,
   "metadata": {},
   "outputs": [],
   "source": [
    "# Преобразуем оценку пользователей в формат float\n",
    "data['user_score'] = data['user_score'].astype('float')"
   ]
  },
  {
   "cell_type": "code",
   "execution_count": 17,
   "metadata": {},
   "outputs": [
    {
     "name": "stdout",
     "output_type": "stream",
     "text": [
      "<class 'pandas.core.frame.DataFrame'>\n",
      "RangeIndex: 16444 entries, 0 to 16443\n",
      "Data columns (total 11 columns):\n",
      " #   Column           Non-Null Count  Dtype  \n",
      "---  ------           --------------  -----  \n",
      " 0   name             16444 non-null  object \n",
      " 1   platform         16444 non-null  object \n",
      " 2   year_of_release  16444 non-null  int64  \n",
      " 3   genre            16444 non-null  object \n",
      " 4   na_sales         16444 non-null  float64\n",
      " 5   eu_sales         16444 non-null  float64\n",
      " 6   jp_sales         16444 non-null  float64\n",
      " 7   other_sales      16444 non-null  float64\n",
      " 8   critic_score     7983 non-null   float64\n",
      " 9   user_score       7463 non-null   float64\n",
      " 10  rating           9768 non-null   object \n",
      "dtypes: float64(6), int64(1), object(4)\n",
      "memory usage: 1.4+ MB\n"
     ]
    }
   ],
   "source": [
    "data.info()"
   ]
  },
  {
   "cell_type": "markdown",
   "metadata": {},
   "source": [
    "### Проверим догадки по поводу пропусков"
   ]
  },
  {
   "cell_type": "markdown",
   "metadata": {},
   "source": [
    "Проверим отсутствие рейтинга у игр отностительно года выпуска"
   ]
  },
  {
   "cell_type": "code",
   "execution_count": 18,
   "metadata": {},
   "outputs": [
    {
     "data": {
      "text/plain": [
       "year_of_release\n",
       "2010    456\n",
       "2008    446\n",
       "2011    433\n",
       "2009    415\n",
       "2007    376\n",
       "1998    347\n",
       "2006    328\n",
       "2012    298\n",
       "1999    296\n",
       "2015    291\n",
       "1997    270\n",
       "1996    256\n",
       "2014    236\n",
       "2005    233\n",
       "2013    228\n",
       "2016    222\n",
       "1995    219\n",
       "2000    202\n",
       "2002    174\n",
       "2004    164\n",
       "2003    162\n",
       "2001    143\n",
       "1994    120\n",
       "1993     60\n",
       "1981     46\n",
       "1991     41\n",
       "1992     41\n",
       "1982     36\n",
       "1986     21\n",
       "1989     17\n",
       "1983     17\n",
       "1990     16\n",
       "1987     16\n",
       "1988     14\n",
       "1984     14\n",
       "1985     13\n",
       "1980      9\n",
       "dtype: int64"
      ]
     },
     "execution_count": 18,
     "metadata": {},
     "output_type": "execute_result"
    }
   ],
   "source": [
    "data.query('rating.isna()').value_counts('year_of_release')"
   ]
  },
  {
   "cell_type": "code",
   "execution_count": 19,
   "metadata": {},
   "outputs": [
    {
     "name": "stdout",
     "output_type": "stream",
     "text": [
      "<class 'pandas.core.frame.DataFrame'>\n",
      "Int64Index: 6676 entries, 1 to 16443\n",
      "Data columns (total 11 columns):\n",
      " #   Column           Non-Null Count  Dtype  \n",
      "---  ------           --------------  -----  \n",
      " 0   name             6676 non-null   object \n",
      " 1   platform         6676 non-null   object \n",
      " 2   year_of_release  6676 non-null   int64  \n",
      " 3   genre            6676 non-null   object \n",
      " 4   na_sales         6676 non-null   float64\n",
      " 5   eu_sales         6676 non-null   float64\n",
      " 6   jp_sales         6676 non-null   float64\n",
      " 7   other_sales      6676 non-null   float64\n",
      " 8   critic_score     81 non-null     float64\n",
      " 9   user_score       83 non-null     float64\n",
      " 10  rating           0 non-null      object \n",
      "dtypes: float64(6), int64(1), object(4)\n",
      "memory usage: 625.9+ KB\n"
     ]
    }
   ],
   "source": [
    "data.query('rating.isna()').info()"
   ]
  },
  {
   "cell_type": "markdown",
   "metadata": {},
   "source": [
    "Показатели говорят о о том, что при отсутствии рейтинга у игры, также отсутствует ~99% оценок со стороны пользователей и критиков. Также рейтинг отсутствует в только у игр выпущенных до 2011 года. Это может быть связано с упрощением процессов присуждения рейтинга в 2011 году:\n",
    "\n",
    "*выдержка из википедии*\n",
    "\n",
    "«В апреле 2011 года ESRB представила свою краткую форму, бесплатный упрощенный, автоматизированный процесс присвоения рейтингов для консольных загружаемых игр, как способ решения проблемы быстро растущего объема игр, поставляемых в цифровом виде. Вместо того, чтобы заставлять оценщиков проверять каждый продукт (длинная форма), издатели этих игр заполняют серию вопросов с несколькими вариантами ответов, которые касаются контента по соответствующим категориям, включая насилие, сексуальное содержание, язык и т.д. Ответы автоматически определяют категорию рейтинга игры и описания контента. Игры, оцененные с помощью этого процесса, могут быть протестированы после выпуска, чтобы убедиться, что контент был должным образом раскрыт.»\n",
    "\n",
    "Пропуски в столбцах могут быть обусловлены отсутствием информации в базе данных, откуда взята информация по играм и их рейтингам.\n",
    "\n",
    "Исходя из того, что оценки пользователей и критиков имеют разные критерии. На оценки критиков влияет социальная повестка, политика издателя по отношению к критикам и работа издателей со СМИ. В свою очередь на оценки пользователей в большей степени влияет персональный игровой опыт, попадание в целевую аудиторию и политика компании. Поэтому пропуски будут оставлены как есть."
   ]
  },
  {
   "cell_type": "markdown",
   "metadata": {},
   "source": [
    "### Посчитаем суммарные продажи во всех регионах"
   ]
  },
  {
   "cell_type": "code",
   "execution_count": 20,
   "metadata": {},
   "outputs": [],
   "source": [
    "data['total_sales'] = data[['na_sales','eu_sales','jp_sales', 'other_sales']].sum(axis=1)"
   ]
  },
  {
   "cell_type": "code",
   "execution_count": 21,
   "metadata": {},
   "outputs": [
    {
     "data": {
      "text/html": [
       "<div>\n",
       "<style scoped>\n",
       "    .dataframe tbody tr th:only-of-type {\n",
       "        vertical-align: middle;\n",
       "    }\n",
       "\n",
       "    .dataframe tbody tr th {\n",
       "        vertical-align: top;\n",
       "    }\n",
       "\n",
       "    .dataframe thead th {\n",
       "        text-align: right;\n",
       "    }\n",
       "</style>\n",
       "<table border=\"1\" class=\"dataframe\">\n",
       "  <thead>\n",
       "    <tr style=\"text-align: right;\">\n",
       "      <th></th>\n",
       "      <th>name</th>\n",
       "      <th>platform</th>\n",
       "      <th>year_of_release</th>\n",
       "      <th>genre</th>\n",
       "      <th>na_sales</th>\n",
       "      <th>eu_sales</th>\n",
       "      <th>jp_sales</th>\n",
       "      <th>other_sales</th>\n",
       "      <th>critic_score</th>\n",
       "      <th>user_score</th>\n",
       "      <th>rating</th>\n",
       "      <th>total_sales</th>\n",
       "    </tr>\n",
       "  </thead>\n",
       "  <tbody>\n",
       "    <tr>\n",
       "      <th>0</th>\n",
       "      <td>Wii Sports</td>\n",
       "      <td>Wii</td>\n",
       "      <td>2006</td>\n",
       "      <td>Sports</td>\n",
       "      <td>41.36</td>\n",
       "      <td>28.96</td>\n",
       "      <td>3.77</td>\n",
       "      <td>8.45</td>\n",
       "      <td>76.0</td>\n",
       "      <td>8.0</td>\n",
       "      <td>E</td>\n",
       "      <td>82.54</td>\n",
       "    </tr>\n",
       "    <tr>\n",
       "      <th>1</th>\n",
       "      <td>Super Mario Bros.</td>\n",
       "      <td>NES</td>\n",
       "      <td>1985</td>\n",
       "      <td>Platform</td>\n",
       "      <td>29.08</td>\n",
       "      <td>3.58</td>\n",
       "      <td>6.81</td>\n",
       "      <td>0.77</td>\n",
       "      <td>NaN</td>\n",
       "      <td>NaN</td>\n",
       "      <td>NaN</td>\n",
       "      <td>40.24</td>\n",
       "    </tr>\n",
       "    <tr>\n",
       "      <th>2</th>\n",
       "      <td>Mario Kart Wii</td>\n",
       "      <td>Wii</td>\n",
       "      <td>2008</td>\n",
       "      <td>Racing</td>\n",
       "      <td>15.68</td>\n",
       "      <td>12.76</td>\n",
       "      <td>3.79</td>\n",
       "      <td>3.29</td>\n",
       "      <td>82.0</td>\n",
       "      <td>8.3</td>\n",
       "      <td>E</td>\n",
       "      <td>35.52</td>\n",
       "    </tr>\n",
       "    <tr>\n",
       "      <th>3</th>\n",
       "      <td>Wii Sports Resort</td>\n",
       "      <td>Wii</td>\n",
       "      <td>2009</td>\n",
       "      <td>Sports</td>\n",
       "      <td>15.61</td>\n",
       "      <td>10.93</td>\n",
       "      <td>3.28</td>\n",
       "      <td>2.95</td>\n",
       "      <td>80.0</td>\n",
       "      <td>8.0</td>\n",
       "      <td>E</td>\n",
       "      <td>32.77</td>\n",
       "    </tr>\n",
       "    <tr>\n",
       "      <th>4</th>\n",
       "      <td>Pokemon Red/Pokemon Blue</td>\n",
       "      <td>GB</td>\n",
       "      <td>1996</td>\n",
       "      <td>Role-Playing</td>\n",
       "      <td>11.27</td>\n",
       "      <td>8.89</td>\n",
       "      <td>10.22</td>\n",
       "      <td>1.00</td>\n",
       "      <td>NaN</td>\n",
       "      <td>NaN</td>\n",
       "      <td>NaN</td>\n",
       "      <td>31.38</td>\n",
       "    </tr>\n",
       "  </tbody>\n",
       "</table>\n",
       "</div>"
      ],
      "text/plain": [
       "                       name platform  year_of_release         genre  na_sales  \\\n",
       "0                Wii Sports      Wii             2006        Sports     41.36   \n",
       "1         Super Mario Bros.      NES             1985      Platform     29.08   \n",
       "2            Mario Kart Wii      Wii             2008        Racing     15.68   \n",
       "3         Wii Sports Resort      Wii             2009        Sports     15.61   \n",
       "4  Pokemon Red/Pokemon Blue       GB             1996  Role-Playing     11.27   \n",
       "\n",
       "   eu_sales  jp_sales  other_sales  critic_score  user_score rating  \\\n",
       "0     28.96      3.77         8.45          76.0         8.0      E   \n",
       "1      3.58      6.81         0.77           NaN         NaN    NaN   \n",
       "2     12.76      3.79         3.29          82.0         8.3      E   \n",
       "3     10.93      3.28         2.95          80.0         8.0      E   \n",
       "4      8.89     10.22         1.00           NaN         NaN    NaN   \n",
       "\n",
       "   total_sales  \n",
       "0        82.54  \n",
       "1        40.24  \n",
       "2        35.52  \n",
       "3        32.77  \n",
       "4        31.38  "
      ]
     },
     "execution_count": 21,
     "metadata": {},
     "output_type": "execute_result"
    }
   ],
   "source": [
    "data.head()"
   ]
  },
  {
   "cell_type": "markdown",
   "metadata": {},
   "source": [
    "## Ознакомление с данными"
   ]
  },
  {
   "cell_type": "markdown",
   "metadata": {},
   "source": [
    "### Выпук игр в разные годы"
   ]
  },
  {
   "cell_type": "code",
   "execution_count": 22,
   "metadata": {},
   "outputs": [
    {
     "data": {
      "image/png": "[encoded data removed]",
      "text/plain": [
       "<Figure size 432x288 with 1 Axes>"
      ]
     },
     "metadata": {
      "needs_background": "light"
     },
     "output_type": "display_data"
    }
   ],
   "source": [
    "# Построим гистограмму выпуска игр по годам\n",
    "data['year_of_release'].hist(bins=100)\n",
    "\n",
    "plt.xlabel('период')\n",
    "plt.ylabel('объём продаж')\n",
    "plt.title('Динамика продаж 1980 - 2016')\n",
    "plt.show()\n"
   ]
  },
  {
   "cell_type": "markdown",
   "metadata": {},
   "source": [
    "На текущий момент динамика выпуска игр снизилась более чем в 2 раза в сравнеии с 2009 годом. По вопросу важности данных есть два варианта, отбросить данные до 1995 года, как незначительные. Так как мы интернет-магазин, нам необходимо учитывать свежие тенденции игровой индустрии, поэтому далее будем использовать данные начиная с резкого падения рынка компьютерных игр, начиная с 2012 года."
   ]
  },
  {
   "cell_type": "markdown",
   "metadata": {},
   "source": [
    "### Динамика продаж по платформам"
   ]
  },
  {
   "cell_type": "code",
   "execution_count": 23,
   "metadata": {},
   "outputs": [
    {
     "data": {
      "text/html": [
       "<div>\n",
       "<style scoped>\n",
       "    .dataframe tbody tr th:only-of-type {\n",
       "        vertical-align: middle;\n",
       "    }\n",
       "\n",
       "    .dataframe tbody tr th {\n",
       "        vertical-align: top;\n",
       "    }\n",
       "\n",
       "    .dataframe thead th {\n",
       "        text-align: right;\n",
       "    }\n",
       "</style>\n",
       "<table border=\"1\" class=\"dataframe\">\n",
       "  <thead>\n",
       "    <tr style=\"text-align: right;\">\n",
       "      <th></th>\n",
       "      <th>total_sales</th>\n",
       "    </tr>\n",
       "    <tr>\n",
       "      <th>platform</th>\n",
       "      <th></th>\n",
       "    </tr>\n",
       "  </thead>\n",
       "  <tbody>\n",
       "    <tr>\n",
       "      <th>PS2</th>\n",
       "      <td>1233.56</td>\n",
       "    </tr>\n",
       "    <tr>\n",
       "      <th>X360</th>\n",
       "      <td>961.24</td>\n",
       "    </tr>\n",
       "    <tr>\n",
       "      <th>PS3</th>\n",
       "      <td>931.34</td>\n",
       "    </tr>\n",
       "    <tr>\n",
       "      <th>Wii</th>\n",
       "      <td>891.18</td>\n",
       "    </tr>\n",
       "    <tr>\n",
       "      <th>DS</th>\n",
       "      <td>802.78</td>\n",
       "    </tr>\n",
       "  </tbody>\n",
       "</table>\n",
       "</div>"
      ],
      "text/plain": [
       "          total_sales\n",
       "platform             \n",
       "PS2           1233.56\n",
       "X360           961.24\n",
       "PS3            931.34\n",
       "Wii            891.18\n",
       "DS             802.78"
      ]
     },
     "execution_count": 23,
     "metadata": {},
     "output_type": "execute_result"
    }
   ],
   "source": [
    "top_platform_total = data.pivot_table(index='platform', values='total_sales',\n",
    "                                      aggfunc=('sum')).sort_values(by='total_sales', ascending=False).head()\n",
    "top_platform_total"
   ]
  },
  {
   "cell_type": "code",
   "execution_count": 24,
   "metadata": {},
   "outputs": [
    {
     "data": {
      "image/png": "[encoded data removed]",
      "text/plain": [
       "<Figure size 864x432 with 1 Axes>"
      ]
     },
     "metadata": {
      "needs_background": "light"
     },
     "output_type": "display_data"
    }
   ],
   "source": [
    "plt.figure(figsize=(12, 6))\n",
    "plt.grid()\n",
    "plt.xticks(np.arange(1985, 2017), rotation=35)\n",
    "plt.xlabel('период')\n",
    "plt.ylabel('объём продаж')\n",
    "plt.title('Динамика продаж по платформам')\n",
    "\n",
    "\n",
    "for i in top_platform_total.index:\n",
    "    a = data[(data['platform'] == i) & (data['year_of_release'] >= 2000)].pivot_table(index='year_of_release', values='total_sales', aggfunc=('sum'))\n",
    "    plt.plot(a)\n",
    "    \n",
    "plt.legend(top_platform_total.index)\n",
    "plt.show()"
   ]
  },
  {
   "cell_type": "markdown",
   "metadata": {},
   "source": [
    "Наибольший финансовый результат, начиная с 1985 года показали платформы PS2, Xbox 360, Wii, PS3, Nintendo.\n",
    "\n",
    "Как показывает график, в среднем платформа приносит стабильный доход в течение четырех лет, затем её популярность падает, она устаревает."
   ]
  },
  {
   "cell_type": "markdown",
   "metadata": {},
   "source": [
    "### Построим график за атуальный период с 2012 - 2016 год"
   ]
  },
  {
   "cell_type": "code",
   "execution_count": 25,
   "metadata": {},
   "outputs": [
    {
     "data": {
      "image/png": "[encoded data removed]",
      "text/plain": [
       "<Figure size 864x432 with 1 Axes>"
      ]
     },
     "metadata": {
      "needs_background": "light"
     },
     "output_type": "display_data"
    }
   ],
   "source": [
    "# Создадим датафрейм с актуальными данными\n",
    "data_actual = data.loc[data['year_of_release'] >= 2012]\n",
    "\n",
    "top_platform_actual = data_actual.pivot_table(index='platform', values='total_sales',\n",
    "                                      aggfunc=('sum')).sort_values(by='total_sales', ascending=False).head(7)\n",
    "plt.figure(figsize=(12, 6))\n",
    "plt.grid()\n",
    "plt.xticks(np.arange(1985, 2017), rotation='vertical')\n",
    "plt.xlabel('период')\n",
    "plt.ylabel('объём продаж')\n",
    "plt.title('Динамика продаж по платформам')\n",
    "\n",
    "for i in top_platform_actual.index:\n",
    "    a = data_actual[data_actual['platform'] == i].pivot_table(index='year_of_release', values='total_sales', aggfunc=('count'))\n",
    "    plt.plot(a)\n",
    "    \n",
    "plt.legend(top_platform_actual.index)\n",
    "plt.show()"
   ]
  },
  {
   "cell_type": "markdown",
   "metadata": {},
   "source": [
    "На смену PS3, Xbox360 пришли PS4, XboxOne. Также положительную динамику имеет рынок PC. \n",
    "\n",
    "Учитывая, что новые платформы приносят стабильную прибыль в течение четырех лет, приоритетными платформами будем считать:\n",
    "- PS4\n",
    "- XboxOne\n",
    "- PC"
   ]
  },
  {
   "cell_type": "code",
   "execution_count": 26,
   "metadata": {},
   "outputs": [
    {
     "data": {
      "text/html": [
       "<div>\n",
       "<style scoped>\n",
       "    .dataframe tbody tr th:only-of-type {\n",
       "        vertical-align: middle;\n",
       "    }\n",
       "\n",
       "    .dataframe tbody tr th {\n",
       "        vertical-align: top;\n",
       "    }\n",
       "\n",
       "    .dataframe thead th {\n",
       "        text-align: right;\n",
       "    }\n",
       "</style>\n",
       "<table border=\"1\" class=\"dataframe\">\n",
       "  <thead>\n",
       "    <tr style=\"text-align: right;\">\n",
       "      <th></th>\n",
       "      <th>total_sales</th>\n",
       "    </tr>\n",
       "    <tr>\n",
       "      <th>platform</th>\n",
       "      <th></th>\n",
       "    </tr>\n",
       "  </thead>\n",
       "  <tbody>\n",
       "    <tr>\n",
       "      <th>PS4</th>\n",
       "      <td>314.14</td>\n",
       "    </tr>\n",
       "    <tr>\n",
       "      <th>PS3</th>\n",
       "      <td>288.79</td>\n",
       "    </tr>\n",
       "    <tr>\n",
       "      <th>X360</th>\n",
       "      <td>236.54</td>\n",
       "    </tr>\n",
       "    <tr>\n",
       "      <th>3DS</th>\n",
       "      <td>194.61</td>\n",
       "    </tr>\n",
       "    <tr>\n",
       "      <th>XOne</th>\n",
       "      <td>159.32</td>\n",
       "    </tr>\n",
       "    <tr>\n",
       "      <th>WiiU</th>\n",
       "      <td>82.19</td>\n",
       "    </tr>\n",
       "    <tr>\n",
       "      <th>PC</th>\n",
       "      <td>62.65</td>\n",
       "    </tr>\n",
       "  </tbody>\n",
       "</table>\n",
       "</div>"
      ],
      "text/plain": [
       "          total_sales\n",
       "platform             \n",
       "PS4            314.14\n",
       "PS3            288.79\n",
       "X360           236.54\n",
       "3DS            194.61\n",
       "XOne           159.32\n",
       "WiiU            82.19\n",
       "PC              62.65"
      ]
     },
     "execution_count": 26,
     "metadata": {},
     "output_type": "execute_result"
    }
   ],
   "source": [
    "top_platform_actual"
   ]
  },
  {
   "cell_type": "markdown",
   "metadata": {},
   "source": [
    "### Построим график «ящик с усами» на текущий год"
   ]
  },
  {
   "cell_type": "code",
   "execution_count": 27,
   "metadata": {},
   "outputs": [
    {
     "data": {
      "image/png": "[encoded data removed]",
      "text/plain": [
       "<Figure size 864x432 with 1 Axes>"
      ]
     },
     "metadata": {
      "needs_background": "light"
     },
     "output_type": "display_data"
    }
   ],
   "source": [
    "data_2016 = data.loc[data['year_of_release'] == 2016]\n",
    "\n",
    "import seaborn as sns\n",
    "plt.figure(figsize=(12, 6))\n",
    "plt.ylim(0,0.75)\n",
    "plt.grid(visible=True)\n",
    "plt.xlabel('платформа')\n",
    "plt.ylabel('объём продаж')\n",
    "plt.title('Размах продаж по платформам')\n",
    "\n",
    "sns.boxplot(y=data_2016['total_sales'], x=data_2016['platform'])\n",
    "\n",
    "plt.show()"
   ]
  },
  {
   "cell_type": "markdown",
   "metadata": {},
   "source": [
    "За 2016 год, наибольшую популярность показывают PS4, XboxOne, WiiU, Nintendo3DS. Согласно диаграмме, на итих платформах наибольшая вероятность выпуска успешной и продаваемой игры."
   ]
  },
  {
   "cell_type": "markdown",
   "metadata": {},
   "source": [
    "### Влияние оценок пользователей и критиков на продажи."
   ]
  },
  {
   "cell_type": "markdown",
   "metadata": {},
   "source": [
    "**Определим влияние критиков на продажи**"
   ]
  },
  {
   "cell_type": "code",
   "execution_count": 28,
   "metadata": {},
   "outputs": [],
   "source": [
    "# Отфильтруем интересующую нас платформу\n",
    "data_ps4_critic_score = data[(~data['critic_score'].isna()) & (data['platform'] == 'PS4')]"
   ]
  },
  {
   "cell_type": "code",
   "execution_count": 29,
   "metadata": {},
   "outputs": [
    {
     "data": {
      "image/png": "[encoded data removed]",
      "text/plain": [
       "<Figure size 864x432 with 1 Axes>"
      ]
     },
     "metadata": {
      "needs_background": "light"
     },
     "output_type": "display_data"
    }
   ],
   "source": [
    "# Построим диаграмму рассеивания\n",
    "data_ps4_critic_score.plot(x='critic_score', y='total_sales', kind='scatter', figsize=(12, 6), label='total_sales')\n",
    "\n",
    "# Построим линию тренда\n",
    "z = np.polyfit(data_ps4_critic_score['critic_score'], data_ps4_critic_score['total_sales'], 1)\n",
    "p = np.poly1d(z)\n",
    "plt.plot(data_ps4_critic_score['critic_score'], p(data_ps4_critic_score['critic_score']), color='r', label='линия тренда')\n",
    "\n",
    "plt.ylim(0,8)\n",
    "plt.xlabel('оценка критиков')\n",
    "plt.ylabel('продажи ед.')\n",
    "plt.title('Зависимось продаж от оценок критиков PS4')\n",
    "plt.grid()\n",
    "plt.legend()\n",
    "plt.show()"
   ]
  },
  {
   "cell_type": "code",
   "execution_count": 30,
   "metadata": {},
   "outputs": [
    {
     "data": {
      "text/plain": [
       "0.406567902061781"
      ]
     },
     "execution_count": 30,
     "metadata": {},
     "output_type": "execute_result"
    }
   ],
   "source": [
    "# Посчитаем корреляцию\n",
    "data_ps4_critic_score['total_sales'].corr(data_ps4_critic_score['critic_score'])"
   ]
  },
  {
   "cell_type": "markdown",
   "metadata": {},
   "source": [
    "Анализ показывает среднюю положительную корреляцию, оценки критиков оказывают влияние на продажи, но не всегда."
   ]
  },
  {
   "cell_type": "markdown",
   "metadata": {},
   "source": [
    "**Определим влияние оценок игроков на продажи**"
   ]
  },
  {
   "cell_type": "code",
   "execution_count": 31,
   "metadata": {},
   "outputs": [],
   "source": [
    "# Отфильтруем интересующие нас оценки\n",
    "data_ps4_user_score = data[(~data['user_score'].isna()) & (data['platform'] == 'PS4')]"
   ]
  },
  {
   "cell_type": "code",
   "execution_count": 32,
   "metadata": {},
   "outputs": [
    {
     "data": {
      "image/png": "[encoded data removed]",
      "text/plain": [
       "<Figure size 864x432 with 1 Axes>"
      ]
     },
     "metadata": {
      "needs_background": "light"
     },
     "output_type": "display_data"
    }
   ],
   "source": [
    "# Построим диаграмму рассеивания\n",
    "data_ps4_user_score.plot(x='user_score', y='total_sales', kind='scatter', figsize=(12, 6), label='total_sales')\n",
    "\n",
    "# Построим линию тренда\n",
    "z = np.polyfit(data_ps4_user_score['user_score'], data_ps4_user_score['total_sales'], 1)\n",
    "p = np.poly1d(z)\n",
    "plt.plot(data_ps4_user_score['user_score'], p(data_ps4_user_score['user_score']), color='r', label='линия тренда')\n",
    "\n",
    "plt.ylim(0,10)\n",
    "plt.xlabel('оценка игроков')\n",
    "plt.ylabel('продажи ед.')\n",
    "plt.title('Зависимось продаж от оценок игроков PS4')\n",
    "plt.grid()\n",
    "plt.legend()\n",
    "plt.show()"
   ]
  },
  {
   "cell_type": "code",
   "execution_count": 33,
   "metadata": {},
   "outputs": [
    {
     "data": {
      "text/plain": [
       "-0.031957110204556376"
      ]
     },
     "execution_count": 33,
     "metadata": {},
     "output_type": "execute_result"
    }
   ],
   "source": [
    "data_ps4_user_score['total_sales'].corr(data_ps4_user_score['user_score'])"
   ]
  },
  {
   "cell_type": "markdown",
   "metadata": {},
   "source": [
    "Анализ показал неожиданный результат. Корреляция между оценками игроков и продажами почти отсутствует, соответственно, отзывы игроков не влияют на уровень продаж."
   ]
  },
  {
   "cell_type": "markdown",
   "metadata": {},
   "source": [
    "### Посморим корреляцию на других актуальных платформах"
   ]
  },
  {
   "cell_type": "code",
   "execution_count": 34,
   "metadata": {},
   "outputs": [
    {
     "data": {
      "text/html": [
       "<div>\n",
       "<style scoped>\n",
       "    .dataframe tbody tr th:only-of-type {\n",
       "        vertical-align: middle;\n",
       "    }\n",
       "\n",
       "    .dataframe tbody tr th {\n",
       "        vertical-align: top;\n",
       "    }\n",
       "\n",
       "    .dataframe thead th {\n",
       "        text-align: right;\n",
       "    }\n",
       "</style>\n",
       "<table border=\"1\" class=\"dataframe\">\n",
       "  <thead>\n",
       "    <tr style=\"text-align: right;\">\n",
       "      <th></th>\n",
       "      <th>user_corr</th>\n",
       "      <th>critic_corr</th>\n",
       "    </tr>\n",
       "  </thead>\n",
       "  <tbody>\n",
       "    <tr>\n",
       "      <th>PS4</th>\n",
       "      <td>-0.122461</td>\n",
       "      <td>0.375695</td>\n",
       "    </tr>\n",
       "    <tr>\n",
       "      <th>XOne</th>\n",
       "      <td>-0.130303</td>\n",
       "      <td>0.412005</td>\n",
       "    </tr>\n",
       "    <tr>\n",
       "      <th>WiiU</th>\n",
       "      <td>0.437630</td>\n",
       "      <td>0.486490</td>\n",
       "    </tr>\n",
       "    <tr>\n",
       "      <th>3DS</th>\n",
       "      <td>0.373365</td>\n",
       "      <td>0.338408</td>\n",
       "    </tr>\n",
       "    <tr>\n",
       "      <th>PC</th>\n",
       "      <td>0.116183</td>\n",
       "      <td>0.254152</td>\n",
       "    </tr>\n",
       "    <tr>\n",
       "      <th>PSV</th>\n",
       "      <td>-0.088749</td>\n",
       "      <td>0.184807</td>\n",
       "    </tr>\n",
       "  </tbody>\n",
       "</table>\n",
       "</div>"
      ],
      "text/plain": [
       "      user_corr  critic_corr\n",
       "PS4   -0.122461     0.375695\n",
       "XOne  -0.130303     0.412005\n",
       "WiiU   0.437630     0.486490\n",
       "3DS    0.373365     0.338408\n",
       "PC     0.116183     0.254152\n",
       "PSV   -0.088749     0.184807"
      ]
     },
     "execution_count": 34,
     "metadata": {},
     "output_type": "execute_result"
    }
   ],
   "source": [
    "# С помощью цикла заполним словарь данными о корреляции продаж и оценок\n",
    "user_score_corr = {}\n",
    "\n",
    "for i in data.query('~user_score.isna() and ~critic_score.isna() and year_of_release == 2016')['platform'].unique():\n",
    "    user_corr = data[(data['platform'] == i) & (data['year_of_release'] == 2016)]['total_sales'].corr(data[data['platform'] == i]['user_score'])\n",
    "    critic_corr = data[(data['platform'] == i) & (data['year_of_release'] == 2016)]['total_sales'].corr(data[data['platform'] == i]['critic_score'])\n",
    "    user_score_corr[i] =  [user_corr, critic_corr]\n",
    "    \n",
    "all_score_corr = pd.DataFrame(user_score_corr).T\n",
    "all_score_corr.columns = ['user_corr', 'critic_corr']\n",
    "all_score_corr"
   ]
  },
  {
   "cell_type": "code",
   "execution_count": 35,
   "metadata": {},
   "outputs": [
    {
     "data": {
      "text/plain": [
       "Text(0, 0.5, 'корреляция')"
      ]
     },
     "execution_count": 35,
     "metadata": {},
     "output_type": "execute_result"
    },
    {
     "data": {
      "image/png": "[encoded data removed]",
      "text/plain": [
       "<Figure size 864x432 with 1 Axes>"
      ]
     },
     "metadata": {
      "needs_background": "light"
     },
     "output_type": "display_data"
    }
   ],
   "source": [
    "all_score_corr.plot.bar(figsize=(12,6), grid=True)\n",
    "\n",
    "plt.title('Корреляция продаж и оценок')\n",
    "plt.xlabel('платформа')\n",
    "plt.ylabel('корреляция')"
   ]
  },
  {
   "cell_type": "markdown",
   "metadata": {},
   "source": [
    "Оценка критиков оказывает большее влияние на количество продаж, чем оценка пользователей в большинстве случаев, исколючением является платформа Nintendo3DS, где пользовательские оценки имеют больший вес."
   ]
  },
  {
   "cell_type": "markdown",
   "metadata": {},
   "source": [
    "### Определим наиболее прибыльные жанры за атуальный период с 2012 - 2016 год"
   ]
  },
  {
   "cell_type": "code",
   "execution_count": 36,
   "metadata": {},
   "outputs": [
    {
     "data": {
      "text/html": [
       "<div>\n",
       "<style scoped>\n",
       "    .dataframe tbody tr th:only-of-type {\n",
       "        vertical-align: middle;\n",
       "    }\n",
       "\n",
       "    .dataframe tbody tr th {\n",
       "        vertical-align: top;\n",
       "    }\n",
       "\n",
       "    .dataframe thead th {\n",
       "        text-align: right;\n",
       "    }\n",
       "</style>\n",
       "<table border=\"1\" class=\"dataframe\">\n",
       "  <thead>\n",
       "    <tr style=\"text-align: right;\">\n",
       "      <th></th>\n",
       "      <th>total_sales</th>\n",
       "    </tr>\n",
       "    <tr>\n",
       "      <th>genre</th>\n",
       "      <th></th>\n",
       "    </tr>\n",
       "  </thead>\n",
       "  <tbody>\n",
       "    <tr>\n",
       "      <th>Shooter</th>\n",
       "      <td>1.296723</td>\n",
       "    </tr>\n",
       "    <tr>\n",
       "      <th>Platform</th>\n",
       "      <td>0.717647</td>\n",
       "    </tr>\n",
       "    <tr>\n",
       "      <th>Sports</th>\n",
       "      <td>0.675634</td>\n",
       "    </tr>\n",
       "    <tr>\n",
       "      <th>Role-Playing</th>\n",
       "      <td>0.521081</td>\n",
       "    </tr>\n",
       "    <tr>\n",
       "      <th>Racing</th>\n",
       "      <td>0.465217</td>\n",
       "    </tr>\n",
       "    <tr>\n",
       "      <th>Misc</th>\n",
       "      <td>0.442917</td>\n",
       "    </tr>\n",
       "    <tr>\n",
       "      <th>Simulation</th>\n",
       "      <td>0.439000</td>\n",
       "    </tr>\n",
       "    <tr>\n",
       "      <th>Action</th>\n",
       "      <td>0.427856</td>\n",
       "    </tr>\n",
       "    <tr>\n",
       "      <th>Fighting</th>\n",
       "      <td>0.408165</td>\n",
       "    </tr>\n",
       "    <tr>\n",
       "      <th>Strategy</th>\n",
       "      <td>0.187887</td>\n",
       "    </tr>\n",
       "    <tr>\n",
       "      <th>Puzzle</th>\n",
       "      <td>0.174643</td>\n",
       "    </tr>\n",
       "    <tr>\n",
       "      <th>Adventure</th>\n",
       "      <td>0.097450</td>\n",
       "    </tr>\n",
       "  </tbody>\n",
       "</table>\n",
       "</div>"
      ],
      "text/plain": [
       "              total_sales\n",
       "genre                    \n",
       "Shooter          1.296723\n",
       "Platform         0.717647\n",
       "Sports           0.675634\n",
       "Role-Playing     0.521081\n",
       "Racing           0.465217\n",
       "Misc             0.442917\n",
       "Simulation       0.439000\n",
       "Action           0.427856\n",
       "Fighting         0.408165\n",
       "Strategy         0.187887\n",
       "Puzzle           0.174643\n",
       "Adventure        0.097450"
      ]
     },
     "execution_count": 36,
     "metadata": {},
     "output_type": "execute_result"
    }
   ],
   "source": [
    "# Данные отразим в сводной таблице, посчитаем среднее количество проданных копий на игру конкретного жанра\n",
    "genre_sales = data[data['year_of_release'] >= 2012].pivot_table(index='genre', values='total_sales',\n",
    "                               aggfunc=('mean')).sort_values(by='total_sales', ascending=False)\n",
    "genre_sales"
   ]
  },
  {
   "cell_type": "code",
   "execution_count": 37,
   "metadata": {},
   "outputs": [
    {
     "data": {
      "image/png": "[encoded data removed]",
      "text/plain": [
       "<Figure size 864x432 with 1 Axes>"
      ]
     },
     "metadata": {
      "needs_background": "light"
     },
     "output_type": "display_data"
    }
   ],
   "source": [
    "genre_sales.plot(kind='bar', figsize=(12,6), grid=True)\n",
    "\n",
    "plt.title('Среднее количество продынных копий на представителя жанра')\n",
    "plt.xlabel('платформа')\n",
    "plt.ylabel('количество, млн.')\n",
    "plt.show()"
   ]
  },
  {
   "cell_type": "markdown",
   "metadata": {},
   "source": [
    "Впечатляющий результат показывает жанр шутеров, почти в 2 раза опережая платформеры. На третьем месте расположились спортивные симуляторы. Ролевые игры всего-лишт на 4-м месте, это можно объяснить тем, что ролёвки чаще всего занимают free-to-play сегмент."
   ]
  },
  {
   "cell_type": "markdown",
   "metadata": {},
   "source": [
    "## Региональный портрет пользователя"
   ]
  },
  {
   "cell_type": "markdown",
   "metadata": {},
   "source": [
    "Определим наиболее популярные платформы по регионам."
   ]
  },
  {
   "cell_type": "code",
   "execution_count": 38,
   "metadata": {},
   "outputs": [
    {
     "data": {
      "text/html": [
       "<div>\n",
       "<style scoped>\n",
       "    .dataframe tbody tr th:only-of-type {\n",
       "        vertical-align: middle;\n",
       "    }\n",
       "\n",
       "    .dataframe tbody tr th {\n",
       "        vertical-align: top;\n",
       "    }\n",
       "\n",
       "    .dataframe thead th {\n",
       "        text-align: right;\n",
       "    }\n",
       "</style>\n",
       "<table border=\"1\" class=\"dataframe\">\n",
       "  <thead>\n",
       "    <tr style=\"text-align: right;\">\n",
       "      <th></th>\n",
       "      <th>na_sales</th>\n",
       "      <th>percent</th>\n",
       "    </tr>\n",
       "    <tr>\n",
       "      <th>platform</th>\n",
       "      <th></th>\n",
       "      <th></th>\n",
       "    </tr>\n",
       "  </thead>\n",
       "  <tbody>\n",
       "    <tr>\n",
       "      <th>X360</th>\n",
       "      <td>140.05</td>\n",
       "      <td>27.976428</td>\n",
       "    </tr>\n",
       "    <tr>\n",
       "      <th>PS4</th>\n",
       "      <td>108.74</td>\n",
       "      <td>21.721934</td>\n",
       "    </tr>\n",
       "    <tr>\n",
       "      <th>PS3</th>\n",
       "      <td>103.38</td>\n",
       "      <td>20.651219</td>\n",
       "    </tr>\n",
       "    <tr>\n",
       "      <th>XOne</th>\n",
       "      <td>93.12</td>\n",
       "      <td>18.601678</td>\n",
       "    </tr>\n",
       "    <tr>\n",
       "      <th>3DS</th>\n",
       "      <td>55.31</td>\n",
       "      <td>11.048742</td>\n",
       "    </tr>\n",
       "  </tbody>\n",
       "</table>\n",
       "</div>"
      ],
      "text/plain": [
       "          na_sales    percent\n",
       "platform                     \n",
       "X360        140.05  27.976428\n",
       "PS4         108.74  21.721934\n",
       "PS3         103.38  20.651219\n",
       "XOne         93.12  18.601678\n",
       "3DS          55.31  11.048742"
      ]
     },
     "metadata": {},
     "output_type": "display_data"
    },
    {
     "data": {
      "text/html": [
       "<div>\n",
       "<style scoped>\n",
       "    .dataframe tbody tr th:only-of-type {\n",
       "        vertical-align: middle;\n",
       "    }\n",
       "\n",
       "    .dataframe tbody tr th {\n",
       "        vertical-align: top;\n",
       "    }\n",
       "\n",
       "    .dataframe thead th {\n",
       "        text-align: right;\n",
       "    }\n",
       "</style>\n",
       "<table border=\"1\" class=\"dataframe\">\n",
       "  <thead>\n",
       "    <tr style=\"text-align: right;\">\n",
       "      <th></th>\n",
       "      <th>eu_sales</th>\n",
       "      <th>percent</th>\n",
       "    </tr>\n",
       "    <tr>\n",
       "      <th>platform</th>\n",
       "      <th></th>\n",
       "      <th></th>\n",
       "    </tr>\n",
       "  </thead>\n",
       "  <tbody>\n",
       "    <tr>\n",
       "      <th>PS4</th>\n",
       "      <td>141.09</td>\n",
       "      <td>33.858891</td>\n",
       "    </tr>\n",
       "    <tr>\n",
       "      <th>PS3</th>\n",
       "      <td>106.86</td>\n",
       "      <td>25.644348</td>\n",
       "    </tr>\n",
       "    <tr>\n",
       "      <th>X360</th>\n",
       "      <td>74.52</td>\n",
       "      <td>17.883369</td>\n",
       "    </tr>\n",
       "    <tr>\n",
       "      <th>XOne</th>\n",
       "      <td>51.59</td>\n",
       "      <td>12.380610</td>\n",
       "    </tr>\n",
       "    <tr>\n",
       "      <th>3DS</th>\n",
       "      <td>42.64</td>\n",
       "      <td>10.232781</td>\n",
       "    </tr>\n",
       "  </tbody>\n",
       "</table>\n",
       "</div>"
      ],
      "text/plain": [
       "          eu_sales    percent\n",
       "platform                     \n",
       "PS4         141.09  33.858891\n",
       "PS3         106.86  25.644348\n",
       "X360         74.52  17.883369\n",
       "XOne         51.59  12.380610\n",
       "3DS          42.64  10.232781"
      ]
     },
     "metadata": {},
     "output_type": "display_data"
    },
    {
     "data": {
      "text/html": [
       "<div>\n",
       "<style scoped>\n",
       "    .dataframe tbody tr th:only-of-type {\n",
       "        vertical-align: middle;\n",
       "    }\n",
       "\n",
       "    .dataframe tbody tr th {\n",
       "        vertical-align: top;\n",
       "    }\n",
       "\n",
       "    .dataframe thead th {\n",
       "        text-align: right;\n",
       "    }\n",
       "</style>\n",
       "<table border=\"1\" class=\"dataframe\">\n",
       "  <thead>\n",
       "    <tr style=\"text-align: right;\">\n",
       "      <th></th>\n",
       "      <th>jp_sales</th>\n",
       "      <th>percent</th>\n",
       "    </tr>\n",
       "    <tr>\n",
       "      <th>platform</th>\n",
       "      <th></th>\n",
       "      <th></th>\n",
       "    </tr>\n",
       "  </thead>\n",
       "  <tbody>\n",
       "    <tr>\n",
       "      <th>3DS</th>\n",
       "      <td>87.79</td>\n",
       "      <td>50.719279</td>\n",
       "    </tr>\n",
       "    <tr>\n",
       "      <th>PS3</th>\n",
       "      <td>35.29</td>\n",
       "      <td>20.388237</td>\n",
       "    </tr>\n",
       "    <tr>\n",
       "      <th>PSV</th>\n",
       "      <td>21.04</td>\n",
       "      <td>12.155526</td>\n",
       "    </tr>\n",
       "    <tr>\n",
       "      <th>PS4</th>\n",
       "      <td>15.96</td>\n",
       "      <td>9.220637</td>\n",
       "    </tr>\n",
       "    <tr>\n",
       "      <th>WiiU</th>\n",
       "      <td>13.01</td>\n",
       "      <td>7.516321</td>\n",
       "    </tr>\n",
       "  </tbody>\n",
       "</table>\n",
       "</div>"
      ],
      "text/plain": [
       "          jp_sales    percent\n",
       "platform                     \n",
       "3DS          87.79  50.719279\n",
       "PS3          35.29  20.388237\n",
       "PSV          21.04  12.155526\n",
       "PS4          15.96   9.220637\n",
       "WiiU         13.01   7.516321"
      ]
     },
     "metadata": {},
     "output_type": "display_data"
    },
    {
     "data": {
      "image/png": "[encoded data removed]",
      "text/plain": [
       "<Figure size 432x288 with 1 Axes>"
      ]
     },
     "metadata": {
      "needs_background": "light"
     },
     "output_type": "display_data"
    },
    {
     "data": {
      "image/png": "[encoded data removed]",
      "text/plain": [
       "<Figure size 432x288 with 1 Axes>"
      ]
     },
     "metadata": {
      "needs_background": "light"
     },
     "output_type": "display_data"
    },
    {
     "data": {
      "image/png": "[encoded data removed]",
      "text/plain": [
       "<Figure size 432x288 with 1 Axes>"
      ]
     },
     "metadata": {
      "needs_background": "light"
     },
     "output_type": "display_data"
    }
   ],
   "source": [
    "for i in data_actual.loc[:, 'na_sales':'jp_sales']:\n",
    "    sales = data_actual.pivot_table(index='platform', values=i, aggfunc=('sum')).sort_values(by=i, ascending=False).head()\n",
    "    sales['percent'] = sales[i] / sales[i].sum() * 100\n",
    "    display(sales)\n",
    "    \n",
    "    sales.plot(kind='bar', grid=True)\n",
    "    plt.xlabel('платформа')\n",
    "    plt.ylabel('продажи')\n",
    "    \n",
    "plt.show()"
   ]
  },
  {
   "cell_type": "markdown",
   "metadata": {},
   "source": [
    "Анализ на актуальный период 2012 - 2016 год показал:\n",
    "\n",
    "1. Для Северной Америки наиболее популярны платформы XBox360, PS4 и PS3. Новая модель XBox пока что не завоевала позиции предшественника.\n",
    "2. Для Европы - больше популярностью пользуются Sony. Американский XBox не так популярен у европейцев.\n",
    "3. В японском сигменте полное лидерство имеет Nintendo и Sony, американский XBox крайне непопулярен, это может быть связано с особенностями национальной японской культуры."
   ]
  },
  {
   "cell_type": "markdown",
   "metadata": {},
   "source": [
    "Определим наиболее популярные жанры по регионам."
   ]
  },
  {
   "cell_type": "code",
   "execution_count": 39,
   "metadata": {},
   "outputs": [
    {
     "data": {
      "text/html": [
       "<div>\n",
       "<style scoped>\n",
       "    .dataframe tbody tr th:only-of-type {\n",
       "        vertical-align: middle;\n",
       "    }\n",
       "\n",
       "    .dataframe tbody tr th {\n",
       "        vertical-align: top;\n",
       "    }\n",
       "\n",
       "    .dataframe thead th {\n",
       "        text-align: right;\n",
       "    }\n",
       "</style>\n",
       "<table border=\"1\" class=\"dataframe\">\n",
       "  <thead>\n",
       "    <tr style=\"text-align: right;\">\n",
       "      <th></th>\n",
       "      <th>na_sales</th>\n",
       "      <th>percent</th>\n",
       "    </tr>\n",
       "    <tr>\n",
       "      <th>genre</th>\n",
       "      <th></th>\n",
       "      <th></th>\n",
       "    </tr>\n",
       "  </thead>\n",
       "  <tbody>\n",
       "    <tr>\n",
       "      <th>Action</th>\n",
       "      <td>177.84</td>\n",
       "      <td>35.123339</td>\n",
       "    </tr>\n",
       "    <tr>\n",
       "      <th>Shooter</th>\n",
       "      <td>144.77</td>\n",
       "      <td>28.592025</td>\n",
       "    </tr>\n",
       "    <tr>\n",
       "      <th>Sports</th>\n",
       "      <td>81.53</td>\n",
       "      <td>16.102147</td>\n",
       "    </tr>\n",
       "    <tr>\n",
       "      <th>Role-Playing</th>\n",
       "      <td>64.00</td>\n",
       "      <td>12.639978</td>\n",
       "    </tr>\n",
       "    <tr>\n",
       "      <th>Misc</th>\n",
       "      <td>38.19</td>\n",
       "      <td>7.542512</td>\n",
       "    </tr>\n",
       "  </tbody>\n",
       "</table>\n",
       "</div>"
      ],
      "text/plain": [
       "              na_sales    percent\n",
       "genre                            \n",
       "Action          177.84  35.123339\n",
       "Shooter         144.77  28.592025\n",
       "Sports           81.53  16.102147\n",
       "Role-Playing     64.00  12.639978\n",
       "Misc             38.19   7.542512"
      ]
     },
     "metadata": {},
     "output_type": "display_data"
    },
    {
     "data": {
      "text/html": [
       "<div>\n",
       "<style scoped>\n",
       "    .dataframe tbody tr th:only-of-type {\n",
       "        vertical-align: middle;\n",
       "    }\n",
       "\n",
       "    .dataframe tbody tr th {\n",
       "        vertical-align: top;\n",
       "    }\n",
       "\n",
       "    .dataframe thead th {\n",
       "        text-align: right;\n",
       "    }\n",
       "</style>\n",
       "<table border=\"1\" class=\"dataframe\">\n",
       "  <thead>\n",
       "    <tr style=\"text-align: right;\">\n",
       "      <th></th>\n",
       "      <th>eu_sales</th>\n",
       "      <th>percent</th>\n",
       "    </tr>\n",
       "    <tr>\n",
       "      <th>genre</th>\n",
       "      <th></th>\n",
       "      <th></th>\n",
       "    </tr>\n",
       "  </thead>\n",
       "  <tbody>\n",
       "    <tr>\n",
       "      <th>Action</th>\n",
       "      <td>159.34</td>\n",
       "      <td>38.145169</td>\n",
       "    </tr>\n",
       "    <tr>\n",
       "      <th>Shooter</th>\n",
       "      <td>113.47</td>\n",
       "      <td>27.164129</td>\n",
       "    </tr>\n",
       "    <tr>\n",
       "      <th>Sports</th>\n",
       "      <td>69.09</td>\n",
       "      <td>16.539787</td>\n",
       "    </tr>\n",
       "    <tr>\n",
       "      <th>Role-Playing</th>\n",
       "      <td>48.53</td>\n",
       "      <td>11.617830</td>\n",
       "    </tr>\n",
       "    <tr>\n",
       "      <th>Racing</th>\n",
       "      <td>27.29</td>\n",
       "      <td>6.533084</td>\n",
       "    </tr>\n",
       "  </tbody>\n",
       "</table>\n",
       "</div>"
      ],
      "text/plain": [
       "              eu_sales    percent\n",
       "genre                            \n",
       "Action          159.34  38.145169\n",
       "Shooter         113.47  27.164129\n",
       "Sports           69.09  16.539787\n",
       "Role-Playing     48.53  11.617830\n",
       "Racing           27.29   6.533084"
      ]
     },
     "metadata": {},
     "output_type": "display_data"
    },
    {
     "data": {
      "text/html": [
       "<div>\n",
       "<style scoped>\n",
       "    .dataframe tbody tr th:only-of-type {\n",
       "        vertical-align: middle;\n",
       "    }\n",
       "\n",
       "    .dataframe tbody tr th {\n",
       "        vertical-align: top;\n",
       "    }\n",
       "\n",
       "    .dataframe thead th {\n",
       "        text-align: right;\n",
       "    }\n",
       "</style>\n",
       "<table border=\"1\" class=\"dataframe\">\n",
       "  <thead>\n",
       "    <tr style=\"text-align: right;\">\n",
       "      <th></th>\n",
       "      <th>jp_sales</th>\n",
       "      <th>percent</th>\n",
       "    </tr>\n",
       "    <tr>\n",
       "      <th>genre</th>\n",
       "      <th></th>\n",
       "      <th></th>\n",
       "    </tr>\n",
       "  </thead>\n",
       "  <tbody>\n",
       "    <tr>\n",
       "      <th>Role-Playing</th>\n",
       "      <td>65.44</td>\n",
       "      <td>43.352103</td>\n",
       "    </tr>\n",
       "    <tr>\n",
       "      <th>Action</th>\n",
       "      <td>52.80</td>\n",
       "      <td>34.978470</td>\n",
       "    </tr>\n",
       "    <tr>\n",
       "      <th>Misc</th>\n",
       "      <td>12.86</td>\n",
       "      <td>8.519377</td>\n",
       "    </tr>\n",
       "    <tr>\n",
       "      <th>Simulation</th>\n",
       "      <td>10.41</td>\n",
       "      <td>6.896323</td>\n",
       "    </tr>\n",
       "    <tr>\n",
       "      <th>Fighting</th>\n",
       "      <td>9.44</td>\n",
       "      <td>6.253726</td>\n",
       "    </tr>\n",
       "  </tbody>\n",
       "</table>\n",
       "</div>"
      ],
      "text/plain": [
       "              jp_sales    percent\n",
       "genre                            \n",
       "Role-Playing     65.44  43.352103\n",
       "Action           52.80  34.978470\n",
       "Misc             12.86   8.519377\n",
       "Simulation       10.41   6.896323\n",
       "Fighting          9.44   6.253726"
      ]
     },
     "metadata": {},
     "output_type": "display_data"
    },
    {
     "data": {
      "image/png": "[encoded data removed]",
      "text/plain": [
       "<Figure size 432x288 with 1 Axes>"
      ]
     },
     "metadata": {
      "needs_background": "light"
     },
     "output_type": "display_data"
    },
    {
     "data": {
      "image/png": "[encoded data removed]",
      "text/plain": [
       "<Figure size 432x288 with 1 Axes>"
      ]
     },
     "metadata": {
      "needs_background": "light"
     },
     "output_type": "display_data"
    },
    {
     "data": {
      "image/png": "[encoded data removed]",
      "text/plain": [
       "<Figure size 432x288 with 1 Axes>"
      ]
     },
     "metadata": {
      "needs_background": "light"
     },
     "output_type": "display_data"
    }
   ],
   "source": [
    "for i in data_actual.loc[:, 'na_sales':'jp_sales']:\n",
    "    sales = data_actual.pivot_table(index='genre', values=i, aggfunc=('sum')).sort_values(by=i, ascending=False).head()\n",
    "    sales['percent'] = sales[i] / sales[i].sum() * 100\n",
    "    display(sales)\n",
    "    \n",
    "    sales.plot(kind='bar', grid=True)\n",
    "    plt.xlabel('жанр')\n",
    "    plt.ylabel('продажи')\n",
    "    \n",
    "plt.show()"
   ]
  },
  {
   "cell_type": "markdown",
   "metadata": {},
   "source": [
    "Портрет американского и европейского игрока почти идетичен, у игроков похожие предпочтения, за исключением пятой по популярности позиции. Американцы больше предпочитают аркады, а европейцы - гонки.\n",
    "Портрет японского игрока кардинально отличается, японцы любят ролевые игры и экшн, по остальным жанрам - результаты посредственные, при этом преобладают аркады, симуляторы и файтинги."
   ]
  },
  {
   "cell_type": "code",
   "execution_count": 40,
   "metadata": {},
   "outputs": [
    {
     "data": {
      "text/html": [
       "<div>\n",
       "<style scoped>\n",
       "    .dataframe tbody tr th:only-of-type {\n",
       "        vertical-align: middle;\n",
       "    }\n",
       "\n",
       "    .dataframe tbody tr th {\n",
       "        vertical-align: top;\n",
       "    }\n",
       "\n",
       "    .dataframe thead th {\n",
       "        text-align: right;\n",
       "    }\n",
       "</style>\n",
       "<table border=\"1\" class=\"dataframe\">\n",
       "  <thead>\n",
       "    <tr style=\"text-align: right;\">\n",
       "      <th></th>\n",
       "      <th>na_sales</th>\n",
       "      <th>percent</th>\n",
       "    </tr>\n",
       "    <tr>\n",
       "      <th>rating</th>\n",
       "      <th></th>\n",
       "      <th></th>\n",
       "    </tr>\n",
       "  </thead>\n",
       "  <tbody>\n",
       "    <tr>\n",
       "      <th>M</th>\n",
       "      <td>231.57</td>\n",
       "      <td>47.485953</td>\n",
       "    </tr>\n",
       "    <tr>\n",
       "      <th>E</th>\n",
       "      <td>114.37</td>\n",
       "      <td>23.452815</td>\n",
       "    </tr>\n",
       "    <tr>\n",
       "      <th>E10+</th>\n",
       "      <td>75.70</td>\n",
       "      <td>15.523110</td>\n",
       "    </tr>\n",
       "    <tr>\n",
       "      <th>T</th>\n",
       "      <td>66.02</td>\n",
       "      <td>13.538121</td>\n",
       "    </tr>\n",
       "  </tbody>\n",
       "</table>\n",
       "</div>"
      ],
      "text/plain": [
       "        na_sales    percent\n",
       "rating                     \n",
       "M         231.57  47.485953\n",
       "E         114.37  23.452815\n",
       "E10+       75.70  15.523110\n",
       "T          66.02  13.538121"
      ]
     },
     "metadata": {},
     "output_type": "display_data"
    },
    {
     "data": {
      "text/html": [
       "<div>\n",
       "<style scoped>\n",
       "    .dataframe tbody tr th:only-of-type {\n",
       "        vertical-align: middle;\n",
       "    }\n",
       "\n",
       "    .dataframe tbody tr th {\n",
       "        vertical-align: top;\n",
       "    }\n",
       "\n",
       "    .dataframe thead th {\n",
       "        text-align: right;\n",
       "    }\n",
       "</style>\n",
       "<table border=\"1\" class=\"dataframe\">\n",
       "  <thead>\n",
       "    <tr style=\"text-align: right;\">\n",
       "      <th></th>\n",
       "      <th>eu_sales</th>\n",
       "      <th>percent</th>\n",
       "    </tr>\n",
       "    <tr>\n",
       "      <th>rating</th>\n",
       "      <th></th>\n",
       "      <th></th>\n",
       "    </tr>\n",
       "  </thead>\n",
       "  <tbody>\n",
       "    <tr>\n",
       "      <th>M</th>\n",
       "      <td>193.96</td>\n",
       "      <td>46.701339</td>\n",
       "    </tr>\n",
       "    <tr>\n",
       "      <th>E</th>\n",
       "      <td>113.03</td>\n",
       "      <td>27.215159</td>\n",
       "    </tr>\n",
       "    <tr>\n",
       "      <th>E10+</th>\n",
       "      <td>55.37</td>\n",
       "      <td>13.331889</td>\n",
       "    </tr>\n",
       "    <tr>\n",
       "      <th>T</th>\n",
       "      <td>52.96</td>\n",
       "      <td>12.751613</td>\n",
       "    </tr>\n",
       "  </tbody>\n",
       "</table>\n",
       "</div>"
      ],
      "text/plain": [
       "        eu_sales    percent\n",
       "rating                     \n",
       "M         193.96  46.701339\n",
       "E         113.03  27.215159\n",
       "E10+       55.37  13.331889\n",
       "T          52.96  12.751613"
      ]
     },
     "metadata": {},
     "output_type": "display_data"
    },
    {
     "data": {
      "text/html": [
       "<div>\n",
       "<style scoped>\n",
       "    .dataframe tbody tr th:only-of-type {\n",
       "        vertical-align: middle;\n",
       "    }\n",
       "\n",
       "    .dataframe tbody tr th {\n",
       "        vertical-align: top;\n",
       "    }\n",
       "\n",
       "    .dataframe thead th {\n",
       "        text-align: right;\n",
       "    }\n",
       "</style>\n",
       "<table border=\"1\" class=\"dataframe\">\n",
       "  <thead>\n",
       "    <tr style=\"text-align: right;\">\n",
       "      <th></th>\n",
       "      <th>jp_sales</th>\n",
       "      <th>percent</th>\n",
       "    </tr>\n",
       "    <tr>\n",
       "      <th>rating</th>\n",
       "      <th></th>\n",
       "      <th></th>\n",
       "    </tr>\n",
       "  </thead>\n",
       "  <tbody>\n",
       "    <tr>\n",
       "      <th>E</th>\n",
       "      <td>28.33</td>\n",
       "      <td>33.830905</td>\n",
       "    </tr>\n",
       "    <tr>\n",
       "      <th>T</th>\n",
       "      <td>26.02</td>\n",
       "      <td>31.072367</td>\n",
       "    </tr>\n",
       "    <tr>\n",
       "      <th>M</th>\n",
       "      <td>21.20</td>\n",
       "      <td>25.316456</td>\n",
       "    </tr>\n",
       "    <tr>\n",
       "      <th>E10+</th>\n",
       "      <td>8.19</td>\n",
       "      <td>9.780272</td>\n",
       "    </tr>\n",
       "  </tbody>\n",
       "</table>\n",
       "</div>"
      ],
      "text/plain": [
       "        jp_sales    percent\n",
       "rating                     \n",
       "E          28.33  33.830905\n",
       "T          26.02  31.072367\n",
       "M          21.20  25.316456\n",
       "E10+        8.19   9.780272"
      ]
     },
     "metadata": {},
     "output_type": "display_data"
    },
    {
     "data": {
      "image/png": "[encoded data removed]",
      "text/plain": [
       "<Figure size 432x288 with 1 Axes>"
      ]
     },
     "metadata": {
      "needs_background": "light"
     },
     "output_type": "display_data"
    },
    {
     "data": {
      "image/png": "[encoded data removed]",
      "text/plain": [
       "<Figure size 432x288 with 1 Axes>"
      ]
     },
     "metadata": {
      "needs_background": "light"
     },
     "output_type": "display_data"
    },
    {
     "data": {
      "image/png": "[encoded data removed]",
      "text/plain": [
       "<Figure size 432x288 with 1 Axes>"
      ]
     },
     "metadata": {
      "needs_background": "light"
     },
     "output_type": "display_data"
    }
   ],
   "source": [
    "for i in data_actual.loc[:, 'na_sales':'jp_sales']:\n",
    "    sales = data_actual.pivot_table(index='rating', values=i, aggfunc=('sum')).sort_values(by=i, ascending=False).head()\n",
    "    sales['percent'] = sales[i] / sales[i].sum() * 100\n",
    "    display(sales)\n",
    "    \n",
    "    sales.plot(kind='bar', grid=True)\n",
    "    plt.xlabel('жанр')\n",
    "    plt.ylabel('продажи')\n",
    "    plt.xticks(rotation='horizontal')\n",
    "    \n",
    "plt.show()"
   ]
  },
  {
   "cell_type": "markdown",
   "metadata": {},
   "source": [
    "Касательно рейтинга, можно сделать вывод, что в США и Европе среди игроков преобладает взрослая аудитория от 17 лет, игроки предпочитаю натуральное и неприкрытое насилие.\n",
    "В Японии наиболее популярны игры с рейтингом \"Для всех\" и \"Подросткам\". Наиболее играющая - подростковая категория граждан, возможно это связано с более жестким законодательством касательно продажи недопустимых материалов несовершеннолетним."
   ]
  },
  {
   "cell_type": "markdown",
   "metadata": {},
   "source": [
    "## Проверка гипотез"
   ]
  },
  {
   "cell_type": "markdown",
   "metadata": {},
   "source": [
    "### Проверим гипотезу, что средние пользовательские рейтинги платформ Xbox One и PC одинаковые. Для проверки возьмем актуальные данные за 2012-2016 год.\n"
   ]
  },
  {
   "cell_type": "markdown",
   "metadata": {},
   "source": [
    "Для проверки этого предположения сформулируе нулевую и альтернативную гипотезу:\n",
    "\n",
    "- H0 - средние пользовательские рейтинги платформ Xbox One и PC одинаковые;\n",
    "- H1 - средние пользовательские рейтинги платформ Xbox One и PC не одинаковые.\n",
    "\n",
    "Допустимое пороговое значение alpha установим в размере 0.05"
   ]
  },
  {
   "cell_type": "markdown",
   "metadata": {},
   "source": [
    "Сравним размеры выборок:"
   ]
  },
  {
   "cell_type": "code",
   "execution_count": 41,
   "metadata": {},
   "outputs": [
    {
     "data": {
      "text/plain": [
       "206"
      ]
     },
     "execution_count": 41,
     "metadata": {},
     "output_type": "execute_result"
    }
   ],
   "source": [
    "data_actual[(data_actual['platform'] == 'PC') & (~data_actual['user_score'].isna())]['user_score'].count()"
   ]
  },
  {
   "cell_type": "code",
   "execution_count": 42,
   "metadata": {},
   "outputs": [
    {
     "data": {
      "text/plain": [
       "182"
      ]
     },
     "execution_count": 42,
     "metadata": {},
     "output_type": "execute_result"
    }
   ],
   "source": [
    "data_actual[(data_actual['platform'] == 'XOne') & (~data_actual['user_score'].isna())]['user_score'].count()"
   ]
  },
  {
   "cell_type": "markdown",
   "metadata": {},
   "source": [
    "Размеры выборок разные, поэтому отмерять будем по по данным XBox в размере 182 строки."
   ]
  },
  {
   "cell_type": "code",
   "execution_count": 43,
   "metadata": {},
   "outputs": [],
   "source": [
    "# Сохраним выборку xBox в переменную sample_xbox\n",
    "sample_xbox = data_actual[(data_actual['platform'] == 'XOne') & (~data_actual['user_score'].isna())]['user_score'].reset_index(drop=True)"
   ]
  },
  {
   "cell_type": "code",
   "execution_count": 44,
   "metadata": {},
   "outputs": [],
   "source": [
    "# Сохраним выборку PC в переменную sample_pc с длиной равной выборке xBox\n",
    "sample_pc = data_actual[(data_actual['platform'] == 'PC') & (~data_actual['user_score'].isna())]['user_score'].reset_index(drop=True)\n",
    "sample_pc = sample_pc.loc[:181]"
   ]
  },
  {
   "cell_type": "code",
   "execution_count": 45,
   "metadata": {},
   "outputs": [
    {
     "name": "stdout",
     "output_type": "stream",
     "text": [
      "p-значение: 0.3510532864890452\n",
      "Не получилось отвергнуть нулевую гипотезу\n"
     ]
    }
   ],
   "source": [
    "# проведем t-тест между двумя генеральными совокупностями\n",
    "\n",
    "alpha = 0.05\n",
    "\n",
    "# equal_var = False так как нет уверенности в равенстве дисперсий\n",
    "results = st.ttest_ind(\n",
    "    sample_xbox.to_list(), \n",
    "    sample_pc.to_list(),\n",
    "    equal_var = False)\n",
    "\n",
    "print('p-значение:', results.pvalue)\n",
    "\n",
    "if results.pvalue < alpha:\n",
    "    print(\"Отвергаем нулевую гипотезу\")\n",
    "else:\n",
    "    print(\"Не получилось отвергнуть нулевую гипотезу\")"
   ]
  },
  {
   "cell_type": "markdown",
   "metadata": {},
   "source": [
    "Гипотеза подтверждена, вероятность ошибиться при отвержении гипотезы 35%, что превышает пороговое значение."
   ]
  },
  {
   "cell_type": "markdown",
   "metadata": {},
   "source": [
    "### Проверим гипотезу, что средние пользовательские рейтинги жанров Action и Sports - разные."
   ]
  },
  {
   "cell_type": "markdown",
   "metadata": {},
   "source": [
    "Для проверки этого предположения сформулируе нулевую и альтернативную гипотезу следующим образом:\n",
    "\n",
    "- H0 - средние пользовательские рейтинги жанров Action и Sports одинаковые;\n",
    "- H1 - средние пользовательские рейтинги жанров Action и Sports не одинаковые.\n",
    "\n",
    "Допустимое пороговое значение alpha также установим в размере 0.05"
   ]
  },
  {
   "cell_type": "code",
   "execution_count": 46,
   "metadata": {},
   "outputs": [
    {
     "data": {
      "text/plain": [
       "523"
      ]
     },
     "execution_count": 46,
     "metadata": {},
     "output_type": "execute_result"
    }
   ],
   "source": [
    "data_actual[(data_actual['genre'] == 'Action') & (~data_actual['user_score'].isna())]['user_score'].count()"
   ]
  },
  {
   "cell_type": "code",
   "execution_count": 47,
   "metadata": {},
   "outputs": [
    {
     "data": {
      "text/plain": [
       "195"
      ]
     },
     "execution_count": 47,
     "metadata": {},
     "output_type": "execute_result"
    }
   ],
   "source": [
    "data_actual[(data_actual['genre'] == 'Sports') & (~data_actual['user_score'].isna())]['user_score'].count()"
   ]
  },
  {
   "cell_type": "markdown",
   "metadata": {},
   "source": [
    "Уравняем размеры по меньшей генеральной совокупности"
   ]
  },
  {
   "cell_type": "code",
   "execution_count": 48,
   "metadata": {},
   "outputs": [],
   "source": [
    "# оценки игр в жанре экшн\n",
    "sample_action = data_actual[(data_actual['genre'] == 'Action') & (~data_actual['user_score']\n",
    "                                                                 .isna())]['user_score'].reset_index(drop=True)\n",
    "sample_action = sample_action[0:195]"
   ]
  },
  {
   "cell_type": "code",
   "execution_count": 49,
   "metadata": {},
   "outputs": [],
   "source": [
    "# оценки игр в жанре спорт\n",
    "sample_sports = data_actual[(data_actual['genre'] == 'Sports') & (~data_actual['user_score']\n",
    "                                                                 .isna())]['user_score'].reset_index(drop=True)"
   ]
  },
  {
   "cell_type": "markdown",
   "metadata": {},
   "source": [
    "пердположим, что совокупности равны, это будет H0."
   ]
  },
  {
   "cell_type": "code",
   "execution_count": 50,
   "metadata": {},
   "outputs": [
    {
     "name": "stdout",
     "output_type": "stream",
     "text": [
      "p-значение: 3.4908282835079883e-19\n",
      "Отвергаем нулевую гипотезу\n"
     ]
    }
   ],
   "source": [
    "# проведем t-тест между двумя генеральными совокупностями\n",
    "from scipy import stats as st\n",
    "\n",
    "alpha = 0.05\n",
    "\n",
    "# equal_var = False так как нет уверенности в равенстве дисперсий\n",
    "results = st.ttest_ind(\n",
    "    sample_action.to_list(), \n",
    "    sample_sports.to_list(),\n",
    "    equal_var = False)\n",
    "\n",
    "print('p-значение:', results.pvalue)\n",
    "\n",
    "# поменяем знак неравенства на противоположный, учитывая формулировку нулевой гипотезы\n",
    "if results.pvalue < alpha:\n",
    "    print(\"Отвергаем нулевую гипотезу\")\n",
    "else:\n",
    "    print(\"Не получилось отвергнуть нулевую гипотезу\")"
   ]
  },
  {
   "cell_type": "markdown",
   "metadata": {},
   "source": [
    "Мы отвергаем гипотезу о том, что оценки пользователей в жанре Action и Sports - одинаковые, значит мы принимаем гипотезу, что они отличаются."
   ]
  },
  {
   "cell_type": "markdown",
   "metadata": {},
   "source": [
    "## Общий вывод"
   ]
  },
  {
   "cell_type": "markdown",
   "metadata": {},
   "source": [
    "**В процессе исследования были поставлены следующие задачи:**\n",
    "\n",
    "1.\tВыявить закономерности, определяющие успешность игры;\n",
    "2.\tПроверить гипотезы:\n",
    "\n",
    "    a.\tСредние пользовательские рейтинги платформ Xbox One и PC одинаковые;\n",
    "    \n",
    "    b.\tСредние пользовательские рейтинги жанров Action (англ. «действие», экшен-игры) и Sports (англ. «спортивные соревнования») разные.\n",
    "\n",
    "В первую очередь был проанализирован датафрейм в размере 16715 строк. Основной массив пропусков сосредоточен в категории оценок и составил:\n",
    "\n",
    "- 8578 пропусков – «Оценка критиков»\n",
    "- 6766 пропусков – «Рейтинг»\n",
    "- 6701 пропусков – «Оценки пользователей»\n",
    "- 269 пропусков – «Год релиза»\n",
    "- 2 пропуска – «Название»\n",
    "- 2 пропуска – «Жанр»\n",
    "\n",
    "Для изучения закономерностей при которых не учитываются оценки игры, предложено не удалять строки с пропусками оценок, по отдельным столбцам приняты следующие решения:\n",
    "\n",
    "-\tCritic_Score — оставить пропуски\n",
    "-\tUser_Score — оставить пропуски\n",
    "-\tRating — оставить пропуски\n",
    "-\tYear_of_Release - удалить строки (отсутствие критически важной информации)\n",
    "-\tName - удалить строку (отсутствие критически важной информации)\n",
    "-\tGenre - удалить строку (отсутствие критически важной информации)\n",
    "\n",
    "Для изучения показателей связанных с рейтингами, предлагается вести работу только со строками, где имеются все необходимые оценки. Данные использованы за актуальный период 2012 – 2016 год.\n",
    "\n",
    "После предобработки, размер датафрейма сократился до 16444 строк. Был дополнительно изучен столбец rating, пропуски присутствовали только в играх, выпущенных до 2011 года, что может быть обусловлено упрощением процесса присвоения рейтингов ESRB.\n",
    "\n",
    "**Исследование показало, что общая динамика продаж имела возрастающую тенденцию, но в 2012 сильно сократилась.**\n",
    "\n",
    "Резкий спад может быть связан с устареванием многих конкурирующих платформ и удорожанием производства отдельных игровых проектов. В исторической ретроспективе первенство пр количеству проданных копий занимают:\n",
    "\n",
    "- PS2 – 1043 млн.\n",
    "- Xbox360 – 876 млн.\n",
    "- Wii – 813 млн.\n",
    "\n",
    "В среднем, стабильные продажи по этим платформам держались в течение четырех лет с момента выхода платформы, однако к 2016 году они утратили актуальность.\n",
    "Начиная с 2012 года, стали набирать популярность новые платформы, показав тенденцию к росту:\n",
    "\n",
    "- PS4 – 265 млн.\n",
    "- XboxOne – 145 млн.\n",
    "- PC – 56 млн.\n",
    "\n",
    "За 2016 год, наибольшую популярность показывают:\n",
    "\n",
    "- PS4 – 265.79 млн.\n",
    "- PS3 – 245.53 млн.\n",
    "- X360 – 216.14 млн.\n",
    "- 3DS – 185.74 млн.\n",
    "- XOne – 145.05 млн.\n",
    "- WiiU – 76.24 млн.\n",
    "- PC – 56.88 млн.\n",
    "\n",
    "**Следующим этапом были проанализированы влияние оценок пользователей и критиков на продажи игры.** \n",
    "\n",
    "Анализ показал среднюю взаимосвязь между показателем продаж и средней оценкой критиков, а также на удивление слабое влияние оценок пользователей на продажи.\n",
    "\n",
    "Корреляция между оценкой и продажами:\n",
    "\n",
    "- критики 0.40 – среднее влияние\n",
    "- пользователи 0.03 – незначительное\n",
    "\n",
    "Для прогнозирования наиболее прибыльных жанров датафрейм был был проведен анализ среди самых популярных жанров.\n",
    "\n",
    "За основу взят актуальный период 2012 – 2016 год, тройку лидеров по среднему количеству проданных копий одной игры в общем зачете составили:\n",
    "\n",
    "- Shooter – 1.13млн.\n",
    "- Platform – 0.65 млн.\n",
    "- Sports – 0.59 млн.\n",
    "\n",
    "Данные проиллюстрированы в работе.\n",
    "\n",
    "**Далее был составлен региональный портрет пользователя.** \n",
    "\n",
    "Были проанализированы наиболее популярные платформы, жанры и рейтинги на территориях Северной Америки, Европы и Японии.\n",
    "\n",
    "Анализ показал, что в целом, в предпочтения североамериканцев и европейцев схожи, наиболее популярные платформы PS4, PS3, Xbox360. В Европе наиболее популярны продукты Sony, их доля продаж составляет 60% от общего объема продаж, в Северной Америке преобладает продукция Microsoft – 46% объема продаж. \n",
    "\n",
    "Япония сильно отличается по предпочтениям, 58% рынка занимают продукты Nintendo, 40% заняты продуктами Sony.\n",
    "\n",
    "В плане жанровых предпочтений игроки из Северной Америки и Европы похожи, более 60% приходятся на жанр Action и Shooter, 16% занимает жанр Sports, 11-12% Role-Playing. Разница лишь в пятой позиции. Америка предпочитает жанр Misc – 7%, а Европа – Racing – 6%.\n",
    "\n",
    "Япония снова выделилась, японцы любят ролевые игры и экшн – 43 и 34%, по остальным жанрам - результаты посредственные, при этом преобладают аркады, симуляторы и файтинги.\n",
    "\n",
    "Касательно рейтинга, можно сделать вывод, что в США и Европе среди игроков преобладает взрослая аудитория от 17 лет, игроки предпочитаю натуральное и неприкрытое насилие. В Японии наиболее популярны игры с рейтингом \"Для всех\" и \"Подросткам\". Наиболее играющая - подростковая категория граждан, возможно это связано с более жестким законодательством касательно продажи недопустимых материалов несовершеннолетним.\n",
    "\n",
    "**В ходе работы были проверены 2 гипотезы посредством t-теста. Для проверки были взяты актуальные данные за 2012-2016 год.**\n",
    "\n",
    "1.\tСредние пользовательские рейтинги платформ Xbox One и PC одинаковые;\n",
    "2.\tСредние пользовательские рейтинги жанров Action (англ. «действие», экшен-игры) и Sports (англ. «спортивные соревнования») разные.\n",
    "\n",
    "**Гипотеза 1. – не подтверждена.**\n",
    "\n",
    "Были взяты выборки в размере меньшей генеральной совокупности – 182 строки. Вероятность ошибки составила 35 %, что превысило пороговое значение.\n",
    "\n",
    "**Гипотеза 2 – подтверждена.**\n",
    "\n",
    "Были взяты выборки в размере 195 строк по размеру меньшей генеральной совокупности (жанр Спорт). Гипотеза не была опровергнута так, как при равенстве двух средних показателей, вероятность ошибки превысило пороговое значение.\n",
    "\n",
    "Таким образом, для дальнейшей стратегии продаж магазина «Стримчик» рекомендуется закупка игр для следующих платформ: \n",
    "\n",
    "- PS4, PS3, Xbox One, Xbox 360, 3DS, WiiU, PC с приоритетом на ассортимент новых моделей приставок. \n",
    "- Наибольший объем закупок ключей и копий сконцентрировать на жанрах Action, Shooter и Sport.\n",
    "\n",
    "В случае выхода на азиатский рынок рекомендуется провести дополнительный анализ рынка.\n"
   ]
  }
 ],
 "metadata": {
  "ExecuteTimeLog": [
   {
    "duration": 461,
    "start_time": "2022-10-04T09:29:41.799Z"
   },
   {
    "duration": 20,
    "start_time": "2022-10-04T09:29:50.888Z"
   },
   {
    "duration": 54,
    "start_time": "2022-10-04T09:30:43.660Z"
   },
   {
    "duration": 15,
    "start_time": "2022-10-04T09:30:43.941Z"
   },
   {
    "duration": 15,
    "start_time": "2022-10-04T09:30:59.734Z"
   },
   {
    "duration": 12,
    "start_time": "2022-10-04T09:35:07.197Z"
   },
   {
    "duration": 11,
    "start_time": "2022-10-04T09:35:18.120Z"
   },
   {
    "duration": 11,
    "start_time": "2022-10-04T09:35:54.706Z"
   },
   {
    "duration": 11,
    "start_time": "2022-10-04T09:36:01.066Z"
   },
   {
    "duration": 445,
    "start_time": "2022-10-04T09:37:00.631Z"
   },
   {
    "duration": 4,
    "start_time": "2022-10-04T10:05:24.863Z"
   },
   {
    "duration": 14,
    "start_time": "2022-10-04T10:05:29.353Z"
   },
   {
    "duration": 3,
    "start_time": "2022-10-04T10:19:40.566Z"
   },
   {
    "duration": 62,
    "start_time": "2022-10-04T10:23:19.428Z"
   },
   {
    "duration": 7,
    "start_time": "2022-10-04T10:23:28.026Z"
   },
   {
    "duration": 16,
    "start_time": "2022-10-04T10:23:34.633Z"
   },
   {
    "duration": 86,
    "start_time": "2022-10-04T10:24:03.930Z"
   },
   {
    "duration": 15,
    "start_time": "2022-10-04T10:24:32.594Z"
   },
   {
    "duration": 15,
    "start_time": "2022-10-04T10:24:34.068Z"
   },
   {
    "duration": 7,
    "start_time": "2022-10-04T10:24:39.595Z"
   },
   {
    "duration": 14,
    "start_time": "2022-10-04T10:24:39.977Z"
   },
   {
    "duration": 15,
    "start_time": "2022-10-04T10:24:56.922Z"
   },
   {
    "duration": 5,
    "start_time": "2022-10-04T10:28:51.627Z"
   },
   {
    "duration": 14,
    "start_time": "2022-10-04T10:28:52.932Z"
   },
   {
    "duration": 5,
    "start_time": "2022-10-04T10:29:11.097Z"
   },
   {
    "duration": 14,
    "start_time": "2022-10-04T10:29:13.690Z"
   },
   {
    "duration": 6,
    "start_time": "2022-10-04T10:29:19.509Z"
   },
   {
    "duration": 13,
    "start_time": "2022-10-04T10:29:22.583Z"
   },
   {
    "duration": 15,
    "start_time": "2022-10-04T10:29:24.212Z"
   },
   {
    "duration": 55,
    "start_time": "2022-10-04T10:30:10.448Z"
   },
   {
    "duration": 14,
    "start_time": "2022-10-04T10:30:10.505Z"
   },
   {
    "duration": 27,
    "start_time": "2022-10-04T10:30:10.520Z"
   },
   {
    "duration": 15,
    "start_time": "2022-10-04T10:30:10.549Z"
   },
   {
    "duration": 3,
    "start_time": "2022-10-04T10:30:10.565Z"
   },
   {
    "duration": 19,
    "start_time": "2022-10-04T10:30:10.570Z"
   },
   {
    "duration": 15,
    "start_time": "2022-10-04T10:30:27.937Z"
   },
   {
    "duration": 9,
    "start_time": "2022-10-04T10:30:31.712Z"
   },
   {
    "duration": 15,
    "start_time": "2022-10-04T10:30:38.488Z"
   },
   {
    "duration": 14,
    "start_time": "2022-10-04T10:30:56.576Z"
   },
   {
    "duration": 13,
    "start_time": "2022-10-04T10:31:00.173Z"
   },
   {
    "duration": 15,
    "start_time": "2022-10-04T10:33:46.549Z"
   },
   {
    "duration": 12,
    "start_time": "2022-10-04T10:33:53.238Z"
   },
   {
    "duration": 11,
    "start_time": "2022-10-04T10:34:07.118Z"
   },
   {
    "duration": 14,
    "start_time": "2022-10-04T10:34:20.680Z"
   },
   {
    "duration": 55,
    "start_time": "2022-10-04T10:35:09.984Z"
   },
   {
    "duration": 14,
    "start_time": "2022-10-04T10:35:10.042Z"
   },
   {
    "duration": 18,
    "start_time": "2022-10-04T10:35:10.058Z"
   },
   {
    "duration": 15,
    "start_time": "2022-10-04T10:35:10.078Z"
   },
   {
    "duration": 3,
    "start_time": "2022-10-04T10:35:10.095Z"
   },
   {
    "duration": 42,
    "start_time": "2022-10-04T10:35:10.099Z"
   },
   {
    "duration": 4,
    "start_time": "2022-10-04T10:35:31.781Z"
   },
   {
    "duration": 15,
    "start_time": "2022-10-04T10:35:32.090Z"
   },
   {
    "duration": 6,
    "start_time": "2022-10-04T10:35:46.221Z"
   },
   {
    "duration": 15,
    "start_time": "2022-10-04T10:35:57.052Z"
   },
   {
    "duration": 3,
    "start_time": "2022-10-04T10:38:23.635Z"
   },
   {
    "duration": 14,
    "start_time": "2022-10-04T10:38:24.282Z"
   },
   {
    "duration": 67,
    "start_time": "2022-10-04T10:38:37.366Z"
   },
   {
    "duration": 20,
    "start_time": "2022-10-04T10:38:37.437Z"
   },
   {
    "duration": 26,
    "start_time": "2022-10-04T10:38:37.459Z"
   },
   {
    "duration": 23,
    "start_time": "2022-10-04T10:38:37.487Z"
   },
   {
    "duration": 4,
    "start_time": "2022-10-04T10:38:37.512Z"
   },
   {
    "duration": 3,
    "start_time": "2022-10-04T10:38:41.288Z"
   },
   {
    "duration": 16,
    "start_time": "2022-10-04T10:38:41.657Z"
   },
   {
    "duration": 16,
    "start_time": "2022-10-04T10:39:58.717Z"
   },
   {
    "duration": 16,
    "start_time": "2022-10-04T10:40:12.389Z"
   },
   {
    "duration": 4,
    "start_time": "2022-10-04T10:41:57.190Z"
   },
   {
    "duration": 3,
    "start_time": "2022-10-04T10:42:03.926Z"
   },
   {
    "duration": 15,
    "start_time": "2022-10-04T10:42:04.253Z"
   },
   {
    "duration": 8,
    "start_time": "2022-10-04T10:43:17.237Z"
   },
   {
    "duration": 6,
    "start_time": "2022-10-04T10:52:31.788Z"
   },
   {
    "duration": 5,
    "start_time": "2022-10-04T10:52:45.362Z"
   },
   {
    "duration": 8,
    "start_time": "2022-10-04T10:53:11.734Z"
   },
   {
    "duration": 6,
    "start_time": "2022-10-04T10:53:33.387Z"
   },
   {
    "duration": 6,
    "start_time": "2022-10-04T10:53:40.631Z"
   },
   {
    "duration": 7,
    "start_time": "2022-10-04T10:53:50.433Z"
   },
   {
    "duration": 6,
    "start_time": "2022-10-04T10:53:56.390Z"
   },
   {
    "duration": 7,
    "start_time": "2022-10-04T10:54:05.623Z"
   },
   {
    "duration": 5,
    "start_time": "2022-10-04T10:54:30.188Z"
   },
   {
    "duration": 5,
    "start_time": "2022-10-04T10:54:31.264Z"
   },
   {
    "duration": 10,
    "start_time": "2022-10-04T10:55:05.050Z"
   },
   {
    "duration": 16,
    "start_time": "2022-10-04T10:55:09.384Z"
   },
   {
    "duration": 4,
    "start_time": "2022-10-04T10:55:55.993Z"
   },
   {
    "duration": 3,
    "start_time": "2022-10-04T10:56:29.273Z"
   },
   {
    "duration": 13,
    "start_time": "2022-10-04T10:56:43.863Z"
   },
   {
    "duration": 650,
    "start_time": "2022-10-05T12:08:40.185Z"
   },
   {
    "duration": 22,
    "start_time": "2022-10-05T12:08:40.837Z"
   },
   {
    "duration": 20,
    "start_time": "2022-10-05T12:08:40.861Z"
   },
   {
    "duration": 492,
    "start_time": "2022-10-05T12:08:40.884Z"
   },
   {
    "duration": 3,
    "start_time": "2022-10-05T12:08:41.378Z"
   },
   {
    "duration": 16,
    "start_time": "2022-10-05T12:08:48.630Z"
   },
   {
    "duration": 15,
    "start_time": "2022-10-05T12:08:49.396Z"
   },
   {
    "duration": 19,
    "start_time": "2022-10-05T12:09:18.824Z"
   },
   {
    "duration": 15,
    "start_time": "2022-10-05T12:09:19.801Z"
   },
   {
    "duration": 23,
    "start_time": "2022-10-05T12:09:56.485Z"
   },
   {
    "duration": 21,
    "start_time": "2022-10-05T12:09:57.589Z"
   },
   {
    "duration": 6,
    "start_time": "2022-10-05T12:10:12.410Z"
   },
   {
    "duration": 5,
    "start_time": "2022-10-05T12:10:23.278Z"
   },
   {
    "duration": 6,
    "start_time": "2022-10-05T12:10:24.849Z"
   },
   {
    "duration": 15,
    "start_time": "2022-10-05T12:10:25.521Z"
   },
   {
    "duration": 86,
    "start_time": "2022-10-05T12:12:58.378Z"
   },
   {
    "duration": 29,
    "start_time": "2022-10-05T12:13:31.072Z"
   },
   {
    "duration": 23,
    "start_time": "2022-10-05T12:16:40.431Z"
   },
   {
    "duration": 29,
    "start_time": "2022-10-05T12:18:14.957Z"
   },
   {
    "duration": 24,
    "start_time": "2022-10-05T12:20:03.562Z"
   },
   {
    "duration": 23,
    "start_time": "2022-10-05T12:24:55.936Z"
   },
   {
    "duration": 26,
    "start_time": "2022-10-05T12:30:35.101Z"
   },
   {
    "duration": 13,
    "start_time": "2022-10-05T12:32:28.543Z"
   },
   {
    "duration": 11,
    "start_time": "2022-10-05T12:33:11.327Z"
   },
   {
    "duration": 12,
    "start_time": "2022-10-05T12:38:55.034Z"
   },
   {
    "duration": 12,
    "start_time": "2022-10-05T12:39:38.109Z"
   },
   {
    "duration": 10,
    "start_time": "2022-10-05T12:39:44.335Z"
   },
   {
    "duration": 18,
    "start_time": "2022-10-05T12:41:07.892Z"
   },
   {
    "duration": 10,
    "start_time": "2022-10-05T12:48:36.564Z"
   },
   {
    "duration": 22,
    "start_time": "2022-10-05T12:48:39.082Z"
   },
   {
    "duration": 88,
    "start_time": "2022-10-05T12:51:00.303Z"
   },
   {
    "duration": 9,
    "start_time": "2022-10-05T13:05:01.052Z"
   },
   {
    "duration": 5,
    "start_time": "2022-10-05T13:06:20.522Z"
   },
   {
    "duration": 14,
    "start_time": "2022-10-05T13:06:29.461Z"
   },
   {
    "duration": 148,
    "start_time": "2022-10-05T13:13:59.362Z"
   },
   {
    "duration": 192,
    "start_time": "2022-10-05T13:14:16.006Z"
   },
   {
    "duration": 570,
    "start_time": "2022-10-05T13:14:23.062Z"
   },
   {
    "duration": 291,
    "start_time": "2022-10-05T13:15:51.302Z"
   },
   {
    "duration": 263,
    "start_time": "2022-10-05T13:21:05.308Z"
   },
   {
    "duration": 10,
    "start_time": "2022-10-05T13:32:04.626Z"
   },
   {
    "duration": 20,
    "start_time": "2022-10-05T13:32:08.829Z"
   },
   {
    "duration": 19,
    "start_time": "2022-10-05T13:38:45.370Z"
   },
   {
    "duration": 15,
    "start_time": "2022-10-05T13:39:14.631Z"
   },
   {
    "duration": 20,
    "start_time": "2022-10-05T13:39:39.388Z"
   },
   {
    "duration": 15,
    "start_time": "2022-10-05T13:39:46.657Z"
   },
   {
    "duration": 16,
    "start_time": "2022-10-05T13:44:39.048Z"
   },
   {
    "duration": 15,
    "start_time": "2022-10-05T13:44:58.028Z"
   },
   {
    "duration": 17,
    "start_time": "2022-10-05T13:45:41.390Z"
   },
   {
    "duration": 5,
    "start_time": "2022-10-05T13:49:41.752Z"
   },
   {
    "duration": 12,
    "start_time": "2022-10-05T13:49:53.265Z"
   },
   {
    "duration": 14,
    "start_time": "2022-10-05T13:50:20.726Z"
   },
   {
    "duration": 5,
    "start_time": "2022-10-05T14:35:12.844Z"
   },
   {
    "duration": 15,
    "start_time": "2022-10-05T14:35:13.362Z"
   },
   {
    "duration": 13,
    "start_time": "2022-10-05T14:36:02.443Z"
   },
   {
    "duration": 15,
    "start_time": "2022-10-05T14:36:08.424Z"
   },
   {
    "duration": 454,
    "start_time": "2022-10-05T14:36:44.725Z"
   },
   {
    "duration": 18,
    "start_time": "2022-10-05T14:41:45.455Z"
   },
   {
    "duration": 19,
    "start_time": "2022-10-05T14:42:07.125Z"
   },
   {
    "duration": 20,
    "start_time": "2022-10-05T14:45:18.444Z"
   },
   {
    "duration": 16,
    "start_time": "2022-10-05T14:48:02.174Z"
   },
   {
    "duration": 17,
    "start_time": "2022-10-05T14:48:17.483Z"
   },
   {
    "duration": 14,
    "start_time": "2022-10-05T14:50:02.903Z"
   },
   {
    "duration": 15,
    "start_time": "2022-10-05T14:56:34.501Z"
   },
   {
    "duration": 753,
    "start_time": "2022-10-05T14:59:32.752Z"
   },
   {
    "duration": 790,
    "start_time": "2022-10-05T15:00:28.500Z"
   },
   {
    "duration": 164,
    "start_time": "2022-10-05T15:01:19.863Z"
   },
   {
    "duration": 172,
    "start_time": "2022-10-05T15:03:38.109Z"
   },
   {
    "duration": 201,
    "start_time": "2022-10-05T15:03:42.268Z"
   },
   {
    "duration": 180,
    "start_time": "2022-10-05T15:03:50.726Z"
   },
   {
    "duration": 165,
    "start_time": "2022-10-05T15:14:49.742Z"
   },
   {
    "duration": 823,
    "start_time": "2022-10-05T15:15:04.923Z"
   },
   {
    "duration": 276,
    "start_time": "2022-10-05T15:15:17.690Z"
   },
   {
    "duration": 163,
    "start_time": "2022-10-05T15:15:31.813Z"
   },
   {
    "duration": 157,
    "start_time": "2022-10-05T15:16:02.597Z"
   },
   {
    "duration": 164,
    "start_time": "2022-10-05T15:16:07.298Z"
   },
   {
    "duration": 212,
    "start_time": "2022-10-05T15:16:12.113Z"
   },
   {
    "duration": 177,
    "start_time": "2022-10-05T15:16:21.721Z"
   },
   {
    "duration": 276,
    "start_time": "2022-10-05T15:16:28.091Z"
   },
   {
    "duration": 156,
    "start_time": "2022-10-05T15:16:36.341Z"
   },
   {
    "duration": 159,
    "start_time": "2022-10-05T15:16:41.222Z"
   },
   {
    "duration": 152,
    "start_time": "2022-10-05T15:16:44.420Z"
   },
   {
    "duration": 776,
    "start_time": "2022-10-05T15:18:29.662Z"
   },
   {
    "duration": 877,
    "start_time": "2022-10-05T15:18:41.289Z"
   },
   {
    "duration": 701,
    "start_time": "2022-10-05T15:19:02.657Z"
   },
   {
    "duration": 195,
    "start_time": "2022-10-05T15:19:15.769Z"
   },
   {
    "duration": 182,
    "start_time": "2022-10-05T15:19:37.844Z"
   },
   {
    "duration": 151,
    "start_time": "2022-10-05T15:25:38.509Z"
   },
   {
    "duration": 207,
    "start_time": "2022-10-05T15:25:58.455Z"
   },
   {
    "duration": 207,
    "start_time": "2022-10-05T15:26:09.939Z"
   },
   {
    "duration": 193,
    "start_time": "2022-10-05T15:35:38.622Z"
   },
   {
    "duration": 213,
    "start_time": "2022-10-05T15:35:55.252Z"
   },
   {
    "duration": 326,
    "start_time": "2022-10-05T15:36:03.278Z"
   },
   {
    "duration": 123,
    "start_time": "2022-10-05T15:39:56.112Z"
   },
   {
    "duration": 307,
    "start_time": "2022-10-05T15:40:14.834Z"
   },
   {
    "duration": 313,
    "start_time": "2022-10-05T15:40:30.129Z"
   },
   {
    "duration": 321,
    "start_time": "2022-10-05T15:47:05.917Z"
   },
   {
    "duration": 330,
    "start_time": "2022-10-05T15:50:47.226Z"
   },
   {
    "duration": 265,
    "start_time": "2022-10-05T15:51:00.211Z"
   },
   {
    "duration": 318,
    "start_time": "2022-10-05T15:51:09.013Z"
   },
   {
    "duration": 346,
    "start_time": "2022-10-05T15:57:59.601Z"
   },
   {
    "duration": 361,
    "start_time": "2022-10-05T15:58:25.141Z"
   },
   {
    "duration": 351,
    "start_time": "2022-10-05T15:58:32.167Z"
   },
   {
    "duration": 455,
    "start_time": "2022-10-05T15:58:39.203Z"
   },
   {
    "duration": 337,
    "start_time": "2022-10-05T15:58:49.010Z"
   },
   {
    "duration": 361,
    "start_time": "2022-10-05T15:59:36.306Z"
   },
   {
    "duration": 15,
    "start_time": "2022-10-05T15:59:57.267Z"
   },
   {
    "duration": 16,
    "start_time": "2022-10-05T16:00:10.054Z"
   },
   {
    "duration": 358,
    "start_time": "2022-10-05T16:00:55.563Z"
   },
   {
    "duration": 410,
    "start_time": "2022-10-05T16:01:11.373Z"
   },
   {
    "duration": 358,
    "start_time": "2022-10-05T16:01:30.762Z"
   },
   {
    "duration": 475,
    "start_time": "2022-10-05T16:01:38.050Z"
   },
   {
    "duration": 124,
    "start_time": "2022-10-05T16:08:13.527Z"
   },
   {
    "duration": 312,
    "start_time": "2022-10-05T16:09:05.657Z"
   },
   {
    "duration": 301,
    "start_time": "2022-10-05T16:09:54.429Z"
   },
   {
    "duration": 399,
    "start_time": "2022-10-05T16:11:08.807Z"
   },
   {
    "duration": 8,
    "start_time": "2022-10-05T16:12:03.182Z"
   },
   {
    "duration": 9,
    "start_time": "2022-10-05T16:12:37.385Z"
   },
   {
    "duration": 16,
    "start_time": "2022-10-05T16:13:01.881Z"
   },
   {
    "duration": 406,
    "start_time": "2022-10-05T16:13:25.397Z"
   },
   {
    "duration": 497,
    "start_time": "2022-10-05T16:13:48.148Z"
   },
   {
    "duration": 476,
    "start_time": "2022-10-05T16:13:58.081Z"
   },
   {
    "duration": 494,
    "start_time": "2022-10-05T16:14:32.965Z"
   },
   {
    "duration": 316,
    "start_time": "2022-10-05T16:16:03.974Z"
   },
   {
    "duration": 17,
    "start_time": "2022-10-05T16:16:52.858Z"
   },
   {
    "duration": 27,
    "start_time": "2022-10-05T16:17:48.389Z"
   },
   {
    "duration": 370,
    "start_time": "2022-10-05T16:18:10.459Z"
   },
   {
    "duration": 22,
    "start_time": "2022-10-05T16:18:17.546Z"
   },
   {
    "duration": 447,
    "start_time": "2022-10-05T16:18:18.068Z"
   },
   {
    "duration": 18,
    "start_time": "2022-10-05T16:18:31.365Z"
   },
   {
    "duration": 317,
    "start_time": "2022-10-05T16:18:32.137Z"
   },
   {
    "duration": 17,
    "start_time": "2022-10-05T16:19:42.135Z"
   },
   {
    "duration": 336,
    "start_time": "2022-10-05T16:19:44.938Z"
   },
   {
    "duration": 352,
    "start_time": "2022-10-05T16:30:18.813Z"
   },
   {
    "duration": 294,
    "start_time": "2022-10-05T16:30:45.124Z"
   },
   {
    "duration": 220,
    "start_time": "2022-10-05T16:45:23.606Z"
   },
   {
    "duration": 472,
    "start_time": "2022-10-05T16:45:37.764Z"
   },
   {
    "duration": 256,
    "start_time": "2022-10-05T17:04:48.661Z"
   },
   {
    "duration": 357,
    "start_time": "2022-10-05T17:08:04.000Z"
   },
   {
    "duration": 276,
    "start_time": "2022-10-05T17:08:19.705Z"
   },
   {
    "duration": 48,
    "start_time": "2022-10-06T11:12:59.936Z"
   },
   {
    "duration": 555,
    "start_time": "2022-10-06T11:13:07.016Z"
   },
   {
    "duration": 21,
    "start_time": "2022-10-06T11:13:07.573Z"
   },
   {
    "duration": 15,
    "start_time": "2022-10-06T11:13:07.595Z"
   },
   {
    "duration": 476,
    "start_time": "2022-10-06T11:13:07.612Z"
   },
   {
    "duration": 4,
    "start_time": "2022-10-06T11:13:08.089Z"
   },
   {
    "duration": 24,
    "start_time": "2022-10-06T11:13:08.094Z"
   },
   {
    "duration": 29,
    "start_time": "2022-10-06T11:13:08.119Z"
   },
   {
    "duration": 15,
    "start_time": "2022-10-06T11:13:08.149Z"
   },
   {
    "duration": 6,
    "start_time": "2022-10-06T11:13:08.165Z"
   },
   {
    "duration": 8,
    "start_time": "2022-10-06T11:13:08.173Z"
   },
   {
    "duration": 8,
    "start_time": "2022-10-06T11:13:08.183Z"
   },
   {
    "duration": 17,
    "start_time": "2022-10-06T11:13:08.192Z"
   },
   {
    "duration": 29,
    "start_time": "2022-10-06T11:13:08.211Z"
   },
   {
    "duration": 15,
    "start_time": "2022-10-06T11:13:08.241Z"
   },
   {
    "duration": 4,
    "start_time": "2022-10-06T11:13:08.257Z"
   },
   {
    "duration": 19,
    "start_time": "2022-10-06T11:13:08.263Z"
   },
   {
    "duration": 294,
    "start_time": "2022-10-06T11:13:08.283Z"
   },
   {
    "duration": 18,
    "start_time": "2022-10-06T11:13:08.579Z"
   },
   {
    "duration": 350,
    "start_time": "2022-10-06T11:13:08.598Z"
   },
   {
    "duration": 334,
    "start_time": "2022-10-06T11:13:08.950Z"
   },
   {
    "duration": 142,
    "start_time": "2022-10-06T11:13:17.947Z"
   },
   {
    "duration": 36,
    "start_time": "2022-10-06T11:45:39.230Z"
   },
   {
    "duration": 108,
    "start_time": "2022-10-06T11:45:56.813Z"
   },
   {
    "duration": 117,
    "start_time": "2022-10-06T11:46:10.215Z"
   },
   {
    "duration": 1484,
    "start_time": "2022-10-06T11:47:41.604Z"
   },
   {
    "duration": 491,
    "start_time": "2022-10-06T11:47:57.703Z"
   },
   {
    "duration": 539,
    "start_time": "2022-10-06T11:48:08.144Z"
   },
   {
    "duration": 254,
    "start_time": "2022-10-06T11:55:44.115Z"
   },
   {
    "duration": 353,
    "start_time": "2022-10-06T11:56:38.458Z"
   },
   {
    "duration": 235,
    "start_time": "2022-10-06T11:56:51.388Z"
   },
   {
    "duration": 258,
    "start_time": "2022-10-06T11:57:00.025Z"
   },
   {
    "duration": 264,
    "start_time": "2022-10-06T11:58:00.194Z"
   },
   {
    "duration": 291,
    "start_time": "2022-10-06T11:58:07.227Z"
   },
   {
    "duration": 239,
    "start_time": "2022-10-06T11:58:11.101Z"
   },
   {
    "duration": 363,
    "start_time": "2022-10-06T11:58:16.645Z"
   },
   {
    "duration": 248,
    "start_time": "2022-10-06T11:58:36.368Z"
   },
   {
    "duration": 252,
    "start_time": "2022-10-06T11:58:43.820Z"
   },
   {
    "duration": 277,
    "start_time": "2022-10-06T11:58:50.045Z"
   },
   {
    "duration": 291,
    "start_time": "2022-10-06T11:58:56.970Z"
   },
   {
    "duration": 278,
    "start_time": "2022-10-06T11:59:03.269Z"
   },
   {
    "duration": 253,
    "start_time": "2022-10-06T11:59:08.029Z"
   },
   {
    "duration": 403,
    "start_time": "2022-10-06T11:59:11.464Z"
   },
   {
    "duration": 254,
    "start_time": "2022-10-06T11:59:13.779Z"
   },
   {
    "duration": 254,
    "start_time": "2022-10-06T11:59:15.734Z"
   },
   {
    "duration": 257,
    "start_time": "2022-10-06T11:59:18.156Z"
   },
   {
    "duration": 247,
    "start_time": "2022-10-06T11:59:22.073Z"
   },
   {
    "duration": 266,
    "start_time": "2022-10-06T11:59:26.316Z"
   },
   {
    "duration": 387,
    "start_time": "2022-10-06T11:59:30.549Z"
   },
   {
    "duration": 274,
    "start_time": "2022-10-06T11:59:42.189Z"
   },
   {
    "duration": 240,
    "start_time": "2022-10-06T12:00:31.988Z"
   },
   {
    "duration": 252,
    "start_time": "2022-10-06T12:00:41.757Z"
   },
   {
    "duration": 261,
    "start_time": "2022-10-06T12:00:49.126Z"
   },
   {
    "duration": 273,
    "start_time": "2022-10-06T12:02:08.616Z"
   },
   {
    "duration": 276,
    "start_time": "2022-10-06T12:02:18.314Z"
   },
   {
    "duration": 383,
    "start_time": "2022-10-06T12:03:26.351Z"
   },
   {
    "duration": 264,
    "start_time": "2022-10-06T12:03:30.378Z"
   },
   {
    "duration": 298,
    "start_time": "2022-10-06T12:03:38.431Z"
   },
   {
    "duration": 261,
    "start_time": "2022-10-06T12:03:53.219Z"
   },
   {
    "duration": 275,
    "start_time": "2022-10-06T12:03:59.897Z"
   },
   {
    "duration": 258,
    "start_time": "2022-10-06T12:04:06.517Z"
   },
   {
    "duration": 278,
    "start_time": "2022-10-06T12:04:11.367Z"
   },
   {
    "duration": 269,
    "start_time": "2022-10-06T12:04:19.820Z"
   },
   {
    "duration": 261,
    "start_time": "2022-10-06T12:05:25.300Z"
   },
   {
    "duration": 473,
    "start_time": "2022-10-06T12:05:48.318Z"
   },
   {
    "duration": 266,
    "start_time": "2022-10-06T12:06:00.281Z"
   },
   {
    "duration": 282,
    "start_time": "2022-10-06T12:06:07.907Z"
   },
   {
    "duration": 259,
    "start_time": "2022-10-06T12:06:17.757Z"
   },
   {
    "duration": 256,
    "start_time": "2022-10-06T12:06:33.788Z"
   },
   {
    "duration": 146,
    "start_time": "2022-10-06T12:07:31.565Z"
   },
   {
    "duration": 163,
    "start_time": "2022-10-06T12:07:39.100Z"
   },
   {
    "duration": 135,
    "start_time": "2022-10-06T12:08:09.954Z"
   },
   {
    "duration": 268,
    "start_time": "2022-10-06T12:08:41.862Z"
   },
   {
    "duration": 284,
    "start_time": "2022-10-06T12:11:11.084Z"
   },
   {
    "duration": 299,
    "start_time": "2022-10-06T12:11:26.272Z"
   },
   {
    "duration": 98,
    "start_time": "2022-10-06T12:15:11.171Z"
   },
   {
    "duration": 303,
    "start_time": "2022-10-06T12:15:14.713Z"
   },
   {
    "duration": 308,
    "start_time": "2022-10-06T12:15:25.596Z"
   },
   {
    "duration": 461,
    "start_time": "2022-10-06T12:16:00.469Z"
   },
   {
    "duration": 303,
    "start_time": "2022-10-06T12:16:20.313Z"
   },
   {
    "duration": 289,
    "start_time": "2022-10-06T12:16:26.522Z"
   },
   {
    "duration": 257,
    "start_time": "2022-10-06T12:17:22.836Z"
   },
   {
    "duration": 276,
    "start_time": "2022-10-06T12:17:29.361Z"
   },
   {
    "duration": 274,
    "start_time": "2022-10-06T12:21:56.723Z"
   },
   {
    "duration": 255,
    "start_time": "2022-10-06T12:27:29.283Z"
   },
   {
    "duration": 9,
    "start_time": "2022-10-06T12:35:47.551Z"
   },
   {
    "duration": 10,
    "start_time": "2022-10-06T12:37:32.554Z"
   },
   {
    "duration": 60,
    "start_time": "2022-10-06T12:38:52.729Z"
   },
   {
    "duration": 115,
    "start_time": "2022-10-06T12:39:00.691Z"
   },
   {
    "duration": 8,
    "start_time": "2022-10-06T12:39:13.432Z"
   },
   {
    "duration": 6,
    "start_time": "2022-10-06T12:39:45.221Z"
   },
   {
    "duration": 21,
    "start_time": "2022-10-06T12:39:47.749Z"
   },
   {
    "duration": 149,
    "start_time": "2022-10-06T12:39:53.375Z"
   },
   {
    "duration": 62,
    "start_time": "2022-10-06T12:40:17.810Z"
   },
   {
    "duration": 134,
    "start_time": "2022-10-06T12:40:27.527Z"
   },
   {
    "duration": 144,
    "start_time": "2022-10-06T12:40:32.680Z"
   },
   {
    "duration": 140,
    "start_time": "2022-10-06T12:40:37.615Z"
   },
   {
    "duration": 164,
    "start_time": "2022-10-06T12:40:53.578Z"
   },
   {
    "duration": 170,
    "start_time": "2022-10-06T12:41:03.171Z"
   },
   {
    "duration": 253,
    "start_time": "2022-10-06T12:47:42.608Z"
   },
   {
    "duration": 271,
    "start_time": "2022-10-06T12:49:25.461Z"
   },
   {
    "duration": 122,
    "start_time": "2022-10-06T12:50:12.886Z"
   },
   {
    "duration": 268,
    "start_time": "2022-10-06T12:50:40.082Z"
   },
   {
    "duration": 187,
    "start_time": "2022-10-06T12:51:07.522Z"
   },
   {
    "duration": 171,
    "start_time": "2022-10-06T12:51:37.091Z"
   },
   {
    "duration": 215,
    "start_time": "2022-10-06T12:52:20.225Z"
   },
   {
    "duration": 176,
    "start_time": "2022-10-06T12:52:39.599Z"
   },
   {
    "duration": 175,
    "start_time": "2022-10-06T12:53:06.285Z"
   },
   {
    "duration": 274,
    "start_time": "2022-10-06T12:53:34.264Z"
   },
   {
    "duration": 197,
    "start_time": "2022-10-06T12:53:49.246Z"
   },
   {
    "duration": 177,
    "start_time": "2022-10-06T12:55:14.446Z"
   },
   {
    "duration": 218,
    "start_time": "2022-10-06T12:56:02.151Z"
   },
   {
    "duration": 232,
    "start_time": "2022-10-06T12:57:54.150Z"
   },
   {
    "duration": 438,
    "start_time": "2022-10-06T12:58:24.771Z"
   },
   {
    "duration": 210,
    "start_time": "2022-10-06T12:59:52.373Z"
   },
   {
    "duration": 6,
    "start_time": "2022-10-06T13:01:32.923Z"
   },
   {
    "duration": 5,
    "start_time": "2022-10-06T13:04:57.834Z"
   },
   {
    "duration": 194,
    "start_time": "2022-10-06T13:06:09.236Z"
   },
   {
    "duration": 21,
    "start_time": "2022-10-06T13:06:29.393Z"
   },
   {
    "duration": 213,
    "start_time": "2022-10-06T13:07:17.444Z"
   },
   {
    "duration": 208,
    "start_time": "2022-10-06T13:07:55.480Z"
   },
   {
    "duration": 312,
    "start_time": "2022-10-06T13:09:23.865Z"
   },
   {
    "duration": 188,
    "start_time": "2022-10-06T13:09:52.072Z"
   },
   {
    "duration": 5,
    "start_time": "2022-10-06T13:10:26.538Z"
   },
   {
    "duration": 6,
    "start_time": "2022-10-06T13:11:14.958Z"
   },
   {
    "duration": 204,
    "start_time": "2022-10-06T13:11:15.908Z"
   },
   {
    "duration": 6,
    "start_time": "2022-10-06T13:11:27.416Z"
   },
   {
    "duration": 6,
    "start_time": "2022-10-06T13:12:58.838Z"
   },
   {
    "duration": 192,
    "start_time": "2022-10-06T13:12:59.624Z"
   },
   {
    "duration": 5,
    "start_time": "2022-10-06T13:13:01.783Z"
   },
   {
    "duration": 196,
    "start_time": "2022-10-06T13:13:06.396Z"
   },
   {
    "duration": 202,
    "start_time": "2022-10-06T13:13:19.172Z"
   },
   {
    "duration": 218,
    "start_time": "2022-10-06T13:13:58.878Z"
   },
   {
    "duration": 258,
    "start_time": "2022-10-06T13:14:07.141Z"
   },
   {
    "duration": 205,
    "start_time": "2022-10-06T13:14:16.065Z"
   },
   {
    "duration": 187,
    "start_time": "2022-10-06T13:14:20.519Z"
   },
   {
    "duration": 15,
    "start_time": "2022-10-06T13:44:56.151Z"
   },
   {
    "duration": 22,
    "start_time": "2022-10-06T13:45:00.813Z"
   },
   {
    "duration": 28,
    "start_time": "2022-10-06T13:45:09.189Z"
   },
   {
    "duration": 19,
    "start_time": "2022-10-06T13:45:30.874Z"
   },
   {
    "duration": 30,
    "start_time": "2022-10-06T13:45:49.442Z"
   },
   {
    "duration": 48,
    "start_time": "2022-10-06T13:46:34.754Z"
   },
   {
    "duration": 46,
    "start_time": "2022-10-06T13:46:51.271Z"
   },
   {
    "duration": 20,
    "start_time": "2022-10-06T13:49:36.063Z"
   },
   {
    "duration": 18,
    "start_time": "2022-10-06T13:49:45.491Z"
   },
   {
    "duration": 27,
    "start_time": "2022-10-06T13:49:48.334Z"
   },
   {
    "duration": 19,
    "start_time": "2022-10-06T13:49:53.862Z"
   },
   {
    "duration": 24,
    "start_time": "2022-10-06T13:49:58.323Z"
   },
   {
    "duration": 13,
    "start_time": "2022-10-06T13:50:05.336Z"
   },
   {
    "duration": 14,
    "start_time": "2022-10-06T13:50:24.811Z"
   },
   {
    "duration": 48,
    "start_time": "2022-10-06T13:53:55.140Z"
   },
   {
    "duration": 26,
    "start_time": "2022-10-06T13:54:03.731Z"
   },
   {
    "duration": 56,
    "start_time": "2022-10-06T13:54:42.825Z"
   },
   {
    "duration": 60,
    "start_time": "2022-10-06T13:54:49.983Z"
   },
   {
    "duration": 20,
    "start_time": "2022-10-06T13:54:54.473Z"
   },
   {
    "duration": 29,
    "start_time": "2022-10-06T13:55:19.864Z"
   },
   {
    "duration": 27,
    "start_time": "2022-10-06T13:58:08.331Z"
   },
   {
    "duration": 29,
    "start_time": "2022-10-06T13:58:41.531Z"
   },
   {
    "duration": 94,
    "start_time": "2022-10-06T14:00:59.719Z"
   },
   {
    "duration": 148,
    "start_time": "2022-10-06T14:10:15.073Z"
   },
   {
    "duration": 146,
    "start_time": "2022-10-06T14:10:37.640Z"
   },
   {
    "duration": 38,
    "start_time": "2022-10-06T14:13:00.752Z"
   },
   {
    "duration": 37,
    "start_time": "2022-10-06T14:15:38.848Z"
   },
   {
    "duration": 76,
    "start_time": "2022-10-06T14:16:16.733Z"
   },
   {
    "duration": 35,
    "start_time": "2022-10-06T14:16:43.646Z"
   },
   {
    "duration": 39,
    "start_time": "2022-10-06T14:16:50.394Z"
   },
   {
    "duration": 142,
    "start_time": "2022-10-06T14:19:01.558Z"
   },
   {
    "duration": 143,
    "start_time": "2022-10-06T14:20:12.865Z"
   },
   {
    "duration": 158,
    "start_time": "2022-10-06T14:20:58.904Z"
   },
   {
    "duration": 163,
    "start_time": "2022-10-06T14:21:13.281Z"
   },
   {
    "duration": 149,
    "start_time": "2022-10-06T14:23:19.548Z"
   },
   {
    "duration": 148,
    "start_time": "2022-10-06T14:23:42.935Z"
   },
   {
    "duration": 147,
    "start_time": "2022-10-06T14:23:53.282Z"
   },
   {
    "duration": 195,
    "start_time": "2022-10-06T14:24:35.739Z"
   },
   {
    "duration": 152,
    "start_time": "2022-10-06T14:24:41.271Z"
   },
   {
    "duration": 13,
    "start_time": "2022-10-06T14:27:13.544Z"
   },
   {
    "duration": 200,
    "start_time": "2022-10-06T14:27:40.752Z"
   },
   {
    "duration": 11,
    "start_time": "2022-10-06T14:31:08.096Z"
   },
   {
    "duration": 220,
    "start_time": "2022-10-06T14:31:31.239Z"
   },
   {
    "duration": 261,
    "start_time": "2022-10-06T14:32:41.290Z"
   },
   {
    "duration": 235,
    "start_time": "2022-10-06T14:32:48.811Z"
   },
   {
    "duration": 223,
    "start_time": "2022-10-06T14:32:57.043Z"
   },
   {
    "duration": 246,
    "start_time": "2022-10-06T14:33:43.597Z"
   },
   {
    "duration": 120,
    "start_time": "2022-10-06T14:34:14.280Z"
   },
   {
    "duration": 120,
    "start_time": "2022-10-06T14:34:24.103Z"
   },
   {
    "duration": 221,
    "start_time": "2022-10-06T14:34:46.880Z"
   },
   {
    "duration": 260,
    "start_time": "2022-10-06T14:35:13.474Z"
   },
   {
    "duration": 380,
    "start_time": "2022-10-06T14:36:55.092Z"
   },
   {
    "duration": 8,
    "start_time": "2022-10-06T14:38:07.526Z"
   },
   {
    "duration": 136,
    "start_time": "2022-10-06T14:38:14.703Z"
   },
   {
    "duration": 72,
    "start_time": "2022-10-06T14:38:42.628Z"
   },
   {
    "duration": 58,
    "start_time": "2022-10-06T14:38:51.621Z"
   },
   {
    "duration": 185,
    "start_time": "2022-10-06T14:38:53.290Z"
   },
   {
    "duration": 194,
    "start_time": "2022-10-06T14:43:09.655Z"
   },
   {
    "duration": 14,
    "start_time": "2022-10-06T14:47:04.161Z"
   },
   {
    "duration": 15,
    "start_time": "2022-10-06T14:47:47.041Z"
   },
   {
    "duration": 14,
    "start_time": "2022-10-06T14:48:38.716Z"
   },
   {
    "duration": 174,
    "start_time": "2022-10-06T14:49:03.191Z"
   },
   {
    "duration": 211,
    "start_time": "2022-10-06T14:49:35.831Z"
   },
   {
    "duration": 15,
    "start_time": "2022-10-06T14:54:59.053Z"
   },
   {
    "duration": 188,
    "start_time": "2022-10-06T14:55:04.091Z"
   },
   {
    "duration": 14,
    "start_time": "2022-10-06T14:59:41.395Z"
   },
   {
    "duration": 16,
    "start_time": "2022-10-06T15:00:03.420Z"
   },
   {
    "duration": 15,
    "start_time": "2022-10-06T15:00:46.483Z"
   },
   {
    "duration": 226,
    "start_time": "2022-10-06T15:00:47.579Z"
   },
   {
    "duration": 204,
    "start_time": "2022-10-06T15:01:18.650Z"
   },
   {
    "duration": 206,
    "start_time": "2022-10-06T15:01:44.964Z"
   },
   {
    "duration": 22,
    "start_time": "2022-10-06T15:04:13.932Z"
   },
   {
    "duration": 21,
    "start_time": "2022-10-06T15:04:19.936Z"
   },
   {
    "duration": 201,
    "start_time": "2022-10-06T15:04:21.559Z"
   },
   {
    "duration": 226,
    "start_time": "2022-10-06T15:07:00.344Z"
   },
   {
    "duration": 934,
    "start_time": "2022-10-09T15:52:50.656Z"
   },
   {
    "duration": 25,
    "start_time": "2022-10-09T15:52:51.592Z"
   },
   {
    "duration": 13,
    "start_time": "2022-10-09T15:52:51.619Z"
   },
   {
    "duration": 486,
    "start_time": "2022-10-09T15:52:51.633Z"
   },
   {
    "duration": 3,
    "start_time": "2022-10-09T15:52:52.121Z"
   },
   {
    "duration": 21,
    "start_time": "2022-10-09T15:52:52.125Z"
   },
   {
    "duration": 17,
    "start_time": "2022-10-09T15:52:52.147Z"
   },
   {
    "duration": 35,
    "start_time": "2022-10-09T15:52:52.165Z"
   },
   {
    "duration": 7,
    "start_time": "2022-10-09T15:52:52.201Z"
   },
   {
    "duration": 7,
    "start_time": "2022-10-09T15:52:52.212Z"
   },
   {
    "duration": 10,
    "start_time": "2022-10-09T15:52:52.221Z"
   },
   {
    "duration": 17,
    "start_time": "2022-10-09T15:52:52.232Z"
   },
   {
    "duration": 15,
    "start_time": "2022-10-09T15:52:52.251Z"
   },
   {
    "duration": 41,
    "start_time": "2022-10-09T15:52:52.270Z"
   },
   {
    "duration": 5,
    "start_time": "2022-10-09T15:52:52.317Z"
   },
   {
    "duration": 21,
    "start_time": "2022-10-09T15:52:52.324Z"
   },
   {
    "duration": 292,
    "start_time": "2022-10-09T15:52:52.347Z"
   },
   {
    "duration": 15,
    "start_time": "2022-10-09T15:52:52.641Z"
   },
   {
    "duration": 367,
    "start_time": "2022-10-09T15:52:52.657Z"
   },
   {
    "duration": 338,
    "start_time": "2022-10-09T15:52:53.027Z"
   },
   {
    "duration": 689,
    "start_time": "2022-10-09T15:52:53.367Z"
   },
   {
    "duration": 6,
    "start_time": "2022-10-09T15:52:54.058Z"
   },
   {
    "duration": 233,
    "start_time": "2022-10-09T15:52:54.066Z"
   },
   {
    "duration": 12,
    "start_time": "2022-10-09T15:52:54.300Z"
   },
   {
    "duration": 6,
    "start_time": "2022-10-09T15:52:54.314Z"
   },
   {
    "duration": 279,
    "start_time": "2022-10-09T15:52:54.322Z"
   },
   {
    "duration": 7,
    "start_time": "2022-10-09T15:52:54.602Z"
   },
   {
    "duration": 67,
    "start_time": "2022-10-09T15:52:54.610Z"
   },
   {
    "duration": 191,
    "start_time": "2022-10-09T15:52:54.678Z"
   },
   {
    "duration": 15,
    "start_time": "2022-10-09T15:52:54.871Z"
   },
   {
    "duration": 216,
    "start_time": "2022-10-09T15:52:54.895Z"
   },
   {
    "duration": 110,
    "start_time": "2022-10-09T15:56:20.594Z"
   },
   {
    "duration": 103,
    "start_time": "2022-10-09T15:56:24.416Z"
   },
   {
    "duration": 8,
    "start_time": "2022-10-09T15:56:36.474Z"
   },
   {
    "duration": 18,
    "start_time": "2022-10-09T15:57:26.059Z"
   },
   {
    "duration": 41,
    "start_time": "2022-10-09T15:57:34.277Z"
   },
   {
    "duration": 16,
    "start_time": "2022-10-09T16:01:15.831Z"
   },
   {
    "duration": 32,
    "start_time": "2022-10-09T16:01:32.204Z"
   },
   {
    "duration": 18,
    "start_time": "2022-10-09T16:12:35.379Z"
   },
   {
    "duration": 41,
    "start_time": "2022-10-09T16:13:44.302Z"
   },
   {
    "duration": 36,
    "start_time": "2022-10-09T16:13:52.354Z"
   },
   {
    "duration": 544,
    "start_time": "2022-10-09T16:21:56.469Z"
   },
   {
    "duration": 463,
    "start_time": "2022-10-09T16:22:31.006Z"
   },
   {
    "duration": 480,
    "start_time": "2022-10-09T16:23:23.861Z"
   },
   {
    "duration": 445,
    "start_time": "2022-10-09T16:24:13.245Z"
   },
   {
    "duration": 569,
    "start_time": "2022-10-09T16:24:23.582Z"
   },
   {
    "duration": 526,
    "start_time": "2022-10-09T16:24:49.058Z"
   },
   {
    "duration": 444,
    "start_time": "2022-10-09T16:24:59.474Z"
   },
   {
    "duration": 508,
    "start_time": "2022-10-09T16:35:40.455Z"
   },
   {
    "duration": 475,
    "start_time": "2022-10-09T16:41:24.284Z"
   },
   {
    "duration": 597,
    "start_time": "2022-10-09T16:42:15.971Z"
   },
   {
    "duration": 449,
    "start_time": "2022-10-09T16:42:32.159Z"
   },
   {
    "duration": 21,
    "start_time": "2022-10-09T17:35:07.842Z"
   },
   {
    "duration": 2048,
    "start_time": "2022-10-09T17:36:28.648Z"
   },
   {
    "duration": 24,
    "start_time": "2022-10-09T17:36:41.157Z"
   },
   {
    "duration": 8,
    "start_time": "2022-10-09T17:36:53.641Z"
   },
   {
    "duration": 6,
    "start_time": "2022-10-09T17:37:14.511Z"
   },
   {
    "duration": 22,
    "start_time": "2022-10-09T17:37:37.138Z"
   },
   {
    "duration": 6,
    "start_time": "2022-10-09T17:38:02.479Z"
   },
   {
    "duration": 15,
    "start_time": "2022-10-09T17:41:55.195Z"
   },
   {
    "duration": 5,
    "start_time": "2022-10-09T17:42:53.385Z"
   },
   {
    "duration": 8,
    "start_time": "2022-10-09T17:42:59.393Z"
   },
   {
    "duration": 21,
    "start_time": "2022-10-09T17:43:32.085Z"
   },
   {
    "duration": 12,
    "start_time": "2022-10-09T17:43:54.949Z"
   },
   {
    "duration": 6,
    "start_time": "2022-10-09T17:44:32.567Z"
   },
   {
    "duration": 16,
    "start_time": "2022-10-09T17:44:36.776Z"
   },
   {
    "duration": 10,
    "start_time": "2022-10-09T17:44:50.874Z"
   },
   {
    "duration": 10,
    "start_time": "2022-10-09T17:44:55.246Z"
   },
   {
    "duration": 7,
    "start_time": "2022-10-09T17:46:20.738Z"
   },
   {
    "duration": 8,
    "start_time": "2022-10-09T17:46:51.330Z"
   },
   {
    "duration": 12,
    "start_time": "2022-10-09T17:46:55.842Z"
   },
   {
    "duration": 5,
    "start_time": "2022-10-09T17:47:02.042Z"
   },
   {
    "duration": 14,
    "start_time": "2022-10-09T17:49:06.644Z"
   },
   {
    "duration": 12,
    "start_time": "2022-10-09T17:49:39.669Z"
   },
   {
    "duration": 5,
    "start_time": "2022-10-09T17:49:55.983Z"
   },
   {
    "duration": 11,
    "start_time": "2022-10-09T17:50:46.484Z"
   },
   {
    "duration": 12,
    "start_time": "2022-10-09T17:51:05.833Z"
   },
   {
    "duration": 8,
    "start_time": "2022-10-09T17:51:57.766Z"
   },
   {
    "duration": 9,
    "start_time": "2022-10-09T17:52:18.610Z"
   },
   {
    "duration": 5,
    "start_time": "2022-10-09T17:52:24.958Z"
   },
   {
    "duration": 5,
    "start_time": "2022-10-09T17:52:27.781Z"
   },
   {
    "duration": 4,
    "start_time": "2022-10-09T17:52:30.426Z"
   },
   {
    "duration": 5,
    "start_time": "2022-10-09T17:52:54.480Z"
   },
   {
    "duration": 6,
    "start_time": "2022-10-09T17:55:00.111Z"
   },
   {
    "duration": 5,
    "start_time": "2022-10-09T17:57:04.888Z"
   },
   {
    "duration": 6,
    "start_time": "2022-10-09T17:59:08.424Z"
   },
   {
    "duration": 84,
    "start_time": "2022-10-09T17:59:19.073Z"
   },
   {
    "duration": 6,
    "start_time": "2022-10-09T17:59:23.117Z"
   },
   {
    "duration": 80,
    "start_time": "2022-10-09T18:02:08.057Z"
   },
   {
    "duration": 5,
    "start_time": "2022-10-09T18:02:20.287Z"
   },
   {
    "duration": 9,
    "start_time": "2022-10-09T18:02:24.548Z"
   },
   {
    "duration": 10,
    "start_time": "2022-10-09T18:03:00.284Z"
   },
   {
    "duration": 10,
    "start_time": "2022-10-09T18:03:11.705Z"
   },
   {
    "duration": 7,
    "start_time": "2022-10-09T18:03:23.843Z"
   },
   {
    "duration": 10,
    "start_time": "2022-10-09T18:03:55.144Z"
   },
   {
    "duration": 7,
    "start_time": "2022-10-09T18:04:01.047Z"
   },
   {
    "duration": 7,
    "start_time": "2022-10-09T18:04:26.978Z"
   },
   {
    "duration": 6,
    "start_time": "2022-10-09T18:05:11.604Z"
   },
   {
    "duration": 6,
    "start_time": "2022-10-09T18:05:20.170Z"
   },
   {
    "duration": 5,
    "start_time": "2022-10-09T18:05:48.286Z"
   },
   {
    "duration": 516,
    "start_time": "2022-10-09T19:46:26.311Z"
   },
   {
    "duration": 20,
    "start_time": "2022-10-09T19:46:26.829Z"
   },
   {
    "duration": 17,
    "start_time": "2022-10-09T19:46:26.851Z"
   },
   {
    "duration": 440,
    "start_time": "2022-10-09T19:46:26.870Z"
   },
   {
    "duration": 3,
    "start_time": "2022-10-09T19:46:27.311Z"
   },
   {
    "duration": 21,
    "start_time": "2022-10-09T19:46:27.316Z"
   },
   {
    "duration": 15,
    "start_time": "2022-10-09T19:46:27.339Z"
   },
   {
    "duration": 13,
    "start_time": "2022-10-09T19:46:27.355Z"
   },
   {
    "duration": 3,
    "start_time": "2022-10-09T19:46:27.369Z"
   },
   {
    "duration": 4,
    "start_time": "2022-10-09T19:46:27.375Z"
   },
   {
    "duration": 8,
    "start_time": "2022-10-09T19:46:27.381Z"
   },
   {
    "duration": 12,
    "start_time": "2022-10-09T19:46:27.390Z"
   },
   {
    "duration": 10,
    "start_time": "2022-10-09T19:46:27.433Z"
   },
   {
    "duration": 14,
    "start_time": "2022-10-09T19:46:27.444Z"
   },
   {
    "duration": 3,
    "start_time": "2022-10-09T19:46:27.460Z"
   },
   {
    "duration": 16,
    "start_time": "2022-10-09T19:46:27.465Z"
   },
   {
    "duration": 272,
    "start_time": "2022-10-09T19:46:27.482Z"
   },
   {
    "duration": 14,
    "start_time": "2022-10-09T19:46:27.756Z"
   },
   {
    "duration": 306,
    "start_time": "2022-10-09T19:46:27.771Z"
   },
   {
    "duration": 323,
    "start_time": "2022-10-09T19:46:28.079Z"
   },
   {
    "duration": 705,
    "start_time": "2022-10-09T19:46:28.404Z"
   },
   {
    "duration": 6,
    "start_time": "2022-10-09T19:46:29.110Z"
   },
   {
    "duration": 197,
    "start_time": "2022-10-09T19:46:29.117Z"
   },
   {
    "duration": 4,
    "start_time": "2022-10-09T19:46:29.316Z"
   },
   {
    "duration": 13,
    "start_time": "2022-10-09T19:46:29.321Z"
   },
   {
    "duration": 240,
    "start_time": "2022-10-09T19:46:29.336Z"
   },
   {
    "duration": 4,
    "start_time": "2022-10-09T19:46:29.578Z"
   },
   {
    "duration": 67,
    "start_time": "2022-10-09T19:46:29.585Z"
   },
   {
    "duration": 187,
    "start_time": "2022-10-09T19:46:29.654Z"
   },
   {
    "duration": 14,
    "start_time": "2022-10-09T19:46:29.843Z"
   },
   {
    "duration": 203,
    "start_time": "2022-10-09T19:46:29.858Z"
   },
   {
    "duration": 452,
    "start_time": "2022-10-09T19:46:30.063Z"
   },
   {
    "duration": 509,
    "start_time": "2022-10-09T19:46:30.517Z"
   },
   {
    "duration": 466,
    "start_time": "2022-10-09T19:46:31.028Z"
   },
   {
    "duration": 6,
    "start_time": "2022-10-09T19:46:31.495Z"
   },
   {
    "duration": 10,
    "start_time": "2022-10-09T19:46:31.503Z"
   },
   {
    "duration": 6,
    "start_time": "2022-10-09T19:46:31.514Z"
   },
   {
    "duration": 4,
    "start_time": "2022-10-09T19:46:31.533Z"
   },
   {
    "duration": 12,
    "start_time": "2022-10-09T19:46:31.539Z"
   },
   {
    "duration": 19,
    "start_time": "2022-10-09T19:46:31.552Z"
   },
   {
    "duration": 10,
    "start_time": "2022-10-09T19:46:31.572Z"
   },
   {
    "duration": 20,
    "start_time": "2022-10-09T19:46:31.584Z"
   },
   {
    "duration": 8,
    "start_time": "2022-10-09T19:46:31.606Z"
   },
   {
    "duration": 5,
    "start_time": "2022-10-09T19:46:33.762Z"
   },
   {
    "duration": 5,
    "start_time": "2022-10-09T19:46:34.582Z"
   },
   {
    "duration": 4,
    "start_time": "2022-10-09T19:49:59.386Z"
   },
   {
    "duration": 4,
    "start_time": "2022-10-09T19:50:24.178Z"
   },
   {
    "duration": 7,
    "start_time": "2022-10-09T20:49:04.506Z"
   },
   {
    "duration": 6,
    "start_time": "2022-10-09T21:21:48.619Z"
   },
   {
    "duration": 475,
    "start_time": "2022-10-10T08:28:07.126Z"
   },
   {
    "duration": 19,
    "start_time": "2022-10-10T08:28:07.603Z"
   },
   {
    "duration": 12,
    "start_time": "2022-10-10T08:28:07.624Z"
   },
   {
    "duration": 423,
    "start_time": "2022-10-10T08:28:07.637Z"
   },
   {
    "duration": 3,
    "start_time": "2022-10-10T08:28:08.062Z"
   },
   {
    "duration": 18,
    "start_time": "2022-10-10T08:28:08.067Z"
   },
   {
    "duration": 25,
    "start_time": "2022-10-10T08:28:08.086Z"
   },
   {
    "duration": 13,
    "start_time": "2022-10-10T08:28:08.112Z"
   },
   {
    "duration": 3,
    "start_time": "2022-10-10T08:28:08.126Z"
   },
   {
    "duration": 8,
    "start_time": "2022-10-10T08:28:08.130Z"
   },
   {
    "duration": 7,
    "start_time": "2022-10-10T08:28:08.139Z"
   },
   {
    "duration": 11,
    "start_time": "2022-10-10T08:28:08.147Z"
   },
   {
    "duration": 10,
    "start_time": "2022-10-10T08:28:08.159Z"
   },
   {
    "duration": 37,
    "start_time": "2022-10-10T08:28:08.172Z"
   },
   {
    "duration": 4,
    "start_time": "2022-10-10T08:28:08.210Z"
   },
   {
    "duration": 14,
    "start_time": "2022-10-10T08:28:08.216Z"
   },
   {
    "duration": 238,
    "start_time": "2022-10-10T08:28:08.231Z"
   },
   {
    "duration": 14,
    "start_time": "2022-10-10T08:28:08.470Z"
   },
   {
    "duration": 294,
    "start_time": "2022-10-10T08:28:08.486Z"
   },
   {
    "duration": 296,
    "start_time": "2022-10-10T08:28:08.782Z"
   },
   {
    "duration": 6,
    "start_time": "2022-10-10T08:28:09.080Z"
   },
   {
    "duration": 667,
    "start_time": "2022-10-10T08:28:09.087Z"
   },
   {
    "duration": 4,
    "start_time": "2022-10-10T08:28:09.756Z"
   },
   {
    "duration": 199,
    "start_time": "2022-10-10T08:28:09.762Z"
   },
   {
    "duration": 3,
    "start_time": "2022-10-10T08:28:09.963Z"
   },
   {
    "duration": 28,
    "start_time": "2022-10-10T08:28:09.968Z"
   },
   {
    "duration": 250,
    "start_time": "2022-10-10T08:28:09.997Z"
   },
   {
    "duration": 4,
    "start_time": "2022-10-10T08:28:10.248Z"
   },
   {
    "duration": 62,
    "start_time": "2022-10-10T08:28:10.254Z"
   },
   {
    "duration": 171,
    "start_time": "2022-10-10T08:28:10.317Z"
   },
   {
    "duration": 25,
    "start_time": "2022-10-10T08:28:10.490Z"
   },
   {
    "duration": 193,
    "start_time": "2022-10-10T08:28:10.517Z"
   },
   {
    "duration": 441,
    "start_time": "2022-10-10T08:28:10.712Z"
   },
   {
    "duration": 470,
    "start_time": "2022-10-10T08:28:11.154Z"
   },
   {
    "duration": 450,
    "start_time": "2022-10-10T08:28:11.626Z"
   },
   {
    "duration": 5,
    "start_time": "2022-10-10T08:28:12.078Z"
   },
   {
    "duration": 7,
    "start_time": "2022-10-10T08:28:12.084Z"
   },
   {
    "duration": 17,
    "start_time": "2022-10-10T08:28:12.093Z"
   },
   {
    "duration": 5,
    "start_time": "2022-10-10T08:28:12.111Z"
   },
   {
    "duration": 7,
    "start_time": "2022-10-10T08:28:12.117Z"
   },
   {
    "duration": 8,
    "start_time": "2022-10-10T08:28:12.127Z"
   },
   {
    "duration": 6,
    "start_time": "2022-10-10T08:28:12.137Z"
   },
   {
    "duration": 6,
    "start_time": "2022-10-10T08:28:12.144Z"
   },
   {
    "duration": 5,
    "start_time": "2022-10-10T08:28:12.152Z"
   },
   {
    "duration": 6,
    "start_time": "2022-10-10T08:28:12.158Z"
   },
   {
    "duration": 138,
    "start_time": "2022-10-10T09:35:09.224Z"
   },
   {
    "duration": 430,
    "start_time": "2022-10-10T09:36:04.528Z"
   },
   {
    "duration": 96,
    "start_time": "2022-10-10T09:36:04.960Z"
   },
   {
    "duration": 22,
    "start_time": "2022-10-10T09:36:05.058Z"
   },
   {
    "duration": 15,
    "start_time": "2022-10-10T09:36:05.082Z"
   },
   {
    "duration": 501,
    "start_time": "2022-10-10T09:36:05.099Z"
   },
   {
    "duration": 4,
    "start_time": "2022-10-10T09:36:05.602Z"
   },
   {
    "duration": 41,
    "start_time": "2022-10-10T09:36:05.608Z"
   },
   {
    "duration": 18,
    "start_time": "2022-10-10T09:36:05.651Z"
   },
   {
    "duration": 32,
    "start_time": "2022-10-10T09:36:05.671Z"
   },
   {
    "duration": 9,
    "start_time": "2022-10-10T09:36:05.705Z"
   },
   {
    "duration": 14,
    "start_time": "2022-10-10T09:36:05.715Z"
   },
   {
    "duration": 13,
    "start_time": "2022-10-10T09:36:05.731Z"
   },
   {
    "duration": 33,
    "start_time": "2022-10-10T09:36:05.746Z"
   },
   {
    "duration": 19,
    "start_time": "2022-10-10T09:36:05.781Z"
   },
   {
    "duration": 24,
    "start_time": "2022-10-10T09:36:05.801Z"
   },
   {
    "duration": 2,
    "start_time": "2022-10-10T09:36:41.931Z"
   },
   {
    "duration": 3,
    "start_time": "2022-10-10T09:36:42.217Z"
   },
   {
    "duration": 16,
    "start_time": "2022-10-10T09:37:15.802Z"
   },
   {
    "duration": 1084,
    "start_time": "2022-10-10T09:37:23.468Z"
   },
   {
    "duration": 7,
    "start_time": "2022-10-10T09:38:18.507Z"
   },
   {
    "duration": 15,
    "start_time": "2022-10-10T09:38:21.844Z"
   },
   {
    "duration": 63,
    "start_time": "2022-10-10T09:38:57.187Z"
   },
   {
    "duration": 3,
    "start_time": "2022-10-10T09:41:28.133Z"
   },
   {
    "duration": 71,
    "start_time": "2022-10-10T09:41:28.137Z"
   },
   {
    "duration": 16,
    "start_time": "2022-10-10T09:41:28.210Z"
   },
   {
    "duration": 20,
    "start_time": "2022-10-10T09:41:28.228Z"
   },
   {
    "duration": 20,
    "start_time": "2022-10-10T09:41:28.256Z"
   },
   {
    "duration": 4,
    "start_time": "2022-10-10T09:41:28.278Z"
   },
   {
    "duration": 21,
    "start_time": "2022-10-10T09:41:28.284Z"
   },
   {
    "duration": 49,
    "start_time": "2022-10-10T09:41:28.306Z"
   },
   {
    "duration": 18,
    "start_time": "2022-10-10T09:41:28.358Z"
   },
   {
    "duration": 4,
    "start_time": "2022-10-10T09:41:28.378Z"
   },
   {
    "duration": 7,
    "start_time": "2022-10-10T09:41:28.385Z"
   },
   {
    "duration": 9,
    "start_time": "2022-10-10T09:41:28.393Z"
   },
   {
    "duration": 46,
    "start_time": "2022-10-10T09:41:28.403Z"
   },
   {
    "duration": 13,
    "start_time": "2022-10-10T09:41:28.456Z"
   },
   {
    "duration": 19,
    "start_time": "2022-10-10T09:41:28.471Z"
   },
   {
    "duration": 2,
    "start_time": "2022-10-10T09:41:28.492Z"
   },
   {
    "duration": 10,
    "start_time": "2022-10-10T09:41:28.496Z"
   },
   {
    "duration": 47,
    "start_time": "2022-10-10T09:41:28.508Z"
   },
   {
    "duration": 287,
    "start_time": "2022-10-10T09:41:41.725Z"
   },
   {
    "duration": 2,
    "start_time": "2022-10-10T09:42:07.123Z"
   },
   {
    "duration": 330,
    "start_time": "2022-10-10T09:42:13.524Z"
   },
   {
    "duration": 299,
    "start_time": "2022-10-10T09:42:43.076Z"
   },
   {
    "duration": 56,
    "start_time": "2022-10-10T09:43:13.860Z"
   },
   {
    "duration": 282,
    "start_time": "2022-10-10T09:44:07.628Z"
   },
   {
    "duration": 3,
    "start_time": "2022-10-10T09:44:16.981Z"
   },
   {
    "duration": 69,
    "start_time": "2022-10-10T09:44:16.986Z"
   },
   {
    "duration": 13,
    "start_time": "2022-10-10T09:44:17.057Z"
   },
   {
    "duration": 26,
    "start_time": "2022-10-10T09:44:17.072Z"
   },
   {
    "duration": 14,
    "start_time": "2022-10-10T09:44:17.100Z"
   },
   {
    "duration": 12,
    "start_time": "2022-10-10T09:44:17.115Z"
   },
   {
    "duration": 18,
    "start_time": "2022-10-10T09:44:17.142Z"
   },
   {
    "duration": 27,
    "start_time": "2022-10-10T09:44:17.162Z"
   },
   {
    "duration": 14,
    "start_time": "2022-10-10T09:44:17.190Z"
   },
   {
    "duration": 9,
    "start_time": "2022-10-10T09:44:17.206Z"
   },
   {
    "duration": 39,
    "start_time": "2022-10-10T09:44:17.217Z"
   },
   {
    "duration": 12,
    "start_time": "2022-10-10T09:44:17.261Z"
   },
   {
    "duration": 37,
    "start_time": "2022-10-10T09:44:17.276Z"
   },
   {
    "duration": 17,
    "start_time": "2022-10-10T09:44:17.316Z"
   },
   {
    "duration": 23,
    "start_time": "2022-10-10T09:44:17.335Z"
   },
   {
    "duration": 38,
    "start_time": "2022-10-10T09:44:17.361Z"
   },
   {
    "duration": 21,
    "start_time": "2022-10-10T09:44:17.401Z"
   },
   {
    "duration": 31,
    "start_time": "2022-10-10T09:44:17.424Z"
   },
   {
    "duration": 268,
    "start_time": "2022-10-10T09:44:17.457Z"
   },
   {
    "duration": 17,
    "start_time": "2022-10-10T09:44:22.915Z"
   },
   {
    "duration": 300,
    "start_time": "2022-10-10T09:44:23.596Z"
   },
   {
    "duration": 284,
    "start_time": "2022-10-10T09:44:35.188Z"
   },
   {
    "duration": 71,
    "start_time": "2022-10-10T09:45:09.397Z"
   },
   {
    "duration": 292,
    "start_time": "2022-10-10T09:45:34.996Z"
   },
   {
    "duration": 7,
    "start_time": "2022-10-10T09:45:41.460Z"
   },
   {
    "duration": 815,
    "start_time": "2022-10-10T09:45:42.508Z"
   },
   {
    "duration": 304,
    "start_time": "2022-10-10T09:47:41.156Z"
   },
   {
    "duration": 8,
    "start_time": "2022-10-10T09:47:41.527Z"
   },
   {
    "duration": 258,
    "start_time": "2022-10-10T09:47:42.134Z"
   },
   {
    "duration": 7,
    "start_time": "2022-10-10T09:47:45.850Z"
   },
   {
    "duration": 268,
    "start_time": "2022-10-10T09:47:46.060Z"
   },
   {
    "duration": 7,
    "start_time": "2022-10-10T09:47:46.453Z"
   },
   {
    "duration": 15,
    "start_time": "2022-10-10T09:47:47.850Z"
   },
   {
    "duration": 342,
    "start_time": "2022-10-10T09:47:48.037Z"
   },
   {
    "duration": 6,
    "start_time": "2022-10-10T09:47:48.381Z"
   },
   {
    "duration": 62,
    "start_time": "2022-10-10T09:47:50.772Z"
   },
   {
    "duration": 201,
    "start_time": "2022-10-10T09:47:50.956Z"
   },
   {
    "duration": 14,
    "start_time": "2022-10-10T09:47:52.782Z"
   },
   {
    "duration": 237,
    "start_time": "2022-10-10T09:47:52.942Z"
   },
   {
    "duration": 551,
    "start_time": "2022-10-10T09:47:54.535Z"
   },
   {
    "duration": 564,
    "start_time": "2022-10-10T09:47:55.964Z"
   },
   {
    "duration": 567,
    "start_time": "2022-10-10T09:47:58.012Z"
   },
   {
    "duration": 58,
    "start_time": "2022-10-10T09:48:31.747Z"
   },
   {
    "duration": 3,
    "start_time": "2022-10-10T09:49:01.254Z"
   },
   {
    "duration": 81,
    "start_time": "2022-10-10T09:49:01.259Z"
   },
   {
    "duration": 22,
    "start_time": "2022-10-10T09:49:01.343Z"
   },
   {
    "duration": 24,
    "start_time": "2022-10-10T09:49:01.367Z"
   },
   {
    "duration": 78,
    "start_time": "2022-10-10T09:49:01.393Z"
   },
   {
    "duration": 54,
    "start_time": "2022-10-10T09:49:01.472Z"
   },
   {
    "duration": 52,
    "start_time": "2022-10-10T09:49:01.528Z"
   },
   {
    "duration": 19,
    "start_time": "2022-10-10T09:49:01.582Z"
   },
   {
    "duration": 16,
    "start_time": "2022-10-10T09:49:01.603Z"
   },
   {
    "duration": 10,
    "start_time": "2022-10-10T09:49:01.622Z"
   },
   {
    "duration": 37,
    "start_time": "2022-10-10T09:49:01.636Z"
   },
   {
    "duration": 20,
    "start_time": "2022-10-10T09:49:01.675Z"
   },
   {
    "duration": 17,
    "start_time": "2022-10-10T09:49:01.697Z"
   },
   {
    "duration": 12,
    "start_time": "2022-10-10T09:49:01.716Z"
   },
   {
    "duration": 21,
    "start_time": "2022-10-10T09:49:01.730Z"
   },
   {
    "duration": 3,
    "start_time": "2022-10-10T09:49:01.754Z"
   },
   {
    "duration": 10,
    "start_time": "2022-10-10T09:49:01.758Z"
   },
   {
    "duration": 18,
    "start_time": "2022-10-10T09:49:01.769Z"
   },
   {
    "duration": 288,
    "start_time": "2022-10-10T09:49:01.788Z"
   },
   {
    "duration": 15,
    "start_time": "2022-10-10T09:49:02.077Z"
   },
   {
    "duration": 429,
    "start_time": "2022-10-10T09:49:02.093Z"
   },
   {
    "duration": 307,
    "start_time": "2022-10-10T09:49:02.523Z"
   },
   {
    "duration": 15,
    "start_time": "2022-10-10T09:49:02.837Z"
   },
   {
    "duration": 251,
    "start_time": "2022-10-10T09:49:02.855Z"
   },
   {
    "duration": 6,
    "start_time": "2022-10-10T09:49:03.108Z"
   },
   {
    "duration": 249,
    "start_time": "2022-10-10T09:49:03.115Z"
   },
   {
    "duration": 6,
    "start_time": "2022-10-10T09:49:03.365Z"
   },
   {
    "duration": 8,
    "start_time": "2022-10-10T09:49:03.372Z"
   },
   {
    "duration": 227,
    "start_time": "2022-10-10T09:49:03.383Z"
   },
   {
    "duration": 5,
    "start_time": "2022-10-10T09:49:03.612Z"
   },
   {
    "duration": 85,
    "start_time": "2022-10-10T09:49:03.618Z"
   },
   {
    "duration": 203,
    "start_time": "2022-10-10T09:49:03.705Z"
   },
   {
    "duration": 16,
    "start_time": "2022-10-10T09:49:03.910Z"
   },
   {
    "duration": 230,
    "start_time": "2022-10-10T09:49:03.939Z"
   },
   {
    "duration": 528,
    "start_time": "2022-10-10T09:49:04.171Z"
   },
   {
    "duration": 664,
    "start_time": "2022-10-10T09:49:04.700Z"
   },
   {
    "duration": 500,
    "start_time": "2022-10-10T09:49:05.365Z"
   },
   {
    "duration": 4,
    "start_time": "2022-10-10T09:50:01.087Z"
   },
   {
    "duration": 107,
    "start_time": "2022-10-10T10:02:53.065Z"
   },
   {
    "duration": 126,
    "start_time": "2022-10-10T10:06:31.041Z"
   },
   {
    "duration": 79,
    "start_time": "2022-10-10T11:19:10.232Z"
   },
   {
    "duration": 1064,
    "start_time": "2022-10-11T00:26:59.274Z"
   },
   {
    "duration": 94,
    "start_time": "2022-10-11T00:27:00.340Z"
   },
   {
    "duration": 17,
    "start_time": "2022-10-11T00:27:00.436Z"
   },
   {
    "duration": 23,
    "start_time": "2022-10-11T00:27:00.454Z"
   },
   {
    "duration": 59,
    "start_time": "2022-10-11T00:27:00.479Z"
   },
   {
    "duration": 2,
    "start_time": "2022-10-11T00:27:00.540Z"
   },
   {
    "duration": 39,
    "start_time": "2022-10-11T00:27:00.544Z"
   },
   {
    "duration": 16,
    "start_time": "2022-10-11T00:27:00.585Z"
   },
   {
    "duration": 13,
    "start_time": "2022-10-11T00:27:00.603Z"
   },
   {
    "duration": 4,
    "start_time": "2022-10-11T00:27:00.617Z"
   },
   {
    "duration": 6,
    "start_time": "2022-10-11T00:27:00.622Z"
   },
   {
    "duration": 8,
    "start_time": "2022-10-11T00:27:00.629Z"
   },
   {
    "duration": 13,
    "start_time": "2022-10-11T00:27:00.639Z"
   },
   {
    "duration": 10,
    "start_time": "2022-10-11T00:27:00.655Z"
   },
   {
    "duration": 14,
    "start_time": "2022-10-11T00:27:00.666Z"
   },
   {
    "duration": 28,
    "start_time": "2022-10-11T00:27:00.681Z"
   },
   {
    "duration": 5,
    "start_time": "2022-10-11T00:27:00.710Z"
   },
   {
    "duration": 21,
    "start_time": "2022-10-11T00:27:00.716Z"
   },
   {
    "duration": 249,
    "start_time": "2022-10-11T00:27:00.738Z"
   },
   {
    "duration": 21,
    "start_time": "2022-10-11T00:27:00.988Z"
   },
   {
    "duration": 311,
    "start_time": "2022-10-11T00:27:01.010Z"
   },
   {
    "duration": 279,
    "start_time": "2022-10-11T00:27:01.323Z"
   },
   {
    "duration": 7,
    "start_time": "2022-10-11T00:27:01.603Z"
   },
   {
    "duration": 282,
    "start_time": "2022-10-11T00:27:01.612Z"
   },
   {
    "duration": 5,
    "start_time": "2022-10-11T00:27:01.895Z"
   },
   {
    "duration": 209,
    "start_time": "2022-10-11T00:27:01.909Z"
   },
   {
    "duration": 5,
    "start_time": "2022-10-11T00:27:02.119Z"
   },
   {
    "duration": 8,
    "start_time": "2022-10-11T00:27:02.125Z"
   },
   {
    "duration": 252,
    "start_time": "2022-10-11T00:27:02.135Z"
   },
   {
    "duration": 4,
    "start_time": "2022-10-11T00:27:02.389Z"
   },
   {
    "duration": 70,
    "start_time": "2022-10-11T00:27:02.394Z"
   },
   {
    "duration": 199,
    "start_time": "2022-10-11T00:27:02.465Z"
   },
   {
    "duration": 13,
    "start_time": "2022-10-11T00:27:02.666Z"
   },
   {
    "duration": 217,
    "start_time": "2022-10-11T00:27:02.681Z"
   },
   {
    "duration": 447,
    "start_time": "2022-10-11T00:27:02.899Z"
   },
   {
    "duration": 463,
    "start_time": "2022-10-11T00:27:03.348Z"
   },
   {
    "duration": 448,
    "start_time": "2022-10-11T00:27:03.812Z"
   },
   {
    "duration": 6,
    "start_time": "2022-10-11T00:27:04.262Z"
   },
   {
    "duration": 22,
    "start_time": "2022-10-11T00:27:04.270Z"
   },
   {
    "duration": 17,
    "start_time": "2022-10-11T00:27:04.293Z"
   },
   {
    "duration": 6,
    "start_time": "2022-10-11T00:27:04.313Z"
   },
   {
    "duration": 13,
    "start_time": "2022-10-11T00:27:04.321Z"
   },
   {
    "duration": 22,
    "start_time": "2022-10-11T00:27:04.335Z"
   },
   {
    "duration": 17,
    "start_time": "2022-10-11T00:27:04.358Z"
   },
   {
    "duration": 16,
    "start_time": "2022-10-11T00:27:04.377Z"
   },
   {
    "duration": 22,
    "start_time": "2022-10-11T00:27:04.395Z"
   },
   {
    "duration": 27,
    "start_time": "2022-10-11T00:27:04.418Z"
   },
   {
    "duration": 1262,
    "start_time": "2023-07-03T09:13:06.993Z"
   },
   {
    "duration": 105,
    "start_time": "2023-07-03T09:13:08.360Z"
   },
   {
    "duration": 4,
    "start_time": "2023-07-03T09:14:38.249Z"
   },
   {
    "duration": 3794,
    "start_time": "2023-07-03T09:14:48.795Z"
   },
   {
    "duration": 3,
    "start_time": "2023-07-03T09:14:56.296Z"
   },
   {
    "duration": 59,
    "start_time": "2023-07-03T09:14:56.301Z"
   },
   {
    "duration": 21,
    "start_time": "2023-07-03T09:14:56.361Z"
   },
   {
    "duration": 24,
    "start_time": "2023-07-03T09:14:56.383Z"
   },
   {
    "duration": 54,
    "start_time": "2023-07-03T09:14:56.410Z"
   },
   {
    "duration": 3,
    "start_time": "2023-07-03T09:14:56.465Z"
   },
   {
    "duration": 24,
    "start_time": "2023-07-03T09:14:56.470Z"
   },
   {
    "duration": 20,
    "start_time": "2023-07-03T09:14:56.496Z"
   },
   {
    "duration": 18,
    "start_time": "2023-07-03T09:14:56.518Z"
   },
   {
    "duration": 4,
    "start_time": "2023-07-03T09:15:00.337Z"
   },
   {
    "duration": 5,
    "start_time": "2023-07-03T09:15:01.616Z"
   },
   {
    "duration": 6,
    "start_time": "2023-07-03T09:15:02.032Z"
   },
   {
    "duration": 16,
    "start_time": "2023-07-03T09:15:02.432Z"
   },
   {
    "duration": 12,
    "start_time": "2023-07-03T09:15:04.056Z"
   },
   {
    "duration": 17,
    "start_time": "2023-07-03T09:15:05.193Z"
   },
   {
    "duration": 10,
    "start_time": "2023-07-03T09:15:21.201Z"
   },
   {
    "duration": 17,
    "start_time": "2023-07-03T09:15:21.494Z"
   },
   {
    "duration": 292,
    "start_time": "2023-07-03T09:15:48.643Z"
   },
   {
    "duration": 17,
    "start_time": "2023-07-03T09:16:14.713Z"
   },
   {
    "duration": 334,
    "start_time": "2023-07-03T09:16:16.893Z"
   },
   {
    "duration": 360,
    "start_time": "2023-07-03T09:16:21.745Z"
   },
   {
    "duration": 8,
    "start_time": "2023-07-03T09:16:23.400Z"
   },
   {
    "duration": 313,
    "start_time": "2023-07-03T09:16:31.368Z"
   },
   {
    "duration": 7,
    "start_time": "2023-07-03T09:16:35.978Z"
   },
   {
    "duration": 235,
    "start_time": "2023-07-03T09:16:36.328Z"
   },
   {
    "duration": 6,
    "start_time": "2023-07-03T09:16:38.304Z"
   },
   {
    "duration": 6,
    "start_time": "2023-07-03T09:16:39.484Z"
   },
   {
    "duration": 313,
    "start_time": "2023-07-03T09:16:39.792Z"
   },
   {
    "duration": 5,
    "start_time": "2023-07-03T09:16:40.928Z"
   },
   {
    "duration": 68,
    "start_time": "2023-07-03T09:16:42.191Z"
   },
   {
    "duration": 199,
    "start_time": "2023-07-03T09:16:43.113Z"
   },
   {
    "duration": 18,
    "start_time": "2023-07-03T09:16:48.664Z"
   },
   {
    "duration": 232,
    "start_time": "2023-07-03T09:16:48.848Z"
   },
   {
    "duration": 547,
    "start_time": "2023-07-03T09:16:57.193Z"
   },
   {
    "duration": 569,
    "start_time": "2023-07-03T09:17:03.129Z"
   },
   {
    "duration": 575,
    "start_time": "2023-07-03T09:17:07.000Z"
   },
   {
    "duration": 8,
    "start_time": "2023-07-03T09:17:23.503Z"
   },
   {
    "duration": 7,
    "start_time": "2023-07-03T09:17:25.032Z"
   },
   {
    "duration": 6,
    "start_time": "2023-07-03T09:17:27.690Z"
   },
   {
    "duration": 7,
    "start_time": "2023-07-03T09:17:28.329Z"
   },
   {
    "duration": 7,
    "start_time": "2023-07-03T09:17:39.849Z"
   },
   {
    "duration": 8,
    "start_time": "2023-07-03T09:17:44.872Z"
   },
   {
    "duration": 7,
    "start_time": "2023-07-03T09:17:45.080Z"
   },
   {
    "duration": 7,
    "start_time": "2023-07-03T09:17:46.224Z"
   },
   {
    "duration": 6,
    "start_time": "2023-07-03T09:17:46.488Z"
   },
   {
    "duration": 6,
    "start_time": "2023-07-03T09:17:46.943Z"
   }
  ],
  "kernelspec": {
   "display_name": "Python 3 (ipykernel)",
   "language": "python",
   "name": "python3"
  },
  "language_info": {
   "codemirror_mode": {
    "name": "ipython",
    "version": 3
   },
   "file_extension": ".py",
   "mimetype": "text/x-python",
   "name": "python",
   "nbconvert_exporter": "python",
   "pygments_lexer": "ipython3",
   "version": "3.9.12"
  },
  "toc": {
   "base_numbering": 1,
   "nav_menu": {},
   "number_sections": true,
   "sideBar": true,
   "skip_h1_title": true,
   "title_cell": "Table of Contents",
   "title_sidebar": "Contents",
   "toc_cell": false,
   "toc_position": {},
   "toc_section_display": true,
   "toc_window_display": false
  }
 },
 "nbformat": 4,
 "nbformat_minor": 2
}
