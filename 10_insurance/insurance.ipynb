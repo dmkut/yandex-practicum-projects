{
 "cells": [
  {
   "cell_type": "markdown",
   "metadata": {
    "toc": true
   },
   "source": [
    "<h1>Содержание<span class=\"tocSkip\"></span></h1>\n",
    "<div class=\"toc\"><ul class=\"toc-item\"><li><span><a href=\"#Загрузка-данных\" data-toc-modified-id=\"Загрузка-данных-1\"><span class=\"toc-item-num\">1&nbsp;&nbsp;</span>Загрузка данных</a></span></li><li><span><a href=\"#Умножение-матриц\" data-toc-modified-id=\"Умножение-матриц-2\"><span class=\"toc-item-num\">2&nbsp;&nbsp;</span>Умножение матриц</a></span></li><li><span><a href=\"#Алгоритм-преобразования\" data-toc-modified-id=\"Алгоритм-преобразования-3\"><span class=\"toc-item-num\">3&nbsp;&nbsp;</span>Алгоритм преобразования</a></span></li><li><span><a href=\"#Проверка-алгоритма\" data-toc-modified-id=\"Проверка-алгоритма-4\"><span class=\"toc-item-num\">4&nbsp;&nbsp;</span>Проверка алгоритма</a></span></li></ul></div>"
   ]
  },
  {
   "cell_type": "markdown",
   "metadata": {},
   "source": [
    "# Защита персональных данных клиентов"
   ]
  },
  {
   "cell_type": "markdown",
   "metadata": {},
   "source": [
    "Нам нужно защитить данные клиентов страховой компании «Хоть потоп» и разработать такой метод преобразования данных, чтобы по ним было сложно восстановить персональную информацию. Обоснуйте корректность его работы.\n",
    "\n",
    "Нужно защитить данные, чтобы при преобразовании качество моделей машинного обучения не ухудшилось. "
   ]
  },
  {
   "cell_type": "markdown",
   "metadata": {},
   "source": [
    "## Загрузка данных"
   ]
  },
  {
   "cell_type": "code",
   "execution_count": 2,
   "metadata": {},
   "outputs": [],
   "source": [
    "import pandas as pd\n",
    "import numpy as np\n",
    "from sklearn.linear_model import LinearRegression\n",
    "from sklearn.metrics import r2_score"
   ]
  },
  {
   "cell_type": "code",
   "execution_count": 3,
   "metadata": {},
   "outputs": [],
   "source": [
    "data = pd.read_csv('/datasets/insurance.csv')"
   ]
  },
  {
   "cell_type": "code",
   "execution_count": 4,
   "metadata": {},
   "outputs": [
    {
     "data": {
      "text/html": [
       "<div>\n",
       "<style scoped>\n",
       "    .dataframe tbody tr th:only-of-type {\n",
       "        vertical-align: middle;\n",
       "    }\n",
       "\n",
       "    .dataframe tbody tr th {\n",
       "        vertical-align: top;\n",
       "    }\n",
       "\n",
       "    .dataframe thead th {\n",
       "        text-align: right;\n",
       "    }\n",
       "</style>\n",
       "<table border=\"1\" class=\"dataframe\">\n",
       "  <thead>\n",
       "    <tr style=\"text-align: right;\">\n",
       "      <th></th>\n",
       "      <th>Пол</th>\n",
       "      <th>Возраст</th>\n",
       "      <th>Зарплата</th>\n",
       "      <th>Члены семьи</th>\n",
       "      <th>Страховые выплаты</th>\n",
       "    </tr>\n",
       "  </thead>\n",
       "  <tbody>\n",
       "    <tr>\n",
       "      <th>0</th>\n",
       "      <td>1</td>\n",
       "      <td>41.0</td>\n",
       "      <td>49600.0</td>\n",
       "      <td>1</td>\n",
       "      <td>0</td>\n",
       "    </tr>\n",
       "    <tr>\n",
       "      <th>1</th>\n",
       "      <td>0</td>\n",
       "      <td>46.0</td>\n",
       "      <td>38000.0</td>\n",
       "      <td>1</td>\n",
       "      <td>1</td>\n",
       "    </tr>\n",
       "    <tr>\n",
       "      <th>2</th>\n",
       "      <td>0</td>\n",
       "      <td>29.0</td>\n",
       "      <td>21000.0</td>\n",
       "      <td>0</td>\n",
       "      <td>0</td>\n",
       "    </tr>\n",
       "    <tr>\n",
       "      <th>3</th>\n",
       "      <td>0</td>\n",
       "      <td>21.0</td>\n",
       "      <td>41700.0</td>\n",
       "      <td>2</td>\n",
       "      <td>0</td>\n",
       "    </tr>\n",
       "    <tr>\n",
       "      <th>4</th>\n",
       "      <td>1</td>\n",
       "      <td>28.0</td>\n",
       "      <td>26100.0</td>\n",
       "      <td>0</td>\n",
       "      <td>0</td>\n",
       "    </tr>\n",
       "  </tbody>\n",
       "</table>\n",
       "</div>"
      ],
      "text/plain": [
       "   Пол  Возраст  Зарплата  Члены семьи  Страховые выплаты\n",
       "0    1     41.0   49600.0            1                  0\n",
       "1    0     46.0   38000.0            1                  1\n",
       "2    0     29.0   21000.0            0                  0\n",
       "3    0     21.0   41700.0            2                  0\n",
       "4    1     28.0   26100.0            0                  0"
      ]
     },
     "execution_count": 4,
     "metadata": {},
     "output_type": "execute_result"
    }
   ],
   "source": [
    "data.head()"
   ]
  },
  {
   "cell_type": "code",
   "execution_count": 5,
   "metadata": {},
   "outputs": [
    {
     "name": "stdout",
     "output_type": "stream",
     "text": [
      "<class 'pandas.core.frame.DataFrame'>\n",
      "RangeIndex: 5000 entries, 0 to 4999\n",
      "Data columns (total 5 columns):\n",
      " #   Column             Non-Null Count  Dtype  \n",
      "---  ------             --------------  -----  \n",
      " 0   Пол                5000 non-null   int64  \n",
      " 1   Возраст            5000 non-null   float64\n",
      " 2   Зарплата           5000 non-null   float64\n",
      " 3   Члены семьи        5000 non-null   int64  \n",
      " 4   Страховые выплаты  5000 non-null   int64  \n",
      "dtypes: float64(2), int64(3)\n",
      "memory usage: 195.4 KB\n"
     ]
    }
   ],
   "source": [
    "data.info()"
   ]
  },
  {
   "cell_type": "markdown",
   "metadata": {},
   "source": [
    "Таблица заполнена полностью, в данных отсутствуют пропуски, форматы столбцов числовые, что позволяет произвести дальнейшее обучение модели и проверку методов шифрования."
   ]
  },
  {
   "cell_type": "markdown",
   "metadata": {},
   "source": [
    "## Умножение матриц"
   ]
  },
  {
   "cell_type": "markdown",
   "metadata": {},
   "source": [
    "Обозначения:\n",
    "\n",
    "- $X$ — матрица признаков (нулевой столбец состоит из единиц)\n",
    "\n",
    "- $y$ — вектор целевого признака\n",
    "\n",
    "- $P$ — матрица, на которую умножаются признаки\n",
    "\n",
    "- $w$ — вектор весов линейной регрессии (нулевой элемент равен сдвигу)"
   ]
  },
  {
   "cell_type": "markdown",
   "metadata": {},
   "source": [
    "Предсказания:\n",
    "\n",
    "$$\n",
    "a = Xw\n",
    "$$\n",
    "\n",
    "Задача обучения:\n",
    "\n",
    "$$\n",
    "w = \\arg\\min_w MSE(Xw, y)\n",
    "$$\n",
    "\n",
    "Формула обучения:\n",
    "\n",
    "$$\n",
    "w = (X^T X)^{-1} X^T y\n",
    "$$"
   ]
  },
  {
   "cell_type": "markdown",
   "metadata": {},
   "source": [
    "Докажем, что $X = XP$\n",
    "\n",
    "Напишем формулу обучения для произведения признаков на обратимую матрицу: \n",
    "\n",
    "$$ w_1 = ((XP)^T XP)^{-1} (XP)^T y $$\n",
    "\n",
    "Преобразуем далее по свойствам матриц $(XP)^T = P^TX^T$:\n",
    "\n",
    "$$ w_1 = (P^TX^T XP)^{-1} P^TX^T y $$\n",
    "\n",
    "Разложим произведение в -1 степени:\n",
    "\n",
    "\n",
    "$$ w_1 = P^{-1}(X^TX)^{-1}(P^T)^{-1}P^TX^T y $$\n",
    "\n",
    "Далее $ (P^T)^{-1}P^T = E $ выражение равно единичной матрице, которая ничего не меняет:\n",
    "\n",
    "$$ w_1 = P^{-1}(X^TX)^{-1} EX^T y $$\n",
    "\n",
    "Исходя из того, что $ w = (X^T X)^{-1} X^T y $ делаем следующий вывод:\n",
    "\n",
    "$$ w_1 = P^{-1} w $$\n",
    "\n",
    "Согласно формуле предсказание равно $ a = Xw $, а следовательно, если мы считаем предикт на XP вместо X то:\n",
    "\n",
    "$$ a_1 = XPw_1 $$\n",
    "\n",
    "или\n",
    "\n",
    "$$ a_1 = XPP^{-1} w = X E w = X w = a $$\n",
    "\n",
    "Соответсвенно:\n",
    "\n",
    "$$ X = XP $$\n",
    "\n",
    "Метод позволит зашифровать данные без потери качества модели."
   ]
  },
  {
   "cell_type": "code",
   "execution_count": 6,
   "metadata": {},
   "outputs": [],
   "source": [
    "# Определим признаки и целевой признак\n",
    "X = data.drop('Страховые выплаты', axis=1).values\n",
    "y = data['Страховые выплаты'].values"
   ]
  },
  {
   "cell_type": "code",
   "execution_count": 7,
   "metadata": {},
   "outputs": [
    {
     "data": {
      "text/plain": [
       "(5000, 4)"
      ]
     },
     "execution_count": 7,
     "metadata": {},
     "output_type": "execute_result"
    }
   ],
   "source": [
    "X.shape"
   ]
  },
  {
   "cell_type": "code",
   "execution_count": 8,
   "metadata": {},
   "outputs": [
    {
     "data": {
      "text/plain": [
       "array([[1.00e+00, 4.10e+01, 4.96e+04, 1.00e+00],\n",
       "       [0.00e+00, 4.60e+01, 3.80e+04, 1.00e+00],\n",
       "       [0.00e+00, 2.90e+01, 2.10e+04, 0.00e+00],\n",
       "       ...,\n",
       "       [0.00e+00, 2.00e+01, 3.39e+04, 2.00e+00],\n",
       "       [1.00e+00, 2.20e+01, 3.27e+04, 3.00e+00],\n",
       "       [1.00e+00, 2.80e+01, 4.06e+04, 1.00e+00]])"
      ]
     },
     "execution_count": 8,
     "metadata": {},
     "output_type": "execute_result"
    }
   ],
   "source": [
    "X"
   ]
  },
  {
   "cell_type": "code",
   "execution_count": 10,
   "metadata": {},
   "outputs": [
    {
     "data": {
      "text/plain": [
       "0.4249455028666801"
      ]
     },
     "execution_count": 10,
     "metadata": {},
     "output_type": "execute_result"
    }
   ],
   "source": [
    "# Рассчитаем R2 на неизмененных прихнаках\n",
    "regression = LinearRegression()\n",
    "regression.fit(X, y)\n",
    "prediction = regression.predict(X)\n",
    "r2_score(y, prediction)"
   ]
  },
  {
   "cell_type": "code",
   "execution_count": 11,
   "metadata": {},
   "outputs": [],
   "source": [
    "# сгенерируем обратимую матрицу\n",
    "a = np.array(np.random.random((4, 4)))\n",
    "#X_1 = np.concatenate((np.ones((X.shape[0], 1)), X), axis=1)"
   ]
  },
  {
   "cell_type": "code",
   "execution_count": 12,
   "metadata": {},
   "outputs": [
    {
     "data": {
      "text/plain": [
       "0.424945502866679"
      ]
     },
     "execution_count": 12,
     "metadata": {},
     "output_type": "execute_result"
    }
   ],
   "source": [
    "# Обучим и оценим модель на произведении матриц\n",
    "regression_2 = LinearRegression()\n",
    "regression_2.fit(X@a, y)\n",
    "prediction_2 = regression_2.predict(X@a)\n",
    "r2_score(y, prediction_2)"
   ]
  },
  {
   "cell_type": "markdown",
   "metadata": {},
   "source": [
    "**Ответ:** b. Не изменится\n",
    "\n",
    "**Обоснование:** показатель R_2 не показал разницу в результатах."
   ]
  },
  {
   "cell_type": "markdown",
   "metadata": {},
   "source": [
    "## Алгоритм преобразования"
   ]
  },
  {
   "cell_type": "markdown",
   "metadata": {},
   "source": [
    "Как показали результаты предыдущего пункта, умножение на обратимую матрицу не влияет на результаты предсказания, поэтому предлагается признаки умножить на случайно сгенерированную обратимую матрицу."
   ]
  },
  {
   "cell_type": "code",
   "execution_count": 14,
   "metadata": {},
   "outputs": [],
   "source": [
    "Z = X@a"
   ]
  },
  {
   "cell_type": "code",
   "execution_count": 15,
   "metadata": {},
   "outputs": [],
   "source": [
    "data_2 = pd.DataFrame(Z, columns=data.drop('Страховые выплаты', axis=1).columns)"
   ]
  },
  {
   "cell_type": "markdown",
   "metadata": {},
   "source": [
    "Напишем функцию для преобразования"
   ]
  },
  {
   "cell_type": "code",
   "execution_count": 16,
   "metadata": {},
   "outputs": [],
   "source": [
    "def alhorytm (X):\n",
    "    Z = X @ np.array(np.random.random((X.shape[1], X.shape[1])))\n",
    "    return Z"
   ]
  },
  {
   "cell_type": "code",
   "execution_count": 17,
   "metadata": {},
   "outputs": [
    {
     "data": {
      "text/html": [
       "<div>\n",
       "<style scoped>\n",
       "    .dataframe tbody tr th:only-of-type {\n",
       "        vertical-align: middle;\n",
       "    }\n",
       "\n",
       "    .dataframe tbody tr th {\n",
       "        vertical-align: top;\n",
       "    }\n",
       "\n",
       "    .dataframe thead th {\n",
       "        text-align: right;\n",
       "    }\n",
       "</style>\n",
       "<table border=\"1\" class=\"dataframe\">\n",
       "  <thead>\n",
       "    <tr style=\"text-align: right;\">\n",
       "      <th></th>\n",
       "      <th>Пол</th>\n",
       "      <th>Возраст</th>\n",
       "      <th>Зарплата</th>\n",
       "      <th>Члены семьи</th>\n",
       "      <th>Страховые выплаты</th>\n",
       "    </tr>\n",
       "  </thead>\n",
       "  <tbody>\n",
       "    <tr>\n",
       "      <th>0</th>\n",
       "      <td>1</td>\n",
       "      <td>41.0</td>\n",
       "      <td>49600.0</td>\n",
       "      <td>1</td>\n",
       "      <td>0</td>\n",
       "    </tr>\n",
       "    <tr>\n",
       "      <th>1</th>\n",
       "      <td>0</td>\n",
       "      <td>46.0</td>\n",
       "      <td>38000.0</td>\n",
       "      <td>1</td>\n",
       "      <td>1</td>\n",
       "    </tr>\n",
       "    <tr>\n",
       "      <th>2</th>\n",
       "      <td>0</td>\n",
       "      <td>29.0</td>\n",
       "      <td>21000.0</td>\n",
       "      <td>0</td>\n",
       "      <td>0</td>\n",
       "    </tr>\n",
       "    <tr>\n",
       "      <th>3</th>\n",
       "      <td>0</td>\n",
       "      <td>21.0</td>\n",
       "      <td>41700.0</td>\n",
       "      <td>2</td>\n",
       "      <td>0</td>\n",
       "    </tr>\n",
       "    <tr>\n",
       "      <th>4</th>\n",
       "      <td>1</td>\n",
       "      <td>28.0</td>\n",
       "      <td>26100.0</td>\n",
       "      <td>0</td>\n",
       "      <td>0</td>\n",
       "    </tr>\n",
       "  </tbody>\n",
       "</table>\n",
       "</div>"
      ],
      "text/plain": [
       "   Пол  Возраст  Зарплата  Члены семьи  Страховые выплаты\n",
       "0    1     41.0   49600.0            1                  0\n",
       "1    0     46.0   38000.0            1                  1\n",
       "2    0     29.0   21000.0            0                  0\n",
       "3    0     21.0   41700.0            2                  0\n",
       "4    1     28.0   26100.0            0                  0"
      ]
     },
     "execution_count": 17,
     "metadata": {},
     "output_type": "execute_result"
    }
   ],
   "source": [
    "data.head()"
   ]
  },
  {
   "cell_type": "code",
   "execution_count": 18,
   "metadata": {},
   "outputs": [
    {
     "data": {
      "text/html": [
       "<div>\n",
       "<style scoped>\n",
       "    .dataframe tbody tr th:only-of-type {\n",
       "        vertical-align: middle;\n",
       "    }\n",
       "\n",
       "    .dataframe tbody tr th {\n",
       "        vertical-align: top;\n",
       "    }\n",
       "\n",
       "    .dataframe thead th {\n",
       "        text-align: right;\n",
       "    }\n",
       "</style>\n",
       "<table border=\"1\" class=\"dataframe\">\n",
       "  <thead>\n",
       "    <tr style=\"text-align: right;\">\n",
       "      <th></th>\n",
       "      <th>Пол</th>\n",
       "      <th>Возраст</th>\n",
       "      <th>Зарплата</th>\n",
       "      <th>Члены семьи</th>\n",
       "      <th>Страховые выплаты</th>\n",
       "    </tr>\n",
       "  </thead>\n",
       "  <tbody>\n",
       "    <tr>\n",
       "      <th>0</th>\n",
       "      <td>41707.711438</td>\n",
       "      <td>25671.180376</td>\n",
       "      <td>30392.063870</td>\n",
       "      <td>13985.854784</td>\n",
       "      <td>0</td>\n",
       "    </tr>\n",
       "    <tr>\n",
       "      <th>1</th>\n",
       "      <td>31953.923147</td>\n",
       "      <td>19671.740567</td>\n",
       "      <td>23296.660978</td>\n",
       "      <td>10724.265127</td>\n",
       "      <td>1</td>\n",
       "    </tr>\n",
       "    <tr>\n",
       "      <th>2</th>\n",
       "      <td>17658.434873</td>\n",
       "      <td>10871.871836</td>\n",
       "      <td>12877.460039</td>\n",
       "      <td>5928.814659</td>\n",
       "      <td>0</td>\n",
       "    </tr>\n",
       "    <tr>\n",
       "      <th>3</th>\n",
       "      <td>35064.206505</td>\n",
       "      <td>21578.546262</td>\n",
       "      <td>25540.017315</td>\n",
       "      <td>11749.410095</td>\n",
       "      <td>0</td>\n",
       "    </tr>\n",
       "    <tr>\n",
       "      <th>4</th>\n",
       "      <td>21947.356922</td>\n",
       "      <td>13510.350703</td>\n",
       "      <td>15998.029543</td>\n",
       "      <td>7363.744849</td>\n",
       "      <td>0</td>\n",
       "    </tr>\n",
       "  </tbody>\n",
       "</table>\n",
       "</div>"
      ],
      "text/plain": [
       "            Пол       Возраст      Зарплата   Члены семьи  Страховые выплаты\n",
       "0  41707.711438  25671.180376  30392.063870  13985.854784                  0\n",
       "1  31953.923147  19671.740567  23296.660978  10724.265127                  1\n",
       "2  17658.434873  10871.871836  12877.460039   5928.814659                  0\n",
       "3  35064.206505  21578.546262  25540.017315  11749.410095                  0\n",
       "4  21947.356922  13510.350703  15998.029543   7363.744849                  0"
      ]
     },
     "execution_count": 18,
     "metadata": {},
     "output_type": "execute_result"
    }
   ],
   "source": [
    "data_2 = pd.DataFrame(alhorytm(X), columns=data.drop('Страховые выплаты', axis=1).columns)\n",
    "data_2['Страховые выплаты'] = data['Страховые выплаты']\n",
    "data_2.head()"
   ]
  },
  {
   "cell_type": "markdown",
   "metadata": {},
   "source": [
    "**Алгоритм**\n",
    "Умножение на обратимую матрицу"
   ]
  },
  {
   "cell_type": "markdown",
   "metadata": {},
   "source": [
    "**Обоснование**\n",
    "\n",
    "Данные зашифрованы как и полагается"
   ]
  },
  {
   "cell_type": "markdown",
   "metadata": {},
   "source": [
    "## Проверка алгоритма"
   ]
  },
  {
   "cell_type": "code",
   "execution_count": 28,
   "metadata": {},
   "outputs": [
    {
     "data": {
      "text/plain": [
       "0.4249455028666801"
      ]
     },
     "execution_count": 28,
     "metadata": {},
     "output_type": "execute_result"
    }
   ],
   "source": [
    "# Рассчитаем R2 на неизмененных прихнаках\n",
    "regression = LinearRegression()\n",
    "regression.fit(X, y)\n",
    "prediction = regression.predict(X)\n",
    "r2_score(y, prediction)"
   ]
  },
  {
   "cell_type": "code",
   "execution_count": 20,
   "metadata": {},
   "outputs": [],
   "source": [
    "# Определим признаки и целевой признак\n",
    "X_2 = data_2.drop('Страховые выплаты', axis=1).values"
   ]
  },
  {
   "cell_type": "code",
   "execution_count": 29,
   "metadata": {},
   "outputs": [
    {
     "data": {
      "text/plain": [
       "0.42494550286668065"
      ]
     },
     "execution_count": 29,
     "metadata": {},
     "output_type": "execute_result"
    }
   ],
   "source": [
    "# Рассчитаем R2 на неизмененных прихнаках\n",
    "regression_2 = LinearRegression()\n",
    "regression_2.fit(X_2, y)\n",
    "prediction_2 = regression_2.predict(X_2)\n",
    "r2_score(y, prediction_2)"
   ]
  },
  {
   "cell_type": "code",
   "execution_count": 22,
   "metadata": {},
   "outputs": [],
   "source": [
    "class LinearRegressionMine:\n",
    "    def fit(self, train_features, train_target):\n",
    "        X = np.concatenate((np.ones((train_features.shape[0], 1)), train_features), axis=1)\n",
    "        y = train_target\n",
    "        w = np.linalg.inv(X.T.dot(X)).dot(X.T).dot(y)\n",
    "        self.w = w[1:]\n",
    "        self.w0 = w[0]\n",
    "\n",
    "    def predict(self, test_features):\n",
    "        return test_features.dot(self.w) + self.w0"
   ]
  },
  {
   "cell_type": "code",
   "execution_count": 23,
   "metadata": {},
   "outputs": [
    {
     "name": "stdout",
     "output_type": "stream",
     "text": [
      "0.42494550286668\n"
     ]
    }
   ],
   "source": [
    "model = LinearRegressionMine()\n",
    "model.fit(X, y)\n",
    "predictions = model.predict(X)\n",
    "print(r2_score(y, predictions))"
   ]
  },
  {
   "cell_type": "code",
   "execution_count": 24,
   "metadata": {},
   "outputs": [
    {
     "name": "stdout",
     "output_type": "stream",
     "text": [
      "0.4249455028666781\n"
     ]
    }
   ],
   "source": [
    "model = LinearRegressionMine()\n",
    "model.fit(Z, y)\n",
    "predictions = model.predict(Z)\n",
    "print(r2_score(y, predictions))"
   ]
  },
  {
   "cell_type": "markdown",
   "metadata": {},
   "source": [
    "Показатель снова сходится"
   ]
  }
 ],
 "metadata": {
  "ExecuteTimeLog": [
   {
    "duration": 357,
    "start_time": "2022-12-22T15:16:43.186Z"
   },
   {
    "duration": 124,
    "start_time": "2022-12-22T15:16:43.545Z"
   },
   {
    "duration": 14,
    "start_time": "2022-12-22T15:16:43.742Z"
   },
   {
    "duration": 10,
    "start_time": "2022-12-22T15:17:17.167Z"
   },
   {
    "duration": 1228,
    "start_time": "2022-12-25T14:15:17.308Z"
   },
   {
    "duration": 39,
    "start_time": "2022-12-25T14:15:55.536Z"
   },
   {
    "duration": 81,
    "start_time": "2022-12-25T14:15:57.188Z"
   },
   {
    "duration": 20,
    "start_time": "2022-12-25T14:15:57.466Z"
   },
   {
    "duration": 12,
    "start_time": "2022-12-25T14:16:08.999Z"
   },
   {
    "duration": 1065,
    "start_time": "2022-12-25T19:41:35.727Z"
   },
   {
    "duration": 115,
    "start_time": "2022-12-25T19:41:36.794Z"
   },
   {
    "duration": 27,
    "start_time": "2022-12-25T19:41:36.910Z"
   },
   {
    "duration": 32,
    "start_time": "2022-12-25T19:41:36.939Z"
   },
   {
    "duration": 4,
    "start_time": "2022-12-25T19:42:13.999Z"
   },
   {
    "duration": 8,
    "start_time": "2022-12-25T19:42:21.486Z"
   },
   {
    "duration": 4,
    "start_time": "2022-12-25T19:43:09.305Z"
   },
   {
    "duration": 4,
    "start_time": "2022-12-25T19:43:14.941Z"
   },
   {
    "duration": 95,
    "start_time": "2022-12-25T19:45:34.495Z"
   },
   {
    "duration": 5,
    "start_time": "2022-12-25T19:45:38.882Z"
   },
   {
    "duration": 2,
    "start_time": "2022-12-25T19:47:37.894Z"
   },
   {
    "duration": 9,
    "start_time": "2022-12-25T19:47:59.064Z"
   },
   {
    "duration": 11,
    "start_time": "2022-12-25T19:48:26.763Z"
   },
   {
    "duration": 6,
    "start_time": "2022-12-25T20:00:27.309Z"
   },
   {
    "duration": 4,
    "start_time": "2022-12-25T20:00:37.294Z"
   },
   {
    "duration": 4,
    "start_time": "2022-12-25T20:01:05.379Z"
   },
   {
    "duration": 5,
    "start_time": "2022-12-25T20:01:16.886Z"
   },
   {
    "duration": 4,
    "start_time": "2022-12-25T20:01:20.448Z"
   },
   {
    "duration": 4,
    "start_time": "2022-12-25T20:01:27.666Z"
   },
   {
    "duration": 5,
    "start_time": "2022-12-25T20:01:35.146Z"
   },
   {
    "duration": 79,
    "start_time": "2022-12-25T20:01:53.238Z"
   },
   {
    "duration": 4,
    "start_time": "2022-12-25T20:01:56.736Z"
   },
   {
    "duration": 19,
    "start_time": "2022-12-25T20:01:57.118Z"
   },
   {
    "duration": 3,
    "start_time": "2022-12-25T20:01:57.820Z"
   },
   {
    "duration": 15,
    "start_time": "2022-12-25T20:02:00.558Z"
   },
   {
    "duration": 4,
    "start_time": "2022-12-25T20:03:16.181Z"
   },
   {
    "duration": 4,
    "start_time": "2022-12-25T20:03:30.333Z"
   },
   {
    "duration": 7,
    "start_time": "2022-12-25T20:06:27.707Z"
   },
   {
    "duration": 2,
    "start_time": "2022-12-25T20:06:34.405Z"
   },
   {
    "duration": 7,
    "start_time": "2022-12-25T20:06:35.190Z"
   },
   {
    "duration": 2,
    "start_time": "2022-12-25T20:06:37.955Z"
   },
   {
    "duration": 7,
    "start_time": "2022-12-25T20:06:38.830Z"
   },
   {
    "duration": 4,
    "start_time": "2022-12-25T20:07:25.626Z"
   },
   {
    "duration": 3,
    "start_time": "2022-12-25T20:07:45.734Z"
   },
   {
    "duration": 4,
    "start_time": "2022-12-25T20:07:47.960Z"
   },
   {
    "duration": 7,
    "start_time": "2022-12-25T20:09:01.381Z"
   },
   {
    "duration": 6,
    "start_time": "2022-12-25T20:09:04.469Z"
   },
   {
    "duration": 4,
    "start_time": "2022-12-25T20:09:05.494Z"
   },
   {
    "duration": 6,
    "start_time": "2022-12-25T20:09:17.137Z"
   },
   {
    "duration": 3,
    "start_time": "2022-12-25T20:09:24.505Z"
   },
   {
    "duration": 8,
    "start_time": "2022-12-25T20:09:24.901Z"
   },
   {
    "duration": 5,
    "start_time": "2022-12-25T20:09:32.572Z"
   },
   {
    "duration": 4,
    "start_time": "2022-12-25T20:16:13.943Z"
   },
   {
    "duration": 4,
    "start_time": "2022-12-25T20:16:20.990Z"
   },
   {
    "duration": 139,
    "start_time": "2022-12-25T20:16:26.641Z"
   },
   {
    "duration": 3,
    "start_time": "2022-12-25T20:16:33.206Z"
   },
   {
    "duration": 103,
    "start_time": "2022-12-25T20:16:34.360Z"
   },
   {
    "duration": 4,
    "start_time": "2022-12-25T20:17:53.774Z"
   },
   {
    "duration": 4,
    "start_time": "2022-12-25T20:18:06.768Z"
   },
   {
    "duration": 4,
    "start_time": "2022-12-25T20:18:12.891Z"
   },
   {
    "duration": 7,
    "start_time": "2022-12-25T20:18:20.408Z"
   },
   {
    "duration": 4,
    "start_time": "2022-12-25T20:18:23.447Z"
   },
   {
    "duration": 4,
    "start_time": "2022-12-25T20:18:25.764Z"
   },
   {
    "duration": 9,
    "start_time": "2022-12-25T20:18:35.937Z"
   },
   {
    "duration": 10,
    "start_time": "2022-12-25T20:18:42.236Z"
   },
   {
    "duration": 8,
    "start_time": "2022-12-25T20:18:56.958Z"
   },
   {
    "duration": 4,
    "start_time": "2022-12-25T20:19:02.276Z"
   },
   {
    "duration": 6,
    "start_time": "2022-12-25T20:19:03.034Z"
   },
   {
    "duration": 10,
    "start_time": "2022-12-25T20:19:04.432Z"
   },
   {
    "duration": 5,
    "start_time": "2022-12-25T20:19:10.747Z"
   },
   {
    "duration": 3,
    "start_time": "2022-12-25T20:19:31.858Z"
   },
   {
    "duration": 4,
    "start_time": "2022-12-25T20:19:32.458Z"
   },
   {
    "duration": 3,
    "start_time": "2022-12-25T20:19:42.643Z"
   },
   {
    "duration": 4,
    "start_time": "2022-12-25T20:19:43.257Z"
   },
   {
    "duration": 16,
    "start_time": "2022-12-25T20:20:06.409Z"
   },
   {
    "duration": 13,
    "start_time": "2022-12-25T20:20:26.647Z"
   },
   {
    "duration": 4,
    "start_time": "2022-12-25T20:20:32.669Z"
   },
   {
    "duration": 4,
    "start_time": "2022-12-25T20:20:35.647Z"
   },
   {
    "duration": 10,
    "start_time": "2022-12-25T20:20:47.252Z"
   },
   {
    "duration": 18,
    "start_time": "2022-12-25T20:33:58.807Z"
   },
   {
    "duration": 13,
    "start_time": "2022-12-25T20:34:22.775Z"
   },
   {
    "duration": 7,
    "start_time": "2022-12-25T20:34:34.997Z"
   },
   {
    "duration": 76,
    "start_time": "2022-12-25T20:35:20.160Z"
   },
   {
    "duration": 9,
    "start_time": "2022-12-25T20:35:25.907Z"
   },
   {
    "duration": 8,
    "start_time": "2022-12-25T20:35:36.730Z"
   },
   {
    "duration": 4,
    "start_time": "2022-12-25T20:35:55.693Z"
   },
   {
    "duration": 4,
    "start_time": "2022-12-25T20:35:58.390Z"
   },
   {
    "duration": 4,
    "start_time": "2022-12-25T20:35:59.289Z"
   },
   {
    "duration": 4,
    "start_time": "2022-12-25T20:36:00.137Z"
   },
   {
    "duration": 9,
    "start_time": "2022-12-25T20:36:05.052Z"
   },
   {
    "duration": 3,
    "start_time": "2022-12-25T20:36:07.226Z"
   },
   {
    "duration": 7,
    "start_time": "2022-12-25T20:36:38.560Z"
   },
   {
    "duration": 14,
    "start_time": "2022-12-25T20:44:26.816Z"
   },
   {
    "duration": 17,
    "start_time": "2022-12-25T20:45:06.226Z"
   },
   {
    "duration": 13,
    "start_time": "2022-12-25T20:45:23.826Z"
   },
   {
    "duration": 11,
    "start_time": "2022-12-25T20:46:54.173Z"
   },
   {
    "duration": 8,
    "start_time": "2022-12-25T20:47:56.759Z"
   },
   {
    "duration": 3,
    "start_time": "2022-12-25T20:48:00.099Z"
   },
   {
    "duration": 4,
    "start_time": "2022-12-25T20:48:00.332Z"
   },
   {
    "duration": 17,
    "start_time": "2022-12-25T20:48:12.016Z"
   },
   {
    "duration": 8,
    "start_time": "2022-12-25T20:48:23.843Z"
   },
   {
    "duration": 8,
    "start_time": "2022-12-25T20:48:35.326Z"
   },
   {
    "duration": 12,
    "start_time": "2022-12-25T20:48:52.360Z"
   },
   {
    "duration": 8,
    "start_time": "2022-12-25T20:48:59.288Z"
   },
   {
    "duration": 12,
    "start_time": "2022-12-25T20:49:07.126Z"
   },
   {
    "duration": 6,
    "start_time": "2022-12-25T21:03:41.693Z"
   },
   {
    "duration": 4,
    "start_time": "2022-12-25T21:04:13.538Z"
   },
   {
    "duration": 10,
    "start_time": "2022-12-25T21:05:06.896Z"
   },
   {
    "duration": 3,
    "start_time": "2022-12-25T21:09:14.618Z"
   },
   {
    "duration": 4,
    "start_time": "2022-12-25T21:09:19.027Z"
   },
   {
    "duration": 77,
    "start_time": "2022-12-25T21:09:43.825Z"
   },
   {
    "duration": 4,
    "start_time": "2022-12-25T21:10:08.247Z"
   },
   {
    "duration": 4,
    "start_time": "2022-12-25T21:10:21.218Z"
   },
   {
    "duration": 4,
    "start_time": "2022-12-25T21:10:27.132Z"
   },
   {
    "duration": 4,
    "start_time": "2022-12-25T21:10:29.248Z"
   },
   {
    "duration": 14,
    "start_time": "2022-12-25T21:11:02.682Z"
   },
   {
    "duration": 8,
    "start_time": "2022-12-25T21:11:24.786Z"
   },
   {
    "duration": 3,
    "start_time": "2022-12-25T21:11:44.205Z"
   },
   {
    "duration": 8,
    "start_time": "2022-12-25T21:11:45.456Z"
   },
   {
    "duration": 12,
    "start_time": "2022-12-25T21:11:46.504Z"
   },
   {
    "duration": 12,
    "start_time": "2022-12-25T21:12:35.896Z"
   },
   {
    "duration": 4,
    "start_time": "2022-12-25T21:14:58.978Z"
   },
   {
    "duration": 4,
    "start_time": "2022-12-25T21:15:05.383Z"
   },
   {
    "duration": 6,
    "start_time": "2022-12-25T21:17:57.290Z"
   },
   {
    "duration": 4,
    "start_time": "2022-12-25T21:18:54.656Z"
   },
   {
    "duration": 7,
    "start_time": "2022-12-25T21:19:14.336Z"
   },
   {
    "duration": 5,
    "start_time": "2022-12-25T21:24:27.852Z"
   },
   {
    "duration": 4,
    "start_time": "2022-12-25T21:24:31.320Z"
   },
   {
    "duration": 7,
    "start_time": "2022-12-25T21:24:35.169Z"
   },
   {
    "duration": 9,
    "start_time": "2022-12-25T21:25:05.645Z"
   },
   {
    "duration": 4,
    "start_time": "2022-12-25T21:25:35.700Z"
   },
   {
    "duration": 4,
    "start_time": "2022-12-25T21:25:46.615Z"
   },
   {
    "duration": 4,
    "start_time": "2022-12-25T21:25:54.949Z"
   },
   {
    "duration": 4,
    "start_time": "2022-12-25T21:26:35.917Z"
   },
   {
    "duration": 4,
    "start_time": "2022-12-25T21:26:56.068Z"
   },
   {
    "duration": 4,
    "start_time": "2022-12-25T21:26:57.369Z"
   },
   {
    "duration": 2,
    "start_time": "2022-12-25T21:27:29.885Z"
   },
   {
    "duration": 3,
    "start_time": "2022-12-25T21:27:33.389Z"
   },
   {
    "duration": 4,
    "start_time": "2022-12-25T21:27:34.177Z"
   },
   {
    "duration": 10,
    "start_time": "2022-12-25T21:29:36.979Z"
   },
   {
    "duration": 11,
    "start_time": "2022-12-25T21:29:59.285Z"
   },
   {
    "duration": 11,
    "start_time": "2022-12-25T21:30:14.295Z"
   },
   {
    "duration": 3,
    "start_time": "2022-12-25T21:30:26.227Z"
   },
   {
    "duration": 10,
    "start_time": "2022-12-25T21:30:48.038Z"
   },
   {
    "duration": 12,
    "start_time": "2022-12-25T21:30:56.635Z"
   },
   {
    "duration": 10,
    "start_time": "2022-12-25T21:31:32.737Z"
   },
   {
    "duration": 12,
    "start_time": "2022-12-25T21:32:04.131Z"
   },
   {
    "duration": 3,
    "start_time": "2022-12-25T21:32:04.629Z"
   },
   {
    "duration": 10,
    "start_time": "2022-12-25T21:32:05.095Z"
   },
   {
    "duration": 3,
    "start_time": "2022-12-25T21:32:13.365Z"
   },
   {
    "duration": 4,
    "start_time": "2022-12-25T21:32:15.041Z"
   },
   {
    "duration": 3,
    "start_time": "2022-12-25T21:32:15.326Z"
   },
   {
    "duration": 14,
    "start_time": "2022-12-25T21:32:24.857Z"
   },
   {
    "duration": 3,
    "start_time": "2022-12-25T21:32:26.553Z"
   },
   {
    "duration": 9,
    "start_time": "2022-12-25T21:33:12.546Z"
   },
   {
    "duration": 8,
    "start_time": "2022-12-25T21:33:43.444Z"
   },
   {
    "duration": 4,
    "start_time": "2022-12-25T21:33:45.497Z"
   },
   {
    "duration": 4,
    "start_time": "2022-12-25T21:33:51.353Z"
   },
   {
    "duration": 3,
    "start_time": "2022-12-25T21:34:14.884Z"
   },
   {
    "duration": 7,
    "start_time": "2022-12-25T21:34:24.869Z"
   },
   {
    "duration": 3,
    "start_time": "2022-12-25T21:34:30.334Z"
   },
   {
    "duration": 10,
    "start_time": "2022-12-25T21:34:31.069Z"
   },
   {
    "duration": 11,
    "start_time": "2022-12-25T21:34:54.626Z"
   },
   {
    "duration": 9,
    "start_time": "2022-12-25T21:34:59.438Z"
   },
   {
    "duration": 7,
    "start_time": "2022-12-25T21:35:04.271Z"
   },
   {
    "duration": 3,
    "start_time": "2022-12-25T21:35:06.596Z"
   },
   {
    "duration": 8,
    "start_time": "2022-12-25T21:35:33.806Z"
   },
   {
    "duration": 5,
    "start_time": "2022-12-25T21:35:54.164Z"
   },
   {
    "duration": 5,
    "start_time": "2022-12-25T21:36:03.089Z"
   },
   {
    "duration": 9,
    "start_time": "2022-12-25T21:38:30.502Z"
   },
   {
    "duration": 4,
    "start_time": "2022-12-25T21:38:33.503Z"
   },
   {
    "duration": 7,
    "start_time": "2022-12-25T21:38:34.051Z"
   },
   {
    "duration": 3,
    "start_time": "2022-12-25T21:38:48.733Z"
   },
   {
    "duration": 5,
    "start_time": "2022-12-25T21:38:55.831Z"
   },
   {
    "duration": 7,
    "start_time": "2022-12-25T21:40:29.326Z"
   },
   {
    "duration": 5,
    "start_time": "2022-12-25T21:40:36.225Z"
   },
   {
    "duration": 8,
    "start_time": "2022-12-25T21:40:42.927Z"
   },
   {
    "duration": 14,
    "start_time": "2022-12-25T21:42:36.016Z"
   },
   {
    "duration": 7,
    "start_time": "2022-12-25T21:42:38.029Z"
   },
   {
    "duration": 8,
    "start_time": "2022-12-25T21:43:10.000Z"
   },
   {
    "duration": 21,
    "start_time": "2022-12-25T21:43:30.914Z"
   },
   {
    "duration": 9,
    "start_time": "2022-12-25T21:43:34.979Z"
   },
   {
    "duration": 5,
    "start_time": "2022-12-25T21:43:35.398Z"
   },
   {
    "duration": 3,
    "start_time": "2022-12-25T21:43:36.212Z"
   },
   {
    "duration": 7,
    "start_time": "2022-12-25T21:43:37.605Z"
   },
   {
    "duration": 5,
    "start_time": "2022-12-25T21:43:48.492Z"
   },
   {
    "duration": 5,
    "start_time": "2022-12-25T21:43:49.000Z"
   },
   {
    "duration": 3,
    "start_time": "2022-12-25T21:43:51.136Z"
   },
   {
    "duration": 5,
    "start_time": "2022-12-25T21:43:58.249Z"
   },
   {
    "duration": 5,
    "start_time": "2022-12-25T21:43:59.426Z"
   },
   {
    "duration": 4,
    "start_time": "2022-12-25T21:44:11.803Z"
   },
   {
    "duration": 3,
    "start_time": "2022-12-25T21:44:13.011Z"
   },
   {
    "duration": 5,
    "start_time": "2022-12-25T21:44:14.299Z"
   },
   {
    "duration": 7,
    "start_time": "2022-12-25T21:44:15.841Z"
   },
   {
    "duration": 5,
    "start_time": "2022-12-25T21:44:16.281Z"
   },
   {
    "duration": 3,
    "start_time": "2022-12-25T21:44:16.737Z"
   },
   {
    "duration": 6,
    "start_time": "2022-12-25T21:44:17.130Z"
   },
   {
    "duration": 8,
    "start_time": "2022-12-25T21:44:19.189Z"
   },
   {
    "duration": 5,
    "start_time": "2022-12-25T21:44:19.826Z"
   },
   {
    "duration": 4,
    "start_time": "2022-12-25T21:44:23.345Z"
   },
   {
    "duration": 5,
    "start_time": "2022-12-25T21:44:23.901Z"
   },
   {
    "duration": 3,
    "start_time": "2022-12-25T21:44:25.633Z"
   },
   {
    "duration": 4,
    "start_time": "2022-12-25T21:44:26.045Z"
   },
   {
    "duration": 4,
    "start_time": "2022-12-25T21:44:26.455Z"
   },
   {
    "duration": 4,
    "start_time": "2022-12-25T21:44:30.599Z"
   },
   {
    "duration": 3,
    "start_time": "2022-12-25T21:44:31.126Z"
   },
   {
    "duration": 7,
    "start_time": "2022-12-25T21:44:31.747Z"
   },
   {
    "duration": 4,
    "start_time": "2022-12-25T21:44:32.569Z"
   },
   {
    "duration": 4,
    "start_time": "2022-12-25T21:44:36.125Z"
   },
   {
    "duration": 4,
    "start_time": "2022-12-25T21:44:37.938Z"
   },
   {
    "duration": 18,
    "start_time": "2022-12-25T21:44:47.310Z"
   },
   {
    "duration": 9,
    "start_time": "2022-12-25T21:44:48.268Z"
   },
   {
    "duration": 57,
    "start_time": "2022-12-27T20:12:18.141Z"
   },
   {
    "duration": 1111,
    "start_time": "2022-12-27T20:12:54.180Z"
   },
   {
    "duration": 74,
    "start_time": "2022-12-27T20:12:55.294Z"
   },
   {
    "duration": 14,
    "start_time": "2022-12-27T20:12:55.370Z"
   },
   {
    "duration": 17,
    "start_time": "2022-12-27T20:12:55.386Z"
   },
   {
    "duration": 4,
    "start_time": "2022-12-27T20:12:55.405Z"
   },
   {
    "duration": 9,
    "start_time": "2022-12-27T20:12:55.410Z"
   },
   {
    "duration": 7,
    "start_time": "2022-12-27T20:12:55.420Z"
   },
   {
    "duration": 9,
    "start_time": "2022-12-27T20:12:55.428Z"
   },
   {
    "duration": 7,
    "start_time": "2022-12-27T20:12:58.818Z"
   },
   {
    "duration": 3,
    "start_time": "2022-12-27T20:12:59.891Z"
   },
   {
    "duration": 10,
    "start_time": "2022-12-27T20:13:00.411Z"
   },
   {
    "duration": 53,
    "start_time": "2022-12-27T20:13:42.524Z"
   },
   {
    "duration": 3,
    "start_time": "2022-12-27T20:13:51.948Z"
   },
   {
    "duration": 4,
    "start_time": "2022-12-27T20:13:52.147Z"
   },
   {
    "duration": 3,
    "start_time": "2022-12-27T20:13:52.625Z"
   },
   {
    "duration": 8,
    "start_time": "2022-12-27T20:13:54.159Z"
   },
   {
    "duration": 11,
    "start_time": "2022-12-27T20:13:54.420Z"
   },
   {
    "duration": 9,
    "start_time": "2022-12-27T20:13:55.460Z"
   },
   {
    "duration": 3,
    "start_time": "2022-12-27T20:13:55.640Z"
   },
   {
    "duration": 7,
    "start_time": "2022-12-27T20:13:55.807Z"
   },
   {
    "duration": 4,
    "start_time": "2022-12-27T20:13:55.997Z"
   },
   {
    "duration": 8,
    "start_time": "2022-12-27T20:13:56.155Z"
   },
   {
    "duration": 5,
    "start_time": "2022-12-27T20:13:57.011Z"
   },
   {
    "duration": 44,
    "start_time": "2022-12-27T20:14:47.047Z"
   },
   {
    "duration": 48,
    "start_time": "2022-12-27T20:15:25.391Z"
   },
   {
    "duration": 53,
    "start_time": "2022-12-27T20:16:29.009Z"
   },
   {
    "duration": 8,
    "start_time": "2022-12-27T20:24:34.944Z"
   },
   {
    "duration": 8,
    "start_time": "2022-12-27T20:24:40.992Z"
   }
  ],
  "kernelspec": {
   "display_name": "Python 3 (ipykernel)",
   "language": "python",
   "name": "python3"
  },
  "language_info": {
   "codemirror_mode": {
    "name": "ipython",
    "version": 3
   },
   "file_extension": ".py",
   "mimetype": "text/x-python",
   "name": "python",
   "nbconvert_exporter": "python",
   "pygments_lexer": "ipython3",
   "version": "3.9.5"
  },
  "toc": {
   "base_numbering": 1,
   "nav_menu": {},
   "number_sections": true,
   "sideBar": true,
   "skip_h1_title": true,
   "title_cell": "Содержание",
   "title_sidebar": "Contents",
   "toc_cell": true,
   "toc_position": {},
   "toc_section_display": true,
   "toc_window_display": true
  }
 },
 "nbformat": 4,
 "nbformat_minor": 2
}
