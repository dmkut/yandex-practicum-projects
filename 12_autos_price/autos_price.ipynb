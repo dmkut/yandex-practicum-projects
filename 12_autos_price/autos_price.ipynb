{
 "cells": [
  {
   "cell_type": "markdown",
   "metadata": {},
   "source": [
    "# Определение стоимости автомобилей"
   ]
  },
  {
   "cell_type": "markdown",
   "metadata": {},
   "source": [
    "В нашем распоряжении исторические данные: технические характеристики, комплектации и цены автомобилей. Нам нужно построить модель для определения стоимости. \n",
    "\n",
    "Заказчику важны:\n",
    "\n",
    "- качество предсказания;\n",
    "- скорость предсказания;\n",
    "- время обучения."
   ]
  },
  {
   "cell_type": "markdown",
   "metadata": {},
   "source": [
    "## Подготовка данных"
   ]
  },
  {
   "cell_type": "code",
   "execution_count": 1,
   "metadata": {},
   "outputs": [
    {
     "name": "stdout",
     "output_type": "stream",
     "text": [
      "Collecting phik\n",
      "  Downloading phik-0.12.3-cp39-cp39-manylinux_2_17_x86_64.manylinux2014_x86_64.whl (679 kB)\n",
      "\u001b[K     |████████████████████████████████| 679 kB 1.3 MB/s eta 0:00:01\n",
      "\u001b[?25hRequirement already satisfied: matplotlib>=2.2.3 in /opt/conda/lib/python3.9/site-packages (from phik) (3.3.4)\n",
      "Requirement already satisfied: numpy>=1.18.0 in /opt/conda/lib/python3.9/site-packages (from phik) (1.21.1)\n",
      "Requirement already satisfied: joblib>=0.14.1 in /opt/conda/lib/python3.9/site-packages (from phik) (1.1.0)\n",
      "Requirement already satisfied: pandas>=0.25.1 in /opt/conda/lib/python3.9/site-packages (from phik) (1.2.4)\n",
      "Requirement already satisfied: scipy>=1.5.2 in /opt/conda/lib/python3.9/site-packages (from phik) (1.9.1)\n",
      "Requirement already satisfied: python-dateutil>=2.1 in /opt/conda/lib/python3.9/site-packages (from matplotlib>=2.2.3->phik) (2.8.1)\n",
      "Requirement already satisfied: pyparsing!=2.0.4,!=2.1.2,!=2.1.6,>=2.0.3 in /opt/conda/lib/python3.9/site-packages (from matplotlib>=2.2.3->phik) (2.4.7)\n",
      "Requirement already satisfied: kiwisolver>=1.0.1 in /opt/conda/lib/python3.9/site-packages (from matplotlib>=2.2.3->phik) (1.4.4)\n",
      "Requirement already satisfied: cycler>=0.10 in /opt/conda/lib/python3.9/site-packages (from matplotlib>=2.2.3->phik) (0.11.0)\n",
      "Requirement already satisfied: pillow>=6.2.0 in /opt/conda/lib/python3.9/site-packages (from matplotlib>=2.2.3->phik) (8.4.0)\n",
      "Requirement already satisfied: pytz>=2017.3 in /opt/conda/lib/python3.9/site-packages (from pandas>=0.25.1->phik) (2021.1)\n",
      "Requirement already satisfied: six>=1.5 in /opt/conda/lib/python3.9/site-packages (from python-dateutil>=2.1->matplotlib>=2.2.3->phik) (1.16.0)\n",
      "Installing collected packages: phik\n",
      "Successfully installed phik-0.12.3\n"
     ]
    }
   ],
   "source": [
    "# игнорирование предупреждений о несоответствии версий\n",
    "import warnings\n",
    "warnings.filterwarnings('ignore')\n",
    "\n",
    "# работа с таблицами\n",
    "import pandas as pd\n",
    "import numpy as np\n",
    "\n",
    "# визуализация\n",
    "import matplotlib.pyplot as plt\n",
    "import seaborn as sns\n",
    "\n",
    "# работа с моделями\n",
    "from sklearn.dummy import DummyRegressor\n",
    "from sklearn.ensemble import RandomForestRegressor\n",
    "from sklearn.ensemble import GradientBoostingRegressor\n",
    "from sklearn.linear_model import LinearRegression\n",
    "\n",
    "# инструменты\n",
    "from sklearn.compose import make_column_transformer\n",
    "from sklearn.metrics import mean_squared_error\n",
    "from sklearn.model_selection import train_test_split\n",
    "from sklearn.preprocessing import OrdinalEncoder\n",
    "from sklearn.model_selection import RandomizedSearchCV\n",
    "from sklearn.metrics import make_scorer\n",
    "from sklearn.impute import KNNImputer\n",
    "from sklearn.preprocessing import StandardScaler\n",
    "from sklearn.model_selection import cross_val_score\n",
    "import lightgbm as lgb\n",
    "from lightgbm import LGBMModel\n",
    "from sklearn.impute import SimpleImputer\n",
    "\n",
    "# Проверим признаки на корреляцию\n",
    "! pip install phik\n",
    "import phik\n",
    "from phik import resources, report"
   ]
  },
  {
   "cell_type": "code",
   "execution_count": 2,
   "metadata": {},
   "outputs": [
    {
     "name": "stdout",
     "output_type": "stream",
     "text": [
      "Requirement already satisfied: lightgbm in /opt/conda/lib/python3.9/site-packages (3.3.1)\n",
      "Requirement already satisfied: scipy in /opt/conda/lib/python3.9/site-packages (from lightgbm) (1.9.1)\n",
      "Requirement already satisfied: numpy in /opt/conda/lib/python3.9/site-packages (from lightgbm) (1.21.1)\n",
      "Requirement already satisfied: scikit-learn!=0.22.0 in /opt/conda/lib/python3.9/site-packages (from lightgbm) (0.24.1)\n",
      "Requirement already satisfied: wheel in /opt/conda/lib/python3.9/site-packages (from lightgbm) (0.36.2)\n",
      "Requirement already satisfied: threadpoolctl>=2.0.0 in /opt/conda/lib/python3.9/site-packages (from scikit-learn!=0.22.0->lightgbm) (3.1.0)\n",
      "Requirement already satisfied: joblib>=0.11 in /opt/conda/lib/python3.9/site-packages (from scikit-learn!=0.22.0->lightgbm) (1.1.0)\n",
      "Note: you may need to restart the kernel to use updated packages.\n"
     ]
    }
   ],
   "source": [
    "pip install lightgbm"
   ]
  },
  {
   "cell_type": "code",
   "execution_count": 3,
   "metadata": {},
   "outputs": [],
   "source": [
    "# Сброс ограничений на количество выводимых рядов\n",
    "pd.set_option('display.max_rows', None)\n",
    " \n",
    "# Сброс ограничений на число столбцов\n",
    "pd.set_option('display.max_columns', None)\n",
    "\n",
    "import time"
   ]
  },
  {
   "cell_type": "markdown",
   "metadata": {},
   "source": [
    "### Изучение данных"
   ]
  },
  {
   "cell_type": "code",
   "execution_count": 4,
   "metadata": {},
   "outputs": [],
   "source": [
    "data = pd.read_csv('/datasets/autos.csv')"
   ]
  },
  {
   "cell_type": "code",
   "execution_count": 5,
   "metadata": {},
   "outputs": [
    {
     "data": {
      "text/html": [
       "<div>\n",
       "<style scoped>\n",
       "    .dataframe tbody tr th:only-of-type {\n",
       "        vertical-align: middle;\n",
       "    }\n",
       "\n",
       "    .dataframe tbody tr th {\n",
       "        vertical-align: top;\n",
       "    }\n",
       "\n",
       "    .dataframe thead th {\n",
       "        text-align: right;\n",
       "    }\n",
       "</style>\n",
       "<table border=\"1\" class=\"dataframe\">\n",
       "  <thead>\n",
       "    <tr style=\"text-align: right;\">\n",
       "      <th></th>\n",
       "      <th>DateCrawled</th>\n",
       "      <th>Price</th>\n",
       "      <th>VehicleType</th>\n",
       "      <th>RegistrationYear</th>\n",
       "      <th>Gearbox</th>\n",
       "      <th>Power</th>\n",
       "      <th>Model</th>\n",
       "      <th>Kilometer</th>\n",
       "      <th>RegistrationMonth</th>\n",
       "      <th>FuelType</th>\n",
       "      <th>Brand</th>\n",
       "      <th>Repaired</th>\n",
       "      <th>DateCreated</th>\n",
       "      <th>NumberOfPictures</th>\n",
       "      <th>PostalCode</th>\n",
       "      <th>LastSeen</th>\n",
       "    </tr>\n",
       "  </thead>\n",
       "  <tbody>\n",
       "    <tr>\n",
       "      <th>0</th>\n",
       "      <td>2016-03-24 11:52:17</td>\n",
       "      <td>480</td>\n",
       "      <td>NaN</td>\n",
       "      <td>1993</td>\n",
       "      <td>manual</td>\n",
       "      <td>0</td>\n",
       "      <td>golf</td>\n",
       "      <td>150000</td>\n",
       "      <td>0</td>\n",
       "      <td>petrol</td>\n",
       "      <td>volkswagen</td>\n",
       "      <td>NaN</td>\n",
       "      <td>2016-03-24 00:00:00</td>\n",
       "      <td>0</td>\n",
       "      <td>70435</td>\n",
       "      <td>2016-04-07 03:16:57</td>\n",
       "    </tr>\n",
       "    <tr>\n",
       "      <th>1</th>\n",
       "      <td>2016-03-24 10:58:45</td>\n",
       "      <td>18300</td>\n",
       "      <td>coupe</td>\n",
       "      <td>2011</td>\n",
       "      <td>manual</td>\n",
       "      <td>190</td>\n",
       "      <td>NaN</td>\n",
       "      <td>125000</td>\n",
       "      <td>5</td>\n",
       "      <td>gasoline</td>\n",
       "      <td>audi</td>\n",
       "      <td>yes</td>\n",
       "      <td>2016-03-24 00:00:00</td>\n",
       "      <td>0</td>\n",
       "      <td>66954</td>\n",
       "      <td>2016-04-07 01:46:50</td>\n",
       "    </tr>\n",
       "    <tr>\n",
       "      <th>2</th>\n",
       "      <td>2016-03-14 12:52:21</td>\n",
       "      <td>9800</td>\n",
       "      <td>suv</td>\n",
       "      <td>2004</td>\n",
       "      <td>auto</td>\n",
       "      <td>163</td>\n",
       "      <td>grand</td>\n",
       "      <td>125000</td>\n",
       "      <td>8</td>\n",
       "      <td>gasoline</td>\n",
       "      <td>jeep</td>\n",
       "      <td>NaN</td>\n",
       "      <td>2016-03-14 00:00:00</td>\n",
       "      <td>0</td>\n",
       "      <td>90480</td>\n",
       "      <td>2016-04-05 12:47:46</td>\n",
       "    </tr>\n",
       "    <tr>\n",
       "      <th>3</th>\n",
       "      <td>2016-03-17 16:54:04</td>\n",
       "      <td>1500</td>\n",
       "      <td>small</td>\n",
       "      <td>2001</td>\n",
       "      <td>manual</td>\n",
       "      <td>75</td>\n",
       "      <td>golf</td>\n",
       "      <td>150000</td>\n",
       "      <td>6</td>\n",
       "      <td>petrol</td>\n",
       "      <td>volkswagen</td>\n",
       "      <td>no</td>\n",
       "      <td>2016-03-17 00:00:00</td>\n",
       "      <td>0</td>\n",
       "      <td>91074</td>\n",
       "      <td>2016-03-17 17:40:17</td>\n",
       "    </tr>\n",
       "    <tr>\n",
       "      <th>4</th>\n",
       "      <td>2016-03-31 17:25:20</td>\n",
       "      <td>3600</td>\n",
       "      <td>small</td>\n",
       "      <td>2008</td>\n",
       "      <td>manual</td>\n",
       "      <td>69</td>\n",
       "      <td>fabia</td>\n",
       "      <td>90000</td>\n",
       "      <td>7</td>\n",
       "      <td>gasoline</td>\n",
       "      <td>skoda</td>\n",
       "      <td>no</td>\n",
       "      <td>2016-03-31 00:00:00</td>\n",
       "      <td>0</td>\n",
       "      <td>60437</td>\n",
       "      <td>2016-04-06 10:17:21</td>\n",
       "    </tr>\n",
       "  </tbody>\n",
       "</table>\n",
       "</div>"
      ],
      "text/plain": [
       "           DateCrawled  Price VehicleType  RegistrationYear Gearbox  Power  \\\n",
       "0  2016-03-24 11:52:17    480         NaN              1993  manual      0   \n",
       "1  2016-03-24 10:58:45  18300       coupe              2011  manual    190   \n",
       "2  2016-03-14 12:52:21   9800         suv              2004    auto    163   \n",
       "3  2016-03-17 16:54:04   1500       small              2001  manual     75   \n",
       "4  2016-03-31 17:25:20   3600       small              2008  manual     69   \n",
       "\n",
       "   Model  Kilometer  RegistrationMonth  FuelType       Brand Repaired  \\\n",
       "0   golf     150000                  0    petrol  volkswagen      NaN   \n",
       "1    NaN     125000                  5  gasoline        audi      yes   \n",
       "2  grand     125000                  8  gasoline        jeep      NaN   \n",
       "3   golf     150000                  6    petrol  volkswagen       no   \n",
       "4  fabia      90000                  7  gasoline       skoda       no   \n",
       "\n",
       "           DateCreated  NumberOfPictures  PostalCode             LastSeen  \n",
       "0  2016-03-24 00:00:00                 0       70435  2016-04-07 03:16:57  \n",
       "1  2016-03-24 00:00:00                 0       66954  2016-04-07 01:46:50  \n",
       "2  2016-03-14 00:00:00                 0       90480  2016-04-05 12:47:46  \n",
       "3  2016-03-17 00:00:00                 0       91074  2016-03-17 17:40:17  \n",
       "4  2016-03-31 00:00:00                 0       60437  2016-04-06 10:17:21  "
      ]
     },
     "execution_count": 5,
     "metadata": {},
     "output_type": "execute_result"
    }
   ],
   "source": [
    "data.head()"
   ]
  },
  {
   "cell_type": "code",
   "execution_count": 6,
   "metadata": {},
   "outputs": [
    {
     "name": "stdout",
     "output_type": "stream",
     "text": [
      "<class 'pandas.core.frame.DataFrame'>\n",
      "RangeIndex: 354369 entries, 0 to 354368\n",
      "Data columns (total 16 columns):\n",
      " #   Column             Non-Null Count   Dtype \n",
      "---  ------             --------------   ----- \n",
      " 0   DateCrawled        354369 non-null  object\n",
      " 1   Price              354369 non-null  int64 \n",
      " 2   VehicleType        316879 non-null  object\n",
      " 3   RegistrationYear   354369 non-null  int64 \n",
      " 4   Gearbox            334536 non-null  object\n",
      " 5   Power              354369 non-null  int64 \n",
      " 6   Model              334664 non-null  object\n",
      " 7   Kilometer          354369 non-null  int64 \n",
      " 8   RegistrationMonth  354369 non-null  int64 \n",
      " 9   FuelType           321474 non-null  object\n",
      " 10  Brand              354369 non-null  object\n",
      " 11  Repaired           283215 non-null  object\n",
      " 12  DateCreated        354369 non-null  object\n",
      " 13  NumberOfPictures   354369 non-null  int64 \n",
      " 14  PostalCode         354369 non-null  int64 \n",
      " 15  LastSeen           354369 non-null  object\n",
      "dtypes: int64(7), object(9)\n",
      "memory usage: 43.3+ MB\n"
     ]
    }
   ],
   "source": [
    "data.info()"
   ]
  },
  {
   "cell_type": "markdown",
   "metadata": {},
   "source": [
    "Для начала сотит определить какая информация нам требуется для определения стоимости, а какой можно пренебречь.\n",
    "\n",
    "Следующие признаки не целесообразны при оценке:\n",
    "\n",
    "- DateCrawled — дата скачивания анкеты из базы\n",
    "- RegistrationMonth — месяц регистрации автомобиля\n",
    "- DateCreated — дата создания анкеты\n",
    "- NumberOfPictures — количество фотографий автомобиля\n",
    "- PostalCode — почтовый индекс владельца анкеты (пользователя)\n",
    "- LastSeen — дата последней активности пользователя"
   ]
  },
  {
   "cell_type": "markdown",
   "metadata": {},
   "source": [
    "### Обработка таблицы"
   ]
  },
  {
   "cell_type": "markdown",
   "metadata": {},
   "source": [
    "Для удобства приведем названия столбцов к змеиному регистру"
   ]
  },
  {
   "cell_type": "code",
   "execution_count": 7,
   "metadata": {},
   "outputs": [],
   "source": [
    "def snake_columns(data):\n",
    "    name_list = []\n",
    "    for i in data:\n",
    "        name = []\n",
    "        for j in range(len(i)):\n",
    "            if i[j].isupper():\n",
    "                name.append('_')\n",
    "                name.append(i[j].lower())\n",
    "            else:\n",
    "                name.append(i[j])\n",
    "        del name[0]  \n",
    "        name_list.append(''.join(name))\n",
    "    return name_list"
   ]
  },
  {
   "cell_type": "code",
   "execution_count": 8,
   "metadata": {},
   "outputs": [],
   "source": [
    "data.columns = snake_columns(data)"
   ]
  },
  {
   "cell_type": "markdown",
   "metadata": {},
   "source": [
    "Сохраним год размещения для вычисления возраста автомобиля."
   ]
  },
  {
   "cell_type": "code",
   "execution_count": 9,
   "metadata": {},
   "outputs": [],
   "source": [
    "data['date_created'] = pd.to_datetime(\n",
    "    data['date_created'], format='%Y-%m-%dT%H:%M:%S'\n",
    ")"
   ]
  },
  {
   "cell_type": "code",
   "execution_count": 10,
   "metadata": {},
   "outputs": [],
   "source": [
    "data['date_created'] = pd.DatetimeIndex(data['date_created']).year"
   ]
  },
  {
   "cell_type": "code",
   "execution_count": 11,
   "metadata": {},
   "outputs": [
    {
     "data": {
      "text/html": [
       "<div>\n",
       "<style scoped>\n",
       "    .dataframe tbody tr th:only-of-type {\n",
       "        vertical-align: middle;\n",
       "    }\n",
       "\n",
       "    .dataframe tbody tr th {\n",
       "        vertical-align: top;\n",
       "    }\n",
       "\n",
       "    .dataframe thead th {\n",
       "        text-align: right;\n",
       "    }\n",
       "</style>\n",
       "<table border=\"1\" class=\"dataframe\">\n",
       "  <thead>\n",
       "    <tr style=\"text-align: right;\">\n",
       "      <th></th>\n",
       "      <th>date_crawled</th>\n",
       "      <th>price</th>\n",
       "      <th>vehicle_type</th>\n",
       "      <th>registration_year</th>\n",
       "      <th>gearbox</th>\n",
       "      <th>power</th>\n",
       "      <th>model</th>\n",
       "      <th>kilometer</th>\n",
       "      <th>registration_month</th>\n",
       "      <th>fuel_type</th>\n",
       "      <th>brand</th>\n",
       "      <th>repaired</th>\n",
       "      <th>date_created</th>\n",
       "      <th>number_of_pictures</th>\n",
       "      <th>postal_code</th>\n",
       "      <th>last_seen</th>\n",
       "    </tr>\n",
       "  </thead>\n",
       "  <tbody>\n",
       "    <tr>\n",
       "      <th>0</th>\n",
       "      <td>2016-03-24 11:52:17</td>\n",
       "      <td>480</td>\n",
       "      <td>NaN</td>\n",
       "      <td>1993</td>\n",
       "      <td>manual</td>\n",
       "      <td>0</td>\n",
       "      <td>golf</td>\n",
       "      <td>150000</td>\n",
       "      <td>0</td>\n",
       "      <td>petrol</td>\n",
       "      <td>volkswagen</td>\n",
       "      <td>NaN</td>\n",
       "      <td>2016</td>\n",
       "      <td>0</td>\n",
       "      <td>70435</td>\n",
       "      <td>2016-04-07 03:16:57</td>\n",
       "    </tr>\n",
       "    <tr>\n",
       "      <th>1</th>\n",
       "      <td>2016-03-24 10:58:45</td>\n",
       "      <td>18300</td>\n",
       "      <td>coupe</td>\n",
       "      <td>2011</td>\n",
       "      <td>manual</td>\n",
       "      <td>190</td>\n",
       "      <td>NaN</td>\n",
       "      <td>125000</td>\n",
       "      <td>5</td>\n",
       "      <td>gasoline</td>\n",
       "      <td>audi</td>\n",
       "      <td>yes</td>\n",
       "      <td>2016</td>\n",
       "      <td>0</td>\n",
       "      <td>66954</td>\n",
       "      <td>2016-04-07 01:46:50</td>\n",
       "    </tr>\n",
       "    <tr>\n",
       "      <th>2</th>\n",
       "      <td>2016-03-14 12:52:21</td>\n",
       "      <td>9800</td>\n",
       "      <td>suv</td>\n",
       "      <td>2004</td>\n",
       "      <td>auto</td>\n",
       "      <td>163</td>\n",
       "      <td>grand</td>\n",
       "      <td>125000</td>\n",
       "      <td>8</td>\n",
       "      <td>gasoline</td>\n",
       "      <td>jeep</td>\n",
       "      <td>NaN</td>\n",
       "      <td>2016</td>\n",
       "      <td>0</td>\n",
       "      <td>90480</td>\n",
       "      <td>2016-04-05 12:47:46</td>\n",
       "    </tr>\n",
       "    <tr>\n",
       "      <th>3</th>\n",
       "      <td>2016-03-17 16:54:04</td>\n",
       "      <td>1500</td>\n",
       "      <td>small</td>\n",
       "      <td>2001</td>\n",
       "      <td>manual</td>\n",
       "      <td>75</td>\n",
       "      <td>golf</td>\n",
       "      <td>150000</td>\n",
       "      <td>6</td>\n",
       "      <td>petrol</td>\n",
       "      <td>volkswagen</td>\n",
       "      <td>no</td>\n",
       "      <td>2016</td>\n",
       "      <td>0</td>\n",
       "      <td>91074</td>\n",
       "      <td>2016-03-17 17:40:17</td>\n",
       "    </tr>\n",
       "    <tr>\n",
       "      <th>4</th>\n",
       "      <td>2016-03-31 17:25:20</td>\n",
       "      <td>3600</td>\n",
       "      <td>small</td>\n",
       "      <td>2008</td>\n",
       "      <td>manual</td>\n",
       "      <td>69</td>\n",
       "      <td>fabia</td>\n",
       "      <td>90000</td>\n",
       "      <td>7</td>\n",
       "      <td>gasoline</td>\n",
       "      <td>skoda</td>\n",
       "      <td>no</td>\n",
       "      <td>2016</td>\n",
       "      <td>0</td>\n",
       "      <td>60437</td>\n",
       "      <td>2016-04-06 10:17:21</td>\n",
       "    </tr>\n",
       "  </tbody>\n",
       "</table>\n",
       "</div>"
      ],
      "text/plain": [
       "          date_crawled  price vehicle_type  registration_year gearbox  power  \\\n",
       "0  2016-03-24 11:52:17    480          NaN               1993  manual      0   \n",
       "1  2016-03-24 10:58:45  18300        coupe               2011  manual    190   \n",
       "2  2016-03-14 12:52:21   9800          suv               2004    auto    163   \n",
       "3  2016-03-17 16:54:04   1500        small               2001  manual     75   \n",
       "4  2016-03-31 17:25:20   3600        small               2008  manual     69   \n",
       "\n",
       "   model  kilometer  registration_month fuel_type       brand repaired  \\\n",
       "0   golf     150000                   0    petrol  volkswagen      NaN   \n",
       "1    NaN     125000                   5  gasoline        audi      yes   \n",
       "2  grand     125000                   8  gasoline        jeep      NaN   \n",
       "3   golf     150000                   6    petrol  volkswagen       no   \n",
       "4  fabia      90000                   7  gasoline       skoda       no   \n",
       "\n",
       "   date_created  number_of_pictures  postal_code            last_seen  \n",
       "0          2016                   0        70435  2016-04-07 03:16:57  \n",
       "1          2016                   0        66954  2016-04-07 01:46:50  \n",
       "2          2016                   0        90480  2016-04-05 12:47:46  \n",
       "3          2016                   0        91074  2016-03-17 17:40:17  \n",
       "4          2016                   0        60437  2016-04-06 10:17:21  "
      ]
     },
     "execution_count": 11,
     "metadata": {},
     "output_type": "execute_result"
    }
   ],
   "source": [
    "data.head()"
   ]
  },
  {
   "cell_type": "markdown",
   "metadata": {},
   "source": [
    "Удалим ненужные столбцы"
   ]
  },
  {
   "cell_type": "code",
   "execution_count": 12,
   "metadata": {},
   "outputs": [],
   "source": [
    "data = data.drop(['date_crawled', 'registration_month', 'postal_code', 'last_seen', 'number_of_pictures'],\n",
    "                 axis=1)"
   ]
  },
  {
   "cell_type": "code",
   "execution_count": 13,
   "metadata": {},
   "outputs": [
    {
     "data": {
      "text/html": [
       "<div>\n",
       "<style scoped>\n",
       "    .dataframe tbody tr th:only-of-type {\n",
       "        vertical-align: middle;\n",
       "    }\n",
       "\n",
       "    .dataframe tbody tr th {\n",
       "        vertical-align: top;\n",
       "    }\n",
       "\n",
       "    .dataframe thead th {\n",
       "        text-align: right;\n",
       "    }\n",
       "</style>\n",
       "<table border=\"1\" class=\"dataframe\">\n",
       "  <thead>\n",
       "    <tr style=\"text-align: right;\">\n",
       "      <th></th>\n",
       "      <th>price</th>\n",
       "      <th>vehicle_type</th>\n",
       "      <th>registration_year</th>\n",
       "      <th>gearbox</th>\n",
       "      <th>power</th>\n",
       "      <th>model</th>\n",
       "      <th>kilometer</th>\n",
       "      <th>fuel_type</th>\n",
       "      <th>brand</th>\n",
       "      <th>repaired</th>\n",
       "      <th>date_created</th>\n",
       "    </tr>\n",
       "  </thead>\n",
       "  <tbody>\n",
       "    <tr>\n",
       "      <th>0</th>\n",
       "      <td>480</td>\n",
       "      <td>NaN</td>\n",
       "      <td>1993</td>\n",
       "      <td>manual</td>\n",
       "      <td>0</td>\n",
       "      <td>golf</td>\n",
       "      <td>150000</td>\n",
       "      <td>petrol</td>\n",
       "      <td>volkswagen</td>\n",
       "      <td>NaN</td>\n",
       "      <td>2016</td>\n",
       "    </tr>\n",
       "    <tr>\n",
       "      <th>1</th>\n",
       "      <td>18300</td>\n",
       "      <td>coupe</td>\n",
       "      <td>2011</td>\n",
       "      <td>manual</td>\n",
       "      <td>190</td>\n",
       "      <td>NaN</td>\n",
       "      <td>125000</td>\n",
       "      <td>gasoline</td>\n",
       "      <td>audi</td>\n",
       "      <td>yes</td>\n",
       "      <td>2016</td>\n",
       "    </tr>\n",
       "    <tr>\n",
       "      <th>2</th>\n",
       "      <td>9800</td>\n",
       "      <td>suv</td>\n",
       "      <td>2004</td>\n",
       "      <td>auto</td>\n",
       "      <td>163</td>\n",
       "      <td>grand</td>\n",
       "      <td>125000</td>\n",
       "      <td>gasoline</td>\n",
       "      <td>jeep</td>\n",
       "      <td>NaN</td>\n",
       "      <td>2016</td>\n",
       "    </tr>\n",
       "    <tr>\n",
       "      <th>3</th>\n",
       "      <td>1500</td>\n",
       "      <td>small</td>\n",
       "      <td>2001</td>\n",
       "      <td>manual</td>\n",
       "      <td>75</td>\n",
       "      <td>golf</td>\n",
       "      <td>150000</td>\n",
       "      <td>petrol</td>\n",
       "      <td>volkswagen</td>\n",
       "      <td>no</td>\n",
       "      <td>2016</td>\n",
       "    </tr>\n",
       "    <tr>\n",
       "      <th>4</th>\n",
       "      <td>3600</td>\n",
       "      <td>small</td>\n",
       "      <td>2008</td>\n",
       "      <td>manual</td>\n",
       "      <td>69</td>\n",
       "      <td>fabia</td>\n",
       "      <td>90000</td>\n",
       "      <td>gasoline</td>\n",
       "      <td>skoda</td>\n",
       "      <td>no</td>\n",
       "      <td>2016</td>\n",
       "    </tr>\n",
       "  </tbody>\n",
       "</table>\n",
       "</div>"
      ],
      "text/plain": [
       "   price vehicle_type  registration_year gearbox  power  model  kilometer  \\\n",
       "0    480          NaN               1993  manual      0   golf     150000   \n",
       "1  18300        coupe               2011  manual    190    NaN     125000   \n",
       "2   9800          suv               2004    auto    163  grand     125000   \n",
       "3   1500        small               2001  manual     75   golf     150000   \n",
       "4   3600        small               2008  manual     69  fabia      90000   \n",
       "\n",
       "  fuel_type       brand repaired  date_created  \n",
       "0    petrol  volkswagen      NaN          2016  \n",
       "1  gasoline        audi      yes          2016  \n",
       "2  gasoline        jeep      NaN          2016  \n",
       "3    petrol  volkswagen       no          2016  \n",
       "4  gasoline       skoda       no          2016  "
      ]
     },
     "execution_count": 13,
     "metadata": {},
     "output_type": "execute_result"
    }
   ],
   "source": [
    "data.head()"
   ]
  },
  {
   "cell_type": "markdown",
   "metadata": {},
   "source": [
    "### Добавление дополнительных признаков"
   ]
  },
  {
   "cell_type": "code",
   "execution_count": 14,
   "metadata": {},
   "outputs": [
    {
     "data": {
      "text/plain": [
       "price                527\n",
       "vehicle_type         282\n",
       "registration_year    527\n",
       "gearbox              257\n",
       "power                527\n",
       "model                290\n",
       "kilometer            527\n",
       "fuel_type            287\n",
       "brand                527\n",
       "repaired             202\n",
       "date_created         527\n",
       "dtype: int64"
      ]
     },
     "execution_count": 14,
     "metadata": {},
     "output_type": "execute_result"
    }
   ],
   "source": [
    "data[(data['registration_year'] > 2023) | (data['registration_year'] < 1960)].count()"
   ]
  },
  {
   "cell_type": "markdown",
   "metadata": {},
   "source": [
    "В столбще действительно присутствует небольшое количество аномалий, учитывая их количество, можно безболезненно удалить объекты."
   ]
  },
  {
   "cell_type": "code",
   "execution_count": 15,
   "metadata": {},
   "outputs": [],
   "source": [
    "data = data.drop(index=data[(data['registration_year'] > data['date_created']) | (data['registration_year'] < 1960)].index)"
   ]
  },
  {
   "cell_type": "markdown",
   "metadata": {},
   "source": [
    "Добавим дополнительный признак - годы эксплуатации"
   ]
  },
  {
   "cell_type": "code",
   "execution_count": 16,
   "metadata": {},
   "outputs": [],
   "source": [
    "data['age'] = data['date_created'] - data['registration_year']"
   ]
  },
  {
   "cell_type": "markdown",
   "metadata": {},
   "source": [
    "В открытых источниках указывают предел работы для среднестатистического двигателя в размере 350 000 км пробега, введем процент износа на основании этой константы."
   ]
  },
  {
   "cell_type": "code",
   "execution_count": 17,
   "metadata": {},
   "outputs": [],
   "source": [
    "data['damage_percent'] = round((data['kilometer'] / 350000 * 100), 0).astype('int')"
   ]
  },
  {
   "cell_type": "markdown",
   "metadata": {},
   "source": [
    "Введем признак, обозначающий сумму на оставшийся километраж (350 000)"
   ]
  },
  {
   "cell_type": "code",
   "execution_count": 18,
   "metadata": {},
   "outputs": [],
   "source": [
    "data['eur_durable'] = round(data['price'] / (300000 - data['kilometer']) * 100).astype('int')"
   ]
  },
  {
   "cell_type": "code",
   "execution_count": 19,
   "metadata": {},
   "outputs": [
    {
     "data": {
      "text/html": [
       "<div>\n",
       "<style scoped>\n",
       "    .dataframe tbody tr th:only-of-type {\n",
       "        vertical-align: middle;\n",
       "    }\n",
       "\n",
       "    .dataframe tbody tr th {\n",
       "        vertical-align: top;\n",
       "    }\n",
       "\n",
       "    .dataframe thead th {\n",
       "        text-align: right;\n",
       "    }\n",
       "</style>\n",
       "<table border=\"1\" class=\"dataframe\">\n",
       "  <thead>\n",
       "    <tr style=\"text-align: right;\">\n",
       "      <th></th>\n",
       "      <th>price</th>\n",
       "      <th>vehicle_type</th>\n",
       "      <th>registration_year</th>\n",
       "      <th>gearbox</th>\n",
       "      <th>power</th>\n",
       "      <th>model</th>\n",
       "      <th>kilometer</th>\n",
       "      <th>fuel_type</th>\n",
       "      <th>brand</th>\n",
       "      <th>repaired</th>\n",
       "      <th>date_created</th>\n",
       "      <th>age</th>\n",
       "      <th>damage_percent</th>\n",
       "      <th>eur_durable</th>\n",
       "    </tr>\n",
       "  </thead>\n",
       "  <tbody>\n",
       "    <tr>\n",
       "      <th>0</th>\n",
       "      <td>480</td>\n",
       "      <td>NaN</td>\n",
       "      <td>1993</td>\n",
       "      <td>manual</td>\n",
       "      <td>0</td>\n",
       "      <td>golf</td>\n",
       "      <td>150000</td>\n",
       "      <td>petrol</td>\n",
       "      <td>volkswagen</td>\n",
       "      <td>NaN</td>\n",
       "      <td>2016</td>\n",
       "      <td>23</td>\n",
       "      <td>43</td>\n",
       "      <td>0</td>\n",
       "    </tr>\n",
       "    <tr>\n",
       "      <th>1</th>\n",
       "      <td>18300</td>\n",
       "      <td>coupe</td>\n",
       "      <td>2011</td>\n",
       "      <td>manual</td>\n",
       "      <td>190</td>\n",
       "      <td>NaN</td>\n",
       "      <td>125000</td>\n",
       "      <td>gasoline</td>\n",
       "      <td>audi</td>\n",
       "      <td>yes</td>\n",
       "      <td>2016</td>\n",
       "      <td>5</td>\n",
       "      <td>36</td>\n",
       "      <td>10</td>\n",
       "    </tr>\n",
       "    <tr>\n",
       "      <th>2</th>\n",
       "      <td>9800</td>\n",
       "      <td>suv</td>\n",
       "      <td>2004</td>\n",
       "      <td>auto</td>\n",
       "      <td>163</td>\n",
       "      <td>grand</td>\n",
       "      <td>125000</td>\n",
       "      <td>gasoline</td>\n",
       "      <td>jeep</td>\n",
       "      <td>NaN</td>\n",
       "      <td>2016</td>\n",
       "      <td>12</td>\n",
       "      <td>36</td>\n",
       "      <td>6</td>\n",
       "    </tr>\n",
       "    <tr>\n",
       "      <th>3</th>\n",
       "      <td>1500</td>\n",
       "      <td>small</td>\n",
       "      <td>2001</td>\n",
       "      <td>manual</td>\n",
       "      <td>75</td>\n",
       "      <td>golf</td>\n",
       "      <td>150000</td>\n",
       "      <td>petrol</td>\n",
       "      <td>volkswagen</td>\n",
       "      <td>no</td>\n",
       "      <td>2016</td>\n",
       "      <td>15</td>\n",
       "      <td>43</td>\n",
       "      <td>1</td>\n",
       "    </tr>\n",
       "    <tr>\n",
       "      <th>4</th>\n",
       "      <td>3600</td>\n",
       "      <td>small</td>\n",
       "      <td>2008</td>\n",
       "      <td>manual</td>\n",
       "      <td>69</td>\n",
       "      <td>fabia</td>\n",
       "      <td>90000</td>\n",
       "      <td>gasoline</td>\n",
       "      <td>skoda</td>\n",
       "      <td>no</td>\n",
       "      <td>2016</td>\n",
       "      <td>8</td>\n",
       "      <td>26</td>\n",
       "      <td>2</td>\n",
       "    </tr>\n",
       "  </tbody>\n",
       "</table>\n",
       "</div>"
      ],
      "text/plain": [
       "   price vehicle_type  registration_year gearbox  power  model  kilometer  \\\n",
       "0    480          NaN               1993  manual      0   golf     150000   \n",
       "1  18300        coupe               2011  manual    190    NaN     125000   \n",
       "2   9800          suv               2004    auto    163  grand     125000   \n",
       "3   1500        small               2001  manual     75   golf     150000   \n",
       "4   3600        small               2008  manual     69  fabia      90000   \n",
       "\n",
       "  fuel_type       brand repaired  date_created  age  damage_percent  \\\n",
       "0    petrol  volkswagen      NaN          2016   23              43   \n",
       "1  gasoline        audi      yes          2016    5              36   \n",
       "2  gasoline        jeep      NaN          2016   12              36   \n",
       "3    petrol  volkswagen       no          2016   15              43   \n",
       "4  gasoline       skoda       no          2016    8              26   \n",
       "\n",
       "   eur_durable  \n",
       "0            0  \n",
       "1           10  \n",
       "2            6  \n",
       "3            1  \n",
       "4            2  "
      ]
     },
     "execution_count": 19,
     "metadata": {},
     "output_type": "execute_result"
    }
   ],
   "source": [
    "data.head()"
   ]
  },
  {
   "cell_type": "markdown",
   "metadata": {},
   "source": [
    "### Обработка нулевых значений"
   ]
  },
  {
   "cell_type": "code",
   "execution_count": 20,
   "metadata": {},
   "outputs": [
    {
     "data": {
      "text/plain": [
       "<AxesSubplot:>"
      ]
     },
     "execution_count": 20,
     "metadata": {},
     "output_type": "execute_result"
    },
    {
     "data": {
      "image/png": "[encoded data removed]",
      "text/plain": [
       "<Figure size 432x288 with 1 Axes>"
      ]
     },
     "metadata": {
      "needs_background": "light"
     },
     "output_type": "display_data"
    }
   ],
   "source": [
    "data['power'].hist(bins=100, range=(0,500))"
   ]
  },
  {
   "cell_type": "markdown",
   "metadata": {},
   "source": [
    "В столбце power у нас имеются нулевые значения, что для автомобиля с двигателем недопустимо."
   ]
  },
  {
   "cell_type": "code",
   "execution_count": 21,
   "metadata": {},
   "outputs": [],
   "source": [
    "data.loc[data['power'] <= 10, 'power'] = np.NaN"
   ]
  },
  {
   "cell_type": "code",
   "execution_count": 22,
   "metadata": {},
   "outputs": [
    {
     "data": {
      "text/plain": [
       "36482"
      ]
     },
     "execution_count": 22,
     "metadata": {},
     "output_type": "execute_result"
    }
   ],
   "source": [
    "data['power'].isna().sum()"
   ]
  },
  {
   "cell_type": "markdown",
   "metadata": {},
   "source": [
    "Исследование данных показало, что мощность двигателя среди одинаковых автомобилей может сильно отличаться. Причем не всегда мощность двигателя имеет взаимосвязь с ценой. Поэтому, чтобы не терять данные, в дальнейше для заполнения этого столбца используем KNNImputer."
   ]
  },
  {
   "cell_type": "code",
   "execution_count": 23,
   "metadata": {},
   "outputs": [
    {
     "data": {
      "text/plain": [
       "9939"
      ]
     },
     "execution_count": 23,
     "metadata": {},
     "output_type": "execute_result"
    }
   ],
   "source": [
    "data.loc[data['price'] == 0]['price'].count()"
   ]
  },
  {
   "cell_type": "markdown",
   "metadata": {},
   "source": [
    "Имеется доля данных с целевым признаком равным 0, это введет в заблуждение модель, прeдлагаю дропнуть его. Помимо этого, предлагается удалить предложения ниже 500 евро, предложения со стоимостью ниже не обоснованы в цене, либо не на ходу."
   ]
  },
  {
   "cell_type": "code",
   "execution_count": 24,
   "metadata": {},
   "outputs": [],
   "source": [
    "data.loc[data['price'] <= 500, 'price'] = np.NaN"
   ]
  },
  {
   "cell_type": "code",
   "execution_count": 25,
   "metadata": {},
   "outputs": [],
   "source": [
    "data = data.dropna(subset=['price'])"
   ]
  },
  {
   "cell_type": "code",
   "execution_count": 26,
   "metadata": {},
   "outputs": [
    {
     "name": "stdout",
     "output_type": "stream",
     "text": [
      "<class 'pandas.core.frame.DataFrame'>\n",
      "Int64Index: 299550 entries, 1 to 354368\n",
      "Data columns (total 14 columns):\n",
      " #   Column             Non-Null Count   Dtype  \n",
      "---  ------             --------------   -----  \n",
      " 0   price              299550 non-null  float64\n",
      " 1   vehicle_type       286178 non-null  object \n",
      " 2   registration_year  299550 non-null  int64  \n",
      " 3   gearbox            288238 non-null  object \n",
      " 4   power              274956 non-null  float64\n",
      " 5   model              287135 non-null  object \n",
      " 6   kilometer          299550 non-null  int64  \n",
      " 7   fuel_type          281937 non-null  object \n",
      " 8   brand              299550 non-null  object \n",
      " 9   repaired           252147 non-null  object \n",
      " 10  date_created       299550 non-null  int64  \n",
      " 11  age                299550 non-null  int64  \n",
      " 12  damage_percent     299550 non-null  int64  \n",
      " 13  eur_durable        299550 non-null  int64  \n",
      "dtypes: float64(2), int64(6), object(6)\n",
      "memory usage: 34.3+ MB\n"
     ]
    }
   ],
   "source": [
    "data.info()"
   ]
  },
  {
   "cell_type": "code",
   "execution_count": 27,
   "metadata": {},
   "outputs": [],
   "source": [
    "#data.loc[(data['brand'] == 'volkswagen') & (data['model'] == 'golf') & (data['fuel_type'] == 'petrol')\n",
    "#        & (data['registration_year'] == 1993)& (data['vehicle_type'] == 'sedan') & (data['repaired'] == 'no')].head(30)"
   ]
  },
  {
   "cell_type": "markdown",
   "metadata": {},
   "source": [
    "### Работа с пропусками"
   ]
  },
  {
   "cell_type": "code",
   "execution_count": 28,
   "metadata": {},
   "outputs": [],
   "source": [
    "# data.pivot_table(values='price', index=['brand', 'model', 'vehicle_type', 'fuel_type'], aggfunc=['count'])"
   ]
  },
  {
   "cell_type": "markdown",
   "metadata": {},
   "source": [
    "Для устранения пропусков, предлагается добавить класс unspecified так, как по сочетанию отдельных признаков не представляется возможным достоверно определить их значение."
   ]
  },
  {
   "cell_type": "code",
   "execution_count": 29,
   "metadata": {
    "scrolled": true
   },
   "outputs": [],
   "source": [
    "data['repaired'] = data['repaired'].fillna('unspecified')\n",
    "data['gearbox'] = data['gearbox'].fillna('unspecified')\n",
    "data['fuel_type'] = data['fuel_type'].fillna('unspecified')\n",
    "data['vehicle_type'] = data['vehicle_type'].fillna('unspecified')\n",
    "data['model'] = data['model'].fillna('unspecified')"
   ]
  },
  {
   "cell_type": "code",
   "execution_count": 30,
   "metadata": {},
   "outputs": [
    {
     "name": "stdout",
     "output_type": "stream",
     "text": [
      "<class 'pandas.core.frame.DataFrame'>\n",
      "Int64Index: 299550 entries, 1 to 354368\n",
      "Data columns (total 14 columns):\n",
      " #   Column             Non-Null Count   Dtype  \n",
      "---  ------             --------------   -----  \n",
      " 0   price              299550 non-null  float64\n",
      " 1   vehicle_type       299550 non-null  object \n",
      " 2   registration_year  299550 non-null  int64  \n",
      " 3   gearbox            299550 non-null  object \n",
      " 4   power              274956 non-null  float64\n",
      " 5   model              299550 non-null  object \n",
      " 6   kilometer          299550 non-null  int64  \n",
      " 7   fuel_type          299550 non-null  object \n",
      " 8   brand              299550 non-null  object \n",
      " 9   repaired           299550 non-null  object \n",
      " 10  date_created       299550 non-null  int64  \n",
      " 11  age                299550 non-null  int64  \n",
      " 12  damage_percent     299550 non-null  int64  \n",
      " 13  eur_durable        299550 non-null  int64  \n",
      "dtypes: float64(2), int64(6), object(6)\n",
      "memory usage: 34.3+ MB\n"
     ]
    }
   ],
   "source": [
    "data.info()"
   ]
  },
  {
   "cell_type": "markdown",
   "metadata": {},
   "source": [
    "Оставшиеся пропуски попробуем заполнить импутером."
   ]
  },
  {
   "cell_type": "markdown",
   "metadata": {},
   "source": [
    "### Работа с аномалиями"
   ]
  },
  {
   "cell_type": "code",
   "execution_count": 31,
   "metadata": {},
   "outputs": [
    {
     "data": {
      "image/png": "[encoded data removed]",
      "text/plain": [
       "<Figure size 1080x504 with 1 Axes>"
      ]
     },
     "metadata": {
      "needs_background": "light"
     },
     "output_type": "display_data"
    }
   ],
   "source": [
    "plt.figure(figsize=(15, 7))\n",
    "plt.xticks(range(0, 15500, 250), rotation=45)\n",
    "plt.xlim(250,15500)\n",
    "plt.grid(True)\n",
    "ax = sns.boxplot(x=data['price'])\n",
    "plt.title('Граница выбросов целевого признака 1')\n",
    "ax.set_xlabel('Распределение элементов')\n",
    "ax.set_ylabel('Квантили')\n",
    "\n",
    "plt.show()"
   ]
  },
  {
   "cell_type": "code",
   "execution_count": 32,
   "metadata": {},
   "outputs": [
    {
     "data": {
      "image/png": "[encoded data removed]",
      "text/plain": [
       "<Figure size 1080x504 with 1 Axes>"
      ]
     },
     "metadata": {
      "needs_background": "light"
     },
     "output_type": "display_data"
    }
   ],
   "source": [
    "plt.figure(figsize=(15, 7))\n",
    "#plt.xticks(range(0, 15500, 500), rotation=45)\n",
    "plt.xlim(0,2500)\n",
    "plt.grid(True)\n",
    "ax = data['price'].hist(bins=500)\n",
    "plt.title('Распределение стоимости предложений')\n",
    "ax.set_xlabel('Объявления')\n",
    "ax.set_ylabel('Сумма')\n",
    "\n",
    "plt.show()"
   ]
  },
  {
   "cell_type": "markdown",
   "metadata": {},
   "source": [
    "Обозначим границу выбросов в районе 15 000 евро. Для корректного обучения модели."
   ]
  },
  {
   "cell_type": "code",
   "execution_count": 33,
   "metadata": {},
   "outputs": [
    {
     "data": {
      "text/html": [
       "<div>\n",
       "<style scoped>\n",
       "    .dataframe tbody tr th:only-of-type {\n",
       "        vertical-align: middle;\n",
       "    }\n",
       "\n",
       "    .dataframe tbody tr th {\n",
       "        vertical-align: top;\n",
       "    }\n",
       "\n",
       "    .dataframe thead th {\n",
       "        text-align: right;\n",
       "    }\n",
       "</style>\n",
       "<table border=\"1\" class=\"dataframe\">\n",
       "  <thead>\n",
       "    <tr style=\"text-align: right;\">\n",
       "      <th></th>\n",
       "      <th>price</th>\n",
       "      <th>vehicle_type</th>\n",
       "      <th>registration_year</th>\n",
       "      <th>gearbox</th>\n",
       "      <th>power</th>\n",
       "      <th>model</th>\n",
       "      <th>kilometer</th>\n",
       "      <th>fuel_type</th>\n",
       "      <th>brand</th>\n",
       "      <th>repaired</th>\n",
       "      <th>date_created</th>\n",
       "      <th>age</th>\n",
       "      <th>damage_percent</th>\n",
       "      <th>eur_durable</th>\n",
       "    </tr>\n",
       "  </thead>\n",
       "  <tbody>\n",
       "  </tbody>\n",
       "</table>\n",
       "</div>"
      ],
      "text/plain": [
       "Empty DataFrame\n",
       "Columns: [price, vehicle_type, registration_year, gearbox, power, model, kilometer, fuel_type, brand, repaired, date_created, age, damage_percent, eur_durable]\n",
       "Index: []"
      ]
     },
     "execution_count": 33,
     "metadata": {},
     "output_type": "execute_result"
    }
   ],
   "source": [
    "data.loc[data['price'] <= 10]"
   ]
  },
  {
   "cell_type": "code",
   "execution_count": 34,
   "metadata": {},
   "outputs": [],
   "source": [
    "data = data.loc[data['price'] <= 15000]"
   ]
  },
  {
   "cell_type": "code",
   "execution_count": 35,
   "metadata": {},
   "outputs": [
    {
     "data": {
      "image/png": "[encoded data removed]",
      "text/plain": [
       "<Figure size 1080x504 with 1 Axes>"
      ]
     },
     "metadata": {
      "needs_background": "light"
     },
     "output_type": "display_data"
    }
   ],
   "source": [
    "plt.figure(figsize=(15, 7))\n",
    "\n",
    "plt.grid(True)\n",
    "ax = data['price'].hist(bins=300)\n",
    "plt.title('Распределение стоимости предложений')\n",
    "ax.set_xlabel('Объявления')\n",
    "ax.set_ylabel('Сумма')\n",
    "\n",
    "plt.show()"
   ]
  },
  {
   "cell_type": "code",
   "execution_count": 36,
   "metadata": {},
   "outputs": [
    {
     "name": "stdout",
     "output_type": "stream",
     "text": [
      "<class 'pandas.core.frame.DataFrame'>\n",
      "Int64Index: 284941 entries, 2 to 354368\n",
      "Data columns (total 14 columns):\n",
      " #   Column             Non-Null Count   Dtype  \n",
      "---  ------             --------------   -----  \n",
      " 0   price              284941 non-null  float64\n",
      " 1   vehicle_type       284941 non-null  object \n",
      " 2   registration_year  284941 non-null  int64  \n",
      " 3   gearbox            284941 non-null  object \n",
      " 4   power              260735 non-null  float64\n",
      " 5   model              284941 non-null  object \n",
      " 6   kilometer          284941 non-null  int64  \n",
      " 7   fuel_type          284941 non-null  object \n",
      " 8   brand              284941 non-null  object \n",
      " 9   repaired           284941 non-null  object \n",
      " 10  date_created       284941 non-null  int64  \n",
      " 11  age                284941 non-null  int64  \n",
      " 12  damage_percent     284941 non-null  int64  \n",
      " 13  eur_durable        284941 non-null  int64  \n",
      "dtypes: float64(2), int64(6), object(6)\n",
      "memory usage: 32.6+ MB\n"
     ]
    }
   ],
   "source": [
    "data.info()"
   ]
  },
  {
   "cell_type": "markdown",
   "metadata": {},
   "source": [
    "По итогам блока данных стало меньше, но они больше подходят для обучения модели ввиду меньшего содержания выбросов и отсутствия незаполненных значений."
   ]
  },
  {
   "cell_type": "code",
   "execution_count": 37,
   "metadata": {},
   "outputs": [],
   "source": [
    "#data = data.drop(['vehicle_type', 'date_created'], axis=1)"
   ]
  },
  {
   "cell_type": "code",
   "execution_count": 38,
   "metadata": {},
   "outputs": [
    {
     "data": {
      "text/html": [
       "<div>\n",
       "<style scoped>\n",
       "    .dataframe tbody tr th:only-of-type {\n",
       "        vertical-align: middle;\n",
       "    }\n",
       "\n",
       "    .dataframe tbody tr th {\n",
       "        vertical-align: top;\n",
       "    }\n",
       "\n",
       "    .dataframe thead th {\n",
       "        text-align: right;\n",
       "    }\n",
       "</style>\n",
       "<table border=\"1\" class=\"dataframe\">\n",
       "  <thead>\n",
       "    <tr style=\"text-align: right;\">\n",
       "      <th></th>\n",
       "      <th>price</th>\n",
       "      <th>vehicle_type</th>\n",
       "      <th>registration_year</th>\n",
       "      <th>gearbox</th>\n",
       "      <th>power</th>\n",
       "      <th>model</th>\n",
       "      <th>kilometer</th>\n",
       "      <th>fuel_type</th>\n",
       "      <th>brand</th>\n",
       "      <th>repaired</th>\n",
       "      <th>date_created</th>\n",
       "      <th>age</th>\n",
       "      <th>damage_percent</th>\n",
       "      <th>eur_durable</th>\n",
       "    </tr>\n",
       "  </thead>\n",
       "  <tbody>\n",
       "    <tr>\n",
       "      <th>2</th>\n",
       "      <td>9800.0</td>\n",
       "      <td>suv</td>\n",
       "      <td>2004</td>\n",
       "      <td>auto</td>\n",
       "      <td>163.0</td>\n",
       "      <td>grand</td>\n",
       "      <td>125000</td>\n",
       "      <td>gasoline</td>\n",
       "      <td>jeep</td>\n",
       "      <td>unspecified</td>\n",
       "      <td>2016</td>\n",
       "      <td>12</td>\n",
       "      <td>36</td>\n",
       "      <td>6</td>\n",
       "    </tr>\n",
       "    <tr>\n",
       "      <th>3</th>\n",
       "      <td>1500.0</td>\n",
       "      <td>small</td>\n",
       "      <td>2001</td>\n",
       "      <td>manual</td>\n",
       "      <td>75.0</td>\n",
       "      <td>golf</td>\n",
       "      <td>150000</td>\n",
       "      <td>petrol</td>\n",
       "      <td>volkswagen</td>\n",
       "      <td>no</td>\n",
       "      <td>2016</td>\n",
       "      <td>15</td>\n",
       "      <td>43</td>\n",
       "      <td>1</td>\n",
       "    </tr>\n",
       "    <tr>\n",
       "      <th>4</th>\n",
       "      <td>3600.0</td>\n",
       "      <td>small</td>\n",
       "      <td>2008</td>\n",
       "      <td>manual</td>\n",
       "      <td>69.0</td>\n",
       "      <td>fabia</td>\n",
       "      <td>90000</td>\n",
       "      <td>gasoline</td>\n",
       "      <td>skoda</td>\n",
       "      <td>no</td>\n",
       "      <td>2016</td>\n",
       "      <td>8</td>\n",
       "      <td>26</td>\n",
       "      <td>2</td>\n",
       "    </tr>\n",
       "    <tr>\n",
       "      <th>5</th>\n",
       "      <td>650.0</td>\n",
       "      <td>sedan</td>\n",
       "      <td>1995</td>\n",
       "      <td>manual</td>\n",
       "      <td>102.0</td>\n",
       "      <td>3er</td>\n",
       "      <td>150000</td>\n",
       "      <td>petrol</td>\n",
       "      <td>bmw</td>\n",
       "      <td>yes</td>\n",
       "      <td>2016</td>\n",
       "      <td>21</td>\n",
       "      <td>43</td>\n",
       "      <td>0</td>\n",
       "    </tr>\n",
       "    <tr>\n",
       "      <th>6</th>\n",
       "      <td>2200.0</td>\n",
       "      <td>convertible</td>\n",
       "      <td>2004</td>\n",
       "      <td>manual</td>\n",
       "      <td>109.0</td>\n",
       "      <td>2_reihe</td>\n",
       "      <td>150000</td>\n",
       "      <td>petrol</td>\n",
       "      <td>peugeot</td>\n",
       "      <td>no</td>\n",
       "      <td>2016</td>\n",
       "      <td>12</td>\n",
       "      <td>43</td>\n",
       "      <td>1</td>\n",
       "    </tr>\n",
       "  </tbody>\n",
       "</table>\n",
       "</div>"
      ],
      "text/plain": [
       "    price vehicle_type  registration_year gearbox  power    model  kilometer  \\\n",
       "2  9800.0          suv               2004    auto  163.0    grand     125000   \n",
       "3  1500.0        small               2001  manual   75.0     golf     150000   \n",
       "4  3600.0        small               2008  manual   69.0    fabia      90000   \n",
       "5   650.0        sedan               1995  manual  102.0      3er     150000   \n",
       "6  2200.0  convertible               2004  manual  109.0  2_reihe     150000   \n",
       "\n",
       "  fuel_type       brand     repaired  date_created  age  damage_percent  \\\n",
       "2  gasoline        jeep  unspecified          2016   12              36   \n",
       "3    petrol  volkswagen           no          2016   15              43   \n",
       "4  gasoline       skoda           no          2016    8              26   \n",
       "5    petrol         bmw          yes          2016   21              43   \n",
       "6    petrol     peugeot           no          2016   12              43   \n",
       "\n",
       "   eur_durable  \n",
       "2            6  \n",
       "3            1  \n",
       "4            2  \n",
       "5            0  \n",
       "6            1  "
      ]
     },
     "execution_count": 38,
     "metadata": {},
     "output_type": "execute_result"
    }
   ],
   "source": [
    "data.head()"
   ]
  },
  {
   "cell_type": "markdown",
   "metadata": {},
   "source": [
    "<div class=\"alert alert-warning\">\n",
    "    <h2> Комментарий ревьюера <a class=\"tocSkip\"> </h2>\n",
    "    \n",
    "<b>Некоторые замечания и рекомендации💡:</b> \n",
    "        \n",
    "        \n",
    "Так как ты создавал новые фичи очень рекомендую провести корреляционный анализ."
   ]
  },
  {
   "cell_type": "markdown",
   "metadata": {},
   "source": [
    "<div class=\"alert alert-block alert-info\">\n",
    "<b>Комментарий студента:</b>\n",
    "    \n",
    "Провел, увидел, что допустил утечку данных в одной из новых фич.\n",
    "</div>"
   ]
  },
  {
   "cell_type": "code",
   "execution_count": 39,
   "metadata": {},
   "outputs": [],
   "source": [
    "# Выделим признаки для расчета\n",
    "numerics = ['int16', 'int32', 'int64', 'float16', 'float32', 'float64']\n",
    "\n",
    "newdf = data.select_dtypes(include=numerics).columns"
   ]
  },
  {
   "cell_type": "code",
   "execution_count": 40,
   "metadata": {},
   "outputs": [],
   "source": [
    "# Выделим признаки для расчета\n",
    "interval_cols = newdf\n",
    "phik_overview = data.phik_matrix(interval_cols=interval_cols)"
   ]
  },
  {
   "cell_type": "code",
   "execution_count": 41,
   "metadata": {},
   "outputs": [
    {
     "data": {
      "image/png": "[encoded data removed]",
      "text/plain": [
       "<Figure size 1080x504 with 2 Axes>"
      ]
     },
     "metadata": {
      "needs_background": "light"
     },
     "output_type": "display_data"
    }
   ],
   "source": [
    "# Строим матрицу корреляции\n",
    "plt.figure(figsize=(15, 7))\n",
    "\n",
    "plot_correlation_matrix = sns.heatmap(phik_overview, annot = True)\n",
    "plot_correlation_matrix.set(xlabel='\\nПризнаки', ylabel='Признаки',\n",
    "                            title = \"Correlation matrix df1\\n\")\n",
    "plt.yticks(rotation=0)\n",
    "plt.show()"
   ]
  },
  {
   "cell_type": "markdown",
   "metadata": {},
   "source": [
    "Признак eur_durable обладает высокой корреляцией, что говорит об утечке данных из целевого признака. Дропаем"
   ]
  },
  {
   "cell_type": "code",
   "execution_count": 42,
   "metadata": {},
   "outputs": [],
   "source": [
    "data = data.drop(columns=['eur_durable'])"
   ]
  },
  {
   "cell_type": "code",
   "execution_count": 43,
   "metadata": {},
   "outputs": [
    {
     "name": "stdout",
     "output_type": "stream",
     "text": [
      "<class 'pandas.core.frame.DataFrame'>\n",
      "Int64Index: 284941 entries, 2 to 354368\n",
      "Data columns (total 13 columns):\n",
      " #   Column             Non-Null Count   Dtype  \n",
      "---  ------             --------------   -----  \n",
      " 0   price              284941 non-null  float64\n",
      " 1   vehicle_type       284941 non-null  object \n",
      " 2   registration_year  284941 non-null  int64  \n",
      " 3   gearbox            284941 non-null  object \n",
      " 4   power              260735 non-null  float64\n",
      " 5   model              284941 non-null  object \n",
      " 6   kilometer          284941 non-null  int64  \n",
      " 7   fuel_type          284941 non-null  object \n",
      " 8   brand              284941 non-null  object \n",
      " 9   repaired           284941 non-null  object \n",
      " 10  date_created       284941 non-null  int64  \n",
      " 11  age                284941 non-null  int64  \n",
      " 12  damage_percent     284941 non-null  int64  \n",
      "dtypes: float64(2), int64(5), object(6)\n",
      "memory usage: 30.4+ MB\n"
     ]
    }
   ],
   "source": [
    "data.info()"
   ]
  },
  {
   "cell_type": "markdown",
   "metadata": {},
   "source": [
    "## Обучение моделей"
   ]
  },
  {
   "cell_type": "markdown",
   "metadata": {},
   "source": [
    "Напишем функцию оценки rmse"
   ]
  },
  {
   "cell_type": "code",
   "execution_count": 44,
   "metadata": {},
   "outputs": [],
   "source": [
    "def rmse (target, predict):\n",
    "    return mean_squared_error(target, predict)**0.5"
   ]
  },
  {
   "cell_type": "code",
   "execution_count": 45,
   "metadata": {},
   "outputs": [],
   "source": [
    "rmse_scorer = make_scorer(rmse, greater_is_better=False)"
   ]
  },
  {
   "cell_type": "markdown",
   "metadata": {},
   "source": [
    "Разделим выборки"
   ]
  },
  {
   "cell_type": "code",
   "execution_count": 46,
   "metadata": {},
   "outputs": [],
   "source": [
    "features = data.drop(['price'], axis=1)\n",
    "target = data['price']\n",
    "\n",
    "X_train_no_scaled, X_test_no_scaled, y_train, y_test = train_test_split(features, target, test_size=0.25, random_state=12345)"
   ]
  },
  {
   "cell_type": "code",
   "execution_count": 47,
   "metadata": {},
   "outputs": [],
   "source": [
    "X_train, X_test = X_train_no_scaled, X_test_no_scaled"
   ]
  },
  {
   "cell_type": "markdown",
   "metadata": {},
   "source": [
    "В таблице большое количество категориальных признаков, применим для этого порядковое кодирование."
   ]
  },
  {
   "cell_type": "code",
   "execution_count": 48,
   "metadata": {},
   "outputs": [],
   "source": [
    "numeric = ['registration_year', 'power', 'kilometer','date_created','age','damage_percent']\n",
    "scaler = StandardScaler()\n",
    "X_train[numeric] = scaler.fit_transform(X_train_no_scaled[numeric])\n",
    "X_test[numeric] = scaler.transform(X_test_no_scaled[numeric])"
   ]
  },
  {
   "cell_type": "code",
   "execution_count": 49,
   "metadata": {},
   "outputs": [],
   "source": [
    "numeric_2 = ['vehicle_type', 'gearbox','model','fuel_type','brand','repaired']\n",
    "ode = OrdinalEncoder(handle_unknown='use_encoded_value', dtype='int', unknown_value=-1)\n",
    "X_train[numeric_2] = ode.fit_transform(X_train[numeric_2])\n",
    "X_test[numeric_2] = ode.transform(X_test[numeric_2])"
   ]
  },
  {
   "cell_type": "code",
   "execution_count": 50,
   "metadata": {},
   "outputs": [
    {
     "data": {
      "text/html": [
       "<div>\n",
       "<style scoped>\n",
       "    .dataframe tbody tr th:only-of-type {\n",
       "        vertical-align: middle;\n",
       "    }\n",
       "\n",
       "    .dataframe tbody tr th {\n",
       "        vertical-align: top;\n",
       "    }\n",
       "\n",
       "    .dataframe thead th {\n",
       "        text-align: right;\n",
       "    }\n",
       "</style>\n",
       "<table border=\"1\" class=\"dataframe\">\n",
       "  <thead>\n",
       "    <tr style=\"text-align: right;\">\n",
       "      <th></th>\n",
       "      <th>vehicle_type</th>\n",
       "      <th>registration_year</th>\n",
       "      <th>gearbox</th>\n",
       "      <th>power</th>\n",
       "      <th>model</th>\n",
       "      <th>kilometer</th>\n",
       "      <th>fuel_type</th>\n",
       "      <th>brand</th>\n",
       "      <th>repaired</th>\n",
       "      <th>date_created</th>\n",
       "      <th>age</th>\n",
       "      <th>damage_percent</th>\n",
       "    </tr>\n",
       "  </thead>\n",
       "  <tbody>\n",
       "    <tr>\n",
       "      <th>70690</th>\n",
       "      <td>4</td>\n",
       "      <td>0.823778</td>\n",
       "      <td>1</td>\n",
       "      <td>0.121496</td>\n",
       "      <td>242</td>\n",
       "      <td>0.573252</td>\n",
       "      <td>6</td>\n",
       "      <td>2</td>\n",
       "      <td>0</td>\n",
       "      <td>0.009224</td>\n",
       "      <td>-0.823761</td>\n",
       "      <td>0.570123</td>\n",
       "    </tr>\n",
       "    <tr>\n",
       "      <th>216143</th>\n",
       "      <td>7</td>\n",
       "      <td>0.354251</td>\n",
       "      <td>0</td>\n",
       "      <td>0.121496</td>\n",
       "      <td>11</td>\n",
       "      <td>0.573252</td>\n",
       "      <td>2</td>\n",
       "      <td>2</td>\n",
       "      <td>1</td>\n",
       "      <td>0.009224</td>\n",
       "      <td>-0.354235</td>\n",
       "      <td>0.570123</td>\n",
       "    </tr>\n",
       "    <tr>\n",
       "      <th>117328</th>\n",
       "      <td>4</td>\n",
       "      <td>0.041233</td>\n",
       "      <td>1</td>\n",
       "      <td>0.259604</td>\n",
       "      <td>170</td>\n",
       "      <td>0.573252</td>\n",
       "      <td>2</td>\n",
       "      <td>38</td>\n",
       "      <td>0</td>\n",
       "      <td>0.009224</td>\n",
       "      <td>-0.041218</td>\n",
       "      <td>0.570123</td>\n",
       "    </tr>\n",
       "    <tr>\n",
       "      <th>91745</th>\n",
       "      <td>4</td>\n",
       "      <td>-0.271786</td>\n",
       "      <td>0</td>\n",
       "      <td>0.507245</td>\n",
       "      <td>15</td>\n",
       "      <td>0.573252</td>\n",
       "      <td>6</td>\n",
       "      <td>2</td>\n",
       "      <td>1</td>\n",
       "      <td>0.009224</td>\n",
       "      <td>0.271799</td>\n",
       "      <td>0.570123</td>\n",
       "    </tr>\n",
       "    <tr>\n",
       "      <th>104036</th>\n",
       "      <td>0</td>\n",
       "      <td>0.510760</td>\n",
       "      <td>1</td>\n",
       "      <td>0.250079</td>\n",
       "      <td>236</td>\n",
       "      <td>0.573252</td>\n",
       "      <td>2</td>\n",
       "      <td>36</td>\n",
       "      <td>0</td>\n",
       "      <td>0.009224</td>\n",
       "      <td>-0.510744</td>\n",
       "      <td>0.570123</td>\n",
       "    </tr>\n",
       "  </tbody>\n",
       "</table>\n",
       "</div>"
      ],
      "text/plain": [
       "        vehicle_type  registration_year  gearbox     power  model  kilometer  \\\n",
       "70690              4           0.823778        1  0.121496    242   0.573252   \n",
       "216143             7           0.354251        0  0.121496     11   0.573252   \n",
       "117328             4           0.041233        1  0.259604    170   0.573252   \n",
       "91745              4          -0.271786        0  0.507245     15   0.573252   \n",
       "104036             0           0.510760        1  0.250079    236   0.573252   \n",
       "\n",
       "        fuel_type  brand  repaired  date_created       age  damage_percent  \n",
       "70690           6      2         0      0.009224 -0.823761        0.570123  \n",
       "216143          2      2         1      0.009224 -0.354235        0.570123  \n",
       "117328          2     38         0      0.009224 -0.041218        0.570123  \n",
       "91745           6      2         1      0.009224  0.271799        0.570123  \n",
       "104036          2     36         0      0.009224 -0.510744        0.570123  "
      ]
     },
     "execution_count": 50,
     "metadata": {},
     "output_type": "execute_result"
    }
   ],
   "source": [
    "X_test.head()"
   ]
  },
  {
   "cell_type": "code",
   "execution_count": 51,
   "metadata": {},
   "outputs": [],
   "source": [
    "imp_mean = SimpleImputer(missing_values=np.nan, strategy='median')\n",
    "ct = make_column_transformer(\n",
    "     (imp_mean, ['power']),\n",
    "      remainder='passthrough')\n",
    "\n",
    "X_train = ct.fit_transform(X_train)\n",
    "X_test = ct.transform(X_test)"
   ]
  },
  {
   "cell_type": "code",
   "execution_count": 52,
   "metadata": {},
   "outputs": [
    {
     "data": {
      "text/html": [
       "<div>\n",
       "<style scoped>\n",
       "    .dataframe tbody tr th:only-of-type {\n",
       "        vertical-align: middle;\n",
       "    }\n",
       "\n",
       "    .dataframe tbody tr th {\n",
       "        vertical-align: top;\n",
       "    }\n",
       "\n",
       "    .dataframe thead th {\n",
       "        text-align: right;\n",
       "    }\n",
       "</style>\n",
       "<table border=\"1\" class=\"dataframe\">\n",
       "  <thead>\n",
       "    <tr style=\"text-align: right;\">\n",
       "      <th></th>\n",
       "      <th>0</th>\n",
       "      <th>1</th>\n",
       "      <th>2</th>\n",
       "      <th>3</th>\n",
       "      <th>4</th>\n",
       "      <th>5</th>\n",
       "      <th>6</th>\n",
       "      <th>7</th>\n",
       "      <th>8</th>\n",
       "      <th>9</th>\n",
       "      <th>10</th>\n",
       "      <th>11</th>\n",
       "    </tr>\n",
       "  </thead>\n",
       "  <tbody>\n",
       "    <tr>\n",
       "      <th>0</th>\n",
       "      <td>-0.054710</td>\n",
       "      <td>5.0</td>\n",
       "      <td>-0.584804</td>\n",
       "      <td>1.0</td>\n",
       "      <td>116.0</td>\n",
       "      <td>0.573252</td>\n",
       "      <td>6.0</td>\n",
       "      <td>38.0</td>\n",
       "      <td>0.0</td>\n",
       "      <td>0.009224</td>\n",
       "      <td>0.584817</td>\n",
       "      <td>0.570123</td>\n",
       "    </tr>\n",
       "    <tr>\n",
       "      <th>1</th>\n",
       "      <td>-0.307113</td>\n",
       "      <td>5.0</td>\n",
       "      <td>0.823778</td>\n",
       "      <td>1.0</td>\n",
       "      <td>173.0</td>\n",
       "      <td>-0.822190</td>\n",
       "      <td>6.0</td>\n",
       "      <td>38.0</td>\n",
       "      <td>0.0</td>\n",
       "      <td>0.009224</td>\n",
       "      <td>-0.823761</td>\n",
       "      <td>-0.791494</td>\n",
       "    </tr>\n",
       "    <tr>\n",
       "      <th>2</th>\n",
       "      <td>-0.054710</td>\n",
       "      <td>0.0</td>\n",
       "      <td>-0.584804</td>\n",
       "      <td>1.0</td>\n",
       "      <td>112.0</td>\n",
       "      <td>0.573252</td>\n",
       "      <td>6.0</td>\n",
       "      <td>10.0</td>\n",
       "      <td>0.0</td>\n",
       "      <td>0.009224</td>\n",
       "      <td>0.584817</td>\n",
       "      <td>0.570123</td>\n",
       "    </tr>\n",
       "    <tr>\n",
       "      <th>3</th>\n",
       "      <td>-0.235678</td>\n",
       "      <td>4.0</td>\n",
       "      <td>-0.271786</td>\n",
       "      <td>1.0</td>\n",
       "      <td>116.0</td>\n",
       "      <td>-0.124469</td>\n",
       "      <td>6.0</td>\n",
       "      <td>38.0</td>\n",
       "      <td>0.0</td>\n",
       "      <td>0.009224</td>\n",
       "      <td>0.271799</td>\n",
       "      <td>-0.110686</td>\n",
       "    </tr>\n",
       "    <tr>\n",
       "      <th>4</th>\n",
       "      <td>0.021487</td>\n",
       "      <td>8.0</td>\n",
       "      <td>0.980287</td>\n",
       "      <td>1.0</td>\n",
       "      <td>44.0</td>\n",
       "      <td>-0.124469</td>\n",
       "      <td>6.0</td>\n",
       "      <td>36.0</td>\n",
       "      <td>1.0</td>\n",
       "      <td>0.009224</td>\n",
       "      <td>-0.980270</td>\n",
       "      <td>-0.110686</td>\n",
       "    </tr>\n",
       "  </tbody>\n",
       "</table>\n",
       "</div>"
      ],
      "text/plain": [
       "         0    1         2    3      4         5    6     7    8         9   \\\n",
       "0 -0.054710  5.0 -0.584804  1.0  116.0  0.573252  6.0  38.0  0.0  0.009224   \n",
       "1 -0.307113  5.0  0.823778  1.0  173.0 -0.822190  6.0  38.0  0.0  0.009224   \n",
       "2 -0.054710  0.0 -0.584804  1.0  112.0  0.573252  6.0  10.0  0.0  0.009224   \n",
       "3 -0.235678  4.0 -0.271786  1.0  116.0 -0.124469  6.0  38.0  0.0  0.009224   \n",
       "4  0.021487  8.0  0.980287  1.0   44.0 -0.124469  6.0  36.0  1.0  0.009224   \n",
       "\n",
       "         10        11  \n",
       "0  0.584817  0.570123  \n",
       "1 -0.823761 -0.791494  \n",
       "2  0.584817  0.570123  \n",
       "3  0.271799 -0.110686  \n",
       "4 -0.980270 -0.110686  "
      ]
     },
     "execution_count": 52,
     "metadata": {},
     "output_type": "execute_result"
    }
   ],
   "source": [
    "pd.DataFrame(X_train).head()"
   ]
  },
  {
   "cell_type": "markdown",
   "metadata": {},
   "source": [
    "### Константная модель"
   ]
  },
  {
   "cell_type": "code",
   "execution_count": 53,
   "metadata": {},
   "outputs": [
    {
     "name": "stdout",
     "output_type": "stream",
     "text": [
      "Время обучения модели: 0.0009143352508544922 сек.\n"
     ]
    }
   ],
   "source": [
    "time_1 = time.time()\n",
    "dummy_regr = DummyRegressor(strategy=\"mean\")\n",
    "dummy_regr.fit(X_train, y_train)\n",
    "time_2 = time.time()\n",
    "time_edu = time_2 - time_1\n",
    "print('Время обучения модели:', time_edu, 'сек.')"
   ]
  },
  {
   "cell_type": "code",
   "execution_count": 54,
   "metadata": {},
   "outputs": [
    {
     "name": "stdout",
     "output_type": "stream",
     "text": [
      "Время обучения модели: 0.0 сек.\n"
     ]
    },
    {
     "data": {
      "text/plain": [
       "3646.0543535347747"
      ]
     },
     "execution_count": 54,
     "metadata": {},
     "output_type": "execute_result"
    }
   ],
   "source": [
    "time_1 = time.time()\n",
    "dummy_pred = dummy_regr.predict(X_train)\n",
    "time_2 = time.time()\n",
    "time_pred = time_1 - time_1\n",
    "print('Время обучения модели:', time_pred, 'сек.')\n",
    "mean_squared_error(dummy_pred, y_train)**0.5"
   ]
  },
  {
   "cell_type": "code",
   "execution_count": 55,
   "metadata": {},
   "outputs": [
    {
     "data": {
      "text/plain": [
       "3646.0543535347747"
      ]
     },
     "execution_count": 55,
     "metadata": {},
     "output_type": "execute_result"
    }
   ],
   "source": [
    "rmse(y_train, dummy_pred)"
   ]
  },
  {
   "cell_type": "code",
   "execution_count": 56,
   "metadata": {},
   "outputs": [
    {
     "data": {
      "text/html": [
       "<div>\n",
       "<style scoped>\n",
       "    .dataframe tbody tr th:only-of-type {\n",
       "        vertical-align: middle;\n",
       "    }\n",
       "\n",
       "    .dataframe tbody tr th {\n",
       "        vertical-align: top;\n",
       "    }\n",
       "\n",
       "    .dataframe thead th {\n",
       "        text-align: right;\n",
       "    }\n",
       "</style>\n",
       "<table border=\"1\" class=\"dataframe\">\n",
       "  <thead>\n",
       "    <tr style=\"text-align: right;\">\n",
       "      <th></th>\n",
       "      <th>Constant</th>\n",
       "    </tr>\n",
       "  </thead>\n",
       "  <tbody>\n",
       "    <tr>\n",
       "      <th>Education</th>\n",
       "      <td>0.000914</td>\n",
       "    </tr>\n",
       "    <tr>\n",
       "      <th>Prediction</th>\n",
       "      <td>0.000000</td>\n",
       "    </tr>\n",
       "    <tr>\n",
       "      <th>RMSE</th>\n",
       "      <td>3646.054354</td>\n",
       "    </tr>\n",
       "  </tbody>\n",
       "</table>\n",
       "</div>"
      ],
      "text/plain": [
       "               Constant\n",
       "Education      0.000914\n",
       "Prediction     0.000000\n",
       "RMSE        3646.054354"
      ]
     },
     "execution_count": 56,
     "metadata": {},
     "output_type": "execute_result"
    }
   ],
   "source": [
    "result_table = pd.DataFrame([time_edu, time_pred, rmse(y_train, dummy_pred)], columns=['Constant'],\n",
    "                           index=['Education', 'Prediction', 'RMSE'])\n",
    "result_table"
   ]
  },
  {
   "cell_type": "markdown",
   "metadata": {},
   "source": [
    "Константная модель ошибается на 3629 евро, что является первым порогом при прохождении теста на качество модели не считая условия задачи в 2500 RMSE."
   ]
  },
  {
   "cell_type": "markdown",
   "metadata": {},
   "source": [
    "### GradientBoostingRegressor"
   ]
  },
  {
   "cell_type": "code",
   "execution_count": 57,
   "metadata": {},
   "outputs": [],
   "source": [
    "gbr = GradientBoostingRegressor(random_state=12345)"
   ]
  },
  {
   "cell_type": "code",
   "execution_count": 58,
   "metadata": {},
   "outputs": [
    {
     "data": {
      "text/plain": [
       "dict_keys(['alpha', 'ccp_alpha', 'criterion', 'init', 'learning_rate', 'loss', 'max_depth', 'max_features', 'max_leaf_nodes', 'min_impurity_decrease', 'min_impurity_split', 'min_samples_leaf', 'min_samples_split', 'min_weight_fraction_leaf', 'n_estimators', 'n_iter_no_change', 'random_state', 'subsample', 'tol', 'validation_fraction', 'verbose', 'warm_start'])"
      ]
     },
     "execution_count": 58,
     "metadata": {},
     "output_type": "execute_result"
    }
   ],
   "source": [
    "gbr.get_params().keys()"
   ]
  },
  {
   "cell_type": "code",
   "execution_count": 59,
   "metadata": {},
   "outputs": [],
   "source": [
    "gbr_params = {}\n",
    "gbr_params['n_estimators'] = [i for i in np.arange(300, 400, 10)]\n",
    "gbr_params['max_depth'] = [i for i in np.arange(4, 8)]\n",
    "gbr_params['min_samples_split'] = [i for i in np.arange(6, 12, 2)]\n",
    "gbr_params['max_features'] = ['auto', 'sqrt', 'log2']"
   ]
  },
  {
   "cell_type": "code",
   "execution_count": 60,
   "metadata": {},
   "outputs": [],
   "source": [
    "gbr_random = RandomizedSearchCV(gbr, gbr_params, n_iter=10, cv=3, verbose=2,\n",
    "                                  random_state=12345, scoring=rmse_scorer, n_jobs=-1)"
   ]
  },
  {
   "cell_type": "code",
   "execution_count": 61,
   "metadata": {},
   "outputs": [
    {
     "name": "stdout",
     "output_type": "stream",
     "text": [
      "Fitting 3 folds for each of 10 candidates, totalling 30 fits\n",
      "[CV] END max_depth=4, max_features=sqrt, min_samples_split=6, n_estimators=380; total time=  21.0s\n",
      "[CV] END max_depth=4, max_features=sqrt, min_samples_split=6, n_estimators=380; total time=  21.7s\n",
      "[CV] END max_depth=4, max_features=sqrt, min_samples_split=6, n_estimators=380; total time=  23.5s\n",
      "[CV] END max_depth=6, max_features=log2, min_samples_split=6, n_estimators=330; total time=  30.3s\n"
     ]
    },
    {
     "ename": "KeyboardInterrupt",
     "evalue": "",
     "output_type": "error",
     "traceback": [
      "\u001b[0;31m---------------------------------------------------------------------------\u001b[0m",
      "\u001b[0;31mKeyboardInterrupt\u001b[0m                         Traceback (most recent call last)",
      "\u001b[0;32m<timed eval>\u001b[0m in \u001b[0;36m<module>\u001b[0;34m\u001b[0m\n",
      "\u001b[0;32m/opt/conda/lib/python3.9/site-packages/sklearn/utils/validation.py\u001b[0m in \u001b[0;36minner_f\u001b[0;34m(*args, **kwargs)\u001b[0m\n\u001b[1;32m     61\u001b[0m             \u001b[0mextra_args\u001b[0m \u001b[0;34m=\u001b[0m \u001b[0mlen\u001b[0m\u001b[0;34m(\u001b[0m\u001b[0margs\u001b[0m\u001b[0;34m)\u001b[0m \u001b[0;34m-\u001b[0m \u001b[0mlen\u001b[0m\u001b[0;34m(\u001b[0m\u001b[0mall_args\u001b[0m\u001b[0;34m)\u001b[0m\u001b[0;34m\u001b[0m\u001b[0;34m\u001b[0m\u001b[0m\n\u001b[1;32m     62\u001b[0m             \u001b[0;32mif\u001b[0m \u001b[0mextra_args\u001b[0m \u001b[0;34m<=\u001b[0m \u001b[0;36m0\u001b[0m\u001b[0;34m:\u001b[0m\u001b[0;34m\u001b[0m\u001b[0;34m\u001b[0m\u001b[0m\n\u001b[0;32m---> 63\u001b[0;31m                 \u001b[0;32mreturn\u001b[0m \u001b[0mf\u001b[0m\u001b[0;34m(\u001b[0m\u001b[0;34m*\u001b[0m\u001b[0margs\u001b[0m\u001b[0;34m,\u001b[0m \u001b[0;34m**\u001b[0m\u001b[0mkwargs\u001b[0m\u001b[0;34m)\u001b[0m\u001b[0;34m\u001b[0m\u001b[0;34m\u001b[0m\u001b[0m\n\u001b[0m\u001b[1;32m     64\u001b[0m \u001b[0;34m\u001b[0m\u001b[0m\n\u001b[1;32m     65\u001b[0m             \u001b[0;31m# extra_args > 0\u001b[0m\u001b[0;34m\u001b[0m\u001b[0;34m\u001b[0m\u001b[0;34m\u001b[0m\u001b[0m\n",
      "\u001b[0;32m/opt/conda/lib/python3.9/site-packages/sklearn/model_selection/_search.py\u001b[0m in \u001b[0;36mfit\u001b[0;34m(self, X, y, groups, **fit_params)\u001b[0m\n\u001b[1;32m    839\u001b[0m                 \u001b[0;32mreturn\u001b[0m \u001b[0mresults\u001b[0m\u001b[0;34m\u001b[0m\u001b[0;34m\u001b[0m\u001b[0m\n\u001b[1;32m    840\u001b[0m \u001b[0;34m\u001b[0m\u001b[0m\n\u001b[0;32m--> 841\u001b[0;31m             \u001b[0mself\u001b[0m\u001b[0;34m.\u001b[0m\u001b[0m_run_search\u001b[0m\u001b[0;34m(\u001b[0m\u001b[0mevaluate_candidates\u001b[0m\u001b[0;34m)\u001b[0m\u001b[0;34m\u001b[0m\u001b[0;34m\u001b[0m\u001b[0m\n\u001b[0m\u001b[1;32m    842\u001b[0m \u001b[0;34m\u001b[0m\u001b[0m\n\u001b[1;32m    843\u001b[0m             \u001b[0;31m# multimetric is determined here because in the case of a callable\u001b[0m\u001b[0;34m\u001b[0m\u001b[0;34m\u001b[0m\u001b[0;34m\u001b[0m\u001b[0m\n",
      "\u001b[0;32m/opt/conda/lib/python3.9/site-packages/sklearn/model_selection/_search.py\u001b[0m in \u001b[0;36m_run_search\u001b[0;34m(self, evaluate_candidates)\u001b[0m\n\u001b[1;32m   1617\u001b[0m     \u001b[0;32mdef\u001b[0m \u001b[0m_run_search\u001b[0m\u001b[0;34m(\u001b[0m\u001b[0mself\u001b[0m\u001b[0;34m,\u001b[0m \u001b[0mevaluate_candidates\u001b[0m\u001b[0;34m)\u001b[0m\u001b[0;34m:\u001b[0m\u001b[0;34m\u001b[0m\u001b[0;34m\u001b[0m\u001b[0m\n\u001b[1;32m   1618\u001b[0m         \u001b[0;34m\"\"\"Search n_iter candidates from param_distributions\"\"\"\u001b[0m\u001b[0;34m\u001b[0m\u001b[0;34m\u001b[0m\u001b[0m\n\u001b[0;32m-> 1619\u001b[0;31m         evaluate_candidates(ParameterSampler(\n\u001b[0m\u001b[1;32m   1620\u001b[0m             \u001b[0mself\u001b[0m\u001b[0;34m.\u001b[0m\u001b[0mparam_distributions\u001b[0m\u001b[0;34m,\u001b[0m \u001b[0mself\u001b[0m\u001b[0;34m.\u001b[0m\u001b[0mn_iter\u001b[0m\u001b[0;34m,\u001b[0m\u001b[0;34m\u001b[0m\u001b[0;34m\u001b[0m\u001b[0m\n\u001b[1;32m   1621\u001b[0m             random_state=self.random_state))\n",
      "\u001b[0;32m/opt/conda/lib/python3.9/site-packages/sklearn/model_selection/_search.py\u001b[0m in \u001b[0;36mevaluate_candidates\u001b[0;34m(candidate_params, cv, more_results)\u001b[0m\n\u001b[1;32m    793\u001b[0m                               n_splits, n_candidates, n_candidates * n_splits))\n\u001b[1;32m    794\u001b[0m \u001b[0;34m\u001b[0m\u001b[0m\n\u001b[0;32m--> 795\u001b[0;31m                 out = parallel(delayed(_fit_and_score)(clone(base_estimator),\n\u001b[0m\u001b[1;32m    796\u001b[0m                                                        \u001b[0mX\u001b[0m\u001b[0;34m,\u001b[0m \u001b[0my\u001b[0m\u001b[0;34m,\u001b[0m\u001b[0;34m\u001b[0m\u001b[0;34m\u001b[0m\u001b[0m\n\u001b[1;32m    797\u001b[0m                                                        \u001b[0mtrain\u001b[0m\u001b[0;34m=\u001b[0m\u001b[0mtrain\u001b[0m\u001b[0;34m,\u001b[0m \u001b[0mtest\u001b[0m\u001b[0;34m=\u001b[0m\u001b[0mtest\u001b[0m\u001b[0;34m,\u001b[0m\u001b[0;34m\u001b[0m\u001b[0;34m\u001b[0m\u001b[0m\n",
      "\u001b[0;32m/opt/conda/lib/python3.9/site-packages/joblib/parallel.py\u001b[0m in \u001b[0;36m__call__\u001b[0;34m(self, iterable)\u001b[0m\n\u001b[1;32m   1044\u001b[0m                 \u001b[0mself\u001b[0m\u001b[0;34m.\u001b[0m\u001b[0m_iterating\u001b[0m \u001b[0;34m=\u001b[0m \u001b[0mself\u001b[0m\u001b[0;34m.\u001b[0m\u001b[0m_original_iterator\u001b[0m \u001b[0;32mis\u001b[0m \u001b[0;32mnot\u001b[0m \u001b[0;32mNone\u001b[0m\u001b[0;34m\u001b[0m\u001b[0;34m\u001b[0m\u001b[0m\n\u001b[1;32m   1045\u001b[0m \u001b[0;34m\u001b[0m\u001b[0m\n\u001b[0;32m-> 1046\u001b[0;31m             \u001b[0;32mwhile\u001b[0m \u001b[0mself\u001b[0m\u001b[0;34m.\u001b[0m\u001b[0mdispatch_one_batch\u001b[0m\u001b[0;34m(\u001b[0m\u001b[0miterator\u001b[0m\u001b[0;34m)\u001b[0m\u001b[0;34m:\u001b[0m\u001b[0;34m\u001b[0m\u001b[0;34m\u001b[0m\u001b[0m\n\u001b[0m\u001b[1;32m   1047\u001b[0m                 \u001b[0;32mpass\u001b[0m\u001b[0;34m\u001b[0m\u001b[0;34m\u001b[0m\u001b[0m\n\u001b[1;32m   1048\u001b[0m \u001b[0;34m\u001b[0m\u001b[0m\n",
      "\u001b[0;32m/opt/conda/lib/python3.9/site-packages/joblib/parallel.py\u001b[0m in \u001b[0;36mdispatch_one_batch\u001b[0;34m(self, iterator)\u001b[0m\n\u001b[1;32m    859\u001b[0m                 \u001b[0;32mreturn\u001b[0m \u001b[0;32mFalse\u001b[0m\u001b[0;34m\u001b[0m\u001b[0;34m\u001b[0m\u001b[0m\n\u001b[1;32m    860\u001b[0m             \u001b[0;32melse\u001b[0m\u001b[0;34m:\u001b[0m\u001b[0;34m\u001b[0m\u001b[0;34m\u001b[0m\u001b[0m\n\u001b[0;32m--> 861\u001b[0;31m                 \u001b[0mself\u001b[0m\u001b[0;34m.\u001b[0m\u001b[0m_dispatch\u001b[0m\u001b[0;34m(\u001b[0m\u001b[0mtasks\u001b[0m\u001b[0;34m)\u001b[0m\u001b[0;34m\u001b[0m\u001b[0;34m\u001b[0m\u001b[0m\n\u001b[0m\u001b[1;32m    862\u001b[0m                 \u001b[0;32mreturn\u001b[0m \u001b[0;32mTrue\u001b[0m\u001b[0;34m\u001b[0m\u001b[0;34m\u001b[0m\u001b[0m\n\u001b[1;32m    863\u001b[0m \u001b[0;34m\u001b[0m\u001b[0m\n",
      "\u001b[0;32m/opt/conda/lib/python3.9/site-packages/joblib/parallel.py\u001b[0m in \u001b[0;36m_dispatch\u001b[0;34m(self, batch)\u001b[0m\n\u001b[1;32m    777\u001b[0m         \u001b[0;32mwith\u001b[0m \u001b[0mself\u001b[0m\u001b[0;34m.\u001b[0m\u001b[0m_lock\u001b[0m\u001b[0;34m:\u001b[0m\u001b[0;34m\u001b[0m\u001b[0;34m\u001b[0m\u001b[0m\n\u001b[1;32m    778\u001b[0m             \u001b[0mjob_idx\u001b[0m \u001b[0;34m=\u001b[0m \u001b[0mlen\u001b[0m\u001b[0;34m(\u001b[0m\u001b[0mself\u001b[0m\u001b[0;34m.\u001b[0m\u001b[0m_jobs\u001b[0m\u001b[0;34m)\u001b[0m\u001b[0;34m\u001b[0m\u001b[0;34m\u001b[0m\u001b[0m\n\u001b[0;32m--> 779\u001b[0;31m             \u001b[0mjob\u001b[0m \u001b[0;34m=\u001b[0m \u001b[0mself\u001b[0m\u001b[0;34m.\u001b[0m\u001b[0m_backend\u001b[0m\u001b[0;34m.\u001b[0m\u001b[0mapply_async\u001b[0m\u001b[0;34m(\u001b[0m\u001b[0mbatch\u001b[0m\u001b[0;34m,\u001b[0m \u001b[0mcallback\u001b[0m\u001b[0;34m=\u001b[0m\u001b[0mcb\u001b[0m\u001b[0;34m)\u001b[0m\u001b[0;34m\u001b[0m\u001b[0;34m\u001b[0m\u001b[0m\n\u001b[0m\u001b[1;32m    780\u001b[0m             \u001b[0;31m# A job can complete so quickly than its callback is\u001b[0m\u001b[0;34m\u001b[0m\u001b[0;34m\u001b[0m\u001b[0;34m\u001b[0m\u001b[0m\n\u001b[1;32m    781\u001b[0m             \u001b[0;31m# called before we get here, causing self._jobs to\u001b[0m\u001b[0;34m\u001b[0m\u001b[0;34m\u001b[0m\u001b[0;34m\u001b[0m\u001b[0m\n",
      "\u001b[0;32m/opt/conda/lib/python3.9/site-packages/joblib/_parallel_backends.py\u001b[0m in \u001b[0;36mapply_async\u001b[0;34m(self, func, callback)\u001b[0m\n\u001b[1;32m    206\u001b[0m     \u001b[0;32mdef\u001b[0m \u001b[0mapply_async\u001b[0m\u001b[0;34m(\u001b[0m\u001b[0mself\u001b[0m\u001b[0;34m,\u001b[0m \u001b[0mfunc\u001b[0m\u001b[0;34m,\u001b[0m \u001b[0mcallback\u001b[0m\u001b[0;34m=\u001b[0m\u001b[0;32mNone\u001b[0m\u001b[0;34m)\u001b[0m\u001b[0;34m:\u001b[0m\u001b[0;34m\u001b[0m\u001b[0;34m\u001b[0m\u001b[0m\n\u001b[1;32m    207\u001b[0m         \u001b[0;34m\"\"\"Schedule a func to be run\"\"\"\u001b[0m\u001b[0;34m\u001b[0m\u001b[0;34m\u001b[0m\u001b[0m\n\u001b[0;32m--> 208\u001b[0;31m         \u001b[0mresult\u001b[0m \u001b[0;34m=\u001b[0m \u001b[0mImmediateResult\u001b[0m\u001b[0;34m(\u001b[0m\u001b[0mfunc\u001b[0m\u001b[0;34m)\u001b[0m\u001b[0;34m\u001b[0m\u001b[0;34m\u001b[0m\u001b[0m\n\u001b[0m\u001b[1;32m    209\u001b[0m         \u001b[0;32mif\u001b[0m \u001b[0mcallback\u001b[0m\u001b[0;34m:\u001b[0m\u001b[0;34m\u001b[0m\u001b[0;34m\u001b[0m\u001b[0m\n\u001b[1;32m    210\u001b[0m             \u001b[0mcallback\u001b[0m\u001b[0;34m(\u001b[0m\u001b[0mresult\u001b[0m\u001b[0;34m)\u001b[0m\u001b[0;34m\u001b[0m\u001b[0;34m\u001b[0m\u001b[0m\n",
      "\u001b[0;32m/opt/conda/lib/python3.9/site-packages/joblib/_parallel_backends.py\u001b[0m in \u001b[0;36m__init__\u001b[0;34m(self, batch)\u001b[0m\n\u001b[1;32m    570\u001b[0m         \u001b[0;31m# Don't delay the application, to avoid keeping the input\u001b[0m\u001b[0;34m\u001b[0m\u001b[0;34m\u001b[0m\u001b[0;34m\u001b[0m\u001b[0m\n\u001b[1;32m    571\u001b[0m         \u001b[0;31m# arguments in memory\u001b[0m\u001b[0;34m\u001b[0m\u001b[0;34m\u001b[0m\u001b[0;34m\u001b[0m\u001b[0m\n\u001b[0;32m--> 572\u001b[0;31m         \u001b[0mself\u001b[0m\u001b[0;34m.\u001b[0m\u001b[0mresults\u001b[0m \u001b[0;34m=\u001b[0m \u001b[0mbatch\u001b[0m\u001b[0;34m(\u001b[0m\u001b[0;34m)\u001b[0m\u001b[0;34m\u001b[0m\u001b[0;34m\u001b[0m\u001b[0m\n\u001b[0m\u001b[1;32m    573\u001b[0m \u001b[0;34m\u001b[0m\u001b[0m\n\u001b[1;32m    574\u001b[0m     \u001b[0;32mdef\u001b[0m \u001b[0mget\u001b[0m\u001b[0;34m(\u001b[0m\u001b[0mself\u001b[0m\u001b[0;34m)\u001b[0m\u001b[0;34m:\u001b[0m\u001b[0;34m\u001b[0m\u001b[0;34m\u001b[0m\u001b[0m\n",
      "\u001b[0;32m/opt/conda/lib/python3.9/site-packages/joblib/parallel.py\u001b[0m in \u001b[0;36m__call__\u001b[0;34m(self)\u001b[0m\n\u001b[1;32m    260\u001b[0m         \u001b[0;31m# change the default number of processes to -1\u001b[0m\u001b[0;34m\u001b[0m\u001b[0;34m\u001b[0m\u001b[0;34m\u001b[0m\u001b[0m\n\u001b[1;32m    261\u001b[0m         \u001b[0;32mwith\u001b[0m \u001b[0mparallel_backend\u001b[0m\u001b[0;34m(\u001b[0m\u001b[0mself\u001b[0m\u001b[0;34m.\u001b[0m\u001b[0m_backend\u001b[0m\u001b[0;34m,\u001b[0m \u001b[0mn_jobs\u001b[0m\u001b[0;34m=\u001b[0m\u001b[0mself\u001b[0m\u001b[0;34m.\u001b[0m\u001b[0m_n_jobs\u001b[0m\u001b[0;34m)\u001b[0m\u001b[0;34m:\u001b[0m\u001b[0;34m\u001b[0m\u001b[0;34m\u001b[0m\u001b[0m\n\u001b[0;32m--> 262\u001b[0;31m             return [func(*args, **kwargs)\n\u001b[0m\u001b[1;32m    263\u001b[0m                     for func, args, kwargs in self.items]\n\u001b[1;32m    264\u001b[0m \u001b[0;34m\u001b[0m\u001b[0m\n",
      "\u001b[0;32m/opt/conda/lib/python3.9/site-packages/joblib/parallel.py\u001b[0m in \u001b[0;36m<listcomp>\u001b[0;34m(.0)\u001b[0m\n\u001b[1;32m    260\u001b[0m         \u001b[0;31m# change the default number of processes to -1\u001b[0m\u001b[0;34m\u001b[0m\u001b[0;34m\u001b[0m\u001b[0;34m\u001b[0m\u001b[0m\n\u001b[1;32m    261\u001b[0m         \u001b[0;32mwith\u001b[0m \u001b[0mparallel_backend\u001b[0m\u001b[0;34m(\u001b[0m\u001b[0mself\u001b[0m\u001b[0;34m.\u001b[0m\u001b[0m_backend\u001b[0m\u001b[0;34m,\u001b[0m \u001b[0mn_jobs\u001b[0m\u001b[0;34m=\u001b[0m\u001b[0mself\u001b[0m\u001b[0;34m.\u001b[0m\u001b[0m_n_jobs\u001b[0m\u001b[0;34m)\u001b[0m\u001b[0;34m:\u001b[0m\u001b[0;34m\u001b[0m\u001b[0;34m\u001b[0m\u001b[0m\n\u001b[0;32m--> 262\u001b[0;31m             return [func(*args, **kwargs)\n\u001b[0m\u001b[1;32m    263\u001b[0m                     for func, args, kwargs in self.items]\n\u001b[1;32m    264\u001b[0m \u001b[0;34m\u001b[0m\u001b[0m\n",
      "\u001b[0;32m/opt/conda/lib/python3.9/site-packages/sklearn/utils/fixes.py\u001b[0m in \u001b[0;36m__call__\u001b[0;34m(self, *args, **kwargs)\u001b[0m\n\u001b[1;32m    220\u001b[0m     \u001b[0;32mdef\u001b[0m \u001b[0m__call__\u001b[0m\u001b[0;34m(\u001b[0m\u001b[0mself\u001b[0m\u001b[0;34m,\u001b[0m \u001b[0;34m*\u001b[0m\u001b[0margs\u001b[0m\u001b[0;34m,\u001b[0m \u001b[0;34m**\u001b[0m\u001b[0mkwargs\u001b[0m\u001b[0;34m)\u001b[0m\u001b[0;34m:\u001b[0m\u001b[0;34m\u001b[0m\u001b[0;34m\u001b[0m\u001b[0m\n\u001b[1;32m    221\u001b[0m         \u001b[0;32mwith\u001b[0m \u001b[0mconfig_context\u001b[0m\u001b[0;34m(\u001b[0m\u001b[0;34m**\u001b[0m\u001b[0mself\u001b[0m\u001b[0;34m.\u001b[0m\u001b[0mconfig\u001b[0m\u001b[0;34m)\u001b[0m\u001b[0;34m:\u001b[0m\u001b[0;34m\u001b[0m\u001b[0;34m\u001b[0m\u001b[0m\n\u001b[0;32m--> 222\u001b[0;31m             \u001b[0;32mreturn\u001b[0m \u001b[0mself\u001b[0m\u001b[0;34m.\u001b[0m\u001b[0mfunction\u001b[0m\u001b[0;34m(\u001b[0m\u001b[0;34m*\u001b[0m\u001b[0margs\u001b[0m\u001b[0;34m,\u001b[0m \u001b[0;34m**\u001b[0m\u001b[0mkwargs\u001b[0m\u001b[0;34m)\u001b[0m\u001b[0;34m\u001b[0m\u001b[0;34m\u001b[0m\u001b[0m\n\u001b[0m",
      "\u001b[0;32m/opt/conda/lib/python3.9/site-packages/sklearn/model_selection/_validation.py\u001b[0m in \u001b[0;36m_fit_and_score\u001b[0;34m(estimator, X, y, scorer, train, test, verbose, parameters, fit_params, return_train_score, return_parameters, return_n_test_samples, return_times, return_estimator, split_progress, candidate_progress, error_score)\u001b[0m\n\u001b[1;32m    591\u001b[0m             \u001b[0mestimator\u001b[0m\u001b[0;34m.\u001b[0m\u001b[0mfit\u001b[0m\u001b[0;34m(\u001b[0m\u001b[0mX_train\u001b[0m\u001b[0;34m,\u001b[0m \u001b[0;34m**\u001b[0m\u001b[0mfit_params\u001b[0m\u001b[0;34m)\u001b[0m\u001b[0;34m\u001b[0m\u001b[0;34m\u001b[0m\u001b[0m\n\u001b[1;32m    592\u001b[0m         \u001b[0;32melse\u001b[0m\u001b[0;34m:\u001b[0m\u001b[0;34m\u001b[0m\u001b[0;34m\u001b[0m\u001b[0m\n\u001b[0;32m--> 593\u001b[0;31m             \u001b[0mestimator\u001b[0m\u001b[0;34m.\u001b[0m\u001b[0mfit\u001b[0m\u001b[0;34m(\u001b[0m\u001b[0mX_train\u001b[0m\u001b[0;34m,\u001b[0m \u001b[0my_train\u001b[0m\u001b[0;34m,\u001b[0m \u001b[0;34m**\u001b[0m\u001b[0mfit_params\u001b[0m\u001b[0;34m)\u001b[0m\u001b[0;34m\u001b[0m\u001b[0;34m\u001b[0m\u001b[0m\n\u001b[0m\u001b[1;32m    594\u001b[0m \u001b[0;34m\u001b[0m\u001b[0m\n\u001b[1;32m    595\u001b[0m     \u001b[0;32mexcept\u001b[0m \u001b[0mException\u001b[0m \u001b[0;32mas\u001b[0m \u001b[0me\u001b[0m\u001b[0;34m:\u001b[0m\u001b[0;34m\u001b[0m\u001b[0;34m\u001b[0m\u001b[0m\n",
      "\u001b[0;32m/opt/conda/lib/python3.9/site-packages/sklearn/ensemble/_gb.py\u001b[0m in \u001b[0;36mfit\u001b[0;34m(self, X, y, sample_weight, monitor)\u001b[0m\n\u001b[1;32m    502\u001b[0m \u001b[0;34m\u001b[0m\u001b[0m\n\u001b[1;32m    503\u001b[0m         \u001b[0;31m# fit the boosting stages\u001b[0m\u001b[0;34m\u001b[0m\u001b[0;34m\u001b[0m\u001b[0;34m\u001b[0m\u001b[0m\n\u001b[0;32m--> 504\u001b[0;31m         n_stages = self._fit_stages(\n\u001b[0m\u001b[1;32m    505\u001b[0m             \u001b[0mX\u001b[0m\u001b[0;34m,\u001b[0m \u001b[0my\u001b[0m\u001b[0;34m,\u001b[0m \u001b[0mraw_predictions\u001b[0m\u001b[0;34m,\u001b[0m \u001b[0msample_weight\u001b[0m\u001b[0;34m,\u001b[0m \u001b[0mself\u001b[0m\u001b[0;34m.\u001b[0m\u001b[0m_rng\u001b[0m\u001b[0;34m,\u001b[0m \u001b[0mX_val\u001b[0m\u001b[0;34m,\u001b[0m \u001b[0my_val\u001b[0m\u001b[0;34m,\u001b[0m\u001b[0;34m\u001b[0m\u001b[0;34m\u001b[0m\u001b[0m\n\u001b[1;32m    506\u001b[0m             sample_weight_val, begin_at_stage, monitor)\n",
      "\u001b[0;32m/opt/conda/lib/python3.9/site-packages/sklearn/ensemble/_gb.py\u001b[0m in \u001b[0;36m_fit_stages\u001b[0;34m(self, X, y, raw_predictions, sample_weight, random_state, X_val, y_val, sample_weight_val, begin_at_stage, monitor)\u001b[0m\n\u001b[1;32m    559\u001b[0m \u001b[0;34m\u001b[0m\u001b[0m\n\u001b[1;32m    560\u001b[0m             \u001b[0;31m# fit next stage of trees\u001b[0m\u001b[0;34m\u001b[0m\u001b[0;34m\u001b[0m\u001b[0;34m\u001b[0m\u001b[0m\n\u001b[0;32m--> 561\u001b[0;31m             raw_predictions = self._fit_stage(\n\u001b[0m\u001b[1;32m    562\u001b[0m                 \u001b[0mi\u001b[0m\u001b[0;34m,\u001b[0m \u001b[0mX\u001b[0m\u001b[0;34m,\u001b[0m \u001b[0my\u001b[0m\u001b[0;34m,\u001b[0m \u001b[0mraw_predictions\u001b[0m\u001b[0;34m,\u001b[0m \u001b[0msample_weight\u001b[0m\u001b[0;34m,\u001b[0m \u001b[0msample_mask\u001b[0m\u001b[0;34m,\u001b[0m\u001b[0;34m\u001b[0m\u001b[0;34m\u001b[0m\u001b[0m\n\u001b[1;32m    563\u001b[0m                 random_state, X_csc, X_csr)\n",
      "\u001b[0;32m/opt/conda/lib/python3.9/site-packages/sklearn/ensemble/_gb.py\u001b[0m in \u001b[0;36m_fit_stage\u001b[0;34m(self, i, X, y, raw_predictions, sample_weight, sample_mask, random_state, X_csc, X_csr)\u001b[0m\n\u001b[1;32m    212\u001b[0m \u001b[0;34m\u001b[0m\u001b[0m\n\u001b[1;32m    213\u001b[0m             \u001b[0mX\u001b[0m \u001b[0;34m=\u001b[0m \u001b[0mX_csr\u001b[0m \u001b[0;32mif\u001b[0m \u001b[0mX_csr\u001b[0m \u001b[0;32mis\u001b[0m \u001b[0;32mnot\u001b[0m \u001b[0;32mNone\u001b[0m \u001b[0;32melse\u001b[0m \u001b[0mX\u001b[0m\u001b[0;34m\u001b[0m\u001b[0;34m\u001b[0m\u001b[0m\n\u001b[0;32m--> 214\u001b[0;31m             tree.fit(X, residual, sample_weight=sample_weight,\n\u001b[0m\u001b[1;32m    215\u001b[0m                      check_input=False)\n\u001b[1;32m    216\u001b[0m \u001b[0;34m\u001b[0m\u001b[0m\n",
      "\u001b[0;32m/opt/conda/lib/python3.9/site-packages/sklearn/tree/_classes.py\u001b[0m in \u001b[0;36mfit\u001b[0;34m(self, X, y, sample_weight, check_input, X_idx_sorted)\u001b[0m\n\u001b[1;32m   1245\u001b[0m         \"\"\"\n\u001b[1;32m   1246\u001b[0m \u001b[0;34m\u001b[0m\u001b[0m\n\u001b[0;32m-> 1247\u001b[0;31m         super().fit(\n\u001b[0m\u001b[1;32m   1248\u001b[0m             \u001b[0mX\u001b[0m\u001b[0;34m,\u001b[0m \u001b[0my\u001b[0m\u001b[0;34m,\u001b[0m\u001b[0;34m\u001b[0m\u001b[0;34m\u001b[0m\u001b[0m\n\u001b[1;32m   1249\u001b[0m             \u001b[0msample_weight\u001b[0m\u001b[0;34m=\u001b[0m\u001b[0msample_weight\u001b[0m\u001b[0;34m,\u001b[0m\u001b[0;34m\u001b[0m\u001b[0;34m\u001b[0m\u001b[0m\n",
      "\u001b[0;32m/opt/conda/lib/python3.9/site-packages/sklearn/tree/_classes.py\u001b[0m in \u001b[0;36mfit\u001b[0;34m(self, X, y, sample_weight, check_input, X_idx_sorted)\u001b[0m\n\u001b[1;32m    387\u001b[0m                                            min_impurity_split)\n\u001b[1;32m    388\u001b[0m \u001b[0;34m\u001b[0m\u001b[0m\n\u001b[0;32m--> 389\u001b[0;31m         \u001b[0mbuilder\u001b[0m\u001b[0;34m.\u001b[0m\u001b[0mbuild\u001b[0m\u001b[0;34m(\u001b[0m\u001b[0mself\u001b[0m\u001b[0;34m.\u001b[0m\u001b[0mtree_\u001b[0m\u001b[0;34m,\u001b[0m \u001b[0mX\u001b[0m\u001b[0;34m,\u001b[0m \u001b[0my\u001b[0m\u001b[0;34m,\u001b[0m \u001b[0msample_weight\u001b[0m\u001b[0;34m)\u001b[0m\u001b[0;34m\u001b[0m\u001b[0;34m\u001b[0m\u001b[0m\n\u001b[0m\u001b[1;32m    390\u001b[0m \u001b[0;34m\u001b[0m\u001b[0m\n\u001b[1;32m    391\u001b[0m         \u001b[0;32mif\u001b[0m \u001b[0mself\u001b[0m\u001b[0;34m.\u001b[0m\u001b[0mn_outputs_\u001b[0m \u001b[0;34m==\u001b[0m \u001b[0;36m1\u001b[0m \u001b[0;32mand\u001b[0m \u001b[0mis_classifier\u001b[0m\u001b[0;34m(\u001b[0m\u001b[0mself\u001b[0m\u001b[0;34m)\u001b[0m\u001b[0;34m:\u001b[0m\u001b[0;34m\u001b[0m\u001b[0;34m\u001b[0m\u001b[0m\n",
      "\u001b[0;31mKeyboardInterrupt\u001b[0m: "
     ]
    }
   ],
   "source": [
    "%%time\n",
    "gbr_random.fit(X_train, y_train)"
   ]
  },
  {
   "cell_type": "code",
   "execution_count": 62,
   "metadata": {},
   "outputs": [
    {
     "ename": "AttributeError",
     "evalue": "'RandomizedSearchCV' object has no attribute 'best_params_'",
     "output_type": "error",
     "traceback": [
      "\u001b[0;31m---------------------------------------------------------------------------\u001b[0m",
      "\u001b[0;31mAttributeError\u001b[0m                            Traceback (most recent call last)",
      "\u001b[0;32m/tmp/ipykernel_144/29361089.py\u001b[0m in \u001b[0;36m<module>\u001b[0;34m\u001b[0m\n\u001b[0;32m----> 1\u001b[0;31m \u001b[0mgbr_random\u001b[0m\u001b[0;34m.\u001b[0m\u001b[0mbest_params_\u001b[0m\u001b[0;34m\u001b[0m\u001b[0;34m\u001b[0m\u001b[0m\n\u001b[0m",
      "\u001b[0;31mAttributeError\u001b[0m: 'RandomizedSearchCV' object has no attribute 'best_params_'"
     ]
    }
   ],
   "source": [
    "gbr_random.best_params_"
   ]
  },
  {
   "cell_type": "markdown",
   "metadata": {},
   "source": [
    "Лучшие параметры модели следующие {'n_estimators': 340, 'min_samples_split': 10, 'max_depth': 6}"
   ]
  },
  {
   "cell_type": "code",
   "execution_count": null,
   "metadata": {},
   "outputs": [],
   "source": [
    "abs(gbr_random.best_score_)"
   ]
  },
  {
   "cell_type": "markdown",
   "metadata": {},
   "source": [
    "На основе найденных параметров подсчитаем время обучения и предсказания модели и качество."
   ]
  },
  {
   "cell_type": "code",
   "execution_count": null,
   "metadata": {},
   "outputs": [],
   "source": [
    "# Модель для быстрого запуска проекта с уже найденными параметрами\n",
    "time_1 = time.time()\n",
    "gbr = GradientBoostingRegressor(n_estimators=300, min_samples_split=6, max_depth=7, max_features='sqrt', random_state=12345)\n",
    "gbr.fit(X_train, y_train)\n",
    "time_2 = time.time()\n",
    "time_edu = time_2 - time_1\n",
    "print('Время обучения модели:', time_edu, 'сек.')"
   ]
  },
  {
   "cell_type": "code",
   "execution_count": null,
   "metadata": {},
   "outputs": [],
   "source": [
    "time_1 = time.time()\n",
    "gbr_pred = gbr.predict(X_train)\n",
    "time_2 = time.time()\n",
    "time_pred = time_2 - time_1\n",
    "print('Время предсказания модели:', time_pred, 'сек.')"
   ]
  },
  {
   "cell_type": "markdown",
   "metadata": {},
   "source": [
    "Проверим качество модели на тестовой выборке с помощью кросс валидации"
   ]
  },
  {
   "cell_type": "markdown",
   "metadata": {},
   "source": [
    "Сформируем таблицу, в которую будем сохранять результаты исследований"
   ]
  },
  {
   "cell_type": "code",
   "execution_count": null,
   "metadata": {},
   "outputs": [],
   "source": [
    "result_table['GradientBoosting'] = [time_edu, time_pred, abs(gbr_random.best_score_)]\n",
    "result_table"
   ]
  },
  {
   "cell_type": "markdown",
   "metadata": {},
   "source": [
    "Визуализируем предсказания модели"
   ]
  },
  {
   "cell_type": "code",
   "execution_count": null,
   "metadata": {},
   "outputs": [],
   "source": [
    "plt.figure(figsize=(12,7))\n",
    "plt.grid(True)\n",
    "plt.title('Визуализация предсказаний модели')\n",
    "plt.xlabel('Признак (Процент износа)')\n",
    "plt.ylabel('Целевой признак')\n",
    "\n",
    "sns.scatterplot(x=X_train_no_scaled['damage_percent'], y=y_train, color=\"black\",\n",
    "                alpha=0.05)\n",
    "sns.scatterplot(x=X_train_no_scaled['damage_percent'], y=gbr_pred, color=\"red\",\n",
    "                alpha=0.1)\n",
    "\n",
    "plt.show()\n"
   ]
  },
  {
   "cell_type": "markdown",
   "metadata": {},
   "source": [
    "По итогу, Градиентный бустинг показал отклонение в размере 433.51 RMSE, что преодоленвает порог в 2500."
   ]
  },
  {
   "cell_type": "markdown",
   "metadata": {},
   "source": [
    "2.0 По итогу, Градиентный бустинг показал отклонение в размере 1440 RMSE, что преодоленвает порог в 2500. "
   ]
  },
  {
   "cell_type": "markdown",
   "metadata": {},
   "source": [
    "### Случайный лес"
   ]
  },
  {
   "cell_type": "code",
   "execution_count": null,
   "metadata": {},
   "outputs": [],
   "source": [
    "forest = RandomForestRegressor(random_state=12345)"
   ]
  },
  {
   "cell_type": "code",
   "execution_count": null,
   "metadata": {},
   "outputs": [],
   "source": [
    "forest.get_params().keys()"
   ]
  },
  {
   "cell_type": "code",
   "execution_count": null,
   "metadata": {},
   "outputs": [],
   "source": [
    "distributions = {}\n",
    "distributions['n_estimators'] = [i for i in np.arange(150, 500, 15)]\n",
    "distributions['max_depth'] = [None] + [i for i in range(1, 10)]\n",
    "distributions['min_samples_split'] = [i for i in np.arange(4, 14, 2)]\n",
    "distributions['bootstrap'] = [True, False]"
   ]
  },
  {
   "cell_type": "code",
   "execution_count": null,
   "metadata": {},
   "outputs": [],
   "source": [
    "forest_random = RandomizedSearchCV(forest, distributions, n_iter=10, cv=3, verbose=2,\n",
    "                                  random_state=12345, scoring=rmse_scorer, n_jobs=-1)"
   ]
  },
  {
   "cell_type": "code",
   "execution_count": null,
   "metadata": {},
   "outputs": [],
   "source": [
    "%%time\n",
    "forest_random.fit(X_train, y_train)"
   ]
  },
  {
   "cell_type": "code",
   "execution_count": null,
   "metadata": {},
   "outputs": [],
   "source": [
    "forest_random.best_params_"
   ]
  },
  {
   "cell_type": "code",
   "execution_count": null,
   "metadata": {},
   "outputs": [],
   "source": [
    "abs(forest_random.best_score_)"
   ]
  },
  {
   "cell_type": "code",
   "execution_count": null,
   "metadata": {},
   "outputs": [],
   "source": [
    "# Модель для быстрого запуска проекта с уже найденными параметрами\n",
    "time_1 = time.time()\n",
    "forest = RandomForestRegressor(n_estimators=405, min_samples_split=4, max_depth=8, bootstrap=False, random_state=12345)\n",
    "forest.fit(X_train, y_train)\n",
    "time_2 = time.time()\n",
    "time_edu = time_2 - time_\n",
    "print('Время обучения модели:', time_edu, 'сек.')"
   ]
  },
  {
   "cell_type": "code",
   "execution_count": null,
   "metadata": {},
   "outputs": [],
   "source": [
    "time_1 = time.time()\n",
    "forest_pred = forest.predict(X_train)\n",
    "time_2 = time.time()\n",
    "time_pred = time_2 - time_1\n",
    "print('Время предсказания модели:', time_pred, 'сек.')"
   ]
  },
  {
   "cell_type": "code",
   "execution_count": null,
   "metadata": {},
   "outputs": [],
   "source": [
    "result_table['RandomForest'] = [time_edu, time_pred, abs(forest_random.best_score_)]\n",
    "result_table"
   ]
  },
  {
   "cell_type": "code",
   "execution_count": null,
   "metadata": {},
   "outputs": [],
   "source": [
    "plt.figure(figsize=(12,7))\n",
    "plt.grid(True)\n",
    "plt.title('Визуализация предсказаний модели')\n",
    "plt.xlabel('Признак (Процент износа)')\n",
    "plt.ylabel('Целевой признак')\n",
    "\n",
    "sns.scatterplot(x=X_train_no_scaled['damage_percent'], y=y_train, color=\"black\",\n",
    "                alpha=0.05)\n",
    "sns.scatterplot(x=X_train_no_scaled['damage_percent'], y=forest_pred, color=\"red\",\n",
    "                alpha=0.1)\n",
    "\n",
    "plt.show()"
   ]
  },
  {
   "cell_type": "markdown",
   "metadata": {},
   "source": [
    "Судя по диаграмме, модель Случайного леса менее вариативна при предсказании, разброс цены по отдельным классам гораздо уже, чем у градиентного бустинга, что отражает более низкий показатель RMSE."
   ]
  },
  {
   "cell_type": "markdown",
   "metadata": {},
   "source": [
    "Модель Случайного леса показала схожие результаты, однако при внедрении в приложение, пдедоставлять результат она будет дольше, чем градиентный бустинг."
   ]
  },
  {
   "cell_type": "markdown",
   "metadata": {},
   "source": [
    "### LightGBM"
   ]
  },
  {
   "cell_type": "code",
   "execution_count": null,
   "metadata": {},
   "outputs": [],
   "source": [
    "booster = LGBMModel(objective='regression', random_state=12345)\n",
    "distributions = {}\n",
    "distributions['n_estimators'] = [i for i in np.arange(150, 500, 15)]\n",
    "distributions['max_depth'] = [None] + [i for i in range(1, 10)]\n",
    "#distributions['boosting'] = ['gbdt', 'rf', 'dart', 'goss']\n",
    "distributions['max_bin'] = [32, 64, 128]"
   ]
  },
  {
   "cell_type": "code",
   "execution_count": null,
   "metadata": {},
   "outputs": [],
   "source": [
    "booster_random = RandomizedSearchCV(booster, distributions, n_iter=10, cv=3, verbose=2,\n",
    "                                  random_state=12345, scoring=rmse_scorer, n_jobs=-1)"
   ]
  },
  {
   "cell_type": "code",
   "execution_count": null,
   "metadata": {},
   "outputs": [],
   "source": [
    "%%time\n",
    "booster_random.fit(X_train, y_train)"
   ]
  },
  {
   "cell_type": "code",
   "execution_count": null,
   "metadata": {},
   "outputs": [],
   "source": [
    "booster_random.best_params_"
   ]
  },
  {
   "cell_type": "code",
   "execution_count": null,
   "metadata": {},
   "outputs": [],
   "source": [
    "-booster_random.best_score_"
   ]
  },
  {
   "cell_type": "code",
   "execution_count": null,
   "metadata": {},
   "outputs": [],
   "source": [
    "time_1 = time.time()\n",
    "booster = LGBMModel(objective='regression', n_estimators=480, max_depth=9, max_bin=32)\n",
    "booster.fit(X_train, y_train)\n",
    "time_2 = time.time()\n",
    "time_edu = time_2 - time_1\n",
    "print('Время обучения модели:', time_edu, 'сек.')"
   ]
  },
  {
   "cell_type": "code",
   "execution_count": null,
   "metadata": {},
   "outputs": [],
   "source": [
    "time_1 = time.time()\n",
    "booster_pred = booster.predict(X_train)\n",
    "time_2 = time.time()\n",
    "time_pred = time_2 - time_1\n",
    "print('Время предсказания модели:', time_pred, 'сек.')"
   ]
  },
  {
   "cell_type": "code",
   "execution_count": null,
   "metadata": {},
   "outputs": [],
   "source": [
    "plt.figure(figsize=(12,7))\n",
    "plt.grid(True)\n",
    "plt.title('Визуализация предсказаний модели')\n",
    "plt.xlabel('Признак (Процент износа)')\n",
    "plt.ylabel('Целевой признак')\n",
    "\n",
    "sns.scatterplot(x=X_train_no_scaled['damage_percent'], y=y_train, color=\"black\",\n",
    "                alpha=0.05)\n",
    "sns.scatterplot(x=X_train_no_scaled['damage_percent'], y=gbr_pred, color=\"blue\",\n",
    "                alpha=1)\n",
    "sns.scatterplot(x=X_train_no_scaled['damage_percent'], y=booster_pred, color=\"red\",\n",
    "                alpha=0.5)\n",
    "\n",
    "plt.show()"
   ]
  },
  {
   "cell_type": "markdown",
   "metadata": {},
   "source": [
    "Модель LightGBM не сильно отличается от градиентного бустинга, однако работает гораздо быстрее."
   ]
  },
  {
   "cell_type": "code",
   "execution_count": null,
   "metadata": {},
   "outputs": [],
   "source": [
    "result_table['LightGBM'] = [time_edu, time_pred, -booster_random.best_score_]\n",
    "result_table"
   ]
  },
  {
   "cell_type": "markdown",
   "metadata": {},
   "source": [
    "## Анализ моделей"
   ]
  },
  {
   "cell_type": "code",
   "execution_count": null,
   "metadata": {},
   "outputs": [],
   "source": [
    "result_table"
   ]
  },
  {
   "cell_type": "markdown",
   "metadata": {},
   "source": [
    "Наибольшую эффективность проявила модель LightGBM показавшая наилучшую скорость обучения при незначительной потери точности в сравнении с обычным градиентным бустингом. Однако, обычный градиентный бустинг быстрее осуществляет предсказание, что сделает более комфортным использование приложения, которое мы разрабатываем."
   ]
  },
  {
   "cell_type": "code",
   "execution_count": null,
   "metadata": {},
   "outputs": [],
   "source": [
    "#Оценим качество модели\n",
    "time_1 = time.time()\n",
    "gbr_pred = gbr.predict(X_test)\n",
    "time_2 = time.time()\n",
    "time_pred = time_2 - time_1\n",
    "print('RMSE модели', rmse(y_test, gbr_pred))\n",
    "print('Время выполнения', time_pred, 'сек.')"
   ]
  },
  {
   "cell_type": "markdown",
   "metadata": {},
   "source": [
    "Результат проходит установленный порог 2500 RMSE."
   ]
  },
  {
   "cell_type": "markdown",
   "metadata": {},
   "source": [
    "### Вывод"
   ]
  },
  {
   "cell_type": "markdown",
   "metadata": {},
   "source": [
    "Таким образом, наиболее предпочтительной моделью для работы приложения является GradientBoostingRegressor, не смотря на то, что он не самый быстрый в плане обучения, он быстрее всего осуществляет предсказание целевого признака, а также делает это наиболее точно. Для обучения модели потребовалась серьёзная предобработка данных, а именно работа с пропусками, создание класса \"unspecified\" в незаполненных ячейках, удаление аномально завышенных и заниженных цент на авто, установление границ выбросов, а также формирование дополнительных признаков для обучения модели: \n",
    "- 'age' - возраст авто с момента регистрации\n",
    "- 'damage_percent' процент износа по отношению к пробегу в 350 000 км\n",
    "- 'eur_durable' - количество средств на оставшийся ресурс автомобиля."
   ]
  },
  {
   "cell_type": "markdown",
   "metadata": {},
   "source": [
    "2.0 Благодаря предобработке, мы получили результат RMSE в размере 1395, что проходит установленный порог 2500 RMSE."
   ]
  }
 ],
 "metadata": {
  "ExecuteTimeLog": [
   {
    "duration": 332,
    "start_time": "2023-01-10T07:08:42.252Z"
   },
   {
    "duration": 1010,
    "start_time": "2023-01-10T07:09:22.865Z"
   },
   {
    "duration": 728,
    "start_time": "2023-01-10T07:09:37.226Z"
   },
   {
    "duration": 12,
    "start_time": "2023-01-10T07:10:00.162Z"
   },
   {
    "duration": 130,
    "start_time": "2023-01-10T07:10:02.290Z"
   },
   {
    "duration": 5,
    "start_time": "2023-01-10T07:25:29.841Z"
   },
   {
    "duration": 5,
    "start_time": "2023-01-10T07:25:51.247Z"
   },
   {
    "duration": 16,
    "start_time": "2023-01-10T07:26:48.774Z"
   },
   {
    "duration": 21,
    "start_time": "2023-01-10T07:27:00.870Z"
   },
   {
    "duration": 24,
    "start_time": "2023-01-10T07:28:27.776Z"
   },
   {
    "duration": 63,
    "start_time": "2023-01-10T07:34:19.540Z"
   },
   {
    "duration": 5,
    "start_time": "2023-01-10T07:34:43.513Z"
   },
   {
    "duration": 4,
    "start_time": "2023-01-10T07:35:47.287Z"
   },
   {
    "duration": 11,
    "start_time": "2023-01-10T07:38:36.008Z"
   },
   {
    "duration": 4,
    "start_time": "2023-01-10T07:39:04.144Z"
   },
   {
    "duration": 4,
    "start_time": "2023-01-10T07:39:14.877Z"
   },
   {
    "duration": 6,
    "start_time": "2023-01-10T07:41:27.623Z"
   },
   {
    "duration": 5,
    "start_time": "2023-01-10T07:41:58.864Z"
   },
   {
    "duration": 4,
    "start_time": "2023-01-10T07:42:08.887Z"
   },
   {
    "duration": 6,
    "start_time": "2023-01-10T07:42:22.023Z"
   },
   {
    "duration": 5,
    "start_time": "2023-01-10T07:42:57.279Z"
   },
   {
    "duration": 5,
    "start_time": "2023-01-10T07:43:26.864Z"
   },
   {
    "duration": 4,
    "start_time": "2023-01-10T07:43:34.071Z"
   },
   {
    "duration": 4,
    "start_time": "2023-01-10T07:44:37.519Z"
   },
   {
    "duration": 4,
    "start_time": "2023-01-10T07:45:13.913Z"
   },
   {
    "duration": 4,
    "start_time": "2023-01-10T07:45:27.960Z"
   },
   {
    "duration": 56,
    "start_time": "2023-01-10T07:47:17.704Z"
   },
   {
    "duration": 25,
    "start_time": "2023-01-10T07:48:05.631Z"
   },
   {
    "duration": 14,
    "start_time": "2023-01-10T07:48:16.623Z"
   },
   {
    "duration": 111,
    "start_time": "2023-01-10T07:48:30.252Z"
   },
   {
    "duration": 30,
    "start_time": "2023-01-10T07:51:38.306Z"
   },
   {
    "duration": 57,
    "start_time": "2023-01-10T07:52:21.807Z"
   },
   {
    "duration": 169,
    "start_time": "2023-01-10T07:53:52.734Z"
   },
   {
    "duration": 70,
    "start_time": "2023-01-10T07:59:44.617Z"
   },
   {
    "duration": 34,
    "start_time": "2023-01-10T07:59:51.051Z"
   },
   {
    "duration": 119,
    "start_time": "2023-01-10T07:59:58.577Z"
   },
   {
    "duration": 169,
    "start_time": "2023-01-10T08:00:14.058Z"
   },
   {
    "duration": 170,
    "start_time": "2023-01-10T08:00:30.908Z"
   },
   {
    "duration": 6,
    "start_time": "2023-01-10T08:19:10.722Z"
   },
   {
    "duration": 207,
    "start_time": "2023-01-10T08:20:01.171Z"
   },
   {
    "duration": 151,
    "start_time": "2023-01-10T08:20:19.468Z"
   },
   {
    "duration": 128,
    "start_time": "2023-01-10T08:20:48.165Z"
   },
   {
    "duration": 480,
    "start_time": "2023-01-10T08:22:29.039Z"
   },
   {
    "duration": 451,
    "start_time": "2023-01-10T08:22:38.971Z"
   },
   {
    "duration": 2275,
    "start_time": "2023-01-10T08:22:57.606Z"
   },
   {
    "duration": 52,
    "start_time": "2023-01-10T08:23:11.963Z"
   },
   {
    "duration": 26,
    "start_time": "2023-01-10T08:24:10.202Z"
   },
   {
    "duration": 85,
    "start_time": "2023-01-10T08:25:57.404Z"
   },
   {
    "duration": 83,
    "start_time": "2023-01-10T08:26:32.702Z"
   },
   {
    "duration": 2,
    "start_time": "2023-01-10T08:28:15.805Z"
   },
   {
    "duration": 96,
    "start_time": "2023-01-10T08:28:20.701Z"
   },
   {
    "duration": 47,
    "start_time": "2023-01-10T08:34:50.023Z"
   },
   {
    "duration": 191,
    "start_time": "2023-01-10T08:34:55.643Z"
   },
   {
    "duration": 200,
    "start_time": "2023-01-10T08:35:06.752Z"
   },
   {
    "duration": 157,
    "start_time": "2023-01-10T08:35:12.217Z"
   },
   {
    "duration": 204,
    "start_time": "2023-01-10T08:37:51.795Z"
   },
   {
    "duration": 188,
    "start_time": "2023-01-10T08:39:08.811Z"
   },
   {
    "duration": 153,
    "start_time": "2023-01-10T08:39:36.901Z"
   },
   {
    "duration": 831,
    "start_time": "2023-01-10T08:39:55.295Z"
   },
   {
    "duration": 181,
    "start_time": "2023-01-10T08:40:20.191Z"
   },
   {
    "duration": 150,
    "start_time": "2023-01-10T08:40:47.890Z"
   },
   {
    "duration": 3,
    "start_time": "2023-01-10T08:41:19.489Z"
   },
   {
    "duration": 223,
    "start_time": "2023-01-10T08:44:55.868Z"
   },
   {
    "duration": 1379,
    "start_time": "2023-01-10T08:45:33.421Z"
   },
   {
    "duration": 87,
    "start_time": "2023-01-10T08:46:48.038Z"
   },
   {
    "duration": 7,
    "start_time": "2023-01-10T08:47:11.552Z"
   },
   {
    "duration": 90,
    "start_time": "2023-01-10T08:47:15.903Z"
   },
   {
    "duration": 8,
    "start_time": "2023-01-10T08:48:16.389Z"
   },
   {
    "duration": 340,
    "start_time": "2023-01-10T08:49:05.184Z"
   },
   {
    "duration": 318,
    "start_time": "2023-01-10T08:49:57.367Z"
   },
   {
    "duration": 266,
    "start_time": "2023-01-10T09:07:14.391Z"
   },
   {
    "duration": 158,
    "start_time": "2023-01-10T09:09:47.857Z"
   },
   {
    "duration": 84,
    "start_time": "2023-01-10T09:09:59.834Z"
   },
   {
    "duration": 41,
    "start_time": "2023-01-10T09:16:45.283Z"
   },
   {
    "duration": 160,
    "start_time": "2023-01-10T09:17:34.427Z"
   },
   {
    "duration": 105,
    "start_time": "2023-01-10T09:19:55.733Z"
   },
   {
    "duration": 87,
    "start_time": "2023-01-10T09:20:05.012Z"
   },
   {
    "duration": 2,
    "start_time": "2023-01-10T09:22:27.365Z"
   },
   {
    "duration": 9,
    "start_time": "2023-01-10T09:22:27.369Z"
   },
   {
    "duration": 735,
    "start_time": "2023-01-10T09:22:27.379Z"
   },
   {
    "duration": 14,
    "start_time": "2023-01-10T09:22:28.115Z"
   },
   {
    "duration": 135,
    "start_time": "2023-01-10T09:22:28.131Z"
   },
   {
    "duration": 4,
    "start_time": "2023-01-10T09:22:28.267Z"
   },
   {
    "duration": 9,
    "start_time": "2023-01-10T09:22:28.272Z"
   },
   {
    "duration": 26,
    "start_time": "2023-01-10T09:22:28.282Z"
   },
   {
    "duration": 10,
    "start_time": "2023-01-10T09:22:28.310Z"
   },
   {
    "duration": 93,
    "start_time": "2023-01-10T09:22:28.322Z"
   },
   {
    "duration": 2,
    "start_time": "2023-01-10T09:22:28.417Z"
   },
   {
    "duration": 2394,
    "start_time": "2023-01-10T09:23:51.909Z"
   },
   {
    "duration": 20,
    "start_time": "2023-01-10T09:24:16.998Z"
   },
   {
    "duration": 88,
    "start_time": "2023-01-10T09:24:22.716Z"
   },
   {
    "duration": 175,
    "start_time": "2023-01-10T09:24:33.910Z"
   },
   {
    "duration": 299,
    "start_time": "2023-01-10T09:25:45.063Z"
   },
   {
    "duration": 266,
    "start_time": "2023-01-10T09:28:23.686Z"
   },
   {
    "duration": 316,
    "start_time": "2023-01-10T09:28:59.109Z"
   },
   {
    "duration": 2,
    "start_time": "2023-01-10T09:29:27.320Z"
   },
   {
    "duration": 2,
    "start_time": "2023-01-10T09:29:50.598Z"
   },
   {
    "duration": 48,
    "start_time": "2023-01-10T09:29:52.574Z"
   },
   {
    "duration": 162,
    "start_time": "2023-01-10T09:29:55.240Z"
   },
   {
    "duration": 172,
    "start_time": "2023-01-10T09:30:26.440Z"
   },
   {
    "duration": 888,
    "start_time": "2023-01-10T13:12:06.383Z"
   },
   {
    "duration": 3,
    "start_time": "2023-01-10T13:13:05.374Z"
   },
   {
    "duration": 546,
    "start_time": "2023-01-10T13:13:53.293Z"
   },
   {
    "duration": 513,
    "start_time": "2023-01-10T13:14:27.093Z"
   },
   {
    "duration": 188,
    "start_time": "2023-01-10T13:15:19.389Z"
   },
   {
    "duration": 2348,
    "start_time": "2023-01-10T13:15:45.741Z"
   },
   {
    "duration": 312,
    "start_time": "2023-01-10T13:15:56.761Z"
   },
   {
    "duration": 1548,
    "start_time": "2023-01-12T09:46:19.331Z"
   },
   {
    "duration": 3,
    "start_time": "2023-01-12T09:46:20.881Z"
   },
   {
    "duration": 1019,
    "start_time": "2023-01-12T09:46:20.885Z"
   },
   {
    "duration": 17,
    "start_time": "2023-01-12T09:46:21.905Z"
   },
   {
    "duration": 146,
    "start_time": "2023-01-12T09:46:21.926Z"
   },
   {
    "duration": 4,
    "start_time": "2023-01-12T09:46:22.073Z"
   },
   {
    "duration": 11,
    "start_time": "2023-01-12T09:46:22.078Z"
   },
   {
    "duration": 26,
    "start_time": "2023-01-12T09:46:22.097Z"
   },
   {
    "duration": 16,
    "start_time": "2023-01-12T09:46:22.124Z"
   },
   {
    "duration": 113,
    "start_time": "2023-01-12T09:46:22.141Z"
   },
   {
    "duration": 3,
    "start_time": "2023-01-12T09:46:22.255Z"
   },
   {
    "duration": 84,
    "start_time": "2023-01-12T09:46:22.259Z"
   },
   {
    "duration": 198,
    "start_time": "2023-01-12T09:46:22.344Z"
   },
   {
    "duration": 284,
    "start_time": "2023-01-12T09:47:37.843Z"
   },
   {
    "duration": 276,
    "start_time": "2023-01-12T09:47:44.267Z"
   },
   {
    "duration": 268,
    "start_time": "2023-01-12T09:48:14.235Z"
   },
   {
    "duration": 292,
    "start_time": "2023-01-12T09:48:34.952Z"
   },
   {
    "duration": 383,
    "start_time": "2023-01-12T09:49:45.379Z"
   },
   {
    "duration": 488,
    "start_time": "2023-01-12T09:50:47.661Z"
   },
   {
    "duration": 17,
    "start_time": "2023-01-12T09:57:29.694Z"
   },
   {
    "duration": 93,
    "start_time": "2023-01-12T09:59:41.310Z"
   },
   {
    "duration": 27,
    "start_time": "2023-01-12T09:59:52.421Z"
   },
   {
    "duration": 594,
    "start_time": "2023-01-12T10:00:06.053Z"
   },
   {
    "duration": 46,
    "start_time": "2023-01-12T10:11:04.143Z"
   },
   {
    "duration": 20,
    "start_time": "2023-01-12T10:11:15.840Z"
   },
   {
    "duration": 11,
    "start_time": "2023-01-12T10:11:22.575Z"
   },
   {
    "duration": 4,
    "start_time": "2023-01-12T10:19:19.264Z"
   },
   {
    "duration": 45,
    "start_time": "2023-01-12T10:19:19.271Z"
   },
   {
    "duration": 765,
    "start_time": "2023-01-12T10:19:19.318Z"
   },
   {
    "duration": 20,
    "start_time": "2023-01-12T10:19:20.085Z"
   },
   {
    "duration": 139,
    "start_time": "2023-01-12T10:19:20.109Z"
   },
   {
    "duration": 4,
    "start_time": "2023-01-12T10:19:20.249Z"
   },
   {
    "duration": 28,
    "start_time": "2023-01-12T10:19:20.255Z"
   },
   {
    "duration": 23,
    "start_time": "2023-01-12T10:19:20.285Z"
   },
   {
    "duration": 15,
    "start_time": "2023-01-12T10:19:20.310Z"
   },
   {
    "duration": 113,
    "start_time": "2023-01-12T10:19:20.326Z"
   },
   {
    "duration": 2,
    "start_time": "2023-01-12T10:19:20.440Z"
   },
   {
    "duration": 64,
    "start_time": "2023-01-12T10:19:20.444Z"
   },
   {
    "duration": 168,
    "start_time": "2023-01-12T10:19:20.509Z"
   },
   {
    "duration": 288,
    "start_time": "2023-01-12T10:19:20.679Z"
   },
   {
    "duration": 496,
    "start_time": "2023-01-12T10:19:20.968Z"
   },
   {
    "duration": 20,
    "start_time": "2023-01-12T10:19:21.466Z"
   },
   {
    "duration": 490,
    "start_time": "2023-01-12T10:19:21.497Z"
   },
   {
    "duration": 69,
    "start_time": "2023-01-12T10:19:21.989Z"
   },
   {
    "duration": 4,
    "start_time": "2023-01-12T10:19:38.619Z"
   },
   {
    "duration": 365,
    "start_time": "2023-01-12T10:21:20.652Z"
   },
   {
    "duration": 382,
    "start_time": "2023-01-12T10:21:30.427Z"
   },
   {
    "duration": 67,
    "start_time": "2023-01-12T10:22:11.771Z"
   },
   {
    "duration": 395,
    "start_time": "2023-01-12T10:22:13.714Z"
   },
   {
    "duration": 9,
    "start_time": "2023-01-12T10:22:48.579Z"
   },
   {
    "duration": 12,
    "start_time": "2023-01-12T10:23:07.947Z"
   },
   {
    "duration": 9,
    "start_time": "2023-01-12T10:23:13.210Z"
   },
   {
    "duration": 10,
    "start_time": "2023-01-12T10:23:20.467Z"
   },
   {
    "duration": 11,
    "start_time": "2023-01-12T10:25:37.492Z"
   },
   {
    "duration": 72,
    "start_time": "2023-01-12T10:26:29.221Z"
   },
   {
    "duration": 18,
    "start_time": "2023-01-12T10:33:11.070Z"
   },
   {
    "duration": 307,
    "start_time": "2023-01-12T10:33:18.182Z"
   },
   {
    "duration": 302,
    "start_time": "2023-01-12T10:33:44.079Z"
   },
   {
    "duration": 370,
    "start_time": "2023-01-12T10:34:06.687Z"
   },
   {
    "duration": 374,
    "start_time": "2023-01-12T10:34:33.239Z"
   },
   {
    "duration": 67,
    "start_time": "2023-01-12T10:40:12.312Z"
   },
   {
    "duration": 7,
    "start_time": "2023-01-12T10:40:58.032Z"
   },
   {
    "duration": 5,
    "start_time": "2023-01-12T10:42:12.569Z"
   },
   {
    "duration": 7,
    "start_time": "2023-01-12T10:42:32.465Z"
   },
   {
    "duration": 5,
    "start_time": "2023-01-12T10:42:37.209Z"
   },
   {
    "duration": 5,
    "start_time": "2023-01-12T10:42:42.896Z"
   },
   {
    "duration": 6,
    "start_time": "2023-01-12T10:42:59.104Z"
   },
   {
    "duration": 9,
    "start_time": "2023-01-12T10:45:28.010Z"
   },
   {
    "duration": 3,
    "start_time": "2023-01-12T10:45:32.226Z"
   },
   {
    "duration": 4,
    "start_time": "2023-01-12T10:45:32.465Z"
   },
   {
    "duration": 4,
    "start_time": "2023-01-12T10:46:04.586Z"
   },
   {
    "duration": 14,
    "start_time": "2023-01-12T10:46:08.162Z"
   },
   {
    "duration": 3,
    "start_time": "2023-01-12T10:46:30.938Z"
   },
   {
    "duration": 9,
    "start_time": "2023-01-12T10:46:36.521Z"
   },
   {
    "duration": 3,
    "start_time": "2023-01-12T10:49:15.812Z"
   },
   {
    "duration": 4,
    "start_time": "2023-01-12T10:50:49.035Z"
   },
   {
    "duration": 4,
    "start_time": "2023-01-12T10:50:51.900Z"
   },
   {
    "duration": 2,
    "start_time": "2023-01-12T10:51:32.571Z"
   },
   {
    "duration": 9,
    "start_time": "2023-01-12T10:51:48.970Z"
   },
   {
    "duration": 8,
    "start_time": "2023-01-12T10:51:59.787Z"
   },
   {
    "duration": 10,
    "start_time": "2023-01-12T10:54:45.171Z"
   },
   {
    "duration": 6,
    "start_time": "2023-01-12T10:54:57.532Z"
   },
   {
    "duration": 5,
    "start_time": "2023-01-12T10:55:59.068Z"
   },
   {
    "duration": 7,
    "start_time": "2023-01-12T10:57:44.741Z"
   },
   {
    "duration": 3,
    "start_time": "2023-01-12T10:58:09.159Z"
   },
   {
    "duration": 2,
    "start_time": "2023-01-12T10:58:17.324Z"
   },
   {
    "duration": 7593,
    "start_time": "2023-01-12T10:59:33.390Z"
   },
   {
    "duration": 676418,
    "start_time": "2023-01-12T10:59:46.558Z"
   },
   {
    "duration": 9,
    "start_time": "2023-01-12T11:52:38.878Z"
   },
   {
    "duration": 5,
    "start_time": "2023-01-12T11:52:54.617Z"
   },
   {
    "duration": 4,
    "start_time": "2023-01-12T11:53:15.022Z"
   },
   {
    "duration": 6,
    "start_time": "2023-01-12T11:53:24.023Z"
   },
   {
    "duration": 486,
    "start_time": "2023-01-12T11:55:40.694Z"
   },
   {
    "duration": 4,
    "start_time": "2023-01-12T11:58:42.358Z"
   },
   {
    "duration": 3,
    "start_time": "2023-01-12T11:58:55.662Z"
   },
   {
    "duration": 3,
    "start_time": "2023-01-12T11:58:59.069Z"
   },
   {
    "duration": 544870,
    "start_time": "2023-01-12T11:59:06.069Z"
   },
   {
    "duration": 4,
    "start_time": "2023-01-12T12:08:20.797Z"
   },
   {
    "duration": 5,
    "start_time": "2023-01-12T12:08:25.549Z"
   },
   {
    "duration": 1213,
    "start_time": "2023-01-12T12:08:28.038Z"
   },
   {
    "duration": 3,
    "start_time": "2023-01-12T12:09:05.014Z"
   },
   {
    "duration": 5,
    "start_time": "2023-01-12T12:09:05.460Z"
   },
   {
    "duration": 3,
    "start_time": "2023-01-12T12:09:26.781Z"
   },
   {
    "duration": 4,
    "start_time": "2023-01-12T12:09:27.445Z"
   },
   {
    "duration": 4,
    "start_time": "2023-01-12T12:10:13.533Z"
   },
   {
    "duration": 4,
    "start_time": "2023-01-12T12:10:14.092Z"
   },
   {
    "duration": 2,
    "start_time": "2023-01-12T12:10:16.772Z"
   },
   {
    "duration": 3053,
    "start_time": "2023-01-12T12:10:34.284Z"
   },
   {
    "duration": 3,
    "start_time": "2023-01-12T12:11:07.397Z"
   },
   {
    "duration": 3,
    "start_time": "2023-01-12T12:11:08.668Z"
   },
   {
    "duration": 631759,
    "start_time": "2023-01-12T12:11:09.788Z"
   },
   {
    "duration": 4,
    "start_time": "2023-01-12T12:22:07.350Z"
   },
   {
    "duration": 5,
    "start_time": "2023-01-12T12:22:18.542Z"
   },
   {
    "duration": 1557,
    "start_time": "2023-01-12T12:22:21.462Z"
   },
   {
    "duration": 52,
    "start_time": "2023-01-12T12:24:13.670Z"
   },
   {
    "duration": 42,
    "start_time": "2023-01-12T12:24:30.655Z"
   },
   {
    "duration": 3,
    "start_time": "2023-01-12T12:24:56.007Z"
   },
   {
    "duration": 54688,
    "start_time": "2023-01-12T12:25:21.886Z"
   },
   {
    "duration": 10,
    "start_time": "2023-01-12T12:26:38.375Z"
   },
   {
    "duration": 4459,
    "start_time": "2023-01-12T12:26:44.664Z"
   },
   {
    "duration": 1540,
    "start_time": "2023-01-12T12:27:08.176Z"
   },
   {
    "duration": 4,
    "start_time": "2023-01-12T12:29:23.761Z"
   },
   {
    "duration": 3,
    "start_time": "2023-01-12T12:29:51.248Z"
   },
   {
    "duration": 36,
    "start_time": "2023-01-12T12:29:59.151Z"
   },
   {
    "duration": 47,
    "start_time": "2023-01-12T12:30:30.753Z"
   },
   {
    "duration": 5,
    "start_time": "2023-01-12T12:30:52.583Z"
   },
   {
    "duration": 5,
    "start_time": "2023-01-12T12:30:53.383Z"
   },
   {
    "duration": 5,
    "start_time": "2023-01-12T12:32:18.431Z"
   },
   {
    "duration": 4,
    "start_time": "2023-01-12T12:34:42.382Z"
   },
   {
    "duration": 3,
    "start_time": "2023-01-12T12:34:43.823Z"
   },
   {
    "duration": 748,
    "start_time": "2023-01-12T12:34:44.637Z"
   },
   {
    "duration": 18,
    "start_time": "2023-01-12T12:34:45.387Z"
   },
   {
    "duration": 135,
    "start_time": "2023-01-12T12:34:45.854Z"
   },
   {
    "duration": 4,
    "start_time": "2023-01-12T12:34:53.693Z"
   },
   {
    "duration": 3,
    "start_time": "2023-01-12T12:34:53.959Z"
   },
   {
    "duration": 27,
    "start_time": "2023-01-12T12:34:56.733Z"
   },
   {
    "duration": 14,
    "start_time": "2023-01-12T12:34:57.647Z"
   },
   {
    "duration": 127,
    "start_time": "2023-01-12T12:34:58.422Z"
   },
   {
    "duration": 3,
    "start_time": "2023-01-12T12:35:01.190Z"
   },
   {
    "duration": 4,
    "start_time": "2023-01-12T12:35:47.973Z"
   },
   {
    "duration": 3,
    "start_time": "2023-01-12T12:35:48.365Z"
   },
   {
    "duration": 86,
    "start_time": "2023-01-12T12:35:51.013Z"
   },
   {
    "duration": 32,
    "start_time": "2023-01-12T12:35:54.781Z"
   },
   {
    "duration": 13,
    "start_time": "2023-01-12T12:36:32.942Z"
   },
   {
    "duration": 12,
    "start_time": "2023-01-12T12:37:19.535Z"
   },
   {
    "duration": 14,
    "start_time": "2023-01-12T12:37:32.413Z"
   },
   {
    "duration": 27,
    "start_time": "2023-01-12T12:38:30.149Z"
   },
   {
    "duration": 10,
    "start_time": "2023-01-12T12:40:04.974Z"
   },
   {
    "duration": 11,
    "start_time": "2023-01-12T12:40:25.094Z"
   },
   {
    "duration": 11,
    "start_time": "2023-01-12T12:40:34.653Z"
   },
   {
    "duration": 35,
    "start_time": "2023-01-12T12:40:50.845Z"
   },
   {
    "duration": 4,
    "start_time": "2023-01-12T12:41:00.861Z"
   },
   {
    "duration": 3,
    "start_time": "2023-01-12T12:41:01.645Z"
   },
   {
    "duration": 90,
    "start_time": "2023-01-12T12:41:02.659Z"
   },
   {
    "duration": 28,
    "start_time": "2023-01-12T12:41:05.189Z"
   },
   {
    "duration": 78,
    "start_time": "2023-01-12T12:41:13.228Z"
   },
   {
    "duration": 26,
    "start_time": "2023-01-12T12:41:14.053Z"
   },
   {
    "duration": 153,
    "start_time": "2023-01-12T12:42:01.374Z"
   },
   {
    "duration": 69,
    "start_time": "2023-01-12T12:42:16.175Z"
   },
   {
    "duration": 338,
    "start_time": "2023-01-12T12:42:17.638Z"
   },
   {
    "duration": 5,
    "start_time": "2023-01-12T12:42:22.533Z"
   },
   {
    "duration": 6,
    "start_time": "2023-01-12T12:42:22.812Z"
   },
   {
    "duration": 5,
    "start_time": "2023-01-12T12:42:23.420Z"
   },
   {
    "duration": 3,
    "start_time": "2023-01-12T12:42:35.693Z"
   },
   {
    "duration": 5,
    "start_time": "2023-01-12T12:42:39.637Z"
   },
   {
    "duration": 4,
    "start_time": "2023-01-12T12:42:41.365Z"
   },
   {
    "duration": 3,
    "start_time": "2023-01-12T12:42:46.965Z"
   },
   {
    "duration": 422288,
    "start_time": "2023-01-12T12:42:48.805Z"
   },
   {
    "duration": 4,
    "start_time": "2023-01-12T12:58:49.206Z"
   },
   {
    "duration": 4,
    "start_time": "2023-01-12T12:58:56.986Z"
   },
   {
    "duration": 976,
    "start_time": "2023-01-12T12:58:58.037Z"
   },
   {
    "duration": 6,
    "start_time": "2023-01-12T12:59:40.711Z"
   },
   {
    "duration": 3,
    "start_time": "2023-01-12T12:59:40.981Z"
   },
   {
    "duration": 776,
    "start_time": "2023-01-12T12:59:41.797Z"
   },
   {
    "duration": 13,
    "start_time": "2023-01-12T12:59:42.575Z"
   },
   {
    "duration": 124,
    "start_time": "2023-01-12T12:59:43.293Z"
   },
   {
    "duration": 6,
    "start_time": "2023-01-12T12:59:45.702Z"
   },
   {
    "duration": 4,
    "start_time": "2023-01-12T12:59:46.469Z"
   },
   {
    "duration": 21,
    "start_time": "2023-01-12T12:59:47.077Z"
   },
   {
    "duration": 11,
    "start_time": "2023-01-12T12:59:47.415Z"
   },
   {
    "duration": 84,
    "start_time": "2023-01-12T12:59:48.269Z"
   },
   {
    "duration": 2,
    "start_time": "2023-01-12T12:59:49.909Z"
   },
   {
    "duration": 51,
    "start_time": "2023-01-12T12:59:56.845Z"
   },
   {
    "duration": 167,
    "start_time": "2023-01-12T12:59:58.396Z"
   },
   {
    "duration": 251,
    "start_time": "2023-01-12T13:00:00.277Z"
   },
   {
    "duration": 503,
    "start_time": "2023-01-12T13:00:01.246Z"
   },
   {
    "duration": 27,
    "start_time": "2023-01-12T13:00:04.094Z"
   },
   {
    "duration": 652,
    "start_time": "2023-01-12T13:00:05.686Z"
   },
   {
    "duration": 4,
    "start_time": "2023-01-12T13:00:12.958Z"
   },
   {
    "duration": 3,
    "start_time": "2023-01-12T13:00:13.310Z"
   },
   {
    "duration": 81,
    "start_time": "2023-01-12T13:00:14.253Z"
   },
   {
    "duration": 429,
    "start_time": "2023-01-12T13:00:15.564Z"
   },
   {
    "duration": 6,
    "start_time": "2023-01-12T13:00:17.710Z"
   },
   {
    "duration": 7,
    "start_time": "2023-01-12T13:00:18.221Z"
   },
   {
    "duration": 6,
    "start_time": "2023-01-12T13:00:19.950Z"
   },
   {
    "duration": 3,
    "start_time": "2023-01-12T13:00:24.374Z"
   },
   {
    "duration": 5,
    "start_time": "2023-01-12T13:00:24.749Z"
   },
   {
    "duration": 4,
    "start_time": "2023-01-12T13:00:25.925Z"
   },
   {
    "duration": 3,
    "start_time": "2023-01-12T13:00:26.798Z"
   },
   {
    "duration": 506618,
    "start_time": "2023-01-12T13:00:42.550Z"
   },
   {
    "duration": 4,
    "start_time": "2023-01-12T13:10:09.455Z"
   },
   {
    "duration": 3,
    "start_time": "2023-01-12T13:10:12.407Z"
   },
   {
    "duration": 1173,
    "start_time": "2023-01-12T13:10:13.727Z"
   },
   {
    "duration": 4,
    "start_time": "2023-01-12T13:10:43.154Z"
   },
   {
    "duration": 15,
    "start_time": "2023-01-12T13:10:43.160Z"
   },
   {
    "duration": 652,
    "start_time": "2023-01-12T13:10:43.177Z"
   },
   {
    "duration": 12,
    "start_time": "2023-01-12T13:10:43.831Z"
   },
   {
    "duration": 131,
    "start_time": "2023-01-12T13:10:43.844Z"
   },
   {
    "duration": 4,
    "start_time": "2023-01-12T13:10:43.977Z"
   },
   {
    "duration": 15,
    "start_time": "2023-01-12T13:10:43.982Z"
   },
   {
    "duration": 20,
    "start_time": "2023-01-12T13:10:43.999Z"
   },
   {
    "duration": 10,
    "start_time": "2023-01-12T13:10:44.022Z"
   },
   {
    "duration": 93,
    "start_time": "2023-01-12T13:10:44.033Z"
   },
   {
    "duration": 3,
    "start_time": "2023-01-12T13:10:44.128Z"
   },
   {
    "duration": 49,
    "start_time": "2023-01-12T13:10:45.823Z"
   },
   {
    "duration": 178,
    "start_time": "2023-01-12T13:10:46.519Z"
   },
   {
    "duration": 232,
    "start_time": "2023-01-12T13:10:49.415Z"
   },
   {
    "duration": 505,
    "start_time": "2023-01-12T13:10:49.855Z"
   },
   {
    "duration": 25,
    "start_time": "2023-01-12T13:10:51.615Z"
   },
   {
    "duration": 648,
    "start_time": "2023-01-12T13:10:51.919Z"
   },
   {
    "duration": 2,
    "start_time": "2023-01-12T13:10:59.151Z"
   },
   {
    "duration": 3,
    "start_time": "2023-01-12T13:11:00.687Z"
   },
   {
    "duration": 65,
    "start_time": "2023-01-12T13:11:01.191Z"
   },
   {
    "duration": 377,
    "start_time": "2023-01-12T13:11:02.047Z"
   },
   {
    "duration": 4,
    "start_time": "2023-01-12T13:11:56.980Z"
   },
   {
    "duration": 21,
    "start_time": "2023-01-12T13:11:56.987Z"
   },
   {
    "duration": 716,
    "start_time": "2023-01-12T13:11:57.010Z"
   },
   {
    "duration": 13,
    "start_time": "2023-01-12T13:11:57.728Z"
   },
   {
    "duration": 165,
    "start_time": "2023-01-12T13:11:57.743Z"
   },
   {
    "duration": 5,
    "start_time": "2023-01-12T13:11:57.910Z"
   },
   {
    "duration": 8,
    "start_time": "2023-01-12T13:11:57.916Z"
   },
   {
    "duration": 29,
    "start_time": "2023-01-12T13:11:57.925Z"
   },
   {
    "duration": 13,
    "start_time": "2023-01-12T13:11:57.956Z"
   },
   {
    "duration": 105,
    "start_time": "2023-01-12T13:11:57.970Z"
   },
   {
    "duration": 2,
    "start_time": "2023-01-12T13:11:58.077Z"
   },
   {
    "duration": 60,
    "start_time": "2023-01-12T13:11:58.080Z"
   },
   {
    "duration": 168,
    "start_time": "2023-01-12T13:11:58.141Z"
   },
   {
    "duration": 253,
    "start_time": "2023-01-12T13:11:58.310Z"
   },
   {
    "duration": 260,
    "start_time": "2023-01-12T13:12:05.127Z"
   },
   {
    "duration": 526,
    "start_time": "2023-01-12T13:12:05.424Z"
   },
   {
    "duration": 68,
    "start_time": "2023-01-12T13:12:21.832Z"
   },
   {
    "duration": 3,
    "start_time": "2023-01-12T13:12:36.128Z"
   },
   {
    "duration": 3,
    "start_time": "2023-01-12T13:12:36.399Z"
   },
   {
    "duration": 71,
    "start_time": "2023-01-12T13:12:37.112Z"
   },
   {
    "duration": 370,
    "start_time": "2023-01-12T13:12:39.015Z"
   },
   {
    "duration": 10,
    "start_time": "2023-01-12T13:14:10.977Z"
   },
   {
    "duration": 10,
    "start_time": "2023-01-12T13:15:21.473Z"
   },
   {
    "duration": 11,
    "start_time": "2023-01-12T13:15:29.152Z"
   },
   {
    "duration": 12,
    "start_time": "2023-01-12T13:16:50.072Z"
   },
   {
    "duration": 5,
    "start_time": "2023-01-12T13:17:08.571Z"
   },
   {
    "duration": 13,
    "start_time": "2023-01-12T13:17:08.579Z"
   },
   {
    "duration": 768,
    "start_time": "2023-01-12T13:17:08.594Z"
   },
   {
    "duration": 12,
    "start_time": "2023-01-12T13:17:09.364Z"
   },
   {
    "duration": 129,
    "start_time": "2023-01-12T13:17:09.378Z"
   },
   {
    "duration": 4,
    "start_time": "2023-01-12T13:17:09.509Z"
   },
   {
    "duration": 7,
    "start_time": "2023-01-12T13:17:09.515Z"
   },
   {
    "duration": 24,
    "start_time": "2023-01-12T13:17:09.523Z"
   },
   {
    "duration": 13,
    "start_time": "2023-01-12T13:17:09.550Z"
   },
   {
    "duration": 125,
    "start_time": "2023-01-12T13:17:09.565Z"
   },
   {
    "duration": 2,
    "start_time": "2023-01-12T13:17:09.697Z"
   },
   {
    "duration": 109,
    "start_time": "2023-01-12T13:17:09.701Z"
   },
   {
    "duration": 173,
    "start_time": "2023-01-12T13:17:09.812Z"
   },
   {
    "duration": 260,
    "start_time": "2023-01-12T13:17:09.987Z"
   },
   {
    "duration": 628,
    "start_time": "2023-01-12T13:17:10.248Z"
   },
   {
    "duration": 33,
    "start_time": "2023-01-12T13:17:10.879Z"
   },
   {
    "duration": 535,
    "start_time": "2023-01-12T13:17:10.914Z"
   },
   {
    "duration": 71,
    "start_time": "2023-01-12T13:17:11.450Z"
   },
   {
    "duration": 3,
    "start_time": "2023-01-12T13:17:11.522Z"
   },
   {
    "duration": 11,
    "start_time": "2023-01-12T13:17:11.527Z"
   },
   {
    "duration": 71,
    "start_time": "2023-01-12T13:17:12.761Z"
   },
   {
    "duration": 393,
    "start_time": "2023-01-12T13:17:13.616Z"
   },
   {
    "duration": 5,
    "start_time": "2023-01-12T13:17:35.524Z"
   },
   {
    "duration": 14,
    "start_time": "2023-01-12T13:17:35.530Z"
   },
   {
    "duration": 720,
    "start_time": "2023-01-12T13:17:35.545Z"
   },
   {
    "duration": 13,
    "start_time": "2023-01-12T13:17:36.268Z"
   },
   {
    "duration": 135,
    "start_time": "2023-01-12T13:17:36.283Z"
   },
   {
    "duration": 4,
    "start_time": "2023-01-12T13:17:36.420Z"
   },
   {
    "duration": 10,
    "start_time": "2023-01-12T13:17:36.425Z"
   },
   {
    "duration": 29,
    "start_time": "2023-01-12T13:17:36.437Z"
   },
   {
    "duration": 10,
    "start_time": "2023-01-12T13:17:36.469Z"
   },
   {
    "duration": 91,
    "start_time": "2023-01-12T13:17:36.480Z"
   },
   {
    "duration": 2,
    "start_time": "2023-01-12T13:17:36.573Z"
   },
   {
    "duration": 61,
    "start_time": "2023-01-12T13:17:36.577Z"
   },
   {
    "duration": 176,
    "start_time": "2023-01-12T13:17:36.639Z"
   },
   {
    "duration": 271,
    "start_time": "2023-01-12T13:17:36.817Z"
   },
   {
    "duration": 601,
    "start_time": "2023-01-12T13:17:37.090Z"
   },
   {
    "duration": 3,
    "start_time": "2023-01-12T13:17:45.264Z"
   },
   {
    "duration": 4,
    "start_time": "2023-01-12T13:17:45.640Z"
   },
   {
    "duration": 74,
    "start_time": "2023-01-12T13:17:47.175Z"
   },
   {
    "duration": 471,
    "start_time": "2023-01-12T13:17:48.928Z"
   },
   {
    "duration": 5,
    "start_time": "2023-01-12T13:17:52.561Z"
   },
   {
    "duration": 5,
    "start_time": "2023-01-12T13:17:53.175Z"
   },
   {
    "duration": 6,
    "start_time": "2023-01-12T13:17:54.520Z"
   },
   {
    "duration": 2,
    "start_time": "2023-01-12T13:18:01.168Z"
   },
   {
    "duration": 4,
    "start_time": "2023-01-12T13:18:02.512Z"
   },
   {
    "duration": 4,
    "start_time": "2023-01-12T13:18:04.761Z"
   },
   {
    "duration": 3,
    "start_time": "2023-01-12T13:18:06.600Z"
   },
   {
    "duration": 545172,
    "start_time": "2023-01-12T13:18:08.721Z"
   },
   {
    "duration": 4,
    "start_time": "2023-01-12T13:28:48.258Z"
   },
   {
    "duration": 4,
    "start_time": "2023-01-12T13:28:51.186Z"
   },
   {
    "duration": 1236,
    "start_time": "2023-01-12T13:28:52.578Z"
   },
   {
    "duration": 4,
    "start_time": "2023-01-12T13:29:13.990Z"
   },
   {
    "duration": 9,
    "start_time": "2023-01-12T13:29:13.996Z"
   },
   {
    "duration": 698,
    "start_time": "2023-01-12T13:29:14.006Z"
   },
   {
    "duration": 11,
    "start_time": "2023-01-12T13:29:14.706Z"
   },
   {
    "duration": 171,
    "start_time": "2023-01-12T13:29:14.719Z"
   },
   {
    "duration": 9,
    "start_time": "2023-01-12T13:29:14.892Z"
   },
   {
    "duration": 33,
    "start_time": "2023-01-12T13:29:14.902Z"
   },
   {
    "duration": 41,
    "start_time": "2023-01-12T13:29:14.937Z"
   },
   {
    "duration": 25,
    "start_time": "2023-01-12T13:29:14.980Z"
   },
   {
    "duration": 107,
    "start_time": "2023-01-12T13:29:15.007Z"
   },
   {
    "duration": 2,
    "start_time": "2023-01-12T13:29:15.118Z"
   },
   {
    "duration": 81,
    "start_time": "2023-01-12T13:29:15.122Z"
   },
   {
    "duration": 161,
    "start_time": "2023-01-12T13:29:15.205Z"
   },
   {
    "duration": 257,
    "start_time": "2023-01-12T13:29:15.368Z"
   },
   {
    "duration": 512,
    "start_time": "2023-01-12T13:29:15.627Z"
   },
   {
    "duration": 20,
    "start_time": "2023-01-12T13:29:16.141Z"
   },
   {
    "duration": 625,
    "start_time": "2023-01-12T13:29:16.163Z"
   },
   {
    "duration": 86,
    "start_time": "2023-01-12T13:29:16.789Z"
   },
   {
    "duration": 3,
    "start_time": "2023-01-12T13:29:16.877Z"
   },
   {
    "duration": 16,
    "start_time": "2023-01-12T13:29:16.881Z"
   },
   {
    "duration": 63,
    "start_time": "2023-01-12T13:29:16.898Z"
   },
   {
    "duration": 382,
    "start_time": "2023-01-12T13:29:16.963Z"
   },
   {
    "duration": 6,
    "start_time": "2023-01-12T13:29:17.346Z"
   },
   {
    "duration": 22,
    "start_time": "2023-01-12T13:29:17.353Z"
   },
   {
    "duration": 12,
    "start_time": "2023-01-12T13:29:17.376Z"
   },
   {
    "duration": 4,
    "start_time": "2023-01-12T13:29:17.389Z"
   },
   {
    "duration": 7,
    "start_time": "2023-01-12T13:29:17.394Z"
   },
   {
    "duration": 7,
    "start_time": "2023-01-12T13:29:17.403Z"
   },
   {
    "duration": 7,
    "start_time": "2023-01-12T13:29:17.413Z"
   },
   {
    "duration": 3,
    "start_time": "2023-01-12T13:29:19.074Z"
   },
   {
    "duration": 12,
    "start_time": "2023-01-12T13:29:26.058Z"
   },
   {
    "duration": 6,
    "start_time": "2023-01-12T13:29:31.930Z"
   },
   {
    "duration": 522604,
    "start_time": "2023-01-12T13:29:33.137Z"
   },
   {
    "duration": 4,
    "start_time": "2023-01-12T13:38:44.283Z"
   },
   {
    "duration": 4,
    "start_time": "2023-01-12T13:38:45.548Z"
   },
   {
    "duration": 1169,
    "start_time": "2023-01-12T13:38:47.492Z"
   },
   {
    "duration": 1726,
    "start_time": "2023-01-16T10:17:01.247Z"
   },
   {
    "duration": 3,
    "start_time": "2023-01-16T10:17:02.975Z"
   },
   {
    "duration": 3462,
    "start_time": "2023-01-16T10:17:02.979Z"
   },
   {
    "duration": 18,
    "start_time": "2023-01-16T10:17:06.444Z"
   },
   {
    "duration": 196,
    "start_time": "2023-01-16T10:17:06.464Z"
   },
   {
    "duration": 4,
    "start_time": "2023-01-16T10:17:06.662Z"
   },
   {
    "duration": 12,
    "start_time": "2023-01-16T10:17:06.668Z"
   },
   {
    "duration": 23,
    "start_time": "2023-01-16T10:17:07.535Z"
   },
   {
    "duration": 14,
    "start_time": "2023-01-16T10:17:08.154Z"
   },
   {
    "duration": 100,
    "start_time": "2023-01-16T10:17:13.022Z"
   },
   {
    "duration": 3,
    "start_time": "2023-01-16T10:17:19.076Z"
   },
   {
    "duration": 88,
    "start_time": "2023-01-16T10:17:39.409Z"
   },
   {
    "duration": 140,
    "start_time": "2023-01-16T10:17:58.469Z"
   },
   {
    "duration": 216,
    "start_time": "2023-01-16T10:18:13.722Z"
   },
   {
    "duration": 103,
    "start_time": "2023-01-16T10:20:44.189Z"
   },
   {
    "duration": 5,
    "start_time": "2023-01-16T10:20:49.866Z"
   },
   {
    "duration": 23,
    "start_time": "2023-01-16T10:20:49.873Z"
   },
   {
    "duration": 1054,
    "start_time": "2023-01-16T10:20:49.897Z"
   },
   {
    "duration": 18,
    "start_time": "2023-01-16T10:20:50.954Z"
   },
   {
    "duration": 233,
    "start_time": "2023-01-16T10:20:50.975Z"
   },
   {
    "duration": 5,
    "start_time": "2023-01-16T10:20:51.211Z"
   },
   {
    "duration": 8,
    "start_time": "2023-01-16T10:20:51.218Z"
   },
   {
    "duration": 29,
    "start_time": "2023-01-16T10:20:51.228Z"
   },
   {
    "duration": 28,
    "start_time": "2023-01-16T10:20:51.259Z"
   },
   {
    "duration": 110,
    "start_time": "2023-01-16T10:20:51.305Z"
   },
   {
    "duration": 11,
    "start_time": "2023-01-16T10:20:51.417Z"
   },
   {
    "duration": 83,
    "start_time": "2023-01-16T10:20:59.172Z"
   },
   {
    "duration": 129,
    "start_time": "2023-01-16T10:21:03.828Z"
   },
   {
    "duration": 437,
    "start_time": "2023-01-16T10:21:37.188Z"
   },
   {
    "duration": 170,
    "start_time": "2023-01-16T10:28:48.171Z"
   },
   {
    "duration": 314,
    "start_time": "2023-01-16T10:29:07.573Z"
   },
   {
    "duration": 635,
    "start_time": "2023-01-16T10:29:23.964Z"
   },
   {
    "duration": 997,
    "start_time": "2023-01-16T10:29:46.670Z"
   },
   {
    "duration": 41,
    "start_time": "2023-01-16T10:31:41.921Z"
   },
   {
    "duration": 590,
    "start_time": "2023-01-16T10:31:43.221Z"
   },
   {
    "duration": 100,
    "start_time": "2023-01-16T10:31:46.196Z"
   },
   {
    "duration": 3,
    "start_time": "2023-01-16T10:41:15.708Z"
   },
   {
    "duration": 3,
    "start_time": "2023-01-16T10:41:16.012Z"
   },
   {
    "duration": 100,
    "start_time": "2023-01-16T10:41:24.348Z"
   },
   {
    "duration": 144,
    "start_time": "2023-01-16T10:41:25.860Z"
   },
   {
    "duration": 143,
    "start_time": "2023-01-16T10:48:10.694Z"
   },
   {
    "duration": 342,
    "start_time": "2023-01-16T10:48:33.317Z"
   },
   {
    "duration": 7,
    "start_time": "2023-01-16T10:48:50.798Z"
   },
   {
    "duration": 18,
    "start_time": "2023-01-16T10:49:27.264Z"
   },
   {
    "duration": 11,
    "start_time": "2023-01-16T10:49:27.701Z"
   },
   {
    "duration": 16,
    "start_time": "2023-01-16T10:49:42.197Z"
   },
   {
    "duration": 4,
    "start_time": "2023-01-16T10:53:01.378Z"
   },
   {
    "duration": 13,
    "start_time": "2023-01-16T10:53:01.384Z"
   },
   {
    "duration": 785,
    "start_time": "2023-01-16T10:53:01.398Z"
   },
   {
    "duration": 20,
    "start_time": "2023-01-16T10:53:02.185Z"
   },
   {
    "duration": 156,
    "start_time": "2023-01-16T10:53:02.206Z"
   },
   {
    "duration": 4,
    "start_time": "2023-01-16T10:53:02.364Z"
   },
   {
    "duration": 14,
    "start_time": "2023-01-16T10:53:02.369Z"
   },
   {
    "duration": 21,
    "start_time": "2023-01-16T10:53:06.733Z"
   },
   {
    "duration": 11,
    "start_time": "2023-01-16T10:53:14.014Z"
   },
   {
    "duration": 15,
    "start_time": "2023-01-16T10:59:24.932Z"
   },
   {
    "duration": 4,
    "start_time": "2023-01-16T10:59:34.354Z"
   },
   {
    "duration": 42,
    "start_time": "2023-01-16T10:59:34.360Z"
   },
   {
    "duration": 894,
    "start_time": "2023-01-16T10:59:34.403Z"
   },
   {
    "duration": 22,
    "start_time": "2023-01-16T10:59:35.304Z"
   },
   {
    "duration": 167,
    "start_time": "2023-01-16T10:59:35.328Z"
   },
   {
    "duration": 9,
    "start_time": "2023-01-16T10:59:35.497Z"
   },
   {
    "duration": 11,
    "start_time": "2023-01-16T10:59:35.507Z"
   },
   {
    "duration": 25,
    "start_time": "2023-01-16T10:59:36.549Z"
   },
   {
    "duration": 13,
    "start_time": "2023-01-16T10:59:37.599Z"
   },
   {
    "duration": 14,
    "start_time": "2023-01-16T11:00:50.184Z"
   },
   {
    "duration": 8,
    "start_time": "2023-01-16T11:00:58.784Z"
   },
   {
    "duration": 30,
    "start_time": "2023-01-16T11:01:15.737Z"
   },
   {
    "duration": 39,
    "start_time": "2023-01-16T11:01:32.367Z"
   },
   {
    "duration": 4,
    "start_time": "2023-01-16T11:03:09.084Z"
   },
   {
    "duration": 13,
    "start_time": "2023-01-16T11:03:09.090Z"
   },
   {
    "duration": 758,
    "start_time": "2023-01-16T11:03:09.105Z"
   },
   {
    "duration": 13,
    "start_time": "2023-01-16T11:03:09.865Z"
   },
   {
    "duration": 141,
    "start_time": "2023-01-16T11:03:09.879Z"
   },
   {
    "duration": 4,
    "start_time": "2023-01-16T11:03:10.022Z"
   },
   {
    "duration": 15,
    "start_time": "2023-01-16T11:03:10.027Z"
   },
   {
    "duration": 15,
    "start_time": "2023-01-16T11:03:11.167Z"
   },
   {
    "duration": 11,
    "start_time": "2023-01-16T11:03:12.086Z"
   },
   {
    "duration": 2,
    "start_time": "2023-01-16T11:03:16.686Z"
   },
   {
    "duration": 75,
    "start_time": "2023-01-16T11:03:18.997Z"
   },
   {
    "duration": 3,
    "start_time": "2023-01-16T11:04:06.207Z"
   },
   {
    "duration": 60,
    "start_time": "2023-01-16T11:04:09.966Z"
   },
   {
    "duration": 71,
    "start_time": "2023-01-16T11:04:11.159Z"
   },
   {
    "duration": 826,
    "start_time": "2023-01-16T11:04:44.039Z"
   },
   {
    "duration": 537,
    "start_time": "2023-01-16T11:04:52.023Z"
   },
   {
    "duration": 30,
    "start_time": "2023-01-16T11:04:54.231Z"
   },
   {
    "duration": 666,
    "start_time": "2023-01-16T11:04:55.287Z"
   },
   {
    "duration": 69,
    "start_time": "2023-01-16T11:04:56.566Z"
   },
   {
    "duration": 264,
    "start_time": "2023-01-16T11:08:15.583Z"
   },
   {
    "duration": 264,
    "start_time": "2023-01-16T11:08:58.944Z"
   },
   {
    "duration": 253,
    "start_time": "2023-01-16T11:09:09.976Z"
   },
   {
    "duration": 54,
    "start_time": "2023-01-16T11:11:14.327Z"
   },
   {
    "duration": 60,
    "start_time": "2023-01-16T11:11:27.305Z"
   },
   {
    "duration": 5,
    "start_time": "2023-01-16T11:11:52.844Z"
   },
   {
    "duration": 20,
    "start_time": "2023-01-16T11:11:52.852Z"
   },
   {
    "duration": 840,
    "start_time": "2023-01-16T11:11:52.874Z"
   },
   {
    "duration": 14,
    "start_time": "2023-01-16T11:11:53.716Z"
   },
   {
    "duration": 148,
    "start_time": "2023-01-16T11:11:53.732Z"
   },
   {
    "duration": 5,
    "start_time": "2023-01-16T11:11:53.882Z"
   },
   {
    "duration": 19,
    "start_time": "2023-01-16T11:11:53.888Z"
   },
   {
    "duration": 28,
    "start_time": "2023-01-16T11:11:54.984Z"
   },
   {
    "duration": 12,
    "start_time": "2023-01-16T11:11:55.319Z"
   },
   {
    "duration": 285,
    "start_time": "2023-01-16T11:11:55.935Z"
   },
   {
    "duration": 59,
    "start_time": "2023-01-16T11:11:56.527Z"
   },
   {
    "duration": 112,
    "start_time": "2023-01-16T11:12:55.433Z"
   },
   {
    "duration": 71,
    "start_time": "2023-01-16T11:13:27.986Z"
   },
   {
    "duration": 4,
    "start_time": "2023-01-16T11:16:05.145Z"
   },
   {
    "duration": 2,
    "start_time": "2023-01-16T11:16:05.425Z"
   },
   {
    "duration": 798,
    "start_time": "2023-01-16T11:16:06.097Z"
   },
   {
    "duration": 18,
    "start_time": "2023-01-16T11:16:06.897Z"
   },
   {
    "duration": 134,
    "start_time": "2023-01-16T11:16:07.984Z"
   },
   {
    "duration": 4,
    "start_time": "2023-01-16T11:16:11.984Z"
   },
   {
    "duration": 3,
    "start_time": "2023-01-16T11:16:12.679Z"
   },
   {
    "duration": 22,
    "start_time": "2023-01-16T11:16:31.495Z"
   },
   {
    "duration": 11,
    "start_time": "2023-01-16T11:16:35.448Z"
   },
   {
    "duration": 254,
    "start_time": "2023-01-16T11:16:38.808Z"
   },
   {
    "duration": 71,
    "start_time": "2023-01-16T11:17:08.536Z"
   },
   {
    "duration": 121,
    "start_time": "2023-01-16T11:17:38.472Z"
   },
   {
    "duration": 9,
    "start_time": "2023-01-16T11:20:35.097Z"
   },
   {
    "duration": 10,
    "start_time": "2023-01-16T11:20:44.855Z"
   },
   {
    "duration": 221,
    "start_time": "2023-01-16T11:20:55.465Z"
   },
   {
    "duration": 12,
    "start_time": "2023-01-16T11:21:09.657Z"
   },
   {
    "duration": 198,
    "start_time": "2023-01-16T11:21:16.952Z"
   },
   {
    "duration": 11,
    "start_time": "2023-01-16T11:21:26.306Z"
   },
   {
    "duration": 71,
    "start_time": "2023-01-16T11:22:20.147Z"
   },
   {
    "duration": 13,
    "start_time": "2023-01-16T11:25:04.057Z"
   },
   {
    "duration": 284,
    "start_time": "2023-01-16T11:26:36.267Z"
   },
   {
    "duration": 173,
    "start_time": "2023-01-16T11:26:51.331Z"
   },
   {
    "duration": 10,
    "start_time": "2023-01-16T12:01:54.037Z"
   },
   {
    "duration": 7,
    "start_time": "2023-01-16T12:04:01.275Z"
   },
   {
    "duration": 8,
    "start_time": "2023-01-16T12:14:14.864Z"
   },
   {
    "duration": 18,
    "start_time": "2023-01-16T12:15:45.574Z"
   },
   {
    "duration": 10,
    "start_time": "2023-01-16T12:18:20.615Z"
   },
   {
    "duration": 13,
    "start_time": "2023-01-16T12:18:21.999Z"
   },
   {
    "duration": 10,
    "start_time": "2023-01-16T12:18:47.730Z"
   },
   {
    "duration": 13,
    "start_time": "2023-01-16T12:18:48.831Z"
   },
   {
    "duration": 7,
    "start_time": "2023-01-16T12:19:19.148Z"
   },
   {
    "duration": 37,
    "start_time": "2023-01-16T12:19:19.157Z"
   },
   {
    "duration": 862,
    "start_time": "2023-01-16T12:19:19.195Z"
   },
   {
    "duration": 20,
    "start_time": "2023-01-16T12:19:20.060Z"
   },
   {
    "duration": 155,
    "start_time": "2023-01-16T12:19:20.081Z"
   },
   {
    "duration": 5,
    "start_time": "2023-01-16T12:19:20.238Z"
   },
   {
    "duration": 14,
    "start_time": "2023-01-16T12:19:20.245Z"
   },
   {
    "duration": 26,
    "start_time": "2023-01-16T12:19:20.261Z"
   },
   {
    "duration": 24,
    "start_time": "2023-01-16T12:19:20.289Z"
   },
   {
    "duration": 16,
    "start_time": "2023-01-16T12:19:20.316Z"
   },
   {
    "duration": 7,
    "start_time": "2023-01-16T12:19:24.000Z"
   },
   {
    "duration": 14,
    "start_time": "2023-01-16T12:19:28.359Z"
   },
   {
    "duration": 6,
    "start_time": "2023-01-16T12:23:39.422Z"
   },
   {
    "duration": 13,
    "start_time": "2023-01-16T12:23:41.970Z"
   },
   {
    "duration": 295,
    "start_time": "2023-01-16T12:25:16.097Z"
   },
   {
    "duration": 81,
    "start_time": "2023-01-16T12:26:06.874Z"
   },
   {
    "duration": 11,
    "start_time": "2023-01-16T12:30:19.659Z"
   },
   {
    "duration": 309,
    "start_time": "2023-01-16T12:30:30.059Z"
   },
   {
    "duration": 5,
    "start_time": "2023-01-16T12:30:51.379Z"
   },
   {
    "duration": 5,
    "start_time": "2023-01-16T12:31:00.659Z"
   },
   {
    "duration": 147,
    "start_time": "2023-01-16T12:33:58.252Z"
   },
   {
    "duration": 12,
    "start_time": "2023-01-16T12:35:48.548Z"
   },
   {
    "duration": 143,
    "start_time": "2023-01-16T12:36:53.942Z"
   },
   {
    "duration": 3,
    "start_time": "2023-01-16T12:37:28.299Z"
   },
   {
    "duration": 3097,
    "start_time": "2023-01-16T12:39:04.268Z"
   },
   {
    "duration": 22,
    "start_time": "2023-01-16T12:39:41.055Z"
   },
   {
    "duration": 5,
    "start_time": "2023-01-16T12:39:45.952Z"
   },
   {
    "duration": 16,
    "start_time": "2023-01-16T12:39:45.959Z"
   },
   {
    "duration": 963,
    "start_time": "2023-01-16T12:39:45.978Z"
   },
   {
    "duration": 16,
    "start_time": "2023-01-16T12:39:46.943Z"
   },
   {
    "duration": 207,
    "start_time": "2023-01-16T12:39:46.961Z"
   },
   {
    "duration": 4,
    "start_time": "2023-01-16T12:39:47.169Z"
   },
   {
    "duration": 17,
    "start_time": "2023-01-16T12:39:47.175Z"
   },
   {
    "duration": 52,
    "start_time": "2023-01-16T12:39:47.193Z"
   },
   {
    "duration": 27,
    "start_time": "2023-01-16T12:39:47.248Z"
   },
   {
    "duration": 19,
    "start_time": "2023-01-16T12:39:47.276Z"
   },
   {
    "duration": 36,
    "start_time": "2023-01-16T12:39:47.297Z"
   },
   {
    "duration": 20,
    "start_time": "2023-01-16T12:39:47.335Z"
   },
   {
    "duration": 25,
    "start_time": "2023-01-16T12:39:47.357Z"
   },
   {
    "duration": 297,
    "start_time": "2023-01-16T12:39:47.384Z"
   },
   {
    "duration": 22,
    "start_time": "2023-01-16T12:39:47.683Z"
   },
   {
    "duration": 9,
    "start_time": "2023-01-16T12:39:47.708Z"
   },
   {
    "duration": 51,
    "start_time": "2023-01-16T12:39:47.719Z"
   },
   {
    "duration": 28,
    "start_time": "2023-01-16T12:39:55.428Z"
   },
   {
    "duration": 7,
    "start_time": "2023-01-16T12:40:08.099Z"
   },
   {
    "duration": 34,
    "start_time": "2023-01-16T12:40:08.108Z"
   },
   {
    "duration": 972,
    "start_time": "2023-01-16T12:40:08.145Z"
   },
   {
    "duration": 18,
    "start_time": "2023-01-16T12:40:09.120Z"
   },
   {
    "duration": 174,
    "start_time": "2023-01-16T12:40:09.141Z"
   },
   {
    "duration": 10,
    "start_time": "2023-01-16T12:40:09.318Z"
   },
   {
    "duration": 7,
    "start_time": "2023-01-16T12:40:09.330Z"
   },
   {
    "duration": 22,
    "start_time": "2023-01-16T12:40:09.338Z"
   },
   {
    "duration": 11,
    "start_time": "2023-01-16T12:40:09.362Z"
   },
   {
    "duration": 31,
    "start_time": "2023-01-16T12:40:09.376Z"
   },
   {
    "duration": 9,
    "start_time": "2023-01-16T12:40:09.409Z"
   },
   {
    "duration": 18,
    "start_time": "2023-01-16T12:40:09.421Z"
   },
   {
    "duration": 22,
    "start_time": "2023-01-16T12:40:09.444Z"
   },
   {
    "duration": 308,
    "start_time": "2023-01-16T12:40:09.469Z"
   },
   {
    "duration": 8,
    "start_time": "2023-01-16T12:40:09.779Z"
   },
   {
    "duration": 17,
    "start_time": "2023-01-16T12:40:09.789Z"
   },
   {
    "duration": 35,
    "start_time": "2023-01-16T12:40:09.808Z"
   },
   {
    "duration": 22,
    "start_time": "2023-01-16T12:40:25.438Z"
   },
   {
    "duration": 31,
    "start_time": "2023-01-16T12:40:28.844Z"
   },
   {
    "duration": 6,
    "start_time": "2023-01-16T12:41:06.259Z"
   },
   {
    "duration": 10,
    "start_time": "2023-01-16T12:41:06.267Z"
   },
   {
    "duration": 899,
    "start_time": "2023-01-16T12:41:06.280Z"
   },
   {
    "duration": 22,
    "start_time": "2023-01-16T12:41:07.182Z"
   },
   {
    "duration": 161,
    "start_time": "2023-01-16T12:41:07.207Z"
   },
   {
    "duration": 5,
    "start_time": "2023-01-16T12:41:07.370Z"
   },
   {
    "duration": 28,
    "start_time": "2023-01-16T12:41:07.377Z"
   },
   {
    "duration": 24,
    "start_time": "2023-01-16T12:41:07.408Z"
   },
   {
    "duration": 13,
    "start_time": "2023-01-16T12:41:07.435Z"
   },
   {
    "duration": 10,
    "start_time": "2023-01-16T12:41:07.450Z"
   },
   {
    "duration": 13,
    "start_time": "2023-01-16T12:41:07.462Z"
   },
   {
    "duration": 32,
    "start_time": "2023-01-16T12:41:07.476Z"
   },
   {
    "duration": 21,
    "start_time": "2023-01-16T12:41:07.510Z"
   },
   {
    "duration": 533,
    "start_time": "2023-01-16T12:41:07.533Z"
   },
   {
    "duration": 19,
    "start_time": "2023-01-16T12:41:08.069Z"
   },
   {
    "duration": 48,
    "start_time": "2023-01-16T12:41:08.091Z"
   },
   {
    "duration": 44,
    "start_time": "2023-01-16T12:41:08.141Z"
   },
   {
    "duration": 29,
    "start_time": "2023-01-16T12:41:16.001Z"
   },
   {
    "duration": 16,
    "start_time": "2023-01-16T12:41:31.635Z"
   },
   {
    "duration": 50,
    "start_time": "2023-01-16T12:42:43.809Z"
   },
   {
    "duration": 9,
    "start_time": "2023-01-16T12:43:02.371Z"
   },
   {
    "duration": 6,
    "start_time": "2023-01-16T12:43:27.599Z"
   },
   {
    "duration": 6,
    "start_time": "2023-01-16T12:43:35.423Z"
   },
   {
    "duration": 3594,
    "start_time": "2023-01-16T12:43:42.343Z"
   },
   {
    "duration": 11,
    "start_time": "2023-01-16T12:44:34.069Z"
   },
   {
    "duration": 106,
    "start_time": "2023-01-16T12:45:06.324Z"
   },
   {
    "duration": 11,
    "start_time": "2023-01-16T12:46:31.867Z"
   },
   {
    "duration": 101,
    "start_time": "2023-01-16T12:46:33.428Z"
   },
   {
    "duration": 31,
    "start_time": "2023-01-16T12:46:40.400Z"
   },
   {
    "duration": 45,
    "start_time": "2023-01-16T12:48:21.805Z"
   },
   {
    "duration": 136,
    "start_time": "2023-01-16T12:48:35.301Z"
   },
   {
    "duration": 209,
    "start_time": "2023-01-16T12:49:36.612Z"
   },
   {
    "duration": 282,
    "start_time": "2023-01-16T12:49:49.677Z"
   },
   {
    "duration": 13,
    "start_time": "2023-01-16T12:50:11.565Z"
   },
   {
    "duration": 10,
    "start_time": "2023-01-16T12:50:28.155Z"
   },
   {
    "duration": 45,
    "start_time": "2023-01-16T12:50:28.452Z"
   },
   {
    "duration": 103,
    "start_time": "2023-01-16T12:50:28.813Z"
   },
   {
    "duration": 3,
    "start_time": "2023-01-16T12:50:38.178Z"
   },
   {
    "duration": 75,
    "start_time": "2023-01-16T12:50:44.876Z"
   },
   {
    "duration": 103,
    "start_time": "2023-01-16T12:50:46.756Z"
   },
   {
    "duration": 994,
    "start_time": "2023-01-16T12:52:45.156Z"
   },
   {
    "duration": 690,
    "start_time": "2023-01-16T12:52:50.069Z"
   },
   {
    "duration": 40,
    "start_time": "2023-01-16T12:52:56.004Z"
   },
   {
    "duration": 950,
    "start_time": "2023-01-16T12:53:07.445Z"
   },
   {
    "duration": 100,
    "start_time": "2023-01-16T12:53:16.198Z"
   },
   {
    "duration": 3,
    "start_time": "2023-01-16T12:54:07.980Z"
   },
   {
    "duration": 3,
    "start_time": "2023-01-16T12:54:09.652Z"
   },
   {
    "duration": 125,
    "start_time": "2023-01-16T12:54:12.149Z"
   },
   {
    "duration": 42,
    "start_time": "2023-01-16T12:54:49.302Z"
   },
   {
    "duration": 11,
    "start_time": "2023-01-16T12:55:37.550Z"
   },
   {
    "duration": 14,
    "start_time": "2023-01-16T13:00:35.078Z"
   },
   {
    "duration": 308,
    "start_time": "2023-01-16T13:29:10.254Z"
   },
   {
    "duration": 16,
    "start_time": "2023-01-16T13:29:41.196Z"
   },
   {
    "duration": 15,
    "start_time": "2023-01-16T13:30:11.205Z"
   },
   {
    "duration": 4020,
    "start_time": "2023-01-16T13:30:26.092Z"
   },
   {
    "duration": 13,
    "start_time": "2023-01-16T13:30:35.486Z"
   },
   {
    "duration": 123,
    "start_time": "2023-01-16T13:31:22.900Z"
   },
   {
    "duration": 298,
    "start_time": "2023-01-16T13:31:24.540Z"
   },
   {
    "duration": 63,
    "start_time": "2023-01-16T13:32:45.077Z"
   },
   {
    "duration": 89,
    "start_time": "2023-01-16T13:32:46.159Z"
   },
   {
    "duration": 76,
    "start_time": "2023-01-16T13:33:26.454Z"
   },
   {
    "duration": 79,
    "start_time": "2023-01-16T13:33:27.061Z"
   },
   {
    "duration": 819,
    "start_time": "2023-01-16T13:33:29.021Z"
   },
   {
    "duration": 549,
    "start_time": "2023-01-16T13:33:29.842Z"
   },
   {
    "duration": 36,
    "start_time": "2023-01-16T13:33:30.669Z"
   },
   {
    "duration": 553,
    "start_time": "2023-01-16T13:33:30.916Z"
   },
   {
    "duration": 92,
    "start_time": "2023-01-16T13:33:31.471Z"
   },
   {
    "duration": 3,
    "start_time": "2023-01-16T13:33:33.684Z"
   },
   {
    "duration": 3,
    "start_time": "2023-01-16T13:33:33.965Z"
   },
   {
    "duration": 91,
    "start_time": "2023-01-16T13:33:39.006Z"
   },
   {
    "duration": 480,
    "start_time": "2023-01-16T13:33:49.477Z"
   },
   {
    "duration": 35,
    "start_time": "2023-01-16T13:34:26.125Z"
   },
   {
    "duration": 8,
    "start_time": "2023-01-16T13:34:32.550Z"
   },
   {
    "duration": 8,
    "start_time": "2023-01-16T13:34:36.199Z"
   },
   {
    "duration": 6,
    "start_time": "2023-01-16T13:34:40.861Z"
   },
   {
    "duration": 3,
    "start_time": "2023-01-16T13:34:45.765Z"
   },
   {
    "duration": 4,
    "start_time": "2023-01-16T13:34:47.077Z"
   },
   {
    "duration": 4,
    "start_time": "2023-01-16T13:34:49.111Z"
   },
   {
    "duration": 3,
    "start_time": "2023-01-16T13:34:49.974Z"
   },
   {
    "duration": 10156,
    "start_time": "2023-01-16T13:34:59.110Z"
   },
   {
    "duration": 2,
    "start_time": "2023-01-16T13:35:14.878Z"
   },
   {
    "duration": 458375,
    "start_time": "2023-01-16T13:35:15.574Z"
   },
   {
    "duration": 4,
    "start_time": "2023-01-16T13:43:02.527Z"
   },
   {
    "duration": 5,
    "start_time": "2023-01-16T13:43:09.056Z"
   },
   {
    "duration": 1593,
    "start_time": "2023-01-16T13:43:14.679Z"
   },
   {
    "duration": 5,
    "start_time": "2023-01-16T13:45:24.806Z"
   },
   {
    "duration": 6,
    "start_time": "2023-01-16T13:45:47.895Z"
   },
   {
    "duration": 7,
    "start_time": "2023-01-16T13:45:58.935Z"
   },
   {
    "duration": 5,
    "start_time": "2023-01-16T13:48:32.368Z"
   },
   {
    "duration": 6,
    "start_time": "2023-01-16T13:48:35.630Z"
   },
   {
    "duration": 6,
    "start_time": "2023-01-16T13:48:53.289Z"
   },
   {
    "duration": 7,
    "start_time": "2023-01-16T13:48:59.214Z"
   },
   {
    "duration": 7,
    "start_time": "2023-01-16T13:49:11.623Z"
   },
   {
    "duration": 5,
    "start_time": "2023-01-16T13:51:05.764Z"
   },
   {
    "duration": 10,
    "start_time": "2023-01-16T13:51:05.771Z"
   },
   {
    "duration": 840,
    "start_time": "2023-01-16T13:51:05.783Z"
   },
   {
    "duration": 14,
    "start_time": "2023-01-16T13:51:06.625Z"
   },
   {
    "duration": 148,
    "start_time": "2023-01-16T13:51:06.641Z"
   },
   {
    "duration": 6,
    "start_time": "2023-01-16T13:51:06.791Z"
   },
   {
    "duration": 8,
    "start_time": "2023-01-16T13:51:06.798Z"
   },
   {
    "duration": 20,
    "start_time": "2023-01-16T13:51:06.808Z"
   },
   {
    "duration": 12,
    "start_time": "2023-01-16T13:51:06.831Z"
   },
   {
    "duration": 9,
    "start_time": "2023-01-16T13:51:06.846Z"
   },
   {
    "duration": 20,
    "start_time": "2023-01-16T13:51:06.858Z"
   },
   {
    "duration": 29,
    "start_time": "2023-01-16T13:51:06.881Z"
   },
   {
    "duration": 19,
    "start_time": "2023-01-16T13:51:06.912Z"
   },
   {
    "duration": 303,
    "start_time": "2023-01-16T13:51:06.933Z"
   },
   {
    "duration": 9,
    "start_time": "2023-01-16T13:51:20.447Z"
   },
   {
    "duration": 5,
    "start_time": "2023-01-16T13:51:21.175Z"
   },
   {
    "duration": 6,
    "start_time": "2023-01-16T13:51:26.582Z"
   },
   {
    "duration": 6,
    "start_time": "2023-01-16T13:51:27.262Z"
   },
   {
    "duration": 23,
    "start_time": "2023-01-16T13:51:32.688Z"
   },
   {
    "duration": 10,
    "start_time": "2023-01-16T13:51:36.454Z"
   },
   {
    "duration": 37,
    "start_time": "2023-01-16T13:51:36.687Z"
   },
   {
    "duration": 89,
    "start_time": "2023-01-16T13:51:36.911Z"
   },
   {
    "duration": 2,
    "start_time": "2023-01-16T13:51:38.654Z"
   },
   {
    "duration": 3,
    "start_time": "2023-01-16T13:51:39.478Z"
   },
   {
    "duration": 105,
    "start_time": "2023-01-16T13:51:40.551Z"
   },
   {
    "duration": 84,
    "start_time": "2023-01-16T13:51:40.797Z"
   },
   {
    "duration": 830,
    "start_time": "2023-01-16T13:51:41.994Z"
   },
   {
    "duration": 533,
    "start_time": "2023-01-16T13:51:42.826Z"
   },
   {
    "duration": 44,
    "start_time": "2023-01-16T13:51:43.361Z"
   },
   {
    "duration": 716,
    "start_time": "2023-01-16T13:51:43.407Z"
   },
   {
    "duration": 96,
    "start_time": "2023-01-16T13:51:44.125Z"
   },
   {
    "duration": 3,
    "start_time": "2023-01-16T13:51:45.586Z"
   },
   {
    "duration": 3,
    "start_time": "2023-01-16T13:51:45.809Z"
   },
   {
    "duration": 92,
    "start_time": "2023-01-16T13:51:46.301Z"
   },
   {
    "duration": 513,
    "start_time": "2023-01-16T13:51:48.869Z"
   },
   {
    "duration": 29,
    "start_time": "2023-01-16T13:51:49.630Z"
   },
   {
    "duration": 6,
    "start_time": "2023-01-16T13:51:51.831Z"
   },
   {
    "duration": 6,
    "start_time": "2023-01-16T13:51:52.383Z"
   },
   {
    "duration": 6,
    "start_time": "2023-01-16T13:51:53.423Z"
   },
   {
    "duration": 3,
    "start_time": "2023-01-16T13:51:59.863Z"
   },
   {
    "duration": 5,
    "start_time": "2023-01-16T13:52:01.008Z"
   },
   {
    "duration": 11,
    "start_time": "2023-01-16T13:52:01.830Z"
   },
   {
    "duration": 4,
    "start_time": "2023-01-16T13:52:02.974Z"
   },
   {
    "duration": 528424,
    "start_time": "2023-01-16T13:52:09.959Z"
   },
   {
    "duration": 4,
    "start_time": "2023-01-16T14:01:05.098Z"
   },
   {
    "duration": 5,
    "start_time": "2023-01-16T14:01:06.895Z"
   },
   {
    "duration": 1596,
    "start_time": "2023-01-16T14:01:08.104Z"
   },
   {
    "duration": 7,
    "start_time": "2023-01-16T14:01:26.295Z"
   },
   {
    "duration": 7,
    "start_time": "2023-01-16T14:01:27.048Z"
   },
   {
    "duration": 1530,
    "start_time": "2023-01-16T23:21:43.383Z"
   },
   {
    "duration": 3,
    "start_time": "2023-01-16T23:21:44.915Z"
   },
   {
    "duration": 2891,
    "start_time": "2023-01-16T23:21:44.919Z"
   },
   {
    "duration": 18,
    "start_time": "2023-01-16T23:21:47.812Z"
   },
   {
    "duration": 126,
    "start_time": "2023-01-16T23:21:47.832Z"
   },
   {
    "duration": 4,
    "start_time": "2023-01-16T23:21:47.959Z"
   },
   {
    "duration": 6,
    "start_time": "2023-01-16T23:21:47.964Z"
   },
   {
    "duration": 838,
    "start_time": "2023-01-16T23:26:30.019Z"
   },
   {
    "duration": 84,
    "start_time": "2023-01-16T23:26:57.705Z"
   },
   {
    "duration": 13,
    "start_time": "2023-01-16T23:27:46.668Z"
   },
   {
    "duration": 29,
    "start_time": "2023-01-16T23:28:29.296Z"
   },
   {
    "duration": 15,
    "start_time": "2023-01-16T23:28:44.521Z"
   },
   {
    "duration": 9,
    "start_time": "2023-01-16T23:29:52.972Z"
   },
   {
    "duration": 33,
    "start_time": "2023-01-16T23:29:54.297Z"
   },
   {
    "duration": 12,
    "start_time": "2023-01-16T23:29:54.782Z"
   },
   {
    "duration": 48,
    "start_time": "2023-01-16T23:30:45.765Z"
   },
   {
    "duration": 13,
    "start_time": "2023-01-16T23:30:46.855Z"
   },
   {
    "duration": 4,
    "start_time": "2023-01-16T23:32:11.737Z"
   },
   {
    "duration": 11,
    "start_time": "2023-01-16T23:32:11.743Z"
   },
   {
    "duration": 766,
    "start_time": "2023-01-16T23:32:11.756Z"
   },
   {
    "duration": 13,
    "start_time": "2023-01-16T23:32:12.523Z"
   },
   {
    "duration": 138,
    "start_time": "2023-01-16T23:32:12.538Z"
   },
   {
    "duration": 3,
    "start_time": "2023-01-16T23:32:12.678Z"
   },
   {
    "duration": 10,
    "start_time": "2023-01-16T23:32:12.683Z"
   },
   {
    "duration": 61,
    "start_time": "2023-01-16T23:32:20.860Z"
   },
   {
    "duration": 13,
    "start_time": "2023-01-16T23:32:25.712Z"
   },
   {
    "duration": 29,
    "start_time": "2023-01-16T23:33:06.066Z"
   },
   {
    "duration": 12,
    "start_time": "2023-01-16T23:33:07.837Z"
   },
   {
    "duration": 30,
    "start_time": "2023-01-16T23:33:21.886Z"
   },
   {
    "duration": 10,
    "start_time": "2023-01-16T23:33:22.821Z"
   },
   {
    "duration": 6,
    "start_time": "2023-01-16T23:34:02.944Z"
   },
   {
    "duration": 8,
    "start_time": "2023-01-16T23:34:07.406Z"
   },
   {
    "duration": 5,
    "start_time": "2023-01-16T23:34:11.738Z"
   },
   {
    "duration": 12,
    "start_time": "2023-01-16T23:34:14.505Z"
   },
   {
    "duration": 249,
    "start_time": "2023-01-16T23:35:03.610Z"
   },
   {
    "duration": 10,
    "start_time": "2023-01-16T23:35:31.874Z"
   },
   {
    "duration": 5,
    "start_time": "2023-01-16T23:35:32.614Z"
   },
   {
    "duration": 7,
    "start_time": "2023-01-16T23:35:41.541Z"
   },
   {
    "duration": 5,
    "start_time": "2023-01-16T23:35:42.510Z"
   },
   {
    "duration": 5,
    "start_time": "2023-01-16T23:35:50.174Z"
   },
   {
    "duration": 6,
    "start_time": "2023-01-16T23:35:50.866Z"
   },
   {
    "duration": 26,
    "start_time": "2023-01-16T23:36:10.882Z"
   },
   {
    "duration": 10,
    "start_time": "2023-01-16T23:36:15.330Z"
   },
   {
    "duration": 37,
    "start_time": "2023-01-16T23:36:16.582Z"
   },
   {
    "duration": 85,
    "start_time": "2023-01-16T23:36:17.399Z"
   },
   {
    "duration": 2,
    "start_time": "2023-01-16T23:36:35.950Z"
   },
   {
    "duration": 2,
    "start_time": "2023-01-16T23:36:36.852Z"
   },
   {
    "duration": 79,
    "start_time": "2023-01-16T23:37:01.271Z"
   },
   {
    "duration": 84,
    "start_time": "2023-01-16T23:37:04.202Z"
   },
   {
    "duration": 871,
    "start_time": "2023-01-16T23:37:10.813Z"
   },
   {
    "duration": 473,
    "start_time": "2023-01-16T23:37:27.625Z"
   },
   {
    "duration": 33,
    "start_time": "2023-01-16T23:37:50.722Z"
   },
   {
    "duration": 488,
    "start_time": "2023-01-16T23:37:51.722Z"
   },
   {
    "duration": 87,
    "start_time": "2023-01-16T23:37:54.137Z"
   },
   {
    "duration": 3,
    "start_time": "2023-01-16T23:38:05.820Z"
   },
   {
    "duration": 2,
    "start_time": "2023-01-16T23:38:06.476Z"
   },
   {
    "duration": 95,
    "start_time": "2023-01-16T23:38:08.322Z"
   },
   {
    "duration": 451,
    "start_time": "2023-01-16T23:38:18.458Z"
   },
   {
    "duration": 31,
    "start_time": "2023-01-16T23:38:30.765Z"
   },
   {
    "duration": 7,
    "start_time": "2023-01-16T23:38:37.362Z"
   },
   {
    "duration": 6,
    "start_time": "2023-01-16T23:38:37.873Z"
   },
   {
    "duration": 6,
    "start_time": "2023-01-16T23:38:39.116Z"
   },
   {
    "duration": 2,
    "start_time": "2023-01-16T23:38:58.059Z"
   },
   {
    "duration": 6,
    "start_time": "2023-01-16T23:38:58.489Z"
   },
   {
    "duration": 5,
    "start_time": "2023-01-16T23:39:00.173Z"
   },
   {
    "duration": 4,
    "start_time": "2023-01-16T23:39:07.655Z"
   },
   {
    "duration": 4,
    "start_time": "2023-01-16T23:40:00.898Z"
   },
   {
    "duration": 3,
    "start_time": "2023-01-16T23:40:02.444Z"
   },
   {
    "duration": 4,
    "start_time": "2023-01-16T23:40:29.048Z"
   },
   {
    "duration": 4,
    "start_time": "2023-01-16T23:40:29.782Z"
   },
   {
    "duration": 413482,
    "start_time": "2023-01-16T23:40:31.354Z"
   },
   {
    "duration": 4,
    "start_time": "2023-01-16T23:48:06.798Z"
   },
   {
    "duration": 4,
    "start_time": "2023-01-16T23:48:08.275Z"
   },
   {
    "duration": 1347,
    "start_time": "2023-01-16T23:48:09.679Z"
   },
   {
    "duration": 4,
    "start_time": "2023-01-16T23:48:36.719Z"
   },
   {
    "duration": 7,
    "start_time": "2023-01-16T23:48:36.725Z"
   },
   {
    "duration": 770,
    "start_time": "2023-01-16T23:48:36.734Z"
   },
   {
    "duration": 12,
    "start_time": "2023-01-16T23:48:37.506Z"
   },
   {
    "duration": 135,
    "start_time": "2023-01-16T23:48:37.520Z"
   },
   {
    "duration": 4,
    "start_time": "2023-01-16T23:48:37.656Z"
   },
   {
    "duration": 6,
    "start_time": "2023-01-16T23:48:37.662Z"
   },
   {
    "duration": 64,
    "start_time": "2023-01-16T23:48:37.670Z"
   },
   {
    "duration": 38,
    "start_time": "2023-01-16T23:48:37.736Z"
   },
   {
    "duration": 13,
    "start_time": "2023-01-16T23:48:37.776Z"
   },
   {
    "duration": 58,
    "start_time": "2023-01-16T23:48:37.791Z"
   },
   {
    "duration": 11,
    "start_time": "2023-01-16T23:48:37.852Z"
   },
   {
    "duration": 8,
    "start_time": "2023-01-16T23:48:37.865Z"
   },
   {
    "duration": 11,
    "start_time": "2023-01-16T23:48:37.875Z"
   },
   {
    "duration": 7,
    "start_time": "2023-01-16T23:48:37.888Z"
   },
   {
    "duration": 14,
    "start_time": "2023-01-16T23:48:37.897Z"
   },
   {
    "duration": 369,
    "start_time": "2023-01-16T23:48:37.913Z"
   },
   {
    "duration": 9,
    "start_time": "2023-01-16T23:48:38.284Z"
   },
   {
    "duration": 6,
    "start_time": "2023-01-16T23:48:38.295Z"
   },
   {
    "duration": 46,
    "start_time": "2023-01-16T23:48:38.303Z"
   },
   {
    "duration": 9,
    "start_time": "2023-01-16T23:48:38.351Z"
   },
   {
    "duration": 35,
    "start_time": "2023-01-16T23:48:38.361Z"
   },
   {
    "duration": 109,
    "start_time": "2023-01-16T23:48:38.398Z"
   },
   {
    "duration": 3,
    "start_time": "2023-01-16T23:48:38.508Z"
   },
   {
    "duration": 5,
    "start_time": "2023-01-16T23:48:38.512Z"
   },
   {
    "duration": 2,
    "start_time": "2023-01-16T23:48:47.073Z"
   },
   {
    "duration": 53,
    "start_time": "2023-01-16T23:49:02.889Z"
   },
   {
    "duration": 88,
    "start_time": "2023-01-16T23:49:05.220Z"
   },
   {
    "duration": 782,
    "start_time": "2023-01-16T23:49:17.507Z"
   },
   {
    "duration": 497,
    "start_time": "2023-01-16T23:49:25.469Z"
   },
   {
    "duration": 29,
    "start_time": "2023-01-16T23:49:39.191Z"
   },
   {
    "duration": 548,
    "start_time": "2023-01-16T23:49:41.746Z"
   },
   {
    "duration": 79,
    "start_time": "2023-01-16T23:49:46.453Z"
   },
   {
    "duration": 43,
    "start_time": "2023-01-16T23:50:48.368Z"
   },
   {
    "duration": 35,
    "start_time": "2023-01-16T23:50:59.101Z"
   },
   {
    "duration": 25,
    "start_time": "2023-01-16T23:51:31.919Z"
   },
   {
    "duration": 36,
    "start_time": "2023-01-16T23:51:53.749Z"
   },
   {
    "duration": 4,
    "start_time": "2023-01-16T23:52:00.095Z"
   },
   {
    "duration": 2,
    "start_time": "2023-01-16T23:52:00.404Z"
   },
   {
    "duration": 97,
    "start_time": "2023-01-16T23:52:04.002Z"
   },
   {
    "duration": 26,
    "start_time": "2023-01-16T23:52:24.411Z"
   },
   {
    "duration": 83,
    "start_time": "2023-01-16T23:52:35.641Z"
   },
   {
    "duration": 130,
    "start_time": "2023-01-16T23:53:00.461Z"
   },
   {
    "duration": 21,
    "start_time": "2023-01-16T23:53:00.593Z"
   },
   {
    "duration": 852,
    "start_time": "2023-01-16T23:53:00.617Z"
   },
   {
    "duration": 14,
    "start_time": "2023-01-16T23:53:01.472Z"
   },
   {
    "duration": 164,
    "start_time": "2023-01-16T23:53:01.488Z"
   },
   {
    "duration": 4,
    "start_time": "2023-01-16T23:53:01.653Z"
   },
   {
    "duration": 21,
    "start_time": "2023-01-16T23:53:01.659Z"
   },
   {
    "duration": 94,
    "start_time": "2023-01-16T23:53:01.682Z"
   },
   {
    "duration": 30,
    "start_time": "2023-01-16T23:53:01.778Z"
   },
   {
    "duration": 12,
    "start_time": "2023-01-16T23:53:01.810Z"
   },
   {
    "duration": 48,
    "start_time": "2023-01-16T23:53:01.823Z"
   },
   {
    "duration": 10,
    "start_time": "2023-01-16T23:53:01.873Z"
   },
   {
    "duration": 8,
    "start_time": "2023-01-16T23:53:01.885Z"
   },
   {
    "duration": 12,
    "start_time": "2023-01-16T23:53:01.895Z"
   },
   {
    "duration": 11,
    "start_time": "2023-01-16T23:53:01.908Z"
   },
   {
    "duration": 11,
    "start_time": "2023-01-16T23:53:01.921Z"
   },
   {
    "duration": 230,
    "start_time": "2023-01-16T23:53:01.948Z"
   },
   {
    "duration": 9,
    "start_time": "2023-01-16T23:53:02.180Z"
   },
   {
    "duration": 5,
    "start_time": "2023-01-16T23:53:02.190Z"
   },
   {
    "duration": 28,
    "start_time": "2023-01-16T23:53:02.196Z"
   },
   {
    "duration": 10,
    "start_time": "2023-01-16T23:53:03.653Z"
   },
   {
    "duration": 38,
    "start_time": "2023-01-16T23:53:04.031Z"
   },
   {
    "duration": 84,
    "start_time": "2023-01-16T23:53:04.471Z"
   },
   {
    "duration": 3,
    "start_time": "2023-01-16T23:53:05.990Z"
   },
   {
    "duration": 3,
    "start_time": "2023-01-16T23:53:06.536Z"
   },
   {
    "duration": 53,
    "start_time": "2023-01-16T23:53:07.463Z"
   },
   {
    "duration": 91,
    "start_time": "2023-01-16T23:53:09.285Z"
   },
   {
    "duration": 803,
    "start_time": "2023-01-16T23:53:12.739Z"
   },
   {
    "duration": 505,
    "start_time": "2023-01-16T23:53:14.145Z"
   },
   {
    "duration": 27,
    "start_time": "2023-01-16T23:53:16.440Z"
   },
   {
    "duration": 583,
    "start_time": "2023-01-16T23:53:16.703Z"
   },
   {
    "duration": 93,
    "start_time": "2023-01-16T23:53:19.015Z"
   },
   {
    "duration": 30,
    "start_time": "2023-01-16T23:53:30.541Z"
   },
   {
    "duration": 3,
    "start_time": "2023-01-16T23:53:47.127Z"
   },
   {
    "duration": 2,
    "start_time": "2023-01-16T23:53:47.435Z"
   },
   {
    "duration": 97,
    "start_time": "2023-01-16T23:53:48.345Z"
   },
   {
    "duration": 34,
    "start_time": "2023-01-16T23:53:50.925Z"
   },
   {
    "duration": 89,
    "start_time": "2023-01-16T23:54:11.078Z"
   },
   {
    "duration": 24,
    "start_time": "2023-01-16T23:54:24.837Z"
   },
   {
    "duration": 11,
    "start_time": "2023-01-16T23:54:26.149Z"
   },
   {
    "duration": 19,
    "start_time": "2023-01-16T23:54:50.977Z"
   },
   {
    "duration": 7,
    "start_time": "2023-01-16T23:54:58.826Z"
   },
   {
    "duration": 34,
    "start_time": "2023-01-16T23:54:58.835Z"
   },
   {
    "duration": 730,
    "start_time": "2023-01-16T23:54:58.870Z"
   },
   {
    "duration": 13,
    "start_time": "2023-01-16T23:54:59.602Z"
   },
   {
    "duration": 133,
    "start_time": "2023-01-16T23:54:59.617Z"
   },
   {
    "duration": 4,
    "start_time": "2023-01-16T23:54:59.752Z"
   },
   {
    "duration": 9,
    "start_time": "2023-01-16T23:54:59.758Z"
   },
   {
    "duration": 93,
    "start_time": "2023-01-16T23:54:59.769Z"
   },
   {
    "duration": 30,
    "start_time": "2023-01-16T23:54:59.863Z"
   },
   {
    "duration": 13,
    "start_time": "2023-01-16T23:54:59.894Z"
   },
   {
    "duration": 54,
    "start_time": "2023-01-16T23:54:59.909Z"
   },
   {
    "duration": 11,
    "start_time": "2023-01-16T23:54:59.965Z"
   },
   {
    "duration": 6,
    "start_time": "2023-01-16T23:54:59.978Z"
   },
   {
    "duration": 7,
    "start_time": "2023-01-16T23:54:59.987Z"
   },
   {
    "duration": 5,
    "start_time": "2023-01-16T23:54:59.996Z"
   },
   {
    "duration": 20,
    "start_time": "2023-01-16T23:55:00.002Z"
   },
   {
    "duration": 273,
    "start_time": "2023-01-16T23:55:00.049Z"
   },
   {
    "duration": 10,
    "start_time": "2023-01-16T23:55:00.323Z"
   },
   {
    "duration": 16,
    "start_time": "2023-01-16T23:55:00.335Z"
   },
   {
    "duration": 50,
    "start_time": "2023-01-16T23:55:00.353Z"
   },
   {
    "duration": 11,
    "start_time": "2023-01-16T23:55:00.405Z"
   },
   {
    "duration": 46,
    "start_time": "2023-01-16T23:55:00.418Z"
   },
   {
    "duration": 88,
    "start_time": "2023-01-16T23:55:00.466Z"
   },
   {
    "duration": 2,
    "start_time": "2023-01-16T23:55:00.557Z"
   },
   {
    "duration": 54,
    "start_time": "2023-01-16T23:55:00.561Z"
   },
   {
    "duration": 82,
    "start_time": "2023-01-16T23:55:00.617Z"
   },
   {
    "duration": 95,
    "start_time": "2023-01-16T23:55:00.701Z"
   },
   {
    "duration": 792,
    "start_time": "2023-01-16T23:55:00.798Z"
   },
   {
    "duration": 477,
    "start_time": "2023-01-16T23:55:01.591Z"
   },
   {
    "duration": 28,
    "start_time": "2023-01-16T23:55:02.070Z"
   },
   {
    "duration": 633,
    "start_time": "2023-01-16T23:55:02.100Z"
   },
   {
    "duration": 89,
    "start_time": "2023-01-16T23:55:02.735Z"
   },
   {
    "duration": 78,
    "start_time": "2023-01-16T23:55:07.672Z"
   },
   {
    "duration": 17,
    "start_time": "2023-01-16T23:55:12.502Z"
   },
   {
    "duration": 10,
    "start_time": "2023-01-16T23:55:14.485Z"
   },
   {
    "duration": 5,
    "start_time": "2023-01-16T23:55:38.542Z"
   },
   {
    "duration": 8,
    "start_time": "2023-01-16T23:55:38.549Z"
   },
   {
    "duration": 716,
    "start_time": "2023-01-16T23:55:38.558Z"
   },
   {
    "duration": 12,
    "start_time": "2023-01-16T23:55:39.276Z"
   },
   {
    "duration": 135,
    "start_time": "2023-01-16T23:55:39.290Z"
   },
   {
    "duration": 4,
    "start_time": "2023-01-16T23:55:39.427Z"
   },
   {
    "duration": 17,
    "start_time": "2023-01-16T23:55:39.432Z"
   },
   {
    "duration": 66,
    "start_time": "2023-01-16T23:55:39.451Z"
   },
   {
    "duration": 38,
    "start_time": "2023-01-16T23:55:39.518Z"
   },
   {
    "duration": 14,
    "start_time": "2023-01-16T23:55:39.558Z"
   },
   {
    "duration": 36,
    "start_time": "2023-01-16T23:55:47.453Z"
   },
   {
    "duration": 11,
    "start_time": "2023-01-16T23:55:49.639Z"
   },
   {
    "duration": 5,
    "start_time": "2023-01-16T23:55:51.176Z"
   },
   {
    "duration": 8,
    "start_time": "2023-01-16T23:55:58.291Z"
   },
   {
    "duration": 6,
    "start_time": "2023-01-16T23:55:58.703Z"
   },
   {
    "duration": 12,
    "start_time": "2023-01-16T23:56:00.054Z"
   },
   {
    "duration": 241,
    "start_time": "2023-01-16T23:56:02.009Z"
   },
   {
    "duration": 9,
    "start_time": "2023-01-16T23:56:02.421Z"
   },
   {
    "duration": 6,
    "start_time": "2023-01-16T23:56:03.766Z"
   },
   {
    "duration": 24,
    "start_time": "2023-01-16T23:56:04.146Z"
   },
   {
    "duration": 9,
    "start_time": "2023-01-16T23:56:04.462Z"
   },
   {
    "duration": 34,
    "start_time": "2023-01-16T23:56:04.664Z"
   },
   {
    "duration": 84,
    "start_time": "2023-01-16T23:56:06.682Z"
   },
   {
    "duration": 2,
    "start_time": "2023-01-16T23:56:06.895Z"
   },
   {
    "duration": 3,
    "start_time": "2023-01-16T23:56:08.158Z"
   },
   {
    "duration": 52,
    "start_time": "2023-01-16T23:56:14.288Z"
   },
   {
    "duration": 85,
    "start_time": "2023-01-16T23:56:15.504Z"
   },
   {
    "duration": 782,
    "start_time": "2023-01-16T23:56:19.566Z"
   },
   {
    "duration": 495,
    "start_time": "2023-01-16T23:56:21.084Z"
   },
   {
    "duration": 29,
    "start_time": "2023-01-16T23:56:23.989Z"
   },
   {
    "duration": 644,
    "start_time": "2023-01-16T23:56:26.937Z"
   },
   {
    "duration": 78,
    "start_time": "2023-01-16T23:56:29.174Z"
   },
   {
    "duration": 17,
    "start_time": "2023-01-16T23:56:40.316Z"
   },
   {
    "duration": 79,
    "start_time": "2023-01-16T23:56:40.986Z"
   },
   {
    "duration": 69,
    "start_time": "2023-01-16T23:57:03.461Z"
   },
   {
    "duration": 68,
    "start_time": "2023-01-16T23:57:10.497Z"
   },
   {
    "duration": 3,
    "start_time": "2023-01-16T23:57:14.716Z"
   },
   {
    "duration": 3,
    "start_time": "2023-01-16T23:57:14.919Z"
   },
   {
    "duration": 83,
    "start_time": "2023-01-16T23:57:16.479Z"
   },
   {
    "duration": 374,
    "start_time": "2023-01-16T23:57:18.660Z"
   },
   {
    "duration": 26,
    "start_time": "2023-01-16T23:57:23.761Z"
   },
   {
    "duration": 5,
    "start_time": "2023-01-16T23:57:29.032Z"
   },
   {
    "duration": 7,
    "start_time": "2023-01-16T23:57:29.407Z"
   },
   {
    "duration": 6,
    "start_time": "2023-01-16T23:57:30.977Z"
   },
   {
    "duration": 3,
    "start_time": "2023-01-16T23:57:34.484Z"
   },
   {
    "duration": 5,
    "start_time": "2023-01-16T23:57:35.140Z"
   },
   {
    "duration": 3,
    "start_time": "2023-01-16T23:57:45.863Z"
   },
   {
    "duration": 3,
    "start_time": "2023-01-16T23:57:47.482Z"
   },
   {
    "duration": 300672,
    "start_time": "2023-01-16T23:57:50.446Z"
   },
   {
    "duration": 4,
    "start_time": "2023-01-17T00:03:08.126Z"
   },
   {
    "duration": 4,
    "start_time": "2023-01-17T00:03:16.029Z"
   },
   {
    "duration": 447,
    "start_time": "2023-01-17T00:03:17.941Z"
   },
   {
    "duration": 6,
    "start_time": "2023-01-17T00:07:08.839Z"
   },
   {
    "duration": 3,
    "start_time": "2023-01-17T00:07:09.124Z"
   },
   {
    "duration": 741,
    "start_time": "2023-01-17T00:07:09.756Z"
   },
   {
    "duration": 13,
    "start_time": "2023-01-17T00:07:10.499Z"
   },
   {
    "duration": 121,
    "start_time": "2023-01-17T00:07:23.047Z"
   },
   {
    "duration": 5,
    "start_time": "2023-01-17T00:07:30.593Z"
   },
   {
    "duration": 3,
    "start_time": "2023-01-17T00:07:30.830Z"
   },
   {
    "duration": 61,
    "start_time": "2023-01-17T00:07:31.552Z"
   },
   {
    "duration": 31,
    "start_time": "2023-01-17T00:07:32.686Z"
   },
   {
    "duration": 12,
    "start_time": "2023-01-17T00:07:38.358Z"
   },
   {
    "duration": 36,
    "start_time": "2023-01-17T00:07:53.777Z"
   },
   {
    "duration": 11,
    "start_time": "2023-01-17T00:07:54.691Z"
   },
   {
    "duration": 4,
    "start_time": "2023-01-17T00:07:58.853Z"
   },
   {
    "duration": 7,
    "start_time": "2023-01-17T00:08:02.599Z"
   },
   {
    "duration": 6,
    "start_time": "2023-01-17T00:08:12.007Z"
   },
   {
    "duration": 12,
    "start_time": "2023-01-17T00:08:14.817Z"
   },
   {
    "duration": 240,
    "start_time": "2023-01-17T00:08:17.606Z"
   },
   {
    "duration": 10,
    "start_time": "2023-01-17T00:08:19.533Z"
   },
   {
    "duration": 6,
    "start_time": "2023-01-17T00:08:19.998Z"
   },
   {
    "duration": 8,
    "start_time": "2023-01-17T00:10:06.113Z"
   },
   {
    "duration": 12,
    "start_time": "2023-01-17T00:10:06.691Z"
   },
   {
    "duration": 220,
    "start_time": "2023-01-17T00:10:15.673Z"
   },
   {
    "duration": 6,
    "start_time": "2023-01-17T00:10:18.046Z"
   },
   {
    "duration": 5,
    "start_time": "2023-01-17T00:10:18.465Z"
   },
   {
    "duration": 22,
    "start_time": "2023-01-17T00:10:20.195Z"
   },
   {
    "duration": 12,
    "start_time": "2023-01-17T00:10:39.722Z"
   },
   {
    "duration": 31,
    "start_time": "2023-01-17T00:10:40.190Z"
   },
   {
    "duration": 80,
    "start_time": "2023-01-17T00:10:41.164Z"
   },
   {
    "duration": 4,
    "start_time": "2023-01-17T00:10:43.489Z"
   },
   {
    "duration": 3,
    "start_time": "2023-01-17T00:10:44.995Z"
   },
   {
    "duration": 37,
    "start_time": "2023-01-17T00:11:18.692Z"
   },
   {
    "duration": 32,
    "start_time": "2023-01-17T00:11:33.217Z"
   },
   {
    "duration": 35,
    "start_time": "2023-01-17T00:12:10.078Z"
   },
   {
    "duration": 106,
    "start_time": "2023-01-17T00:12:36.254Z"
   },
   {
    "duration": 81,
    "start_time": "2023-01-17T00:12:39.034Z"
   },
   {
    "duration": 776,
    "start_time": "2023-01-17T00:12:50.831Z"
   },
   {
    "duration": 623,
    "start_time": "2023-01-17T00:12:53.721Z"
   },
   {
    "duration": 29,
    "start_time": "2023-01-17T00:12:58.349Z"
   },
   {
    "duration": 463,
    "start_time": "2023-01-17T00:12:58.828Z"
   },
   {
    "duration": 81,
    "start_time": "2023-01-17T00:13:02.577Z"
   },
   {
    "duration": 89,
    "start_time": "2023-01-17T00:13:15.105Z"
   },
   {
    "duration": 2,
    "start_time": "2023-01-17T00:13:23.075Z"
   },
   {
    "duration": 76,
    "start_time": "2023-01-17T00:13:23.524Z"
   },
   {
    "duration": 3,
    "start_time": "2023-01-17T00:13:28.326Z"
   },
   {
    "duration": 3,
    "start_time": "2023-01-17T00:13:28.631Z"
   },
   {
    "duration": 91,
    "start_time": "2023-01-17T00:13:32.382Z"
   },
   {
    "duration": 399,
    "start_time": "2023-01-17T00:13:55.903Z"
   },
   {
    "duration": 23,
    "start_time": "2023-01-17T00:14:02.104Z"
   },
   {
    "duration": 6,
    "start_time": "2023-01-17T00:14:04.193Z"
   },
   {
    "duration": 6,
    "start_time": "2023-01-17T00:14:04.603Z"
   },
   {
    "duration": 6,
    "start_time": "2023-01-17T00:14:05.482Z"
   },
   {
    "duration": 2,
    "start_time": "2023-01-17T00:14:12.525Z"
   },
   {
    "duration": 4,
    "start_time": "2023-01-17T00:14:12.789Z"
   },
   {
    "duration": 4,
    "start_time": "2023-01-17T00:14:48.188Z"
   },
   {
    "duration": 3,
    "start_time": "2023-01-17T00:14:48.929Z"
   },
   {
    "duration": 856586,
    "start_time": "2023-01-17T00:14:50.309Z"
   },
   {
    "duration": 4,
    "start_time": "2023-01-17T00:29:52.234Z"
   },
   {
    "duration": 4,
    "start_time": "2023-01-17T00:29:55.533Z"
   },
   {
    "duration": 967,
    "start_time": "2023-01-17T00:29:59.037Z"
   },
   {
    "duration": 1523,
    "start_time": "2023-01-17T07:32:17.308Z"
   },
   {
    "duration": 3,
    "start_time": "2023-01-17T07:32:18.833Z"
   },
   {
    "duration": 1016,
    "start_time": "2023-01-17T07:32:21.886Z"
   },
   {
    "duration": 4,
    "start_time": "2023-01-17T08:41:12.084Z"
   },
   {
    "duration": 3,
    "start_time": "2023-01-17T08:41:12.892Z"
   },
   {
    "duration": 739,
    "start_time": "2023-01-17T08:41:16.210Z"
   },
   {
    "duration": 17,
    "start_time": "2023-01-17T08:41:16.951Z"
   },
   {
    "duration": 113,
    "start_time": "2023-01-17T08:41:18.893Z"
   },
   {
    "duration": 3,
    "start_time": "2023-01-17T08:41:20.855Z"
   },
   {
    "duration": 3,
    "start_time": "2023-01-17T08:41:21.460Z"
   },
   {
    "duration": 74,
    "start_time": "2023-01-17T08:41:22.924Z"
   },
   {
    "duration": 30,
    "start_time": "2023-01-17T08:41:23.827Z"
   },
   {
    "duration": 13,
    "start_time": "2023-01-17T08:41:24.219Z"
   },
   {
    "duration": 50,
    "start_time": "2023-01-17T08:42:20.588Z"
   },
   {
    "duration": 17,
    "start_time": "2023-01-17T08:42:21.381Z"
   },
   {
    "duration": 6,
    "start_time": "2023-01-17T08:42:29.467Z"
   },
   {
    "duration": 7,
    "start_time": "2023-01-17T08:42:40.124Z"
   },
   {
    "duration": 8,
    "start_time": "2023-01-17T08:42:52.220Z"
   },
   {
    "duration": 9,
    "start_time": "2023-01-17T08:42:52.860Z"
   },
   {
    "duration": 13,
    "start_time": "2023-01-17T08:42:53.900Z"
   },
   {
    "duration": 241,
    "start_time": "2023-01-17T08:43:27.467Z"
   },
   {
    "duration": 10,
    "start_time": "2023-01-17T08:43:31.683Z"
   },
   {
    "duration": 5,
    "start_time": "2023-01-17T08:43:32.244Z"
   },
   {
    "duration": 27,
    "start_time": "2023-01-17T08:43:33.699Z"
   },
   {
    "duration": 11,
    "start_time": "2023-01-17T08:43:40.843Z"
   },
   {
    "duration": 33,
    "start_time": "2023-01-17T08:43:47.403Z"
   },
   {
    "duration": 66,
    "start_time": "2023-01-17T08:43:48.788Z"
   },
   {
    "duration": 3,
    "start_time": "2023-01-17T08:43:52.915Z"
   },
   {
    "duration": 2,
    "start_time": "2023-01-17T08:43:55.324Z"
   },
   {
    "duration": 31,
    "start_time": "2023-01-17T08:44:34.637Z"
   },
   {
    "duration": 75,
    "start_time": "2023-01-17T08:44:49.541Z"
   },
   {
    "duration": 70,
    "start_time": "2023-01-17T08:44:54.862Z"
   },
   {
    "duration": 64,
    "start_time": "2023-01-17T08:45:26.453Z"
   },
   {
    "duration": 78,
    "start_time": "2023-01-17T08:45:34.684Z"
   },
   {
    "duration": 3,
    "start_time": "2023-01-17T08:45:42.725Z"
   },
   {
    "duration": 3,
    "start_time": "2023-01-17T08:45:43.005Z"
   },
   {
    "duration": 110,
    "start_time": "2023-01-17T08:45:44.109Z"
   },
   {
    "duration": 389,
    "start_time": "2023-01-17T08:45:45.620Z"
   },
   {
    "duration": 25,
    "start_time": "2023-01-17T08:45:56.020Z"
   },
   {
    "duration": 6,
    "start_time": "2023-01-17T08:45:58.595Z"
   },
   {
    "duration": 5,
    "start_time": "2023-01-17T08:46:00.229Z"
   },
   {
    "duration": 6,
    "start_time": "2023-01-17T08:46:01.605Z"
   },
   {
    "duration": 2,
    "start_time": "2023-01-17T08:46:05.076Z"
   },
   {
    "duration": 4,
    "start_time": "2023-01-17T08:46:05.364Z"
   },
   {
    "duration": 4,
    "start_time": "2023-01-17T08:46:07.980Z"
   },
   {
    "duration": 2,
    "start_time": "2023-01-17T08:46:11.068Z"
   },
   {
    "duration": 1061236,
    "start_time": "2023-01-17T08:46:13.501Z"
   },
   {
    "duration": 4,
    "start_time": "2023-01-17T09:04:47.472Z"
   },
   {
    "duration": 5,
    "start_time": "2023-01-17T09:04:49.080Z"
   },
   {
    "duration": 1073,
    "start_time": "2023-01-17T09:04:53.800Z"
   },
   {
    "duration": 4,
    "start_time": "2023-01-17T09:13:42.768Z"
   },
   {
    "duration": 18,
    "start_time": "2023-01-17T09:13:42.774Z"
   },
   {
    "duration": 838,
    "start_time": "2023-01-17T09:13:42.795Z"
   },
   {
    "duration": 12,
    "start_time": "2023-01-17T09:13:43.635Z"
   },
   {
    "duration": 123,
    "start_time": "2023-01-17T09:13:43.648Z"
   },
   {
    "duration": 6,
    "start_time": "2023-01-17T09:13:43.772Z"
   },
   {
    "duration": 31,
    "start_time": "2023-01-17T09:13:43.780Z"
   },
   {
    "duration": 108,
    "start_time": "2023-01-17T09:13:43.812Z"
   },
   {
    "duration": 31,
    "start_time": "2023-01-17T09:13:43.922Z"
   },
   {
    "duration": 25,
    "start_time": "2023-01-17T09:13:43.955Z"
   },
   {
    "duration": 189,
    "start_time": "2023-01-17T09:13:43.984Z"
   },
   {
    "duration": 11,
    "start_time": "2023-01-17T09:13:44.175Z"
   },
   {
    "duration": 37,
    "start_time": "2023-01-17T09:13:44.188Z"
   },
   {
    "duration": 91,
    "start_time": "2023-01-17T09:13:44.228Z"
   },
   {
    "duration": 84,
    "start_time": "2023-01-17T09:13:44.321Z"
   },
   {
    "duration": 68,
    "start_time": "2023-01-17T09:13:44.407Z"
   },
   {
    "duration": 273,
    "start_time": "2023-01-17T09:13:44.477Z"
   },
   {
    "duration": 10,
    "start_time": "2023-01-17T09:13:44.753Z"
   },
   {
    "duration": 31,
    "start_time": "2023-01-17T09:13:44.778Z"
   },
   {
    "duration": 74,
    "start_time": "2023-01-17T09:13:44.810Z"
   },
   {
    "duration": 11,
    "start_time": "2023-01-17T09:13:44.886Z"
   },
   {
    "duration": 70,
    "start_time": "2023-01-17T09:13:44.899Z"
   },
   {
    "duration": 73,
    "start_time": "2023-01-17T09:13:44.971Z"
   },
   {
    "duration": 3,
    "start_time": "2023-01-17T09:13:45.046Z"
   },
   {
    "duration": 49,
    "start_time": "2023-01-17T09:13:45.051Z"
   },
   {
    "duration": 147,
    "start_time": "2023-01-17T09:13:45.103Z"
   },
   {
    "duration": 77,
    "start_time": "2023-01-17T09:13:45.251Z"
   },
   {
    "duration": 849,
    "start_time": "2023-01-17T09:13:45.330Z"
   },
   {
    "duration": 537,
    "start_time": "2023-01-17T09:13:46.182Z"
   },
   {
    "duration": 30,
    "start_time": "2023-01-17T09:13:46.721Z"
   },
   {
    "duration": 655,
    "start_time": "2023-01-17T09:13:46.753Z"
   },
   {
    "duration": 71,
    "start_time": "2023-01-17T09:13:47.410Z"
   },
   {
    "duration": 2,
    "start_time": "2023-01-17T09:13:47.483Z"
   },
   {
    "duration": 2,
    "start_time": "2023-01-17T09:13:51.554Z"
   },
   {
    "duration": 68,
    "start_time": "2023-01-17T09:13:54.520Z"
   },
   {
    "duration": 3,
    "start_time": "2023-01-17T09:14:17.984Z"
   },
   {
    "duration": 3,
    "start_time": "2023-01-17T09:14:19.208Z"
   },
   {
    "duration": 99,
    "start_time": "2023-01-17T09:14:21.888Z"
   },
   {
    "duration": 361,
    "start_time": "2023-01-17T09:14:22.936Z"
   },
   {
    "duration": 23,
    "start_time": "2023-01-17T09:14:24.969Z"
   },
   {
    "duration": 994,
    "start_time": "2023-01-17T09:14:33.450Z"
   },
   {
    "duration": 3,
    "start_time": "2023-01-17T09:14:43.537Z"
   },
   {
    "duration": 4,
    "start_time": "2023-01-17T09:14:43.785Z"
   },
   {
    "duration": 4,
    "start_time": "2023-01-17T09:14:44.001Z"
   },
   {
    "duration": 3,
    "start_time": "2023-01-17T09:14:44.489Z"
   },
   {
    "duration": 3,
    "start_time": "2023-01-17T09:14:52.841Z"
   },
   {
    "duration": 648298,
    "start_time": "2023-01-17T09:14:53.137Z"
   },
   {
    "duration": 4,
    "start_time": "2023-01-17T09:31:34.308Z"
   },
   {
    "duration": 5,
    "start_time": "2023-01-17T09:31:35.916Z"
   },
   {
    "duration": 1072,
    "start_time": "2023-01-17T09:31:36.828Z"
   },
   {
    "duration": 16,
    "start_time": "2023-01-17T09:34:01.854Z"
   },
   {
    "duration": 113,
    "start_time": "2023-01-17T09:40:08.237Z"
   },
   {
    "duration": 5,
    "start_time": "2023-01-17T09:40:15.318Z"
   },
   {
    "duration": 26,
    "start_time": "2023-01-17T09:40:32.854Z"
   },
   {
    "duration": 6,
    "start_time": "2023-01-17T09:40:37.181Z"
   },
   {
    "duration": 7,
    "start_time": "2023-01-17T09:40:37.660Z"
   },
   {
    "duration": 7,
    "start_time": "2023-01-17T09:40:38.445Z"
   },
   {
    "duration": 2,
    "start_time": "2023-01-17T09:40:47.037Z"
   },
   {
    "duration": 5,
    "start_time": "2023-01-17T09:40:47.373Z"
   },
   {
    "duration": 4,
    "start_time": "2023-01-17T09:40:49.013Z"
   },
   {
    "duration": 3,
    "start_time": "2023-01-17T09:40:49.966Z"
   },
   {
    "duration": 16530,
    "start_time": "2023-01-17T09:40:54.590Z"
   },
   {
    "duration": 4,
    "start_time": "2023-01-17T09:41:22.974Z"
   },
   {
    "duration": 4,
    "start_time": "2023-01-17T09:41:30.054Z"
   },
   {
    "duration": 5,
    "start_time": "2023-01-17T09:41:34.695Z"
   },
   {
    "duration": 4,
    "start_time": "2023-01-17T09:41:35.182Z"
   },
   {
    "duration": 1162520,
    "start_time": "2023-01-17T09:41:39.958Z"
   },
   {
    "duration": 4,
    "start_time": "2023-01-17T10:01:18.985Z"
   },
   {
    "duration": 4,
    "start_time": "2023-01-17T10:01:22.097Z"
   },
   {
    "duration": 1681,
    "start_time": "2023-01-17T10:01:31.531Z"
   },
   {
    "duration": 4,
    "start_time": "2023-01-17T10:01:37.961Z"
   },
   {
    "duration": 1627,
    "start_time": "2023-01-17T10:01:41.177Z"
   },
   {
    "duration": 3,
    "start_time": "2023-01-17T10:01:43.362Z"
   },
   {
    "duration": 4,
    "start_time": "2023-01-17T10:01:44.153Z"
   },
   {
    "duration": 1633,
    "start_time": "2023-01-17T10:01:44.961Z"
   },
   {
    "duration": 67,
    "start_time": "2023-01-17T10:02:54.825Z"
   },
   {
    "duration": 63,
    "start_time": "2023-01-17T10:02:56.657Z"
   },
   {
    "duration": 6,
    "start_time": "2023-01-17T10:03:04.432Z"
   },
   {
    "duration": 46,
    "start_time": "2023-01-17T10:03:04.440Z"
   },
   {
    "duration": 868,
    "start_time": "2023-01-17T10:03:04.488Z"
   },
   {
    "duration": 13,
    "start_time": "2023-01-17T10:03:05.358Z"
   },
   {
    "duration": 107,
    "start_time": "2023-01-17T10:03:05.373Z"
   },
   {
    "duration": 4,
    "start_time": "2023-01-17T10:03:05.482Z"
   },
   {
    "duration": 12,
    "start_time": "2023-01-17T10:03:05.488Z"
   },
   {
    "duration": 63,
    "start_time": "2023-01-17T10:03:05.502Z"
   },
   {
    "duration": 39,
    "start_time": "2023-01-17T10:03:05.567Z"
   },
   {
    "duration": 14,
    "start_time": "2023-01-17T10:03:05.609Z"
   },
   {
    "duration": 63,
    "start_time": "2023-01-17T10:03:05.625Z"
   },
   {
    "duration": 12,
    "start_time": "2023-01-17T10:03:05.690Z"
   },
   {
    "duration": 31,
    "start_time": "2023-01-17T10:03:05.703Z"
   },
   {
    "duration": 28,
    "start_time": "2023-01-17T10:03:05.736Z"
   },
   {
    "duration": 18,
    "start_time": "2023-01-17T10:03:05.766Z"
   },
   {
    "duration": 13,
    "start_time": "2023-01-17T10:03:05.786Z"
   },
   {
    "duration": 251,
    "start_time": "2023-01-17T10:03:05.801Z"
   },
   {
    "duration": 9,
    "start_time": "2023-01-17T10:03:06.054Z"
   },
   {
    "duration": 15,
    "start_time": "2023-01-17T10:03:06.065Z"
   },
   {
    "duration": 27,
    "start_time": "2023-01-17T10:03:06.082Z"
   },
   {
    "duration": 10,
    "start_time": "2023-01-17T10:03:06.111Z"
   },
   {
    "duration": 62,
    "start_time": "2023-01-17T10:03:06.123Z"
   },
   {
    "duration": 92,
    "start_time": "2023-01-17T10:03:06.187Z"
   },
   {
    "duration": 3,
    "start_time": "2023-01-17T10:03:06.281Z"
   },
   {
    "duration": 39,
    "start_time": "2023-01-17T10:03:06.286Z"
   },
   {
    "duration": 72,
    "start_time": "2023-01-17T10:03:11.753Z"
   },
   {
    "duration": 71,
    "start_time": "2023-01-17T10:03:12.161Z"
   },
   {
    "duration": 917,
    "start_time": "2023-01-17T10:03:34.529Z"
   },
   {
    "duration": 660,
    "start_time": "2023-01-17T10:04:26.690Z"
   },
   {
    "duration": 485,
    "start_time": "2023-01-17T10:04:48.474Z"
   },
   {
    "duration": 969,
    "start_time": "2023-01-17T10:05:11.122Z"
   },
   {
    "duration": 821,
    "start_time": "2023-01-17T10:05:23.418Z"
   },
   {
    "duration": 345,
    "start_time": "2023-01-17T10:05:45.130Z"
   },
   {
    "duration": 947,
    "start_time": "2023-01-17T10:07:55.588Z"
   },
   {
    "duration": 761,
    "start_time": "2023-01-17T10:08:05.755Z"
   },
   {
    "duration": 4,
    "start_time": "2023-01-17T10:10:17.705Z"
   },
   {
    "duration": 12,
    "start_time": "2023-01-17T10:10:17.711Z"
   },
   {
    "duration": 768,
    "start_time": "2023-01-17T10:10:17.725Z"
   },
   {
    "duration": 14,
    "start_time": "2023-01-17T10:10:18.495Z"
   },
   {
    "duration": 130,
    "start_time": "2023-01-17T10:10:18.511Z"
   },
   {
    "duration": 4,
    "start_time": "2023-01-17T10:10:18.643Z"
   },
   {
    "duration": 15,
    "start_time": "2023-01-17T10:10:18.648Z"
   },
   {
    "duration": 67,
    "start_time": "2023-01-17T10:10:18.664Z"
   },
   {
    "duration": 29,
    "start_time": "2023-01-17T10:10:18.733Z"
   },
   {
    "duration": 19,
    "start_time": "2023-01-17T10:10:18.763Z"
   },
   {
    "duration": 40,
    "start_time": "2023-01-17T10:10:18.784Z"
   },
   {
    "duration": 12,
    "start_time": "2023-01-17T10:10:18.826Z"
   },
   {
    "duration": 7,
    "start_time": "2023-01-17T10:10:18.839Z"
   },
   {
    "duration": 19,
    "start_time": "2023-01-17T10:10:18.848Z"
   },
   {
    "duration": 20,
    "start_time": "2023-01-17T10:10:18.868Z"
   },
   {
    "duration": 12,
    "start_time": "2023-01-17T10:10:18.890Z"
   },
   {
    "duration": 431,
    "start_time": "2023-01-17T10:10:18.904Z"
   },
   {
    "duration": 10,
    "start_time": "2023-01-17T10:10:19.336Z"
   },
   {
    "duration": 5,
    "start_time": "2023-01-17T10:10:19.347Z"
   },
   {
    "duration": 42,
    "start_time": "2023-01-17T10:10:19.353Z"
   },
   {
    "duration": 10,
    "start_time": "2023-01-17T10:10:20.763Z"
   },
   {
    "duration": 32,
    "start_time": "2023-01-17T10:10:21.611Z"
   },
   {
    "duration": 89,
    "start_time": "2023-01-17T10:10:25.721Z"
   },
   {
    "duration": 2,
    "start_time": "2023-01-17T10:10:28.739Z"
   },
   {
    "duration": 2,
    "start_time": "2023-01-17T10:10:29.258Z"
   },
   {
    "duration": 76,
    "start_time": "2023-01-17T10:10:31.163Z"
   },
   {
    "duration": 67,
    "start_time": "2023-01-17T10:10:32.082Z"
   },
   {
    "duration": 886,
    "start_time": "2023-01-17T10:10:35.674Z"
   },
   {
    "duration": 807,
    "start_time": "2023-01-17T10:10:43.866Z"
   },
   {
    "duration": 869,
    "start_time": "2023-01-17T10:10:50.539Z"
   },
   {
    "duration": 5,
    "start_time": "2023-01-17T10:11:15.545Z"
   },
   {
    "duration": 13,
    "start_time": "2023-01-17T10:11:15.552Z"
   },
   {
    "duration": 751,
    "start_time": "2023-01-17T10:11:15.567Z"
   },
   {
    "duration": 13,
    "start_time": "2023-01-17T10:11:16.320Z"
   },
   {
    "duration": 129,
    "start_time": "2023-01-17T10:11:16.335Z"
   },
   {
    "duration": 17,
    "start_time": "2023-01-17T10:11:16.467Z"
   },
   {
    "duration": 18,
    "start_time": "2023-01-17T10:11:16.485Z"
   },
   {
    "duration": 71,
    "start_time": "2023-01-17T10:11:16.504Z"
   },
   {
    "duration": 35,
    "start_time": "2023-01-17T10:11:16.577Z"
   },
   {
    "duration": 13,
    "start_time": "2023-01-17T10:11:16.614Z"
   },
   {
    "duration": 50,
    "start_time": "2023-01-17T10:11:16.629Z"
   },
   {
    "duration": 11,
    "start_time": "2023-01-17T10:11:16.682Z"
   },
   {
    "duration": 18,
    "start_time": "2023-01-17T10:11:16.695Z"
   },
   {
    "duration": 15,
    "start_time": "2023-01-17T10:11:16.715Z"
   },
   {
    "duration": 8,
    "start_time": "2023-01-17T10:11:16.732Z"
   },
   {
    "duration": 13,
    "start_time": "2023-01-17T10:11:16.742Z"
   },
   {
    "duration": 262,
    "start_time": "2023-01-17T10:11:16.756Z"
   },
   {
    "duration": 9,
    "start_time": "2023-01-17T10:11:17.019Z"
   },
   {
    "duration": 8,
    "start_time": "2023-01-17T10:11:17.030Z"
   },
   {
    "duration": 39,
    "start_time": "2023-01-17T10:11:17.040Z"
   },
   {
    "duration": 10,
    "start_time": "2023-01-17T10:11:19.434Z"
   },
   {
    "duration": 28,
    "start_time": "2023-01-17T10:11:19.836Z"
   },
   {
    "duration": 65,
    "start_time": "2023-01-17T10:11:20.659Z"
   },
   {
    "duration": 2,
    "start_time": "2023-01-17T10:11:22.155Z"
   },
   {
    "duration": 2,
    "start_time": "2023-01-17T10:11:22.658Z"
   },
   {
    "duration": 73,
    "start_time": "2023-01-17T10:11:23.818Z"
   },
   {
    "duration": 61,
    "start_time": "2023-01-17T10:11:24.683Z"
   },
   {
    "duration": 781,
    "start_time": "2023-01-17T10:11:27.811Z"
   },
   {
    "duration": 874,
    "start_time": "2023-01-17T10:11:29.275Z"
   },
   {
    "duration": 11,
    "start_time": "2023-01-17T10:11:50.487Z"
   },
   {
    "duration": 9,
    "start_time": "2023-01-17T10:11:58.506Z"
   },
   {
    "duration": 28,
    "start_time": "2023-01-17T10:11:58.945Z"
   },
   {
    "duration": 610,
    "start_time": "2023-01-17T10:12:00.219Z"
   },
   {
    "duration": 62,
    "start_time": "2023-01-17T10:12:09.811Z"
   },
   {
    "duration": 2,
    "start_time": "2023-01-17T10:12:11.682Z"
   },
   {
    "duration": 15,
    "start_time": "2023-01-17T10:12:13.418Z"
   },
   {
    "duration": 3,
    "start_time": "2023-01-17T10:12:45.042Z"
   },
   {
    "duration": 2,
    "start_time": "2023-01-17T10:12:45.435Z"
   },
   {
    "duration": 81,
    "start_time": "2023-01-17T10:12:47.098Z"
   },
   {
    "duration": 364,
    "start_time": "2023-01-17T10:12:49.946Z"
   },
   {
    "duration": 25,
    "start_time": "2023-01-17T10:12:51.211Z"
   },
   {
    "duration": 29,
    "start_time": "2023-01-17T10:12:54.019Z"
   },
   {
    "duration": 6,
    "start_time": "2023-01-17T10:12:56.050Z"
   },
   {
    "duration": 7,
    "start_time": "2023-01-17T10:12:56.442Z"
   },
   {
    "duration": 5,
    "start_time": "2023-01-17T10:12:57.659Z"
   },
   {
    "duration": 3,
    "start_time": "2023-01-17T10:13:00.675Z"
   },
   {
    "duration": 5,
    "start_time": "2023-01-17T10:13:00.946Z"
   },
   {
    "duration": 4,
    "start_time": "2023-01-17T10:13:40.891Z"
   },
   {
    "duration": 3,
    "start_time": "2023-01-17T10:13:41.580Z"
   },
   {
    "duration": 1821740,
    "start_time": "2023-01-17T10:13:42.540Z"
   },
   {
    "duration": 4,
    "start_time": "2023-01-17T10:50:16.098Z"
   },
   {
    "duration": 3,
    "start_time": "2023-01-17T10:50:19.801Z"
   },
   {
    "duration": 1348,
    "start_time": "2023-01-17T10:50:22.921Z"
   },
   {
    "duration": 5,
    "start_time": "2023-01-17T10:54:05.546Z"
   },
   {
    "duration": 12,
    "start_time": "2023-01-17T10:54:05.552Z"
   },
   {
    "duration": 839,
    "start_time": "2023-01-17T10:54:05.566Z"
   },
   {
    "duration": 15,
    "start_time": "2023-01-17T10:54:06.407Z"
   },
   {
    "duration": 129,
    "start_time": "2023-01-17T10:54:06.423Z"
   },
   {
    "duration": 3,
    "start_time": "2023-01-17T10:54:06.554Z"
   },
   {
    "duration": 27,
    "start_time": "2023-01-17T10:54:06.559Z"
   },
   {
    "duration": 66,
    "start_time": "2023-01-17T10:54:06.587Z"
   },
   {
    "duration": 32,
    "start_time": "2023-01-17T10:54:06.656Z"
   },
   {
    "duration": 12,
    "start_time": "2023-01-17T10:54:06.690Z"
   },
   {
    "duration": 38,
    "start_time": "2023-01-17T10:54:06.704Z"
   },
   {
    "duration": 11,
    "start_time": "2023-01-17T10:54:06.744Z"
   },
   {
    "duration": 5,
    "start_time": "2023-01-17T10:54:06.778Z"
   },
   {
    "duration": 9,
    "start_time": "2023-01-17T10:54:06.785Z"
   },
   {
    "duration": 10,
    "start_time": "2023-01-17T10:54:06.796Z"
   },
   {
    "duration": 13,
    "start_time": "2023-01-17T10:54:06.807Z"
   },
   {
    "duration": 414,
    "start_time": "2023-01-17T10:54:06.822Z"
   },
   {
    "duration": 9,
    "start_time": "2023-01-17T10:54:07.238Z"
   },
   {
    "duration": 18,
    "start_time": "2023-01-17T10:54:07.249Z"
   },
   {
    "duration": 30,
    "start_time": "2023-01-17T10:54:07.268Z"
   },
   {
    "duration": 11,
    "start_time": "2023-01-17T10:54:07.299Z"
   },
   {
    "duration": 50,
    "start_time": "2023-01-17T10:54:07.311Z"
   },
   {
    "duration": 69,
    "start_time": "2023-01-17T10:54:07.362Z"
   },
   {
    "duration": 2,
    "start_time": "2023-01-17T10:54:07.434Z"
   },
   {
    "duration": 34,
    "start_time": "2023-01-17T10:54:07.438Z"
   },
   {
    "duration": 83,
    "start_time": "2023-01-17T10:54:07.474Z"
   },
   {
    "duration": 63,
    "start_time": "2023-01-17T10:54:07.559Z"
   },
   {
    "duration": 799,
    "start_time": "2023-01-17T10:54:07.624Z"
   },
   {
    "duration": 718,
    "start_time": "2023-01-17T10:54:08.425Z"
   },
   {
    "duration": 9,
    "start_time": "2023-01-17T10:54:09.144Z"
   },
   {
    "duration": 63,
    "start_time": "2023-01-17T10:54:09.155Z"
   },
   {
    "duration": 636,
    "start_time": "2023-01-17T10:54:09.220Z"
   },
   {
    "duration": 67,
    "start_time": "2023-01-17T10:54:09.857Z"
   },
   {
    "duration": 15,
    "start_time": "2023-01-17T10:54:09.925Z"
   },
   {
    "duration": 41,
    "start_time": "2023-01-17T10:54:09.941Z"
   },
   {
    "duration": 47,
    "start_time": "2023-01-17T10:54:09.983Z"
   },
   {
    "duration": 55,
    "start_time": "2023-01-17T10:54:10.032Z"
   },
   {
    "duration": 147,
    "start_time": "2023-01-17T10:54:10.089Z"
   },
   {
    "duration": 356,
    "start_time": "2023-01-17T10:54:14.522Z"
   },
   {
    "duration": 24,
    "start_time": "2023-01-17T10:54:15.163Z"
   },
   {
    "duration": 10,
    "start_time": "2023-01-17T10:54:16.650Z"
   },
   {
    "duration": 12,
    "start_time": "2023-01-17T10:55:00.682Z"
   },
   {
    "duration": 11,
    "start_time": "2023-01-17T10:55:19.298Z"
   },
   {
    "duration": 11,
    "start_time": "2023-01-17T10:55:28.762Z"
   },
   {
    "duration": 9,
    "start_time": "2023-01-17T10:55:55.739Z"
   },
   {
    "duration": 4,
    "start_time": "2023-01-17T10:56:15.131Z"
   },
   {
    "duration": 15,
    "start_time": "2023-01-17T10:56:15.137Z"
   },
   {
    "duration": 759,
    "start_time": "2023-01-17T10:56:15.154Z"
   },
   {
    "duration": 14,
    "start_time": "2023-01-17T10:56:15.914Z"
   },
   {
    "duration": 136,
    "start_time": "2023-01-17T10:56:15.930Z"
   },
   {
    "duration": 4,
    "start_time": "2023-01-17T10:56:16.078Z"
   },
   {
    "duration": 10,
    "start_time": "2023-01-17T10:56:16.084Z"
   },
   {
    "duration": 87,
    "start_time": "2023-01-17T10:56:16.096Z"
   },
   {
    "duration": 28,
    "start_time": "2023-01-17T10:56:16.185Z"
   },
   {
    "duration": 12,
    "start_time": "2023-01-17T10:56:16.215Z"
   },
   {
    "duration": 62,
    "start_time": "2023-01-17T10:56:16.231Z"
   },
   {
    "duration": 11,
    "start_time": "2023-01-17T10:56:16.294Z"
   },
   {
    "duration": 9,
    "start_time": "2023-01-17T10:56:16.307Z"
   },
   {
    "duration": 11,
    "start_time": "2023-01-17T10:56:16.317Z"
   },
   {
    "duration": 12,
    "start_time": "2023-01-17T10:56:16.330Z"
   },
   {
    "duration": 38,
    "start_time": "2023-01-17T10:56:16.344Z"
   },
   {
    "duration": 270,
    "start_time": "2023-01-17T10:56:16.384Z"
   },
   {
    "duration": 22,
    "start_time": "2023-01-17T10:56:16.656Z"
   },
   {
    "duration": 5,
    "start_time": "2023-01-17T10:56:16.680Z"
   },
   {
    "duration": 29,
    "start_time": "2023-01-17T10:56:16.687Z"
   },
   {
    "duration": 11,
    "start_time": "2023-01-17T10:56:16.717Z"
   },
   {
    "duration": 52,
    "start_time": "2023-01-17T10:56:16.730Z"
   },
   {
    "duration": 66,
    "start_time": "2023-01-17T10:56:16.784Z"
   },
   {
    "duration": 3,
    "start_time": "2023-01-17T10:56:16.851Z"
   },
   {
    "duration": 3,
    "start_time": "2023-01-17T10:56:16.877Z"
   },
   {
    "duration": 85,
    "start_time": "2023-01-17T10:56:16.883Z"
   },
   {
    "duration": 73,
    "start_time": "2023-01-17T10:56:16.970Z"
   },
   {
    "duration": 795,
    "start_time": "2023-01-17T10:56:17.044Z"
   },
   {
    "duration": 895,
    "start_time": "2023-01-17T10:56:17.842Z"
   },
   {
    "duration": 8,
    "start_time": "2023-01-17T10:56:18.739Z"
   },
   {
    "duration": 41,
    "start_time": "2023-01-17T10:56:18.749Z"
   },
   {
    "duration": 566,
    "start_time": "2023-01-17T10:56:18.792Z"
   },
   {
    "duration": 66,
    "start_time": "2023-01-17T10:56:19.360Z"
   },
   {
    "duration": 2,
    "start_time": "2023-01-17T10:56:19.428Z"
   },
   {
    "duration": 19,
    "start_time": "2023-01-17T10:56:19.432Z"
   },
   {
    "duration": 7,
    "start_time": "2023-01-17T10:56:19.452Z"
   },
   {
    "duration": 21,
    "start_time": "2023-01-17T10:56:19.460Z"
   },
   {
    "duration": 82,
    "start_time": "2023-01-17T10:56:25.258Z"
   },
   {
    "duration": 4140,
    "start_time": "2023-01-17T10:56:33.371Z"
   },
   {
    "duration": 12,
    "start_time": "2023-01-17T10:56:42.261Z"
   },
   {
    "duration": 367,
    "start_time": "2023-01-17T10:56:56.195Z"
   },
   {
    "duration": 63,
    "start_time": "2023-01-17T10:58:53.204Z"
   },
   {
    "duration": 1411,
    "start_time": "2023-01-17T10:59:12.011Z"
   },
   {
    "duration": 3,
    "start_time": "2023-01-17T10:59:13.425Z"
   },
   {
    "duration": 1136,
    "start_time": "2023-01-17T10:59:13.429Z"
   },
   {
    "duration": 19,
    "start_time": "2023-01-17T10:59:14.568Z"
   },
   {
    "duration": 167,
    "start_time": "2023-01-17T10:59:14.589Z"
   },
   {
    "duration": 7,
    "start_time": "2023-01-17T10:59:14.758Z"
   },
   {
    "duration": 18,
    "start_time": "2023-01-17T10:59:14.767Z"
   },
   {
    "duration": 103,
    "start_time": "2023-01-17T10:59:14.787Z"
   },
   {
    "duration": 32,
    "start_time": "2023-01-17T10:59:14.892Z"
   },
   {
    "duration": 15,
    "start_time": "2023-01-17T10:59:14.928Z"
   },
   {
    "duration": 70,
    "start_time": "2023-01-17T10:59:14.945Z"
   },
   {
    "duration": 12,
    "start_time": "2023-01-17T10:59:15.016Z"
   },
   {
    "duration": 29,
    "start_time": "2023-01-17T10:59:15.029Z"
   },
   {
    "duration": 24,
    "start_time": "2023-01-17T10:59:15.059Z"
   },
   {
    "duration": 24,
    "start_time": "2023-01-17T10:59:15.085Z"
   },
   {
    "duration": 40,
    "start_time": "2023-01-17T10:59:15.110Z"
   },
   {
    "duration": 279,
    "start_time": "2023-01-17T10:59:15.152Z"
   },
   {
    "duration": 13,
    "start_time": "2023-01-17T10:59:15.432Z"
   },
   {
    "duration": 83,
    "start_time": "2023-01-17T10:59:15.447Z"
   },
   {
    "duration": 64,
    "start_time": "2023-01-17T10:59:15.532Z"
   },
   {
    "duration": 12,
    "start_time": "2023-01-17T10:59:15.598Z"
   },
   {
    "duration": 58,
    "start_time": "2023-01-17T10:59:15.611Z"
   },
   {
    "duration": 73,
    "start_time": "2023-01-17T10:59:15.672Z"
   },
   {
    "duration": 3,
    "start_time": "2023-01-17T10:59:15.747Z"
   },
   {
    "duration": 35,
    "start_time": "2023-01-17T10:59:15.751Z"
   },
   {
    "duration": 114,
    "start_time": "2023-01-17T10:59:15.788Z"
   },
   {
    "duration": 62,
    "start_time": "2023-01-17T10:59:15.903Z"
   },
   {
    "duration": 842,
    "start_time": "2023-01-17T10:59:15.977Z"
   },
   {
    "duration": 713,
    "start_time": "2023-01-17T10:59:16.821Z"
   },
   {
    "duration": 10,
    "start_time": "2023-01-17T10:59:17.536Z"
   },
   {
    "duration": 43,
    "start_time": "2023-01-17T10:59:17.548Z"
   },
   {
    "duration": 497,
    "start_time": "2023-01-17T10:59:17.592Z"
   },
   {
    "duration": 57,
    "start_time": "2023-01-17T10:59:18.090Z"
   },
   {
    "duration": 2,
    "start_time": "2023-01-17T10:59:18.149Z"
   },
   {
    "duration": 33,
    "start_time": "2023-01-17T10:59:18.153Z"
   },
   {
    "duration": 7,
    "start_time": "2023-01-17T10:59:18.188Z"
   },
   {
    "duration": 11,
    "start_time": "2023-01-17T10:59:18.197Z"
   },
   {
    "duration": 103,
    "start_time": "2023-01-17T10:59:18.209Z"
   },
   {
    "duration": 127,
    "start_time": "2023-01-17T10:59:18.314Z"
   },
   {
    "duration": 399,
    "start_time": "2023-01-17T10:59:18.443Z"
   },
   {
    "duration": 21394,
    "start_time": "2023-01-17T10:59:18.843Z"
   },
   {
    "duration": 5,
    "start_time": "2023-01-17T10:59:47.810Z"
   },
   {
    "duration": 14,
    "start_time": "2023-01-17T10:59:47.817Z"
   },
   {
    "duration": 765,
    "start_time": "2023-01-17T10:59:47.833Z"
   },
   {
    "duration": 13,
    "start_time": "2023-01-17T10:59:48.600Z"
   },
   {
    "duration": 113,
    "start_time": "2023-01-17T10:59:48.615Z"
   },
   {
    "duration": 3,
    "start_time": "2023-01-17T10:59:48.730Z"
   },
   {
    "duration": 30,
    "start_time": "2023-01-17T10:59:48.735Z"
   },
   {
    "duration": 67,
    "start_time": "2023-01-17T10:59:48.767Z"
   },
   {
    "duration": 30,
    "start_time": "2023-01-17T10:59:48.837Z"
   },
   {
    "duration": 20,
    "start_time": "2023-01-17T10:59:48.868Z"
   },
   {
    "duration": 35,
    "start_time": "2023-01-17T10:59:48.890Z"
   },
   {
    "duration": 12,
    "start_time": "2023-01-17T10:59:48.926Z"
   },
   {
    "duration": 10,
    "start_time": "2023-01-17T10:59:48.940Z"
   },
   {
    "duration": 30,
    "start_time": "2023-01-17T10:59:48.952Z"
   },
   {
    "duration": 8,
    "start_time": "2023-01-17T10:59:48.983Z"
   },
   {
    "duration": 15,
    "start_time": "2023-01-17T10:59:48.992Z"
   },
   {
    "duration": 302,
    "start_time": "2023-01-17T10:59:49.009Z"
   },
   {
    "duration": 10,
    "start_time": "2023-01-17T10:59:49.313Z"
   },
   {
    "duration": 7,
    "start_time": "2023-01-17T10:59:49.325Z"
   },
   {
    "duration": 51,
    "start_time": "2023-01-17T10:59:49.334Z"
   },
   {
    "duration": 10,
    "start_time": "2023-01-17T10:59:49.387Z"
   },
   {
    "duration": 34,
    "start_time": "2023-01-17T10:59:49.399Z"
   },
   {
    "duration": 98,
    "start_time": "2023-01-17T10:59:49.436Z"
   },
   {
    "duration": 2,
    "start_time": "2023-01-17T10:59:49.538Z"
   },
   {
    "duration": 16,
    "start_time": "2023-01-17T10:59:49.542Z"
   },
   {
    "duration": 74,
    "start_time": "2023-01-17T10:59:49.560Z"
   },
   {
    "duration": 77,
    "start_time": "2023-01-17T10:59:49.636Z"
   },
   {
    "duration": 804,
    "start_time": "2023-01-17T10:59:49.714Z"
   },
   {
    "duration": 720,
    "start_time": "2023-01-17T10:59:50.520Z"
   },
   {
    "duration": 10,
    "start_time": "2023-01-17T10:59:51.243Z"
   },
   {
    "duration": 56,
    "start_time": "2023-01-17T10:59:51.255Z"
   },
   {
    "duration": 626,
    "start_time": "2023-01-17T10:59:51.313Z"
   },
   {
    "duration": 73,
    "start_time": "2023-01-17T10:59:51.941Z"
   },
   {
    "duration": 3,
    "start_time": "2023-01-17T10:59:52.015Z"
   },
   {
    "duration": 25,
    "start_time": "2023-01-17T10:59:52.019Z"
   },
   {
    "duration": 16,
    "start_time": "2023-01-17T10:59:52.045Z"
   },
   {
    "duration": 13,
    "start_time": "2023-01-17T10:59:52.063Z"
   },
   {
    "duration": 87,
    "start_time": "2023-01-17T10:59:52.078Z"
   },
   {
    "duration": 12,
    "start_time": "2023-01-17T10:59:52.167Z"
   },
   {
    "duration": 4649,
    "start_time": "2023-01-17T11:00:01.324Z"
   },
   {
    "duration": 123,
    "start_time": "2023-01-17T11:00:21.356Z"
   },
   {
    "duration": 1148,
    "start_time": "2023-01-17T11:00:52.484Z"
   },
   {
    "duration": 371,
    "start_time": "2023-01-17T11:01:21.603Z"
   },
   {
    "duration": 13,
    "start_time": "2023-01-17T11:01:34.159Z"
   },
   {
    "duration": 417,
    "start_time": "2023-01-17T11:04:35.084Z"
   },
   {
    "duration": 44,
    "start_time": "2023-01-17T11:05:38.717Z"
   },
   {
    "duration": 20,
    "start_time": "2023-01-17T11:08:10.965Z"
   },
   {
    "duration": 4,
    "start_time": "2023-01-17T11:08:59.942Z"
   },
   {
    "duration": 4,
    "start_time": "2023-01-17T11:09:07.213Z"
   },
   {
    "duration": 87,
    "start_time": "2023-01-17T11:09:22.917Z"
   },
   {
    "duration": 17,
    "start_time": "2023-01-17T11:09:36.709Z"
   },
   {
    "duration": 5,
    "start_time": "2023-01-17T11:10:45.508Z"
   },
   {
    "duration": 11,
    "start_time": "2023-01-17T11:10:45.515Z"
   },
   {
    "duration": 789,
    "start_time": "2023-01-17T11:10:45.528Z"
   },
   {
    "duration": 13,
    "start_time": "2023-01-17T11:10:46.319Z"
   },
   {
    "duration": 119,
    "start_time": "2023-01-17T11:10:46.335Z"
   },
   {
    "duration": 8,
    "start_time": "2023-01-17T11:10:46.456Z"
   },
   {
    "duration": 13,
    "start_time": "2023-01-17T11:10:46.466Z"
   },
   {
    "duration": 76,
    "start_time": "2023-01-17T11:10:46.481Z"
   },
   {
    "duration": 36,
    "start_time": "2023-01-17T11:10:46.559Z"
   },
   {
    "duration": 14,
    "start_time": "2023-01-17T11:10:46.597Z"
   },
   {
    "duration": 35,
    "start_time": "2023-01-17T11:10:46.614Z"
   },
   {
    "duration": 28,
    "start_time": "2023-01-17T11:10:46.651Z"
   },
   {
    "duration": 5,
    "start_time": "2023-01-17T11:10:46.681Z"
   },
   {
    "duration": 18,
    "start_time": "2023-01-17T11:10:46.688Z"
   },
   {
    "duration": 11,
    "start_time": "2023-01-17T11:10:46.708Z"
   },
   {
    "duration": 16,
    "start_time": "2023-01-17T11:10:46.721Z"
   },
   {
    "duration": 294,
    "start_time": "2023-01-17T11:10:46.739Z"
   },
   {
    "duration": 11,
    "start_time": "2023-01-17T11:10:47.035Z"
   },
   {
    "duration": 5,
    "start_time": "2023-01-17T11:10:47.048Z"
   },
   {
    "duration": 49,
    "start_time": "2023-01-17T11:10:47.055Z"
   },
   {
    "duration": 11,
    "start_time": "2023-01-17T11:10:47.105Z"
   },
   {
    "duration": 32,
    "start_time": "2023-01-17T11:10:47.118Z"
   },
   {
    "duration": 89,
    "start_time": "2023-01-17T11:10:47.152Z"
   },
   {
    "duration": 2,
    "start_time": "2023-01-17T11:10:47.243Z"
   },
   {
    "duration": 8,
    "start_time": "2023-01-17T11:10:47.247Z"
   },
   {
    "duration": 94,
    "start_time": "2023-01-17T11:10:47.256Z"
   },
   {
    "duration": 72,
    "start_time": "2023-01-17T11:10:47.352Z"
   },
   {
    "duration": 822,
    "start_time": "2023-01-17T11:10:47.425Z"
   },
   {
    "duration": 875,
    "start_time": "2023-01-17T11:10:48.250Z"
   },
   {
    "duration": 10,
    "start_time": "2023-01-17T11:10:49.127Z"
   },
   {
    "duration": 41,
    "start_time": "2023-01-17T11:10:49.139Z"
   },
   {
    "duration": 519,
    "start_time": "2023-01-17T11:10:49.182Z"
   },
   {
    "duration": 60,
    "start_time": "2023-01-17T11:10:49.703Z"
   },
   {
    "duration": 2,
    "start_time": "2023-01-17T11:10:49.779Z"
   },
   {
    "duration": 18,
    "start_time": "2023-01-17T11:10:49.783Z"
   },
   {
    "duration": 9,
    "start_time": "2023-01-17T11:10:49.803Z"
   },
   {
    "duration": 8,
    "start_time": "2023-01-17T11:10:49.814Z"
   },
   {
    "duration": 110,
    "start_time": "2023-01-17T11:10:49.823Z"
   },
   {
    "duration": 12,
    "start_time": "2023-01-17T11:10:49.935Z"
   },
   {
    "duration": 393,
    "start_time": "2023-01-17T11:10:49.948Z"
   },
   {
    "duration": 375,
    "start_time": "2023-01-17T11:10:58.790Z"
   },
   {
    "duration": 46,
    "start_time": "2023-01-17T11:11:00.925Z"
   },
   {
    "duration": 14,
    "start_time": "2023-01-17T11:11:09.774Z"
   },
   {
    "duration": 106,
    "start_time": "2023-01-17T11:11:52.869Z"
   },
   {
    "duration": 5,
    "start_time": "2023-01-17T11:12:33.694Z"
   },
   {
    "duration": 5,
    "start_time": "2023-01-17T11:12:53.438Z"
   },
   {
    "duration": 88,
    "start_time": "2023-01-17T11:13:01.069Z"
   },
   {
    "duration": 16,
    "start_time": "2023-01-17T11:13:04.289Z"
   },
   {
    "duration": 5,
    "start_time": "2023-01-17T11:13:58.125Z"
   },
   {
    "duration": 54,
    "start_time": "2023-01-17T11:13:58.131Z"
   },
   {
    "duration": 760,
    "start_time": "2023-01-17T11:13:58.187Z"
   },
   {
    "duration": 13,
    "start_time": "2023-01-17T11:13:58.949Z"
   },
   {
    "duration": 145,
    "start_time": "2023-01-17T11:13:58.977Z"
   },
   {
    "duration": 49,
    "start_time": "2023-01-17T11:13:59.124Z"
   },
   {
    "duration": 30,
    "start_time": "2023-01-17T11:13:59.175Z"
   },
   {
    "duration": 112,
    "start_time": "2023-01-17T11:13:59.207Z"
   },
   {
    "duration": 33,
    "start_time": "2023-01-17T11:13:59.321Z"
   },
   {
    "duration": 31,
    "start_time": "2023-01-17T11:13:59.356Z"
   },
   {
    "duration": 67,
    "start_time": "2023-01-17T11:13:59.390Z"
   },
   {
    "duration": 13,
    "start_time": "2023-01-17T11:13:59.459Z"
   },
   {
    "duration": 42,
    "start_time": "2023-01-17T11:13:59.473Z"
   },
   {
    "duration": 54,
    "start_time": "2023-01-17T11:13:59.516Z"
   },
   {
    "duration": 59,
    "start_time": "2023-01-17T11:13:59.572Z"
   },
   {
    "duration": 66,
    "start_time": "2023-01-17T11:13:59.632Z"
   },
   {
    "duration": 324,
    "start_time": "2023-01-17T11:13:59.700Z"
   },
   {
    "duration": 10,
    "start_time": "2023-01-17T11:14:00.026Z"
   },
   {
    "duration": 40,
    "start_time": "2023-01-17T11:14:00.038Z"
   },
   {
    "duration": 91,
    "start_time": "2023-01-17T11:14:00.079Z"
   },
   {
    "duration": 28,
    "start_time": "2023-01-17T11:14:00.173Z"
   },
   {
    "duration": 58,
    "start_time": "2023-01-17T11:14:00.203Z"
   },
   {
    "duration": 103,
    "start_time": "2023-01-17T11:14:00.262Z"
   },
   {
    "duration": 3,
    "start_time": "2023-01-17T11:14:00.367Z"
   },
   {
    "duration": 48,
    "start_time": "2023-01-17T11:14:00.371Z"
   },
   {
    "duration": 129,
    "start_time": "2023-01-17T11:14:00.421Z"
   },
   {
    "duration": 77,
    "start_time": "2023-01-17T11:14:00.552Z"
   },
   {
    "duration": 962,
    "start_time": "2023-01-17T11:14:00.632Z"
   },
   {
    "duration": 951,
    "start_time": "2023-01-17T11:14:01.598Z"
   },
   {
    "duration": 9,
    "start_time": "2023-01-17T11:14:02.550Z"
   },
   {
    "duration": 68,
    "start_time": "2023-01-17T11:14:02.561Z"
   },
   {
    "duration": 584,
    "start_time": "2023-01-17T11:14:02.631Z"
   },
   {
    "duration": 69,
    "start_time": "2023-01-17T11:14:03.216Z"
   },
   {
    "duration": 2,
    "start_time": "2023-01-17T11:14:03.287Z"
   },
   {
    "duration": 62,
    "start_time": "2023-01-17T11:14:03.291Z"
   },
   {
    "duration": 41,
    "start_time": "2023-01-17T11:14:03.354Z"
   },
   {
    "duration": 17,
    "start_time": "2023-01-17T11:14:03.396Z"
   },
   {
    "duration": 138,
    "start_time": "2023-01-17T11:14:03.415Z"
   },
   {
    "duration": 12,
    "start_time": "2023-01-17T11:14:03.555Z"
   },
   {
    "duration": 357,
    "start_time": "2023-01-17T11:14:07.189Z"
   },
   {
    "duration": 53,
    "start_time": "2023-01-17T11:14:08.197Z"
   },
   {
    "duration": 15,
    "start_time": "2023-01-17T11:14:10.797Z"
   },
   {
    "duration": 83,
    "start_time": "2023-01-17T11:14:16.015Z"
   },
   {
    "duration": 1448,
    "start_time": "2023-01-17T11:14:47.646Z"
   },
   {
    "duration": 3,
    "start_time": "2023-01-17T11:14:49.096Z"
   },
   {
    "duration": 1083,
    "start_time": "2023-01-17T11:14:49.101Z"
   },
   {
    "duration": 19,
    "start_time": "2023-01-17T11:14:50.186Z"
   },
   {
    "duration": 112,
    "start_time": "2023-01-17T11:14:50.206Z"
   },
   {
    "duration": 5,
    "start_time": "2023-01-17T11:14:50.320Z"
   },
   {
    "duration": 6,
    "start_time": "2023-01-17T11:14:50.327Z"
   },
   {
    "duration": 102,
    "start_time": "2023-01-17T11:14:50.335Z"
   },
   {
    "duration": 39,
    "start_time": "2023-01-17T11:14:50.439Z"
   },
   {
    "duration": 13,
    "start_time": "2023-01-17T11:14:50.481Z"
   },
   {
    "duration": 52,
    "start_time": "2023-01-17T11:14:50.495Z"
   },
   {
    "duration": 11,
    "start_time": "2023-01-17T11:14:50.549Z"
   },
   {
    "duration": 22,
    "start_time": "2023-01-17T11:14:50.561Z"
   },
   {
    "duration": 12,
    "start_time": "2023-01-17T11:14:50.585Z"
   },
   {
    "duration": 10,
    "start_time": "2023-01-17T11:14:50.599Z"
   },
   {
    "duration": 14,
    "start_time": "2023-01-17T11:14:50.610Z"
   },
   {
    "duration": 302,
    "start_time": "2023-01-17T11:14:50.625Z"
   },
   {
    "duration": 15,
    "start_time": "2023-01-17T11:14:50.928Z"
   },
   {
    "duration": 33,
    "start_time": "2023-01-17T11:14:50.945Z"
   },
   {
    "duration": 40,
    "start_time": "2023-01-17T11:14:50.980Z"
   },
   {
    "duration": 11,
    "start_time": "2023-01-17T11:14:51.021Z"
   },
   {
    "duration": 32,
    "start_time": "2023-01-17T11:14:51.034Z"
   },
   {
    "duration": 64,
    "start_time": "2023-01-17T11:14:51.077Z"
   },
   {
    "duration": 2,
    "start_time": "2023-01-17T11:14:51.143Z"
   },
   {
    "duration": 9,
    "start_time": "2023-01-17T11:14:51.146Z"
   },
   {
    "duration": 82,
    "start_time": "2023-01-17T11:14:51.157Z"
   },
   {
    "duration": 76,
    "start_time": "2023-01-17T11:14:51.241Z"
   },
   {
    "duration": 915,
    "start_time": "2023-01-17T11:14:51.321Z"
   },
   {
    "duration": 706,
    "start_time": "2023-01-17T11:14:52.238Z"
   },
   {
    "duration": 9,
    "start_time": "2023-01-17T11:14:52.946Z"
   },
   {
    "duration": 42,
    "start_time": "2023-01-17T11:14:52.956Z"
   },
   {
    "duration": 511,
    "start_time": "2023-01-17T11:14:53.000Z"
   },
   {
    "duration": 71,
    "start_time": "2023-01-17T11:14:53.513Z"
   },
   {
    "duration": 3,
    "start_time": "2023-01-17T11:14:53.586Z"
   },
   {
    "duration": 28,
    "start_time": "2023-01-17T11:14:53.591Z"
   },
   {
    "duration": 31,
    "start_time": "2023-01-17T11:14:53.620Z"
   },
   {
    "duration": 14,
    "start_time": "2023-01-17T11:14:53.653Z"
   },
   {
    "duration": 108,
    "start_time": "2023-01-17T11:14:53.669Z"
   },
   {
    "duration": 130,
    "start_time": "2023-01-17T11:14:53.779Z"
   },
   {
    "duration": 423,
    "start_time": "2023-01-17T11:14:53.912Z"
   },
   {
    "duration": 69,
    "start_time": "2023-01-17T11:14:54.337Z"
   },
   {
    "duration": 57,
    "start_time": "2023-01-17T11:14:56.573Z"
   },
   {
    "duration": 107,
    "start_time": "2023-01-17T11:15:28.582Z"
   },
   {
    "duration": 54,
    "start_time": "2023-01-17T11:15:32.262Z"
   },
   {
    "duration": 13,
    "start_time": "2023-01-17T11:15:32.638Z"
   },
   {
    "duration": 10,
    "start_time": "2023-01-17T11:15:33.694Z"
   },
   {
    "duration": 6,
    "start_time": "2023-01-17T11:15:46.333Z"
   },
   {
    "duration": 27,
    "start_time": "2023-01-17T11:15:46.341Z"
   },
   {
    "duration": 854,
    "start_time": "2023-01-17T11:15:46.370Z"
   },
   {
    "duration": 14,
    "start_time": "2023-01-17T11:15:47.226Z"
   },
   {
    "duration": 140,
    "start_time": "2023-01-17T11:15:47.242Z"
   },
   {
    "duration": 5,
    "start_time": "2023-01-17T11:15:47.384Z"
   },
   {
    "duration": 31,
    "start_time": "2023-01-17T11:15:47.391Z"
   },
   {
    "duration": 85,
    "start_time": "2023-01-17T11:15:47.424Z"
   },
   {
    "duration": 31,
    "start_time": "2023-01-17T11:15:47.512Z"
   },
   {
    "duration": 16,
    "start_time": "2023-01-17T11:15:47.545Z"
   },
   {
    "duration": 61,
    "start_time": "2023-01-17T11:15:47.563Z"
   },
   {
    "duration": 12,
    "start_time": "2023-01-17T11:15:47.626Z"
   },
   {
    "duration": 22,
    "start_time": "2023-01-17T11:15:47.640Z"
   },
   {
    "duration": 23,
    "start_time": "2023-01-17T11:15:47.663Z"
   },
   {
    "duration": 29,
    "start_time": "2023-01-17T11:15:47.688Z"
   },
   {
    "duration": 24,
    "start_time": "2023-01-17T11:15:47.719Z"
   },
   {
    "duration": 298,
    "start_time": "2023-01-17T11:15:47.745Z"
   },
   {
    "duration": 10,
    "start_time": "2023-01-17T11:15:48.044Z"
   },
   {
    "duration": 23,
    "start_time": "2023-01-17T11:15:48.056Z"
   },
   {
    "duration": 29,
    "start_time": "2023-01-17T11:15:48.081Z"
   },
   {
    "duration": 20,
    "start_time": "2023-01-17T11:15:48.111Z"
   },
   {
    "duration": 53,
    "start_time": "2023-01-17T11:15:48.132Z"
   },
   {
    "duration": 71,
    "start_time": "2023-01-17T11:15:48.187Z"
   },
   {
    "duration": 17,
    "start_time": "2023-01-17T11:15:48.262Z"
   },
   {
    "duration": 25,
    "start_time": "2023-01-17T11:15:48.280Z"
   },
   {
    "duration": 92,
    "start_time": "2023-01-17T11:15:48.307Z"
   },
   {
    "duration": 70,
    "start_time": "2023-01-17T11:15:48.401Z"
   },
   {
    "duration": 961,
    "start_time": "2023-01-17T11:15:48.473Z"
   },
   {
    "duration": 799,
    "start_time": "2023-01-17T11:15:49.436Z"
   },
   {
    "duration": 9,
    "start_time": "2023-01-17T11:15:50.237Z"
   },
   {
    "duration": 43,
    "start_time": "2023-01-17T11:15:50.248Z"
   },
   {
    "duration": 700,
    "start_time": "2023-01-17T11:15:50.293Z"
   },
   {
    "duration": 66,
    "start_time": "2023-01-17T11:15:50.995Z"
   },
   {
    "duration": 3,
    "start_time": "2023-01-17T11:15:51.078Z"
   },
   {
    "duration": 23,
    "start_time": "2023-01-17T11:15:51.084Z"
   },
   {
    "duration": 9,
    "start_time": "2023-01-17T11:15:51.110Z"
   },
   {
    "duration": 7,
    "start_time": "2023-01-17T11:15:51.120Z"
   },
   {
    "duration": 104,
    "start_time": "2023-01-17T11:15:51.129Z"
   },
   {
    "duration": 12,
    "start_time": "2023-01-17T11:15:51.234Z"
   },
   {
    "duration": 423,
    "start_time": "2023-01-17T11:15:51.248Z"
   },
   {
    "duration": 55,
    "start_time": "2023-01-17T11:15:51.674Z"
   },
   {
    "duration": 53,
    "start_time": "2023-01-17T11:15:52.421Z"
   },
   {
    "duration": 19,
    "start_time": "2023-01-17T11:15:53.557Z"
   },
   {
    "duration": 8017,
    "start_time": "2023-01-17T11:16:09.662Z"
   },
   {
    "duration": 16,
    "start_time": "2023-01-17T11:16:34.599Z"
   },
   {
    "duration": 15,
    "start_time": "2023-01-17T11:17:42.008Z"
   },
   {
    "duration": 62,
    "start_time": "2023-01-17T11:18:07.975Z"
   },
   {
    "duration": 5,
    "start_time": "2023-01-17T11:18:57.287Z"
   },
   {
    "duration": 5,
    "start_time": "2023-01-17T11:18:58.007Z"
   },
   {
    "duration": 5,
    "start_time": "2023-01-17T11:18:58.671Z"
   },
   {
    "duration": 4,
    "start_time": "2023-01-17T11:19:01.525Z"
   },
   {
    "duration": 3,
    "start_time": "2023-01-17T11:19:02.382Z"
   },
   {
    "duration": 4,
    "start_time": "2023-01-17T11:19:03.558Z"
   },
   {
    "duration": 3,
    "start_time": "2023-01-17T11:19:06.286Z"
   },
   {
    "duration": 4,
    "start_time": "2023-01-17T11:19:33.519Z"
   },
   {
    "duration": 4,
    "start_time": "2023-01-17T11:19:35.022Z"
   },
   {
    "duration": 1968,
    "start_time": "2023-01-17T11:19:36.839Z"
   },
   {
    "duration": 471,
    "start_time": "2023-01-17T11:20:16.711Z"
   },
   {
    "duration": 4,
    "start_time": "2023-01-17T11:20:36.368Z"
   },
   {
    "duration": 2,
    "start_time": "2023-01-17T11:20:56.784Z"
   },
   {
    "duration": 4722,
    "start_time": "2023-01-17T11:21:00.174Z"
   },
   {
    "duration": 5,
    "start_time": "2023-01-17T11:22:15.838Z"
   },
   {
    "duration": 13,
    "start_time": "2023-01-17T11:22:15.846Z"
   },
   {
    "duration": 758,
    "start_time": "2023-01-17T11:22:15.861Z"
   },
   {
    "duration": 14,
    "start_time": "2023-01-17T11:22:16.621Z"
   },
   {
    "duration": 118,
    "start_time": "2023-01-17T11:22:16.637Z"
   },
   {
    "duration": 31,
    "start_time": "2023-01-17T11:22:16.757Z"
   },
   {
    "duration": 10,
    "start_time": "2023-01-17T11:22:16.789Z"
   },
   {
    "duration": 69,
    "start_time": "2023-01-17T11:22:16.801Z"
   },
   {
    "duration": 30,
    "start_time": "2023-01-17T11:22:16.872Z"
   },
   {
    "duration": 13,
    "start_time": "2023-01-17T11:22:16.904Z"
   },
   {
    "duration": 58,
    "start_time": "2023-01-17T11:22:16.920Z"
   },
   {
    "duration": 11,
    "start_time": "2023-01-17T11:22:16.980Z"
   },
   {
    "duration": 12,
    "start_time": "2023-01-17T11:22:16.993Z"
   },
   {
    "duration": 8,
    "start_time": "2023-01-17T11:22:17.007Z"
   },
   {
    "duration": 11,
    "start_time": "2023-01-17T11:22:17.017Z"
   },
   {
    "duration": 13,
    "start_time": "2023-01-17T11:22:17.029Z"
   },
   {
    "duration": 317,
    "start_time": "2023-01-17T11:22:17.043Z"
   },
   {
    "duration": 21,
    "start_time": "2023-01-17T11:22:17.362Z"
   },
   {
    "duration": 5,
    "start_time": "2023-01-17T11:22:17.384Z"
   },
   {
    "duration": 29,
    "start_time": "2023-01-17T11:22:17.390Z"
   },
   {
    "duration": 10,
    "start_time": "2023-01-17T11:22:17.420Z"
   },
   {
    "duration": 46,
    "start_time": "2023-01-17T11:22:17.432Z"
   },
   {
    "duration": 65,
    "start_time": "2023-01-17T11:22:17.480Z"
   },
   {
    "duration": 2,
    "start_time": "2023-01-17T11:22:17.547Z"
   },
   {
    "duration": 9,
    "start_time": "2023-01-17T11:22:17.551Z"
   },
   {
    "duration": 81,
    "start_time": "2023-01-17T11:22:17.561Z"
   },
   {
    "duration": 80,
    "start_time": "2023-01-17T11:22:17.644Z"
   },
   {
    "duration": 812,
    "start_time": "2023-01-17T11:22:17.726Z"
   },
   {
    "duration": 952,
    "start_time": "2023-01-17T11:22:18.543Z"
   },
   {
    "duration": 11,
    "start_time": "2023-01-17T11:22:19.497Z"
   },
   {
    "duration": 142,
    "start_time": "2023-01-17T11:22:19.510Z"
   },
   {
    "duration": 597,
    "start_time": "2023-01-17T11:22:19.654Z"
   },
   {
    "duration": 66,
    "start_time": "2023-01-17T11:22:20.253Z"
   },
   {
    "duration": 3,
    "start_time": "2023-01-17T11:22:20.321Z"
   },
   {
    "duration": 51,
    "start_time": "2023-01-17T11:22:20.326Z"
   },
   {
    "duration": 32,
    "start_time": "2023-01-17T11:22:20.380Z"
   },
   {
    "duration": 31,
    "start_time": "2023-01-17T11:22:20.414Z"
   },
   {
    "duration": 119,
    "start_time": "2023-01-17T11:22:20.447Z"
   },
   {
    "duration": 21,
    "start_time": "2023-01-17T11:22:20.568Z"
   },
   {
    "duration": 12,
    "start_time": "2023-01-17T11:22:22.386Z"
   },
   {
    "duration": 388,
    "start_time": "2023-01-17T11:22:24.735Z"
   },
   {
    "duration": 61,
    "start_time": "2023-01-17T11:22:25.125Z"
   },
   {
    "duration": 14,
    "start_time": "2023-01-17T11:22:27.695Z"
   },
   {
    "duration": 5,
    "start_time": "2023-01-17T11:50:34.636Z"
   },
   {
    "duration": 12,
    "start_time": "2023-01-17T11:50:34.643Z"
   },
   {
    "duration": 866,
    "start_time": "2023-01-17T11:50:34.657Z"
   },
   {
    "duration": 15,
    "start_time": "2023-01-17T11:50:35.525Z"
   },
   {
    "duration": 146,
    "start_time": "2023-01-17T11:50:35.543Z"
   },
   {
    "duration": 11,
    "start_time": "2023-01-17T11:50:35.691Z"
   },
   {
    "duration": 48,
    "start_time": "2023-01-17T11:50:35.704Z"
   },
   {
    "duration": 109,
    "start_time": "2023-01-17T11:50:35.755Z"
   },
   {
    "duration": 36,
    "start_time": "2023-01-17T11:50:35.866Z"
   },
   {
    "duration": 15,
    "start_time": "2023-01-17T11:50:35.904Z"
   },
   {
    "duration": 64,
    "start_time": "2023-01-17T11:50:35.922Z"
   },
   {
    "duration": 12,
    "start_time": "2023-01-17T11:50:35.988Z"
   },
   {
    "duration": 24,
    "start_time": "2023-01-17T11:50:36.002Z"
   },
   {
    "duration": 18,
    "start_time": "2023-01-17T11:50:36.028Z"
   },
   {
    "duration": 28,
    "start_time": "2023-01-17T11:50:36.048Z"
   },
   {
    "duration": 23,
    "start_time": "2023-01-17T11:50:36.078Z"
   },
   {
    "duration": 304,
    "start_time": "2023-01-17T11:50:36.103Z"
   },
   {
    "duration": 10,
    "start_time": "2023-01-17T11:50:36.409Z"
   },
   {
    "duration": 18,
    "start_time": "2023-01-17T11:50:36.420Z"
   },
   {
    "duration": 41,
    "start_time": "2023-01-17T11:50:36.439Z"
   },
   {
    "duration": 12,
    "start_time": "2023-01-17T11:50:36.481Z"
   },
   {
    "duration": 53,
    "start_time": "2023-01-17T11:50:36.495Z"
   },
   {
    "duration": 75,
    "start_time": "2023-01-17T11:50:36.549Z"
   },
   {
    "duration": 2,
    "start_time": "2023-01-17T11:50:36.626Z"
   },
   {
    "duration": 38,
    "start_time": "2023-01-17T11:50:36.630Z"
   },
   {
    "duration": 87,
    "start_time": "2023-01-17T11:50:36.670Z"
   },
   {
    "duration": 75,
    "start_time": "2023-01-17T11:50:36.759Z"
   },
   {
    "duration": 961,
    "start_time": "2023-01-17T11:50:36.835Z"
   },
   {
    "duration": 1019,
    "start_time": "2023-01-17T11:50:37.800Z"
   },
   {
    "duration": 11,
    "start_time": "2023-01-17T11:50:38.821Z"
   },
   {
    "duration": 44,
    "start_time": "2023-01-17T11:50:38.834Z"
   },
   {
    "duration": 556,
    "start_time": "2023-01-17T11:50:38.880Z"
   },
   {
    "duration": 68,
    "start_time": "2023-01-17T11:50:39.438Z"
   },
   {
    "duration": 2,
    "start_time": "2023-01-17T11:50:39.508Z"
   },
   {
    "duration": 20,
    "start_time": "2023-01-17T11:50:39.512Z"
   },
   {
    "duration": 6,
    "start_time": "2023-01-17T11:50:39.533Z"
   },
   {
    "duration": 6,
    "start_time": "2023-01-17T11:50:39.540Z"
   },
   {
    "duration": 108,
    "start_time": "2023-01-17T11:50:39.547Z"
   },
   {
    "duration": 12,
    "start_time": "2023-01-17T11:50:39.657Z"
   },
   {
    "duration": 379,
    "start_time": "2023-01-17T11:50:39.679Z"
   },
   {
    "duration": 63,
    "start_time": "2023-01-17T11:50:40.060Z"
   },
   {
    "duration": 66,
    "start_time": "2023-01-17T11:50:43.884Z"
   },
   {
    "duration": 43,
    "start_time": "2023-01-17T11:52:22.357Z"
   },
   {
    "duration": 1436,
    "start_time": "2023-01-17T11:52:28.122Z"
   },
   {
    "duration": 4,
    "start_time": "2023-01-17T11:52:29.560Z"
   },
   {
    "duration": 1142,
    "start_time": "2023-01-17T11:52:29.566Z"
   },
   {
    "duration": 20,
    "start_time": "2023-01-17T11:52:30.710Z"
   },
   {
    "duration": 144,
    "start_time": "2023-01-17T11:52:30.732Z"
   },
   {
    "duration": 4,
    "start_time": "2023-01-17T11:52:30.878Z"
   },
   {
    "duration": 15,
    "start_time": "2023-01-17T11:52:30.884Z"
   },
   {
    "duration": 131,
    "start_time": "2023-01-17T11:52:30.901Z"
   },
   {
    "duration": 34,
    "start_time": "2023-01-17T11:52:31.035Z"
   },
   {
    "duration": 18,
    "start_time": "2023-01-17T11:52:31.071Z"
   },
   {
    "duration": 59,
    "start_time": "2023-01-17T11:52:31.090Z"
   },
   {
    "duration": 12,
    "start_time": "2023-01-17T11:52:31.150Z"
   },
   {
    "duration": 29,
    "start_time": "2023-01-17T11:52:31.163Z"
   },
   {
    "duration": 31,
    "start_time": "2023-01-17T11:52:31.193Z"
   },
   {
    "duration": 17,
    "start_time": "2023-01-17T11:52:31.226Z"
   },
   {
    "duration": 16,
    "start_time": "2023-01-17T11:52:31.246Z"
   },
   {
    "duration": 291,
    "start_time": "2023-01-17T11:52:31.264Z"
   },
   {
    "duration": 23,
    "start_time": "2023-01-17T11:52:31.557Z"
   },
   {
    "duration": 53,
    "start_time": "2023-01-17T11:52:31.582Z"
   },
   {
    "duration": 30,
    "start_time": "2023-01-17T11:52:31.637Z"
   },
   {
    "duration": 11,
    "start_time": "2023-01-17T11:52:31.669Z"
   },
   {
    "duration": 34,
    "start_time": "2023-01-17T11:52:31.682Z"
   },
   {
    "duration": 75,
    "start_time": "2023-01-17T11:52:31.718Z"
   },
   {
    "duration": 2,
    "start_time": "2023-01-17T11:52:31.795Z"
   },
   {
    "duration": 6,
    "start_time": "2023-01-17T11:52:31.799Z"
   },
   {
    "duration": 88,
    "start_time": "2023-01-17T11:52:31.807Z"
   },
   {
    "duration": 64,
    "start_time": "2023-01-17T11:52:31.896Z"
   },
   {
    "duration": 916,
    "start_time": "2023-01-17T11:52:31.979Z"
   },
   {
    "duration": 755,
    "start_time": "2023-01-17T11:52:32.897Z"
   },
   {
    "duration": 9,
    "start_time": "2023-01-17T11:52:33.654Z"
   },
   {
    "duration": 94,
    "start_time": "2023-01-17T11:52:33.664Z"
   },
   {
    "duration": 670,
    "start_time": "2023-01-17T11:52:33.760Z"
   },
   {
    "duration": 72,
    "start_time": "2023-01-17T11:52:34.431Z"
   },
   {
    "duration": 2,
    "start_time": "2023-01-17T11:52:34.504Z"
   },
   {
    "duration": 58,
    "start_time": "2023-01-17T11:52:34.508Z"
   },
   {
    "duration": 51,
    "start_time": "2023-01-17T11:52:34.568Z"
   },
   {
    "duration": 44,
    "start_time": "2023-01-17T11:52:34.621Z"
   },
   {
    "duration": 148,
    "start_time": "2023-01-17T11:52:34.666Z"
   },
   {
    "duration": 14,
    "start_time": "2023-01-17T11:52:34.815Z"
   },
   {
    "duration": 599,
    "start_time": "2023-01-17T11:52:34.831Z"
   },
   {
    "duration": 74,
    "start_time": "2023-01-17T11:52:35.431Z"
   },
   {
    "duration": 56,
    "start_time": "2023-01-17T11:52:37.083Z"
   },
   {
    "duration": 24,
    "start_time": "2023-01-17T11:52:40.404Z"
   },
   {
    "duration": 40421,
    "start_time": "2023-01-17T11:52:41.011Z"
   },
   {
    "duration": 5,
    "start_time": "2023-01-17T12:02:07.823Z"
   },
   {
    "duration": 14,
    "start_time": "2023-01-17T12:02:07.830Z"
   },
   {
    "duration": 777,
    "start_time": "2023-01-17T12:02:07.846Z"
   },
   {
    "duration": 13,
    "start_time": "2023-01-17T12:02:08.625Z"
   },
   {
    "duration": 116,
    "start_time": "2023-01-17T12:02:08.640Z"
   },
   {
    "duration": 4,
    "start_time": "2023-01-17T12:02:08.758Z"
   },
   {
    "duration": 14,
    "start_time": "2023-01-17T12:02:08.764Z"
   },
   {
    "duration": 68,
    "start_time": "2023-01-17T12:02:08.779Z"
   },
   {
    "duration": 42,
    "start_time": "2023-01-17T12:02:08.850Z"
   },
   {
    "duration": 13,
    "start_time": "2023-01-17T12:02:08.894Z"
   },
   {
    "duration": 46,
    "start_time": "2023-01-17T12:02:08.909Z"
   },
   {
    "duration": 22,
    "start_time": "2023-01-17T12:02:08.957Z"
   },
   {
    "duration": 16,
    "start_time": "2023-01-17T12:02:08.981Z"
   },
   {
    "duration": 15,
    "start_time": "2023-01-17T12:02:08.998Z"
   },
   {
    "duration": 8,
    "start_time": "2023-01-17T12:02:09.015Z"
   },
   {
    "duration": 11,
    "start_time": "2023-01-17T12:02:09.025Z"
   },
   {
    "duration": 275,
    "start_time": "2023-01-17T12:02:09.038Z"
   },
   {
    "duration": 9,
    "start_time": "2023-01-17T12:02:09.315Z"
   },
   {
    "duration": 5,
    "start_time": "2023-01-17T12:02:09.326Z"
   },
   {
    "duration": 52,
    "start_time": "2023-01-17T12:02:09.332Z"
   },
   {
    "duration": 11,
    "start_time": "2023-01-17T12:02:09.385Z"
   },
   {
    "duration": 29,
    "start_time": "2023-01-17T12:02:09.398Z"
   },
   {
    "duration": 90,
    "start_time": "2023-01-17T12:02:09.429Z"
   },
   {
    "duration": 2,
    "start_time": "2023-01-17T12:02:09.522Z"
   },
   {
    "duration": 9,
    "start_time": "2023-01-17T12:02:09.526Z"
   },
   {
    "duration": 78,
    "start_time": "2023-01-17T12:02:09.537Z"
   },
   {
    "duration": 73,
    "start_time": "2023-01-17T12:02:09.617Z"
   },
   {
    "duration": 842,
    "start_time": "2023-01-17T12:02:09.692Z"
   },
   {
    "duration": 727,
    "start_time": "2023-01-17T12:02:10.536Z"
   },
   {
    "duration": 13,
    "start_time": "2023-01-17T12:02:11.265Z"
   },
   {
    "duration": 32,
    "start_time": "2023-01-17T12:02:11.279Z"
   },
   {
    "duration": 633,
    "start_time": "2023-01-17T12:02:11.313Z"
   },
   {
    "duration": 68,
    "start_time": "2023-01-17T12:02:11.948Z"
   },
   {
    "duration": 2,
    "start_time": "2023-01-17T12:02:12.018Z"
   },
   {
    "duration": 23,
    "start_time": "2023-01-17T12:02:12.022Z"
   },
   {
    "duration": 8,
    "start_time": "2023-01-17T12:02:12.047Z"
   },
   {
    "duration": 6,
    "start_time": "2023-01-17T12:02:12.057Z"
   },
   {
    "duration": 91,
    "start_time": "2023-01-17T12:02:12.065Z"
   },
   {
    "duration": 21,
    "start_time": "2023-01-17T12:02:12.158Z"
   },
   {
    "duration": 21,
    "start_time": "2023-01-17T12:02:13.896Z"
   },
   {
    "duration": 324,
    "start_time": "2023-01-17T12:02:16.941Z"
   },
   {
    "duration": 751,
    "start_time": "2023-01-17T12:02:19.191Z"
   },
   {
    "duration": 19,
    "start_time": "2023-01-17T12:02:30.266Z"
   },
   {
    "duration": 13780,
    "start_time": "2023-01-17T12:03:31.519Z"
   },
   {
    "duration": 49,
    "start_time": "2023-01-17T12:07:13.120Z"
   },
   {
    "duration": 1429,
    "start_time": "2023-01-17T12:07:18.142Z"
   },
   {
    "duration": 3,
    "start_time": "2023-01-17T12:07:19.573Z"
   },
   {
    "duration": 1110,
    "start_time": "2023-01-17T12:07:19.577Z"
   },
   {
    "duration": 18,
    "start_time": "2023-01-17T12:07:20.689Z"
   },
   {
    "duration": 113,
    "start_time": "2023-01-17T12:07:20.709Z"
   },
   {
    "duration": 18,
    "start_time": "2023-01-17T12:07:20.823Z"
   },
   {
    "duration": 47,
    "start_time": "2023-01-17T12:07:20.842Z"
   },
   {
    "duration": 143,
    "start_time": "2023-01-17T12:07:20.891Z"
   },
   {
    "duration": 32,
    "start_time": "2023-01-17T12:07:21.036Z"
   },
   {
    "duration": 13,
    "start_time": "2023-01-17T12:07:21.078Z"
   },
   {
    "duration": 68,
    "start_time": "2023-01-17T12:07:21.093Z"
   },
   {
    "duration": 10,
    "start_time": "2023-01-17T12:07:21.163Z"
   },
   {
    "duration": 38,
    "start_time": "2023-01-17T12:07:21.175Z"
   },
   {
    "duration": 40,
    "start_time": "2023-01-17T12:07:21.214Z"
   },
   {
    "duration": 10,
    "start_time": "2023-01-17T12:07:21.255Z"
   },
   {
    "duration": 19,
    "start_time": "2023-01-17T12:07:21.267Z"
   },
   {
    "duration": 268,
    "start_time": "2023-01-17T12:07:21.288Z"
   },
   {
    "duration": 29,
    "start_time": "2023-01-17T12:07:21.558Z"
   },
   {
    "duration": 5,
    "start_time": "2023-01-17T12:07:21.588Z"
   },
   {
    "duration": 33,
    "start_time": "2023-01-17T12:07:21.595Z"
   },
   {
    "duration": 10,
    "start_time": "2023-01-17T12:07:21.630Z"
   },
   {
    "duration": 59,
    "start_time": "2023-01-17T12:07:21.642Z"
   },
   {
    "duration": 77,
    "start_time": "2023-01-17T12:07:21.703Z"
   },
   {
    "duration": 3,
    "start_time": "2023-01-17T12:07:21.782Z"
   },
   {
    "duration": 23,
    "start_time": "2023-01-17T12:07:21.786Z"
   },
   {
    "duration": 91,
    "start_time": "2023-01-17T12:07:21.811Z"
   },
   {
    "duration": 75,
    "start_time": "2023-01-17T12:07:21.903Z"
   },
   {
    "duration": 892,
    "start_time": "2023-01-17T12:07:21.981Z"
   },
   {
    "duration": 738,
    "start_time": "2023-01-17T12:07:22.877Z"
   },
   {
    "duration": 9,
    "start_time": "2023-01-17T12:07:23.616Z"
   },
   {
    "duration": 48,
    "start_time": "2023-01-17T12:07:23.627Z"
   },
   {
    "duration": 623,
    "start_time": "2023-01-17T12:07:23.677Z"
   },
   {
    "duration": 62,
    "start_time": "2023-01-17T12:07:24.302Z"
   },
   {
    "duration": 3,
    "start_time": "2023-01-17T12:07:24.377Z"
   },
   {
    "duration": 26,
    "start_time": "2023-01-17T12:07:24.381Z"
   },
   {
    "duration": 11,
    "start_time": "2023-01-17T12:07:24.409Z"
   },
   {
    "duration": 13,
    "start_time": "2023-01-17T12:07:24.422Z"
   },
   {
    "duration": 109,
    "start_time": "2023-01-17T12:07:24.436Z"
   },
   {
    "duration": 12,
    "start_time": "2023-01-17T12:07:24.546Z"
   },
   {
    "duration": 450,
    "start_time": "2023-01-17T12:07:24.560Z"
   },
   {
    "duration": 728,
    "start_time": "2023-01-17T12:07:25.011Z"
   },
   {
    "duration": 3614,
    "start_time": "2023-01-17T12:08:08.968Z"
   },
   {
    "duration": 1510,
    "start_time": "2023-01-17T12:10:35.400Z"
   },
   {
    "duration": 3,
    "start_time": "2023-01-17T12:10:36.912Z"
   },
   {
    "duration": 1195,
    "start_time": "2023-01-17T12:10:36.918Z"
   },
   {
    "duration": 24,
    "start_time": "2023-01-17T12:10:38.116Z"
   },
   {
    "duration": 157,
    "start_time": "2023-01-17T12:10:38.142Z"
   },
   {
    "duration": 5,
    "start_time": "2023-01-17T12:10:38.301Z"
   },
   {
    "duration": 22,
    "start_time": "2023-01-17T12:10:38.308Z"
   },
   {
    "duration": 115,
    "start_time": "2023-01-17T12:10:38.332Z"
   },
   {
    "duration": 49,
    "start_time": "2023-01-17T12:10:38.449Z"
   },
   {
    "duration": 17,
    "start_time": "2023-01-17T12:10:38.502Z"
   },
   {
    "duration": 70,
    "start_time": "2023-01-17T12:10:38.522Z"
   },
   {
    "duration": 14,
    "start_time": "2023-01-17T12:10:38.594Z"
   },
   {
    "duration": 18,
    "start_time": "2023-01-17T12:10:38.611Z"
   },
   {
    "duration": 21,
    "start_time": "2023-01-17T12:10:38.632Z"
   },
   {
    "duration": 23,
    "start_time": "2023-01-17T12:10:38.655Z"
   },
   {
    "duration": 14,
    "start_time": "2023-01-17T12:10:38.680Z"
   },
   {
    "duration": 328,
    "start_time": "2023-01-17T12:10:38.696Z"
   },
   {
    "duration": 16,
    "start_time": "2023-01-17T12:10:39.025Z"
   },
   {
    "duration": 19,
    "start_time": "2023-01-17T12:10:39.043Z"
   },
   {
    "duration": 35,
    "start_time": "2023-01-17T12:10:39.064Z"
   },
   {
    "duration": 11,
    "start_time": "2023-01-17T12:10:39.101Z"
   },
   {
    "duration": 34,
    "start_time": "2023-01-17T12:10:39.114Z"
   },
   {
    "duration": 94,
    "start_time": "2023-01-17T12:10:39.150Z"
   },
   {
    "duration": 3,
    "start_time": "2023-01-17T12:10:39.246Z"
   },
   {
    "duration": 6,
    "start_time": "2023-01-17T12:10:39.251Z"
   },
   {
    "duration": 93,
    "start_time": "2023-01-17T12:10:39.259Z"
   },
   {
    "duration": 81,
    "start_time": "2023-01-17T12:10:39.354Z"
   },
   {
    "duration": 859,
    "start_time": "2023-01-17T12:10:39.438Z"
   },
   {
    "duration": 708,
    "start_time": "2023-01-17T12:10:40.299Z"
   },
   {
    "duration": 10,
    "start_time": "2023-01-17T12:10:41.009Z"
   },
   {
    "duration": 32,
    "start_time": "2023-01-17T12:10:41.020Z"
   },
   {
    "duration": 520,
    "start_time": "2023-01-17T12:10:41.053Z"
   },
   {
    "duration": 60,
    "start_time": "2023-01-17T12:10:41.577Z"
   },
   {
    "duration": 3,
    "start_time": "2023-01-17T12:10:41.638Z"
   },
   {
    "duration": 18,
    "start_time": "2023-01-17T12:10:41.642Z"
   },
   {
    "duration": 4,
    "start_time": "2023-01-17T12:10:41.677Z"
   },
   {
    "duration": 17,
    "start_time": "2023-01-17T12:10:41.682Z"
   },
   {
    "duration": 110,
    "start_time": "2023-01-17T12:10:41.700Z"
   },
   {
    "duration": 12,
    "start_time": "2023-01-17T12:10:41.812Z"
   },
   {
    "duration": 438,
    "start_time": "2023-01-17T12:10:41.825Z"
   },
   {
    "duration": 753,
    "start_time": "2023-01-17T12:10:42.264Z"
   },
   {
    "duration": 461,
    "start_time": "2023-01-17T12:10:45.104Z"
   },
   {
    "duration": 3,
    "start_time": "2023-01-17T12:10:45.567Z"
   },
   {
    "duration": 14833,
    "start_time": "2023-01-17T12:10:46.863Z"
   },
   {
    "duration": 5,
    "start_time": "2023-01-17T12:11:20.120Z"
   },
   {
    "duration": 25,
    "start_time": "2023-01-17T12:11:20.127Z"
   },
   {
    "duration": 775,
    "start_time": "2023-01-17T12:11:20.154Z"
   },
   {
    "duration": 13,
    "start_time": "2023-01-17T12:11:20.931Z"
   },
   {
    "duration": 121,
    "start_time": "2023-01-17T12:11:20.946Z"
   },
   {
    "duration": 4,
    "start_time": "2023-01-17T12:11:21.069Z"
   },
   {
    "duration": 7,
    "start_time": "2023-01-17T12:11:21.077Z"
   },
   {
    "duration": 65,
    "start_time": "2023-01-17T12:11:21.085Z"
   },
   {
    "duration": 39,
    "start_time": "2023-01-17T12:11:21.152Z"
   },
   {
    "duration": 13,
    "start_time": "2023-01-17T12:11:21.192Z"
   },
   {
    "duration": 39,
    "start_time": "2023-01-17T12:11:21.208Z"
   },
   {
    "duration": 11,
    "start_time": "2023-01-17T12:11:21.249Z"
   },
   {
    "duration": 33,
    "start_time": "2023-01-17T12:11:21.261Z"
   },
   {
    "duration": 21,
    "start_time": "2023-01-17T12:11:21.295Z"
   },
   {
    "duration": 14,
    "start_time": "2023-01-17T12:11:21.318Z"
   },
   {
    "duration": 43,
    "start_time": "2023-01-17T12:11:21.334Z"
   },
   {
    "duration": 295,
    "start_time": "2023-01-17T12:11:21.379Z"
   },
   {
    "duration": 11,
    "start_time": "2023-01-17T12:11:21.678Z"
   },
   {
    "duration": 12,
    "start_time": "2023-01-17T12:11:21.690Z"
   },
   {
    "duration": 36,
    "start_time": "2023-01-17T12:11:21.704Z"
   },
   {
    "duration": 11,
    "start_time": "2023-01-17T12:11:21.742Z"
   },
   {
    "duration": 53,
    "start_time": "2023-01-17T12:11:21.755Z"
   },
   {
    "duration": 80,
    "start_time": "2023-01-17T12:11:21.810Z"
   },
   {
    "duration": 3,
    "start_time": "2023-01-17T12:11:21.892Z"
   },
   {
    "duration": 8,
    "start_time": "2023-01-17T12:11:21.896Z"
   },
   {
    "duration": 83,
    "start_time": "2023-01-17T12:11:21.906Z"
   },
   {
    "duration": 63,
    "start_time": "2023-01-17T12:11:21.990Z"
   },
   {
    "duration": 795,
    "start_time": "2023-01-17T12:11:22.054Z"
   },
   {
    "duration": 723,
    "start_time": "2023-01-17T12:11:22.852Z"
   },
   {
    "duration": 10,
    "start_time": "2023-01-17T12:11:23.578Z"
   },
   {
    "duration": 34,
    "start_time": "2023-01-17T12:11:23.590Z"
   },
   {
    "duration": 740,
    "start_time": "2023-01-17T12:11:23.626Z"
   },
   {
    "duration": 64,
    "start_time": "2023-01-17T12:11:24.368Z"
   },
   {
    "duration": 3,
    "start_time": "2023-01-17T12:11:24.434Z"
   },
   {
    "duration": 34,
    "start_time": "2023-01-17T12:11:24.438Z"
   },
   {
    "duration": 16,
    "start_time": "2023-01-17T12:11:24.474Z"
   },
   {
    "duration": 14,
    "start_time": "2023-01-17T12:11:24.492Z"
   },
   {
    "duration": 96,
    "start_time": "2023-01-17T12:11:24.508Z"
   },
   {
    "duration": 13,
    "start_time": "2023-01-17T12:11:24.605Z"
   },
   {
    "duration": 310,
    "start_time": "2023-01-17T12:11:24.620Z"
   },
   {
    "duration": 120,
    "start_time": "2023-01-17T12:12:28.335Z"
   },
   {
    "duration": 192,
    "start_time": "2023-01-17T12:13:30.480Z"
   },
   {
    "duration": 173,
    "start_time": "2023-01-17T12:13:43.247Z"
   },
   {
    "duration": 2,
    "start_time": "2023-01-17T12:13:51.203Z"
   },
   {
    "duration": 9,
    "start_time": "2023-01-17T12:13:57.953Z"
   },
   {
    "duration": 4,
    "start_time": "2023-01-17T12:14:09.008Z"
   },
   {
    "duration": 4,
    "start_time": "2023-01-17T12:14:49.512Z"
   },
   {
    "duration": 4,
    "start_time": "2023-01-17T12:15:08.872Z"
   },
   {
    "duration": 6,
    "start_time": "2023-01-17T12:15:16.664Z"
   },
   {
    "duration": 7,
    "start_time": "2023-01-17T12:15:17.703Z"
   },
   {
    "duration": 5,
    "start_time": "2023-01-17T12:15:19.929Z"
   },
   {
    "duration": 3,
    "start_time": "2023-01-17T12:15:22.216Z"
   },
   {
    "duration": 5,
    "start_time": "2023-01-17T12:15:23.416Z"
   },
   {
    "duration": 3,
    "start_time": "2023-01-17T12:16:19.200Z"
   },
   {
    "duration": 13,
    "start_time": "2023-01-17T12:17:23.985Z"
   },
   {
    "duration": 26,
    "start_time": "2023-01-17T12:17:37.265Z"
   },
   {
    "duration": 5,
    "start_time": "2023-01-17T12:17:56.080Z"
   },
   {
    "duration": 39,
    "start_time": "2023-01-17T12:17:56.087Z"
   },
   {
    "duration": 794,
    "start_time": "2023-01-17T12:17:56.128Z"
   },
   {
    "duration": 13,
    "start_time": "2023-01-17T12:17:56.925Z"
   },
   {
    "duration": 139,
    "start_time": "2023-01-17T12:17:56.939Z"
   },
   {
    "duration": 4,
    "start_time": "2023-01-17T12:17:57.080Z"
   },
   {
    "duration": 40,
    "start_time": "2023-01-17T12:17:57.085Z"
   },
   {
    "duration": 88,
    "start_time": "2023-01-17T12:17:57.126Z"
   },
   {
    "duration": 28,
    "start_time": "2023-01-17T12:17:57.217Z"
   },
   {
    "duration": 23,
    "start_time": "2023-01-17T12:17:57.247Z"
   },
   {
    "duration": 64,
    "start_time": "2023-01-17T12:17:57.272Z"
   },
   {
    "duration": 28,
    "start_time": "2023-01-17T12:17:57.338Z"
   },
   {
    "duration": 32,
    "start_time": "2023-01-17T12:17:57.368Z"
   },
   {
    "duration": 40,
    "start_time": "2023-01-17T12:17:57.402Z"
   },
   {
    "duration": 22,
    "start_time": "2023-01-17T12:17:57.444Z"
   },
   {
    "duration": 18,
    "start_time": "2023-01-17T12:17:57.468Z"
   },
   {
    "duration": 266,
    "start_time": "2023-01-17T12:17:57.488Z"
   },
   {
    "duration": 10,
    "start_time": "2023-01-17T12:17:57.755Z"
   },
   {
    "duration": 30,
    "start_time": "2023-01-17T12:17:57.766Z"
   },
   {
    "duration": 63,
    "start_time": "2023-01-17T12:17:57.798Z"
   },
   {
    "duration": 21,
    "start_time": "2023-01-17T12:17:57.863Z"
   },
   {
    "duration": 51,
    "start_time": "2023-01-17T12:17:57.886Z"
   },
   {
    "duration": 65,
    "start_time": "2023-01-17T12:17:57.939Z"
   },
   {
    "duration": 3,
    "start_time": "2023-01-17T12:17:58.007Z"
   },
   {
    "duration": 9,
    "start_time": "2023-01-17T12:17:58.011Z"
   },
   {
    "duration": 102,
    "start_time": "2023-01-17T12:17:58.022Z"
   },
   {
    "duration": 72,
    "start_time": "2023-01-17T12:17:58.126Z"
   },
   {
    "duration": 829,
    "start_time": "2023-01-17T12:17:58.200Z"
   },
   {
    "duration": 941,
    "start_time": "2023-01-17T12:17:59.031Z"
   },
   {
    "duration": 13,
    "start_time": "2023-01-17T12:17:59.974Z"
   },
   {
    "duration": 39,
    "start_time": "2023-01-17T12:17:59.989Z"
   },
   {
    "duration": 571,
    "start_time": "2023-01-17T12:18:00.029Z"
   },
   {
    "duration": 84,
    "start_time": "2023-01-17T12:18:00.602Z"
   },
   {
    "duration": 3,
    "start_time": "2023-01-17T12:18:00.687Z"
   },
   {
    "duration": 36,
    "start_time": "2023-01-17T12:18:00.692Z"
   },
   {
    "duration": 3,
    "start_time": "2023-01-17T12:18:04.560Z"
   },
   {
    "duration": 3,
    "start_time": "2023-01-17T12:18:05.321Z"
   },
   {
    "duration": 83,
    "start_time": "2023-01-17T12:18:05.977Z"
   },
   {
    "duration": 13,
    "start_time": "2023-01-17T12:18:07.275Z"
   },
   {
    "duration": 77,
    "start_time": "2023-01-17T12:18:26.649Z"
   },
   {
    "duration": 295,
    "start_time": "2023-01-17T12:18:40.010Z"
   },
   {
    "duration": 720,
    "start_time": "2023-01-17T12:19:51.785Z"
   },
   {
    "duration": 70,
    "start_time": "2023-01-17T12:19:54.003Z"
   },
   {
    "duration": 5,
    "start_time": "2023-01-17T12:20:14.585Z"
   },
   {
    "duration": 9,
    "start_time": "2023-01-17T12:20:14.591Z"
   },
   {
    "duration": 733,
    "start_time": "2023-01-17T12:20:14.601Z"
   },
   {
    "duration": 13,
    "start_time": "2023-01-17T12:20:15.336Z"
   },
   {
    "duration": 128,
    "start_time": "2023-01-17T12:20:15.351Z"
   },
   {
    "duration": 5,
    "start_time": "2023-01-17T12:20:15.481Z"
   },
   {
    "duration": 32,
    "start_time": "2023-01-17T12:20:15.487Z"
   },
   {
    "duration": 91,
    "start_time": "2023-01-17T12:20:15.521Z"
   },
   {
    "duration": 29,
    "start_time": "2023-01-17T12:20:15.614Z"
   },
   {
    "duration": 15,
    "start_time": "2023-01-17T12:20:15.644Z"
   },
   {
    "duration": 38,
    "start_time": "2023-01-17T12:20:15.680Z"
   },
   {
    "duration": 16,
    "start_time": "2023-01-17T12:20:15.720Z"
   },
   {
    "duration": 34,
    "start_time": "2023-01-17T12:20:15.738Z"
   },
   {
    "duration": 33,
    "start_time": "2023-01-17T12:20:15.773Z"
   },
   {
    "duration": 27,
    "start_time": "2023-01-17T12:20:15.808Z"
   },
   {
    "duration": 21,
    "start_time": "2023-01-17T12:20:15.837Z"
   },
   {
    "duration": 252,
    "start_time": "2023-01-17T12:20:15.860Z"
   },
   {
    "duration": 11,
    "start_time": "2023-01-17T12:20:16.114Z"
   },
   {
    "duration": 5,
    "start_time": "2023-01-17T12:20:16.127Z"
   },
   {
    "duration": 50,
    "start_time": "2023-01-17T12:20:16.134Z"
   },
   {
    "duration": 12,
    "start_time": "2023-01-17T12:20:16.186Z"
   },
   {
    "duration": 31,
    "start_time": "2023-01-17T12:20:16.200Z"
   },
   {
    "duration": 97,
    "start_time": "2023-01-17T12:20:16.233Z"
   },
   {
    "duration": 3,
    "start_time": "2023-01-17T12:20:16.332Z"
   },
   {
    "duration": 11,
    "start_time": "2023-01-17T12:20:16.337Z"
   },
   {
    "duration": 80,
    "start_time": "2023-01-17T12:20:16.349Z"
   },
   {
    "duration": 73,
    "start_time": "2023-01-17T12:20:16.431Z"
   },
   {
    "duration": 799,
    "start_time": "2023-01-17T12:20:16.506Z"
   },
   {
    "duration": 859,
    "start_time": "2023-01-17T12:20:17.310Z"
   },
   {
    "duration": 12,
    "start_time": "2023-01-17T12:20:18.171Z"
   },
   {
    "duration": 32,
    "start_time": "2023-01-17T12:20:18.184Z"
   },
   {
    "duration": 513,
    "start_time": "2023-01-17T12:20:18.217Z"
   },
   {
    "duration": 66,
    "start_time": "2023-01-17T12:20:18.731Z"
   },
   {
    "duration": 3,
    "start_time": "2023-01-17T12:20:18.799Z"
   },
   {
    "duration": 22,
    "start_time": "2023-01-17T12:20:18.804Z"
   },
   {
    "duration": 14,
    "start_time": "2023-01-17T12:20:18.828Z"
   },
   {
    "duration": 13,
    "start_time": "2023-01-17T12:20:18.844Z"
   },
   {
    "duration": 99,
    "start_time": "2023-01-17T12:20:18.859Z"
   },
   {
    "duration": 20,
    "start_time": "2023-01-17T12:20:18.959Z"
   },
   {
    "duration": 357,
    "start_time": "2023-01-17T12:20:18.980Z"
   },
   {
    "duration": 308,
    "start_time": "2023-01-17T12:20:20.985Z"
   },
   {
    "duration": 732,
    "start_time": "2023-01-17T12:20:22.667Z"
   },
   {
    "duration": 19,
    "start_time": "2023-01-17T12:20:34.858Z"
   },
   {
    "duration": 57,
    "start_time": "2023-01-17T12:20:52.082Z"
   },
   {
    "duration": 4,
    "start_time": "2023-01-17T12:20:55.090Z"
   },
   {
    "duration": 22,
    "start_time": "2023-01-17T12:21:10.298Z"
   },
   {
    "duration": 2,
    "start_time": "2023-01-17T12:21:50.898Z"
   },
   {
    "duration": 234603,
    "start_time": "2023-01-17T12:22:13.354Z"
   },
   {
    "duration": 5,
    "start_time": "2023-01-17T12:26:16.961Z"
   },
   {
    "duration": 29,
    "start_time": "2023-01-17T12:26:16.968Z"
   },
   {
    "duration": 776,
    "start_time": "2023-01-17T12:26:16.999Z"
   },
   {
    "duration": 18,
    "start_time": "2023-01-17T12:26:17.776Z"
   },
   {
    "duration": 140,
    "start_time": "2023-01-17T12:26:17.796Z"
   },
   {
    "duration": 4,
    "start_time": "2023-01-17T12:26:17.938Z"
   },
   {
    "duration": 6,
    "start_time": "2023-01-17T12:26:17.944Z"
   },
   {
    "duration": 82,
    "start_time": "2023-01-17T12:26:17.952Z"
   },
   {
    "duration": 29,
    "start_time": "2023-01-17T12:26:18.035Z"
   },
   {
    "duration": 26,
    "start_time": "2023-01-17T12:26:18.066Z"
   },
   {
    "duration": 42,
    "start_time": "2023-01-17T12:26:18.097Z"
   },
   {
    "duration": 11,
    "start_time": "2023-01-17T12:26:18.141Z"
   },
   {
    "duration": 8,
    "start_time": "2023-01-17T12:26:18.153Z"
   },
   {
    "duration": 20,
    "start_time": "2023-01-17T12:26:18.162Z"
   },
   {
    "duration": 12,
    "start_time": "2023-01-17T12:26:18.184Z"
   },
   {
    "duration": 15,
    "start_time": "2023-01-17T12:26:18.198Z"
   },
   {
    "duration": 264,
    "start_time": "2023-01-17T12:26:18.214Z"
   },
   {
    "duration": 10,
    "start_time": "2023-01-17T12:26:18.490Z"
   },
   {
    "duration": 7,
    "start_time": "2023-01-17T12:26:18.502Z"
   },
   {
    "duration": 45,
    "start_time": "2023-01-17T12:26:18.511Z"
   },
   {
    "duration": 10,
    "start_time": "2023-01-17T12:26:18.558Z"
   },
   {
    "duration": 35,
    "start_time": "2023-01-17T12:26:18.569Z"
   },
   {
    "duration": 76,
    "start_time": "2023-01-17T12:26:18.605Z"
   },
   {
    "duration": 8,
    "start_time": "2023-01-17T12:26:18.682Z"
   },
   {
    "duration": 33,
    "start_time": "2023-01-17T12:26:18.692Z"
   },
   {
    "duration": 102,
    "start_time": "2023-01-17T12:26:18.727Z"
   },
   {
    "duration": 76,
    "start_time": "2023-01-17T12:26:18.831Z"
   },
   {
    "duration": 990,
    "start_time": "2023-01-17T12:26:18.909Z"
   },
   {
    "duration": 725,
    "start_time": "2023-01-17T12:26:19.903Z"
   },
   {
    "duration": 10,
    "start_time": "2023-01-17T12:26:20.629Z"
   },
   {
    "duration": 51,
    "start_time": "2023-01-17T12:26:20.640Z"
   },
   {
    "duration": 664,
    "start_time": "2023-01-17T12:26:20.693Z"
   },
   {
    "duration": 76,
    "start_time": "2023-01-17T12:26:21.358Z"
   },
   {
    "duration": 2,
    "start_time": "2023-01-17T12:26:21.436Z"
   },
   {
    "duration": 18,
    "start_time": "2023-01-17T12:26:21.440Z"
   },
   {
    "duration": 28,
    "start_time": "2023-01-17T12:26:21.460Z"
   },
   {
    "duration": 8,
    "start_time": "2023-01-17T12:26:21.490Z"
   },
   {
    "duration": 88,
    "start_time": "2023-01-17T12:26:21.500Z"
   },
   {
    "duration": 17,
    "start_time": "2023-01-17T12:26:21.590Z"
   },
   {
    "duration": 319,
    "start_time": "2023-01-17T12:26:21.609Z"
   },
   {
    "duration": 770,
    "start_time": "2023-01-17T12:26:21.930Z"
   },
   {
    "duration": 13,
    "start_time": "2023-01-17T12:26:22.701Z"
   },
   {
    "duration": 77,
    "start_time": "2023-01-17T12:26:22.715Z"
   },
   {
    "duration": 2,
    "start_time": "2023-01-17T12:26:22.794Z"
   },
   {
    "duration": 26,
    "start_time": "2023-01-17T12:26:22.798Z"
   },
   {
    "duration": 15,
    "start_time": "2023-01-17T12:26:22.826Z"
   },
   {
    "duration": 9,
    "start_time": "2023-01-17T12:26:22.843Z"
   },
   {
    "duration": 7,
    "start_time": "2023-01-17T12:26:22.854Z"
   },
   {
    "duration": 11,
    "start_time": "2023-01-17T12:26:22.862Z"
   },
   {
    "duration": 3,
    "start_time": "2023-01-17T12:26:26.995Z"
   },
   {
    "duration": 4,
    "start_time": "2023-01-17T12:26:28.563Z"
   },
   {
    "duration": 4,
    "start_time": "2023-01-17T12:26:29.353Z"
   },
   {
    "duration": 4,
    "start_time": "2023-01-17T12:26:36.602Z"
   },
   {
    "duration": 85,
    "start_time": "2023-01-17T12:26:41.947Z"
   },
   {
    "duration": 436700,
    "start_time": "2023-01-17T12:26:50.457Z"
   },
   {
    "duration": 3,
    "start_time": "2023-01-17T12:34:19.813Z"
   },
   {
    "duration": 2,
    "start_time": "2023-01-17T12:34:20.340Z"
   },
   {
    "duration": 997269,
    "start_time": "2023-01-17T12:34:20.892Z"
   },
   {
    "duration": 4,
    "start_time": "2023-01-17T12:51:15.455Z"
   },
   {
    "duration": 4,
    "start_time": "2023-01-17T12:51:21.967Z"
   },
   {
    "duration": 23,
    "start_time": "2023-01-17T12:51:54.135Z"
   },
   {
    "duration": 15,
    "start_time": "2023-01-17T12:53:45.360Z"
   },
   {
    "duration": 15,
    "start_time": "2023-01-17T12:54:07.720Z"
   },
   {
    "duration": 14,
    "start_time": "2023-01-17T12:54:23.752Z"
   },
   {
    "duration": 17,
    "start_time": "2023-01-17T12:56:42.172Z"
   },
   {
    "duration": 6,
    "start_time": "2023-01-17T12:57:15.472Z"
   },
   {
    "duration": 15,
    "start_time": "2023-01-17T12:57:15.480Z"
   },
   {
    "duration": 801,
    "start_time": "2023-01-17T12:57:15.497Z"
   },
   {
    "duration": 13,
    "start_time": "2023-01-17T12:57:16.300Z"
   },
   {
    "duration": 128,
    "start_time": "2023-01-17T12:57:16.315Z"
   },
   {
    "duration": 5,
    "start_time": "2023-01-17T12:57:16.445Z"
   },
   {
    "duration": 13,
    "start_time": "2023-01-17T12:57:16.452Z"
   },
   {
    "duration": 76,
    "start_time": "2023-01-17T12:57:16.466Z"
   },
   {
    "duration": 34,
    "start_time": "2023-01-17T12:57:16.544Z"
   },
   {
    "duration": 19,
    "start_time": "2023-01-17T12:57:16.580Z"
   },
   {
    "duration": 54,
    "start_time": "2023-01-17T12:57:16.601Z"
   },
   {
    "duration": 11,
    "start_time": "2023-01-17T12:57:16.657Z"
   },
   {
    "duration": 13,
    "start_time": "2023-01-17T12:57:16.677Z"
   },
   {
    "duration": 21,
    "start_time": "2023-01-17T12:57:16.693Z"
   },
   {
    "duration": 18,
    "start_time": "2023-01-17T12:57:16.716Z"
   },
   {
    "duration": 18,
    "start_time": "2023-01-17T12:57:16.735Z"
   },
   {
    "duration": 288,
    "start_time": "2023-01-17T12:57:16.755Z"
   },
   {
    "duration": 10,
    "start_time": "2023-01-17T12:57:17.045Z"
   },
   {
    "duration": 23,
    "start_time": "2023-01-17T12:57:17.056Z"
   },
   {
    "duration": 23,
    "start_time": "2023-01-17T12:57:17.080Z"
   },
   {
    "duration": 20,
    "start_time": "2023-01-17T12:57:17.104Z"
   },
   {
    "duration": 52,
    "start_time": "2023-01-17T12:57:17.126Z"
   },
   {
    "duration": 63,
    "start_time": "2023-01-17T12:57:17.180Z"
   },
   {
    "duration": 3,
    "start_time": "2023-01-17T12:57:17.246Z"
   },
   {
    "duration": 12,
    "start_time": "2023-01-17T12:57:17.250Z"
   },
   {
    "duration": 85,
    "start_time": "2023-01-17T12:57:17.263Z"
   },
   {
    "duration": 71,
    "start_time": "2023-01-17T12:57:17.350Z"
   },
   {
    "duration": 813,
    "start_time": "2023-01-17T12:57:17.423Z"
   },
   {
    "duration": 909,
    "start_time": "2023-01-17T12:57:18.238Z"
   },
   {
    "duration": 11,
    "start_time": "2023-01-17T12:57:19.149Z"
   },
   {
    "duration": 40,
    "start_time": "2023-01-17T12:57:19.162Z"
   },
   {
    "duration": 553,
    "start_time": "2023-01-17T12:57:19.204Z"
   },
   {
    "duration": 69,
    "start_time": "2023-01-17T12:57:19.759Z"
   },
   {
    "duration": 3,
    "start_time": "2023-01-17T12:57:19.829Z"
   },
   {
    "duration": 17,
    "start_time": "2023-01-17T12:57:19.834Z"
   },
   {
    "duration": 25,
    "start_time": "2023-01-17T12:57:19.853Z"
   },
   {
    "duration": 10,
    "start_time": "2023-01-17T12:57:19.880Z"
   },
   {
    "duration": 89,
    "start_time": "2023-01-17T12:57:19.892Z"
   },
   {
    "duration": 13,
    "start_time": "2023-01-17T12:57:19.983Z"
   },
   {
    "duration": 319,
    "start_time": "2023-01-17T12:57:19.998Z"
   },
   {
    "duration": 774,
    "start_time": "2023-01-17T12:57:20.319Z"
   },
   {
    "duration": 13,
    "start_time": "2023-01-17T12:57:21.095Z"
   },
   {
    "duration": 13,
    "start_time": "2023-01-17T12:57:22.398Z"
   },
   {
    "duration": 91,
    "start_time": "2023-01-17T12:57:24.432Z"
   },
   {
    "duration": 827,
    "start_time": "2023-01-17T12:57:35.005Z"
   },
   {
    "duration": 5,
    "start_time": "2023-01-17T13:13:58.340Z"
   },
   {
    "duration": 44058,
    "start_time": "2023-01-17T13:16:12.443Z"
   },
   {
    "duration": 10,
    "start_time": "2023-01-17T13:17:42.087Z"
   },
   {
    "duration": 65657,
    "start_time": "2023-01-17T13:18:40.893Z"
   },
   {
    "duration": 4,
    "start_time": "2023-01-17T13:19:54.363Z"
   },
   {
    "duration": 732,
    "start_time": "2023-01-17T13:19:55.260Z"
   },
   {
    "duration": 4,
    "start_time": "2023-01-17T13:20:24.874Z"
   },
   {
    "duration": 82335,
    "start_time": "2023-01-17T13:21:27.493Z"
   },
   {
    "duration": 4,
    "start_time": "2023-01-17T13:23:01.972Z"
   },
   {
    "duration": 5,
    "start_time": "2023-01-17T13:23:17.364Z"
   },
   {
    "duration": 4,
    "start_time": "2023-01-17T13:28:51.677Z"
   },
   {
    "duration": 10,
    "start_time": "2023-01-17T13:28:52.077Z"
   },
   {
    "duration": 4,
    "start_time": "2023-01-17T13:28:54.341Z"
   },
   {
    "duration": 5,
    "start_time": "2023-01-17T13:28:56.792Z"
   },
   {
    "duration": 1976198,
    "start_time": "2023-01-17T13:28:58.372Z"
   },
   {
    "duration": 4,
    "start_time": "2023-01-17T14:02:24.807Z"
   },
   {
    "duration": 6,
    "start_time": "2023-01-17T14:02:30.350Z"
   },
   {
    "duration": 2059,
    "start_time": "2023-01-17T14:02:38.227Z"
   },
   {
    "duration": 2205,
    "start_time": "2023-01-18T08:49:49.822Z"
   },
   {
    "duration": 3,
    "start_time": "2023-01-18T08:49:52.029Z"
   },
   {
    "duration": 3129,
    "start_time": "2023-01-18T08:49:52.033Z"
   },
   {
    "duration": 17,
    "start_time": "2023-01-18T08:49:55.164Z"
   },
   {
    "duration": 148,
    "start_time": "2023-01-18T08:49:55.183Z"
   },
   {
    "duration": 14,
    "start_time": "2023-01-18T08:49:55.333Z"
   },
   {
    "duration": 8,
    "start_time": "2023-01-18T08:49:55.349Z"
   },
   {
    "duration": 113,
    "start_time": "2023-01-18T08:49:55.358Z"
   },
   {
    "duration": 34,
    "start_time": "2023-01-18T08:49:55.472Z"
   },
   {
    "duration": 18,
    "start_time": "2023-01-18T08:49:55.509Z"
   },
   {
    "duration": 66,
    "start_time": "2023-01-18T08:49:55.529Z"
   },
   {
    "duration": 12,
    "start_time": "2023-01-18T08:49:55.597Z"
   },
   {
    "duration": 16,
    "start_time": "2023-01-18T08:49:55.612Z"
   },
   {
    "duration": 30,
    "start_time": "2023-01-18T08:49:55.630Z"
   },
   {
    "duration": 9,
    "start_time": "2023-01-18T08:49:55.663Z"
   },
   {
    "duration": 17,
    "start_time": "2023-01-18T08:49:55.674Z"
   },
   {
    "duration": 300,
    "start_time": "2023-01-18T08:49:55.693Z"
   },
   {
    "duration": 13,
    "start_time": "2023-01-18T08:49:55.995Z"
   },
   {
    "duration": 5,
    "start_time": "2023-01-18T08:49:56.009Z"
   },
   {
    "duration": 46,
    "start_time": "2023-01-18T08:49:56.016Z"
   },
   {
    "duration": 11,
    "start_time": "2023-01-18T08:49:56.064Z"
   },
   {
    "duration": 32,
    "start_time": "2023-01-18T08:49:56.077Z"
   },
   {
    "duration": 114,
    "start_time": "2023-01-18T08:49:56.110Z"
   },
   {
    "duration": 3,
    "start_time": "2023-01-18T08:49:56.226Z"
   },
   {
    "duration": 6,
    "start_time": "2023-01-18T08:49:56.237Z"
   },
   {
    "duration": 101,
    "start_time": "2023-01-18T08:49:56.245Z"
   },
   {
    "duration": 102,
    "start_time": "2023-01-18T08:49:56.348Z"
   },
   {
    "duration": 989,
    "start_time": "2023-01-18T08:49:56.454Z"
   },
   {
    "duration": 805,
    "start_time": "2023-01-18T08:49:57.452Z"
   },
   {
    "duration": 9,
    "start_time": "2023-01-18T08:49:58.259Z"
   },
   {
    "duration": 41,
    "start_time": "2023-01-18T08:49:58.270Z"
   },
   {
    "duration": 576,
    "start_time": "2023-01-18T08:49:58.313Z"
   },
   {
    "duration": 96,
    "start_time": "2023-01-18T08:49:58.890Z"
   },
   {
    "duration": 2,
    "start_time": "2023-01-18T08:49:58.988Z"
   },
   {
    "duration": 28,
    "start_time": "2023-01-18T08:49:58.992Z"
   },
   {
    "duration": 30,
    "start_time": "2023-01-18T08:49:59.021Z"
   },
   {
    "duration": 19,
    "start_time": "2023-01-18T08:49:59.053Z"
   },
   {
    "duration": 102,
    "start_time": "2023-01-18T08:49:59.074Z"
   },
   {
    "duration": 13,
    "start_time": "2023-01-18T08:49:59.178Z"
   },
   {
    "duration": 474,
    "start_time": "2023-01-18T08:49:59.192Z"
   },
   {
    "duration": 948,
    "start_time": "2023-01-18T08:49:59.668Z"
   },
   {
    "duration": 27,
    "start_time": "2023-01-18T08:50:00.618Z"
   },
   {
    "duration": 105,
    "start_time": "2023-01-18T08:50:00.647Z"
   },
   {
    "duration": 3,
    "start_time": "2023-01-18T08:50:00.756Z"
   },
   {
    "duration": 57,
    "start_time": "2023-01-18T08:50:00.761Z"
   },
   {
    "duration": 75,
    "start_time": "2023-01-18T08:50:00.820Z"
   },
   {
    "duration": 36,
    "start_time": "2023-01-18T08:50:00.897Z"
   },
   {
    "duration": 6,
    "start_time": "2023-01-18T08:50:08.224Z"
   },
   {
    "duration": 5,
    "start_time": "2023-01-18T08:50:09.113Z"
   },
   {
    "duration": 132,
    "start_time": "2023-01-18T08:50:16.824Z"
   },
   {
    "duration": 6,
    "start_time": "2023-01-18T08:50:21.814Z"
   },
   {
    "duration": 5,
    "start_time": "2023-01-18T08:50:27.192Z"
   },
   {
    "duration": 3,
    "start_time": "2023-01-18T08:51:22.619Z"
   },
   {
    "duration": 33,
    "start_time": "2023-01-18T09:18:40.576Z"
   },
   {
    "duration": 152067,
    "start_time": "2023-01-18T09:19:11.630Z"
   },
   {
    "duration": 12,
    "start_time": "2023-01-18T09:29:20.137Z"
   },
   {
    "duration": 3,
    "start_time": "2023-01-18T09:30:05.450Z"
   },
   {
    "duration": 159515,
    "start_time": "2023-01-18T09:30:14.857Z"
   },
   {
    "duration": 56,
    "start_time": "2023-01-18T09:44:12.765Z"
   },
   {
    "duration": 47,
    "start_time": "2023-01-18T09:44:18.980Z"
   },
   {
    "duration": 58,
    "start_time": "2023-01-18T09:44:23.064Z"
   },
   {
    "duration": 51,
    "start_time": "2023-01-18T09:47:42.466Z"
   },
   {
    "duration": 24,
    "start_time": "2023-01-18T09:47:45.139Z"
   },
   {
    "duration": 5,
    "start_time": "2023-01-18T09:47:51.565Z"
   },
   {
    "duration": 3,
    "start_time": "2023-01-18T09:48:54.875Z"
   },
   {
    "duration": 5,
    "start_time": "2023-01-18T09:49:42.100Z"
   },
   {
    "duration": 13,
    "start_time": "2023-01-18T09:52:00.570Z"
   },
   {
    "duration": 11,
    "start_time": "2023-01-18T09:52:07.501Z"
   },
   {
    "duration": 3,
    "start_time": "2023-01-18T09:52:11.642Z"
   },
   {
    "duration": 5203,
    "start_time": "2023-01-18T09:52:12.370Z"
   },
   {
    "duration": 1463203,
    "start_time": "2023-01-18T09:52:24.535Z"
   },
   {
    "duration": 4,
    "start_time": "2023-01-18T10:22:39.210Z"
   },
   {
    "duration": 10,
    "start_time": "2023-01-18T10:42:57.466Z"
   },
   {
    "duration": 10,
    "start_time": "2023-01-18T10:43:45.390Z"
   },
   {
    "duration": 11,
    "start_time": "2023-01-18T10:44:06.229Z"
   },
   {
    "duration": 10,
    "start_time": "2023-01-18T10:44:12.085Z"
   },
   {
    "duration": 10,
    "start_time": "2023-01-18T10:44:23.731Z"
   },
   {
    "duration": 12,
    "start_time": "2023-01-18T10:44:33.086Z"
   },
   {
    "duration": 5,
    "start_time": "2023-01-18T10:44:37.661Z"
   },
   {
    "duration": 657,
    "start_time": "2023-01-18T10:46:38.977Z"
   },
   {
    "duration": 12513,
    "start_time": "2023-01-18T10:47:27.374Z"
   },
   {
    "duration": 13976,
    "start_time": "2023-01-18T10:47:43.934Z"
   },
   {
    "duration": 9658,
    "start_time": "2023-01-18T10:59:59.106Z"
   },
   {
    "duration": 3,
    "start_time": "2023-01-18T11:00:39.619Z"
   },
   {
    "duration": 3,
    "start_time": "2023-01-18T11:00:40.029Z"
   },
   {
    "duration": 99,
    "start_time": "2023-01-18T11:00:41.341Z"
   },
   {
    "duration": 26,
    "start_time": "2023-01-18T11:00:42.392Z"
   },
   {
    "duration": 706,
    "start_time": "2023-01-18T11:01:22.865Z"
   },
   {
    "duration": 696,
    "start_time": "2023-01-18T11:01:38.260Z"
   },
   {
    "duration": 3499,
    "start_time": "2023-01-18T11:01:46.765Z"
   },
   {
    "duration": 12,
    "start_time": "2023-01-18T11:01:57.300Z"
   },
   {
    "duration": 610,
    "start_time": "2023-01-18T11:02:18.561Z"
   },
   {
    "duration": 558,
    "start_time": "2023-01-18T11:03:02.061Z"
   },
   {
    "duration": 1316,
    "start_time": "2023-01-18T11:03:19.532Z"
   },
   {
    "duration": 966,
    "start_time": "2023-01-18T11:04:29.028Z"
   },
   {
    "duration": 690,
    "start_time": "2023-01-18T11:05:12.977Z"
   },
   {
    "duration": 831,
    "start_time": "2023-01-18T11:05:21.497Z"
   },
   {
    "duration": 675,
    "start_time": "2023-01-18T11:05:29.444Z"
   },
   {
    "duration": 709,
    "start_time": "2023-01-18T11:05:38.439Z"
   },
   {
    "duration": 1690,
    "start_time": "2023-01-18T11:14:33.613Z"
   },
   {
    "duration": 12788,
    "start_time": "2023-01-18T11:14:49.528Z"
   },
   {
    "duration": 16421,
    "start_time": "2023-01-18T11:16:00.454Z"
   },
   {
    "duration": 9222,
    "start_time": "2023-01-18T11:27:51.296Z"
   },
   {
    "duration": 5639,
    "start_time": "2023-01-18T11:33:42.578Z"
   },
   {
    "duration": 11,
    "start_time": "2023-01-18T11:34:23.657Z"
   },
   {
    "duration": 470,
    "start_time": "2023-01-18T11:35:18.496Z"
   },
   {
    "duration": 476,
    "start_time": "2023-01-18T11:35:31.673Z"
   },
   {
    "duration": 655,
    "start_time": "2023-01-18T11:48:19.146Z"
   },
   {
    "duration": 476,
    "start_time": "2023-01-18T11:49:06.586Z"
   },
   {
    "duration": 485,
    "start_time": "2023-01-18T11:49:15.850Z"
   },
   {
    "duration": 389,
    "start_time": "2023-01-18T11:50:44.906Z"
   },
   {
    "duration": 363,
    "start_time": "2023-01-18T11:50:54.355Z"
   },
   {
    "duration": 498,
    "start_time": "2023-01-18T11:51:23.577Z"
   },
   {
    "duration": 499,
    "start_time": "2023-01-18T11:52:26.066Z"
   },
   {
    "duration": 639,
    "start_time": "2023-01-18T11:53:03.602Z"
   },
   {
    "duration": 638,
    "start_time": "2023-01-18T11:53:18.859Z"
   },
   {
    "duration": 162,
    "start_time": "2023-01-18T12:03:55.644Z"
   },
   {
    "duration": 741,
    "start_time": "2023-01-18T12:04:30.260Z"
   },
   {
    "duration": 859,
    "start_time": "2023-01-18T12:04:56.652Z"
   },
   {
    "duration": 513,
    "start_time": "2023-01-18T12:06:05.063Z"
   },
   {
    "duration": 471,
    "start_time": "2023-01-18T12:06:30.099Z"
   },
   {
    "duration": 107,
    "start_time": "2023-01-18T12:13:11.358Z"
   },
   {
    "duration": 364,
    "start_time": "2023-01-18T12:13:39.026Z"
   },
   {
    "duration": 914,
    "start_time": "2023-01-18T12:13:40.217Z"
   },
   {
    "duration": 16,
    "start_time": "2023-01-18T12:13:41.132Z"
   },
   {
    "duration": 77,
    "start_time": "2023-01-18T12:15:04.965Z"
   },
   {
    "duration": 15,
    "start_time": "2023-01-18T12:15:06.260Z"
   },
   {
    "duration": 10,
    "start_time": "2023-01-18T12:15:12.637Z"
   },
   {
    "duration": 6,
    "start_time": "2023-01-18T12:15:13.078Z"
   },
   {
    "duration": 5,
    "start_time": "2023-01-18T12:15:13.544Z"
   },
   {
    "duration": 4,
    "start_time": "2023-01-18T12:17:28.197Z"
   },
   {
    "duration": 3,
    "start_time": "2023-01-18T12:17:30.301Z"
   },
   {
    "duration": 1276143,
    "start_time": "2023-01-18T12:17:40.512Z"
   },
   {
    "duration": 150175,
    "start_time": "2023-01-18T12:38:56.657Z"
   },
   {
    "duration": 5,
    "start_time": "2023-01-18T12:41:26.834Z"
   },
   {
    "duration": 4,
    "start_time": "2023-01-18T12:42:40.543Z"
   },
   {
    "duration": 5,
    "start_time": "2023-01-18T12:42:45.371Z"
   },
   {
    "duration": 709,
    "start_time": "2023-01-18T12:43:31.051Z"
   },
   {
    "duration": 147553,
    "start_time": "2023-01-18T12:43:58.066Z"
   },
   {
    "duration": 83095,
    "start_time": "2023-01-18T12:53:23.653Z"
   },
   {
    "duration": 84025,
    "start_time": "2023-01-18T12:56:07.527Z"
   },
   {
    "duration": 136562,
    "start_time": "2023-01-18T13:07:19.513Z"
   },
   {
    "duration": 761,
    "start_time": "2023-01-18T13:12:11.843Z"
   },
   {
    "duration": 9,
    "start_time": "2023-01-18T13:13:32.585Z"
   },
   {
    "duration": 7,
    "start_time": "2023-01-18T13:13:50.993Z"
   },
   {
    "duration": 8,
    "start_time": "2023-01-18T13:14:44.834Z"
   },
   {
    "duration": 5,
    "start_time": "2023-01-18T13:15:04.581Z"
   },
   {
    "duration": 8,
    "start_time": "2023-01-18T13:16:53.384Z"
   },
   {
    "duration": 8,
    "start_time": "2023-01-18T13:17:01.922Z"
   },
   {
    "duration": 8,
    "start_time": "2023-01-18T13:17:07.946Z"
   },
   {
    "duration": 54,
    "start_time": "2023-01-18T13:17:42.370Z"
   },
   {
    "duration": 154,
    "start_time": "2023-01-18T13:17:49.004Z"
   },
   {
    "duration": 459,
    "start_time": "2023-01-18T13:18:35.094Z"
   },
   {
    "duration": 1238,
    "start_time": "2023-01-18T13:19:14.590Z"
   },
   {
    "duration": 136306,
    "start_time": "2023-01-18T13:27:47.101Z"
   },
   {
    "duration": 1946,
    "start_time": "2023-01-18T13:30:59.326Z"
   },
   {
    "duration": 81289,
    "start_time": "2023-01-18T13:31:47.038Z"
   },
   {
    "duration": 12,
    "start_time": "2023-01-18T13:36:16.224Z"
   },
   {
    "duration": 12,
    "start_time": "2023-01-18T13:36:42.496Z"
   },
   {
    "duration": 7,
    "start_time": "2023-01-18T13:46:14.329Z"
   },
   {
    "duration": 11,
    "start_time": "2023-01-18T13:47:28.545Z"
   },
   {
    "duration": 13,
    "start_time": "2023-01-18T13:48:14.649Z"
   },
   {
    "duration": 12,
    "start_time": "2023-01-18T13:48:38.291Z"
   },
   {
    "duration": 11,
    "start_time": "2023-01-18T13:48:57.024Z"
   },
   {
    "duration": 4,
    "start_time": "2023-01-18T13:49:06.337Z"
   },
   {
    "duration": 22531,
    "start_time": "2023-01-18T13:50:40.417Z"
   },
   {
    "duration": 43154,
    "start_time": "2023-01-18T13:51:36.988Z"
   },
   {
    "duration": 12,
    "start_time": "2023-01-18T13:53:41.521Z"
   },
   {
    "duration": 3,
    "start_time": "2023-01-18T13:53:50.009Z"
   },
   {
    "duration": 5,
    "start_time": "2023-01-18T13:53:52.787Z"
   },
   {
    "duration": 24,
    "start_time": "2023-01-18T13:54:57.610Z"
   },
   {
    "duration": 19,
    "start_time": "2023-01-18T13:55:17.383Z"
   },
   {
    "duration": 5,
    "start_time": "2023-01-18T13:56:33.287Z"
   },
   {
    "duration": 3,
    "start_time": "2023-01-18T13:59:07.896Z"
   },
   {
    "duration": 104678,
    "start_time": "2023-01-18T13:59:22.883Z"
   },
   {
    "duration": 4,
    "start_time": "2023-01-18T14:01:07.563Z"
   },
   {
    "duration": 1659,
    "start_time": "2023-01-19T08:33:44.520Z"
   },
   {
    "duration": 5,
    "start_time": "2023-01-19T08:34:00.851Z"
   },
   {
    "duration": 192,
    "start_time": "2023-01-19T08:34:00.858Z"
   },
   {
    "duration": 0,
    "start_time": "2023-01-19T08:34:01.053Z"
   },
   {
    "duration": 0,
    "start_time": "2023-01-19T08:34:01.054Z"
   },
   {
    "duration": 0,
    "start_time": "2023-01-19T08:34:01.055Z"
   },
   {
    "duration": 0,
    "start_time": "2023-01-19T08:34:01.056Z"
   },
   {
    "duration": 0,
    "start_time": "2023-01-19T08:34:01.057Z"
   },
   {
    "duration": 0,
    "start_time": "2023-01-19T08:34:01.058Z"
   },
   {
    "duration": 0,
    "start_time": "2023-01-19T08:34:01.059Z"
   },
   {
    "duration": 0,
    "start_time": "2023-01-19T08:34:01.060Z"
   },
   {
    "duration": 0,
    "start_time": "2023-01-19T08:34:01.061Z"
   },
   {
    "duration": 0,
    "start_time": "2023-01-19T08:34:01.062Z"
   },
   {
    "duration": 0,
    "start_time": "2023-01-19T08:34:01.063Z"
   },
   {
    "duration": 0,
    "start_time": "2023-01-19T08:34:01.064Z"
   },
   {
    "duration": 0,
    "start_time": "2023-01-19T08:34:01.065Z"
   },
   {
    "duration": 0,
    "start_time": "2023-01-19T08:34:01.066Z"
   },
   {
    "duration": 0,
    "start_time": "2023-01-19T08:34:01.067Z"
   },
   {
    "duration": 0,
    "start_time": "2023-01-19T08:34:01.068Z"
   },
   {
    "duration": 0,
    "start_time": "2023-01-19T08:34:01.069Z"
   },
   {
    "duration": 0,
    "start_time": "2023-01-19T08:34:01.070Z"
   },
   {
    "duration": 0,
    "start_time": "2023-01-19T08:34:01.071Z"
   },
   {
    "duration": 0,
    "start_time": "2023-01-19T08:34:01.072Z"
   },
   {
    "duration": 0,
    "start_time": "2023-01-19T08:34:01.103Z"
   },
   {
    "duration": 0,
    "start_time": "2023-01-19T08:34:01.104Z"
   },
   {
    "duration": 0,
    "start_time": "2023-01-19T08:34:01.105Z"
   },
   {
    "duration": 0,
    "start_time": "2023-01-19T08:34:01.105Z"
   },
   {
    "duration": 0,
    "start_time": "2023-01-19T08:34:01.106Z"
   },
   {
    "duration": 0,
    "start_time": "2023-01-19T08:34:01.107Z"
   },
   {
    "duration": 0,
    "start_time": "2023-01-19T08:34:01.108Z"
   },
   {
    "duration": 0,
    "start_time": "2023-01-19T08:34:01.109Z"
   },
   {
    "duration": 0,
    "start_time": "2023-01-19T08:34:01.110Z"
   },
   {
    "duration": 0,
    "start_time": "2023-01-19T08:34:01.111Z"
   },
   {
    "duration": 0,
    "start_time": "2023-01-19T08:34:01.112Z"
   },
   {
    "duration": 0,
    "start_time": "2023-01-19T08:34:01.113Z"
   },
   {
    "duration": 0,
    "start_time": "2023-01-19T08:34:01.116Z"
   },
   {
    "duration": 6,
    "start_time": "2023-01-19T08:34:44.083Z"
   },
   {
    "duration": 12,
    "start_time": "2023-01-19T08:34:45.027Z"
   },
   {
    "duration": 5,
    "start_time": "2023-01-19T08:35:01.164Z"
   },
   {
    "duration": 10,
    "start_time": "2023-01-19T08:35:10.355Z"
   },
   {
    "duration": 2550,
    "start_time": "2023-01-19T08:35:29.492Z"
   },
   {
    "duration": 7,
    "start_time": "2023-01-19T08:35:35.647Z"
   },
   {
    "duration": 3,
    "start_time": "2023-01-19T08:35:40.132Z"
   },
   {
    "duration": 1165,
    "start_time": "2023-01-19T08:35:47.963Z"
   },
   {
    "duration": 19,
    "start_time": "2023-01-19T08:35:49.131Z"
   },
   {
    "duration": 139,
    "start_time": "2023-01-19T08:35:49.151Z"
   },
   {
    "duration": 8,
    "start_time": "2023-01-19T08:35:59.804Z"
   },
   {
    "duration": 4,
    "start_time": "2023-01-19T08:36:00.036Z"
   },
   {
    "duration": 103,
    "start_time": "2023-01-19T08:36:00.531Z"
   },
   {
    "duration": 35,
    "start_time": "2023-01-19T08:36:00.808Z"
   },
   {
    "duration": 13,
    "start_time": "2023-01-19T08:36:01.052Z"
   },
   {
    "duration": 43,
    "start_time": "2023-01-19T08:36:01.556Z"
   },
   {
    "duration": 11,
    "start_time": "2023-01-19T08:36:01.780Z"
   },
   {
    "duration": 8,
    "start_time": "2023-01-19T08:36:03.539Z"
   },
   {
    "duration": 10,
    "start_time": "2023-01-19T08:36:04.083Z"
   },
   {
    "duration": 11,
    "start_time": "2023-01-19T08:36:04.578Z"
   },
   {
    "duration": 14,
    "start_time": "2023-01-19T08:36:04.899Z"
   },
   {
    "duration": 270,
    "start_time": "2023-01-19T08:36:06.520Z"
   },
   {
    "duration": 13,
    "start_time": "2023-01-19T08:36:07.077Z"
   },
   {
    "duration": 5,
    "start_time": "2023-01-19T08:36:07.317Z"
   },
   {
    "duration": 28,
    "start_time": "2023-01-19T08:36:07.850Z"
   },
   {
    "duration": 11,
    "start_time": "2023-01-19T08:36:08.347Z"
   },
   {
    "duration": 32,
    "start_time": "2023-01-19T08:36:09.420Z"
   },
   {
    "duration": 80,
    "start_time": "2023-01-19T08:36:09.670Z"
   },
   {
    "duration": 3,
    "start_time": "2023-01-19T08:36:09.869Z"
   },
   {
    "duration": 2,
    "start_time": "2023-01-19T08:36:10.379Z"
   },
   {
    "duration": 76,
    "start_time": "2023-01-19T08:36:10.870Z"
   },
   {
    "duration": 105,
    "start_time": "2023-01-19T08:36:12.131Z"
   },
   {
    "duration": 1018,
    "start_time": "2023-01-19T08:36:13.870Z"
   },
   {
    "duration": 770,
    "start_time": "2023-01-19T08:36:14.891Z"
   },
   {
    "duration": 11,
    "start_time": "2023-01-19T08:36:17.374Z"
   },
   {
    "duration": 27,
    "start_time": "2023-01-19T08:36:17.579Z"
   },
   {
    "duration": 613,
    "start_time": "2023-01-19T08:36:17.820Z"
   },
   {
    "duration": 69,
    "start_time": "2023-01-19T08:36:18.851Z"
   },
   {
    "duration": 3,
    "start_time": "2023-01-19T08:36:20.076Z"
   },
   {
    "duration": 20,
    "start_time": "2023-01-19T08:36:20.348Z"
   },
   {
    "duration": 3,
    "start_time": "2023-01-19T08:36:22.479Z"
   },
   {
    "duration": 3,
    "start_time": "2023-01-19T08:36:22.884Z"
   },
   {
    "duration": 105,
    "start_time": "2023-01-19T08:36:24.143Z"
   },
   {
    "duration": 14,
    "start_time": "2023-01-19T08:36:25.235Z"
   },
   {
    "duration": 3,
    "start_time": "2023-01-19T08:36:31.139Z"
   },
   {
    "duration": 3,
    "start_time": "2023-01-19T08:36:31.872Z"
   },
   {
    "duration": 103,
    "start_time": "2023-01-19T08:36:34.715Z"
   },
   {
    "duration": 53,
    "start_time": "2023-01-19T08:36:38.576Z"
   },
   {
    "duration": 91,
    "start_time": "2023-01-19T08:38:15.383Z"
   },
   {
    "duration": 3,
    "start_time": "2023-01-19T08:38:16.670Z"
   },
   {
    "duration": 412,
    "start_time": "2023-01-19T08:38:18.662Z"
   },
   {
    "duration": 943,
    "start_time": "2023-01-19T08:38:20.019Z"
   },
   {
    "duration": 13,
    "start_time": "2023-01-19T08:38:21.087Z"
   },
   {
    "duration": 70,
    "start_time": "2023-01-19T08:38:23.821Z"
   },
   {
    "duration": 19,
    "start_time": "2023-01-19T08:38:36.204Z"
   },
   {
    "duration": 5,
    "start_time": "2023-01-19T08:38:38.395Z"
   },
   {
    "duration": 6,
    "start_time": "2023-01-19T08:38:38.869Z"
   },
   {
    "duration": 5,
    "start_time": "2023-01-19T08:38:39.995Z"
   },
   {
    "duration": 143970,
    "start_time": "2023-01-19T08:39:06.398Z"
   },
   {
    "duration": 14,
    "start_time": "2023-01-19T08:41:52.870Z"
   },
   {
    "duration": 768,
    "start_time": "2023-01-19T08:42:04.045Z"
   },
   {
    "duration": 719,
    "start_time": "2023-01-19T08:42:07.437Z"
   },
   {
    "duration": 82275,
    "start_time": "2023-01-19T08:42:09.749Z"
   },
   {
    "duration": 7,
    "start_time": "2023-01-19T08:44:22.877Z"
   },
   {
    "duration": 352,
    "start_time": "2023-01-19T08:44:29.949Z"
   },
   {
    "duration": 1176,
    "start_time": "2023-01-19T08:44:45.424Z"
   },
   {
    "duration": 137844,
    "start_time": "2023-01-19T08:45:16.572Z"
   },
   {
    "duration": 2012,
    "start_time": "2023-01-19T08:47:34.423Z"
   },
   {
    "duration": 77791,
    "start_time": "2023-01-19T08:47:36.436Z"
   },
   {
    "duration": 11,
    "start_time": "2023-01-19T08:48:54.230Z"
   },
   {
    "duration": 15,
    "start_time": "2023-01-19T08:56:25.814Z"
   },
   {
    "duration": 12,
    "start_time": "2023-01-19T08:56:50.505Z"
   },
   {
    "duration": 10,
    "start_time": "2023-01-19T08:57:16.430Z"
   },
   {
    "duration": 3,
    "start_time": "2023-01-19T08:57:20.783Z"
   },
   {
    "duration": 11,
    "start_time": "2023-01-19T08:57:22.978Z"
   },
   {
    "duration": 5,
    "start_time": "2023-01-19T08:59:49.735Z"
   },
   {
    "duration": 10,
    "start_time": "2023-01-19T09:09:40.833Z"
   },
   {
    "duration": 8151,
    "start_time": "2023-01-19T09:09:52.768Z"
   },
   {
    "duration": 3,
    "start_time": "2023-01-19T09:12:31.369Z"
   },
   {
    "duration": 3,
    "start_time": "2023-01-19T09:12:38.632Z"
   },
   {
    "duration": 327,
    "start_time": "2023-01-19T09:13:08.994Z"
   },
   {
    "duration": 339,
    "start_time": "2023-01-19T09:13:32.018Z"
   },
   {
    "duration": 3,
    "start_time": "2023-01-19T09:14:18.160Z"
   },
   {
    "duration": 482,
    "start_time": "2023-01-19T09:14:23.273Z"
   },
   {
    "duration": 3,
    "start_time": "2023-01-19T09:14:52.875Z"
   },
   {
    "duration": 4,
    "start_time": "2023-01-19T09:14:54.664Z"
   },
   {
    "duration": 9732,
    "start_time": "2023-01-19T09:14:59.369Z"
   },
   {
    "duration": 4,
    "start_time": "2023-01-19T09:15:15.281Z"
   },
   {
    "duration": 3,
    "start_time": "2023-01-19T09:15:15.531Z"
   },
   {
    "duration": 438637,
    "start_time": "2023-01-19T09:15:16.170Z"
   },
   {
    "duration": 7,
    "start_time": "2023-01-19T09:27:23.248Z"
   },
   {
    "duration": 10,
    "start_time": "2023-01-19T09:29:06.396Z"
   },
   {
    "duration": 21356,
    "start_time": "2023-01-19T09:29:16.256Z"
   },
   {
    "duration": 1729,
    "start_time": "2023-01-19T09:31:11.407Z"
   },
   {
    "duration": 19115,
    "start_time": "2023-01-19T09:31:38.807Z"
   },
   {
    "duration": 9,
    "start_time": "2023-01-19T09:34:45.779Z"
   },
   {
    "duration": 7,
    "start_time": "2023-01-19T09:35:30.123Z"
   },
   {
    "duration": 8,
    "start_time": "2023-01-19T09:35:35.987Z"
   },
   {
    "duration": 10,
    "start_time": "2023-01-19T09:35:43.039Z"
   },
   {
    "duration": 136326,
    "start_time": "2023-01-19T09:39:34.723Z"
   },
   {
    "duration": 718,
    "start_time": "2023-01-19T09:41:51.051Z"
   },
   {
    "duration": 79102,
    "start_time": "2023-01-19T09:41:51.771Z"
   },
   {
    "duration": 8,
    "start_time": "2023-01-19T09:43:10.875Z"
   },
   {
    "duration": 132103,
    "start_time": "2023-01-19T09:43:10.885Z"
   },
   {
    "duration": 2032,
    "start_time": "2023-01-19T09:45:22.990Z"
   },
   {
    "duration": 74961,
    "start_time": "2023-01-19T09:45:25.024Z"
   },
   {
    "duration": 16,
    "start_time": "2023-01-19T09:46:39.987Z"
   },
   {
    "duration": 24107,
    "start_time": "2023-01-19T09:46:40.005Z"
   },
   {
    "duration": 1923,
    "start_time": "2023-01-19T09:47:04.115Z"
   },
   {
    "duration": 21480,
    "start_time": "2023-01-19T09:47:06.041Z"
   },
   {
    "duration": 10,
    "start_time": "2023-01-19T09:47:27.603Z"
   },
   {
    "duration": 9,
    "start_time": "2023-01-19T09:49:12.867Z"
   },
   {
    "duration": 456,
    "start_time": "2023-01-19T09:51:05.527Z"
   },
   {
    "duration": 12,
    "start_time": "2023-01-19T09:51:42.406Z"
   },
   {
    "duration": 479,
    "start_time": "2023-01-19T09:55:37.416Z"
   },
   {
    "duration": 1331,
    "start_time": "2023-01-19T09:56:22.238Z"
   },
   {
    "duration": 1337,
    "start_time": "2023-01-19T09:56:32.871Z"
   },
   {
    "duration": 1337,
    "start_time": "2023-01-19T09:56:44.977Z"
   },
   {
    "duration": 1392,
    "start_time": "2023-01-19T09:56:53.039Z"
   },
   {
    "duration": 1349,
    "start_time": "2023-01-19T09:57:12.768Z"
   },
   {
    "duration": 1314,
    "start_time": "2023-01-19T09:57:23.896Z"
   },
   {
    "duration": 5,
    "start_time": "2023-01-19T10:02:23.570Z"
   },
   {
    "duration": 5,
    "start_time": "2023-01-19T10:02:41.567Z"
   },
   {
    "duration": 7,
    "start_time": "2023-01-19T10:03:17.873Z"
   },
   {
    "duration": 5,
    "start_time": "2023-01-19T10:03:24.672Z"
   },
   {
    "duration": 10,
    "start_time": "2023-01-19T10:03:37.585Z"
   },
   {
    "duration": 9,
    "start_time": "2023-01-19T10:03:55.192Z"
   },
   {
    "duration": 5,
    "start_time": "2023-01-19T10:07:14.721Z"
   },
   {
    "duration": 7,
    "start_time": "2023-01-19T10:07:15.104Z"
   },
   {
    "duration": 6,
    "start_time": "2023-01-19T10:07:15.641Z"
   },
   {
    "duration": 10,
    "start_time": "2023-01-19T10:07:16.848Z"
   },
   {
    "duration": 133945,
    "start_time": "2023-01-19T10:07:55.864Z"
   },
   {
    "duration": 731,
    "start_time": "2023-01-19T10:10:09.811Z"
   },
   {
    "duration": 78964,
    "start_time": "2023-01-19T10:10:10.544Z"
   },
   {
    "duration": 8,
    "start_time": "2023-01-19T10:11:29.511Z"
   },
   {
    "duration": 130768,
    "start_time": "2023-01-19T10:11:29.521Z"
   },
   {
    "duration": 2031,
    "start_time": "2023-01-19T10:13:40.290Z"
   },
   {
    "duration": 74429,
    "start_time": "2023-01-19T10:13:42.322Z"
   },
   {
    "duration": 9,
    "start_time": "2023-01-19T10:14:56.753Z"
   },
   {
    "duration": 326441,
    "start_time": "2023-01-19T10:14:56.764Z"
   },
   {
    "duration": 1908,
    "start_time": "2023-01-19T10:20:23.207Z"
   },
   {
    "duration": 22200,
    "start_time": "2023-01-19T10:20:25.118Z"
   },
   {
    "duration": 10,
    "start_time": "2023-01-19T10:20:47.320Z"
   },
   {
    "duration": 9,
    "start_time": "2023-01-19T10:21:21.574Z"
   },
   {
    "duration": 4,
    "start_time": "2023-01-19T10:58:42.881Z"
   },
   {
    "duration": 2034,
    "start_time": "2023-01-19T10:58:42.887Z"
   },
   {
    "duration": 5,
    "start_time": "2023-01-19T10:58:44.923Z"
   },
   {
    "duration": 790,
    "start_time": "2023-01-19T10:58:44.930Z"
   },
   {
    "duration": 16,
    "start_time": "2023-01-19T10:58:45.722Z"
   },
   {
    "duration": 136,
    "start_time": "2023-01-19T10:58:45.741Z"
   },
   {
    "duration": 5,
    "start_time": "2023-01-19T10:58:45.879Z"
   },
   {
    "duration": 8,
    "start_time": "2023-01-19T10:58:45.886Z"
   },
   {
    "duration": 69,
    "start_time": "2023-01-19T10:58:45.896Z"
   },
   {
    "duration": 30,
    "start_time": "2023-01-19T10:58:45.967Z"
   },
   {
    "duration": 14,
    "start_time": "2023-01-19T10:58:45.999Z"
   },
   {
    "duration": 44,
    "start_time": "2023-01-19T10:58:46.026Z"
   },
   {
    "duration": 12,
    "start_time": "2023-01-19T10:58:46.072Z"
   },
   {
    "duration": 21,
    "start_time": "2023-01-19T10:58:46.086Z"
   },
   {
    "duration": 19,
    "start_time": "2023-01-19T10:58:46.109Z"
   },
   {
    "duration": 19,
    "start_time": "2023-01-19T10:58:46.130Z"
   },
   {
    "duration": 36,
    "start_time": "2023-01-19T10:58:46.150Z"
   },
   {
    "duration": 310,
    "start_time": "2023-01-19T10:58:46.189Z"
   },
   {
    "duration": 10,
    "start_time": "2023-01-19T10:58:46.501Z"
   },
   {
    "duration": 20,
    "start_time": "2023-01-19T10:58:46.513Z"
   },
   {
    "duration": 53,
    "start_time": "2023-01-19T10:58:46.535Z"
   },
   {
    "duration": 16,
    "start_time": "2023-01-19T10:58:46.590Z"
   },
   {
    "duration": 50,
    "start_time": "2023-01-19T10:58:46.607Z"
   },
   {
    "duration": 84,
    "start_time": "2023-01-19T10:58:46.662Z"
   },
   {
    "duration": 2,
    "start_time": "2023-01-19T10:58:46.748Z"
   },
   {
    "duration": 27,
    "start_time": "2023-01-19T10:58:46.752Z"
   },
   {
    "duration": 104,
    "start_time": "2023-01-19T10:58:46.781Z"
   },
   {
    "duration": 81,
    "start_time": "2023-01-19T10:58:46.886Z"
   },
   {
    "duration": 840,
    "start_time": "2023-01-19T10:58:46.969Z"
   },
   {
    "duration": 800,
    "start_time": "2023-01-19T10:58:47.811Z"
   },
   {
    "duration": 15,
    "start_time": "2023-01-19T10:58:48.613Z"
   },
   {
    "duration": 88,
    "start_time": "2023-01-19T10:58:48.631Z"
   },
   {
    "duration": 703,
    "start_time": "2023-01-19T10:58:48.721Z"
   },
   {
    "duration": 62,
    "start_time": "2023-01-19T10:58:49.426Z"
   },
   {
    "duration": 48,
    "start_time": "2023-01-19T10:58:49.490Z"
   },
   {
    "duration": 45,
    "start_time": "2023-01-19T10:58:49.540Z"
   },
   {
    "duration": 46,
    "start_time": "2023-01-19T10:58:49.587Z"
   },
   {
    "duration": 57,
    "start_time": "2023-01-19T10:58:49.635Z"
   },
   {
    "duration": 133,
    "start_time": "2023-01-19T10:58:49.694Z"
   },
   {
    "duration": 3,
    "start_time": "2023-01-19T10:58:49.828Z"
   },
   {
    "duration": 342,
    "start_time": "2023-01-19T10:58:49.832Z"
   },
   {
    "duration": 903,
    "start_time": "2023-01-19T10:58:50.176Z"
   },
   {
    "duration": 14,
    "start_time": "2023-01-19T10:58:51.081Z"
   },
   {
    "duration": 83,
    "start_time": "2023-01-19T10:58:51.097Z"
   },
   {
    "duration": 17,
    "start_time": "2023-01-19T10:58:51.182Z"
   },
   {
    "duration": 12,
    "start_time": "2023-01-19T10:58:51.200Z"
   },
   {
    "duration": 18,
    "start_time": "2023-01-19T10:58:51.214Z"
   },
   {
    "duration": 6,
    "start_time": "2023-01-19T10:58:51.234Z"
   },
   {
    "duration": 18,
    "start_time": "2023-01-19T10:58:51.242Z"
   },
   {
    "duration": 11,
    "start_time": "2023-01-19T10:59:10.780Z"
   },
   {
    "duration": 142484,
    "start_time": "2023-01-19T10:59:14.149Z"
   },
   {
    "duration": 717,
    "start_time": "2023-01-19T11:01:36.636Z"
   },
   {
    "duration": 80610,
    "start_time": "2023-01-19T11:01:37.354Z"
   },
   {
    "duration": 8,
    "start_time": "2023-01-19T11:02:57.966Z"
   },
   {
    "duration": 138772,
    "start_time": "2023-01-19T11:02:57.976Z"
   },
   {
    "duration": 2037,
    "start_time": "2023-01-19T11:05:16.750Z"
   },
   {
    "duration": 78282,
    "start_time": "2023-01-19T11:05:18.790Z"
   },
   {
    "duration": 10,
    "start_time": "2023-01-19T11:06:37.075Z"
   },
   {
    "duration": 130564,
    "start_time": "2023-01-19T11:06:37.087Z"
   },
   {
    "duration": 0,
    "start_time": "2023-01-19T11:08:47.652Z"
   },
   {
    "duration": 0,
    "start_time": "2023-01-19T11:08:47.654Z"
   },
   {
    "duration": 0,
    "start_time": "2023-01-19T11:08:47.655Z"
   },
   {
    "duration": 534361,
    "start_time": "2023-01-19T11:08:53.767Z"
   },
   {
    "duration": 1576,
    "start_time": "2023-01-19T11:32:51.589Z"
   },
   {
    "duration": 113281,
    "start_time": "2023-01-19T11:32:53.167Z"
   },
   {
    "duration": 8904,
    "start_time": "2023-01-19T11:37:39.143Z"
   },
   {
    "duration": 4,
    "start_time": "2023-01-19T11:41:26.600Z"
   },
   {
    "duration": 3,
    "start_time": "2023-01-19T11:41:28.742Z"
   },
   {
    "duration": 151059,
    "start_time": "2023-01-19T11:41:29.569Z"
   },
   {
    "duration": 14323,
    "start_time": "2023-01-19T11:44:08.121Z"
   },
   {
    "duration": 4,
    "start_time": "2023-01-19T11:44:49.137Z"
   },
   {
    "duration": 4,
    "start_time": "2023-01-19T11:44:52.874Z"
   },
   {
    "duration": 2887088,
    "start_time": "2023-01-19T11:44:56.241Z"
   },
   {
    "duration": 5,
    "start_time": "2023-01-19T12:34:30.152Z"
   },
   {
    "duration": 3,
    "start_time": "2023-01-19T12:34:58.076Z"
   },
   {
    "duration": 4,
    "start_time": "2023-01-19T12:35:03.207Z"
   },
   {
    "duration": 18161,
    "start_time": "2023-01-19T12:35:31.077Z"
   },
   {
    "duration": 2433,
    "start_time": "2023-01-19T12:35:53.311Z"
   },
   {
    "duration": 22845,
    "start_time": "2023-01-19T12:35:57.000Z"
   },
   {
    "duration": 1250,
    "start_time": "2023-01-19T12:36:52.273Z"
   },
   {
    "duration": 9,
    "start_time": "2023-01-19T12:36:58.480Z"
   },
   {
    "duration": 19344,
    "start_time": "2023-01-19T12:37:16.695Z"
   },
   {
    "duration": 2978,
    "start_time": "2023-01-19T12:38:16.374Z"
   },
   {
    "duration": 22550,
    "start_time": "2023-01-19T12:38:20.482Z"
   },
   {
    "duration": 19648,
    "start_time": "2023-01-19T12:38:58.094Z"
   },
   {
    "duration": 3077,
    "start_time": "2023-01-19T12:39:20.165Z"
   },
   {
    "duration": 21385,
    "start_time": "2023-01-19T12:39:23.243Z"
   },
   {
    "duration": 1270,
    "start_time": "2023-01-19T12:39:56.797Z"
   },
   {
    "duration": 11,
    "start_time": "2023-01-19T12:40:00.392Z"
   },
   {
    "duration": 10,
    "start_time": "2023-01-19T12:40:10.340Z"
   },
   {
    "duration": 5,
    "start_time": "2023-01-19T13:51:09.975Z"
   },
   {
    "duration": 3,
    "start_time": "2023-01-19T13:51:10.759Z"
   },
   {
    "duration": 12,
    "start_time": "2023-01-19T14:20:42.935Z"
   },
   {
    "duration": 10,
    "start_time": "2023-01-19T14:21:12.979Z"
   },
   {
    "duration": 478788,
    "start_time": "2023-01-19T14:22:00.140Z"
   },
   {
    "duration": 10109,
    "start_time": "2023-01-19T23:31:05.850Z"
   },
   {
    "duration": 17598,
    "start_time": "2023-01-19T23:31:15.968Z"
   },
   {
    "duration": 4,
    "start_time": "2023-01-19T23:31:33.569Z"
   },
   {
    "duration": 4598,
    "start_time": "2023-01-19T23:31:33.587Z"
   },
   {
    "duration": 365,
    "start_time": "2023-01-19T23:31:38.187Z"
   },
   {
    "duration": 2291,
    "start_time": "2023-01-19T23:31:38.559Z"
   },
   {
    "duration": 8,
    "start_time": "2023-01-19T23:31:40.852Z"
   },
   {
    "duration": 383,
    "start_time": "2023-01-19T23:31:40.865Z"
   },
   {
    "duration": 708,
    "start_time": "2023-01-19T23:31:41.252Z"
   },
   {
    "duration": 190,
    "start_time": "2023-01-19T23:31:41.971Z"
   },
   {
    "duration": 297,
    "start_time": "2023-01-19T23:31:42.178Z"
   },
   {
    "duration": 491,
    "start_time": "2023-01-19T23:31:42.560Z"
   },
   {
    "duration": 103,
    "start_time": "2023-01-19T23:31:43.061Z"
   },
   {
    "duration": 277,
    "start_time": "2023-01-19T23:31:43.173Z"
   },
   {
    "duration": 185,
    "start_time": "2023-01-19T23:31:43.470Z"
   },
   {
    "duration": 301,
    "start_time": "2023-01-19T23:31:43.670Z"
   },
   {
    "duration": 398,
    "start_time": "2023-01-19T23:31:43.976Z"
   },
   {
    "duration": 2693,
    "start_time": "2023-01-19T23:31:44.377Z"
   },
   {
    "duration": 96,
    "start_time": "2023-01-19T23:31:47.153Z"
   },
   {
    "duration": 210,
    "start_time": "2023-01-19T23:31:47.255Z"
   },
   {
    "duration": 422,
    "start_time": "2023-01-19T23:31:47.548Z"
   },
   {
    "duration": 121,
    "start_time": "2023-01-19T23:31:48.049Z"
   },
   {
    "duration": 675,
    "start_time": "2023-01-19T23:31:48.179Z"
   },
   {
    "duration": 991,
    "start_time": "2023-01-19T23:31:48.857Z"
   },
   {
    "duration": 9,
    "start_time": "2023-01-19T23:31:49.858Z"
   },
   {
    "duration": 371,
    "start_time": "2023-01-19T23:31:49.878Z"
   },
   {
    "duration": 1294,
    "start_time": "2023-01-19T23:31:50.255Z"
   },
   {
    "duration": 774,
    "start_time": "2023-01-19T23:31:51.583Z"
   },
   {
    "duration": 8599,
    "start_time": "2023-01-19T23:31:52.363Z"
   },
   {
    "duration": 7586,
    "start_time": "2023-01-19T23:32:00.974Z"
   },
   {
    "duration": 88,
    "start_time": "2023-01-19T23:32:08.562Z"
   },
   {
    "duration": 511,
    "start_time": "2023-01-19T23:32:08.653Z"
   },
   {
    "duration": 5188,
    "start_time": "2023-01-19T23:32:09.169Z"
   },
   {
    "duration": 801,
    "start_time": "2023-01-19T23:32:14.370Z"
   },
   {
    "duration": 96,
    "start_time": "2023-01-19T23:32:15.254Z"
   },
   {
    "duration": 301,
    "start_time": "2023-01-19T23:32:15.352Z"
   },
   {
    "duration": 91,
    "start_time": "2023-01-19T23:32:15.660Z"
   },
   {
    "duration": 188,
    "start_time": "2023-01-19T23:32:15.762Z"
   },
   {
    "duration": 815,
    "start_time": "2023-01-19T23:32:15.951Z"
   },
   {
    "duration": 5,
    "start_time": "2023-01-19T23:32:16.773Z"
   },
   {
    "duration": 4723,
    "start_time": "2023-01-19T23:32:16.851Z"
   },
   {
    "duration": 7304,
    "start_time": "2023-01-19T23:32:21.650Z"
   },
   {
    "duration": 105,
    "start_time": "2023-01-19T23:32:28.960Z"
   },
   {
    "duration": 787,
    "start_time": "2023-01-19T23:32:29.070Z"
   },
   {
    "duration": 183,
    "start_time": "2023-01-19T23:32:29.870Z"
   },
   {
    "duration": 284,
    "start_time": "2023-01-19T23:32:30.065Z"
   },
   {
    "duration": 1509,
    "start_time": "2023-01-19T23:32:30.351Z"
   },
   {
    "duration": 0,
    "start_time": "2023-01-19T23:32:31.864Z"
   },
   {
    "duration": 0,
    "start_time": "2023-01-19T23:32:31.866Z"
   },
   {
    "duration": 0,
    "start_time": "2023-01-19T23:32:31.868Z"
   },
   {
    "duration": 0,
    "start_time": "2023-01-19T23:32:31.871Z"
   },
   {
    "duration": 0,
    "start_time": "2023-01-19T23:32:31.873Z"
   },
   {
    "duration": 0,
    "start_time": "2023-01-19T23:32:31.875Z"
   },
   {
    "duration": 0,
    "start_time": "2023-01-19T23:32:31.878Z"
   },
   {
    "duration": 0,
    "start_time": "2023-01-19T23:32:31.948Z"
   },
   {
    "duration": 0,
    "start_time": "2023-01-19T23:32:31.949Z"
   },
   {
    "duration": 0,
    "start_time": "2023-01-19T23:32:31.951Z"
   },
   {
    "duration": 0,
    "start_time": "2023-01-19T23:32:31.952Z"
   },
   {
    "duration": 0,
    "start_time": "2023-01-19T23:32:31.954Z"
   },
   {
    "duration": 0,
    "start_time": "2023-01-19T23:32:31.957Z"
   },
   {
    "duration": 0,
    "start_time": "2023-01-19T23:32:31.959Z"
   },
   {
    "duration": 0,
    "start_time": "2023-01-19T23:32:31.962Z"
   },
   {
    "duration": 0,
    "start_time": "2023-01-19T23:32:31.965Z"
   },
   {
    "duration": 0,
    "start_time": "2023-01-19T23:32:31.967Z"
   },
   {
    "duration": 0,
    "start_time": "2023-01-19T23:32:31.970Z"
   },
   {
    "duration": 0,
    "start_time": "2023-01-19T23:32:32.049Z"
   },
   {
    "duration": 0,
    "start_time": "2023-01-19T23:32:32.051Z"
   },
   {
    "duration": 0,
    "start_time": "2023-01-19T23:32:32.052Z"
   },
   {
    "duration": 0,
    "start_time": "2023-01-19T23:32:32.054Z"
   },
   {
    "duration": 0,
    "start_time": "2023-01-19T23:32:32.056Z"
   },
   {
    "duration": 0,
    "start_time": "2023-01-19T23:32:32.058Z"
   },
   {
    "duration": 0,
    "start_time": "2023-01-19T23:32:32.061Z"
   },
   {
    "duration": 0,
    "start_time": "2023-01-19T23:32:32.064Z"
   },
   {
    "duration": 0,
    "start_time": "2023-01-19T23:32:32.066Z"
   },
   {
    "duration": 0,
    "start_time": "2023-01-19T23:32:32.069Z"
   },
   {
    "duration": 0,
    "start_time": "2023-01-19T23:32:32.072Z"
   },
   {
    "duration": 0,
    "start_time": "2023-01-19T23:32:32.074Z"
   },
   {
    "duration": 0,
    "start_time": "2023-01-19T23:32:32.077Z"
   },
   {
    "duration": 0,
    "start_time": "2023-01-19T23:32:32.149Z"
   },
   {
    "duration": 0,
    "start_time": "2023-01-19T23:32:32.151Z"
   },
   {
    "duration": 0,
    "start_time": "2023-01-19T23:32:32.152Z"
   },
   {
    "duration": 0,
    "start_time": "2023-01-19T23:32:32.154Z"
   },
   {
    "duration": 0,
    "start_time": "2023-01-19T23:32:32.157Z"
   },
   {
    "duration": 0,
    "start_time": "2023-01-19T23:32:32.160Z"
   },
   {
    "duration": 1773,
    "start_time": "2023-01-20T06:29:11.026Z"
   },
   {
    "duration": 2872,
    "start_time": "2023-01-20T06:29:12.801Z"
   },
   {
    "duration": 3,
    "start_time": "2023-01-20T06:29:15.675Z"
   },
   {
    "duration": 1222,
    "start_time": "2023-01-20T06:29:15.681Z"
   },
   {
    "duration": 18,
    "start_time": "2023-01-20T06:29:16.905Z"
   },
   {
    "duration": 142,
    "start_time": "2023-01-20T06:29:16.925Z"
   },
   {
    "duration": 7,
    "start_time": "2023-01-20T06:29:17.069Z"
   },
   {
    "duration": 31,
    "start_time": "2023-01-20T06:29:17.078Z"
   },
   {
    "duration": 123,
    "start_time": "2023-01-20T06:29:17.111Z"
   },
   {
    "duration": 43,
    "start_time": "2023-01-20T06:29:17.237Z"
   },
   {
    "duration": 14,
    "start_time": "2023-01-20T06:29:17.281Z"
   },
   {
    "duration": 54,
    "start_time": "2023-01-20T06:29:17.297Z"
   },
   {
    "duration": 17,
    "start_time": "2023-01-20T06:29:17.354Z"
   },
   {
    "duration": 17,
    "start_time": "2023-01-20T06:29:19.942Z"
   },
   {
    "duration": 918,
    "start_time": "2023-01-20T06:29:55.210Z"
   },
   {
    "duration": 160,
    "start_time": "2023-01-20T06:30:31.254Z"
   },
   {
    "duration": 163,
    "start_time": "2023-01-20T06:31:22.170Z"
   },
   {
    "duration": 265,
    "start_time": "2023-01-20T06:31:30.825Z"
   },
   {
    "duration": 270,
    "start_time": "2023-01-20T06:31:37.762Z"
   },
   {
    "duration": 281,
    "start_time": "2023-01-20T06:31:41.245Z"
   },
   {
    "duration": 431,
    "start_time": "2023-01-20T06:31:50.338Z"
   },
   {
    "duration": 507,
    "start_time": "2023-01-20T06:32:02.386Z"
   },
   {
    "duration": 126,
    "start_time": "2023-01-20T06:32:27.516Z"
   },
   {
    "duration": 247,
    "start_time": "2023-01-20T06:33:16.739Z"
   },
   {
    "duration": 117,
    "start_time": "2023-01-20T06:33:23.826Z"
   },
   {
    "duration": 715,
    "start_time": "2023-01-20T06:33:53.522Z"
   },
   {
    "duration": 538,
    "start_time": "2023-01-20T06:34:22.490Z"
   },
   {
    "duration": 603,
    "start_time": "2023-01-20T06:34:28.962Z"
   },
   {
    "duration": 759,
    "start_time": "2023-01-20T06:34:36.867Z"
   },
   {
    "duration": 839,
    "start_time": "2023-01-20T06:34:43.893Z"
   },
   {
    "duration": 1769,
    "start_time": "2023-01-20T06:34:49.403Z"
   },
   {
    "duration": 860,
    "start_time": "2023-01-20T07:11:43.385Z"
   },
   {
    "duration": 329,
    "start_time": "2023-01-20T07:14:38.826Z"
   },
   {
    "duration": 171,
    "start_time": "2023-01-20T07:15:03.995Z"
   },
   {
    "duration": 15,
    "start_time": "2023-01-20T07:17:06.074Z"
   },
   {
    "duration": 5,
    "start_time": "2023-01-20T07:17:20.320Z"
   },
   {
    "duration": 2326,
    "start_time": "2023-01-20T07:17:20.327Z"
   },
   {
    "duration": 4,
    "start_time": "2023-01-20T07:17:22.656Z"
   },
   {
    "duration": 874,
    "start_time": "2023-01-20T07:17:22.662Z"
   },
   {
    "duration": 15,
    "start_time": "2023-01-20T07:17:23.539Z"
   },
   {
    "duration": 149,
    "start_time": "2023-01-20T07:17:23.556Z"
   },
   {
    "duration": 5,
    "start_time": "2023-01-20T07:17:23.707Z"
   },
   {
    "duration": 34,
    "start_time": "2023-01-20T07:17:23.714Z"
   },
   {
    "duration": 89,
    "start_time": "2023-01-20T07:17:23.750Z"
   },
   {
    "duration": 32,
    "start_time": "2023-01-20T07:17:23.841Z"
   },
   {
    "duration": 14,
    "start_time": "2023-01-20T07:17:23.876Z"
   },
   {
    "duration": 61,
    "start_time": "2023-01-20T07:17:23.892Z"
   },
   {
    "duration": 12,
    "start_time": "2023-01-20T07:17:23.955Z"
   },
   {
    "duration": 81,
    "start_time": "2023-01-20T07:17:36.218Z"
   },
   {
    "duration": 105,
    "start_time": "2023-01-20T07:21:52.524Z"
   },
   {
    "duration": 10,
    "start_time": "2023-01-20T07:22:01.377Z"
   },
   {
    "duration": 21,
    "start_time": "2023-01-20T07:24:14.747Z"
   },
   {
    "duration": 25,
    "start_time": "2023-01-20T07:24:40.652Z"
   },
   {
    "duration": 40552,
    "start_time": "2023-01-20T07:25:23.759Z"
   },
   {
    "duration": 5,
    "start_time": "2023-01-20T07:26:14.667Z"
   },
   {
    "duration": 2334,
    "start_time": "2023-01-20T07:26:14.674Z"
   },
   {
    "duration": 4,
    "start_time": "2023-01-20T07:26:17.011Z"
   },
   {
    "duration": 891,
    "start_time": "2023-01-20T07:26:17.017Z"
   },
   {
    "duration": 131,
    "start_time": "2023-01-20T07:26:17.910Z"
   },
   {
    "duration": 157,
    "start_time": "2023-01-20T07:26:18.043Z"
   },
   {
    "duration": 21,
    "start_time": "2023-01-20T07:26:18.202Z"
   },
   {
    "duration": 15,
    "start_time": "2023-01-20T07:26:18.225Z"
   },
   {
    "duration": 97,
    "start_time": "2023-01-20T07:26:18.243Z"
   },
   {
    "duration": 31,
    "start_time": "2023-01-20T07:26:18.341Z"
   },
   {
    "duration": 13,
    "start_time": "2023-01-20T07:26:18.374Z"
   },
   {
    "duration": 57,
    "start_time": "2023-01-20T07:26:18.389Z"
   },
   {
    "duration": 11,
    "start_time": "2023-01-20T07:26:18.448Z"
   },
   {
    "duration": 11,
    "start_time": "2023-01-20T07:26:24.705Z"
   },
   {
    "duration": 33,
    "start_time": "2023-01-20T07:26:39.348Z"
   },
   {
    "duration": 6,
    "start_time": "2023-01-20T07:26:45.170Z"
   },
   {
    "duration": 9,
    "start_time": "2023-01-20T07:26:47.323Z"
   },
   {
    "duration": 92,
    "start_time": "2023-01-20T07:27:00.990Z"
   },
   {
    "duration": 6,
    "start_time": "2023-01-20T07:27:35.378Z"
   },
   {
    "duration": 2366,
    "start_time": "2023-01-20T07:27:35.387Z"
   },
   {
    "duration": 4,
    "start_time": "2023-01-20T07:27:37.756Z"
   },
   {
    "duration": 940,
    "start_time": "2023-01-20T07:27:37.763Z"
   },
   {
    "duration": 19,
    "start_time": "2023-01-20T07:27:38.705Z"
   },
   {
    "duration": 175,
    "start_time": "2023-01-20T07:27:38.740Z"
   },
   {
    "duration": 6,
    "start_time": "2023-01-20T07:27:38.917Z"
   },
   {
    "duration": 15,
    "start_time": "2023-01-20T07:27:38.943Z"
   },
   {
    "duration": 106,
    "start_time": "2023-01-20T07:27:38.962Z"
   },
   {
    "duration": 37,
    "start_time": "2023-01-20T07:27:39.070Z"
   },
   {
    "duration": 33,
    "start_time": "2023-01-20T07:27:39.109Z"
   },
   {
    "duration": 38,
    "start_time": "2023-01-20T07:27:39.144Z"
   },
   {
    "duration": 13,
    "start_time": "2023-01-20T07:27:39.184Z"
   },
   {
    "duration": 17,
    "start_time": "2023-01-20T07:27:39.198Z"
   },
   {
    "duration": 32,
    "start_time": "2023-01-20T07:27:39.240Z"
   },
   {
    "duration": 5,
    "start_time": "2023-01-20T07:27:43.361Z"
   },
   {
    "duration": 72,
    "start_time": "2023-01-20T07:28:26.283Z"
   },
   {
    "duration": 8,
    "start_time": "2023-01-20T07:28:33.242Z"
   },
   {
    "duration": 10,
    "start_time": "2023-01-20T07:28:33.970Z"
   },
   {
    "duration": 15,
    "start_time": "2023-01-20T07:28:34.451Z"
   },
   {
    "duration": 386,
    "start_time": "2023-01-20T07:28:39.194Z"
   },
   {
    "duration": 13,
    "start_time": "2023-01-20T07:28:40.825Z"
   },
   {
    "duration": 6,
    "start_time": "2023-01-20T07:28:41.337Z"
   },
   {
    "duration": 28,
    "start_time": "2023-01-20T07:28:42.626Z"
   },
   {
    "duration": 11,
    "start_time": "2023-01-20T07:28:43.890Z"
   },
   {
    "duration": 29,
    "start_time": "2023-01-20T07:28:44.274Z"
   },
   {
    "duration": 92,
    "start_time": "2023-01-20T07:28:45.809Z"
   },
   {
    "duration": 3,
    "start_time": "2023-01-20T07:28:47.809Z"
   },
   {
    "duration": 4,
    "start_time": "2023-01-20T07:28:49.066Z"
   },
   {
    "duration": 82,
    "start_time": "2023-01-20T07:31:04.635Z"
   },
   {
    "duration": 84,
    "start_time": "2023-01-20T07:31:06.395Z"
   },
   {
    "duration": 1211,
    "start_time": "2023-01-20T07:31:13.008Z"
   },
   {
    "duration": 883,
    "start_time": "2023-01-20T07:31:43.943Z"
   },
   {
    "duration": 812,
    "start_time": "2023-01-20T07:31:56.140Z"
   },
   {
    "duration": 13,
    "start_time": "2023-01-20T07:32:48.094Z"
   },
   {
    "duration": 29,
    "start_time": "2023-01-20T07:32:50.917Z"
   },
   {
    "duration": 555,
    "start_time": "2023-01-20T07:32:56.804Z"
   },
   {
    "duration": 131,
    "start_time": "2023-01-20T07:33:09.253Z"
   },
   {
    "duration": 6,
    "start_time": "2023-01-20T07:33:30.586Z"
   },
   {
    "duration": 2456,
    "start_time": "2023-01-20T07:33:30.595Z"
   },
   {
    "duration": 4,
    "start_time": "2023-01-20T07:33:33.053Z"
   },
   {
    "duration": 840,
    "start_time": "2023-01-20T07:33:33.060Z"
   },
   {
    "duration": 16,
    "start_time": "2023-01-20T07:33:33.903Z"
   },
   {
    "duration": 160,
    "start_time": "2023-01-20T07:33:33.921Z"
   },
   {
    "duration": 4,
    "start_time": "2023-01-20T07:33:34.083Z"
   },
   {
    "duration": 9,
    "start_time": "2023-01-20T07:33:34.088Z"
   },
   {
    "duration": 97,
    "start_time": "2023-01-20T07:33:34.099Z"
   },
   {
    "duration": 41,
    "start_time": "2023-01-20T07:33:34.199Z"
   },
   {
    "duration": 19,
    "start_time": "2023-01-20T07:33:34.244Z"
   },
   {
    "duration": 41,
    "start_time": "2023-01-20T07:33:34.265Z"
   },
   {
    "duration": 16,
    "start_time": "2023-01-20T07:33:34.308Z"
   },
   {
    "duration": 25,
    "start_time": "2023-01-20T07:33:34.326Z"
   },
   {
    "duration": 30,
    "start_time": "2023-01-20T07:33:34.353Z"
   },
   {
    "duration": 6,
    "start_time": "2023-01-20T07:33:34.385Z"
   },
   {
    "duration": 47,
    "start_time": "2023-01-20T07:33:34.393Z"
   },
   {
    "duration": 8,
    "start_time": "2023-01-20T07:33:34.442Z"
   },
   {
    "duration": 13,
    "start_time": "2023-01-20T07:33:34.452Z"
   },
   {
    "duration": 322,
    "start_time": "2023-01-20T07:33:34.467Z"
   },
   {
    "duration": 12,
    "start_time": "2023-01-20T07:33:34.790Z"
   },
   {
    "duration": 5,
    "start_time": "2023-01-20T07:33:34.804Z"
   },
   {
    "duration": 49,
    "start_time": "2023-01-20T07:33:34.811Z"
   },
   {
    "duration": 11,
    "start_time": "2023-01-20T07:33:34.861Z"
   },
   {
    "duration": 32,
    "start_time": "2023-01-20T07:33:34.874Z"
   },
   {
    "duration": 87,
    "start_time": "2023-01-20T07:33:34.940Z"
   },
   {
    "duration": 13,
    "start_time": "2023-01-20T07:33:35.028Z"
   },
   {
    "duration": 4,
    "start_time": "2023-01-20T07:33:35.043Z"
   },
   {
    "duration": 116,
    "start_time": "2023-01-20T07:33:35.051Z"
   },
   {
    "duration": 99,
    "start_time": "2023-01-20T07:33:35.169Z"
   },
   {
    "duration": 911,
    "start_time": "2023-01-20T07:33:35.270Z"
   },
   {
    "duration": 1249,
    "start_time": "2023-01-20T07:33:36.183Z"
   },
   {
    "duration": 29,
    "start_time": "2023-01-20T07:34:00.100Z"
   },
   {
    "duration": 563,
    "start_time": "2023-01-20T07:34:06.924Z"
   },
   {
    "duration": 81,
    "start_time": "2023-01-20T07:34:21.196Z"
   },
   {
    "duration": 2,
    "start_time": "2023-01-20T07:34:27.252Z"
   },
   {
    "duration": 15,
    "start_time": "2023-01-20T07:34:28.286Z"
   },
   {
    "duration": 3690,
    "start_time": "2023-01-20T07:37:58.558Z"
   },
   {
    "duration": 25,
    "start_time": "2023-01-20T07:39:53.767Z"
   },
   {
    "duration": 347,
    "start_time": "2023-01-20T07:40:16.831Z"
   },
   {
    "duration": 15,
    "start_time": "2023-01-20T07:41:47.046Z"
   },
   {
    "duration": 17,
    "start_time": "2023-01-20T07:41:55.534Z"
   },
   {
    "duration": 4163,
    "start_time": "2023-01-20T07:42:01.581Z"
   },
   {
    "duration": 7000,
    "start_time": "2023-01-20T07:42:11.920Z"
   },
   {
    "duration": 25,
    "start_time": "2023-01-20T07:42:21.736Z"
   },
   {
    "duration": 18,
    "start_time": "2023-01-20T07:42:31.485Z"
   },
   {
    "duration": 6,
    "start_time": "2023-01-20T07:42:36.079Z"
   },
   {
    "duration": 8660,
    "start_time": "2023-01-20T07:42:57.542Z"
   },
   {
    "duration": 8048,
    "start_time": "2023-01-20T07:43:40.344Z"
   },
   {
    "duration": 1841,
    "start_time": "2023-01-20T07:43:48.395Z"
   },
   {
    "duration": 2226,
    "start_time": "2023-01-20T07:44:18.208Z"
   },
   {
    "duration": 21,
    "start_time": "2023-01-20T07:51:28.576Z"
   },
   {
    "duration": 167,
    "start_time": "2023-01-20T07:51:36.736Z"
   },
   {
    "duration": 4,
    "start_time": "2023-01-20T07:51:42.887Z"
   },
   {
    "duration": 4,
    "start_time": "2023-01-20T07:51:44.071Z"
   },
   {
    "duration": 120,
    "start_time": "2023-01-20T07:51:46.318Z"
   },
   {
    "duration": 3,
    "start_time": "2023-01-20T07:51:46.935Z"
   },
   {
    "duration": 468,
    "start_time": "2023-01-20T07:51:53.144Z"
   },
   {
    "duration": 1712,
    "start_time": "2023-01-20T07:51:55.895Z"
   },
   {
    "duration": 20,
    "start_time": "2023-01-20T07:51:59.943Z"
   },
   {
    "duration": 77,
    "start_time": "2023-01-20T07:52:01.991Z"
   },
   {
    "duration": 4824,
    "start_time": "2023-01-20T07:52:16.952Z"
   },
   {
    "duration": 75,
    "start_time": "2023-01-20T07:53:56.113Z"
   },
   {
    "duration": 28,
    "start_time": "2023-01-20T07:54:19.721Z"
   },
   {
    "duration": 7,
    "start_time": "2023-01-20T07:54:22.847Z"
   },
   {
    "duration": 22,
    "start_time": "2023-01-20T07:54:49.487Z"
   },
   {
    "duration": 13,
    "start_time": "2023-01-20T07:55:05.393Z"
   },
   {
    "duration": 13,
    "start_time": "2023-01-20T07:55:17.816Z"
   },
   {
    "duration": 6,
    "start_time": "2023-01-20T07:55:22.809Z"
   },
   {
    "duration": 11,
    "start_time": "2023-01-20T07:55:27.062Z"
   },
   {
    "duration": 26,
    "start_time": "2023-01-20T07:56:44.983Z"
   },
   {
    "duration": 6,
    "start_time": "2023-01-20T07:56:57.393Z"
   },
   {
    "duration": 28,
    "start_time": "2023-01-20T07:57:05.503Z"
   },
   {
    "duration": 12,
    "start_time": "2023-01-20T07:57:14.239Z"
   },
   {
    "duration": 3,
    "start_time": "2023-01-20T07:57:27.535Z"
   },
   {
    "duration": 6,
    "start_time": "2023-01-20T07:57:28.399Z"
   },
   {
    "duration": 15,
    "start_time": "2023-01-20T07:57:49.010Z"
   },
   {
    "duration": 5,
    "start_time": "2023-01-20T07:57:53.168Z"
   },
   {
    "duration": 5,
    "start_time": "2023-01-20T07:57:56.232Z"
   },
   {
    "duration": 1470373,
    "start_time": "2023-01-20T07:58:00.991Z"
   },
   {
    "duration": 5,
    "start_time": "2023-01-20T08:24:10.077Z"
   },
   {
    "duration": 5,
    "start_time": "2023-01-20T08:24:15.426Z"
   },
   {
    "duration": 47746,
    "start_time": "2023-01-20T08:26:45.733Z"
   },
   {
    "duration": 2252,
    "start_time": "2023-01-20T08:27:33.483Z"
   },
   {
    "duration": 10,
    "start_time": "2023-01-20T08:28:30.614Z"
   },
   {
    "duration": 78,
    "start_time": "2023-01-20T08:30:08.533Z"
   },
   {
    "duration": 96,
    "start_time": "2023-01-20T08:31:36.913Z"
   },
   {
    "duration": 1298,
    "start_time": "2023-01-20T08:32:26.462Z"
   },
   {
    "duration": 1092,
    "start_time": "2023-01-20T08:34:00.166Z"
   },
   {
    "duration": 4,
    "start_time": "2023-01-20T08:35:28.016Z"
   },
   {
    "duration": 5,
    "start_time": "2023-01-20T08:35:28.671Z"
   },
   {
    "duration": 6,
    "start_time": "2023-01-20T08:35:30.143Z"
   },
   {
    "duration": 5,
    "start_time": "2023-01-20T08:35:32.334Z"
   },
   {
    "duration": 1974092,
    "start_time": "2023-01-20T08:35:34.560Z"
   },
   {
    "duration": 6,
    "start_time": "2023-01-20T09:11:07.094Z"
   },
   {
    "duration": 5,
    "start_time": "2023-01-20T09:11:10.823Z"
   },
   {
    "duration": 3221,
    "start_time": "2023-01-20T09:11:23.095Z"
   },
   {
    "duration": 142507,
    "start_time": "2023-01-20T09:11:31.135Z"
   },
   {
    "duration": 195552,
    "start_time": "2023-01-20T09:14:25.582Z"
   },
   {
    "duration": 6004,
    "start_time": "2023-01-20T09:18:58.030Z"
   },
   {
    "duration": 12,
    "start_time": "2023-01-20T09:19:26.384Z"
   },
   {
    "duration": 991,
    "start_time": "2023-01-20T09:19:50.752Z"
   },
   {
    "duration": 4,
    "start_time": "2023-01-20T09:21:55.936Z"
   },
   {
    "duration": 3,
    "start_time": "2023-01-20T09:21:57.009Z"
   },
   {
    "duration": 969040,
    "start_time": "2023-01-20T09:21:58.407Z"
   },
   {
    "duration": 4,
    "start_time": "2023-01-20T09:42:12.786Z"
   },
   {
    "duration": 4,
    "start_time": "2023-01-20T09:42:16.570Z"
   },
   {
    "duration": 16275,
    "start_time": "2023-01-20T09:42:33.084Z"
   },
   {
    "duration": 6515,
    "start_time": "2023-01-20T09:43:02.931Z"
   },
   {
    "duration": 615,
    "start_time": "2023-01-20T09:44:27.813Z"
   },
   {
    "duration": 1380,
    "start_time": "2023-01-20T09:44:33.603Z"
   },
   {
    "duration": 11,
    "start_time": "2023-01-20T09:45:29.651Z"
   },
   {
    "duration": 25764,
    "start_time": "2023-01-20T09:47:23.980Z"
   },
   {
    "duration": 76,
    "start_time": "2023-01-20T09:51:08.233Z"
   },
   {
    "duration": 10,
    "start_time": "2023-01-20T09:51:58.941Z"
   },
   {
    "duration": 75,
    "start_time": "2023-01-20T09:52:34.973Z"
   },
   {
    "duration": 20299,
    "start_time": "2023-01-20T11:54:26.149Z"
   },
   {
    "duration": 11389,
    "start_time": "2023-01-20T11:54:46.476Z"
   },
   {
    "duration": 10,
    "start_time": "2023-01-20T11:54:57.867Z"
   },
   {
    "duration": 6767,
    "start_time": "2023-01-20T11:54:57.884Z"
   },
   {
    "duration": 196,
    "start_time": "2023-01-20T11:55:04.655Z"
   },
   {
    "duration": 898,
    "start_time": "2023-01-20T11:55:04.853Z"
   },
   {
    "duration": 96,
    "start_time": "2023-01-20T11:55:05.754Z"
   },
   {
    "duration": 92,
    "start_time": "2023-01-20T11:55:05.857Z"
   },
   {
    "duration": 735,
    "start_time": "2023-01-20T11:55:05.955Z"
   },
   {
    "duration": 184,
    "start_time": "2023-01-20T11:55:06.704Z"
   },
   {
    "duration": 179,
    "start_time": "2023-01-20T11:55:06.891Z"
   },
   {
    "duration": 368,
    "start_time": "2023-01-20T11:55:07.087Z"
   },
   {
    "duration": 86,
    "start_time": "2023-01-20T11:55:07.469Z"
   },
   {
    "duration": 100,
    "start_time": "2023-01-20T11:55:07.578Z"
   },
   {
    "duration": 290,
    "start_time": "2023-01-20T11:55:07.690Z"
   },
   {
    "duration": 53,
    "start_time": "2023-01-20T11:55:07.995Z"
   },
   {
    "duration": 191,
    "start_time": "2023-01-20T11:55:08.061Z"
   },
   {
    "duration": 185,
    "start_time": "2023-01-20T11:55:08.263Z"
   },
   {
    "duration": 207,
    "start_time": "2023-01-20T11:55:08.454Z"
   },
   {
    "duration": 1802,
    "start_time": "2023-01-20T11:55:08.676Z"
   },
   {
    "duration": 74,
    "start_time": "2023-01-20T11:55:10.485Z"
   },
   {
    "duration": 22,
    "start_time": "2023-01-20T11:55:10.572Z"
   },
   {
    "duration": 300,
    "start_time": "2023-01-20T11:55:10.597Z"
   },
   {
    "duration": 33,
    "start_time": "2023-01-20T11:55:10.960Z"
   },
   {
    "duration": 255,
    "start_time": "2023-01-20T11:55:11.052Z"
   },
   {
    "duration": 561,
    "start_time": "2023-01-20T11:55:11.369Z"
   },
   {
    "duration": 8,
    "start_time": "2023-01-20T11:55:11.936Z"
   },
   {
    "duration": 90,
    "start_time": "2023-01-20T11:55:11.965Z"
   },
   {
    "duration": 728,
    "start_time": "2023-01-20T11:55:12.067Z"
   },
   {
    "duration": 681,
    "start_time": "2023-01-20T11:55:12.799Z"
   },
   {
    "duration": 5267,
    "start_time": "2023-01-20T11:55:13.506Z"
   },
   {
    "duration": 4381,
    "start_time": "2023-01-20T11:55:18.784Z"
   },
   {
    "duration": 17,
    "start_time": "2023-01-20T11:55:23.174Z"
   },
   {
    "duration": 90,
    "start_time": "2023-01-20T11:55:23.195Z"
   },
   {
    "duration": 3378,
    "start_time": "2023-01-20T11:55:23.289Z"
   },
   {
    "duration": 496,
    "start_time": "2023-01-20T11:55:26.674Z"
   },
   {
    "duration": 7,
    "start_time": "2023-01-20T11:55:27.181Z"
   },
   {
    "duration": 197,
    "start_time": "2023-01-20T11:55:27.194Z"
   },
   {
    "duration": 163,
    "start_time": "2023-01-20T11:55:27.393Z"
   },
   {
    "duration": 44466,
    "start_time": "2023-01-20T11:55:27.583Z"
   },
   {
    "duration": 8124,
    "start_time": "2023-01-20T11:56:12.051Z"
   },
   {
    "duration": 120,
    "start_time": "2023-01-20T11:56:20.178Z"
   },
   {
    "duration": 708,
    "start_time": "2023-01-20T11:56:20.349Z"
   },
   {
    "duration": 4,
    "start_time": "2023-01-20T11:56:21.059Z"
   },
   {
    "duration": 117,
    "start_time": "2023-01-20T11:56:21.066Z"
   },
   {
    "duration": 669,
    "start_time": "2023-01-20T11:56:21.185Z"
   },
   {
    "duration": 4,
    "start_time": "2023-01-20T11:56:21.856Z"
   },
   {
    "duration": 2326,
    "start_time": "2023-01-20T11:56:21.862Z"
   },
   {
    "duration": 6164,
    "start_time": "2023-01-20T11:56:24.190Z"
   },
   {
    "duration": 27,
    "start_time": "2023-01-20T11:56:30.362Z"
   },
   {
    "duration": 403,
    "start_time": "2023-01-20T11:56:30.392Z"
   },
   {
    "duration": 89,
    "start_time": "2023-01-20T11:56:30.798Z"
   },
   {
    "duration": 164,
    "start_time": "2023-01-20T11:56:30.889Z"
   },
   {
    "duration": 201,
    "start_time": "2023-01-20T11:56:31.054Z"
   },
   {
    "duration": 287,
    "start_time": "2023-01-20T11:56:31.263Z"
   },
   {
    "duration": 113,
    "start_time": "2023-01-20T11:56:31.552Z"
   },
   {
    "duration": 109,
    "start_time": "2023-01-20T11:56:31.674Z"
   },
   {
    "duration": 68,
    "start_time": "2023-01-20T11:56:31.785Z"
   },
   {
    "duration": 10,
    "start_time": "2023-01-20T11:56:31.854Z"
   },
   {
    "duration": 79,
    "start_time": "2023-01-20T11:56:31.871Z"
   },
   {
    "duration": 1658432,
    "start_time": "2023-01-20T11:56:31.952Z"
   },
   {
    "duration": 37,
    "start_time": "2023-01-20T12:24:10.448Z"
   },
   {
    "duration": 0,
    "start_time": "2023-01-20T12:24:10.555Z"
   },
   {
    "duration": 0,
    "start_time": "2023-01-20T12:24:10.566Z"
   },
   {
    "duration": 0,
    "start_time": "2023-01-20T12:24:10.577Z"
   },
   {
    "duration": 1,
    "start_time": "2023-01-20T12:24:10.587Z"
   },
   {
    "duration": 0,
    "start_time": "2023-01-20T12:24:10.590Z"
   },
   {
    "duration": 0,
    "start_time": "2023-01-20T12:24:10.591Z"
   },
   {
    "duration": 0,
    "start_time": "2023-01-20T12:24:10.650Z"
   },
   {
    "duration": 0,
    "start_time": "2023-01-20T12:24:10.652Z"
   },
   {
    "duration": 0,
    "start_time": "2023-01-20T12:24:10.656Z"
   },
   {
    "duration": 0,
    "start_time": "2023-01-20T12:24:10.660Z"
   },
   {
    "duration": 0,
    "start_time": "2023-01-20T12:24:10.664Z"
   },
   {
    "duration": 0,
    "start_time": "2023-01-20T12:24:10.668Z"
   },
   {
    "duration": 0,
    "start_time": "2023-01-20T12:24:10.672Z"
   },
   {
    "duration": 0,
    "start_time": "2023-01-20T12:24:10.675Z"
   },
   {
    "duration": 0,
    "start_time": "2023-01-20T12:24:10.678Z"
   },
   {
    "duration": 0,
    "start_time": "2023-01-20T12:24:10.679Z"
   },
   {
    "duration": 0,
    "start_time": "2023-01-20T12:24:10.681Z"
   },
   {
    "duration": 0,
    "start_time": "2023-01-20T12:24:10.682Z"
   },
   {
    "duration": 0,
    "start_time": "2023-01-20T12:24:10.684Z"
   },
   {
    "duration": 0,
    "start_time": "2023-01-20T12:24:10.685Z"
   },
   {
    "duration": 0,
    "start_time": "2023-01-20T12:24:10.686Z"
   },
   {
    "duration": 0,
    "start_time": "2023-01-20T12:24:10.757Z"
   },
   {
    "duration": 0,
    "start_time": "2023-01-20T12:24:10.771Z"
   },
   {
    "duration": 0,
    "start_time": "2023-01-20T12:24:10.776Z"
   },
   {
    "duration": 1,
    "start_time": "2023-01-20T12:24:10.783Z"
   },
   {
    "duration": 0,
    "start_time": "2023-01-20T12:24:10.787Z"
   },
   {
    "duration": 0,
    "start_time": "2023-01-20T12:24:10.790Z"
   },
   {
    "duration": 4774,
    "start_time": "2023-01-21T11:18:41.818Z"
   },
   {
    "duration": 2016,
    "start_time": "2023-01-21T11:18:46.595Z"
   },
   {
    "duration": 3,
    "start_time": "2023-01-21T11:18:48.613Z"
   },
   {
    "duration": 1088,
    "start_time": "2023-01-21T11:18:48.618Z"
   },
   {
    "duration": 17,
    "start_time": "2023-01-21T11:18:49.708Z"
   },
   {
    "duration": 146,
    "start_time": "2023-01-21T11:18:49.728Z"
   },
   {
    "duration": 4,
    "start_time": "2023-01-21T11:18:49.876Z"
   },
   {
    "duration": 24,
    "start_time": "2023-01-21T11:18:49.881Z"
   },
   {
    "duration": 96,
    "start_time": "2023-01-21T11:18:49.907Z"
   },
   {
    "duration": 30,
    "start_time": "2023-01-21T11:18:50.004Z"
   },
   {
    "duration": 13,
    "start_time": "2023-01-21T11:18:50.035Z"
   },
   {
    "duration": 80,
    "start_time": "2023-01-21T11:18:50.050Z"
   },
   {
    "duration": 10,
    "start_time": "2023-01-21T11:18:50.131Z"
   },
   {
    "duration": 46,
    "start_time": "2023-01-21T11:18:50.144Z"
   },
   {
    "duration": 11807,
    "start_time": "2023-01-21T11:20:09.706Z"
   },
   {
    "duration": 3681,
    "start_time": "2023-01-21T11:20:27.312Z"
   },
   {
    "duration": 83,
    "start_time": "2023-01-21T11:20:57.067Z"
   },
   {
    "duration": 4571,
    "start_time": "2023-01-22T20:35:41.929Z"
   },
   {
    "duration": 1837,
    "start_time": "2023-01-22T20:35:46.503Z"
   },
   {
    "duration": 3,
    "start_time": "2023-01-22T20:35:48.342Z"
   },
   {
    "duration": 2717,
    "start_time": "2023-01-22T20:35:48.347Z"
   },
   {
    "duration": 17,
    "start_time": "2023-01-22T20:35:51.065Z"
   },
   {
    "duration": 110,
    "start_time": "2023-01-22T20:35:51.084Z"
   },
   {
    "duration": 4,
    "start_time": "2023-01-22T20:35:51.196Z"
   },
   {
    "duration": 17,
    "start_time": "2023-01-22T20:35:51.202Z"
   },
   {
    "duration": 88,
    "start_time": "2023-01-22T20:35:51.221Z"
   },
   {
    "duration": 29,
    "start_time": "2023-01-22T20:35:51.311Z"
   },
   {
    "duration": 12,
    "start_time": "2023-01-22T20:35:51.342Z"
   },
   {
    "duration": 66,
    "start_time": "2023-01-22T20:35:51.356Z"
   },
   {
    "duration": 12,
    "start_time": "2023-01-22T20:35:51.423Z"
   },
   {
    "duration": 14,
    "start_time": "2023-01-22T20:35:51.436Z"
   },
   {
    "duration": 50,
    "start_time": "2023-01-22T20:35:51.451Z"
   },
   {
    "duration": 18,
    "start_time": "2023-01-22T20:35:51.502Z"
   },
   {
    "duration": 19,
    "start_time": "2023-01-22T20:36:15.894Z"
   },
   {
    "duration": 60,
    "start_time": "2023-01-22T20:37:56.360Z"
   },
   {
    "duration": 44,
    "start_time": "2023-01-22T20:38:33.588Z"
   },
   {
    "duration": 1923,
    "start_time": "2023-01-22T20:38:55.902Z"
   },
   {
    "duration": 1786,
    "start_time": "2023-01-22T20:38:57.827Z"
   },
   {
    "duration": 4,
    "start_time": "2023-01-22T20:38:59.614Z"
   },
   {
    "duration": 716,
    "start_time": "2023-01-22T20:38:59.620Z"
   },
   {
    "duration": 13,
    "start_time": "2023-01-22T20:39:00.338Z"
   },
   {
    "duration": 122,
    "start_time": "2023-01-22T20:39:00.352Z"
   },
   {
    "duration": 4,
    "start_time": "2023-01-22T20:39:00.476Z"
   },
   {
    "duration": 7,
    "start_time": "2023-01-22T20:39:00.482Z"
   },
   {
    "duration": 83,
    "start_time": "2023-01-22T20:39:00.491Z"
   },
   {
    "duration": 29,
    "start_time": "2023-01-22T20:39:00.577Z"
   },
   {
    "duration": 13,
    "start_time": "2023-01-22T20:39:00.608Z"
   },
   {
    "duration": 35,
    "start_time": "2023-01-22T20:39:00.622Z"
   },
   {
    "duration": 16,
    "start_time": "2023-01-22T20:39:00.658Z"
   },
   {
    "duration": 11,
    "start_time": "2023-01-22T20:39:00.680Z"
   },
   {
    "duration": 15,
    "start_time": "2023-01-22T20:39:25.460Z"
   },
   {
    "duration": 32,
    "start_time": "2023-01-22T20:39:35.646Z"
   },
   {
    "duration": 2002,
    "start_time": "2023-01-22T20:40:05.445Z"
   },
   {
    "duration": 1859,
    "start_time": "2023-01-22T20:40:07.449Z"
   },
   {
    "duration": 3,
    "start_time": "2023-01-22T20:40:09.310Z"
   },
   {
    "duration": 765,
    "start_time": "2023-01-22T20:40:09.314Z"
   },
   {
    "duration": 14,
    "start_time": "2023-01-22T20:40:10.082Z"
   },
   {
    "duration": 132,
    "start_time": "2023-01-22T20:40:10.098Z"
   },
   {
    "duration": 6,
    "start_time": "2023-01-22T20:40:10.232Z"
   },
   {
    "duration": 5,
    "start_time": "2023-01-22T20:40:10.240Z"
   },
   {
    "duration": 74,
    "start_time": "2023-01-22T20:40:10.246Z"
   },
   {
    "duration": 30,
    "start_time": "2023-01-22T20:40:10.322Z"
   },
   {
    "duration": 13,
    "start_time": "2023-01-22T20:40:10.354Z"
   },
   {
    "duration": 32,
    "start_time": "2023-01-22T20:40:10.382Z"
   },
   {
    "duration": 11,
    "start_time": "2023-01-22T20:40:10.416Z"
   },
   {
    "duration": 13,
    "start_time": "2023-01-22T20:40:10.430Z"
   },
   {
    "duration": 1929,
    "start_time": "2023-01-22T20:40:59.230Z"
   },
   {
    "duration": 1929,
    "start_time": "2023-01-22T20:41:01.162Z"
   },
   {
    "duration": 3,
    "start_time": "2023-01-22T20:41:03.093Z"
   },
   {
    "duration": 695,
    "start_time": "2023-01-22T20:41:03.099Z"
   },
   {
    "duration": 12,
    "start_time": "2023-01-22T20:41:03.796Z"
   },
   {
    "duration": 112,
    "start_time": "2023-01-22T20:41:03.810Z"
   },
   {
    "duration": 3,
    "start_time": "2023-01-22T20:41:03.924Z"
   },
   {
    "duration": 5,
    "start_time": "2023-01-22T20:41:03.929Z"
   },
   {
    "duration": 71,
    "start_time": "2023-01-22T20:41:03.935Z"
   },
   {
    "duration": 29,
    "start_time": "2023-01-22T20:41:04.009Z"
   },
   {
    "duration": 12,
    "start_time": "2023-01-22T20:41:04.039Z"
   },
   {
    "duration": 50,
    "start_time": "2023-01-22T20:41:04.053Z"
   },
   {
    "duration": 11,
    "start_time": "2023-01-22T20:41:04.105Z"
   },
   {
    "duration": 11,
    "start_time": "2023-01-22T20:41:04.117Z"
   },
   {
    "duration": 33,
    "start_time": "2023-01-22T20:41:07.121Z"
   },
   {
    "duration": 1934,
    "start_time": "2023-01-22T20:44:48.997Z"
   },
   {
    "duration": 1876,
    "start_time": "2023-01-22T20:44:50.934Z"
   },
   {
    "duration": 3,
    "start_time": "2023-01-22T20:44:52.812Z"
   },
   {
    "duration": 787,
    "start_time": "2023-01-22T20:44:52.817Z"
   },
   {
    "duration": 13,
    "start_time": "2023-01-22T20:44:53.606Z"
   },
   {
    "duration": 117,
    "start_time": "2023-01-22T20:44:53.621Z"
   },
   {
    "duration": 4,
    "start_time": "2023-01-22T20:44:53.740Z"
   },
   {
    "duration": 17,
    "start_time": "2023-01-22T20:44:53.746Z"
   },
   {
    "duration": 66,
    "start_time": "2023-01-22T20:44:53.764Z"
   },
   {
    "duration": 30,
    "start_time": "2023-01-22T20:44:53.833Z"
   },
   {
    "duration": 17,
    "start_time": "2023-01-22T20:44:53.865Z"
   },
   {
    "duration": 32,
    "start_time": "2023-01-22T20:44:53.884Z"
   },
   {
    "duration": 11,
    "start_time": "2023-01-22T20:44:53.918Z"
   },
   {
    "duration": 13,
    "start_time": "2023-01-22T20:44:53.931Z"
   },
   {
    "duration": 64,
    "start_time": "2023-01-22T20:44:53.946Z"
   },
   {
    "duration": 5,
    "start_time": "2023-01-22T20:44:54.013Z"
   },
   {
    "duration": 17,
    "start_time": "2023-01-22T20:44:54.020Z"
   },
   {
    "duration": 10,
    "start_time": "2023-01-22T20:44:54.039Z"
   },
   {
    "duration": 11,
    "start_time": "2023-01-22T20:44:54.051Z"
   },
   {
    "duration": 256,
    "start_time": "2023-01-22T20:44:54.080Z"
   },
   {
    "duration": 13,
    "start_time": "2023-01-22T20:44:54.338Z"
   },
   {
    "duration": 6,
    "start_time": "2023-01-22T20:44:54.352Z"
   },
   {
    "duration": 49,
    "start_time": "2023-01-22T20:44:54.359Z"
   },
   {
    "duration": 10,
    "start_time": "2023-01-22T20:44:54.410Z"
   },
   {
    "duration": 25,
    "start_time": "2023-01-22T20:44:54.422Z"
   },
   {
    "duration": 81,
    "start_time": "2023-01-22T20:44:54.449Z"
   },
   {
    "duration": 3,
    "start_time": "2023-01-22T20:44:54.532Z"
   },
   {
    "duration": 13,
    "start_time": "2023-01-22T20:44:54.538Z"
   },
   {
    "duration": 151,
    "start_time": "2023-01-22T20:44:54.552Z"
   },
   {
    "duration": 63,
    "start_time": "2023-01-22T20:44:54.705Z"
   },
   {
    "duration": 835,
    "start_time": "2023-01-22T20:44:54.770Z"
   },
   {
    "duration": 755,
    "start_time": "2023-01-22T20:44:55.607Z"
   },
   {
    "duration": 20,
    "start_time": "2023-01-22T20:44:56.364Z"
   },
   {
    "duration": 28,
    "start_time": "2023-01-22T20:44:56.386Z"
   },
   {
    "duration": 635,
    "start_time": "2023-01-22T20:44:56.417Z"
   },
   {
    "duration": 63,
    "start_time": "2023-01-22T20:44:57.053Z"
   },
   {
    "duration": 2,
    "start_time": "2023-01-22T20:44:57.118Z"
   },
   {
    "duration": 18,
    "start_time": "2023-01-22T20:44:57.121Z"
   },
   {
    "duration": 9,
    "start_time": "2023-01-22T20:44:57.141Z"
   },
   {
    "duration": 5593,
    "start_time": "2023-01-22T20:44:57.152Z"
   },
   {
    "duration": 1493,
    "start_time": "2023-01-22T20:45:02.747Z"
   },
   {
    "duration": 14,
    "start_time": "2023-01-22T20:45:04.242Z"
   },
   {
    "duration": 57,
    "start_time": "2023-01-22T20:45:04.257Z"
   },
   {
    "duration": 3,
    "start_time": "2023-01-22T20:45:04.316Z"
   },
   {
    "duration": 7,
    "start_time": "2023-01-22T20:45:04.320Z"
   },
   {
    "duration": 76,
    "start_time": "2023-01-22T20:45:04.328Z"
   },
   {
    "duration": 3,
    "start_time": "2023-01-22T20:45:04.406Z"
   },
   {
    "duration": 238,
    "start_time": "2023-01-22T20:45:04.410Z"
   },
   {
    "duration": 653,
    "start_time": "2023-01-22T20:45:04.649Z"
   },
   {
    "duration": 11,
    "start_time": "2023-01-22T20:45:05.303Z"
   },
   {
    "duration": 482,
    "start_time": "2023-01-22T20:45:05.315Z"
   },
   {
    "duration": 237,
    "start_time": "2023-01-22T20:45:05.798Z"
   },
   {
    "duration": 92,
    "start_time": "2023-01-22T20:45:06.037Z"
   },
   {
    "duration": 8,
    "start_time": "2023-01-22T20:45:06.131Z"
   },
   {
    "duration": 7,
    "start_time": "2023-01-22T20:45:06.141Z"
   },
   {
    "duration": 9,
    "start_time": "2023-01-22T20:45:06.149Z"
   },
   {
    "duration": 33979,
    "start_time": "2023-01-22T20:45:55.152Z"
   },
   {
    "duration": 1889,
    "start_time": "2023-01-22T20:46:29.133Z"
   },
   {
    "duration": 120,
    "start_time": "2023-01-22T20:46:41.873Z"
   },
   {
    "duration": 9,
    "start_time": "2023-01-22T20:48:28.352Z"
   },
   {
    "duration": 40,
    "start_time": "2023-01-22T20:52:03.852Z"
   },
   {
    "duration": 13,
    "start_time": "2023-01-22T20:52:09.179Z"
   },
   {
    "duration": 596,
    "start_time": "2023-01-22T20:52:36.692Z"
   },
   {
    "duration": 590,
    "start_time": "2023-01-22T20:54:01.618Z"
   },
   {
    "duration": 4841,
    "start_time": "2023-01-23T14:00:59.104Z"
   },
   {
    "duration": 2352,
    "start_time": "2023-01-23T14:01:03.948Z"
   },
   {
    "duration": 4,
    "start_time": "2023-01-23T14:01:06.302Z"
   },
   {
    "duration": 913,
    "start_time": "2023-01-23T14:01:06.308Z"
   },
   {
    "duration": 20,
    "start_time": "2023-01-23T14:01:07.223Z"
   },
   {
    "duration": 179,
    "start_time": "2023-01-23T14:01:07.244Z"
   },
   {
    "duration": 4,
    "start_time": "2023-01-23T14:01:07.425Z"
   },
   {
    "duration": 10,
    "start_time": "2023-01-23T14:01:07.431Z"
   },
   {
    "duration": 117,
    "start_time": "2023-01-23T14:01:07.443Z"
   },
   {
    "duration": 40,
    "start_time": "2023-01-23T14:01:07.561Z"
   },
   {
    "duration": 12,
    "start_time": "2023-01-23T14:01:07.603Z"
   },
   {
    "duration": 65,
    "start_time": "2023-01-23T14:01:07.617Z"
   },
   {
    "duration": 11,
    "start_time": "2023-01-23T14:01:07.685Z"
   },
   {
    "duration": 11,
    "start_time": "2023-01-23T14:01:07.698Z"
   },
   {
    "duration": 60,
    "start_time": "2023-01-23T14:01:07.710Z"
   },
   {
    "duration": 9,
    "start_time": "2023-01-23T14:01:07.772Z"
   },
   {
    "duration": 12,
    "start_time": "2023-01-23T14:01:07.783Z"
   },
   {
    "duration": 10,
    "start_time": "2023-01-23T14:01:07.797Z"
   },
   {
    "duration": 10,
    "start_time": "2023-01-23T14:01:07.809Z"
   },
   {
    "duration": 267,
    "start_time": "2023-01-23T14:01:07.820Z"
   },
   {
    "duration": 14,
    "start_time": "2023-01-23T14:01:08.089Z"
   },
   {
    "duration": 5,
    "start_time": "2023-01-23T14:01:08.104Z"
   },
   {
    "duration": 31,
    "start_time": "2023-01-23T14:01:08.110Z"
   },
   {
    "duration": 33,
    "start_time": "2023-01-23T14:01:08.142Z"
   },
   {
    "duration": 31,
    "start_time": "2023-01-23T14:01:08.181Z"
   },
   {
    "duration": 94,
    "start_time": "2023-01-23T14:01:08.214Z"
   },
   {
    "duration": 2,
    "start_time": "2023-01-23T14:01:08.310Z"
   },
   {
    "duration": 21,
    "start_time": "2023-01-23T14:01:08.314Z"
   },
   {
    "duration": 111,
    "start_time": "2023-01-23T14:01:08.336Z"
   },
   {
    "duration": 97,
    "start_time": "2023-01-23T14:01:08.449Z"
   },
   {
    "duration": 950,
    "start_time": "2023-01-23T14:01:08.548Z"
   },
   {
    "duration": 733,
    "start_time": "2023-01-23T14:01:09.500Z"
   },
   {
    "duration": 9,
    "start_time": "2023-01-23T14:01:10.235Z"
   },
   {
    "duration": 36,
    "start_time": "2023-01-23T14:01:10.245Z"
   },
   {
    "duration": 518,
    "start_time": "2023-01-23T14:01:10.282Z"
   },
   {
    "duration": 86,
    "start_time": "2023-01-23T14:01:10.801Z"
   },
   {
    "duration": 2,
    "start_time": "2023-01-23T14:01:10.889Z"
   },
   {
    "duration": 15,
    "start_time": "2023-01-23T14:01:10.893Z"
   },
   {
    "duration": 10,
    "start_time": "2023-01-23T14:01:10.910Z"
   },
   {
    "duration": 6880,
    "start_time": "2023-01-23T14:01:10.921Z"
   },
   {
    "duration": 1530,
    "start_time": "2023-01-23T14:01:17.806Z"
   },
   {
    "duration": 13,
    "start_time": "2023-01-23T14:01:19.337Z"
   },
   {
    "duration": 84,
    "start_time": "2023-01-23T14:01:19.352Z"
   },
   {
    "duration": 3,
    "start_time": "2023-01-23T14:01:19.437Z"
   },
   {
    "duration": 6,
    "start_time": "2023-01-23T14:01:19.441Z"
   },
   {
    "duration": 87,
    "start_time": "2023-01-23T14:01:19.448Z"
   },
   {
    "duration": 3,
    "start_time": "2023-01-23T14:01:19.536Z"
   },
   {
    "duration": 286,
    "start_time": "2023-01-23T14:01:19.540Z"
   },
   {
    "duration": 876,
    "start_time": "2023-01-23T14:01:19.828Z"
   },
   {
    "duration": 12,
    "start_time": "2023-01-23T14:01:20.706Z"
   },
   {
    "duration": 87,
    "start_time": "2023-01-23T14:01:20.719Z"
   },
   {
    "duration": 13,
    "start_time": "2023-01-23T14:01:20.808Z"
   },
   {
    "duration": 36,
    "start_time": "2023-01-23T14:01:20.822Z"
   },
   {
    "duration": 39,
    "start_time": "2023-01-23T14:01:20.860Z"
   },
   {
    "duration": 32,
    "start_time": "2023-01-23T14:01:20.900Z"
   },
   {
    "duration": 19,
    "start_time": "2023-01-23T14:01:20.934Z"
   },
   {
    "duration": 26,
    "start_time": "2023-01-23T14:01:20.955Z"
   },
   {
    "duration": 16,
    "start_time": "2023-01-23T14:01:20.982Z"
   },
   {
    "duration": 38,
    "start_time": "2023-01-23T14:01:21.000Z"
   },
   {
    "duration": 46,
    "start_time": "2023-01-23T14:01:21.040Z"
   },
   {
    "duration": 121181,
    "start_time": "2023-01-23T14:01:21.088Z"
   },
   {
    "duration": 10,
    "start_time": "2023-01-23T14:03:22.271Z"
   },
   {
    "duration": 0,
    "start_time": "2023-01-23T14:03:22.283Z"
   },
   {
    "duration": 0,
    "start_time": "2023-01-23T14:03:22.284Z"
   },
   {
    "duration": 0,
    "start_time": "2023-01-23T14:03:22.286Z"
   },
   {
    "duration": 0,
    "start_time": "2023-01-23T14:03:22.287Z"
   },
   {
    "duration": 0,
    "start_time": "2023-01-23T14:03:22.289Z"
   },
   {
    "duration": 0,
    "start_time": "2023-01-23T14:03:22.291Z"
   },
   {
    "duration": 0,
    "start_time": "2023-01-23T14:03:22.292Z"
   },
   {
    "duration": 0,
    "start_time": "2023-01-23T14:03:22.293Z"
   },
   {
    "duration": 0,
    "start_time": "2023-01-23T14:03:22.295Z"
   },
   {
    "duration": 0,
    "start_time": "2023-01-23T14:03:22.296Z"
   },
   {
    "duration": 0,
    "start_time": "2023-01-23T14:03:22.298Z"
   },
   {
    "duration": 0,
    "start_time": "2023-01-23T14:03:22.299Z"
   },
   {
    "duration": 0,
    "start_time": "2023-01-23T14:03:22.301Z"
   },
   {
    "duration": 0,
    "start_time": "2023-01-23T14:03:22.302Z"
   },
   {
    "duration": 0,
    "start_time": "2023-01-23T14:03:22.304Z"
   },
   {
    "duration": 0,
    "start_time": "2023-01-23T14:03:22.306Z"
   },
   {
    "duration": 0,
    "start_time": "2023-01-23T14:03:22.307Z"
   },
   {
    "duration": 0,
    "start_time": "2023-01-23T14:03:22.308Z"
   },
   {
    "duration": 0,
    "start_time": "2023-01-23T14:03:22.310Z"
   },
   {
    "duration": 0,
    "start_time": "2023-01-23T14:03:22.312Z"
   },
   {
    "duration": 0,
    "start_time": "2023-01-23T14:03:22.367Z"
   },
   {
    "duration": 0,
    "start_time": "2023-01-23T14:03:22.369Z"
   },
   {
    "duration": 0,
    "start_time": "2023-01-23T14:03:22.371Z"
   },
   {
    "duration": 0,
    "start_time": "2023-01-23T14:03:22.372Z"
   },
   {
    "duration": 0,
    "start_time": "2023-01-23T14:03:22.374Z"
   },
   {
    "duration": 0,
    "start_time": "2023-01-23T14:03:22.375Z"
   },
   {
    "duration": 0,
    "start_time": "2023-01-23T14:03:22.376Z"
   }
  ],
  "kernelspec": {
   "display_name": "Python 3 (ipykernel)",
   "language": "python",
   "name": "python3"
  },
  "language_info": {
   "codemirror_mode": {
    "name": "ipython",
    "version": 3
   },
   "file_extension": ".py",
   "mimetype": "text/x-python",
   "name": "python",
   "nbconvert_exporter": "python",
   "pygments_lexer": "ipython3",
   "version": "3.9.5"
  },
  "toc": {
   "base_numbering": 1,
   "nav_menu": {},
   "number_sections": true,
   "sideBar": true,
   "skip_h1_title": true,
   "title_cell": "Table of Contents",
   "title_sidebar": "Contents",
   "toc_cell": false,
   "toc_position": {},
   "toc_section_display": true,
   "toc_window_display": true
  }
 },
 "nbformat": 4,
 "nbformat_minor": 2
}
