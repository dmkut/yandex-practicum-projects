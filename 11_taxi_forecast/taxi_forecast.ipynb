{
 "cells": [
  {
   "cell_type": "markdown",
   "metadata": {
    "toc": true
   },
   "source": [
    "<h1>Содержание<span class=\"tocSkip\"></span></h1>\n",
    "<div class=\"toc\"><ul class=\"toc-item\"><li><span><a href=\"#Подготовка\" data-toc-modified-id=\"Подготовка-1\"><span class=\"toc-item-num\">1&nbsp;&nbsp;</span>Подготовка</a></span></li><li><span><a href=\"#Анализ\" data-toc-modified-id=\"Анализ-2\"><span class=\"toc-item-num\">2&nbsp;&nbsp;</span>Анализ</a></span></li><li><span><a href=\"#Обучение\" data-toc-modified-id=\"Обучение-3\"><span class=\"toc-item-num\">3&nbsp;&nbsp;</span>Обучение</a></span><ul class=\"toc-item\"><li><span><a href=\"#Линейная-регрессия\" data-toc-modified-id=\"Линейная-регрессия-3.1\"><span class=\"toc-item-num\">3.1&nbsp;&nbsp;</span>Линейная регрессия</a></span></li><li><span><a href=\"#Константная-модель\" data-toc-modified-id=\"Константная-модель-3.2\"><span class=\"toc-item-num\">3.2&nbsp;&nbsp;</span>Константная модель</a></span></li><li><span><a href=\"#GradientBoostingRegressor\" data-toc-modified-id=\"GradientBoostingRegressor-3.3\"><span class=\"toc-item-num\">3.3&nbsp;&nbsp;</span>GradientBoostingRegressor</a></span></li><li><span><a href=\"#Случайный-лес\" data-toc-modified-id=\"Случайный-лес-3.4\"><span class=\"toc-item-num\">3.4&nbsp;&nbsp;</span>Случайный лес</a></span></li><li><span><a href=\"#Подведем-итоги\" data-toc-modified-id=\"Подведем-итоги-3.5\"><span class=\"toc-item-num\">3.5&nbsp;&nbsp;</span>Подведем итоги</a></span></li></ul></li><li><span><a href=\"#Тестирование\" data-toc-modified-id=\"Тестирование-4\"><span class=\"toc-item-num\">4&nbsp;&nbsp;</span>Тестирование</a></span></li></ul></div>"
   ]
  },
  {
   "cell_type": "markdown",
   "metadata": {},
   "source": [
    "#  Прогнозирование заказов такси"
   ]
  },
  {
   "cell_type": "markdown",
   "metadata": {},
   "source": [
    "Компания «Чётенькое такси» собрала исторические данные о заказах такси в аэропортах. Чтобы привлекать больше водителей в период пиковой нагрузки, нужно спрогнозировать количество заказов такси на следующий час. \n",
    "\n",
    "Критерий: Значение метрики *RMSE* на тестовой выборке должно быть не больше 48.\n",
    "\n",
    "Нам нужно:\n",
    "\n",
    "1. Загрузить данные и выполнить их ресемплирование по одному часу.\n",
    "2. Проанализировать данные.\n",
    "3. Обучить разные модели с различными гиперпараметрами. Сделать тестовую выборку размером 10% от исходных данных.\n",
    "4. Проверить данные на тестовой выборке и сделать выводы.\n",
    "\n",
    "\n",
    "Данные лежат в файле `taxi.csv`. Количество заказов находится в столбце `num_orders`."
   ]
  },
  {
   "cell_type": "markdown",
   "metadata": {},
   "source": [
    "## Подготовка"
   ]
  },
  {
   "cell_type": "code",
   "execution_count": 170,
   "metadata": {},
   "outputs": [],
   "source": [
    "import warnings\n",
    "warnings.filterwarnings('ignore')\n",
    "\n",
    "\n",
    "import pandas as pd\n",
    "import numpy as np\n",
    "\n",
    "import matplotlib.pyplot as plt\n",
    "from matplotlib import rcParams, rcParamsDefault\n",
    "import seaborn as sns\n",
    "\n",
    "from statsmodels.tsa.seasonal import seasonal_decompose\n",
    "from sklearn.model_selection import TimeSeriesSplit\n",
    "\n",
    "from sklearn.dummy import DummyRegressor\n",
    "from sklearn.ensemble import RandomForestRegressor\n",
    "from sklearn.ensemble import GradientBoostingRegressor\n",
    "from sklearn.linear_model import LinearRegression\n",
    "\n",
    "# инструменты\n",
    "from sklearn.compose import make_column_transformer\n",
    "from sklearn.metrics import mean_squared_error\n",
    "from sklearn.model_selection import RandomizedSearchCV\n",
    "from sklearn.metrics import make_scorer\n",
    "from sklearn.model_selection import train_test_split\n",
    "from sklearn.model_selection import cross_val_score"
   ]
  },
  {
   "cell_type": "code",
   "execution_count": 171,
   "metadata": {},
   "outputs": [
    {
     "data": {
      "text/html": [
       "<div>\n",
       "<style scoped>\n",
       "    .dataframe tbody tr th:only-of-type {\n",
       "        vertical-align: middle;\n",
       "    }\n",
       "\n",
       "    .dataframe tbody tr th {\n",
       "        vertical-align: top;\n",
       "    }\n",
       "\n",
       "    .dataframe thead th {\n",
       "        text-align: right;\n",
       "    }\n",
       "</style>\n",
       "<table border=\"1\" class=\"dataframe\">\n",
       "  <thead>\n",
       "    <tr style=\"text-align: right;\">\n",
       "      <th></th>\n",
       "      <th>num_orders</th>\n",
       "    </tr>\n",
       "    <tr>\n",
       "      <th>datetime</th>\n",
       "      <th></th>\n",
       "    </tr>\n",
       "  </thead>\n",
       "  <tbody>\n",
       "    <tr>\n",
       "      <th>2018-03-01 00:00:00</th>\n",
       "      <td>9</td>\n",
       "    </tr>\n",
       "    <tr>\n",
       "      <th>2018-03-01 00:10:00</th>\n",
       "      <td>14</td>\n",
       "    </tr>\n",
       "    <tr>\n",
       "      <th>2018-03-01 00:20:00</th>\n",
       "      <td>28</td>\n",
       "    </tr>\n",
       "    <tr>\n",
       "      <th>2018-03-01 00:30:00</th>\n",
       "      <td>20</td>\n",
       "    </tr>\n",
       "    <tr>\n",
       "      <th>2018-03-01 00:40:00</th>\n",
       "      <td>32</td>\n",
       "    </tr>\n",
       "  </tbody>\n",
       "</table>\n",
       "</div>"
      ],
      "text/plain": [
       "                     num_orders\n",
       "datetime                       \n",
       "2018-03-01 00:00:00           9\n",
       "2018-03-01 00:10:00          14\n",
       "2018-03-01 00:20:00          28\n",
       "2018-03-01 00:30:00          20\n",
       "2018-03-01 00:40:00          32"
      ]
     },
     "execution_count": 171,
     "metadata": {},
     "output_type": "execute_result"
    }
   ],
   "source": [
    "data = pd.read_csv('/datasets/taxi.csv', index_col=[0], parse_dates=[0])\n",
    "data.head()"
   ]
  },
  {
   "cell_type": "code",
   "execution_count": 172,
   "metadata": {},
   "outputs": [
    {
     "name": "stdout",
     "output_type": "stream",
     "text": [
      "<class 'pandas.core.frame.DataFrame'>\n",
      "DatetimeIndex: 26496 entries, 2018-03-01 00:00:00 to 2018-08-31 23:50:00\n",
      "Data columns (total 1 columns):\n",
      " #   Column      Non-Null Count  Dtype\n",
      "---  ------      --------------  -----\n",
      " 0   num_orders  26496 non-null  int64\n",
      "dtypes: int64(1)\n",
      "memory usage: 414.0 KB\n"
     ]
    }
   ],
   "source": [
    "data.info()"
   ]
  },
  {
   "cell_type": "markdown",
   "metadata": {},
   "source": [
    "Пропусков в данных нет, предобработка не требуется"
   ]
  },
  {
   "cell_type": "code",
   "execution_count": 173,
   "metadata": {},
   "outputs": [],
   "source": [
    "data.sort_index(inplace=True)"
   ]
  },
  {
   "cell_type": "code",
   "execution_count": 174,
   "metadata": {},
   "outputs": [
    {
     "data": {
      "image/png": "[encoded data removed]",
      "text/plain": [
       "<Figure size 1080x504 with 1 Axes>"
      ]
     },
     "metadata": {
      "needs_background": "light"
     },
     "output_type": "display_data"
    }
   ],
   "source": [
    "plt.figure(figsize=(15, 7))\n",
    "plt.xlabel('Дата')\n",
    "plt.ylabel('Вызовы')\n",
    "plt.title('Динамика вызовов')\n",
    "plt.grid(True)\n",
    "plt.plot(data)\n",
    "plt.show()"
   ]
  },
  {
   "cell_type": "markdown",
   "metadata": {},
   "source": [
    "Некоторые дни имеют пиковую активность, ближе к сентябрю спрос на такси вырос."
   ]
  },
  {
   "cell_type": "markdown",
   "metadata": {},
   "source": [
    "Выполним ресемплировнаие данных с разделеинем по одному часу."
   ]
  },
  {
   "cell_type": "code",
   "execution_count": 175,
   "metadata": {},
   "outputs": [],
   "source": [
    "data = data.resample('1H').sum()"
   ]
  },
  {
   "cell_type": "code",
   "execution_count": 176,
   "metadata": {},
   "outputs": [
    {
     "data": {
      "text/html": [
       "<div>\n",
       "<style scoped>\n",
       "    .dataframe tbody tr th:only-of-type {\n",
       "        vertical-align: middle;\n",
       "    }\n",
       "\n",
       "    .dataframe tbody tr th {\n",
       "        vertical-align: top;\n",
       "    }\n",
       "\n",
       "    .dataframe thead th {\n",
       "        text-align: right;\n",
       "    }\n",
       "</style>\n",
       "<table border=\"1\" class=\"dataframe\">\n",
       "  <thead>\n",
       "    <tr style=\"text-align: right;\">\n",
       "      <th></th>\n",
       "      <th>num_orders</th>\n",
       "    </tr>\n",
       "    <tr>\n",
       "      <th>datetime</th>\n",
       "      <th></th>\n",
       "    </tr>\n",
       "  </thead>\n",
       "  <tbody>\n",
       "    <tr>\n",
       "      <th>2018-03-01 00:00:00</th>\n",
       "      <td>124</td>\n",
       "    </tr>\n",
       "    <tr>\n",
       "      <th>2018-03-01 01:00:00</th>\n",
       "      <td>85</td>\n",
       "    </tr>\n",
       "    <tr>\n",
       "      <th>2018-03-01 02:00:00</th>\n",
       "      <td>71</td>\n",
       "    </tr>\n",
       "    <tr>\n",
       "      <th>2018-03-01 03:00:00</th>\n",
       "      <td>66</td>\n",
       "    </tr>\n",
       "    <tr>\n",
       "      <th>2018-03-01 04:00:00</th>\n",
       "      <td>43</td>\n",
       "    </tr>\n",
       "  </tbody>\n",
       "</table>\n",
       "</div>"
      ],
      "text/plain": [
       "                     num_orders\n",
       "datetime                       \n",
       "2018-03-01 00:00:00         124\n",
       "2018-03-01 01:00:00          85\n",
       "2018-03-01 02:00:00          71\n",
       "2018-03-01 03:00:00          66\n",
       "2018-03-01 04:00:00          43"
      ]
     },
     "execution_count": 176,
     "metadata": {},
     "output_type": "execute_result"
    }
   ],
   "source": [
    "data.head()"
   ]
  },
  {
   "cell_type": "markdown",
   "metadata": {},
   "source": [
    "Напишем функцию для создания новых признаков"
   ]
  },
  {
   "cell_type": "code",
   "execution_count": 177,
   "metadata": {},
   "outputs": [],
   "source": [
    "def make_features(data, max_lag, rolling_mean_size):\n",
    "    data_new = data\n",
    "    data_new['year'] = data_new.index.year\n",
    "    data_new['month'] = data_new.index.month\n",
    "    data_new['day'] = data_new.index.day\n",
    "    data_new['dayofweek'] = data_new.index.dayofweek\n",
    "    \n",
    "    for lag in range(1, max_lag + 1):\n",
    "        data_new['lag_{}'.format(lag)] = data_new['num_orders'].shift(lag)\n",
    "\n",
    "    data_new['rolling_mean'] = data_new['num_orders'].shift().rolling(rolling_mean_size).mean()\n",
    "    return data_new"
   ]
  },
  {
   "cell_type": "markdown",
   "metadata": {},
   "source": [
    "## Анализ"
   ]
  },
  {
   "cell_type": "markdown",
   "metadata": {},
   "source": [
    "Проанализируем динамику вызовов на промежутке март-сентябрь 2018"
   ]
  },
  {
   "cell_type": "code",
   "execution_count": 178,
   "metadata": {},
   "outputs": [
    {
     "data": {
      "image/png": "[encoded data removed]",
      "text/plain": [
       "<Figure size 1080x504 with 1 Axes>"
      ]
     },
     "metadata": {
      "needs_background": "light"
     },
     "output_type": "display_data"
    }
   ],
   "source": [
    "plt.figure(figsize=(15, 7))\n",
    "plt.xlabel('Дата')\n",
    "plt.ylabel('Вызовы')\n",
    "plt.title('Динамика вызовов по дням')\n",
    "plt.legend(['sdf', 'sdgs'], loc=2)\n",
    "plt.plot(data.resample('1D').sum())\n",
    "plt.plot(data.resample('1D').sum().rolling(10).mean())\n",
    "plt.grid(True)\n",
    "plt.show()"
   ]
  },
  {
   "cell_type": "markdown",
   "metadata": {},
   "source": [
    "Начиная с января, среднее количество вызовов возрастает к концу каждого месяца, при этом общая тенденция показывает рост количества ежедневных вызовов к сентябрь, что может быть связано с началом учебного года."
   ]
  },
  {
   "cell_type": "code",
   "execution_count": 179,
   "metadata": {},
   "outputs": [
    {
     "data": {
      "image/png": "[encoded data removed]",
      "text/plain": [
       "<Figure size 648x648 with 4 Axes>"
      ]
     },
     "metadata": {
      "needs_background": "light"
     },
     "output_type": "display_data"
    }
   ],
   "source": [
    "rcParams['figure.figsize'] = 9, 9\n",
    "decompose = seasonal_decompose(data.resample('1D').sum())\n",
    "decompose.plot()\n",
    "plt.show()"
   ]
  },
  {
   "cell_type": "code",
   "execution_count": 180,
   "metadata": {},
   "outputs": [
    {
     "data": {
      "image/png": "[encoded data removed]",
      "text/plain": [
       "<Figure size 648x648 with 1 Axes>"
      ]
     },
     "metadata": {
      "needs_background": "light"
     },
     "output_type": "display_data"
    }
   ],
   "source": [
    "rcParams['figure.figsize'] = 9, 9\n",
    "decompose = seasonal_decompose(data['2018-05':'2018-06'].resample('1d').sum()).seasonal\n",
    "decompose.plot()\n",
    "plt.grid(True)\n",
    "plt.show()"
   ]
  },
  {
   "cell_type": "markdown",
   "metadata": {},
   "source": [
    "График тренда имеет восходящий характер, что говорит о росте спроса ближе к концу года. При этом данные обладают качеством сезонности в одну неделю с пиковыми нагрузками в середине недели и на выходных."
   ]
  },
  {
   "cell_type": "markdown",
   "metadata": {},
   "source": [
    "## Обучение"
   ]
  },
  {
   "cell_type": "markdown",
   "metadata": {},
   "source": [
    "### Линейная регрессия"
   ]
  },
  {
   "cell_type": "markdown",
   "metadata": {},
   "source": [
    "Создадим функцию расчета RMSE"
   ]
  },
  {
   "cell_type": "code",
   "execution_count": 181,
   "metadata": {},
   "outputs": [],
   "source": [
    "def rmse (target, predict):\n",
    "    return mean_squared_error(target, predict)**0.5"
   ]
  },
  {
   "cell_type": "code",
   "execution_count": 182,
   "metadata": {},
   "outputs": [],
   "source": [
    "rmse_scorer = make_scorer(rmse, greater_is_better=False)"
   ]
  },
  {
   "cell_type": "markdown",
   "metadata": {},
   "source": [
    "Изучим влияние количества признаков с отстающими значениями и коэффициента скользящего среднего."
   ]
  },
  {
   "cell_type": "code",
   "execution_count": 183,
   "metadata": {},
   "outputs": [],
   "source": [
    "# %%time\n",
    "# result_train = []\n",
    "# for i in range(100, 1001, 50):\n",
    "#     result_1 = []\n",
    "#     for j in range(10, 101, 10):\n",
    "#         data_exp = make_features(data, i, j)\n",
    "#         train, test = train_test_split(data_exp, shuffle=False, test_size=0.1)\n",
    "#         train = train.dropna()\n",
    "\n",
    "#         y_train, y_test = train['num_orders'], test['num_orders']\n",
    "#         X_train, X_test = train.drop(columns=['num_orders']), test.drop(columns=['num_orders'])\n",
    "        \n",
    "#         model = LinearRegression()\n",
    "#         model.fit(X_train, y_train)\n",
    "        \n",
    "#         predict_1 = model.predict(X_train)\n",
    "#         score_1 = rmse(predict_1, y_train)\n",
    "#         result_1.append(score_1)\n",
    "        \n",
    "#     result_train.append(result_1)"
   ]
  },
  {
   "cell_type": "code",
   "execution_count": 184,
   "metadata": {},
   "outputs": [],
   "source": [
    "# result = pd.DataFrame(result_train, range(100, 1001, 50), range(10, 101, 10))"
   ]
  },
  {
   "cell_type": "code",
   "execution_count": 185,
   "metadata": {},
   "outputs": [],
   "source": [
    "# result"
   ]
  },
  {
   "cell_type": "code",
   "execution_count": 186,
   "metadata": {},
   "outputs": [],
   "source": [
    "# result.min()"
   ]
  },
  {
   "cell_type": "code",
   "execution_count": 187,
   "metadata": {},
   "outputs": [],
   "source": [
    "# пустая строка"
   ]
  },
  {
   "cell_type": "markdown",
   "metadata": {},
   "source": [
    "Для кросс-валидации временного ряда используем TimeSeriesSplit"
   ]
  },
  {
   "cell_type": "code",
   "execution_count": 208,
   "metadata": {},
   "outputs": [],
   "source": [
    "cv = TimeSeriesSplit()"
   ]
  },
  {
   "cell_type": "markdown",
   "metadata": {},
   "source": [
    "Определим примерную величину сдвига временного ряда для формирования признаков исходя из размера тестовой выборки."
   ]
  },
  {
   "cell_type": "code",
   "execution_count": 190,
   "metadata": {},
   "outputs": [
    {
     "data": {
      "text/plain": [
       "441"
      ]
     },
     "execution_count": 190,
     "metadata": {},
     "output_type": "execute_result"
    }
   ],
   "source": [
    "sh = data.shape[0] * 0.1\n",
    "sh = int(sh)\n",
    "sh"
   ]
  },
  {
   "cell_type": "code",
   "execution_count": 191,
   "metadata": {},
   "outputs": [],
   "source": [
    "data_feat = make_features(data, sh, 10)"
   ]
  },
  {
   "cell_type": "markdown",
   "metadata": {},
   "source": [
    "Разделим выборку на тренировочную и тестовую"
   ]
  },
  {
   "cell_type": "code",
   "execution_count": 192,
   "metadata": {},
   "outputs": [],
   "source": [
    "train, test = train_test_split(data_feat, shuffle=False, test_size=0.1)\n",
    "train = train.dropna()\n",
    "\n",
    "y_train, y_test = train['num_orders'], test['num_orders']\n",
    "X_train, X_test = train.drop(columns=['num_orders']), test.drop(columns=['num_orders'])"
   ]
  },
  {
   "cell_type": "code",
   "execution_count": 193,
   "metadata": {},
   "outputs": [
    {
     "name": "stdout",
     "output_type": "stream",
     "text": [
      "<class 'pandas.core.frame.DataFrame'>\n",
      "DatetimeIndex: 442 entries, 2018-08-13 14:00:00 to 2018-08-31 23:00:00\n",
      "Freq: H\n",
      "Columns: 446 entries, year to rolling_mean\n",
      "dtypes: float64(442), int64(4)\n",
      "memory usage: 1.5 MB\n"
     ]
    }
   ],
   "source": [
    "X_test.info()"
   ]
  },
  {
   "cell_type": "code",
   "execution_count": 194,
   "metadata": {},
   "outputs": [
    {
     "data": {
      "text/plain": [
       "LinearRegression()"
      ]
     },
     "execution_count": 194,
     "metadata": {},
     "output_type": "execute_result"
    }
   ],
   "source": [
    "model = LinearRegression()\n",
    "model.fit(X_train, y_train)    "
   ]
  },
  {
   "cell_type": "code",
   "execution_count": 195,
   "metadata": {},
   "outputs": [
    {
     "data": {
      "text/plain": [
       "19.24444432471411"
      ]
     },
     "execution_count": 195,
     "metadata": {},
     "output_type": "execute_result"
    }
   ],
   "source": [
    "model_pred = model.predict(X_train)\n",
    "rmse(model_pred, y_train)"
   ]
  },
  {
   "cell_type": "code",
   "execution_count": 196,
   "metadata": {},
   "outputs": [],
   "source": [
    "line_cv = -cross_val_score(model, X_train, y_train, cv=cv, scoring=rmse_scorer).mean()"
   ]
  },
  {
   "cell_type": "code",
   "execution_count": 197,
   "metadata": {},
   "outputs": [
    {
     "data": {
      "text/plain": [
       "26.885114117929547"
      ]
     },
     "execution_count": 197,
     "metadata": {},
     "output_type": "execute_result"
    }
   ],
   "source": [
    "line_cv"
   ]
  },
  {
   "cell_type": "markdown",
   "metadata": {},
   "source": [
    "RMSE тренировочной выборки 26.88 далее рассмотрим другие модели."
   ]
  },
  {
   "cell_type": "markdown",
   "metadata": {},
   "source": [
    "### Константная модель"
   ]
  },
  {
   "cell_type": "code",
   "execution_count": 201,
   "metadata": {},
   "outputs": [
    {
     "data": {
      "text/plain": [
       "DummyRegressor(strategy='median')"
      ]
     },
     "execution_count": 201,
     "metadata": {},
     "output_type": "execute_result"
    }
   ],
   "source": [
    "dummy_regr = DummyRegressor(strategy=\"median\")\n",
    "dummy_regr.fit(X_train, y_train)"
   ]
  },
  {
   "cell_type": "code",
   "execution_count": 202,
   "metadata": {},
   "outputs": [
    {
     "data": {
      "text/plain": [
       "38.93054844982304"
      ]
     },
     "execution_count": 202,
     "metadata": {},
     "output_type": "execute_result"
    }
   ],
   "source": [
    "dummy_pred = dummy_regr.predict(X_train)\n",
    "rmse(dummy_pred, y_train)"
   ]
  },
  {
   "cell_type": "code",
   "execution_count": 203,
   "metadata": {},
   "outputs": [
    {
     "data": {
      "text/plain": [
       "40.433800377981456"
      ]
     },
     "execution_count": 203,
     "metadata": {},
     "output_type": "execute_result"
    }
   ],
   "source": [
    "-cross_val_score(dummy_regr, X_train, y_train, cv=cv, scoring=rmse_scorer).mean()"
   ]
  },
  {
   "cell_type": "markdown",
   "metadata": {},
   "source": [
    "Константная модель устанавливает порог в 40.43 RMSE"
   ]
  },
  {
   "cell_type": "markdown",
   "metadata": {},
   "source": [
    "### GradientBoostingRegressor"
   ]
  },
  {
   "cell_type": "code",
   "execution_count": 204,
   "metadata": {},
   "outputs": [],
   "source": [
    "gbr = GradientBoostingRegressor(random_state=12345)"
   ]
  },
  {
   "cell_type": "code",
   "execution_count": 144,
   "metadata": {},
   "outputs": [],
   "source": [
    "gbr_params = {}\n",
    "gbr_params['n_estimators'] = [i for i in np.arange(300, 350, 10)]\n",
    "gbr_params['max_depth'] = [i for i in np.arange(4, 8)]\n",
    "gbr_params['min_samples_split'] = [i for i in np.arange(6, 12, 2)]"
   ]
  },
  {
   "cell_type": "code",
   "execution_count": 209,
   "metadata": {},
   "outputs": [],
   "source": [
    "gbr_random = RandomizedSearchCV(gbr, gbr_params, n_iter=5, cv=cv, verbose=2,\n",
    "                                  random_state=12345, scoring=rmse_scorer, n_jobs=-1)"
   ]
  },
  {
   "cell_type": "code",
   "execution_count": 210,
   "metadata": {},
   "outputs": [
    {
     "name": "stdout",
     "output_type": "stream",
     "text": [
      "Fitting 5 folds for each of 5 candidates, totalling 25 fits\n",
      "[CV] END .max_depth=7, min_samples_split=8, n_estimators=300; total time=  32.4s\n",
      "[CV] END .max_depth=7, min_samples_split=8, n_estimators=300; total time= 1.0min\n",
      "[CV] END .max_depth=7, min_samples_split=8, n_estimators=300; total time= 1.5min\n",
      "[CV] END .max_depth=7, min_samples_split=8, n_estimators=300; total time= 2.0min\n",
      "[CV] END .max_depth=7, min_samples_split=8, n_estimators=300; total time= 2.6min\n",
      "[CV] END max_depth=6, min_samples_split=10, n_estimators=320; total time=  29.8s\n",
      "[CV] END max_depth=6, min_samples_split=10, n_estimators=320; total time=  57.1s\n",
      "[CV] END max_depth=6, min_samples_split=10, n_estimators=320; total time= 1.4min\n",
      "[CV] END max_depth=6, min_samples_split=10, n_estimators=320; total time= 1.9min\n",
      "[CV] END max_depth=6, min_samples_split=10, n_estimators=320; total time= 2.3min\n",
      "[CV] END .max_depth=6, min_samples_split=6, n_estimators=300; total time=  27.9s\n",
      "[CV] END .max_depth=6, min_samples_split=6, n_estimators=300; total time=  53.2s\n",
      "[CV] END .max_depth=6, min_samples_split=6, n_estimators=300; total time= 1.3min\n",
      "[CV] END .max_depth=6, min_samples_split=6, n_estimators=300; total time= 1.7min\n",
      "[CV] END .max_depth=6, min_samples_split=6, n_estimators=300; total time= 2.2min\n",
      "[CV] END .max_depth=7, min_samples_split=6, n_estimators=300; total time=  32.2s\n",
      "[CV] END .max_depth=7, min_samples_split=6, n_estimators=300; total time= 1.0min\n",
      "[CV] END .max_depth=7, min_samples_split=6, n_estimators=300; total time= 1.5min\n",
      "[CV] END .max_depth=7, min_samples_split=6, n_estimators=300; total time= 2.0min\n",
      "[CV] END .max_depth=7, min_samples_split=6, n_estimators=300; total time= 2.6min\n",
      "[CV] END .max_depth=5, min_samples_split=8, n_estimators=320; total time=  24.9s\n",
      "[CV] END .max_depth=5, min_samples_split=8, n_estimators=320; total time=  47.5s\n",
      "[CV] END .max_depth=5, min_samples_split=8, n_estimators=320; total time= 1.2min\n",
      "[CV] END .max_depth=5, min_samples_split=8, n_estimators=320; total time= 1.6min\n",
      "[CV] END .max_depth=5, min_samples_split=8, n_estimators=320; total time= 1.9min\n",
      "CPU times: user 37min 11s, sys: 3.2 s, total: 37min 15s\n",
      "Wall time: 37min 17s\n"
     ]
    },
    {
     "data": {
      "text/plain": [
       "RandomizedSearchCV(cv=TimeSeriesSplit(gap=0, max_train_size=None, n_splits=5, test_size=None),\n",
       "                   estimator=GradientBoostingRegressor(random_state=12345),\n",
       "                   n_iter=5, n_jobs=-1,\n",
       "                   param_distributions={'max_depth': [4, 5, 6, 7],\n",
       "                                        'min_samples_split': [6, 8, 10],\n",
       "                                        'n_estimators': [300, 310, 320, 330,\n",
       "                                                         340]},\n",
       "                   random_state=12345,\n",
       "                   scoring=make_scorer(rmse, greater_is_better=False),\n",
       "                   verbose=2)"
      ]
     },
     "execution_count": 210,
     "metadata": {},
     "output_type": "execute_result"
    }
   ],
   "source": [
    "%%time\n",
    "gbr_random.fit(X_train, y_train)"
   ]
  },
  {
   "cell_type": "code",
   "execution_count": 211,
   "metadata": {},
   "outputs": [
    {
     "data": {
      "text/plain": [
       "{'n_estimators': 320, 'min_samples_split': 8, 'max_depth': 5}"
      ]
     },
     "execution_count": 211,
     "metadata": {},
     "output_type": "execute_result"
    }
   ],
   "source": [
    "gbr_random.best_params_"
   ]
  },
  {
   "cell_type": "code",
   "execution_count": 212,
   "metadata": {},
   "outputs": [
    {
     "data": {
      "text/plain": [
       "23.4612700624237"
      ]
     },
     "execution_count": 212,
     "metadata": {},
     "output_type": "execute_result"
    }
   ],
   "source": [
    "abs(gbr_random.best_score_)"
   ]
  },
  {
   "cell_type": "markdown",
   "metadata": {},
   "source": [
    "Градиентный бустинг по результатам кросс-валидации показал 23 RMSE"
   ]
  },
  {
   "cell_type": "markdown",
   "metadata": {},
   "source": [
    "### Случайный лес"
   ]
  },
  {
   "cell_type": "code",
   "execution_count": 150,
   "metadata": {},
   "outputs": [],
   "source": [
    "forest = RandomForestRegressor(random_state=12345)"
   ]
  },
  {
   "cell_type": "code",
   "execution_count": 151,
   "metadata": {},
   "outputs": [],
   "source": [
    "distributions = {}\n",
    "distributions['n_estimators'] = [i for i in np.arange(400, 500, 10)]\n",
    "distributions['max_depth'] = [None] + [i for i in range(1, 3)]\n",
    "distributions['bootstrap'] = [True, False]"
   ]
  },
  {
   "cell_type": "code",
   "execution_count": 153,
   "metadata": {},
   "outputs": [],
   "source": [
    "forest_random = RandomizedSearchCV(forest, distributions, n_iter=7, cv=cv, verbose=2,\n",
    "                                  random_state=12345, scoring=rmse_scorer, n_jobs=-1)"
   ]
  },
  {
   "cell_type": "code",
   "execution_count": 154,
   "metadata": {},
   "outputs": [
    {
     "name": "stdout",
     "output_type": "stream",
     "text": [
      "Fitting 9 folds for each of 7 candidates, totalling 63 fits\n",
      "[CV] END .....bootstrap=False, max_depth=2, n_estimators=400; total time=   0.7s\n",
      "[CV] END .....bootstrap=False, max_depth=2, n_estimators=400; total time=   1.0s\n",
      "[CV] END .....bootstrap=False, max_depth=2, n_estimators=400; total time=   1.4s\n",
      "[CV] END .....bootstrap=False, max_depth=2, n_estimators=400; total time=   1.7s\n",
      "[CV] END .....bootstrap=False, max_depth=2, n_estimators=400; total time=   2.1s\n",
      "[CV] END .....bootstrap=False, max_depth=2, n_estimators=400; total time=   2.5s\n",
      "[CV] END .....bootstrap=False, max_depth=2, n_estimators=400; total time=   2.9s\n",
      "[CV] END .....bootstrap=False, max_depth=2, n_estimators=400; total time=   3.2s\n",
      "[CV] END .....bootstrap=False, max_depth=2, n_estimators=400; total time=   3.6s\n",
      "[CV] END .....bootstrap=False, max_depth=1, n_estimators=420; total time=   0.5s\n",
      "[CV] END .....bootstrap=False, max_depth=1, n_estimators=420; total time=   0.7s\n",
      "[CV] END .....bootstrap=False, max_depth=1, n_estimators=420; total time=   0.8s\n",
      "[CV] END .....bootstrap=False, max_depth=1, n_estimators=420; total time=   1.0s\n",
      "[CV] END .....bootstrap=False, max_depth=1, n_estimators=420; total time=   1.2s\n",
      "[CV] END .....bootstrap=False, max_depth=1, n_estimators=420; total time=   1.4s\n",
      "[CV] END .....bootstrap=False, max_depth=1, n_estimators=420; total time=   1.8s\n",
      "[CV] END .....bootstrap=False, max_depth=1, n_estimators=420; total time=   1.8s\n",
      "[CV] END .....bootstrap=False, max_depth=1, n_estimators=420; total time=   2.0s\n",
      "[CV] END ..bootstrap=False, max_depth=None, n_estimators=400; total time=   2.6s\n",
      "[CV] END ..bootstrap=False, max_depth=None, n_estimators=400; total time=   5.2s\n",
      "[CV] END ..bootstrap=False, max_depth=None, n_estimators=400; total time=   7.8s\n",
      "[CV] END ..bootstrap=False, max_depth=None, n_estimators=400; total time=  11.4s\n",
      "[CV] END ..bootstrap=False, max_depth=None, n_estimators=400; total time=  13.8s\n",
      "[CV] END ..bootstrap=False, max_depth=None, n_estimators=400; total time=  17.0s\n",
      "[CV] END ..bootstrap=False, max_depth=None, n_estimators=400; total time=  20.4s\n",
      "[CV] END ..bootstrap=False, max_depth=None, n_estimators=400; total time=  23.6s\n",
      "[CV] END ..bootstrap=False, max_depth=None, n_estimators=400; total time=  27.2s\n",
      "[CV] END .....bootstrap=False, max_depth=1, n_estimators=450; total time=   0.5s\n",
      "[CV] END .....bootstrap=False, max_depth=1, n_estimators=450; total time=   0.7s\n",
      "[CV] END .....bootstrap=False, max_depth=1, n_estimators=450; total time=   0.9s\n",
      "[CV] END .....bootstrap=False, max_depth=1, n_estimators=450; total time=   1.1s\n",
      "[CV] END .....bootstrap=False, max_depth=1, n_estimators=450; total time=   1.3s\n",
      "[CV] END .....bootstrap=False, max_depth=1, n_estimators=450; total time=   1.5s\n",
      "[CV] END .....bootstrap=False, max_depth=1, n_estimators=450; total time=   1.7s\n",
      "[CV] END .....bootstrap=False, max_depth=1, n_estimators=450; total time=   1.9s\n",
      "[CV] END .....bootstrap=False, max_depth=1, n_estimators=450; total time=   2.2s\n",
      "[CV] END ......bootstrap=True, max_depth=2, n_estimators=420; total time=   0.7s\n",
      "[CV] END ......bootstrap=True, max_depth=2, n_estimators=420; total time=   1.0s\n",
      "[CV] END ......bootstrap=True, max_depth=2, n_estimators=420; total time=   1.2s\n",
      "[CV] END ......bootstrap=True, max_depth=2, n_estimators=420; total time=   1.4s\n",
      "[CV] END ......bootstrap=True, max_depth=2, n_estimators=420; total time=   1.7s\n",
      "[CV] END ......bootstrap=True, max_depth=2, n_estimators=420; total time=   1.9s\n",
      "[CV] END ......bootstrap=True, max_depth=2, n_estimators=420; total time=   2.2s\n",
      "[CV] END ......bootstrap=True, max_depth=2, n_estimators=420; total time=   2.5s\n",
      "[CV] END ......bootstrap=True, max_depth=2, n_estimators=420; total time=   2.8s\n",
      "[CV] END .....bootstrap=False, max_depth=1, n_estimators=470; total time=   0.5s\n",
      "[CV] END .....bootstrap=False, max_depth=1, n_estimators=470; total time=   0.8s\n",
      "[CV] END .....bootstrap=False, max_depth=1, n_estimators=470; total time=   0.9s\n",
      "[CV] END .....bootstrap=False, max_depth=1, n_estimators=470; total time=   1.2s\n",
      "[CV] END .....bootstrap=False, max_depth=1, n_estimators=470; total time=   1.4s\n",
      "[CV] END .....bootstrap=False, max_depth=1, n_estimators=470; total time=   1.6s\n",
      "[CV] END .....bootstrap=False, max_depth=1, n_estimators=470; total time=   1.8s\n",
      "[CV] END .....bootstrap=False, max_depth=1, n_estimators=470; total time=   2.0s\n",
      "[CV] END .....bootstrap=False, max_depth=1, n_estimators=470; total time=   2.2s\n",
      "[CV] END .....bootstrap=False, max_depth=2, n_estimators=430; total time=   0.7s\n",
      "[CV] END .....bootstrap=False, max_depth=2, n_estimators=430; total time=   1.1s\n",
      "[CV] END .....bootstrap=False, max_depth=2, n_estimators=430; total time=   1.5s\n",
      "[CV] END .....bootstrap=False, max_depth=2, n_estimators=430; total time=   1.9s\n",
      "[CV] END .....bootstrap=False, max_depth=2, n_estimators=430; total time=   2.3s\n",
      "[CV] END .....bootstrap=False, max_depth=2, n_estimators=430; total time=   2.6s\n",
      "[CV] END .....bootstrap=False, max_depth=2, n_estimators=430; total time=   3.1s\n",
      "[CV] END .....bootstrap=False, max_depth=2, n_estimators=430; total time=   3.5s\n",
      "[CV] END .....bootstrap=False, max_depth=2, n_estimators=430; total time=   3.8s\n",
      "CPU times: user 3min 41s, sys: 933 ms, total: 3min 42s\n",
      "Wall time: 3min 42s\n"
     ]
    },
    {
     "data": {
      "text/plain": [
       "RandomizedSearchCV(cv=TimeSeriesSplit(gap=0, max_train_size=None, n_splits=9, test_size=None),\n",
       "                   estimator=RandomForestRegressor(random_state=12345),\n",
       "                   n_iter=7, n_jobs=-1,\n",
       "                   param_distributions={'bootstrap': [True, False],\n",
       "                                        'max_depth': [None, 1, 2],\n",
       "                                        'n_estimators': [400, 410, 420, 430,\n",
       "                                                         440, 450, 460, 470,\n",
       "                                                         480, 490]},\n",
       "                   random_state=12345,\n",
       "                   scoring=make_scorer(rmse, greater_is_better=False),\n",
       "                   verbose=2)"
      ]
     },
     "execution_count": 154,
     "metadata": {},
     "output_type": "execute_result"
    }
   ],
   "source": [
    "%%time\n",
    "forest_random.fit(X_train, y_train)"
   ]
  },
  {
   "cell_type": "code",
   "execution_count": 67,
   "metadata": {},
   "outputs": [
    {
     "data": {
      "text/plain": [
       "{'n_estimators': 480, 'max_depth': 3, 'bootstrap': True}"
      ]
     },
     "execution_count": 67,
     "metadata": {},
     "output_type": "execute_result"
    }
   ],
   "source": [
    "forest_random.best_params_"
   ]
  },
  {
   "cell_type": "markdown",
   "metadata": {},
   "source": [
    "Для ускорения процесса создам отдельную модельна основании подобранных параметров."
   ]
  },
  {
   "cell_type": "code",
   "execution_count": 216,
   "metadata": {},
   "outputs": [],
   "source": [
    "forest = RandomForestRegressor(random_state=12345, n_estimators=480, max_depth=3, bootstrap=True)"
   ]
  },
  {
   "cell_type": "code",
   "execution_count": 217,
   "metadata": {},
   "outputs": [],
   "source": [
    "forest_cv = -cross_val_score(forest, X_train, y_train, cv=cv, scoring=rmse_scorer).mean()"
   ]
  },
  {
   "cell_type": "code",
   "execution_count": 218,
   "metadata": {},
   "outputs": [
    {
     "data": {
      "text/plain": [
       "24.627639928785072"
      ]
     },
     "execution_count": 218,
     "metadata": {},
     "output_type": "execute_result"
    }
   ],
   "source": [
    "forest_cv"
   ]
  },
  {
   "cell_type": "markdown",
   "metadata": {},
   "source": [
    "Модель случайного леса показала 33.10 RMSE"
   ]
  },
  {
   "cell_type": "markdown",
   "metadata": {},
   "source": [
    "### Подведем итоги"
   ]
  },
  {
   "cell_type": "code",
   "execution_count": 219,
   "metadata": {},
   "outputs": [
    {
     "data": {
      "text/html": [
       "<div>\n",
       "<style scoped>\n",
       "    .dataframe tbody tr th:only-of-type {\n",
       "        vertical-align: middle;\n",
       "    }\n",
       "\n",
       "    .dataframe tbody tr th {\n",
       "        vertical-align: top;\n",
       "    }\n",
       "\n",
       "    .dataframe thead th {\n",
       "        text-align: right;\n",
       "    }\n",
       "</style>\n",
       "<table border=\"1\" class=\"dataframe\">\n",
       "  <thead>\n",
       "    <tr style=\"text-align: right;\">\n",
       "      <th></th>\n",
       "      <th>Linear</th>\n",
       "      <th>Gradient</th>\n",
       "      <th>RForest</th>\n",
       "    </tr>\n",
       "  </thead>\n",
       "  <tbody>\n",
       "    <tr>\n",
       "      <th>model</th>\n",
       "      <td>26.885114</td>\n",
       "      <td>23.46127</td>\n",
       "      <td>24.62764</td>\n",
       "    </tr>\n",
       "  </tbody>\n",
       "</table>\n",
       "</div>"
      ],
      "text/plain": [
       "          Linear  Gradient   RForest\n",
       "model  26.885114  23.46127  24.62764"
      ]
     },
     "execution_count": 219,
     "metadata": {},
     "output_type": "execute_result"
    }
   ],
   "source": [
    "pd.DataFrame([[line_cv, abs(gbr_random.best_score_), forest_cv]], columns=['Linear', 'Gradient', 'RForest'], index=['model'])"
   ]
  },
  {
   "cell_type": "markdown",
   "metadata": {},
   "source": [
    "Наилучший результат при обучении модели на тестовых данных показал градиентный бустинг 23.46, проверим модель на тестовой выборке."
   ]
  },
  {
   "cell_type": "markdown",
   "metadata": {},
   "source": [
    "## Тестирование"
   ]
  },
  {
   "cell_type": "code",
   "execution_count": 220,
   "metadata": {},
   "outputs": [
    {
     "data": {
      "text/plain": [
       "GradientBoostingRegressor(max_depth=5, min_samples_split=8, n_estimators=320,\n",
       "                          random_state=12345)"
      ]
     },
     "execution_count": 220,
     "metadata": {},
     "output_type": "execute_result"
    }
   ],
   "source": [
    "gbr_random.best_estimator_"
   ]
  },
  {
   "cell_type": "code",
   "execution_count": 221,
   "metadata": {},
   "outputs": [
    {
     "name": "stdout",
     "output_type": "stream",
     "text": [
      "RMSE тестовой выборки: 37.20156486752845\n"
     ]
    }
   ],
   "source": [
    "predict_test = gbr_random.best_estimator_.predict(X_test)\n",
    "print(\"RMSE тестовой выборки:\", rmse(predict_test, y_test))"
   ]
  },
  {
   "cell_type": "markdown",
   "metadata": {},
   "source": [
    "Значение метрики RMSE на тестовой выборке 37.20, что соответствует условиям задачи не больше 48. Модель годится для предсказания."
   ]
  },
  {
   "cell_type": "code",
   "execution_count": null,
   "metadata": {},
   "outputs": [],
   "source": []
  }
 ],
 "metadata": {
  "ExecuteTimeLog": [
   {
    "duration": 66,
    "start_time": "2023-01-25T07:38:39.968Z"
   },
   {
    "duration": 49,
    "start_time": "2023-01-25T07:38:47.283Z"
   },
   {
    "duration": 52,
    "start_time": "2023-01-25T07:38:55.314Z"
   },
   {
    "duration": 1728,
    "start_time": "2023-01-25T07:39:10.330Z"
   },
   {
    "duration": 10,
    "start_time": "2023-01-25T07:39:19.114Z"
   },
   {
    "duration": 4,
    "start_time": "2023-01-25T07:39:27.364Z"
   },
   {
    "duration": 145,
    "start_time": "2023-01-25T07:40:17.339Z"
   },
   {
    "duration": 52,
    "start_time": "2023-01-25T07:40:29.482Z"
   },
   {
    "duration": 13,
    "start_time": "2023-01-25T07:40:43.187Z"
   },
   {
    "duration": 42,
    "start_time": "2023-01-25T07:41:11.484Z"
   },
   {
    "duration": 12,
    "start_time": "2023-01-25T07:41:11.987Z"
   },
   {
    "duration": 12,
    "start_time": "2023-01-25T07:42:45.964Z"
   },
   {
    "duration": 3,
    "start_time": "2023-01-25T07:52:40.590Z"
   },
   {
    "duration": 47,
    "start_time": "2023-01-25T07:52:47.558Z"
   },
   {
    "duration": 10,
    "start_time": "2023-01-25T07:54:05.365Z"
   },
   {
    "duration": 752,
    "start_time": "2023-01-25T07:55:55.278Z"
   },
   {
    "duration": 3,
    "start_time": "2023-01-25T07:56:19.638Z"
   },
   {
    "duration": 620,
    "start_time": "2023-01-25T07:56:23.726Z"
   },
   {
    "duration": 3,
    "start_time": "2023-01-25T07:58:02.238Z"
   },
   {
    "duration": 799,
    "start_time": "2023-01-25T08:02:28.943Z"
   },
   {
    "duration": 812,
    "start_time": "2023-01-25T08:02:51.999Z"
   },
   {
    "duration": 71,
    "start_time": "2023-01-25T08:03:04.534Z"
   },
   {
    "duration": 48,
    "start_time": "2023-01-25T08:03:15.839Z"
   },
   {
    "duration": 780,
    "start_time": "2023-01-25T08:03:20.383Z"
   },
   {
    "duration": 828,
    "start_time": "2023-01-25T08:03:54.489Z"
   },
   {
    "duration": 725,
    "start_time": "2023-01-25T08:04:01.008Z"
   },
   {
    "duration": 844,
    "start_time": "2023-01-25T08:04:12.496Z"
   },
   {
    "duration": 787,
    "start_time": "2023-01-25T08:04:20.720Z"
   },
   {
    "duration": 680,
    "start_time": "2023-01-25T08:04:26.360Z"
   },
   {
    "duration": 53,
    "start_time": "2023-01-25T08:05:42.289Z"
   },
   {
    "duration": 8,
    "start_time": "2023-01-25T08:09:03.976Z"
   },
   {
    "duration": 7,
    "start_time": "2023-01-25T08:09:11.664Z"
   },
   {
    "duration": 768,
    "start_time": "2023-01-25T09:30:48.022Z"
   },
   {
    "duration": 24,
    "start_time": "2023-01-25T09:31:07.135Z"
   },
   {
    "duration": 10,
    "start_time": "2023-01-25T09:35:14.960Z"
   },
   {
    "duration": 29,
    "start_time": "2023-01-25T09:36:50.863Z"
   },
   {
    "duration": 54,
    "start_time": "2023-01-25T09:37:29.024Z"
   },
   {
    "duration": 13,
    "start_time": "2023-01-25T09:53:46.154Z"
   },
   {
    "duration": 4,
    "start_time": "2023-01-25T09:54:01.210Z"
   },
   {
    "duration": 4,
    "start_time": "2023-01-25T09:54:01.625Z"
   },
   {
    "duration": 209,
    "start_time": "2023-01-25T09:54:47.132Z"
   },
   {
    "duration": 109,
    "start_time": "2023-01-25T09:55:03.844Z"
   },
   {
    "duration": 66,
    "start_time": "2023-01-25T09:55:36.074Z"
   },
   {
    "duration": 6,
    "start_time": "2023-01-25T09:56:12.667Z"
   },
   {
    "duration": 7,
    "start_time": "2023-01-25T09:57:23.999Z"
   },
   {
    "duration": 79,
    "start_time": "2023-01-25T09:57:24.008Z"
   },
   {
    "duration": 14,
    "start_time": "2023-01-25T09:57:24.089Z"
   },
   {
    "duration": 22,
    "start_time": "2023-01-25T09:57:24.106Z"
   },
   {
    "duration": 866,
    "start_time": "2023-01-25T09:57:24.130Z"
   },
   {
    "duration": 8,
    "start_time": "2023-01-25T09:57:24.998Z"
   },
   {
    "duration": 17,
    "start_time": "2023-01-25T09:57:25.008Z"
   },
   {
    "duration": 26,
    "start_time": "2023-01-25T09:57:30.395Z"
   },
   {
    "duration": 10,
    "start_time": "2023-01-25T09:57:41.098Z"
   },
   {
    "duration": 3,
    "start_time": "2023-01-25T09:57:42.232Z"
   },
   {
    "duration": 2,
    "start_time": "2023-01-25T09:57:43.196Z"
   },
   {
    "duration": 103,
    "start_time": "2023-01-25T09:57:45.237Z"
   },
   {
    "duration": 6,
    "start_time": "2023-01-25T09:57:49.403Z"
   },
   {
    "duration": 8,
    "start_time": "2023-01-25T09:58:56.066Z"
   },
   {
    "duration": 50,
    "start_time": "2023-01-25T09:58:56.077Z"
   },
   {
    "duration": 11,
    "start_time": "2023-01-25T09:58:56.130Z"
   },
   {
    "duration": 3,
    "start_time": "2023-01-25T09:58:56.143Z"
   },
   {
    "duration": 692,
    "start_time": "2023-01-25T09:58:56.148Z"
   },
   {
    "duration": 7,
    "start_time": "2023-01-25T09:58:56.842Z"
   },
   {
    "duration": 11,
    "start_time": "2023-01-25T09:58:56.851Z"
   },
   {
    "duration": 27,
    "start_time": "2023-01-25T09:58:56.863Z"
   },
   {
    "duration": 10,
    "start_time": "2023-01-25T09:58:56.891Z"
   },
   {
    "duration": 3,
    "start_time": "2023-01-25T09:58:56.903Z"
   },
   {
    "duration": 4,
    "start_time": "2023-01-25T09:58:56.939Z"
   },
   {
    "duration": 3,
    "start_time": "2023-01-25T09:58:58.674Z"
   },
   {
    "duration": 20,
    "start_time": "2023-01-25T09:58:59.747Z"
   },
   {
    "duration": 6,
    "start_time": "2023-01-25T09:59:03.892Z"
   },
   {
    "duration": 6,
    "start_time": "2023-01-25T10:00:22.782Z"
   },
   {
    "duration": 62,
    "start_time": "2023-01-25T10:00:22.790Z"
   },
   {
    "duration": 9,
    "start_time": "2023-01-25T10:00:22.854Z"
   },
   {
    "duration": 4,
    "start_time": "2023-01-25T10:00:22.865Z"
   },
   {
    "duration": 672,
    "start_time": "2023-01-25T10:00:22.871Z"
   },
   {
    "duration": 6,
    "start_time": "2023-01-25T10:00:23.544Z"
   },
   {
    "duration": 23,
    "start_time": "2023-01-25T10:00:23.552Z"
   },
   {
    "duration": 40,
    "start_time": "2023-01-25T10:00:23.577Z"
   },
   {
    "duration": 219,
    "start_time": "2023-01-25T10:02:07.925Z"
   },
   {
    "duration": 211,
    "start_time": "2023-01-25T10:02:20.731Z"
   },
   {
    "duration": 9,
    "start_time": "2023-01-25T10:04:56.716Z"
   },
   {
    "duration": 5,
    "start_time": "2023-01-25T10:05:02.718Z"
   },
   {
    "duration": 74,
    "start_time": "2023-01-25T10:05:02.725Z"
   },
   {
    "duration": 10,
    "start_time": "2023-01-25T10:05:02.801Z"
   },
   {
    "duration": 14,
    "start_time": "2023-01-25T10:05:02.813Z"
   },
   {
    "duration": 817,
    "start_time": "2023-01-25T10:05:02.829Z"
   },
   {
    "duration": 7,
    "start_time": "2023-01-25T10:05:03.648Z"
   },
   {
    "duration": 32,
    "start_time": "2023-01-25T10:05:03.657Z"
   },
   {
    "duration": 30,
    "start_time": "2023-01-25T10:05:03.691Z"
   },
   {
    "duration": 22,
    "start_time": "2023-01-25T10:05:03.724Z"
   },
   {
    "duration": 29,
    "start_time": "2023-01-25T10:05:03.747Z"
   },
   {
    "duration": 18,
    "start_time": "2023-01-25T10:05:03.778Z"
   },
   {
    "duration": 10,
    "start_time": "2023-01-25T10:05:06.005Z"
   },
   {
    "duration": 5,
    "start_time": "2023-01-25T10:05:45.382Z"
   },
   {
    "duration": 71,
    "start_time": "2023-01-25T10:05:45.389Z"
   },
   {
    "duration": 10,
    "start_time": "2023-01-25T10:05:45.462Z"
   },
   {
    "duration": 24,
    "start_time": "2023-01-25T10:05:45.474Z"
   },
   {
    "duration": 681,
    "start_time": "2023-01-25T10:05:45.500Z"
   },
   {
    "duration": 7,
    "start_time": "2023-01-25T10:05:46.182Z"
   },
   {
    "duration": 26,
    "start_time": "2023-01-25T10:05:46.191Z"
   },
   {
    "duration": 53,
    "start_time": "2023-01-25T10:05:46.219Z"
   },
   {
    "duration": 10,
    "start_time": "2023-01-25T10:05:51.508Z"
   },
   {
    "duration": 2,
    "start_time": "2023-01-25T10:05:52.556Z"
   },
   {
    "duration": 3,
    "start_time": "2023-01-25T10:05:53.267Z"
   },
   {
    "duration": 6,
    "start_time": "2023-01-25T10:05:55.262Z"
   },
   {
    "duration": 5,
    "start_time": "2023-01-25T10:05:57.812Z"
   },
   {
    "duration": 17,
    "start_time": "2023-01-25T10:07:43.550Z"
   },
   {
    "duration": 3,
    "start_time": "2023-01-25T10:10:34.901Z"
   },
   {
    "duration": 4,
    "start_time": "2023-01-25T10:10:35.757Z"
   },
   {
    "duration": 3,
    "start_time": "2023-01-25T10:10:36.917Z"
   },
   {
    "duration": 33115,
    "start_time": "2023-01-25T10:10:38.157Z"
   },
   {
    "duration": 5,
    "start_time": "2023-01-25T10:11:28.093Z"
   },
   {
    "duration": 4,
    "start_time": "2023-01-25T10:11:32.414Z"
   },
   {
    "duration": 5,
    "start_time": "2023-01-25T10:12:19.318Z"
   },
   {
    "duration": 19,
    "start_time": "2023-01-25T10:12:48.254Z"
   },
   {
    "duration": 4,
    "start_time": "2023-01-25T10:13:15.453Z"
   },
   {
    "duration": 858,
    "start_time": "2023-01-25T10:13:46.502Z"
   },
   {
    "duration": 9,
    "start_time": "2023-01-25T10:14:45.013Z"
   },
   {
    "duration": 5,
    "start_time": "2023-01-25T10:14:51.919Z"
   },
   {
    "duration": 5,
    "start_time": "2023-01-25T10:17:34.921Z"
   },
   {
    "duration": 117,
    "start_time": "2023-01-25T10:17:34.928Z"
   },
   {
    "duration": 9,
    "start_time": "2023-01-25T10:17:35.047Z"
   },
   {
    "duration": 57,
    "start_time": "2023-01-25T10:17:35.058Z"
   },
   {
    "duration": 744,
    "start_time": "2023-01-25T10:17:35.117Z"
   },
   {
    "duration": 7,
    "start_time": "2023-01-25T10:17:35.863Z"
   },
   {
    "duration": 39,
    "start_time": "2023-01-25T10:17:35.872Z"
   },
   {
    "duration": 50,
    "start_time": "2023-01-25T10:17:35.912Z"
   },
   {
    "duration": 25,
    "start_time": "2023-01-25T10:17:35.964Z"
   },
   {
    "duration": 37,
    "start_time": "2023-01-25T10:17:35.992Z"
   },
   {
    "duration": 25,
    "start_time": "2023-01-25T10:17:36.031Z"
   },
   {
    "duration": 41,
    "start_time": "2023-01-25T10:17:36.058Z"
   },
   {
    "duration": 6,
    "start_time": "2023-01-25T10:17:38.533Z"
   },
   {
    "duration": 5,
    "start_time": "2023-01-25T10:17:39.758Z"
   },
   {
    "duration": 46,
    "start_time": "2023-01-25T10:22:54.231Z"
   },
   {
    "duration": 3,
    "start_time": "2023-01-25T10:23:01.103Z"
   },
   {
    "duration": 3,
    "start_time": "2023-01-25T10:25:52.041Z"
   },
   {
    "duration": 13,
    "start_time": "2023-01-25T10:26:04.369Z"
   },
   {
    "duration": 3,
    "start_time": "2023-01-25T10:27:26.256Z"
   },
   {
    "duration": 14,
    "start_time": "2023-01-25T10:27:26.752Z"
   },
   {
    "duration": 35,
    "start_time": "2023-01-25T10:28:33.265Z"
   },
   {
    "duration": 3,
    "start_time": "2023-01-25T10:30:05.316Z"
   },
   {
    "duration": 1898,
    "start_time": "2023-01-25T10:30:07.579Z"
   },
   {
    "duration": 9,
    "start_time": "2023-01-25T10:30:39.971Z"
   },
   {
    "duration": 5,
    "start_time": "2023-01-25T10:30:48.321Z"
   },
   {
    "duration": 91,
    "start_time": "2023-01-25T10:31:10.449Z"
   },
   {
    "duration": 5,
    "start_time": "2023-01-25T10:31:11.160Z"
   },
   {
    "duration": 3,
    "start_time": "2023-01-25T10:32:14.434Z"
   },
   {
    "duration": 848,
    "start_time": "2023-01-25T10:32:17.538Z"
   },
   {
    "duration": 109,
    "start_time": "2023-01-25T10:32:19.537Z"
   },
   {
    "duration": 6,
    "start_time": "2023-01-25T10:32:20.777Z"
   },
   {
    "duration": 5,
    "start_time": "2023-01-25T10:37:06.079Z"
   },
   {
    "duration": 82,
    "start_time": "2023-01-25T10:37:06.086Z"
   },
   {
    "duration": 12,
    "start_time": "2023-01-25T10:37:06.170Z"
   },
   {
    "duration": 21,
    "start_time": "2023-01-25T10:37:06.185Z"
   },
   {
    "duration": 842,
    "start_time": "2023-01-25T10:37:06.207Z"
   },
   {
    "duration": 7,
    "start_time": "2023-01-25T10:37:07.051Z"
   },
   {
    "duration": 13,
    "start_time": "2023-01-25T10:37:07.060Z"
   },
   {
    "duration": 46,
    "start_time": "2023-01-25T10:37:07.074Z"
   },
   {
    "duration": 9,
    "start_time": "2023-01-25T10:37:07.122Z"
   },
   {
    "duration": 28,
    "start_time": "2023-01-25T10:37:07.133Z"
   },
   {
    "duration": 20,
    "start_time": "2023-01-25T10:37:07.163Z"
   },
   {
    "duration": 31,
    "start_time": "2023-01-25T10:37:07.185Z"
   },
   {
    "duration": 21,
    "start_time": "2023-01-25T10:37:07.218Z"
   },
   {
    "duration": 12,
    "start_time": "2023-01-25T10:37:09.161Z"
   },
   {
    "duration": 3,
    "start_time": "2023-01-25T10:52:45.868Z"
   },
   {
    "duration": 3,
    "start_time": "2023-01-25T10:52:46.546Z"
   },
   {
    "duration": 3,
    "start_time": "2023-01-25T10:53:35.653Z"
   },
   {
    "duration": 29429,
    "start_time": "2023-01-25T10:54:34.413Z"
   },
   {
    "duration": 79,
    "start_time": "2023-01-25T10:55:36.768Z"
   },
   {
    "duration": 895,
    "start_time": "2023-01-25T10:55:48.245Z"
   },
   {
    "duration": 3449,
    "start_time": "2023-01-25T10:56:32.222Z"
   },
   {
    "duration": 11,
    "start_time": "2023-01-25T10:57:08.590Z"
   },
   {
    "duration": 171,
    "start_time": "2023-01-25T10:57:42.087Z"
   },
   {
    "duration": 1775,
    "start_time": "2023-01-25T10:57:57.710Z"
   },
   {
    "duration": 1517,
    "start_time": "2023-01-25T10:58:53.834Z"
   },
   {
    "duration": 9401,
    "start_time": "2023-01-25T10:59:02.743Z"
   },
   {
    "duration": 1427,
    "start_time": "2023-01-25T10:59:19.622Z"
   },
   {
    "duration": 1874,
    "start_time": "2023-01-25T10:59:57.925Z"
   },
   {
    "duration": 14,
    "start_time": "2023-01-25T11:05:18.679Z"
   },
   {
    "duration": 3658,
    "start_time": "2023-01-25T11:06:13.896Z"
   },
   {
    "duration": 15311,
    "start_time": "2023-01-25T11:07:31.695Z"
   },
   {
    "duration": 6,
    "start_time": "2023-01-25T11:08:26.119Z"
   },
   {
    "duration": 4,
    "start_time": "2023-01-25T11:09:42.549Z"
   },
   {
    "duration": 58,
    "start_time": "2023-01-25T11:09:42.556Z"
   },
   {
    "duration": 10,
    "start_time": "2023-01-25T11:09:42.616Z"
   },
   {
    "duration": 4,
    "start_time": "2023-01-25T11:09:42.628Z"
   },
   {
    "duration": 690,
    "start_time": "2023-01-25T11:09:42.634Z"
   },
   {
    "duration": 15,
    "start_time": "2023-01-25T11:09:43.326Z"
   },
   {
    "duration": 10,
    "start_time": "2023-01-25T11:09:43.343Z"
   },
   {
    "duration": 21,
    "start_time": "2023-01-25T11:09:49.977Z"
   },
   {
    "duration": 11,
    "start_time": "2023-01-25T11:09:55.692Z"
   },
   {
    "duration": 4,
    "start_time": "2023-01-25T11:10:09.295Z"
   },
   {
    "duration": 5,
    "start_time": "2023-01-25T11:12:49.524Z"
   },
   {
    "duration": 53,
    "start_time": "2023-01-25T11:12:49.531Z"
   },
   {
    "duration": 11,
    "start_time": "2023-01-25T11:12:49.585Z"
   },
   {
    "duration": 7,
    "start_time": "2023-01-25T11:12:49.598Z"
   },
   {
    "duration": 768,
    "start_time": "2023-01-25T11:12:49.607Z"
   },
   {
    "duration": 7,
    "start_time": "2023-01-25T11:12:50.377Z"
   },
   {
    "duration": 11,
    "start_time": "2023-01-25T11:12:50.385Z"
   },
   {
    "duration": 46,
    "start_time": "2023-01-25T11:12:51.922Z"
   },
   {
    "duration": 12,
    "start_time": "2023-01-25T11:12:57.530Z"
   },
   {
    "duration": 5,
    "start_time": "2023-01-25T11:12:58.327Z"
   },
   {
    "duration": 3,
    "start_time": "2023-01-25T11:13:02.123Z"
   },
   {
    "duration": 4,
    "start_time": "2023-01-25T11:13:02.367Z"
   },
   {
    "duration": 6,
    "start_time": "2023-01-25T11:13:04.024Z"
   },
   {
    "duration": 7,
    "start_time": "2023-01-25T11:13:04.456Z"
   },
   {
    "duration": 170,
    "start_time": "2023-01-25T11:13:07.171Z"
   },
   {
    "duration": 13,
    "start_time": "2023-01-25T11:13:45.340Z"
   },
   {
    "duration": 38,
    "start_time": "2023-01-25T11:14:05.903Z"
   },
   {
    "duration": 12,
    "start_time": "2023-01-25T11:14:09.592Z"
   },
   {
    "duration": 5,
    "start_time": "2023-01-25T11:14:09.879Z"
   },
   {
    "duration": 3,
    "start_time": "2023-01-25T11:14:12.201Z"
   },
   {
    "duration": 4,
    "start_time": "2023-01-25T11:14:12.441Z"
   },
   {
    "duration": 6,
    "start_time": "2023-01-25T11:14:14.867Z"
   },
   {
    "duration": 6,
    "start_time": "2023-01-25T11:14:15.080Z"
   },
   {
    "duration": 186,
    "start_time": "2023-01-25T11:14:16.860Z"
   },
   {
    "duration": 8,
    "start_time": "2023-01-25T11:14:21.505Z"
   },
   {
    "duration": 44,
    "start_time": "2023-01-25T11:15:03.320Z"
   },
   {
    "duration": 13,
    "start_time": "2023-01-25T11:15:06.856Z"
   },
   {
    "duration": 5,
    "start_time": "2023-01-25T11:15:07.152Z"
   },
   {
    "duration": 4,
    "start_time": "2023-01-25T11:15:08.272Z"
   },
   {
    "duration": 3,
    "start_time": "2023-01-25T11:15:09.049Z"
   },
   {
    "duration": 6,
    "start_time": "2023-01-25T11:15:09.800Z"
   },
   {
    "duration": 179,
    "start_time": "2023-01-25T11:15:14.864Z"
   },
   {
    "duration": 8,
    "start_time": "2023-01-25T11:15:16.712Z"
   },
   {
    "duration": 38,
    "start_time": "2023-01-25T11:15:22.369Z"
   },
   {
    "duration": 11,
    "start_time": "2023-01-25T11:15:24.672Z"
   },
   {
    "duration": 12,
    "start_time": "2023-01-25T11:15:29.233Z"
   },
   {
    "duration": 4,
    "start_time": "2023-01-25T11:15:29.880Z"
   },
   {
    "duration": 113,
    "start_time": "2023-01-25T11:15:35.729Z"
   },
   {
    "duration": 7,
    "start_time": "2023-01-25T11:15:36.973Z"
   },
   {
    "duration": 58,
    "start_time": "2023-01-25T12:53:38.568Z"
   },
   {
    "duration": 1577,
    "start_time": "2023-01-25T12:53:52.874Z"
   },
   {
    "duration": 190,
    "start_time": "2023-01-25T12:53:54.453Z"
   },
   {
    "duration": 11,
    "start_time": "2023-01-25T12:53:54.645Z"
   },
   {
    "duration": 3,
    "start_time": "2023-01-25T12:53:54.795Z"
   },
   {
    "duration": 777,
    "start_time": "2023-01-25T12:53:55.184Z"
   },
   {
    "duration": 9,
    "start_time": "2023-01-25T12:53:58.301Z"
   },
   {
    "duration": 7,
    "start_time": "2023-01-25T12:53:58.986Z"
   },
   {
    "duration": 7,
    "start_time": "2023-01-25T12:54:15.616Z"
   },
   {
    "duration": 9,
    "start_time": "2023-01-25T12:55:09.140Z"
   },
   {
    "duration": 6,
    "start_time": "2023-01-25T12:55:13.468Z"
   },
   {
    "duration": 7,
    "start_time": "2023-01-25T12:55:22.051Z"
   },
   {
    "duration": 84,
    "start_time": "2023-01-25T12:55:45.605Z"
   },
   {
    "duration": 8,
    "start_time": "2023-01-25T12:55:56.932Z"
   },
   {
    "duration": 13,
    "start_time": "2023-01-25T12:59:03.175Z"
   },
   {
    "duration": 4,
    "start_time": "2023-01-25T12:59:17.035Z"
   },
   {
    "duration": 342,
    "start_time": "2023-01-25T12:59:21.599Z"
   },
   {
    "duration": 3,
    "start_time": "2023-01-25T12:59:27.021Z"
   },
   {
    "duration": 3,
    "start_time": "2023-01-25T12:59:27.290Z"
   },
   {
    "duration": 124588,
    "start_time": "2023-01-25T12:59:29.467Z"
   },
   {
    "duration": 0,
    "start_time": "2023-01-25T13:01:34.058Z"
   },
   {
    "duration": 10,
    "start_time": "2023-01-25T13:02:00.584Z"
   },
   {
    "duration": 29,
    "start_time": "2023-01-25T13:02:11.884Z"
   },
   {
    "duration": 13,
    "start_time": "2023-01-25T13:02:24.719Z"
   },
   {
    "duration": 13,
    "start_time": "2023-01-25T13:02:30.268Z"
   },
   {
    "duration": 84819,
    "start_time": "2023-01-25T13:02:36.325Z"
   },
   {
    "duration": 16,
    "start_time": "2023-01-25T13:05:00.748Z"
   },
   {
    "duration": 327,
    "start_time": "2023-01-25T13:06:00.276Z"
   },
   {
    "duration": 154629,
    "start_time": "2023-01-25T13:08:24.612Z"
   },
   {
    "duration": 16,
    "start_time": "2023-01-25T13:12:28.758Z"
   },
   {
    "duration": 15,
    "start_time": "2023-01-25T13:12:30.485Z"
   },
   {
    "duration": 169170,
    "start_time": "2023-01-25T13:15:24.973Z"
   },
   {
    "duration": 21,
    "start_time": "2023-01-25T13:18:41.038Z"
   },
   {
    "duration": 16,
    "start_time": "2023-01-25T13:18:43.190Z"
   },
   {
    "duration": 154148,
    "start_time": "2023-01-25T13:19:26.800Z"
   },
   {
    "duration": 35,
    "start_time": "2023-01-25T13:55:31.636Z"
   },
   {
    "duration": 5,
    "start_time": "2023-01-25T13:56:13.331Z"
   },
   {
    "duration": 53,
    "start_time": "2023-01-25T13:56:13.339Z"
   },
   {
    "duration": 9,
    "start_time": "2023-01-25T13:56:13.394Z"
   },
   {
    "duration": 6,
    "start_time": "2023-01-25T13:56:13.405Z"
   },
   {
    "duration": 665,
    "start_time": "2023-01-25T13:56:13.413Z"
   },
   {
    "duration": 7,
    "start_time": "2023-01-25T13:56:14.080Z"
   },
   {
    "duration": 12,
    "start_time": "2023-01-25T13:56:14.089Z"
   },
   {
    "duration": 4,
    "start_time": "2023-01-25T13:56:16.893Z"
   },
   {
    "duration": 83611,
    "start_time": "2023-01-25T13:56:21.533Z"
   },
   {
    "duration": 15,
    "start_time": "2023-01-25T14:00:49.559Z"
   },
   {
    "duration": 1697,
    "start_time": "2023-01-25T18:46:47.836Z"
   },
   {
    "duration": 162,
    "start_time": "2023-01-25T18:46:51.568Z"
   },
   {
    "duration": 12,
    "start_time": "2023-01-25T18:46:51.845Z"
   },
   {
    "duration": 3,
    "start_time": "2023-01-25T18:46:52.747Z"
   },
   {
    "duration": 771,
    "start_time": "2023-01-25T18:46:53.215Z"
   },
   {
    "duration": 10,
    "start_time": "2023-01-25T18:47:01.580Z"
   },
   {
    "duration": 7,
    "start_time": "2023-01-25T18:47:01.986Z"
   },
   {
    "duration": 157,
    "start_time": "2023-01-25T18:49:28.707Z"
   },
   {
    "duration": 5,
    "start_time": "2023-01-25T18:49:40.293Z"
   },
   {
    "duration": 519,
    "start_time": "2023-01-25T18:49:51.025Z"
   },
   {
    "duration": 4,
    "start_time": "2023-01-25T18:49:56.151Z"
   },
   {
    "duration": 2,
    "start_time": "2023-01-25T18:49:56.378Z"
   },
   {
    "duration": 97918,
    "start_time": "2023-01-25T18:50:00.526Z"
   },
   {
    "duration": 16,
    "start_time": "2023-01-25T18:51:55.800Z"
   },
   {
    "duration": 18,
    "start_time": "2023-01-25T18:52:53.893Z"
   },
   {
    "duration": 5,
    "start_time": "2023-01-25T18:53:10.117Z"
   },
   {
    "duration": 69,
    "start_time": "2023-01-25T18:53:10.124Z"
   },
   {
    "duration": 9,
    "start_time": "2023-01-25T18:53:10.195Z"
   },
   {
    "duration": 17,
    "start_time": "2023-01-25T18:53:10.206Z"
   },
   {
    "duration": 649,
    "start_time": "2023-01-25T18:53:10.225Z"
   },
   {
    "duration": 8,
    "start_time": "2023-01-25T18:53:10.876Z"
   },
   {
    "duration": 11,
    "start_time": "2023-01-25T18:53:10.886Z"
   },
   {
    "duration": 9,
    "start_time": "2023-01-25T18:53:10.899Z"
   },
   {
    "duration": 20,
    "start_time": "2023-01-25T18:56:21.889Z"
   },
   {
    "duration": 5,
    "start_time": "2023-01-25T18:56:30.070Z"
   },
   {
    "duration": 88,
    "start_time": "2023-01-25T18:56:30.077Z"
   },
   {
    "duration": 13,
    "start_time": "2023-01-25T18:56:30.167Z"
   },
   {
    "duration": 28,
    "start_time": "2023-01-25T18:56:30.182Z"
   },
   {
    "duration": 731,
    "start_time": "2023-01-25T18:56:30.212Z"
   },
   {
    "duration": 7,
    "start_time": "2023-01-25T18:56:30.945Z"
   },
   {
    "duration": 34,
    "start_time": "2023-01-25T18:56:30.954Z"
   },
   {
    "duration": 27,
    "start_time": "2023-01-25T18:56:30.989Z"
   },
   {
    "duration": 3,
    "start_time": "2023-01-25T18:56:33.367Z"
   },
   {
    "duration": 495067,
    "start_time": "2023-01-25T18:56:37.682Z"
   },
   {
    "duration": 4,
    "start_time": "2023-01-25T19:04:58.422Z"
   },
   {
    "duration": 5,
    "start_time": "2023-01-25T19:05:16.620Z"
   },
   {
    "duration": 24,
    "start_time": "2023-01-25T19:05:39.236Z"
   },
   {
    "duration": 6,
    "start_time": "2023-01-25T19:11:58.309Z"
   },
   {
    "duration": 4,
    "start_time": "2023-01-25T19:14:22.330Z"
   },
   {
    "duration": 11,
    "start_time": "2023-01-25T19:14:28.075Z"
   },
   {
    "duration": 5,
    "start_time": "2023-01-25T19:14:33.469Z"
   },
   {
    "duration": 41,
    "start_time": "2023-01-25T19:15:54.773Z"
   },
   {
    "duration": 213,
    "start_time": "2023-01-25T19:18:16.775Z"
   },
   {
    "duration": 39,
    "start_time": "2023-01-25T19:18:40.004Z"
   },
   {
    "duration": 3738,
    "start_time": "2023-01-25T19:19:25.501Z"
   },
   {
    "duration": 28,
    "start_time": "2023-01-25T19:19:42.812Z"
   },
   {
    "duration": 13,
    "start_time": "2023-01-25T19:19:53.189Z"
   },
   {
    "duration": 5,
    "start_time": "2023-01-25T19:26:46.669Z"
   },
   {
    "duration": 5,
    "start_time": "2023-01-25T19:26:47.495Z"
   },
   {
    "duration": 22,
    "start_time": "2023-01-25T19:27:39.100Z"
   },
   {
    "duration": 65,
    "start_time": "2023-01-25T19:28:30.135Z"
   },
   {
    "duration": 3,
    "start_time": "2023-01-25T19:28:39.739Z"
   },
   {
    "duration": 4,
    "start_time": "2023-01-25T19:28:40.582Z"
   },
   {
    "duration": 3,
    "start_time": "2023-01-25T19:28:43.233Z"
   },
   {
    "duration": 2143072,
    "start_time": "2023-01-25T19:28:46.169Z"
   },
   {
    "duration": 4,
    "start_time": "2023-01-25T20:05:03.864Z"
   },
   {
    "duration": 4,
    "start_time": "2023-01-25T20:05:08.295Z"
   },
   {
    "duration": 3,
    "start_time": "2023-01-25T20:10:54.263Z"
   },
   {
    "duration": 4,
    "start_time": "2023-01-25T20:10:55.009Z"
   },
   {
    "duration": 3,
    "start_time": "2023-01-25T20:10:55.966Z"
   },
   {
    "duration": 505719,
    "start_time": "2023-01-25T20:10:57.113Z"
   },
   {
    "duration": 4,
    "start_time": "2023-01-25T20:20:16.592Z"
   },
   {
    "duration": 15461,
    "start_time": "2023-01-25T20:20:17.566Z"
   },
   {
    "duration": 3,
    "start_time": "2023-01-25T20:20:40.118Z"
   },
   {
    "duration": 3,
    "start_time": "2023-01-25T20:20:40.835Z"
   },
   {
    "duration": 1308939,
    "start_time": "2023-01-25T20:20:41.723Z"
   },
   {
    "duration": 4,
    "start_time": "2023-01-25T20:43:01.236Z"
   },
   {
    "duration": 5,
    "start_time": "2023-01-25T20:46:13.393Z"
   },
   {
    "duration": 10,
    "start_time": "2023-01-25T20:49:59.941Z"
   },
   {
    "duration": 12,
    "start_time": "2023-01-25T20:50:27.905Z"
   },
   {
    "duration": 55429,
    "start_time": "2023-01-25T20:53:59.257Z"
   },
   {
    "duration": 4,
    "start_time": "2023-01-25T20:57:03.412Z"
   },
   {
    "duration": 47,
    "start_time": "2023-01-25T20:57:03.910Z"
   },
   {
    "duration": 11,
    "start_time": "2023-01-25T20:57:08.774Z"
   },
   {
    "duration": 3,
    "start_time": "2023-01-25T20:57:11.058Z"
   },
   {
    "duration": 675,
    "start_time": "2023-01-25T20:57:11.904Z"
   },
   {
    "duration": 7,
    "start_time": "2023-01-25T20:57:26.646Z"
   },
   {
    "duration": 7,
    "start_time": "2023-01-25T20:57:35.963Z"
   },
   {
    "duration": 8,
    "start_time": "2023-01-25T20:57:37.792Z"
   },
   {
    "duration": 4,
    "start_time": "2023-01-25T20:57:41.018Z"
   },
   {
    "duration": 325,
    "start_time": "2023-01-25T20:57:44.265Z"
   },
   {
    "duration": 692,
    "start_time": "2023-01-25T20:58:28.402Z"
   },
   {
    "duration": 197,
    "start_time": "2023-01-25T20:59:21.170Z"
   },
   {
    "duration": 134,
    "start_time": "2023-01-25T20:59:35.186Z"
   },
   {
    "duration": 12,
    "start_time": "2023-01-25T21:02:43.458Z"
   },
   {
    "duration": 380,
    "start_time": "2023-01-25T21:02:49.485Z"
   },
   {
    "duration": 10,
    "start_time": "2023-01-25T21:03:16.516Z"
   },
   {
    "duration": 393,
    "start_time": "2023-01-25T21:03:21.989Z"
   },
   {
    "duration": 519,
    "start_time": "2023-01-25T21:07:33.946Z"
   },
   {
    "duration": 279,
    "start_time": "2023-01-25T21:08:15.183Z"
   },
   {
    "duration": 229,
    "start_time": "2023-01-25T21:08:38.831Z"
   },
   {
    "duration": 188,
    "start_time": "2023-01-25T21:08:50.262Z"
   },
   {
    "duration": 206,
    "start_time": "2023-01-25T21:08:58.468Z"
   },
   {
    "duration": 14,
    "start_time": "2023-01-25T21:10:19.249Z"
   },
   {
    "duration": 12,
    "start_time": "2023-01-25T21:10:28.863Z"
   },
   {
    "duration": 179,
    "start_time": "2023-01-25T21:10:39.551Z"
   },
   {
    "duration": 14,
    "start_time": "2023-01-25T21:10:50.531Z"
   },
   {
    "duration": 14,
    "start_time": "2023-01-25T21:10:56.148Z"
   },
   {
    "duration": 14,
    "start_time": "2023-01-25T21:11:29.226Z"
   },
   {
    "duration": 5,
    "start_time": "2023-01-25T21:11:48.980Z"
   },
   {
    "duration": 47,
    "start_time": "2023-01-25T21:11:49.567Z"
   },
   {
    "duration": 11,
    "start_time": "2023-01-25T21:11:50.988Z"
   },
   {
    "duration": 4,
    "start_time": "2023-01-25T21:11:51.994Z"
   },
   {
    "duration": 12,
    "start_time": "2023-01-25T21:11:55.884Z"
   },
   {
    "duration": 172,
    "start_time": "2023-01-25T21:12:16.703Z"
   },
   {
    "duration": 226,
    "start_time": "2023-01-25T21:12:31.416Z"
   },
   {
    "duration": 243,
    "start_time": "2023-01-25T21:13:09.157Z"
   },
   {
    "duration": 12,
    "start_time": "2023-01-25T21:13:21.223Z"
   },
   {
    "duration": 170,
    "start_time": "2023-01-25T21:13:38.997Z"
   },
   {
    "duration": 146,
    "start_time": "2023-01-25T21:14:43.843Z"
   },
   {
    "duration": 140,
    "start_time": "2023-01-25T21:14:59.722Z"
   },
   {
    "duration": 14,
    "start_time": "2023-01-25T21:16:23.702Z"
   },
   {
    "duration": 505,
    "start_time": "2023-01-25T21:16:31.161Z"
   },
   {
    "duration": 645,
    "start_time": "2023-01-25T21:18:27.040Z"
   },
   {
    "duration": 247,
    "start_time": "2023-01-25T21:19:17.212Z"
   },
   {
    "duration": 14,
    "start_time": "2023-01-25T21:21:16.649Z"
   },
   {
    "duration": 13,
    "start_time": "2023-01-25T21:21:22.978Z"
   },
   {
    "duration": 244,
    "start_time": "2023-01-25T21:22:08.201Z"
   },
   {
    "duration": 255,
    "start_time": "2023-01-25T21:22:56.711Z"
   },
   {
    "duration": 206,
    "start_time": "2023-01-25T21:23:33.916Z"
   },
   {
    "duration": 202,
    "start_time": "2023-01-25T21:24:03.958Z"
   },
   {
    "duration": 188,
    "start_time": "2023-01-25T21:24:13.073Z"
   },
   {
    "duration": 104,
    "start_time": "2023-01-25T21:25:24.392Z"
   },
   {
    "duration": 259,
    "start_time": "2023-01-25T21:25:40.689Z"
   },
   {
    "duration": 200,
    "start_time": "2023-01-25T21:25:47.704Z"
   },
   {
    "duration": 270,
    "start_time": "2023-01-25T21:26:22.363Z"
   },
   {
    "duration": 206,
    "start_time": "2023-01-25T21:26:48.375Z"
   },
   {
    "duration": 183,
    "start_time": "2023-01-25T21:27:26.579Z"
   },
   {
    "duration": 253,
    "start_time": "2023-01-25T21:27:38.814Z"
   },
   {
    "duration": 53,
    "start_time": "2023-01-25T21:28:26.203Z"
   },
   {
    "duration": 12,
    "start_time": "2023-01-25T21:29:03.340Z"
   },
   {
    "duration": 14,
    "start_time": "2023-01-25T21:31:25.454Z"
   },
   {
    "duration": 9,
    "start_time": "2023-01-25T21:33:09.174Z"
   },
   {
    "duration": 12,
    "start_time": "2023-01-25T21:33:11.209Z"
   },
   {
    "duration": 212,
    "start_time": "2023-01-25T21:33:24.873Z"
   },
   {
    "duration": 270,
    "start_time": "2023-01-25T21:33:43.315Z"
   },
   {
    "duration": 216,
    "start_time": "2023-01-25T21:35:10.305Z"
   },
   {
    "duration": 209,
    "start_time": "2023-01-25T21:35:33.420Z"
   },
   {
    "duration": 233,
    "start_time": "2023-01-25T21:35:41.600Z"
   },
   {
    "duration": 58,
    "start_time": "2023-01-25T21:36:50.589Z"
   },
   {
    "duration": 236,
    "start_time": "2023-01-25T21:36:54.872Z"
   },
   {
    "duration": 162,
    "start_time": "2023-01-25T21:39:44.740Z"
   },
   {
    "duration": 151,
    "start_time": "2023-01-25T21:40:09.917Z"
   },
   {
    "duration": 226,
    "start_time": "2023-01-25T21:40:17.921Z"
   },
   {
    "duration": 227,
    "start_time": "2023-01-25T21:41:36.565Z"
   },
   {
    "duration": 52,
    "start_time": "2023-01-25T21:41:48.235Z"
   },
   {
    "duration": 225,
    "start_time": "2023-01-25T21:41:55.241Z"
   },
   {
    "duration": 155,
    "start_time": "2023-01-25T21:42:06.850Z"
   },
   {
    "duration": 252,
    "start_time": "2023-01-25T21:42:38.825Z"
   },
   {
    "duration": 125,
    "start_time": "2023-01-25T21:43:06.239Z"
   },
   {
    "duration": 198,
    "start_time": "2023-01-25T21:43:09.851Z"
   },
   {
    "duration": 41,
    "start_time": "2023-01-25T21:49:41.169Z"
   },
   {
    "duration": 45,
    "start_time": "2023-01-25T21:50:09.550Z"
   },
   {
    "duration": 1492,
    "start_time": "2023-01-30T08:01:03.350Z"
   },
   {
    "duration": 155,
    "start_time": "2023-01-30T08:01:05.157Z"
   },
   {
    "duration": 14,
    "start_time": "2023-01-30T08:01:06.738Z"
   },
   {
    "duration": 3,
    "start_time": "2023-01-30T08:01:08.018Z"
   },
   {
    "duration": 316,
    "start_time": "2023-01-30T08:01:09.229Z"
   },
   {
    "duration": 4,
    "start_time": "2023-01-30T10:05:15.712Z"
   },
   {
    "duration": 50,
    "start_time": "2023-01-30T10:05:15.719Z"
   },
   {
    "duration": 9,
    "start_time": "2023-01-30T10:05:15.771Z"
   },
   {
    "duration": 7,
    "start_time": "2023-01-30T10:05:15.781Z"
   },
   {
    "duration": 248,
    "start_time": "2023-01-30T10:05:15.789Z"
   },
   {
    "duration": 11,
    "start_time": "2023-01-30T10:05:16.039Z"
   },
   {
    "duration": 6,
    "start_time": "2023-01-30T10:05:16.052Z"
   },
   {
    "duration": 5,
    "start_time": "2023-01-30T10:05:18.344Z"
   },
   {
    "duration": 255,
    "start_time": "2023-01-30T10:06:30.001Z"
   },
   {
    "duration": 294,
    "start_time": "2023-01-30T10:06:43.361Z"
   },
   {
    "duration": 125,
    "start_time": "2023-01-30T10:13:19.335Z"
   },
   {
    "duration": 4,
    "start_time": "2023-01-30T10:13:47.439Z"
   },
   {
    "duration": 9,
    "start_time": "2023-01-30T10:13:54.911Z"
   },
   {
    "duration": 55,
    "start_time": "2023-01-30T10:14:39.575Z"
   },
   {
    "duration": 696,
    "start_time": "2023-01-30T10:14:46.286Z"
   },
   {
    "duration": 570,
    "start_time": "2023-01-30T10:15:25.983Z"
   },
   {
    "duration": 17,
    "start_time": "2023-01-30T10:16:49.454Z"
   },
   {
    "duration": 10,
    "start_time": "2023-01-30T10:16:55.021Z"
   },
   {
    "duration": 9,
    "start_time": "2023-01-30T10:18:19.583Z"
   },
   {
    "duration": 248,
    "start_time": "2023-01-30T10:18:27.646Z"
   },
   {
    "duration": 284,
    "start_time": "2023-01-30T10:19:14.304Z"
   },
   {
    "duration": 18,
    "start_time": "2023-01-30T10:19:40.024Z"
   },
   {
    "duration": 14,
    "start_time": "2023-01-30T10:19:43.128Z"
   },
   {
    "duration": 281,
    "start_time": "2023-01-30T10:19:48.047Z"
   },
   {
    "duration": 410,
    "start_time": "2023-01-30T10:19:51.960Z"
   },
   {
    "duration": 291,
    "start_time": "2023-01-30T10:19:56.214Z"
   },
   {
    "duration": 301,
    "start_time": "2023-01-30T10:30:29.264Z"
   },
   {
    "duration": 286,
    "start_time": "2023-01-30T10:30:34.336Z"
   },
   {
    "duration": 3,
    "start_time": "2023-01-30T10:54:38.370Z"
   },
   {
    "duration": 3,
    "start_time": "2023-01-30T10:54:39.000Z"
   },
   {
    "duration": 11,
    "start_time": "2023-01-30T10:54:45.176Z"
   },
   {
    "duration": 5,
    "start_time": "2023-01-30T10:55:01.063Z"
   },
   {
    "duration": 103,
    "start_time": "2023-01-30T10:55:01.070Z"
   },
   {
    "duration": 10,
    "start_time": "2023-01-30T10:55:01.175Z"
   },
   {
    "duration": 32,
    "start_time": "2023-01-30T10:55:01.187Z"
   },
   {
    "duration": 283,
    "start_time": "2023-01-30T10:55:01.221Z"
   },
   {
    "duration": 9,
    "start_time": "2023-01-30T10:55:01.505Z"
   },
   {
    "duration": 24,
    "start_time": "2023-01-30T10:55:01.515Z"
   },
   {
    "duration": 21,
    "start_time": "2023-01-30T10:55:01.540Z"
   },
   {
    "duration": 235,
    "start_time": "2023-01-30T10:55:01.564Z"
   },
   {
    "duration": 672,
    "start_time": "2023-01-30T10:55:01.801Z"
   },
   {
    "duration": 318,
    "start_time": "2023-01-30T10:55:02.474Z"
   },
   {
    "duration": 2,
    "start_time": "2023-01-30T10:55:02.794Z"
   },
   {
    "duration": 4,
    "start_time": "2023-01-30T10:55:03.865Z"
   },
   {
    "duration": 3,
    "start_time": "2023-01-30T10:55:04.128Z"
   },
   {
    "duration": 691,
    "start_time": "2023-01-30T10:55:18.561Z"
   },
   {
    "duration": 70,
    "start_time": "2023-01-30T10:55:22.186Z"
   },
   {
    "duration": 39,
    "start_time": "2023-01-30T10:55:38.402Z"
   },
   {
    "duration": 50,
    "start_time": "2023-01-30T10:55:59.106Z"
   },
   {
    "duration": 6,
    "start_time": "2023-01-30T10:57:12.711Z"
   },
   {
    "duration": 85,
    "start_time": "2023-01-30T10:57:12.719Z"
   },
   {
    "duration": 9,
    "start_time": "2023-01-30T10:57:12.805Z"
   },
   {
    "duration": 29,
    "start_time": "2023-01-30T10:57:12.816Z"
   },
   {
    "duration": 285,
    "start_time": "2023-01-30T10:57:12.846Z"
   },
   {
    "duration": 6,
    "start_time": "2023-01-30T10:57:13.133Z"
   },
   {
    "duration": 29,
    "start_time": "2023-01-30T10:57:13.141Z"
   },
   {
    "duration": 17,
    "start_time": "2023-01-30T10:57:13.171Z"
   },
   {
    "duration": 230,
    "start_time": "2023-01-30T10:57:13.190Z"
   },
   {
    "duration": 635,
    "start_time": "2023-01-30T10:57:13.422Z"
   },
   {
    "duration": 388,
    "start_time": "2023-01-30T10:57:14.058Z"
   },
   {
    "duration": 292,
    "start_time": "2023-01-30T10:57:20.210Z"
   },
   {
    "duration": 3,
    "start_time": "2023-01-30T10:57:21.954Z"
   },
   {
    "duration": 3,
    "start_time": "2023-01-30T10:57:22.907Z"
   },
   {
    "duration": 21,
    "start_time": "2023-01-30T10:57:26.106Z"
   },
   {
    "duration": 11,
    "start_time": "2023-01-30T10:57:27.002Z"
   },
   {
    "duration": 12,
    "start_time": "2023-01-30T10:57:27.945Z"
   },
   {
    "duration": 11,
    "start_time": "2023-01-30T10:57:34.820Z"
   },
   {
    "duration": 19,
    "start_time": "2023-01-30T10:57:36.202Z"
   },
   {
    "duration": 3,
    "start_time": "2023-01-30T10:58:37.321Z"
   },
   {
    "duration": 3,
    "start_time": "2023-01-30T10:58:37.787Z"
   },
   {
    "duration": 7,
    "start_time": "2023-01-30T10:58:41.707Z"
   },
   {
    "duration": 4,
    "start_time": "2023-01-30T12:17:21.786Z"
   },
   {
    "duration": 57,
    "start_time": "2023-01-30T12:17:21.792Z"
   },
   {
    "duration": 9,
    "start_time": "2023-01-30T12:17:21.850Z"
   },
   {
    "duration": 28,
    "start_time": "2023-01-30T12:17:21.861Z"
   },
   {
    "duration": 253,
    "start_time": "2023-01-30T12:17:21.891Z"
   },
   {
    "duration": 7,
    "start_time": "2023-01-30T12:17:22.146Z"
   },
   {
    "duration": 20,
    "start_time": "2023-01-30T12:17:22.155Z"
   },
   {
    "duration": 12,
    "start_time": "2023-01-30T12:17:22.177Z"
   },
   {
    "duration": 203,
    "start_time": "2023-01-30T12:17:22.191Z"
   },
   {
    "duration": 600,
    "start_time": "2023-01-30T12:17:22.395Z"
   },
   {
    "duration": 329,
    "start_time": "2023-01-30T12:17:22.997Z"
   },
   {
    "duration": 3,
    "start_time": "2023-01-30T12:17:23.328Z"
   },
   {
    "duration": 12,
    "start_time": "2023-01-30T12:17:23.332Z"
   },
   {
    "duration": 8,
    "start_time": "2023-01-30T12:17:23.346Z"
   },
   {
    "duration": 20,
    "start_time": "2023-01-30T12:17:23.355Z"
   },
   {
    "duration": 13,
    "start_time": "2023-01-30T12:17:23.376Z"
   },
   {
    "duration": 15,
    "start_time": "2023-01-30T12:17:23.391Z"
   },
   {
    "duration": 7,
    "start_time": "2023-01-30T12:17:50.638Z"
   },
   {
    "duration": 250,
    "start_time": "2023-01-30T12:18:03.623Z"
   },
   {
    "duration": 10,
    "start_time": "2023-01-30T12:19:52.455Z"
   },
   {
    "duration": 5,
    "start_time": "2023-01-30T12:19:57.899Z"
   },
   {
    "duration": 50,
    "start_time": "2023-01-30T12:19:57.906Z"
   },
   {
    "duration": 10,
    "start_time": "2023-01-30T12:19:57.958Z"
   },
   {
    "duration": 9,
    "start_time": "2023-01-30T12:19:57.970Z"
   },
   {
    "duration": 235,
    "start_time": "2023-01-30T12:19:57.980Z"
   },
   {
    "duration": 7,
    "start_time": "2023-01-30T12:19:58.216Z"
   },
   {
    "duration": 9,
    "start_time": "2023-01-30T12:19:58.224Z"
   },
   {
    "duration": 11,
    "start_time": "2023-01-30T12:19:58.235Z"
   },
   {
    "duration": 219,
    "start_time": "2023-01-30T12:19:58.248Z"
   },
   {
    "duration": 664,
    "start_time": "2023-01-30T12:19:58.469Z"
   },
   {
    "duration": 320,
    "start_time": "2023-01-30T12:19:59.135Z"
   },
   {
    "duration": 3,
    "start_time": "2023-01-30T12:19:59.456Z"
   },
   {
    "duration": 13,
    "start_time": "2023-01-30T12:19:59.461Z"
   },
   {
    "duration": 9,
    "start_time": "2023-01-30T12:19:59.476Z"
   },
   {
    "duration": 10,
    "start_time": "2023-01-30T12:19:59.486Z"
   },
   {
    "duration": 7,
    "start_time": "2023-01-30T12:19:59.498Z"
   },
   {
    "duration": 16,
    "start_time": "2023-01-30T12:19:59.507Z"
   },
   {
    "duration": 12,
    "start_time": "2023-01-30T12:20:01.567Z"
   },
   {
    "duration": 5,
    "start_time": "2023-01-30T12:20:11.591Z"
   },
   {
    "duration": 4,
    "start_time": "2023-01-30T12:20:27.560Z"
   },
   {
    "duration": 11,
    "start_time": "2023-01-30T12:25:54.960Z"
   },
   {
    "duration": 7,
    "start_time": "2023-01-30T12:26:15.240Z"
   },
   {
    "duration": 4,
    "start_time": "2023-01-30T12:32:37.200Z"
   },
   {
    "duration": 5,
    "start_time": "2023-01-30T12:35:24.329Z"
   },
   {
    "duration": 3,
    "start_time": "2023-01-30T12:37:05.552Z"
   },
   {
    "duration": 10,
    "start_time": "2023-01-30T12:37:08.000Z"
   },
   {
    "duration": 8,
    "start_time": "2023-01-30T12:37:12.020Z"
   },
   {
    "duration": 48,
    "start_time": "2023-01-30T12:37:35.689Z"
   },
   {
    "duration": 8,
    "start_time": "2023-01-30T12:37:45.529Z"
   },
   {
    "duration": 5,
    "start_time": "2023-01-30T12:37:51.657Z"
   },
   {
    "duration": 17,
    "start_time": "2023-01-30T12:37:57.588Z"
   },
   {
    "duration": 10,
    "start_time": "2023-01-30T12:38:08.065Z"
   },
   {
    "duration": 11,
    "start_time": "2023-01-30T12:38:09.977Z"
   },
   {
    "duration": 12,
    "start_time": "2023-01-30T12:38:17.016Z"
   },
   {
    "duration": 46,
    "start_time": "2023-01-30T12:38:19.472Z"
   },
   {
    "duration": 5,
    "start_time": "2023-01-30T12:41:25.865Z"
   },
   {
    "duration": 248,
    "start_time": "2023-01-30T12:42:50.369Z"
   },
   {
    "duration": 414,
    "start_time": "2023-01-30T12:42:59.106Z"
   },
   {
    "duration": 262,
    "start_time": "2023-01-30T12:43:10.162Z"
   },
   {
    "duration": 62,
    "start_time": "2023-01-30T12:45:41.290Z"
   },
   {
    "duration": 2,
    "start_time": "2023-01-30T12:46:41.866Z"
   },
   {
    "duration": 9,
    "start_time": "2023-01-30T12:47:09.921Z"
   },
   {
    "duration": 5,
    "start_time": "2023-01-30T12:47:15.882Z"
   },
   {
    "duration": 5,
    "start_time": "2023-01-30T12:47:16.241Z"
   },
   {
    "duration": 26,
    "start_time": "2023-01-30T12:47:16.843Z"
   },
   {
    "duration": 3,
    "start_time": "2023-01-30T12:47:45.905Z"
   },
   {
    "duration": 4,
    "start_time": "2023-01-30T12:47:46.338Z"
   },
   {
    "duration": 9,
    "start_time": "2023-01-30T12:49:00.619Z"
   },
   {
    "duration": 4,
    "start_time": "2023-01-30T12:49:02.259Z"
   },
   {
    "duration": 316756,
    "start_time": "2023-01-30T12:49:04.978Z"
   },
   {
    "duration": 3,
    "start_time": "2023-01-30T12:55:48.733Z"
   },
   {
    "duration": 3,
    "start_time": "2023-01-30T12:55:52.117Z"
   },
   {
    "duration": 3,
    "start_time": "2023-01-30T12:56:13.421Z"
   },
   {
    "duration": 3,
    "start_time": "2023-01-30T12:56:44.373Z"
   },
   {
    "duration": 3,
    "start_time": "2023-01-30T12:56:45.189Z"
   },
   {
    "duration": 3,
    "start_time": "2023-01-30T12:56:50.741Z"
   },
   {
    "duration": 4,
    "start_time": "2023-01-30T12:57:00.229Z"
   },
   {
    "duration": 222678,
    "start_time": "2023-01-30T12:57:01.221Z"
   },
   {
    "duration": 10,
    "start_time": "2023-01-30T13:00:43.901Z"
   },
   {
    "duration": 279,
    "start_time": "2023-01-30T13:02:15.935Z"
   },
   {
    "duration": 4,
    "start_time": "2023-01-30T13:02:16.847Z"
   },
   {
    "duration": 14,
    "start_time": "2023-01-30T13:03:52.800Z"
   },
   {
    "duration": 17,
    "start_time": "2023-01-30T13:04:07.296Z"
   },
   {
    "duration": 7,
    "start_time": "2023-01-30T13:04:30.959Z"
   },
   {
    "duration": 6,
    "start_time": "2023-01-30T13:04:50.448Z"
   },
   {
    "duration": 7,
    "start_time": "2023-01-30T13:05:06.480Z"
   },
   {
    "duration": 9,
    "start_time": "2023-01-30T13:05:19.504Z"
   },
   {
    "duration": 9,
    "start_time": "2023-01-30T13:05:59.137Z"
   },
   {
    "duration": 44,
    "start_time": "2023-01-30T13:06:46.416Z"
   },
   {
    "duration": 4,
    "start_time": "2023-01-30T13:13:36.251Z"
   },
   {
    "duration": 5,
    "start_time": "2023-01-30T13:13:46.249Z"
   },
   {
    "duration": 9,
    "start_time": "2023-01-30T13:13:54.001Z"
   },
   {
    "duration": 9,
    "start_time": "2023-01-30T13:14:09.681Z"
   },
   {
    "duration": 5,
    "start_time": "2023-01-30T13:16:17.633Z"
   },
   {
    "duration": 55,
    "start_time": "2023-01-30T13:16:17.639Z"
   },
   {
    "duration": 10,
    "start_time": "2023-01-30T13:16:17.696Z"
   },
   {
    "duration": 5,
    "start_time": "2023-01-30T13:16:17.707Z"
   },
   {
    "duration": 234,
    "start_time": "2023-01-30T13:16:17.714Z"
   },
   {
    "duration": 6,
    "start_time": "2023-01-30T13:16:17.950Z"
   },
   {
    "duration": 8,
    "start_time": "2023-01-30T13:16:17.957Z"
   },
   {
    "duration": 5,
    "start_time": "2023-01-30T13:16:17.966Z"
   },
   {
    "duration": 286,
    "start_time": "2023-01-30T13:16:17.973Z"
   },
   {
    "duration": 591,
    "start_time": "2023-01-30T13:16:18.260Z"
   },
   {
    "duration": 325,
    "start_time": "2023-01-30T13:16:18.853Z"
   },
   {
    "duration": 4,
    "start_time": "2023-01-30T13:16:19.181Z"
   },
   {
    "duration": 8,
    "start_time": "2023-01-30T13:16:19.186Z"
   },
   {
    "duration": 20,
    "start_time": "2023-01-30T13:16:19.196Z"
   },
   {
    "duration": 10,
    "start_time": "2023-01-30T13:16:19.218Z"
   },
   {
    "duration": 10,
    "start_time": "2023-01-30T13:16:19.230Z"
   },
   {
    "duration": 6,
    "start_time": "2023-01-30T13:16:19.242Z"
   },
   {
    "duration": 8,
    "start_time": "2023-01-30T13:16:19.250Z"
   },
   {
    "duration": 5,
    "start_time": "2023-01-30T13:16:19.260Z"
   },
   {
    "duration": 5,
    "start_time": "2023-01-30T13:16:27.595Z"
   },
   {
    "duration": 4,
    "start_time": "2023-01-30T13:16:35.417Z"
   },
   {
    "duration": 248,
    "start_time": "2023-01-30T13:16:37.913Z"
   },
   {
    "duration": 28,
    "start_time": "2023-01-30T13:16:42.697Z"
   },
   {
    "duration": 27,
    "start_time": "2023-01-30T13:16:46.715Z"
   },
   {
    "duration": 710,
    "start_time": "2023-01-30T13:17:01.506Z"
   },
   {
    "duration": 13,
    "start_time": "2023-01-30T13:17:03.249Z"
   },
   {
    "duration": 6446,
    "start_time": "2023-01-30T13:17:05.465Z"
   },
   {
    "duration": 4,
    "start_time": "2023-01-30T13:17:11.913Z"
   },
   {
    "duration": 19,
    "start_time": "2023-01-30T13:17:12.011Z"
   },
   {
    "duration": 7,
    "start_time": "2023-01-30T13:17:12.954Z"
   },
   {
    "duration": 32,
    "start_time": "2023-01-30T13:17:16.242Z"
   },
   {
    "duration": 4,
    "start_time": "2023-01-30T13:17:40.569Z"
   },
   {
    "duration": 5,
    "start_time": "2023-01-30T13:17:40.801Z"
   },
   {
    "duration": 32,
    "start_time": "2023-01-30T13:17:41.081Z"
   },
   {
    "duration": 2,
    "start_time": "2023-01-30T13:17:52.847Z"
   },
   {
    "duration": 3,
    "start_time": "2023-01-30T13:18:01.233Z"
   },
   {
    "duration": 932023,
    "start_time": "2023-01-30T13:18:05.858Z"
   },
   {
    "duration": 3,
    "start_time": "2023-01-30T13:33:52.580Z"
   },
   {
    "duration": 4,
    "start_time": "2023-01-30T13:34:04.061Z"
   },
   {
    "duration": 3,
    "start_time": "2023-01-30T13:34:10.013Z"
   },
   {
    "duration": 2237454,
    "start_time": "2023-01-30T13:34:11.877Z"
   },
   {
    "duration": 3,
    "start_time": "2023-01-30T14:20:52.895Z"
   },
   {
    "duration": 4,
    "start_time": "2023-01-30T14:20:58.093Z"
   },
   {
    "duration": 13,
    "start_time": "2023-01-30T14:21:11.197Z"
   },
   {
    "duration": 6,
    "start_time": "2023-01-30T14:21:20.997Z"
   },
   {
    "duration": 12,
    "start_time": "2023-01-30T14:21:22.494Z"
   },
   {
    "duration": 3,
    "start_time": "2023-01-30T14:24:14.566Z"
   },
   {
    "duration": 215309,
    "start_time": "2023-01-30T14:25:01.446Z"
   },
   {
    "duration": 3,
    "start_time": "2023-01-30T14:28:51.636Z"
   },
   {
    "duration": 8,
    "start_time": "2023-01-30T14:28:59.992Z"
   },
   {
    "duration": 4,
    "start_time": "2023-01-30T14:29:08.695Z"
   },
   {
    "duration": 12,
    "start_time": "2023-01-30T14:29:11.807Z"
   },
   {
    "duration": 11627,
    "start_time": "2023-01-30T14:30:48.585Z"
   },
   {
    "duration": 180,
    "start_time": "2023-01-30T14:31:29.169Z"
   },
   {
    "duration": 137,
    "start_time": "2023-01-30T14:32:07.975Z"
   },
   {
    "duration": 225,
    "start_time": "2023-01-30T14:32:34.871Z"
   },
   {
    "duration": 140,
    "start_time": "2023-01-30T14:33:04.705Z"
   },
   {
    "duration": 118,
    "start_time": "2023-01-30T14:33:57.280Z"
   },
   {
    "duration": 49,
    "start_time": "2023-01-30T14:34:06.408Z"
   },
   {
    "duration": 120,
    "start_time": "2023-01-30T14:34:16.568Z"
   },
   {
    "duration": 135,
    "start_time": "2023-01-30T14:34:26.472Z"
   },
   {
    "duration": 140,
    "start_time": "2023-01-30T14:34:39.233Z"
   },
   {
    "duration": 120,
    "start_time": "2023-01-30T14:35:03.800Z"
   },
   {
    "duration": 97,
    "start_time": "2023-01-30T22:02:47.014Z"
   }
  ],
  "kernelspec": {
   "display_name": "Python 3 (ipykernel)",
   "language": "python",
   "name": "python3"
  },
  "language_info": {
   "codemirror_mode": {
    "name": "ipython",
    "version": 3
   },
   "file_extension": ".py",
   "mimetype": "text/x-python",
   "name": "python",
   "nbconvert_exporter": "python",
   "pygments_lexer": "ipython3",
   "version": "3.9.5"
  },
  "toc": {
   "base_numbering": 1,
   "nav_menu": {},
   "number_sections": true,
   "sideBar": true,
   "skip_h1_title": true,
   "title_cell": "Содержание",
   "title_sidebar": "Contents",
   "toc_cell": true,
   "toc_position": {},
   "toc_section_display": true,
   "toc_window_display": false
  }
 },
 "nbformat": 4,
 "nbformat_minor": 2
}
