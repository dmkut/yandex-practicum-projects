{
 "cells": [
  {
   "cell_type": "markdown",
   "id": "1f928c36",
   "metadata": {
    "deletable": false,
    "editable": false,
    "id": "c81daeeb"
   },
   "source": [
    "# Исследование надежности заемщиков"
   ]
  },
  {
   "cell_type": "markdown",
   "id": "f13197b6",
   "metadata": {
    "deletable": false,
    "editable": false,
    "id": "-G3EJWzf62s6"
   },
   "source": [
    "Это первая часть проекта, она будет проверена автоматически. Вторую часть проверит ревьюер. "
   ]
  },
  {
   "cell_type": "markdown",
   "id": "2e693577",
   "metadata": {
    "deletable": false,
    "editable": false,
    "id": "744d7639"
   },
   "source": [
    "## Откройте таблицу и изучите общую информацию о данных"
   ]
  },
  {
   "cell_type": "markdown",
   "id": "d347ad33",
   "metadata": {
    "deletable": false,
    "editable": false,
    "id": "e7a14c31",
    "tags": [
     "start_task"
    ]
   },
   "source": [
    "**Задание 1. Импортируйте библиотеку pandas. Считайте данные из csv-файла в датафрейм и сохраните в переменную `data`. Путь к файлу:**\n",
    "\n",
    "`/datasets/data.csv`"
   ]
  },
  {
   "cell_type": "code",
   "execution_count": 354,
   "id": "357085c2",
   "metadata": {
    "id": "7bcf75c9"
   },
   "outputs": [],
   "source": [
    "# импортируйте библиотеку pandas\n",
    "import pandas as pd"
   ]
  },
  {
   "cell_type": "code",
   "execution_count": 355,
   "id": "1cdb6fc4",
   "metadata": {
    "id": "4d240ee2"
   },
   "outputs": [],
   "source": [
    "# прочитайте csv-файл\n",
    "data = pd.read_csv('/datasets/data.csv')"
   ]
  },
  {
   "cell_type": "markdown",
   "id": "56d65c2f",
   "metadata": {
    "deletable": false,
    "editable": false,
    "id": "b8038fe3",
    "tags": [
     "start_task"
    ]
   },
   "source": [
    "**Задание 2. Выведите первые 20 строчек датафрейма `data` на экран.**"
   ]
  },
  {
   "cell_type": "code",
   "execution_count": 356,
   "id": "e8e7c8ff",
   "metadata": {
    "id": "2a7cab99"
   },
   "outputs": [
    {
     "data": {
      "text/html": [
       "<div>\n",
       "<style scoped>\n",
       "    .dataframe tbody tr th:only-of-type {\n",
       "        vertical-align: middle;\n",
       "    }\n",
       "\n",
       "    .dataframe tbody tr th {\n",
       "        vertical-align: top;\n",
       "    }\n",
       "\n",
       "    .dataframe thead th {\n",
       "        text-align: right;\n",
       "    }\n",
       "</style>\n",
       "<table border=\"1\" class=\"dataframe\">\n",
       "  <thead>\n",
       "    <tr style=\"text-align: right;\">\n",
       "      <th></th>\n",
       "      <th>children</th>\n",
       "      <th>days_employed</th>\n",
       "      <th>dob_years</th>\n",
       "      <th>education</th>\n",
       "      <th>education_id</th>\n",
       "      <th>family_status</th>\n",
       "      <th>family_status_id</th>\n",
       "      <th>gender</th>\n",
       "      <th>income_type</th>\n",
       "      <th>debt</th>\n",
       "      <th>total_income</th>\n",
       "      <th>purpose</th>\n",
       "    </tr>\n",
       "  </thead>\n",
       "  <tbody>\n",
       "    <tr>\n",
       "      <th>0</th>\n",
       "      <td>1</td>\n",
       "      <td>-8437.673028</td>\n",
       "      <td>42</td>\n",
       "      <td>высшее</td>\n",
       "      <td>0</td>\n",
       "      <td>женат / замужем</td>\n",
       "      <td>0</td>\n",
       "      <td>F</td>\n",
       "      <td>сотрудник</td>\n",
       "      <td>0</td>\n",
       "      <td>253875.639453</td>\n",
       "      <td>покупка жилья</td>\n",
       "    </tr>\n",
       "    <tr>\n",
       "      <th>1</th>\n",
       "      <td>1</td>\n",
       "      <td>-4024.803754</td>\n",
       "      <td>36</td>\n",
       "      <td>среднее</td>\n",
       "      <td>1</td>\n",
       "      <td>женат / замужем</td>\n",
       "      <td>0</td>\n",
       "      <td>F</td>\n",
       "      <td>сотрудник</td>\n",
       "      <td>0</td>\n",
       "      <td>112080.014102</td>\n",
       "      <td>приобретение автомобиля</td>\n",
       "    </tr>\n",
       "    <tr>\n",
       "      <th>2</th>\n",
       "      <td>0</td>\n",
       "      <td>-5623.422610</td>\n",
       "      <td>33</td>\n",
       "      <td>Среднее</td>\n",
       "      <td>1</td>\n",
       "      <td>женат / замужем</td>\n",
       "      <td>0</td>\n",
       "      <td>M</td>\n",
       "      <td>сотрудник</td>\n",
       "      <td>0</td>\n",
       "      <td>145885.952297</td>\n",
       "      <td>покупка жилья</td>\n",
       "    </tr>\n",
       "    <tr>\n",
       "      <th>3</th>\n",
       "      <td>3</td>\n",
       "      <td>-4124.747207</td>\n",
       "      <td>32</td>\n",
       "      <td>среднее</td>\n",
       "      <td>1</td>\n",
       "      <td>женат / замужем</td>\n",
       "      <td>0</td>\n",
       "      <td>M</td>\n",
       "      <td>сотрудник</td>\n",
       "      <td>0</td>\n",
       "      <td>267628.550329</td>\n",
       "      <td>дополнительное образование</td>\n",
       "    </tr>\n",
       "    <tr>\n",
       "      <th>4</th>\n",
       "      <td>0</td>\n",
       "      <td>340266.072047</td>\n",
       "      <td>53</td>\n",
       "      <td>среднее</td>\n",
       "      <td>1</td>\n",
       "      <td>гражданский брак</td>\n",
       "      <td>1</td>\n",
       "      <td>F</td>\n",
       "      <td>пенсионер</td>\n",
       "      <td>0</td>\n",
       "      <td>158616.077870</td>\n",
       "      <td>сыграть свадьбу</td>\n",
       "    </tr>\n",
       "    <tr>\n",
       "      <th>5</th>\n",
       "      <td>0</td>\n",
       "      <td>-926.185831</td>\n",
       "      <td>27</td>\n",
       "      <td>высшее</td>\n",
       "      <td>0</td>\n",
       "      <td>гражданский брак</td>\n",
       "      <td>1</td>\n",
       "      <td>M</td>\n",
       "      <td>компаньон</td>\n",
       "      <td>0</td>\n",
       "      <td>255763.565419</td>\n",
       "      <td>покупка жилья</td>\n",
       "    </tr>\n",
       "    <tr>\n",
       "      <th>6</th>\n",
       "      <td>0</td>\n",
       "      <td>-2879.202052</td>\n",
       "      <td>43</td>\n",
       "      <td>высшее</td>\n",
       "      <td>0</td>\n",
       "      <td>женат / замужем</td>\n",
       "      <td>0</td>\n",
       "      <td>F</td>\n",
       "      <td>компаньон</td>\n",
       "      <td>0</td>\n",
       "      <td>240525.971920</td>\n",
       "      <td>операции с жильем</td>\n",
       "    </tr>\n",
       "    <tr>\n",
       "      <th>7</th>\n",
       "      <td>0</td>\n",
       "      <td>-152.779569</td>\n",
       "      <td>50</td>\n",
       "      <td>СРЕДНЕЕ</td>\n",
       "      <td>1</td>\n",
       "      <td>женат / замужем</td>\n",
       "      <td>0</td>\n",
       "      <td>M</td>\n",
       "      <td>сотрудник</td>\n",
       "      <td>0</td>\n",
       "      <td>135823.934197</td>\n",
       "      <td>образование</td>\n",
       "    </tr>\n",
       "    <tr>\n",
       "      <th>8</th>\n",
       "      <td>2</td>\n",
       "      <td>-6929.865299</td>\n",
       "      <td>35</td>\n",
       "      <td>ВЫСШЕЕ</td>\n",
       "      <td>0</td>\n",
       "      <td>гражданский брак</td>\n",
       "      <td>1</td>\n",
       "      <td>F</td>\n",
       "      <td>сотрудник</td>\n",
       "      <td>0</td>\n",
       "      <td>95856.832424</td>\n",
       "      <td>на проведение свадьбы</td>\n",
       "    </tr>\n",
       "    <tr>\n",
       "      <th>9</th>\n",
       "      <td>0</td>\n",
       "      <td>-2188.756445</td>\n",
       "      <td>41</td>\n",
       "      <td>среднее</td>\n",
       "      <td>1</td>\n",
       "      <td>женат / замужем</td>\n",
       "      <td>0</td>\n",
       "      <td>M</td>\n",
       "      <td>сотрудник</td>\n",
       "      <td>0</td>\n",
       "      <td>144425.938277</td>\n",
       "      <td>покупка жилья для семьи</td>\n",
       "    </tr>\n",
       "    <tr>\n",
       "      <th>10</th>\n",
       "      <td>2</td>\n",
       "      <td>-4171.483647</td>\n",
       "      <td>36</td>\n",
       "      <td>высшее</td>\n",
       "      <td>0</td>\n",
       "      <td>женат / замужем</td>\n",
       "      <td>0</td>\n",
       "      <td>M</td>\n",
       "      <td>компаньон</td>\n",
       "      <td>0</td>\n",
       "      <td>113943.491460</td>\n",
       "      <td>покупка недвижимости</td>\n",
       "    </tr>\n",
       "    <tr>\n",
       "      <th>11</th>\n",
       "      <td>0</td>\n",
       "      <td>-792.701887</td>\n",
       "      <td>40</td>\n",
       "      <td>среднее</td>\n",
       "      <td>1</td>\n",
       "      <td>женат / замужем</td>\n",
       "      <td>0</td>\n",
       "      <td>F</td>\n",
       "      <td>сотрудник</td>\n",
       "      <td>0</td>\n",
       "      <td>77069.234271</td>\n",
       "      <td>покупка коммерческой недвижимости</td>\n",
       "    </tr>\n",
       "    <tr>\n",
       "      <th>12</th>\n",
       "      <td>0</td>\n",
       "      <td>NaN</td>\n",
       "      <td>65</td>\n",
       "      <td>среднее</td>\n",
       "      <td>1</td>\n",
       "      <td>гражданский брак</td>\n",
       "      <td>1</td>\n",
       "      <td>M</td>\n",
       "      <td>пенсионер</td>\n",
       "      <td>0</td>\n",
       "      <td>NaN</td>\n",
       "      <td>сыграть свадьбу</td>\n",
       "    </tr>\n",
       "    <tr>\n",
       "      <th>13</th>\n",
       "      <td>0</td>\n",
       "      <td>-1846.641941</td>\n",
       "      <td>54</td>\n",
       "      <td>неоконченное высшее</td>\n",
       "      <td>2</td>\n",
       "      <td>женат / замужем</td>\n",
       "      <td>0</td>\n",
       "      <td>F</td>\n",
       "      <td>сотрудник</td>\n",
       "      <td>0</td>\n",
       "      <td>130458.228857</td>\n",
       "      <td>приобретение автомобиля</td>\n",
       "    </tr>\n",
       "    <tr>\n",
       "      <th>14</th>\n",
       "      <td>0</td>\n",
       "      <td>-1844.956182</td>\n",
       "      <td>56</td>\n",
       "      <td>высшее</td>\n",
       "      <td>0</td>\n",
       "      <td>гражданский брак</td>\n",
       "      <td>1</td>\n",
       "      <td>F</td>\n",
       "      <td>компаньон</td>\n",
       "      <td>1</td>\n",
       "      <td>165127.911772</td>\n",
       "      <td>покупка жилой недвижимости</td>\n",
       "    </tr>\n",
       "    <tr>\n",
       "      <th>15</th>\n",
       "      <td>1</td>\n",
       "      <td>-972.364419</td>\n",
       "      <td>26</td>\n",
       "      <td>среднее</td>\n",
       "      <td>1</td>\n",
       "      <td>женат / замужем</td>\n",
       "      <td>0</td>\n",
       "      <td>F</td>\n",
       "      <td>сотрудник</td>\n",
       "      <td>0</td>\n",
       "      <td>116820.904450</td>\n",
       "      <td>строительство собственной недвижимости</td>\n",
       "    </tr>\n",
       "    <tr>\n",
       "      <th>16</th>\n",
       "      <td>0</td>\n",
       "      <td>-1719.934226</td>\n",
       "      <td>35</td>\n",
       "      <td>среднее</td>\n",
       "      <td>1</td>\n",
       "      <td>женат / замужем</td>\n",
       "      <td>0</td>\n",
       "      <td>F</td>\n",
       "      <td>сотрудник</td>\n",
       "      <td>0</td>\n",
       "      <td>289202.704229</td>\n",
       "      <td>недвижимость</td>\n",
       "    </tr>\n",
       "    <tr>\n",
       "      <th>17</th>\n",
       "      <td>0</td>\n",
       "      <td>-2369.999720</td>\n",
       "      <td>33</td>\n",
       "      <td>высшее</td>\n",
       "      <td>0</td>\n",
       "      <td>гражданский брак</td>\n",
       "      <td>1</td>\n",
       "      <td>M</td>\n",
       "      <td>сотрудник</td>\n",
       "      <td>0</td>\n",
       "      <td>90410.586745</td>\n",
       "      <td>строительство недвижимости</td>\n",
       "    </tr>\n",
       "    <tr>\n",
       "      <th>18</th>\n",
       "      <td>0</td>\n",
       "      <td>400281.136913</td>\n",
       "      <td>53</td>\n",
       "      <td>среднее</td>\n",
       "      <td>1</td>\n",
       "      <td>вдовец / вдова</td>\n",
       "      <td>2</td>\n",
       "      <td>F</td>\n",
       "      <td>пенсионер</td>\n",
       "      <td>0</td>\n",
       "      <td>56823.777243</td>\n",
       "      <td>на покупку подержанного автомобиля</td>\n",
       "    </tr>\n",
       "    <tr>\n",
       "      <th>19</th>\n",
       "      <td>0</td>\n",
       "      <td>-10038.818549</td>\n",
       "      <td>48</td>\n",
       "      <td>СРЕДНЕЕ</td>\n",
       "      <td>1</td>\n",
       "      <td>в разводе</td>\n",
       "      <td>3</td>\n",
       "      <td>F</td>\n",
       "      <td>сотрудник</td>\n",
       "      <td>0</td>\n",
       "      <td>242831.107982</td>\n",
       "      <td>на покупку своего автомобиля</td>\n",
       "    </tr>\n",
       "  </tbody>\n",
       "</table>\n",
       "</div>"
      ],
      "text/plain": [
       "    children  days_employed  dob_years            education  education_id  \\\n",
       "0          1   -8437.673028         42               высшее             0   \n",
       "1          1   -4024.803754         36              среднее             1   \n",
       "2          0   -5623.422610         33              Среднее             1   \n",
       "3          3   -4124.747207         32              среднее             1   \n",
       "4          0  340266.072047         53              среднее             1   \n",
       "5          0    -926.185831         27               высшее             0   \n",
       "6          0   -2879.202052         43               высшее             0   \n",
       "7          0    -152.779569         50              СРЕДНЕЕ             1   \n",
       "8          2   -6929.865299         35               ВЫСШЕЕ             0   \n",
       "9          0   -2188.756445         41              среднее             1   \n",
       "10         2   -4171.483647         36               высшее             0   \n",
       "11         0    -792.701887         40              среднее             1   \n",
       "12         0            NaN         65              среднее             1   \n",
       "13         0   -1846.641941         54  неоконченное высшее             2   \n",
       "14         0   -1844.956182         56               высшее             0   \n",
       "15         1    -972.364419         26              среднее             1   \n",
       "16         0   -1719.934226         35              среднее             1   \n",
       "17         0   -2369.999720         33               высшее             0   \n",
       "18         0  400281.136913         53              среднее             1   \n",
       "19         0  -10038.818549         48              СРЕДНЕЕ             1   \n",
       "\n",
       "       family_status  family_status_id gender income_type  debt  \\\n",
       "0    женат / замужем                 0      F   сотрудник     0   \n",
       "1    женат / замужем                 0      F   сотрудник     0   \n",
       "2    женат / замужем                 0      M   сотрудник     0   \n",
       "3    женат / замужем                 0      M   сотрудник     0   \n",
       "4   гражданский брак                 1      F   пенсионер     0   \n",
       "5   гражданский брак                 1      M   компаньон     0   \n",
       "6    женат / замужем                 0      F   компаньон     0   \n",
       "7    женат / замужем                 0      M   сотрудник     0   \n",
       "8   гражданский брак                 1      F   сотрудник     0   \n",
       "9    женат / замужем                 0      M   сотрудник     0   \n",
       "10   женат / замужем                 0      M   компаньон     0   \n",
       "11   женат / замужем                 0      F   сотрудник     0   \n",
       "12  гражданский брак                 1      M   пенсионер     0   \n",
       "13   женат / замужем                 0      F   сотрудник     0   \n",
       "14  гражданский брак                 1      F   компаньон     1   \n",
       "15   женат / замужем                 0      F   сотрудник     0   \n",
       "16   женат / замужем                 0      F   сотрудник     0   \n",
       "17  гражданский брак                 1      M   сотрудник     0   \n",
       "18    вдовец / вдова                 2      F   пенсионер     0   \n",
       "19         в разводе                 3      F   сотрудник     0   \n",
       "\n",
       "     total_income                                 purpose  \n",
       "0   253875.639453                           покупка жилья  \n",
       "1   112080.014102                 приобретение автомобиля  \n",
       "2   145885.952297                           покупка жилья  \n",
       "3   267628.550329              дополнительное образование  \n",
       "4   158616.077870                         сыграть свадьбу  \n",
       "5   255763.565419                           покупка жилья  \n",
       "6   240525.971920                       операции с жильем  \n",
       "7   135823.934197                             образование  \n",
       "8    95856.832424                   на проведение свадьбы  \n",
       "9   144425.938277                 покупка жилья для семьи  \n",
       "10  113943.491460                    покупка недвижимости  \n",
       "11   77069.234271       покупка коммерческой недвижимости  \n",
       "12            NaN                         сыграть свадьбу  \n",
       "13  130458.228857                 приобретение автомобиля  \n",
       "14  165127.911772              покупка жилой недвижимости  \n",
       "15  116820.904450  строительство собственной недвижимости  \n",
       "16  289202.704229                            недвижимость  \n",
       "17   90410.586745              строительство недвижимости  \n",
       "18   56823.777243      на покупку подержанного автомобиля  \n",
       "19  242831.107982            на покупку своего автомобиля  "
      ]
     },
     "execution_count": 356,
     "metadata": {},
     "output_type": "execute_result"
    }
   ],
   "source": [
    "# ваш код здесь\n",
    "data.head(20)"
   ]
  },
  {
   "cell_type": "markdown",
   "id": "637a306c",
   "metadata": {
    "deletable": false,
    "editable": false,
    "id": "1c12e233",
    "tags": [
     "start_task"
    ]
   },
   "source": [
    "**Задание 3. Выведите основную информацию о датафрейме с помощью метода `info()`.**"
   ]
  },
  {
   "cell_type": "code",
   "execution_count": 357,
   "id": "3208e224",
   "metadata": {
    "id": "2b757bca"
   },
   "outputs": [
    {
     "name": "stdout",
     "output_type": "stream",
     "text": [
      "<class 'pandas.core.frame.DataFrame'>\n",
      "RangeIndex: 21525 entries, 0 to 21524\n",
      "Data columns (total 12 columns):\n",
      " #   Column            Non-Null Count  Dtype  \n",
      "---  ------            --------------  -----  \n",
      " 0   children          21525 non-null  int64  \n",
      " 1   days_employed     19351 non-null  float64\n",
      " 2   dob_years         21525 non-null  int64  \n",
      " 3   education         21525 non-null  object \n",
      " 4   education_id      21525 non-null  int64  \n",
      " 5   family_status     21525 non-null  object \n",
      " 6   family_status_id  21525 non-null  int64  \n",
      " 7   gender            21525 non-null  object \n",
      " 8   income_type       21525 non-null  object \n",
      " 9   debt              21525 non-null  int64  \n",
      " 10  total_income      19351 non-null  float64\n",
      " 11  purpose           21525 non-null  object \n",
      "dtypes: float64(2), int64(5), object(5)\n",
      "memory usage: 2.0+ MB\n"
     ]
    }
   ],
   "source": [
    "# ваш код здесь\n",
    "data.info()"
   ]
  },
  {
   "cell_type": "markdown",
   "id": "9a5346c6",
   "metadata": {
    "deletable": false,
    "editable": false,
    "id": "333ec665"
   },
   "source": [
    "## Предобработка данных"
   ]
  },
  {
   "cell_type": "markdown",
   "id": "2f28a91b",
   "metadata": {
    "deletable": false,
    "editable": false,
    "id": "02d92d53"
   },
   "source": [
    "### Удаление пропусков"
   ]
  },
  {
   "cell_type": "markdown",
   "id": "13eb12bb",
   "metadata": {
    "deletable": false,
    "editable": false,
    "id": "cd84967c",
    "tags": [
     "start_task"
    ]
   },
   "source": [
    "**Задание 4. Выведите количество пропущенных значений для каждого столбца. Используйте комбинацию двух методов.**"
   ]
  },
  {
   "cell_type": "code",
   "execution_count": 358,
   "id": "1c455cd0",
   "metadata": {
    "id": "7f9b2309"
   },
   "outputs": [
    {
     "data": {
      "text/plain": [
       "children               0\n",
       "days_employed       2174\n",
       "dob_years              0\n",
       "education              0\n",
       "education_id           0\n",
       "family_status          0\n",
       "family_status_id       0\n",
       "gender                 0\n",
       "income_type            0\n",
       "debt                   0\n",
       "total_income        2174\n",
       "purpose                0\n",
       "dtype: int64"
      ]
     },
     "execution_count": 358,
     "metadata": {},
     "output_type": "execute_result"
    }
   ],
   "source": [
    "# ваш код здесь\n",
    "data.isna().sum()"
   ]
  },
  {
   "cell_type": "markdown",
   "id": "5336f87e",
   "metadata": {
    "deletable": false,
    "editable": false,
    "id": "db86e27b",
    "tags": [
     "start_task"
    ]
   },
   "source": [
    "**Задание 5. В двух столбцах есть пропущенные значения. Один из них — `days_employed`. Пропуски в этом столбце вы обработаете на следующем этапе. Другой столбец с пропущенными значениями — `total_income` — хранит данные о доходах. На сумму дохода сильнее всего влияет тип занятости, поэтому заполнить пропуски в этом столбце нужно медианным значением по каждому типу из столбца `income_type`. Например, у человека с типом занятости `сотрудник` пропуск в столбце `total_income` должен быть заполнен медианным доходом среди всех записей с тем же типом.**"
   ]
  },
  {
   "cell_type": "code",
   "execution_count": 359,
   "id": "62ffb25a",
   "metadata": {
    "id": "42006a93"
   },
   "outputs": [],
   "source": [
    "row_types = data['income_type'].unique().tolist()\n",
    "median_income = []\n",
    "for i in row_types:\n",
    "    median_income.append(data[data['income_type'] == i]['total_income'].median())\n",
    "\n",
    "data['total_income'] = data['total_income'].fillna('пусто')\n",
    "    \n",
    "for j in range(len(row_types)):\n",
    "    data.loc[(data['income_type'] == row_types[j]) & (data['total_income'] == 'пусто'), 'total_income'] = median_income[j]                    \n",
    "#i, j = 0, 0\n",
    "    \n",
    "#print(row_types)\n",
    "#print(median_income)\n",
    "#display(data.head(20))\n",
    "#data.isna().sum()\n",
    "\n"
   ]
  },
  {
   "cell_type": "markdown",
   "id": "eb92f79a",
   "metadata": {
    "deletable": false,
    "editable": false,
    "id": "89da5ece"
   },
   "source": [
    "### Обработка аномальных значений"
   ]
  },
  {
   "cell_type": "markdown",
   "id": "e34104a4",
   "metadata": {
    "deletable": false,
    "editable": false,
    "id": "57964554",
    "tags": [
     "start_task"
    ]
   },
   "source": [
    "**Задание 6. В данных могут встречаться артефакты (аномалии) — значения, которые не отражают действительность и появились по какой-то ошибке. Таким артефактом будет отрицательное количество дней трудового стажа в столбце `days_employed`. Для реальных данных это нормально. Обработайте значения в этом столбце: замените все отрицательные значения положительными с помощью метода `abs()`.**"
   ]
  },
  {
   "cell_type": "code",
   "execution_count": 360,
   "id": "b9a5065a",
   "metadata": {
    "id": "f6f055bf"
   },
   "outputs": [],
   "source": [
    "# ваш код здесь\n",
    "data['days_employed'] = data['days_employed'].abs()"
   ]
  },
  {
   "cell_type": "markdown",
   "id": "cf066d64",
   "metadata": {
    "deletable": false,
    "editable": false,
    "id": "6107dd2f",
    "tags": [
     "start_task"
    ]
   },
   "source": [
    "**Задание 7. Для каждого типа занятости выведите медианное значение трудового стажа `days_employed` в днях.**"
   ]
  },
  {
   "cell_type": "code",
   "execution_count": 361,
   "id": "13e72f8d",
   "metadata": {
    "id": "85a5faf6"
   },
   "outputs": [
    {
     "data": {
      "text/plain": [
       "income_type\n",
       "безработный        366413.652744\n",
       "в декрете            3296.759962\n",
       "госслужащий          2689.368353\n",
       "компаньон            1547.382223\n",
       "пенсионер          365213.306266\n",
       "предприниматель       520.848083\n",
       "сотрудник            1574.202821\n",
       "студент               578.751554\n",
       "Name: days_employed, dtype: float64"
      ]
     },
     "execution_count": 361,
     "metadata": {},
     "output_type": "execute_result"
    }
   ],
   "source": [
    "# ваш код здесь\n",
    "#median_days_employed = []\n",
    "#for i in row_types:\n",
    "#    median_days_employed.append(data[data['income_type'] == i]['days_employed'].median())\n",
    "#for j in range(len(row_types)):\n",
    "#    print(row_types[j], median_days_employed[j])\n",
    "\n",
    "data.groupby('income_type')['days_employed'].median()"
   ]
  },
  {
   "cell_type": "markdown",
   "id": "d851b021",
   "metadata": {
    "deletable": false,
    "editable": false,
    "id": "38d1a030"
   },
   "source": [
    "У двух типов (безработные и пенсионеры) получатся аномально большие значения. Исправить такие значения сложно, поэтому оставьте их как есть. Тем более этот столбец не понадобится вам для исследования."
   ]
  },
  {
   "cell_type": "markdown",
   "id": "1a265b01",
   "metadata": {
    "deletable": false,
    "editable": false,
    "id": "d8a9f147",
    "tags": [
     "start_task"
    ]
   },
   "source": [
    "**Задание 8. Выведите перечень уникальных значений столбца `children`.**"
   ]
  },
  {
   "cell_type": "code",
   "execution_count": 362,
   "id": "c06eef54",
   "metadata": {
    "id": "ef5056eb"
   },
   "outputs": [
    {
     "data": {
      "text/plain": [
       "array([ 1,  0,  3,  2, -1,  4, 20,  5])"
      ]
     },
     "execution_count": 362,
     "metadata": {},
     "output_type": "execute_result"
    }
   ],
   "source": [
    "# ваш код здесь\n",
    "data['children'].unique()"
   ]
  },
  {
   "cell_type": "markdown",
   "id": "5724b430",
   "metadata": {
    "deletable": false,
    "editable": false,
    "id": "40b9ebf2",
    "tags": [
     "start_task"
    ]
   },
   "source": [
    "**Задание 9. В столбце `children` есть два аномальных значения. Удалите строки, в которых встречаются такие аномальные значения из датафрейма `data`.**"
   ]
  },
  {
   "cell_type": "code",
   "execution_count": 363,
   "id": "d805944b",
   "metadata": {
    "id": "3ff9801d"
   },
   "outputs": [
    {
     "data": {
      "text/plain": [
       "array([1, 0, 3, 2, 4, 5])"
      ]
     },
     "execution_count": 363,
     "metadata": {},
     "output_type": "execute_result"
    }
   ],
   "source": [
    "# ваш код здесь\n",
    "data = data.drop(data[(data['children'] == 20) | (data['children'] == -1)].index)\n",
    "#data.loc[(data['children'] == -1) | (data['children'] == 20)].drop()\n",
    "data['children'].unique()"
   ]
  },
  {
   "cell_type": "markdown",
   "id": "6641f2c1",
   "metadata": {
    "deletable": false,
    "editable": false,
    "id": "bbc4d0ce",
    "tags": [
     "start_task"
    ]
   },
   "source": [
    "**Задание 10. Ещё раз выведите перечень уникальных значений столбца `children`, чтобы убедиться, что артефакты удалены.**"
   ]
  },
  {
   "cell_type": "code",
   "execution_count": 364,
   "id": "85a8209a",
   "metadata": {
    "id": "ad4fa8b7"
   },
   "outputs": [
    {
     "data": {
      "text/plain": [
       "array([1, 0, 3, 2, 4, 5])"
      ]
     },
     "execution_count": 364,
     "metadata": {},
     "output_type": "execute_result"
    }
   ],
   "source": [
    "# ваш код здесь\n",
    "data['children'].unique()"
   ]
  },
  {
   "cell_type": "markdown",
   "id": "3b7229e6",
   "metadata": {
    "deletable": false,
    "editable": false,
    "id": "75440b63"
   },
   "source": [
    "### Удаление пропусков (продолжение)"
   ]
  },
  {
   "cell_type": "markdown",
   "id": "4e7a5376",
   "metadata": {
    "deletable": false,
    "editable": false,
    "id": "f4ea573f",
    "tags": [
     "start_task"
    ]
   },
   "source": [
    "**Задание 11. Заполните пропуски в столбце `days_employed` медианными значениями по каждому типу занятости `income_type`.**"
   ]
  },
  {
   "cell_type": "code",
   "execution_count": 365,
   "id": "69735d46",
   "metadata": {
    "id": "af6b1a7e"
   },
   "outputs": [],
   "source": [
    "# ваш код здесь\n",
    "#data['days_employed'] = data['days_employed'].fillna('пусто')\n",
    "\n",
    "days_employed_median = data.groupby('income_type')['days_employed'].median().tolist()\n",
    "income_type_list = data.groupby('income_type')['days_employed'].median().index.tolist()\n",
    "\n",
    "data['days_employed'] = data['days_employed'].fillna('пусто')\n",
    "\n",
    "def fill_empty(df, category, medians):\n",
    "    for i in range(len(category)):\n",
    "        df.loc[(df['income_type'] == category[i]) & (df['days_employed'] == 'пусто'), 'days_employed'] = medians[i]\n",
    "    return df               \n",
    "\n",
    "data = fill_empty(data, income_type_list, days_employed_median)\n",
    "                    \n",
    "#print(days_employed_median)\n",
    "#print(income_type_list)\n",
    "#for i in row_types\n",
    "\n",
    "#data[data['days_employed'] == 'пусто'].head(10))"
   ]
  },
  {
   "cell_type": "markdown",
   "id": "e1bed059",
   "metadata": {
    "deletable": false,
    "editable": false,
    "id": "2753f40d",
    "tags": [
     "start_task"
    ]
   },
   "source": [
    "**Задание 12. Убедитесь, что все пропуски заполнены. Проверьте себя и ещё раз выведите количество пропущенных значений для каждого столбца с помощью двух методов.**"
   ]
  },
  {
   "cell_type": "code",
   "execution_count": 366,
   "id": "756d0a7f",
   "metadata": {
    "id": "55f78bc2"
   },
   "outputs": [
    {
     "data": {
      "text/plain": [
       "children            0\n",
       "days_employed       0\n",
       "dob_years           0\n",
       "education           0\n",
       "education_id        0\n",
       "family_status       0\n",
       "family_status_id    0\n",
       "gender              0\n",
       "income_type         0\n",
       "debt                0\n",
       "total_income        0\n",
       "purpose             0\n",
       "dtype: int64"
      ]
     },
     "execution_count": 366,
     "metadata": {},
     "output_type": "execute_result"
    }
   ],
   "source": [
    "# ваш код здесь\n",
    "data.isna().sum()"
   ]
  },
  {
   "cell_type": "markdown",
   "id": "86d8e6ce",
   "metadata": {
    "deletable": false,
    "editable": false,
    "id": "ddc81e43"
   },
   "source": [
    "### Изменение типов данных"
   ]
  },
  {
   "cell_type": "markdown",
   "id": "e2ba941b",
   "metadata": {
    "deletable": false,
    "editable": false,
    "id": "42d19d24",
    "tags": [
     "start_task"
    ]
   },
   "source": [
    "**Задание 13. Замените вещественный тип данных в столбце `total_income` на целочисленный с помощью метода `astype()`.**"
   ]
  },
  {
   "cell_type": "code",
   "execution_count": 367,
   "id": "49adab4c",
   "metadata": {
    "id": "920b65ad"
   },
   "outputs": [],
   "source": [
    "# ваш код здесь\n",
    "data['total_income'] = data['total_income'].astype('int')\n"
   ]
  },
  {
   "cell_type": "markdown",
   "id": "fad2d692",
   "metadata": {
    "deletable": false,
    "editable": false,
    "id": "80c420ba"
   },
   "source": [
    "### Обработка дубликатов"
   ]
  },
  {
   "cell_type": "markdown",
   "id": "3a8c4fd9",
   "metadata": {
    "deletable": false,
    "editable": false,
    "tags": [
     "start_task"
    ]
   },
   "source": [
    "**Задание 14. Обработайте неявные дубликаты в столбце `education`. В этом столбце есть одни и те же значения, но записанные по-разному: с использованием заглавных и строчных букв. Приведите их к нижнему регистру. Проверьте остальные столбцы.**"
   ]
  },
  {
   "cell_type": "code",
   "execution_count": 368,
   "id": "4efc377d",
   "metadata": {},
   "outputs": [],
   "source": [
    "# ваш код здесь\n",
    "data['education'] = data['education'].str.lower()\n",
    "#data.duplicated().sum()\n",
    "#columns_list = data.columns.tolist()\n",
    "#for i in columns_list:\n",
    "#    print(i, data[i].unique())\n",
    "\n"
   ]
  },
  {
   "cell_type": "markdown",
   "id": "1765744c",
   "metadata": {
    "deletable": false,
    "editable": false,
    "id": "dc587695",
    "tags": [
     "start_task"
    ]
   },
   "source": [
    "**Задание 15. Выведите на экран количество строк-дубликатов в данных. Если такие строки присутствуют, удалите их.**"
   ]
  },
  {
   "cell_type": "code",
   "execution_count": 369,
   "id": "1320b32e",
   "metadata": {
    "id": "3ee445e4"
   },
   "outputs": [
    {
     "data": {
      "text/plain": [
       "71"
      ]
     },
     "execution_count": 369,
     "metadata": {},
     "output_type": "execute_result"
    }
   ],
   "source": [
    "# посчитайте дубликаты\n",
    "data.duplicated().sum()"
   ]
  },
  {
   "cell_type": "code",
   "execution_count": 370,
   "id": "45c7b9b5",
   "metadata": {
    "id": "8575fe05"
   },
   "outputs": [],
   "source": [
    "# удалите дубликаты\n",
    "data = data.drop_duplicates()"
   ]
  },
  {
   "cell_type": "markdown",
   "id": "20537daa",
   "metadata": {
    "deletable": false,
    "editable": false,
    "id": "9904cf55"
   },
   "source": [
    "### Категоризация данных"
   ]
  },
  {
   "cell_type": "markdown",
   "id": "fa3a9837",
   "metadata": {
    "deletable": false,
    "editable": false,
    "id": "72fcc8a2",
    "tags": [
     "start_task"
    ]
   },
   "source": [
    "**Задание 16. На основании диапазонов, указанных ниже, создайте в датафрейме `data` столбец `total_income_category` с категориями:**\n",
    "\n",
    "- 0–30000 — `'E'`;\n",
    "- 30001–50000 — `'D'`;\n",
    "- 50001–200000 — `'C'`;\n",
    "- 200001–1000000 — `'B'`;\n",
    "- 1000001 и выше — `'A'`.\n",
    "\n",
    "\n",
    "**Например, кредитополучателю с доходом 25000 нужно назначить категорию `'E'`, а клиенту, получающему 235000, — `'B'`. Используйте собственную функцию с именем `categorize_income()` и метод `apply()`.**"
   ]
  },
  {
   "cell_type": "code",
   "execution_count": 371,
   "id": "4cd6fe1f",
   "metadata": {
    "id": "e1771346"
   },
   "outputs": [],
   "source": [
    "# создайте функцию categorize_income()\n",
    "def categorize_income(a):\n",
    "    if 0 <= a['total_income'] <= 30000:\n",
    "        return 'E'\n",
    "    elif 30001 <= a['total_income'] <= 50000:\n",
    "        return 'D'\n",
    "    elif 50001 <= a['total_income'] <= 200000:\n",
    "        return 'C'\n",
    "    elif 200001 <= a['total_income'] <= 1000000:\n",
    "        return 'B'\n",
    "    elif 1000001 <= a['total_income']:\n",
    "        return 'A'"
   ]
  },
  {
   "cell_type": "code",
   "execution_count": 372,
   "id": "5fe77221",
   "metadata": {
    "id": "d5f3586d"
   },
   "outputs": [],
   "source": [
    "# примените функцию методом apply()\n",
    "data['total_income_category'] = data.apply(categorize_income, axis=1)"
   ]
  },
  {
   "cell_type": "markdown",
   "id": "de538817",
   "metadata": {
    "deletable": false,
    "editable": false,
    "id": "dde49b5c",
    "tags": [
     "start_task"
    ]
   },
   "source": [
    "**Задание 17. Выведите на экран перечень уникальных целей взятия кредита из столбца `purpose`.**"
   ]
  },
  {
   "cell_type": "code",
   "execution_count": 373,
   "id": "78323dfb",
   "metadata": {
    "id": "f67ce9b3"
   },
   "outputs": [
    {
     "data": {
      "text/plain": [
       "array(['покупка жилья', 'приобретение автомобиля',\n",
       "       'дополнительное образование', 'сыграть свадьбу',\n",
       "       'операции с жильем', 'образование', 'на проведение свадьбы',\n",
       "       'покупка жилья для семьи', 'покупка недвижимости',\n",
       "       'покупка коммерческой недвижимости', 'покупка жилой недвижимости',\n",
       "       'строительство собственной недвижимости', 'недвижимость',\n",
       "       'строительство недвижимости', 'на покупку подержанного автомобиля',\n",
       "       'на покупку своего автомобиля',\n",
       "       'операции с коммерческой недвижимостью',\n",
       "       'строительство жилой недвижимости', 'жилье',\n",
       "       'операции со своей недвижимостью', 'автомобили',\n",
       "       'заняться образованием', 'сделка с подержанным автомобилем',\n",
       "       'получение образования', 'автомобиль', 'свадьба',\n",
       "       'получение дополнительного образования', 'покупка своего жилья',\n",
       "       'операции с недвижимостью', 'получение высшего образования',\n",
       "       'свой автомобиль', 'сделка с автомобилем',\n",
       "       'профильное образование', 'высшее образование',\n",
       "       'покупка жилья для сдачи', 'на покупку автомобиля', 'ремонт жилью',\n",
       "       'заняться высшим образованием'], dtype=object)"
      ]
     },
     "execution_count": 373,
     "metadata": {},
     "output_type": "execute_result"
    }
   ],
   "source": [
    "# ваш код здесь\n",
    "data['purpose'].unique()"
   ]
  },
  {
   "cell_type": "markdown",
   "id": "01c3fe31",
   "metadata": {
    "deletable": false,
    "editable": false,
    "id": "85d0aef0",
    "tags": [
     "start_task"
    ]
   },
   "source": [
    "**Задание 18. Создайте функцию, которая на основании данных из столбца `purpose` сформирует новый столбец `purpose_category`, в который войдут следующие категории:**\n",
    "\n",
    "- `'операции с автомобилем'`,\n",
    "- `'операции с недвижимостью'`,\n",
    "- `'проведение свадьбы'`,\n",
    "- `'получение образования'`.\n",
    "\n",
    "**Например, если в столбце `purpose` находится подстрока `'на покупку автомобиля'`, то в столбце `purpose_category` должна появиться строка `'операции с автомобилем'`.**\n",
    "\n",
    "**Используйте собственную функцию с именем `categorize_purpose()` и метод `apply()`. Изучите данные в столбце `purpose` и определите, какие подстроки помогут вам правильно определить категорию.**"
   ]
  },
  {
   "cell_type": "code",
   "execution_count": 374,
   "id": "bf4a184b",
   "metadata": {
    "id": "e149fab4"
   },
   "outputs": [],
   "source": [
    "# создайте функцию categorize_purpose()\n",
    "def categorize_purpose(a):\n",
    "    if 'авто' in a['purpose']:\n",
    "        return 'операции с автомобилем'\n",
    "    elif 'недв' in a['purpose'] or 'жил' in a['purpose']:\n",
    "        return 'операции с недвижимостью'\n",
    "    elif 'свадь'in a['purpose'] or 'женит'in a['purpose']:\n",
    "        return 'проведение свадьбы'\n",
    "    elif 'образов' in a['purpose'] or 'учеб' in a['purpose']:\n",
    "        return 'получение образования'"
   ]
  },
  {
   "cell_type": "code",
   "execution_count": 375,
   "id": "f6d6a05f",
   "metadata": {
    "id": "bf36e69b"
   },
   "outputs": [],
   "source": [
    "# примените функцию методом apply()\n",
    "data['purpose_category'] = data.apply(categorize_purpose, axis=1)"
   ]
  },
  {
   "cell_type": "code",
   "execution_count": 353,
   "id": "6ee5d489",
   "metadata": {},
   "outputs": [
    {
     "data": {
      "text/html": [
       "<div>\n",
       "<style scoped>\n",
       "    .dataframe tbody tr th:only-of-type {\n",
       "        vertical-align: middle;\n",
       "    }\n",
       "\n",
       "    .dataframe tbody tr th {\n",
       "        vertical-align: top;\n",
       "    }\n",
       "\n",
       "    .dataframe thead th {\n",
       "        text-align: right;\n",
       "    }\n",
       "</style>\n",
       "<table border=\"1\" class=\"dataframe\">\n",
       "  <thead>\n",
       "    <tr style=\"text-align: right;\">\n",
       "      <th></th>\n",
       "      <th>children</th>\n",
       "      <th>days_employed</th>\n",
       "      <th>dob_years</th>\n",
       "      <th>education</th>\n",
       "      <th>education_id</th>\n",
       "      <th>family_status</th>\n",
       "      <th>family_status_id</th>\n",
       "      <th>gender</th>\n",
       "      <th>income_type</th>\n",
       "      <th>debt</th>\n",
       "      <th>total_income</th>\n",
       "      <th>purpose</th>\n",
       "      <th>total_income_category</th>\n",
       "    </tr>\n",
       "  </thead>\n",
       "  <tbody>\n",
       "    <tr>\n",
       "      <th>0</th>\n",
       "      <td>1</td>\n",
       "      <td>8437.673028</td>\n",
       "      <td>42</td>\n",
       "      <td>высшее</td>\n",
       "      <td>0</td>\n",
       "      <td>женат / замужем</td>\n",
       "      <td>0</td>\n",
       "      <td>F</td>\n",
       "      <td>сотрудник</td>\n",
       "      <td>0</td>\n",
       "      <td>253875</td>\n",
       "      <td>операции с недвижимостью</td>\n",
       "      <td>B</td>\n",
       "    </tr>\n",
       "    <tr>\n",
       "      <th>1</th>\n",
       "      <td>1</td>\n",
       "      <td>4024.803754</td>\n",
       "      <td>36</td>\n",
       "      <td>среднее</td>\n",
       "      <td>1</td>\n",
       "      <td>женат / замужем</td>\n",
       "      <td>0</td>\n",
       "      <td>F</td>\n",
       "      <td>сотрудник</td>\n",
       "      <td>0</td>\n",
       "      <td>112080</td>\n",
       "      <td>операции с автомобилем</td>\n",
       "      <td>C</td>\n",
       "    </tr>\n",
       "    <tr>\n",
       "      <th>2</th>\n",
       "      <td>0</td>\n",
       "      <td>5623.42261</td>\n",
       "      <td>33</td>\n",
       "      <td>среднее</td>\n",
       "      <td>1</td>\n",
       "      <td>женат / замужем</td>\n",
       "      <td>0</td>\n",
       "      <td>M</td>\n",
       "      <td>сотрудник</td>\n",
       "      <td>0</td>\n",
       "      <td>145885</td>\n",
       "      <td>операции с недвижимостью</td>\n",
       "      <td>C</td>\n",
       "    </tr>\n",
       "    <tr>\n",
       "      <th>3</th>\n",
       "      <td>3</td>\n",
       "      <td>4124.747207</td>\n",
       "      <td>32</td>\n",
       "      <td>среднее</td>\n",
       "      <td>1</td>\n",
       "      <td>женат / замужем</td>\n",
       "      <td>0</td>\n",
       "      <td>M</td>\n",
       "      <td>сотрудник</td>\n",
       "      <td>0</td>\n",
       "      <td>267628</td>\n",
       "      <td>получение образования</td>\n",
       "      <td>B</td>\n",
       "    </tr>\n",
       "    <tr>\n",
       "      <th>4</th>\n",
       "      <td>0</td>\n",
       "      <td>340266.072047</td>\n",
       "      <td>53</td>\n",
       "      <td>среднее</td>\n",
       "      <td>1</td>\n",
       "      <td>гражданский брак</td>\n",
       "      <td>1</td>\n",
       "      <td>F</td>\n",
       "      <td>пенсионер</td>\n",
       "      <td>0</td>\n",
       "      <td>158616</td>\n",
       "      <td>проведение свадьбы</td>\n",
       "      <td>C</td>\n",
       "    </tr>\n",
       "  </tbody>\n",
       "</table>\n",
       "</div>"
      ],
      "text/plain": [
       "   children  days_employed  dob_years education  education_id  \\\n",
       "0         1    8437.673028         42    высшее             0   \n",
       "1         1    4024.803754         36   среднее             1   \n",
       "2         0     5623.42261         33   среднее             1   \n",
       "3         3    4124.747207         32   среднее             1   \n",
       "4         0  340266.072047         53   среднее             1   \n",
       "\n",
       "      family_status  family_status_id gender income_type  debt  total_income  \\\n",
       "0   женат / замужем                 0      F   сотрудник     0        253875   \n",
       "1   женат / замужем                 0      F   сотрудник     0        112080   \n",
       "2   женат / замужем                 0      M   сотрудник     0        145885   \n",
       "3   женат / замужем                 0      M   сотрудник     0        267628   \n",
       "4  гражданский брак                 1      F   пенсионер     0        158616   \n",
       "\n",
       "                    purpose total_income_category  \n",
       "0  операции с недвижимостью                     B  \n",
       "1    операции с автомобилем                     C  \n",
       "2  операции с недвижимостью                     C  \n",
       "3     получение образования                     B  \n",
       "4        проведение свадьбы                     C  "
      ]
     },
     "execution_count": 353,
     "metadata": {},
     "output_type": "execute_result"
    }
   ],
   "source": []
  },
  {
   "cell_type": "code",
   "execution_count": null,
   "id": "6acb8833",
   "metadata": {},
   "outputs": [],
   "source": []
  }
 ],
 "metadata": {
  "ExecuteTimeLog": [
   {
    "duration": 434,
    "start_time": "2022-09-02T09:58:54.385Z"
   },
   {
    "duration": 299,
    "start_time": "2022-09-02T10:00:17.231Z"
   },
   {
    "duration": 23,
    "start_time": "2022-09-02T10:00:35.606Z"
   },
   {
    "duration": 15,
    "start_time": "2022-09-02T10:01:06.615Z"
   },
   {
    "duration": 11,
    "start_time": "2022-09-02T10:03:16.858Z"
   },
   {
    "duration": 8,
    "start_time": "2022-09-02T10:08:20.098Z"
   },
   {
    "duration": 7,
    "start_time": "2022-09-02T10:08:35.979Z"
   },
   {
    "duration": 33,
    "start_time": "2022-09-02T10:12:21.766Z"
   },
   {
    "duration": 7,
    "start_time": "2022-09-02T10:12:49.960Z"
   },
   {
    "duration": 8,
    "start_time": "2022-09-02T10:15:00.177Z"
   },
   {
    "duration": 7,
    "start_time": "2022-09-02T10:15:10.393Z"
   },
   {
    "duration": 8,
    "start_time": "2022-09-02T10:16:22.505Z"
   },
   {
    "duration": 84,
    "start_time": "2022-09-02T10:18:26.795Z"
   },
   {
    "duration": 5,
    "start_time": "2022-09-02T10:18:33.869Z"
   },
   {
    "duration": 14,
    "start_time": "2022-09-02T10:18:51.602Z"
   },
   {
    "duration": 2,
    "start_time": "2022-09-02T10:19:13.250Z"
   },
   {
    "duration": 82,
    "start_time": "2022-09-02T10:19:13.564Z"
   },
   {
    "duration": 19,
    "start_time": "2022-09-02T10:19:14.463Z"
   },
   {
    "duration": 16,
    "start_time": "2022-09-02T10:19:16.155Z"
   },
   {
    "duration": 11,
    "start_time": "2022-09-02T10:19:20.124Z"
   },
   {
    "duration": 10,
    "start_time": "2022-09-02T10:24:15.197Z"
   },
   {
    "duration": 8,
    "start_time": "2022-09-02T10:24:41.267Z"
   },
   {
    "duration": 6,
    "start_time": "2022-09-02T10:25:02.973Z"
   },
   {
    "duration": 5,
    "start_time": "2022-09-02T10:25:19.923Z"
   },
   {
    "duration": 8,
    "start_time": "2022-09-02T10:25:50.596Z"
   },
   {
    "duration": 10,
    "start_time": "2022-09-02T10:26:06.824Z"
   },
   {
    "duration": 5,
    "start_time": "2022-09-02T10:26:14.527Z"
   },
   {
    "duration": 55,
    "start_time": "2022-09-02T10:26:20.416Z"
   },
   {
    "duration": 7,
    "start_time": "2022-09-02T10:26:29.496Z"
   },
   {
    "duration": 12,
    "start_time": "2022-09-02T10:26:53.712Z"
   },
   {
    "duration": 13,
    "start_time": "2022-09-02T10:27:04.170Z"
   },
   {
    "duration": 6,
    "start_time": "2022-09-02T10:35:38.973Z"
   },
   {
    "duration": 12,
    "start_time": "2022-09-02T10:35:45.596Z"
   },
   {
    "duration": 12,
    "start_time": "2022-09-02T10:35:49.523Z"
   },
   {
    "duration": 11,
    "start_time": "2022-09-02T10:36:01.804Z"
   },
   {
    "duration": 18,
    "start_time": "2022-09-02T10:36:29.880Z"
   },
   {
    "duration": 7,
    "start_time": "2022-09-02T10:38:46.867Z"
   },
   {
    "duration": 6,
    "start_time": "2022-09-02T10:39:05.279Z"
   },
   {
    "duration": 11,
    "start_time": "2022-09-02T10:39:15.174Z"
   },
   {
    "duration": 20,
    "start_time": "2022-09-02T10:41:10.984Z"
   },
   {
    "duration": 4,
    "start_time": "2022-09-02T10:42:13.376Z"
   },
   {
    "duration": 10,
    "start_time": "2022-09-02T10:42:29.546Z"
   },
   {
    "duration": 5,
    "start_time": "2022-09-02T10:42:35.207Z"
   },
   {
    "duration": 5,
    "start_time": "2022-09-02T10:42:43.039Z"
   },
   {
    "duration": 4,
    "start_time": "2022-09-02T10:43:23.357Z"
   },
   {
    "duration": 5,
    "start_time": "2022-09-02T10:43:30.649Z"
   },
   {
    "duration": 31,
    "start_time": "2022-09-02T10:56:54.950Z"
   },
   {
    "duration": 34,
    "start_time": "2022-09-02T10:57:22.525Z"
   },
   {
    "duration": 34,
    "start_time": "2022-09-02T10:58:41.593Z"
   },
   {
    "duration": 31,
    "start_time": "2022-09-02T11:00:11.890Z"
   },
   {
    "duration": 31,
    "start_time": "2022-09-02T11:00:19.219Z"
   },
   {
    "duration": 9,
    "start_time": "2022-09-02T11:00:29.022Z"
   },
   {
    "duration": 34,
    "start_time": "2022-09-02T11:00:31.600Z"
   },
   {
    "duration": 32,
    "start_time": "2022-09-02T11:02:07.657Z"
   },
   {
    "duration": 31,
    "start_time": "2022-09-02T11:02:42.042Z"
   },
   {
    "duration": 32,
    "start_time": "2022-09-02T11:03:00.464Z"
   },
   {
    "duration": 5,
    "start_time": "2022-09-02T11:06:03.276Z"
   },
   {
    "duration": 6,
    "start_time": "2022-09-02T11:06:52.100Z"
   },
   {
    "duration": 26,
    "start_time": "2022-09-02T11:08:42.763Z"
   },
   {
    "duration": 21,
    "start_time": "2022-09-02T11:09:03.330Z"
   },
   {
    "duration": 784,
    "start_time": "2022-09-02T11:10:16.304Z"
   },
   {
    "duration": 38,
    "start_time": "2022-09-02T11:11:02.960Z"
   },
   {
    "duration": 40,
    "start_time": "2022-09-02T11:11:26.117Z"
   },
   {
    "duration": 37,
    "start_time": "2022-09-02T11:11:39.127Z"
   },
   {
    "duration": 39,
    "start_time": "2022-09-02T11:11:48.279Z"
   },
   {
    "duration": 46,
    "start_time": "2022-09-02T11:13:01.747Z"
   },
   {
    "duration": 18,
    "start_time": "2022-09-02T11:15:18.230Z"
   },
   {
    "duration": 18,
    "start_time": "2022-09-02T11:17:35.445Z"
   },
   {
    "duration": 52,
    "start_time": "2022-09-02T11:21:06.192Z"
   },
   {
    "duration": 748,
    "start_time": "2022-09-02T11:22:05.409Z"
   },
   {
    "duration": 781,
    "start_time": "2022-09-02T11:23:06.255Z"
   },
   {
    "duration": 3,
    "start_time": "2022-09-02T11:23:25.467Z"
   },
   {
    "duration": 71,
    "start_time": "2022-09-02T11:23:25.742Z"
   },
   {
    "duration": 16,
    "start_time": "2022-09-02T11:23:26.600Z"
   },
   {
    "duration": 18,
    "start_time": "2022-09-02T11:23:29.612Z"
   },
   {
    "duration": 9,
    "start_time": "2022-09-02T11:23:35.412Z"
   },
   {
    "duration": 468,
    "start_time": "2022-09-02T11:23:42.469Z"
   },
   {
    "duration": 897,
    "start_time": "2022-09-02T11:24:16.385Z"
   },
   {
    "duration": 744,
    "start_time": "2022-09-02T11:25:36.267Z"
   },
   {
    "duration": 731,
    "start_time": "2022-09-02T11:25:54.004Z"
   },
   {
    "duration": 1246,
    "start_time": "2022-09-02T11:26:00.767Z"
   },
   {
    "duration": 661,
    "start_time": "2022-09-02T11:26:02.959Z"
   },
   {
    "duration": 5,
    "start_time": "2022-09-02T11:26:11.112Z"
   },
   {
    "duration": 2,
    "start_time": "2022-09-02T11:26:29.455Z"
   },
   {
    "duration": 70,
    "start_time": "2022-09-02T11:26:30.080Z"
   },
   {
    "duration": 16,
    "start_time": "2022-09-02T11:26:31.536Z"
   },
   {
    "duration": 15,
    "start_time": "2022-09-02T11:26:33.053Z"
   },
   {
    "duration": 10,
    "start_time": "2022-09-02T11:26:35.139Z"
   },
   {
    "duration": 8,
    "start_time": "2022-09-02T11:26:37.241Z"
   },
   {
    "duration": 1131,
    "start_time": "2022-09-02T11:27:35.947Z"
   },
   {
    "duration": 6,
    "start_time": "2022-09-02T11:28:02.421Z"
   },
   {
    "duration": 5,
    "start_time": "2022-09-02T11:28:16.075Z"
   },
   {
    "duration": 4,
    "start_time": "2022-09-02T11:28:22.680Z"
   },
   {
    "duration": 5,
    "start_time": "2022-09-02T11:28:24.222Z"
   },
   {
    "duration": 3,
    "start_time": "2022-09-02T11:28:26.979Z"
   },
   {
    "duration": 70,
    "start_time": "2022-09-02T11:28:27.294Z"
   },
   {
    "duration": 16,
    "start_time": "2022-09-02T11:28:27.966Z"
   },
   {
    "duration": 15,
    "start_time": "2022-09-02T11:28:31.390Z"
   },
   {
    "duration": 9,
    "start_time": "2022-09-02T11:28:35.229Z"
   },
   {
    "duration": 52,
    "start_time": "2022-09-02T11:29:02.258Z"
   },
   {
    "duration": 42,
    "start_time": "2022-09-02T11:29:33.657Z"
   },
   {
    "duration": 3,
    "start_time": "2022-09-02T11:29:59.862Z"
   },
   {
    "duration": 70,
    "start_time": "2022-09-02T11:30:00.140Z"
   },
   {
    "duration": 19,
    "start_time": "2022-09-02T11:30:00.730Z"
   },
   {
    "duration": 14,
    "start_time": "2022-09-02T11:30:01.561Z"
   },
   {
    "duration": 9,
    "start_time": "2022-09-02T11:30:03.471Z"
   },
   {
    "duration": 37,
    "start_time": "2022-09-02T11:30:06.437Z"
   },
   {
    "duration": 46,
    "start_time": "2022-09-02T11:31:55.646Z"
   },
   {
    "duration": 20,
    "start_time": "2022-09-02T11:32:40.402Z"
   },
   {
    "duration": 15,
    "start_time": "2022-09-02T11:33:00.617Z"
   },
   {
    "duration": 3,
    "start_time": "2022-09-02T11:33:07.431Z"
   },
   {
    "duration": 81,
    "start_time": "2022-09-02T11:33:07.706Z"
   },
   {
    "duration": 16,
    "start_time": "2022-09-02T11:33:08.027Z"
   },
   {
    "duration": 16,
    "start_time": "2022-09-02T11:33:08.533Z"
   },
   {
    "duration": 10,
    "start_time": "2022-09-02T11:33:10.797Z"
   },
   {
    "duration": 22,
    "start_time": "2022-09-02T11:33:13.757Z"
   },
   {
    "duration": 24,
    "start_time": "2022-09-02T11:33:38.692Z"
   },
   {
    "duration": 17,
    "start_time": "2022-09-02T11:34:05.479Z"
   },
   {
    "duration": 22,
    "start_time": "2022-09-02T11:34:23.480Z"
   },
   {
    "duration": 20,
    "start_time": "2022-09-02T11:34:43.774Z"
   },
   {
    "duration": 18,
    "start_time": "2022-09-02T11:37:18.034Z"
   },
   {
    "duration": 15,
    "start_time": "2022-09-02T11:37:21.277Z"
   },
   {
    "duration": 2,
    "start_time": "2022-09-02T11:37:58.195Z"
   },
   {
    "duration": 68,
    "start_time": "2022-09-02T11:37:58.559Z"
   },
   {
    "duration": 17,
    "start_time": "2022-09-02T11:37:59.191Z"
   },
   {
    "duration": 16,
    "start_time": "2022-09-02T11:38:01.617Z"
   },
   {
    "duration": 18,
    "start_time": "2022-09-02T11:38:04.381Z"
   },
   {
    "duration": 20,
    "start_time": "2022-09-02T11:38:12.896Z"
   },
   {
    "duration": 18,
    "start_time": "2022-09-02T11:40:47.103Z"
   },
   {
    "duration": 19,
    "start_time": "2022-09-02T11:42:41.874Z"
   },
   {
    "duration": 62,
    "start_time": "2022-09-02T11:44:28.633Z"
   },
   {
    "duration": 13,
    "start_time": "2022-09-02T11:44:55.096Z"
   },
   {
    "duration": 2,
    "start_time": "2022-09-02T11:45:02.760Z"
   },
   {
    "duration": 79,
    "start_time": "2022-09-02T11:45:02.945Z"
   },
   {
    "duration": 15,
    "start_time": "2022-09-02T11:45:03.242Z"
   },
   {
    "duration": 14,
    "start_time": "2022-09-02T11:45:03.501Z"
   },
   {
    "duration": 9,
    "start_time": "2022-09-02T11:45:05.600Z"
   },
   {
    "duration": 14,
    "start_time": "2022-09-02T11:45:12.935Z"
   },
   {
    "duration": 15,
    "start_time": "2022-09-02T11:49:35.200Z"
   },
   {
    "duration": 15,
    "start_time": "2022-09-02T11:49:55.682Z"
   },
   {
    "duration": 18,
    "start_time": "2022-09-02T11:53:46.812Z"
   },
   {
    "duration": 22,
    "start_time": "2022-09-02T11:54:04.539Z"
   },
   {
    "duration": 16,
    "start_time": "2022-09-02T11:58:51.465Z"
   },
   {
    "duration": 16,
    "start_time": "2022-09-02T11:59:27.638Z"
   },
   {
    "duration": 12,
    "start_time": "2022-09-02T11:59:57.395Z"
   },
   {
    "duration": 6,
    "start_time": "2022-09-02T12:00:02.658Z"
   },
   {
    "duration": 2,
    "start_time": "2022-09-02T12:00:12.100Z"
   },
   {
    "duration": 69,
    "start_time": "2022-09-02T12:00:12.251Z"
   },
   {
    "duration": 16,
    "start_time": "2022-09-02T12:00:12.791Z"
   },
   {
    "duration": 14,
    "start_time": "2022-09-02T12:00:13.864Z"
   },
   {
    "duration": 9,
    "start_time": "2022-09-02T12:00:16.483Z"
   },
   {
    "duration": 7,
    "start_time": "2022-09-02T12:00:20.897Z"
   },
   {
    "duration": 17,
    "start_time": "2022-09-02T12:03:55.523Z"
   },
   {
    "duration": 17,
    "start_time": "2022-09-02T12:04:09.595Z"
   },
   {
    "duration": 24,
    "start_time": "2022-09-02T12:04:14.459Z"
   },
   {
    "duration": 17,
    "start_time": "2022-09-02T12:04:19.288Z"
   },
   {
    "duration": 16,
    "start_time": "2022-09-02T12:04:24.315Z"
   },
   {
    "duration": 17,
    "start_time": "2022-09-02T12:04:43.093Z"
   },
   {
    "duration": 16,
    "start_time": "2022-09-02T12:04:51.992Z"
   },
   {
    "duration": 18,
    "start_time": "2022-09-02T12:05:10.963Z"
   },
   {
    "duration": 3,
    "start_time": "2022-09-02T12:06:34.318Z"
   },
   {
    "duration": 73,
    "start_time": "2022-09-02T12:06:34.686Z"
   },
   {
    "duration": 16,
    "start_time": "2022-09-02T12:06:35.153Z"
   },
   {
    "duration": 15,
    "start_time": "2022-09-02T12:06:35.772Z"
   },
   {
    "duration": 11,
    "start_time": "2022-09-02T12:06:37.517Z"
   },
   {
    "duration": 12,
    "start_time": "2022-09-02T12:07:27.036Z"
   },
   {
    "duration": 10,
    "start_time": "2022-09-02T12:07:45.432Z"
   },
   {
    "duration": 12,
    "start_time": "2022-09-02T12:07:54.940Z"
   },
   {
    "duration": 11,
    "start_time": "2022-09-02T12:08:31.784Z"
   },
   {
    "duration": 12,
    "start_time": "2022-09-02T12:08:42.192Z"
   },
   {
    "duration": 134,
    "start_time": "2022-09-02T12:10:53.815Z"
   },
   {
    "duration": 12,
    "start_time": "2022-09-02T12:11:10.815Z"
   },
   {
    "duration": 420,
    "start_time": "2022-09-03T12:47:22.024Z"
   },
   {
    "duration": 156,
    "start_time": "2022-09-03T12:47:22.468Z"
   },
   {
    "duration": 30,
    "start_time": "2022-09-03T12:47:23.495Z"
   },
   {
    "duration": 18,
    "start_time": "2022-09-03T12:47:24.732Z"
   },
   {
    "duration": 16,
    "start_time": "2022-09-03T12:47:26.424Z"
   },
   {
    "duration": 9,
    "start_time": "2022-09-03T12:48:16.733Z"
   },
   {
    "duration": 8,
    "start_time": "2022-09-03T12:48:24.615Z"
   },
   {
    "duration": 12,
    "start_time": "2022-09-03T12:49:22.268Z"
   },
   {
    "duration": 12,
    "start_time": "2022-09-03T12:49:35.728Z"
   },
   {
    "duration": 13,
    "start_time": "2022-09-03T12:49:44.747Z"
   },
   {
    "duration": 12,
    "start_time": "2022-09-03T12:49:51.208Z"
   },
   {
    "duration": 13,
    "start_time": "2022-09-03T12:49:57.924Z"
   },
   {
    "duration": 14,
    "start_time": "2022-09-03T12:50:02.328Z"
   },
   {
    "duration": 12,
    "start_time": "2022-09-03T12:50:07.952Z"
   },
   {
    "duration": 19,
    "start_time": "2022-09-03T12:50:11.987Z"
   },
   {
    "duration": 11,
    "start_time": "2022-09-03T12:50:18.336Z"
   },
   {
    "duration": 15,
    "start_time": "2022-09-03T12:51:01.765Z"
   },
   {
    "duration": 82,
    "start_time": "2022-09-03T12:53:34.980Z"
   },
   {
    "duration": 18,
    "start_time": "2022-09-03T12:53:48.768Z"
   },
   {
    "duration": 19,
    "start_time": "2022-09-03T12:54:20.940Z"
   },
   {
    "duration": 33,
    "start_time": "2022-09-03T12:55:05.392Z"
   },
   {
    "duration": 26,
    "start_time": "2022-09-03T12:55:45.128Z"
   },
   {
    "duration": 36,
    "start_time": "2022-09-03T12:55:52.283Z"
   },
   {
    "duration": 28,
    "start_time": "2022-09-03T12:56:10.044Z"
   },
   {
    "duration": 29,
    "start_time": "2022-09-03T12:56:40.024Z"
   },
   {
    "duration": 23,
    "start_time": "2022-09-03T12:57:36.356Z"
   },
   {
    "duration": 26,
    "start_time": "2022-09-03T12:58:38.005Z"
   },
   {
    "duration": 30,
    "start_time": "2022-09-03T12:59:04.522Z"
   },
   {
    "duration": 41,
    "start_time": "2022-09-03T12:59:40.584Z"
   },
   {
    "duration": 3,
    "start_time": "2022-09-03T13:00:28.785Z"
   },
   {
    "duration": 90,
    "start_time": "2022-09-03T13:00:28.790Z"
   },
   {
    "duration": 22,
    "start_time": "2022-09-03T13:00:28.882Z"
   },
   {
    "duration": 24,
    "start_time": "2022-09-03T13:00:28.906Z"
   },
   {
    "duration": 11,
    "start_time": "2022-09-03T13:00:28.932Z"
   },
   {
    "duration": 23,
    "start_time": "2022-09-03T13:00:40.305Z"
   },
   {
    "duration": 40,
    "start_time": "2022-09-03T13:02:05.292Z"
   },
   {
    "duration": 41,
    "start_time": "2022-09-03T13:02:16.789Z"
   },
   {
    "duration": 16,
    "start_time": "2022-09-03T13:07:44.303Z"
   },
   {
    "duration": 70,
    "start_time": "2022-09-03T13:07:54.703Z"
   },
   {
    "duration": 89,
    "start_time": "2022-09-03T13:08:11.703Z"
   },
   {
    "duration": 85,
    "start_time": "2022-09-03T13:08:24.185Z"
   },
   {
    "duration": 88,
    "start_time": "2022-09-03T13:09:28.728Z"
   },
   {
    "duration": 84,
    "start_time": "2022-09-03T13:09:44.635Z"
   },
   {
    "duration": 98,
    "start_time": "2022-09-03T13:10:49.551Z"
   },
   {
    "duration": 88,
    "start_time": "2022-09-03T13:11:16.531Z"
   },
   {
    "duration": 80,
    "start_time": "2022-09-03T13:11:46.035Z"
   },
   {
    "duration": 101,
    "start_time": "2022-09-03T13:12:41.726Z"
   },
   {
    "duration": 2,
    "start_time": "2022-09-03T13:15:56.041Z"
   },
   {
    "duration": 101,
    "start_time": "2022-09-03T13:15:56.045Z"
   },
   {
    "duration": 16,
    "start_time": "2022-09-03T13:15:56.148Z"
   },
   {
    "duration": 34,
    "start_time": "2022-09-03T13:15:56.166Z"
   },
   {
    "duration": 13,
    "start_time": "2022-09-03T13:15:56.202Z"
   },
   {
    "duration": 104,
    "start_time": "2022-09-03T13:16:03.446Z"
   },
   {
    "duration": 2,
    "start_time": "2022-09-03T13:16:35.981Z"
   },
   {
    "duration": 102,
    "start_time": "2022-09-03T13:16:35.985Z"
   },
   {
    "duration": 20,
    "start_time": "2022-09-03T13:16:36.090Z"
   },
   {
    "duration": 32,
    "start_time": "2022-09-03T13:16:36.112Z"
   },
   {
    "duration": 18,
    "start_time": "2022-09-03T13:16:36.147Z"
   },
   {
    "duration": 90,
    "start_time": "2022-09-03T13:16:37.849Z"
   },
   {
    "duration": 3,
    "start_time": "2022-09-03T13:16:59.406Z"
   },
   {
    "duration": 98,
    "start_time": "2022-09-03T13:16:59.411Z"
   },
   {
    "duration": 16,
    "start_time": "2022-09-03T13:16:59.511Z"
   },
   {
    "duration": 19,
    "start_time": "2022-09-03T13:16:59.529Z"
   },
   {
    "duration": 13,
    "start_time": "2022-09-03T13:16:59.550Z"
   },
   {
    "duration": 27,
    "start_time": "2022-09-03T13:17:17.225Z"
   },
   {
    "duration": 29,
    "start_time": "2022-09-03T13:17:45.120Z"
   },
   {
    "duration": 26,
    "start_time": "2022-09-03T13:19:09.964Z"
   },
   {
    "duration": 3,
    "start_time": "2022-09-03T13:20:30.950Z"
   },
   {
    "duration": 99,
    "start_time": "2022-09-03T13:20:30.955Z"
   },
   {
    "duration": 16,
    "start_time": "2022-09-03T13:20:31.055Z"
   },
   {
    "duration": 39,
    "start_time": "2022-09-03T13:20:31.073Z"
   },
   {
    "duration": 42,
    "start_time": "2022-09-03T13:20:31.113Z"
   },
   {
    "duration": 46,
    "start_time": "2022-09-03T13:20:51.259Z"
   },
   {
    "duration": 45,
    "start_time": "2022-09-03T13:21:28.873Z"
   },
   {
    "duration": 84,
    "start_time": "2022-09-03T13:23:49.067Z"
   },
   {
    "duration": 93,
    "start_time": "2022-09-03T13:24:47.154Z"
   },
   {
    "duration": 49,
    "start_time": "2022-09-03T13:26:49.660Z"
   },
   {
    "duration": 26,
    "start_time": "2022-09-03T13:37:44.623Z"
   },
   {
    "duration": 38,
    "start_time": "2022-09-03T13:38:20.152Z"
   },
   {
    "duration": 4,
    "start_time": "2022-09-03T13:38:24.783Z"
   },
   {
    "duration": 27,
    "start_time": "2022-09-03T13:38:26.238Z"
   },
   {
    "duration": 39,
    "start_time": "2022-09-03T13:38:56.719Z"
   },
   {
    "duration": 4,
    "start_time": "2022-09-03T13:38:58.490Z"
   },
   {
    "duration": 27,
    "start_time": "2022-09-03T13:38:59.702Z"
   },
   {
    "duration": 23,
    "start_time": "2022-09-03T13:39:39.145Z"
   },
   {
    "duration": 40,
    "start_time": "2022-09-03T13:39:50.939Z"
   },
   {
    "duration": 38,
    "start_time": "2022-09-03T13:39:57.380Z"
   },
   {
    "duration": 5,
    "start_time": "2022-09-03T13:39:59.948Z"
   },
   {
    "duration": 27,
    "start_time": "2022-09-03T13:40:03.522Z"
   },
   {
    "duration": 24,
    "start_time": "2022-09-03T13:40:14.971Z"
   },
   {
    "duration": 8,
    "start_time": "2022-09-03T13:42:01.101Z"
   },
   {
    "duration": 7,
    "start_time": "2022-09-03T13:42:11.202Z"
   },
   {
    "duration": 4,
    "start_time": "2022-09-03T13:44:17.789Z"
   },
   {
    "duration": 15,
    "start_time": "2022-09-03T13:46:57.277Z"
   },
   {
    "duration": 7,
    "start_time": "2022-09-03T13:48:05.235Z"
   },
   {
    "duration": 6,
    "start_time": "2022-09-03T13:48:12.138Z"
   },
   {
    "duration": 13,
    "start_time": "2022-09-03T13:49:44.280Z"
   },
   {
    "duration": 8,
    "start_time": "2022-09-03T13:51:59.063Z"
   },
   {
    "duration": 7,
    "start_time": "2022-09-03T13:52:10.263Z"
   },
   {
    "duration": 2,
    "start_time": "2022-09-03T13:52:17.530Z"
   },
   {
    "duration": 81,
    "start_time": "2022-09-03T13:52:17.535Z"
   },
   {
    "duration": 17,
    "start_time": "2022-09-03T13:52:17.618Z"
   },
   {
    "duration": 23,
    "start_time": "2022-09-03T13:52:17.637Z"
   },
   {
    "duration": 29,
    "start_time": "2022-09-03T13:52:17.663Z"
   },
   {
    "duration": 66,
    "start_time": "2022-09-03T13:52:17.694Z"
   },
   {
    "duration": 5,
    "start_time": "2022-09-03T13:52:17.761Z"
   },
   {
    "duration": 26,
    "start_time": "2022-09-03T13:52:17.767Z"
   },
   {
    "duration": 4,
    "start_time": "2022-09-03T13:52:17.795Z"
   },
   {
    "duration": 8,
    "start_time": "2022-09-03T13:52:24.622Z"
   },
   {
    "duration": 2,
    "start_time": "2022-09-03T13:52:45.460Z"
   },
   {
    "duration": 76,
    "start_time": "2022-09-03T13:52:45.821Z"
   },
   {
    "duration": 15,
    "start_time": "2022-09-03T13:52:47.082Z"
   },
   {
    "duration": 24,
    "start_time": "2022-09-03T13:52:49.070Z"
   },
   {
    "duration": 11,
    "start_time": "2022-09-03T13:52:53.797Z"
   },
   {
    "duration": 68,
    "start_time": "2022-09-03T13:52:56.397Z"
   },
   {
    "duration": 3,
    "start_time": "2022-09-03T13:52:59.938Z"
   },
   {
    "duration": 8,
    "start_time": "2022-09-03T13:53:03.392Z"
   },
   {
    "duration": 4,
    "start_time": "2022-09-03T13:53:05.952Z"
   },
   {
    "duration": 14,
    "start_time": "2022-09-03T13:53:29.517Z"
   },
   {
    "duration": 7,
    "start_time": "2022-09-03T13:53:43.518Z"
   },
   {
    "duration": 10,
    "start_time": "2022-09-03T13:55:53.889Z"
   },
   {
    "duration": 12,
    "start_time": "2022-09-03T13:56:07.518Z"
   },
   {
    "duration": 17,
    "start_time": "2022-09-03T13:57:51.789Z"
   },
   {
    "duration": 9,
    "start_time": "2022-09-03T14:00:38.702Z"
   },
   {
    "duration": 9,
    "start_time": "2022-09-03T14:01:05.441Z"
   },
   {
    "duration": 10,
    "start_time": "2022-09-03T14:01:35.907Z"
   },
   {
    "duration": 11,
    "start_time": "2022-09-03T14:07:12.541Z"
   },
   {
    "duration": 75,
    "start_time": "2022-09-03T14:09:04.326Z"
   },
   {
    "duration": 79,
    "start_time": "2022-09-03T14:09:23.205Z"
   },
   {
    "duration": 6,
    "start_time": "2022-09-03T14:09:28.501Z"
   },
   {
    "duration": 5,
    "start_time": "2022-09-03T14:09:40.770Z"
   },
   {
    "duration": 9,
    "start_time": "2022-09-03T15:10:44.877Z"
   },
   {
    "duration": 8,
    "start_time": "2022-09-03T15:10:59.688Z"
   },
   {
    "duration": 9,
    "start_time": "2022-09-03T15:11:43.196Z"
   },
   {
    "duration": 12,
    "start_time": "2022-09-03T15:12:03.866Z"
   },
   {
    "duration": 17,
    "start_time": "2022-09-03T15:12:25.751Z"
   },
   {
    "duration": 3,
    "start_time": "2022-09-03T15:16:44.772Z"
   },
   {
    "duration": 75,
    "start_time": "2022-09-03T15:16:44.777Z"
   },
   {
    "duration": 16,
    "start_time": "2022-09-03T15:16:44.854Z"
   },
   {
    "duration": 22,
    "start_time": "2022-09-03T15:16:44.872Z"
   },
   {
    "duration": 10,
    "start_time": "2022-09-03T15:16:44.896Z"
   },
   {
    "duration": 83,
    "start_time": "2022-09-03T15:16:44.908Z"
   },
   {
    "duration": 4,
    "start_time": "2022-09-03T15:16:44.993Z"
   },
   {
    "duration": 19,
    "start_time": "2022-09-03T15:16:44.998Z"
   },
   {
    "duration": 24,
    "start_time": "2022-09-03T15:16:45.018Z"
   },
   {
    "duration": 19,
    "start_time": "2022-09-03T15:16:45.044Z"
   },
   {
    "duration": 15,
    "start_time": "2022-09-03T15:16:45.065Z"
   },
   {
    "duration": 12,
    "start_time": "2022-09-03T15:17:18.086Z"
   },
   {
    "duration": 7,
    "start_time": "2022-09-03T15:17:44.907Z"
   },
   {
    "duration": 6,
    "start_time": "2022-09-03T15:18:03.459Z"
   },
   {
    "duration": 10,
    "start_time": "2022-09-03T15:19:04.023Z"
   },
   {
    "duration": 10,
    "start_time": "2022-09-03T15:19:14.380Z"
   },
   {
    "duration": 11,
    "start_time": "2022-09-03T15:19:30.901Z"
   },
   {
    "duration": 9,
    "start_time": "2022-09-03T15:19:38.192Z"
   },
   {
    "duration": 10,
    "start_time": "2022-09-03T15:19:46.107Z"
   },
   {
    "duration": 72,
    "start_time": "2022-09-03T15:30:22.425Z"
   },
   {
    "duration": 132,
    "start_time": "2022-09-03T15:30:27.305Z"
   },
   {
    "duration": 18,
    "start_time": "2022-09-03T15:30:33.203Z"
   },
   {
    "duration": 11,
    "start_time": "2022-09-03T15:31:18.484Z"
   },
   {
    "duration": 12,
    "start_time": "2022-09-03T15:35:45.090Z"
   },
   {
    "duration": 2,
    "start_time": "2022-09-03T15:35:51.339Z"
   },
   {
    "duration": 84,
    "start_time": "2022-09-03T15:35:51.343Z"
   },
   {
    "duration": 21,
    "start_time": "2022-09-03T15:35:51.428Z"
   },
   {
    "duration": 42,
    "start_time": "2022-09-03T15:35:51.451Z"
   },
   {
    "duration": 27,
    "start_time": "2022-09-03T15:35:51.495Z"
   },
   {
    "duration": 89,
    "start_time": "2022-09-03T15:35:51.524Z"
   },
   {
    "duration": 3,
    "start_time": "2022-09-03T15:35:51.615Z"
   },
   {
    "duration": 19,
    "start_time": "2022-09-03T15:35:51.620Z"
   },
   {
    "duration": 22,
    "start_time": "2022-09-03T15:35:51.641Z"
   },
   {
    "duration": 37,
    "start_time": "2022-09-03T15:35:51.665Z"
   },
   {
    "duration": 11,
    "start_time": "2022-09-03T15:35:51.704Z"
   },
   {
    "duration": 2473,
    "start_time": "2022-09-03T15:35:53.164Z"
   },
   {
    "duration": 13,
    "start_time": "2022-09-03T15:37:33.107Z"
   },
   {
    "duration": 3,
    "start_time": "2022-09-03T15:37:39.679Z"
   },
   {
    "duration": 78,
    "start_time": "2022-09-03T15:37:39.684Z"
   },
   {
    "duration": 17,
    "start_time": "2022-09-03T15:37:39.763Z"
   },
   {
    "duration": 22,
    "start_time": "2022-09-03T15:37:39.783Z"
   },
   {
    "duration": 20,
    "start_time": "2022-09-03T15:37:39.807Z"
   },
   {
    "duration": 73,
    "start_time": "2022-09-03T15:37:39.829Z"
   },
   {
    "duration": 4,
    "start_time": "2022-09-03T15:37:39.903Z"
   },
   {
    "duration": 28,
    "start_time": "2022-09-03T15:37:39.909Z"
   },
   {
    "duration": 21,
    "start_time": "2022-09-03T15:37:39.939Z"
   },
   {
    "duration": 27,
    "start_time": "2022-09-03T15:37:39.962Z"
   },
   {
    "duration": 9,
    "start_time": "2022-09-03T15:37:39.992Z"
   },
   {
    "duration": 41,
    "start_time": "2022-09-03T15:37:41.144Z"
   },
   {
    "duration": 3,
    "start_time": "2022-09-03T15:43:54.657Z"
   },
   {
    "duration": 122,
    "start_time": "2022-09-03T15:43:54.662Z"
   },
   {
    "duration": 16,
    "start_time": "2022-09-03T15:43:54.786Z"
   },
   {
    "duration": 45,
    "start_time": "2022-09-03T15:43:54.803Z"
   },
   {
    "duration": 16,
    "start_time": "2022-09-03T15:43:54.851Z"
   },
   {
    "duration": 89,
    "start_time": "2022-09-03T15:43:54.869Z"
   },
   {
    "duration": 4,
    "start_time": "2022-09-03T15:43:54.960Z"
   },
   {
    "duration": 16,
    "start_time": "2022-09-03T15:43:54.965Z"
   },
   {
    "duration": 13,
    "start_time": "2022-09-03T15:43:54.982Z"
   },
   {
    "duration": 14,
    "start_time": "2022-09-03T15:43:54.997Z"
   },
   {
    "duration": 4,
    "start_time": "2022-09-03T15:43:55.013Z"
   },
   {
    "duration": 43,
    "start_time": "2022-09-03T15:43:56.384Z"
   },
   {
    "duration": 2,
    "start_time": "2022-09-03T15:44:32.463Z"
   },
   {
    "duration": 79,
    "start_time": "2022-09-03T15:44:32.467Z"
   },
   {
    "duration": 17,
    "start_time": "2022-09-03T15:44:32.548Z"
   },
   {
    "duration": 18,
    "start_time": "2022-09-03T15:44:32.567Z"
   },
   {
    "duration": 12,
    "start_time": "2022-09-03T15:44:32.587Z"
   },
   {
    "duration": 64,
    "start_time": "2022-09-03T15:44:32.601Z"
   },
   {
    "duration": 4,
    "start_time": "2022-09-03T15:44:32.667Z"
   },
   {
    "duration": 26,
    "start_time": "2022-09-03T15:44:32.672Z"
   },
   {
    "duration": 7,
    "start_time": "2022-09-03T15:44:32.700Z"
   },
   {
    "duration": 15,
    "start_time": "2022-09-03T15:44:32.709Z"
   },
   {
    "duration": 4,
    "start_time": "2022-09-03T15:44:32.726Z"
   },
   {
    "duration": 40,
    "start_time": "2022-09-03T15:45:21.427Z"
   },
   {
    "duration": 19,
    "start_time": "2022-09-03T15:46:16.271Z"
   },
   {
    "duration": 7,
    "start_time": "2022-09-03T15:48:27.922Z"
   },
   {
    "duration": 5,
    "start_time": "2022-09-03T15:49:57.765Z"
   },
   {
    "duration": 2,
    "start_time": "2022-09-03T15:50:08.505Z"
   },
   {
    "duration": 82,
    "start_time": "2022-09-03T15:50:08.509Z"
   },
   {
    "duration": 15,
    "start_time": "2022-09-03T15:50:08.593Z"
   },
   {
    "duration": 16,
    "start_time": "2022-09-03T15:50:08.610Z"
   },
   {
    "duration": 10,
    "start_time": "2022-09-03T15:50:08.628Z"
   },
   {
    "duration": 90,
    "start_time": "2022-09-03T15:50:08.639Z"
   },
   {
    "duration": 3,
    "start_time": "2022-09-03T15:50:08.731Z"
   },
   {
    "duration": 11,
    "start_time": "2022-09-03T15:50:08.736Z"
   },
   {
    "duration": 5,
    "start_time": "2022-09-03T15:50:08.748Z"
   },
   {
    "duration": 20,
    "start_time": "2022-09-03T15:50:08.754Z"
   },
   {
    "duration": 4,
    "start_time": "2022-09-03T15:50:08.793Z"
   },
   {
    "duration": 54,
    "start_time": "2022-09-03T15:50:08.799Z"
   },
   {
    "duration": 12,
    "start_time": "2022-09-03T15:50:08.854Z"
   },
   {
    "duration": 6,
    "start_time": "2022-09-03T15:51:34.385Z"
   },
   {
    "duration": 12,
    "start_time": "2022-09-03T16:00:13.617Z"
   },
   {
    "duration": 11,
    "start_time": "2022-09-03T16:00:20.245Z"
   },
   {
    "duration": 33,
    "start_time": "2022-09-03T16:00:34.738Z"
   },
   {
    "duration": 28,
    "start_time": "2022-09-03T16:00:40.540Z"
   },
   {
    "duration": 22,
    "start_time": "2022-09-03T16:00:43.583Z"
   },
   {
    "duration": 5,
    "start_time": "2022-09-03T16:02:19.842Z"
   },
   {
    "duration": 7,
    "start_time": "2022-09-03T16:02:31.783Z"
   },
   {
    "duration": 17,
    "start_time": "2022-09-03T16:03:12.894Z"
   },
   {
    "duration": 14,
    "start_time": "2022-09-03T16:03:23.283Z"
   },
   {
    "duration": 3,
    "start_time": "2022-09-03T16:04:17.389Z"
   },
   {
    "duration": 28,
    "start_time": "2022-09-03T16:04:20.024Z"
   },
   {
    "duration": 16,
    "start_time": "2022-09-03T16:04:36.777Z"
   },
   {
    "duration": 15,
    "start_time": "2022-09-03T16:06:07.627Z"
   },
   {
    "duration": 17,
    "start_time": "2022-09-03T16:06:17.942Z"
   },
   {
    "duration": 25,
    "start_time": "2022-09-03T16:06:30.979Z"
   },
   {
    "duration": 21,
    "start_time": "2022-09-03T16:06:40.582Z"
   },
   {
    "duration": 17,
    "start_time": "2022-09-03T16:07:03.071Z"
   },
   {
    "duration": 21,
    "start_time": "2022-09-03T16:07:12.002Z"
   },
   {
    "duration": 48,
    "start_time": "2022-09-03T16:08:36.734Z"
   },
   {
    "duration": 32,
    "start_time": "2022-09-03T16:10:21.125Z"
   },
   {
    "duration": 47,
    "start_time": "2022-09-03T16:10:26.580Z"
   },
   {
    "duration": 12,
    "start_time": "2022-09-03T16:12:28.737Z"
   },
   {
    "duration": 40,
    "start_time": "2022-09-03T16:12:51.971Z"
   },
   {
    "duration": 1239,
    "start_time": "2022-09-03T16:13:16.761Z"
   },
   {
    "duration": 45,
    "start_time": "2022-09-03T16:13:24.743Z"
   },
   {
    "duration": 24,
    "start_time": "2022-09-03T16:13:36.137Z"
   },
   {
    "duration": 1192,
    "start_time": "2022-09-03T16:32:31.483Z"
   },
   {
    "duration": 300,
    "start_time": "2022-09-03T16:34:38.222Z"
   },
   {
    "duration": 4,
    "start_time": "2022-09-03T16:35:02.396Z"
   },
   {
    "duration": 344,
    "start_time": "2022-09-03T16:35:02.730Z"
   },
   {
    "duration": 8,
    "start_time": "2022-09-03T16:35:42.661Z"
   },
   {
    "duration": 8,
    "start_time": "2022-09-03T16:55:17.512Z"
   },
   {
    "duration": 21,
    "start_time": "2022-09-03T16:55:51.552Z"
   },
   {
    "duration": 5,
    "start_time": "2022-09-03T17:00:24.164Z"
   },
   {
    "duration": 19,
    "start_time": "2022-09-03T17:00:25.640Z"
   },
   {
    "duration": 9,
    "start_time": "2022-09-03T17:00:42.070Z"
   },
   {
    "duration": 27,
    "start_time": "2022-09-03T17:00:42.586Z"
   },
   {
    "duration": 5,
    "start_time": "2022-09-03T17:04:18.742Z"
   },
   {
    "duration": 22,
    "start_time": "2022-09-03T17:04:19.825Z"
   },
   {
    "duration": 117,
    "start_time": "2022-09-03T17:08:08.033Z"
   },
   {
    "duration": 34,
    "start_time": "2022-09-03T17:08:10.231Z"
   },
   {
    "duration": 5,
    "start_time": "2022-09-03T17:08:23.157Z"
   },
   {
    "duration": 24,
    "start_time": "2022-09-03T17:08:24.352Z"
   },
   {
    "duration": 23,
    "start_time": "2022-09-03T17:10:02.384Z"
   },
   {
    "duration": 21,
    "start_time": "2022-09-03T17:10:03.037Z"
   },
   {
    "duration": 6,
    "start_time": "2022-09-03T17:10:55.589Z"
   },
   {
    "duration": 46,
    "start_time": "2022-09-03T17:10:56.091Z"
   },
   {
    "duration": 117,
    "start_time": "2022-09-03T17:12:00.422Z"
   },
   {
    "duration": 19,
    "start_time": "2022-09-03T17:12:00.949Z"
   },
   {
    "duration": 6,
    "start_time": "2022-09-03T17:12:19.854Z"
   },
   {
    "duration": 25,
    "start_time": "2022-09-03T17:12:21.055Z"
   },
   {
    "duration": 5,
    "start_time": "2022-09-03T17:14:07.273Z"
   },
   {
    "duration": 42,
    "start_time": "2022-09-03T17:14:07.876Z"
   },
   {
    "duration": 4,
    "start_time": "2022-09-03T17:17:16.548Z"
   },
   {
    "duration": 343,
    "start_time": "2022-09-03T17:17:17.565Z"
   },
   {
    "duration": 336,
    "start_time": "2022-09-03T17:18:09.178Z"
   },
   {
    "duration": 313,
    "start_time": "2022-09-03T17:18:26.981Z"
   },
   {
    "duration": 8,
    "start_time": "2022-09-03T17:18:48.731Z"
   },
   {
    "duration": 3,
    "start_time": "2022-09-03T17:19:45.459Z"
   },
   {
    "duration": 330,
    "start_time": "2022-09-03T17:19:45.819Z"
   },
   {
    "duration": 9,
    "start_time": "2022-09-03T17:20:03.120Z"
   },
   {
    "duration": 115,
    "start_time": "2022-09-03T17:20:03.131Z"
   },
   {
    "duration": 21,
    "start_time": "2022-09-03T17:20:03.248Z"
   },
   {
    "duration": 54,
    "start_time": "2022-09-03T17:20:03.271Z"
   },
   {
    "duration": 24,
    "start_time": "2022-09-03T17:20:03.333Z"
   },
   {
    "duration": 101,
    "start_time": "2022-09-03T17:20:03.358Z"
   },
   {
    "duration": 4,
    "start_time": "2022-09-03T17:20:03.461Z"
   },
   {
    "duration": 17,
    "start_time": "2022-09-03T17:20:03.467Z"
   },
   {
    "duration": 9,
    "start_time": "2022-09-03T17:20:03.498Z"
   },
   {
    "duration": 48,
    "start_time": "2022-09-03T17:20:03.509Z"
   },
   {
    "duration": 5,
    "start_time": "2022-09-03T17:20:03.559Z"
   },
   {
    "duration": 77,
    "start_time": "2022-09-03T17:20:03.566Z"
   },
   {
    "duration": 15,
    "start_time": "2022-09-03T17:20:03.649Z"
   },
   {
    "duration": 8,
    "start_time": "2022-09-03T17:20:03.667Z"
   },
   {
    "duration": 20,
    "start_time": "2022-09-03T17:20:03.677Z"
   },
   {
    "duration": 67,
    "start_time": "2022-09-03T17:20:03.701Z"
   },
   {
    "duration": 41,
    "start_time": "2022-09-03T17:20:03.771Z"
   },
   {
    "duration": 12,
    "start_time": "2022-09-03T17:20:03.820Z"
   },
   {
    "duration": 332,
    "start_time": "2022-09-03T17:20:03.836Z"
   },
   {
    "duration": 6,
    "start_time": "2022-09-03T17:20:04.170Z"
   },
   {
    "duration": 15,
    "start_time": "2022-09-03T17:20:46.418Z"
   },
   {
    "duration": 7,
    "start_time": "2022-09-03T17:20:55.786Z"
   },
   {
    "duration": 345,
    "start_time": "2022-09-03T17:20:56.219Z"
   },
   {
    "duration": 3,
    "start_time": "2022-09-03T17:21:20.251Z"
   },
   {
    "duration": 100,
    "start_time": "2022-09-03T17:21:20.258Z"
   },
   {
    "duration": 17,
    "start_time": "2022-09-03T17:21:20.360Z"
   },
   {
    "duration": 33,
    "start_time": "2022-09-03T17:21:20.379Z"
   },
   {
    "duration": 33,
    "start_time": "2022-09-03T17:21:20.420Z"
   },
   {
    "duration": 104,
    "start_time": "2022-09-03T17:21:20.456Z"
   },
   {
    "duration": 4,
    "start_time": "2022-09-03T17:21:20.562Z"
   },
   {
    "duration": 20,
    "start_time": "2022-09-03T17:21:20.567Z"
   },
   {
    "duration": 49,
    "start_time": "2022-09-03T17:21:20.589Z"
   },
   {
    "duration": 16,
    "start_time": "2022-09-03T17:21:20.640Z"
   },
   {
    "duration": 5,
    "start_time": "2022-09-03T17:21:20.658Z"
   },
   {
    "duration": 70,
    "start_time": "2022-09-03T17:21:20.664Z"
   },
   {
    "duration": 19,
    "start_time": "2022-09-03T17:21:20.736Z"
   },
   {
    "duration": 8,
    "start_time": "2022-09-03T17:21:20.757Z"
   },
   {
    "duration": 12,
    "start_time": "2022-09-03T17:21:20.768Z"
   },
   {
    "duration": 50,
    "start_time": "2022-09-03T17:21:20.783Z"
   },
   {
    "duration": 34,
    "start_time": "2022-09-03T17:21:20.837Z"
   },
   {
    "duration": 4,
    "start_time": "2022-09-03T17:21:20.873Z"
   },
   {
    "duration": 343,
    "start_time": "2022-09-03T17:21:20.879Z"
   },
   {
    "duration": 23,
    "start_time": "2022-09-03T17:21:21.223Z"
   },
   {
    "duration": 7,
    "start_time": "2022-09-03T17:21:24.526Z"
   },
   {
    "duration": 101,
    "start_time": "2022-09-03T17:21:24.537Z"
   },
   {
    "duration": 18,
    "start_time": "2022-09-03T17:21:24.640Z"
   },
   {
    "duration": 16,
    "start_time": "2022-09-03T17:21:24.661Z"
   },
   {
    "duration": 36,
    "start_time": "2022-09-03T17:21:24.679Z"
   },
   {
    "duration": 152,
    "start_time": "2022-09-03T17:21:24.716Z"
   },
   {
    "duration": 4,
    "start_time": "2022-09-03T17:21:24.869Z"
   },
   {
    "duration": 11,
    "start_time": "2022-09-03T17:21:24.875Z"
   },
   {
    "duration": 22,
    "start_time": "2022-09-03T17:21:24.891Z"
   },
   {
    "duration": 33,
    "start_time": "2022-09-03T17:21:24.923Z"
   },
   {
    "duration": 5,
    "start_time": "2022-09-03T17:21:24.958Z"
   },
   {
    "duration": 65,
    "start_time": "2022-09-03T17:21:24.965Z"
   },
   {
    "duration": 17,
    "start_time": "2022-09-03T17:21:25.032Z"
   },
   {
    "duration": 16,
    "start_time": "2022-09-03T17:21:25.051Z"
   },
   {
    "duration": 15,
    "start_time": "2022-09-03T17:21:25.069Z"
   },
   {
    "duration": 50,
    "start_time": "2022-09-03T17:21:25.086Z"
   },
   {
    "duration": 29,
    "start_time": "2022-09-03T17:21:25.139Z"
   },
   {
    "duration": 3,
    "start_time": "2022-09-03T17:21:25.171Z"
   },
   {
    "duration": 344,
    "start_time": "2022-09-03T17:21:25.176Z"
   },
   {
    "duration": 12,
    "start_time": "2022-09-03T17:21:25.521Z"
   },
   {
    "duration": 4,
    "start_time": "2022-09-03T17:21:33.447Z"
   },
   {
    "duration": 13,
    "start_time": "2022-09-03T17:21:42.030Z"
   },
   {
    "duration": 377,
    "start_time": "2022-09-03T17:21:42.357Z"
   },
   {
    "duration": 26,
    "start_time": "2022-09-03T17:21:58.884Z"
   },
   {
    "duration": 2,
    "start_time": "2022-09-03T17:26:43.861Z"
   },
   {
    "duration": 109,
    "start_time": "2022-09-03T17:26:43.865Z"
   },
   {
    "duration": 20,
    "start_time": "2022-09-03T17:26:43.976Z"
   },
   {
    "duration": 54,
    "start_time": "2022-09-03T17:26:44.001Z"
   },
   {
    "duration": 10,
    "start_time": "2022-09-03T17:26:44.057Z"
   },
   {
    "duration": 92,
    "start_time": "2022-09-03T17:26:44.069Z"
   },
   {
    "duration": 5,
    "start_time": "2022-09-03T17:26:44.163Z"
   },
   {
    "duration": 14,
    "start_time": "2022-09-03T17:26:44.169Z"
   },
   {
    "duration": 5,
    "start_time": "2022-09-03T17:26:44.197Z"
   },
   {
    "duration": 47,
    "start_time": "2022-09-03T17:26:44.204Z"
   },
   {
    "duration": 5,
    "start_time": "2022-09-03T17:26:44.252Z"
   },
   {
    "duration": 50,
    "start_time": "2022-09-03T17:26:44.259Z"
   },
   {
    "duration": 26,
    "start_time": "2022-09-03T17:26:44.310Z"
   },
   {
    "duration": 11,
    "start_time": "2022-09-03T17:26:44.339Z"
   },
   {
    "duration": 14,
    "start_time": "2022-09-03T17:26:44.352Z"
   },
   {
    "duration": 46,
    "start_time": "2022-09-03T17:26:44.368Z"
   },
   {
    "duration": 38,
    "start_time": "2022-09-03T17:26:44.415Z"
   },
   {
    "duration": 4,
    "start_time": "2022-09-03T17:26:44.455Z"
   },
   {
    "duration": 325,
    "start_time": "2022-09-03T17:26:44.460Z"
   },
   {
    "duration": 9,
    "start_time": "2022-09-03T17:26:44.786Z"
   },
   {
    "duration": 6,
    "start_time": "2022-09-03T17:26:55.222Z"
   },
   {
    "duration": 326,
    "start_time": "2022-09-03T17:26:56.054Z"
   }
  ],
  "colab": {
   "name": "dpp_template_part1.ipynb",
   "provenance": []
  },
  "kernelspec": {
   "display_name": "Python 3 (ipykernel)",
   "language": "python",
   "name": "python3"
  },
  "language_info": {
   "codemirror_mode": {
    "name": "ipython",
    "version": 3
   },
   "file_extension": ".py",
   "mimetype": "text/x-python",
   "name": "python",
   "nbconvert_exporter": "python",
   "pygments_lexer": "ipython3",
   "version": "3.9.5"
  },
  "toc": {
   "base_numbering": 1,
   "nav_menu": {},
   "number_sections": true,
   "sideBar": true,
   "skip_h1_title": true,
   "title_cell": "Table of Contents",
   "title_sidebar": "Contents",
   "toc_cell": false,
   "toc_position": {},
   "toc_section_display": true,
   "toc_window_display": false
  }
 },
 "nbformat": 4,
 "nbformat_minor": 5
}
